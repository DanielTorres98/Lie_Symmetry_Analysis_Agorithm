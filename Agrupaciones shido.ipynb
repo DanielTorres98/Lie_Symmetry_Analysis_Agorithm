{
 "cells": [
  {
   "cell_type": "code",
   "execution_count": 1,
   "id": "2fa8b141",
   "metadata": {},
   "outputs": [],
   "source": [
    "import re"
   ]
  },
  {
   "cell_type": "code",
   "execution_count": 2,
   "id": "96f5465a",
   "metadata": {},
   "outputs": [],
   "source": [
    "S='(Derivative(eta^y(x, y(x)), y(x)) - Subs(Derivative(xi^x(_xi_1, y(x)), _xi_1), _xi_1, x))*Derivative(y(x), (x, 3)) + (Derivative(eta^y(x, y(x)), (y(x), 3)) - Subs(Derivative(xi^x(_xi_1, y(x)), _xi_1, (y(x), 2)), _xi_1, x) - 2*Subs(Derivative(xi^x(x, _xi), (_xi, 2), x), _xi, y(x)))*Derivative(y(x), x)**3 + (-5*Derivative(xi^x(x, y(x)), (y(x), 2))*Derivative(y(x), x)**2 - 2*Subs(Derivative(xi^x(_xi_1, y(x)), (_xi_1, 2)), _xi_1, x) + Subs(Derivative(eta^y(_xi_1, y(x)), _xi_1, y(x)), _xi_1, x) + 2*Subs(Derivative(eta^y(x, _xi), _xi, x), _xi, y(x)))*Derivative(y(x), (x, 2)) + (Subs(Derivative(eta^y(_xi_1, y(x)), _xi_1, (y(x), 2)), _xi_1, x) + 2*Subs(Derivative(eta^y(x, _xi), (_xi, 2), x), _xi, y(x)) - 2*Subs(Derivative(xi^x(_xi_1, y(x)), (_xi_1, 2), y(x)), _xi_1, x) - Subs(Derivative(xi^x(x, _xi), _xi, (x, 2)), _xi, y(x)))*Derivative(y(x), x)**2 + (3*Derivative(eta^y(x, y(x)), (y(x), 2))*Derivative(y(x), (x, 2)) - 2*Derivative(xi^x(x, y(x)), y(x))*Derivative(y(x), (x, 3)) - 3*Derivative(y(x), (x, 2))*Subs(Derivative(xi^x(_xi_1, y(x)), _xi_1, y(x)), _xi_1, x) - 4*Derivative(y(x), (x, 2))*Subs(Derivative(xi^x(x, _xi), _xi, x), _xi, y(x)) - Subs(Derivative(xi^x(_xi_1, y(x)), (_xi_1, 3)), _xi_1, x) + 2*Subs(Derivative(eta^y(_xi_1, y(x)), (_xi_1, 2), y(x)), _xi_1, x) + Subs(Derivative(eta^y(x, _xi), _xi, (x, 2)), _xi, y(x)))*Derivative(y(x), x) - 2*Derivative(xi^x(x, y(x)), y(x))*Derivative(y(x), (x, 2))**2 - Derivative(xi^x(x, y(x)), (y(x), 3))*Derivative(y(x), x)**4 + Subs(Derivative(eta^y(_xi_1, y(x)), (_xi_1, 3)), _xi_1, x)'"
   ]
  },
  {
   "cell_type": "code",
   "execution_count": 12,
   "id": "8481f44d",
   "metadata": {},
   "outputs": [
    {
     "data": {
      "text/plain": [
       "'(Derivative(eta^y(x, y(x)), y(x)) - Subs(Derivative(xi^x(_xi_1, y(x)), _xi_1), _xi_1, x))*Derivative(y(x), (x, 3)) + (Derivative(eta^y(x, y(x)), (y(x), 3)) - Subs(Derivative(xi^x(_xi_1, y(x)), _xi_1, (y(x), 2)), _xi_1, x) - 2*Subs(Derivative(xi^x(x, _xi), (_xi, 2), x), _xi, y(x)))*Derivative(y(x), x)**3 + (-5*Derivative(xi^x(x, y(x)), (y(x), 2))*Derivative(y(x), x)**2 - 2*Subs(Derivative(xi^x(_xi_1, y(x)), (_xi_1, 2)), _xi_1, x) + Subs(Derivative(eta^y(_xi_1, y(x)), _xi_1, y(x)), _xi_1, x) + 2*Subs(Derivative(eta^y(x, _xi), _xi, x), _xi, y(x)))*Derivative(y(x), (x, 2)) + (Subs(Derivative(eta^y(_xi_1, y(x)), _xi_1, (y(x), 2)), _xi_1, x) + 2*Subs(Derivative(eta^y(x, _xi), (_xi, 2), x), _xi, y(x)) - 2*Subs(Derivative(xi^x(_xi_1, y(x)), (_xi_1, 2), y(x)), _xi_1, x) - Subs(Derivative(xi^x(x, _xi), _xi, (x, 2)), _xi, y(x)))*Derivative(y(x), x)**2 + (3*Derivative(eta^y(x, y(x)), (y(x), 2))*Derivative(y(x), (x, 2)) - 2*Derivative(xi^x(x, y(x)), y(x))*Derivative(y(x), (x, 3)) - 3*Derivative(y(x), (x, 2))*Subs(Derivative(xi^x(_xi_1, y(x)), _xi_1, y(x)), _xi_1, x) - 4*Derivative(y(x), (x, 2))*Subs(Derivative(xi^x(x, _xi), _xi, x), _xi, y(x)) - Subs(Derivative(xi^x(_xi_1, y(x)), (_xi_1, 3)), _xi_1, x) + 2*Subs(Derivative(eta^y(_xi_1, y(x)), (_xi_1, 2), y(x)), _xi_1, x) + Subs(Derivative(eta^y(x, _xi), _xi, (x, 2)), _xi, y(x)))*Derivative(y(x), x) - 2*Derivative(xi^x(x, y(x)), y(x))*Derivative(y(x), (x, 2))**2 - Derivative(xi^x(x, y(x)), (y(x), 3))*Derivative(y(x), x)**4 + Subs(Derivative(eta^y(_xi_1, y(x)), (_xi_1, 3)), _xi_1, x)'"
      ]
     },
     "execution_count": 12,
     "metadata": {},
     "output_type": "execute_result"
    }
   ],
   "source": [
    "S"
   ]
  },
  {
   "cell_type": "code",
   "execution_count": 2,
   "id": "39d43798",
   "metadata": {},
   "outputs": [
    {
     "ename": "NameError",
     "evalue": "name 'S' is not defined",
     "output_type": "error",
     "traceback": [
      "\u001b[1;31m---------------------------------------------------------------------------\u001b[0m",
      "\u001b[1;31mNameError\u001b[0m                                 Traceback (most recent call last)",
      "\u001b[1;32m<ipython-input-2-65b770b51bc9>\u001b[0m in \u001b[0;36m<module>\u001b[1;34m\u001b[0m\n\u001b[0;32m      1\u001b[0m \u001b[1;31m#Esta función encuentra todos los términos que no contienen infinitesimales\u001b[0m\u001b[1;33m\u001b[0m\u001b[1;33m\u001b[0m\u001b[1;33m\u001b[0m\u001b[0m\n\u001b[1;32m----> 2\u001b[1;33m \u001b[0mS_no_space\u001b[0m\u001b[1;33m=\u001b[0m\u001b[0mS\u001b[0m\u001b[1;33m.\u001b[0m\u001b[0mreplace\u001b[0m\u001b[1;33m(\u001b[0m\u001b[1;34m' '\u001b[0m\u001b[1;33m,\u001b[0m \u001b[1;34m''\u001b[0m\u001b[1;33m)\u001b[0m\u001b[1;33m\u001b[0m\u001b[1;33m\u001b[0m\u001b[0m\n\u001b[0m\u001b[0;32m      3\u001b[0m \u001b[1;31m#keys=re.findall('Derivative\\([^(eta)(xi)][\\w\\s\\(,\\)\\^]*',S_no_space)\u001b[0m\u001b[1;33m\u001b[0m\u001b[1;33m\u001b[0m\u001b[1;33m\u001b[0m\u001b[0m\n\u001b[0;32m      4\u001b[0m \u001b[0mkeys\u001b[0m\u001b[1;33m=\u001b[0m\u001b[0mre\u001b[0m\u001b[1;33m.\u001b[0m\u001b[0mfindall\u001b[0m\u001b[1;33m(\u001b[0m\u001b[1;34m'Derivative\\([^(eta)(xi)][\\w\\s\\(,\\)\\^]*\\**\\d*'\u001b[0m\u001b[1;33m,\u001b[0m\u001b[0mS_no_space\u001b[0m\u001b[1;33m)\u001b[0m\u001b[1;33m\u001b[0m\u001b[1;33m\u001b[0m\u001b[0m\n\u001b[0;32m      5\u001b[0m \u001b[1;31m#Buscamos un patrón que empiece con Derivative y sea seguido de un paréntesis\u001b[0m\u001b[1;33m\u001b[0m\u001b[1;33m\u001b[0m\u001b[1;33m\u001b[0m\u001b[0m\n",
      "\u001b[1;31mNameError\u001b[0m: name 'S' is not defined"
     ]
    }
   ],
   "source": [
    "#Esta función encuentra todos los términos que no contienen infinitesimales\n",
    "S_no_space=S.replace(' ', '')\n",
    "#keys=re.findall('Derivative\\([^(eta)(xi)][\\w\\s\\(,\\)\\^]*',S_no_space)\n",
    "keys=re.findall('Derivative\\([^(eta)(xi)][\\w\\s\\(,\\)\\^]*\\**\\d*',S_no_space)\n",
    "#Buscamos un patrón que empiece con Derivative y sea seguido de un paréntesis\n",
    "#Excluimos las palabras eta y xi\n",
    "#Permitimos que siga cualquier carater, espacio, paréntesis o circuflex, cualquier número de veces\n",
    "print(keys)"
   ]
  },
  {
   "cell_type": "code",
   "execution_count": 4,
   "id": "1d3cd65a",
   "metadata": {},
   "outputs": [],
   "source": [
    "def unique(list1):\n",
    " \n",
    "    # initialize a null list\n",
    "    unique_list = []\n",
    "    # traverse for all elements\n",
    "    for x in list1:\n",
    "        # check if exists in unique_list or not\n",
    "        if x not in unique_list:\n",
    "            unique_list.append(x)\n",
    "    return unique_list"
   ]
  },
  {
   "cell_type": "code",
   "execution_count": 25,
   "id": "6d4616a8",
   "metadata": {},
   "outputs": [
    {
     "name": "stdout",
     "output_type": "stream",
     "text": [
      "['Derivative(y(x),(x,3))', 'Derivative(y(x),x)', 'Derivative(y(x),(x,2))']\n"
     ]
    }
   ],
   "source": [
    "keys=unique(keys)#Encontramos las keys únicas\n",
    "print(keys)"
   ]
  },
  {
   "cell_type": "code",
   "execution_count": 6,
   "id": "62064f7b",
   "metadata": {},
   "outputs": [
    {
     "name": "stdout",
     "output_type": "stream",
     "text": [
      "[['(Derivative(eta^y(x,y(x)),y(x))', '-Subs(Derivative(xi^x(_xi_1,y(x)),_xi_1),_xi_1,x))*Derivative(y(x),(x,3))'], ['(Derivative(eta^y(x,y(x)),(y(x),3))', '-Subs(Derivative(xi^x(_xi_1,y(x)),_xi_1,(y(x),2)),_xi_1,x)', '-2*Subs(Derivative(xi^x(x,_xi),(_xi,2),x),_xi,y(x)))*Derivative(y(x),x)**3'], ['(', '-5*Derivative(xi^x(x,y(x)),(y(x),2))*Derivative(y(x),x)**2', '-2*Subs(Derivative(xi^x(_xi_1,y(x)),(_xi_1,2)),_xi_1,x)'], ['Subs(Derivative(eta^y(_xi_1,y(x)),_xi_1,y(x)),_xi_1,x)'], ['2*Subs(Derivative(eta^y(x,_xi),_xi,x),_xi,y(x)))*Derivative(y(x),(x,2))'], ['(Subs(Derivative(eta^y(_xi_1,y(x)),_xi_1,(y(x),2)),_xi_1,x)'], ['2*Subs(Derivative(eta^y(x,_xi),(_xi,2),x),_xi,y(x))', '-2*Subs(Derivative(xi^x(_xi_1,y(x)),(_xi_1,2),y(x)),_xi_1,x)', '-Subs(Derivative(xi^x(x,_xi),_xi,(x,2)),_xi,y(x)))*Derivative(y(x),x)**2'], ['(3*Derivative(eta^y(x,y(x)),(y(x),2))*Derivative(y(x),(x,2))', '-2*Derivative(xi^x(x,y(x)),y(x))*Derivative(y(x),(x,3))', '-3*Derivative(y(x),(x,2))*Subs(Derivative(xi^x(_xi_1,y(x)),_xi_1,y(x)),_xi_1,x)', '-4*Derivative(y(x),(x,2))*Subs(Derivative(xi^x(x,_xi),_xi,x),_xi,y(x))', '-Subs(Derivative(xi^x(_xi_1,y(x)),(_xi_1,3)),_xi_1,x)'], ['2*Subs(Derivative(eta^y(_xi_1,y(x)),(_xi_1,2),y(x)),_xi_1,x)'], ['Subs(Derivative(eta^y(x,_xi),_xi,(x,2)),_xi,y(x)))*Derivative(y(x),x)', '-2*Derivative(xi^x(x,y(x)),y(x))*Derivative(y(x),(x,2))**2', '-Derivative(xi^x(x,y(x)),(y(x),3))*Derivative(y(x),x)**4'], ['Subs(Derivative(eta^y(_xi_1,y(x)),(_xi_1,3)),_xi_1,x)']]\n"
     ]
    }
   ],
   "source": [
    "#Aquí separamos el string según los signos más +\n",
    "L=[]#L es la lista donde se guardarán los términos\n",
    "S_no_space=S.replace(' ', '')#Suprimimos los espacios en S, que es el string largote de derivadas y demás\n",
    "elements=S_no_space.split(\"+\")\n",
    "for element in elements:#En cada elemento de la lista, reemplazamos\n",
    "    element=element.replace('-','ñ-')#el signo menos - con ñ-\n",
    "    L.append(element.split(\"ñ\"))#Separamos según ñ\n",
    "print(L)"
   ]
  },
  {
   "cell_type": "code",
   "execution_count": 7,
   "id": "e1cafedb",
   "metadata": {},
   "outputs": [
    {
     "name": "stdout",
     "output_type": "stream",
     "text": [
      "['(Derivative(eta^y(x,y(x)),y(x))', '-Subs(Derivative(xi^x(_xi_1,y(x)),_xi_1),_xi_1,x))*Derivative(y(x),(x,3))', '(Derivative(eta^y(x,y(x)),(y(x),3))', '-Subs(Derivative(xi^x(_xi_1,y(x)),_xi_1,(y(x),2)),_xi_1,x)', '-2*Subs(Derivative(xi^x(x,_xi),(_xi,2),x),_xi,y(x)))*Derivative(y(x),x)**3', '(', '-5*Derivative(xi^x(x,y(x)),(y(x),2))*Derivative(y(x),x)**2', '-2*Subs(Derivative(xi^x(_xi_1,y(x)),(_xi_1,2)),_xi_1,x)', 'Subs(Derivative(eta^y(_xi_1,y(x)),_xi_1,y(x)),_xi_1,x)', '2*Subs(Derivative(eta^y(x,_xi),_xi,x),_xi,y(x)))*Derivative(y(x),(x,2))', '(Subs(Derivative(eta^y(_xi_1,y(x)),_xi_1,(y(x),2)),_xi_1,x)', '2*Subs(Derivative(eta^y(x,_xi),(_xi,2),x),_xi,y(x))', '-2*Subs(Derivative(xi^x(_xi_1,y(x)),(_xi_1,2),y(x)),_xi_1,x)', '-Subs(Derivative(xi^x(x,_xi),_xi,(x,2)),_xi,y(x)))*Derivative(y(x),x)**2', '(3*Derivative(eta^y(x,y(x)),(y(x),2))*Derivative(y(x),(x,2))', '-2*Derivative(xi^x(x,y(x)),y(x))*Derivative(y(x),(x,3))', '-3*Derivative(y(x),(x,2))*Subs(Derivative(xi^x(_xi_1,y(x)),_xi_1,y(x)),_xi_1,x)', '-4*Derivative(y(x),(x,2))*Subs(Derivative(xi^x(x,_xi),_xi,x),_xi,y(x))', '-Subs(Derivative(xi^x(_xi_1,y(x)),(_xi_1,3)),_xi_1,x)', '2*Subs(Derivative(eta^y(_xi_1,y(x)),(_xi_1,2),y(x)),_xi_1,x)', 'Subs(Derivative(eta^y(x,_xi),_xi,(x,2)),_xi,y(x)))*Derivative(y(x),x)', '-2*Derivative(xi^x(x,y(x)),y(x))*Derivative(y(x),(x,2))**2', '-Derivative(xi^x(x,y(x)),(y(x),3))*Derivative(y(x),x)**4', 'Subs(Derivative(eta^y(_xi_1,y(x)),(_xi_1,3)),_xi_1,x)']\n"
     ]
    }
   ],
   "source": [
    "flatten_list = []#Hacemos que la lista de listas sea una sola lista de términos\n",
    " \n",
    "for subl in L:\n",
    "    for item in subl:\n",
    "        flatten_list.append(item)\n",
    " \n",
    "print(flatten_list)"
   ]
  },
  {
   "cell_type": "code",
   "execution_count": 8,
   "id": "f4f7f31a",
   "metadata": {},
   "outputs": [
    {
     "name": "stdout",
     "output_type": "stream",
     "text": [
      "{'Derivative(y(x),(x,3))': '-Subs(Derivative(xi^x(_xi_1,y(x)),_xi_1),_xi_1,x))*Derivative(y(x),(x,3))-2*Derivative(xi^x(x,y(x)),y(x))*Derivative(y(x),(x,3))', 'Derivative(y(x),x)': '-2*Subs(Derivative(xi^x(x,_xi),(_xi,2),x),_xi,y(x)))*Derivative(y(x),x)**3-5*Derivative(xi^x(x,y(x)),(y(x),2))*Derivative(y(x),x)**2-Subs(Derivative(xi^x(x,_xi),_xi,(x,2)),_xi,y(x)))*Derivative(y(x),x)**2Subs(Derivative(eta^y(x,_xi),_xi,(x,2)),_xi,y(x)))*Derivative(y(x),x)-Derivative(xi^x(x,y(x)),(y(x),3))*Derivative(y(x),x)**4', 'Derivative(y(x),(x,2))': '2*Subs(Derivative(eta^y(x,_xi),_xi,x),_xi,y(x)))*Derivative(y(x),(x,2))(3*Derivative(eta^y(x,y(x)),(y(x),2))*Derivative(y(x),(x,2))-3*Derivative(y(x),(x,2))*Subs(Derivative(xi^x(_xi_1,y(x)),_xi_1,y(x)),_xi_1,x)-4*Derivative(y(x),(x,2))*Subs(Derivative(xi^x(x,_xi),_xi,x),_xi,y(x))-2*Derivative(xi^x(x,y(x)),y(x))*Derivative(y(x),(x,2))**2'}\n"
     ]
    }
   ],
   "source": [
    "terms={}\n",
    "terms[keys[0]]=''\n",
    "terms[keys[1]]=''\n",
    "terms[keys[2]]=''\n",
    "for element in flatten_list:\n",
    "    if keys[0] in element:\n",
    "        terms[keys[0]]=terms[keys[0]]+element\n",
    "    if keys[1] in element:\n",
    "        terms[keys[1]]=terms[keys[1]]+element\n",
    "    if keys[2] in element:\n",
    "        terms[keys[2]]=terms[keys[2]]+element\n",
    "print(terms)"
   ]
  },
  {
   "cell_type": "code",
   "execution_count": 9,
   "id": "9e9c8851",
   "metadata": {},
   "outputs": [
    {
     "data": {
      "text/plain": [
       "'-Subs(Derivative(xi^x(_xi_1,y(x)),_xi_1),_xi_1,x))*Derivative(y(x),(x,3))-2*Derivative(xi^x(x,y(x)),y(x))*Derivative(y(x),(x,3))'"
      ]
     },
     "execution_count": 9,
     "metadata": {},
     "output_type": "execute_result"
    }
   ],
   "source": [
    "terms[keys[0]]#Términos donde aparece la tercera derivada de y con respecto a x"
   ]
  },
  {
   "cell_type": "code",
   "execution_count": 19,
   "id": "e6fbc47e",
   "metadata": {},
   "outputs": [
    {
     "data": {
      "text/plain": [
       "'-Subs(Derivative(xi^x(_xi_1,y(x)),_xi_1),_xi_1,x))*1-2*Derivative(xi^x(x,y(x)),y(x))*1'"
      ]
     },
     "execution_count": 19,
     "metadata": {},
     "output_type": "execute_result"
    }
   ],
   "source": [
    "terms[keys[0]].replace(keys[0],'1')#Esos mismos términos ya sin la derivada. Creo que esto sería ya una ecuación determinante"
   ]
  },
  {
   "cell_type": "code",
   "execution_count": 13,
   "id": "77e74c13",
   "metadata": {},
   "outputs": [
    {
     "data": {
      "text/plain": [
       "'Derivative(y(x),(x,3))'"
      ]
     },
     "execution_count": 13,
     "metadata": {},
     "output_type": "execute_result"
    }
   ],
   "source": [
    "keys[0]"
   ]
  },
  {
   "cell_type": "code",
   "execution_count": 10,
   "id": "34e80eae",
   "metadata": {},
   "outputs": [
    {
     "data": {
      "text/plain": [
       "'-2*Subs(Derivative(xi^x(x,_xi),(_xi,2),x),_xi,y(x)))*Derivative(y(x),x)**3-5*Derivative(xi^x(x,y(x)),(y(x),2))*Derivative(y(x),x)**2-Subs(Derivative(xi^x(x,_xi),_xi,(x,2)),_xi,y(x)))*Derivative(y(x),x)**2Subs(Derivative(eta^y(x,_xi),_xi,(x,2)),_xi,y(x)))*Derivative(y(x),x)-Derivative(xi^x(x,y(x)),(y(x),3))*Derivative(y(x),x)**4'"
      ]
     },
     "execution_count": 10,
     "metadata": {},
     "output_type": "execute_result"
    }
   ],
   "source": [
    "terms[keys[1]]#Términos donde aparece la primera derivada de y con respecto a x"
   ]
  },
  {
   "cell_type": "code",
   "execution_count": 20,
   "id": "03b10a54",
   "metadata": {},
   "outputs": [
    {
     "data": {
      "text/plain": [
       "'-2*Subs(Derivative(xi^x(x,_xi),(_xi,2),x),_xi,y(x)))*1**3-5*Derivative(xi^x(x,y(x)),(y(x),2))*1**2-Subs(Derivative(xi^x(x,_xi),_xi,(x,2)),_xi,y(x)))*1**2Subs(Derivative(eta^y(x,_xi),_xi,(x,2)),_xi,y(x)))*1-Derivative(xi^x(x,y(x)),(y(x),3))*1**4'"
      ]
     },
     "execution_count": 20,
     "metadata": {},
     "output_type": "execute_result"
    }
   ],
   "source": [
    "terms[keys[1]].replace(keys[1],'1')#Creo que esto sería otra ecuación determinante"
   ]
  },
  {
   "cell_type": "code",
   "execution_count": 14,
   "id": "08153782",
   "metadata": {},
   "outputs": [
    {
     "data": {
      "text/plain": [
       "'Derivative(y(x),x)'"
      ]
     },
     "execution_count": 14,
     "metadata": {},
     "output_type": "execute_result"
    }
   ],
   "source": [
    "keys[1]"
   ]
  },
  {
   "cell_type": "code",
   "execution_count": 11,
   "id": "ae0e12da",
   "metadata": {},
   "outputs": [
    {
     "data": {
      "text/plain": [
       "'2*Subs(Derivative(eta^y(x,_xi),_xi,x),_xi,y(x)))*Derivative(y(x),(x,2))(3*Derivative(eta^y(x,y(x)),(y(x),2))*Derivative(y(x),(x,2))-3*Derivative(y(x),(x,2))*Subs(Derivative(xi^x(_xi_1,y(x)),_xi_1,y(x)),_xi_1,x)-4*Derivative(y(x),(x,2))*Subs(Derivative(xi^x(x,_xi),_xi,x),_xi,y(x))-2*Derivative(xi^x(x,y(x)),y(x))*Derivative(y(x),(x,2))**2'"
      ]
     },
     "execution_count": 11,
     "metadata": {},
     "output_type": "execute_result"
    }
   ],
   "source": [
    "terms[keys[2]]#Términos donde aparece la segunda derivada de y con respecto a x"
   ]
  },
  {
   "cell_type": "code",
   "execution_count": 21,
   "id": "ed804a8d",
   "metadata": {},
   "outputs": [
    {
     "data": {
      "text/plain": [
       "'2*Subs(Derivative(eta^y(x,_xi),_xi,x),_xi,y(x)))*1(3*Derivative(eta^y(x,y(x)),(y(x),2))*1-3*1*Subs(Derivative(xi^x(_xi_1,y(x)),_xi_1,y(x)),_xi_1,x)-4*1*Subs(Derivative(xi^x(x,_xi),_xi,x),_xi,y(x))-2*Derivative(xi^x(x,y(x)),y(x))*1**2'"
      ]
     },
     "execution_count": 21,
     "metadata": {},
     "output_type": "execute_result"
    }
   ],
   "source": [
    "terms[keys[2]].replace(keys[2],'1')#Creo que esto sería la última ecuación determinante"
   ]
  },
  {
   "cell_type": "code",
   "execution_count": 15,
   "id": "27a57f40",
   "metadata": {},
   "outputs": [
    {
     "data": {
      "text/plain": [
       "'Derivative(y(x),(x,2))'"
      ]
     },
     "execution_count": 15,
     "metadata": {},
     "output_type": "execute_result"
    }
   ],
   "source": [
    "keys[2]"
   ]
  },
  {
   "cell_type": "code",
   "execution_count": null,
   "id": "66a38383",
   "metadata": {},
   "outputs": [],
   "source": []
  }
 ],
 "metadata": {
  "kernelspec": {
   "display_name": "Python 3",
   "language": "python",
   "name": "python3"
  },
  "language_info": {
   "codemirror_mode": {
    "name": "ipython",
    "version": 3
   },
   "file_extension": ".py",
   "mimetype": "text/x-python",
   "name": "python",
   "nbconvert_exporter": "python",
   "pygments_lexer": "ipython3",
   "version": "3.8.8"
  }
 },
 "nbformat": 4,
 "nbformat_minor": 5
}
