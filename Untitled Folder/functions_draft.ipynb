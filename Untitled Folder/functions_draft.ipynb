{
 "cells": [
  {
   "cell_type": "code",
   "execution_count": 1,
   "id": "a8385474",
   "metadata": {},
   "outputs": [],
   "source": [
    "from sympy import *"
   ]
  },
  {
   "cell_type": "code",
   "execution_count": 28,
   "id": "ecee7657",
   "metadata": {},
   "outputs": [],
   "source": [
    "x = symbols('x')\n",
    "y = Function('y')(x)\n",
    "xi = Function('xi')(x,y)\n",
    "eta = Function('eta')(x,y)"
   ]
  },
  {
   "cell_type": "code",
   "execution_count": 21,
   "id": "5c5fb241",
   "metadata": {},
   "outputs": [
    {
     "data": {
      "text/latex": [
       "$\\displaystyle \\frac{d^{2}}{d x^{2}} \\xi{\\left(x,y{\\left(x \\right)} \\right)}$"
      ],
      "text/plain": [
       "Derivative(xi(x, y(x)), (x, 2))"
      ]
     },
     "execution_count": 21,
     "metadata": {},
     "output_type": "execute_result"
    }
   ],
   "source": [
    "Derivative(xi,x,2) ## partial derivative"
   ]
  },
  {
   "cell_type": "code",
   "execution_count": 26,
   "id": "44aa3420",
   "metadata": {},
   "outputs": [
    {
     "data": {
      "text/latex": [
       "$\\displaystyle \\left(\\frac{d^{2}}{d y{\\left(x \\right)}^{2}} \\xi{\\left(x,y{\\left(x \\right)} \\right)} \\frac{d}{d x} y{\\left(x \\right)} + \\left. \\frac{\\partial^{2}}{\\partial x\\partial \\xi} \\xi{\\left(x,\\xi \\right)} \\right|_{\\substack{ \\xi=y{\\left(x \\right)} }}\\right) \\frac{d}{d x} y{\\left(x \\right)} + \\frac{d}{d y{\\left(x \\right)}} \\xi{\\left(x,y{\\left(x \\right)} \\right)} \\frac{d^{2}}{d x^{2}} y{\\left(x \\right)} + \\frac{d}{d x} y{\\left(x \\right)} \\left. \\frac{\\partial^{2}}{\\partial y{\\left(x \\right)}\\partial \\xi_{1}} \\xi{\\left(\\xi_{1},y{\\left(x \\right)} \\right)} \\right|_{\\substack{ \\xi_{1}=x }} + \\left. \\frac{\\partial^{2}}{\\partial \\xi_{1}^{2}} \\xi{\\left(\\xi_{1},y{\\left(x \\right)} \\right)} \\right|_{\\substack{ \\xi_{1}=x }}$"
      ],
      "text/plain": [
       "(Derivative(xi(x, y(x)), (y(x), 2))*Derivative(y(x), x) + Subs(Derivative(xi(x, _xi), _xi, x), _xi, y(x)))*Derivative(y(x), x) + Derivative(xi(x, y(x)), y(x))*Derivative(y(x), (x, 2)) + Derivative(y(x), x)*Subs(Derivative(xi(_xi_1, y(x)), _xi_1, y(x)), _xi_1, x) + Subs(Derivative(xi(_xi_1, y(x)), (_xi_1, 2)), _xi_1, x)"
      ]
     },
     "execution_count": 26,
     "metadata": {},
     "output_type": "execute_result"
    }
   ],
   "source": [
    "diff(xi,x,2) ## total partial derivative"
   ]
  },
  {
   "cell_type": "code",
   "execution_count": null,
   "id": "5e34d045",
   "metadata": {},
   "outputs": [],
   "source": [
    "f = "
   ]
  },
  {
   "cell_type": "code",
   "execution_count": null,
   "id": "730b87bd",
   "metadata": {},
   "outputs": [],
   "source": [
    "class Var:\n",
    "    def __init__(self, var, derivatives):\n",
    "    self.v = var\n",
    "    self.d = derivatives"
   ]
  }
 ],
 "metadata": {
  "kernelspec": {
   "display_name": "Python 3",
   "language": "python",
   "name": "python3"
  },
  "language_info": {
   "codemirror_mode": {
    "name": "ipython",
    "version": 3
   },
   "file_extension": ".py",
   "mimetype": "text/x-python",
   "name": "python",
   "nbconvert_exporter": "python",
   "pygments_lexer": "ipython3",
   "version": "3.8.8"
  }
 },
 "nbformat": 4,
 "nbformat_minor": 5
}
