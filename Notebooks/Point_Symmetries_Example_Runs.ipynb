{
 "cells": [
  {
   "cell_type": "code",
   "execution_count": 2,
   "id": "b31bfe4a",
   "metadata": {},
   "outputs": [],
   "source": [
    "%load_ext autoreload\n",
    "%autoreload 2"
   ]
  },
  {
   "cell_type": "code",
   "execution_count": 3,
   "id": "07909fe5",
   "metadata": {},
   "outputs": [],
   "source": [
    "import sys\n",
    "sys.path.append('/Users/carlalopez/documents/Lie_Symmetry_Analysis_Agorithm/src')"
   ]
  },
  {
   "cell_type": "code",
   "execution_count": 4,
   "id": "a970b979",
   "metadata": {},
   "outputs": [],
   "source": [
    "from symmetries.analysis.lie_symmetry_analysis import point_symmetries\n",
    "from symmetries.utils.symbolic import sym_det_eqn\n",
    "\n",
    "from symmetries.objects.general_form import GeneralForm\n",
    "import sympy as sp\n",
    "from sympy import Derivative as D"
   ]
  },
  {
   "cell_type": "markdown",
   "metadata": {},
   "source": [
    "# One equation of Hall MHD "
   ]
  },
  {
   "cell_type": "code",
   "execution_count": 2,
   "metadata": {},
   "outputs": [
    {
     "data": {
      "text/latex": [
       "$\\displaystyle - \\gamma \\frac{\\partial^{2}}{\\partial x^{2}} b{\\left(x,y,z,t \\right)} - \\gamma \\frac{\\partial^{2}}{\\partial y^{2}} b{\\left(x,y,z,t \\right)} + \\sigma \\frac{\\partial}{\\partial x} \\psi{\\left(x,y,z,t \\right)} \\frac{\\partial^{3}}{\\partial y^{3}} \\psi{\\left(x,y,z,t \\right)} + \\sigma \\frac{\\partial}{\\partial x} \\psi{\\left(x,y,z,t \\right)} \\frac{\\partial^{3}}{\\partial y\\partial x^{2}} \\psi{\\left(x,y,z,t \\right)} - \\sigma \\frac{\\partial^{3}}{\\partial x^{3}} \\psi{\\left(x,y,z,t \\right)} \\frac{\\partial}{\\partial y} \\psi{\\left(x,y,z,t \\right)} - \\sigma \\frac{\\partial}{\\partial y} \\psi{\\left(x,y,z,t \\right)} \\frac{\\partial^{3}}{\\partial x\\partial y^{2}} \\psi{\\left(x,y,z,t \\right)} + \\frac{\\partial}{\\partial t} b{\\left(x,y,z,t \\right)} + \\frac{\\partial}{\\partial x} b{\\left(x,y,z,t \\right)} \\frac{\\partial}{\\partial y} \\phi{\\left(x,y,z,t \\right)} - \\frac{\\partial}{\\partial y} b{\\left(x,y,z,t \\right)} \\frac{\\partial}{\\partial x} \\phi{\\left(x,y,z,t \\right)} + \\frac{\\partial}{\\partial x} \\psi{\\left(x,y,z,t \\right)} \\frac{\\partial}{\\partial y} w{\\left(x,y,z,t \\right)} - \\frac{\\partial}{\\partial y} \\psi{\\left(x,y,z,t \\right)} \\frac{\\partial}{\\partial x} w{\\left(x,y,z,t \\right)}$"
      ],
      "text/plain": [
       "-gamma*Derivative(b(x, y, z, t), (x, 2)) - gamma*Derivative(b(x, y, z, t), (y, 2)) + sigma*Derivative(psi(x, y, z, t), x)*Derivative(psi(x, y, z, t), (y, 3)) + sigma*Derivative(psi(x, y, z, t), x)*Derivative(psi(x, y, z, t), (x, 2), y) - sigma*Derivative(psi(x, y, z, t), (x, 3))*Derivative(psi(x, y, z, t), y) - sigma*Derivative(psi(x, y, z, t), y)*Derivative(psi(x, y, z, t), (y, 2), x) + Derivative(b(x, y, z, t), t) + Derivative(b(x, y, z, t), x)*Derivative(phi(x, y, z, t), y) - Derivative(b(x, y, z, t), y)*Derivative(phi(x, y, z, t), x) + Derivative(psi(x, y, z, t), x)*Derivative(w(x, y, z, t), y) - Derivative(psi(x, y, z, t), y)*Derivative(w(x, y, z, t), x)"
      ]
     },
     "execution_count": 2,
     "metadata": {},
     "output_type": "execute_result"
    }
   ],
   "source": [
    "x, y, z, t = sp.symbols('x y z t')\n",
    "\n",
    "phi = sp.Function('phi')(x, y, z, t)\n",
    "psi = sp.Function('psi')(x, y, z, t)\n",
    "b = sp.Function('b')(x, y, z, t)\n",
    "w = sp.Function('w')(x, y, z, t)\n",
    "\n",
    "sigma, gamma = sp.symbols('sigma gamma')\n",
    "\n",
    "list_indep = [x, y, z, t]\n",
    "list_dep = [phi, psi, b, w]\n",
    "list_cte = [sigma, gamma]\n",
    "\n",
    "F =  D(b, t) + D(b, x)*D(phi, y) - D(b, y)*D(phi, x) + sigma*(D(psi, x)*(D(psi, x, x, y) + D(psi, y, y, y))-\n",
    "        D(psi, y)*(D(psi, x, x, x) + D(psi, y, y, x))) + D(psi, x)*D(w, y) - D(psi, y)*D(w, x) - gamma*(D(b,x,x) + D(b, y, y))\n",
    "\n",
    "F_rules_array = {D(psi, x, x, y): \n",
    "        - (sigma*D(psi, x))**(-1)*(D(b, t) + D(b, x)*D(phi, y) - D(b, y)*D(phi, x) \n",
    "        + D(psi, x)*D(w, y) - D(psi, y)*D(w, x) \n",
    "        - gamma*(D(b,x,x) + D(b, y, y)))\n",
    "        +(D(psi, x))**(-1)*D(psi, y)*(D(psi, x, x, x) + D(psi, y, y, x))\n",
    "        - D(psi, y, y, y)}\n",
    "\n",
    "order = 3\n",
    "F.expand()"
   ]
  },
  {
   "cell_type": "markdown",
   "metadata": {},
   "source": [
    "# Heat Equation"
   ]
  },
  {
   "cell_type": "code",
   "execution_count": 6,
   "metadata": {},
   "outputs": [
    {
     "data": {
      "text/latex": [
       "$\\displaystyle - k \\frac{\\partial^{2}}{\\partial x^{2}} u{\\left(x,t \\right)} + \\frac{\\partial}{\\partial t} u{\\left(x,t \\right)}$"
      ],
      "text/plain": [
       "-k*Derivative(u(x, t), (x, 2)) + Derivative(u(x, t), t)"
      ]
     },
     "execution_count": 6,
     "metadata": {},
     "output_type": "execute_result"
    }
   ],
   "source": [
    "x, t, k = sp.symbols('x t k')\n",
    "u = sp.Function('u')(x, t)\n",
    "independent_variables = [x, t]\n",
    "dependent_variables = [u]\n",
    "constants = [k]\n",
    "F =  D(u,t) - k*D(u,x,x)\n",
    "F_rules_array = {D(u,x,x):1/k*D(u,t)}\n",
    "order = 2\n",
    "F.expand()"
   ]
  },
  {
   "cell_type": "code",
   "execution_count": 5,
   "metadata": {},
   "outputs": [],
   "source": [
    "model, system_of_equations = point_symmetries(F, order, F_rules_array, independent_variables, dependent_variables, constants)"
   ]
  },
  {
   "cell_type": "code",
   "execution_count": 7,
   "id": "a798aebb",
   "metadata": {},
   "outputs": [
    {
     "name": "stdout",
     "output_type": "stream",
     "text": [
      "general form: {'xi': {'x': [x, t, u(x, t)], 't': [x, t, u(x, t)]}, 'eta': {'u': [x, t, u(x, t)]}}\n",
      "already deleted: {}\n"
     ]
    },
    {
     "data": {
      "text/latex": [
       "$\\displaystyle \\left[\\begin{matrix}0 & \\xi^{(t)}_{u u} = 0\\\\1 & \\xi^{(x)}_{u u} = 0\\\\2 & \\xi^{(t)}_{u} = 0\\\\3 & - \\eta^{(u)}_{u u} k + 2 k \\xi^{(x)}_{x u} = 0\\\\4 & 2 k \\xi^{(t)}_{x u} + 2 \\xi^{(x)}_{u} = 0\\\\5 & \\xi^{(t)}_{x} = 0\\\\6 & k \\xi^{(t)}_{x x} - \\xi^{(t)}_{t} + 2 \\xi^{(x)}_{x} = 0\\\\7 & - 2 \\eta^{(u)}_{x u} k + k \\xi^{(x)}_{x x} - \\xi^{(x)}_{t} = 0\\\\8 & \\eta^{(u)}_{t} - \\eta^{(u)}_{x x} k = 0\\end{matrix}\\right]$"
      ],
      "text/plain": [
       "Matrix([\n",
       "[0,                                 Eq(xi^(t)_u_u, 0)],\n",
       "[1,                                 Eq(xi^(x)_u_u, 0)],\n",
       "[2,                                   Eq(xi^(t)_u, 0)],\n",
       "[3,            Eq(-eta^(u)_u_u*k + 2*k*xi^(x)_x_u, 0)],\n",
       "[4,                Eq(2*k*xi^(t)_x_u + 2*xi^(x)_u, 0)],\n",
       "[5,                                   Eq(xi^(t)_x, 0)],\n",
       "[6,       Eq(k*xi^(t)_x_x - xi^(t)_t + 2*xi^(x)_x, 0)],\n",
       "[7, Eq(-2*eta^(u)_x_u*k + k*xi^(x)_x_x - xi^(x)_t, 0)],\n",
       "[8,                  Eq(eta^(u)_t - eta^(u)_x_x*k, 0)]])"
      ]
     },
     "execution_count": 7,
     "metadata": {},
     "output_type": "execute_result"
    }
   ],
   "source": [
    "general_form = GeneralForm(model, system_of_equations)\n",
    "general_form.print_matrix()"
   ]
  },
  {
   "cell_type": "code",
   "execution_count": 8,
   "id": "0d10fe4d",
   "metadata": {},
   "outputs": [
    {
     "name": "stdout",
     "output_type": "stream",
     "text": [
      "deleting xit u(x, t)\n"
     ]
    }
   ],
   "source": [
    "general_form.find_first_derivative_equals_0()"
   ]
  },
  {
   "cell_type": "code",
   "execution_count": 11,
   "id": "aa27525b",
   "metadata": {},
   "outputs": [
    {
     "name": "stdout",
     "output_type": "stream",
     "text": [
      "general form: {'xi': {'x': [x, t, u(x, t)], 't': [t]}, 'eta': {'u': [x, t, u(x, t)]}}\n",
      "already deleted: {'xit': [u(x, t), x]}\n"
     ]
    },
    {
     "data": {
      "text/latex": [
       "$\\displaystyle \\left[\\begin{matrix}0 & \\xi^{(t)}_{u u} = 0\\\\1 & \\xi^{(x)}_{u u} = 0\\\\2 & \\xi^{(t)}_{u} = 0\\\\3 & - \\eta^{(u)}_{u u} k + 2 k \\xi^{(x)}_{x u} = 0\\\\4 & 2 k \\xi^{(t)}_{x u} + 2 \\xi^{(x)}_{u} = 0\\\\5 & \\xi^{(t)}_{x} = 0\\\\6 & k \\xi^{(t)}_{x x} - \\xi^{(t)}_{t} + 2 \\xi^{(x)}_{x} = 0\\\\7 & - 2 \\eta^{(u)}_{x u} k + k \\xi^{(x)}_{x x} - \\xi^{(x)}_{t} = 0\\\\8 & \\eta^{(u)}_{t} - \\eta^{(u)}_{x x} k = 0\\end{matrix}\\right]$"
      ],
      "text/plain": [
       "Matrix([\n",
       "[0,                                 Eq(xi^(t)_u_u, 0)],\n",
       "[1,                                 Eq(xi^(x)_u_u, 0)],\n",
       "[2,                                   Eq(xi^(t)_u, 0)],\n",
       "[3,            Eq(-eta^(u)_u_u*k + 2*k*xi^(x)_x_u, 0)],\n",
       "[4,                Eq(2*k*xi^(t)_x_u + 2*xi^(x)_u, 0)],\n",
       "[5,                                   Eq(xi^(t)_x, 0)],\n",
       "[6,       Eq(k*xi^(t)_x_x - xi^(t)_t + 2*xi^(x)_x, 0)],\n",
       "[7, Eq(-2*eta^(u)_x_u*k + k*xi^(x)_x_x - xi^(x)_t, 0)],\n",
       "[8,                  Eq(eta^(u)_t - eta^(u)_x_x*k, 0)]])"
      ]
     },
     "execution_count": 11,
     "metadata": {},
     "output_type": "execute_result"
    }
   ],
   "source": [
    "general_form.print_matrix()"
   ]
  },
  {
   "cell_type": "code",
   "execution_count": 14,
   "id": "06ffe32d",
   "metadata": {},
   "outputs": [
    {
     "name": "stdout",
     "output_type": "stream",
     "text": [
      "general form: {'xi': {'x': [x, t, u(x, t)], 't': [t]}, 'eta': {'u': [x, t, u(x, t)]}}\n",
      "already deleted: {'xit': [u(x, t), x]}\n"
     ]
    },
    {
     "data": {
      "text/latex": [
       "$\\displaystyle \\left[\\begin{matrix}0 & \\xi^{(t)}_{u u} = 0\\\\1 & \\xi^{(x)}_{u u} = 0\\\\2 & \\xi^{(t)}_{u} = 0\\\\3 & - \\eta^{(u)}_{u u} k + 2 k \\xi^{(x)}_{x u} = 0\\\\4 & \\xi^{(x)}_{u} = 0\\\\5 & \\xi^{(t)}_{x} = 0\\\\6 & - \\xi^{(t)}_{t} + 2 \\xi^{(x)}_{x} = 0\\\\7 & - 2 \\eta^{(u)}_{x u} k + k \\xi^{(x)}_{x x} - \\xi^{(x)}_{t} = 0\\\\8 & \\eta^{(u)}_{t} - \\eta^{(u)}_{x x} k = 0\\end{matrix}\\right]$"
      ],
      "text/plain": [
       "Matrix([\n",
       "[0,                                 Eq(xi^(t)_u_u, 0)],\n",
       "[1,                                 Eq(xi^(x)_u_u, 0)],\n",
       "[2,                                   Eq(xi^(t)_u, 0)],\n",
       "[3,            Eq(-eta^(u)_u_u*k + 2*k*xi^(x)_x_u, 0)],\n",
       "[4,                                   Eq(xi^(x)_u, 0)],\n",
       "[5,                                   Eq(xi^(t)_x, 0)],\n",
       "[6,                     Eq(-xi^(t)_t + 2*xi^(x)_x, 0)],\n",
       "[7, Eq(-2*eta^(u)_x_u*k + k*xi^(x)_x_x - xi^(x)_t, 0)],\n",
       "[8,                  Eq(eta^(u)_t - eta^(u)_x_x*k, 0)]])"
      ]
     },
     "execution_count": 14,
     "metadata": {},
     "output_type": "execute_result"
    }
   ],
   "source": [
    "general_form.find_deleted_items_in_equations()\n",
    "general_form.print_matrix()"
   ]
  },
  {
   "cell_type": "code",
   "execution_count": 15,
   "id": "cb58803f",
   "metadata": {},
   "outputs": [
    {
     "name": "stdout",
     "output_type": "stream",
     "text": [
      "deleting xix u(x, t)\n"
     ]
    }
   ],
   "source": [
    "general_form.find_first_derivative_equals_0()"
   ]
  },
  {
   "cell_type": "code",
   "execution_count": 16,
   "id": "ae7ec547",
   "metadata": {},
   "outputs": [
    {
     "name": "stdout",
     "output_type": "stream",
     "text": [
      "general form: {'xi': {'x': [x, t], 't': [t]}, 'eta': {'u': [x, t, u(x, t)]}}\n",
      "already deleted: {'xit': [u(x, t), x], 'xix': [u(x, t)]}\n"
     ]
    },
    {
     "data": {
      "text/latex": [
       "$\\displaystyle \\left[\\begin{matrix}0 & \\xi^{(t)}_{u u} = 0\\\\1 & \\xi^{(x)}_{u u} = 0\\\\2 & \\xi^{(t)}_{u} = 0\\\\3 & - \\eta^{(u)}_{u u} k + 2 k \\xi^{(x)}_{x u} = 0\\\\4 & \\xi^{(x)}_{u} = 0\\\\5 & \\xi^{(t)}_{x} = 0\\\\6 & - \\xi^{(t)}_{t} + 2 \\xi^{(x)}_{x} = 0\\\\7 & - 2 \\eta^{(u)}_{x u} k + k \\xi^{(x)}_{x x} - \\xi^{(x)}_{t} = 0\\\\8 & \\eta^{(u)}_{t} - \\eta^{(u)}_{x x} k = 0\\end{matrix}\\right]$"
      ],
      "text/plain": [
       "Matrix([\n",
       "[0,                                 Eq(xi^(t)_u_u, 0)],\n",
       "[1,                                 Eq(xi^(x)_u_u, 0)],\n",
       "[2,                                   Eq(xi^(t)_u, 0)],\n",
       "[3,            Eq(-eta^(u)_u_u*k + 2*k*xi^(x)_x_u, 0)],\n",
       "[4,                                   Eq(xi^(x)_u, 0)],\n",
       "[5,                                   Eq(xi^(t)_x, 0)],\n",
       "[6,                     Eq(-xi^(t)_t + 2*xi^(x)_x, 0)],\n",
       "[7, Eq(-2*eta^(u)_x_u*k + k*xi^(x)_x_x - xi^(x)_t, 0)],\n",
       "[8,                  Eq(eta^(u)_t - eta^(u)_x_x*k, 0)]])"
      ]
     },
     "execution_count": 16,
     "metadata": {},
     "output_type": "execute_result"
    }
   ],
   "source": [
    "general_form.print_matrix()"
   ]
  },
  {
   "cell_type": "code",
   "execution_count": 17,
   "id": "195493d6",
   "metadata": {},
   "outputs": [],
   "source": [
    "general_form.find_deleted_items_in_equations()"
   ]
  },
  {
   "cell_type": "code",
   "execution_count": 18,
   "id": "75bb76d4",
   "metadata": {},
   "outputs": [
    {
     "name": "stdout",
     "output_type": "stream",
     "text": [
      "general form: {'xi': {'x': [x, t], 't': [t]}, 'eta': {'u': [x, t, u(x, t)]}}\n",
      "already deleted: {'xit': [u(x, t), x], 'xix': [u(x, t)]}\n"
     ]
    },
    {
     "data": {
      "text/latex": [
       "$\\displaystyle \\left[\\begin{matrix}0 & \\xi^{(t)}_{u u} = 0\\\\1 & \\xi^{(x)}_{u u} = 0\\\\2 & \\xi^{(t)}_{u} = 0\\\\3 & - \\eta^{(u)}_{u u} k + 2 k \\xi^{(x)}_{x u} = 0\\\\4 & \\xi^{(x)}_{u} = 0\\\\5 & \\xi^{(t)}_{x} = 0\\\\6 & - \\xi^{(t)}_{t} + 2 \\xi^{(x)}_{x} = 0\\\\7 & - 2 \\eta^{(u)}_{x u} k + k \\xi^{(x)}_{x x} - \\xi^{(x)}_{t} = 0\\\\8 & \\eta^{(u)}_{t} - \\eta^{(u)}_{x x} k = 0\\end{matrix}\\right]$"
      ],
      "text/plain": [
       "Matrix([\n",
       "[0,                                 Eq(xi^(t)_u_u, 0)],\n",
       "[1,                                 Eq(xi^(x)_u_u, 0)],\n",
       "[2,                                   Eq(xi^(t)_u, 0)],\n",
       "[3,            Eq(-eta^(u)_u_u*k + 2*k*xi^(x)_x_u, 0)],\n",
       "[4,                                   Eq(xi^(x)_u, 0)],\n",
       "[5,                                   Eq(xi^(t)_x, 0)],\n",
       "[6,                     Eq(-xi^(t)_t + 2*xi^(x)_x, 0)],\n",
       "[7, Eq(-2*eta^(u)_x_u*k + k*xi^(x)_x_x - xi^(x)_t, 0)],\n",
       "[8,                  Eq(eta^(u)_t - eta^(u)_x_x*k, 0)]])"
      ]
     },
     "execution_count": 18,
     "metadata": {},
     "output_type": "execute_result"
    }
   ],
   "source": [
    "general_form.print_matrix()"
   ]
  },
  {
   "cell_type": "code",
   "execution_count": 19,
   "id": "63d2e4fc",
   "metadata": {},
   "outputs": [
    {
     "name": "stdout",
     "output_type": "stream",
     "text": [
      "found u(x, t) in xit eq 0\n",
      "found u(x, t) in xix eq 1\n"
     ]
    }
   ],
   "source": [
    "general_form.delete_second_derivatives()"
   ]
  },
  {
   "cell_type": "code",
   "execution_count": 31,
   "id": "82ff34fb",
   "metadata": {},
   "outputs": [
    {
     "name": "stdout",
     "output_type": "stream",
     "text": [
      "found u(x, t) in xix eq 3\n",
      "found u(x, t) in xix eq 3\n"
     ]
    }
   ],
   "source": [
    "general_form.find_deleted_items_in_equations()"
   ]
  },
  {
   "cell_type": "code",
   "execution_count": 33,
   "id": "9a368c5d",
   "metadata": {},
   "outputs": [
    {
     "name": "stdout",
     "output_type": "stream",
     "text": [
      "general form: {'xi': {'x': [x, t], 't': [t]}, 'eta': {'u': [x, t, u(x, t)]}}\n",
      "already deleted: {'xit': [u(x, t), x], 'xix': [u(x, t)]}\n"
     ]
    },
    {
     "data": {
      "text/latex": [
       "$\\displaystyle \\left[\\begin{matrix}0 & \\xi^{(t)}_{u} = 0\\\\1 & \\eta^{(u)}_{u u} = 0\\\\2 & \\xi^{(x)}_{u} = 0\\\\3 & \\xi^{(t)}_{x} = 0\\\\4 & - \\xi^{(t)}_{t} + 2 \\xi^{(x)}_{x} = 0\\\\5 & - 2 \\eta^{(u)}_{x u} k + k \\xi^{(x)}_{x x} - \\xi^{(x)}_{t} = 0\\\\6 & \\eta^{(u)}_{t} - \\eta^{(u)}_{x x} k = 0\\end{matrix}\\right]$"
      ],
      "text/plain": [
       "Matrix([\n",
       "[0,                                   Eq(xi^(t)_u, 0)],\n",
       "[1,                                Eq(eta^(u)_u_u, 0)],\n",
       "[2,                                   Eq(xi^(x)_u, 0)],\n",
       "[3,                                   Eq(xi^(t)_x, 0)],\n",
       "[4,                     Eq(-xi^(t)_t + 2*xi^(x)_x, 0)],\n",
       "[5, Eq(-2*eta^(u)_x_u*k + k*xi^(x)_x_x - xi^(x)_t, 0)],\n",
       "[6,                  Eq(eta^(u)_t - eta^(u)_x_x*k, 0)]])"
      ]
     },
     "execution_count": 33,
     "metadata": {},
     "output_type": "execute_result"
    }
   ],
   "source": [
    "general_form.print_matrix()"
   ]
  },
  {
   "cell_type": "markdown",
   "metadata": {},
   "source": [
    "# Blasius Equation"
   ]
  },
  {
   "cell_type": "code",
   "execution_count": 70,
   "id": "138a5033",
   "metadata": {},
   "outputs": [
    {
     "data": {
      "text/plain": [
       "(<symmetries.objects.system.System at 0x7f8db13fb100>,\n",
       " <symmetries.objects.determining_equations.DeterminingEquations at 0x7f8dc04c05e0>)"
      ]
     },
     "execution_count": 70,
     "metadata": {},
     "output_type": "execute_result"
    }
   ],
   "source": [
    "x = sp.symbols('x')\n",
    "y = sp.Function('y')(x)\n",
    "list_indep = [x]\n",
    "list_dep = [y]\n",
    "list_cte = []\n",
    "F =  D(y,x,x,x) + y*D(y,x,x)\n",
    "F_rules_array = {D(y,x,x,x):-y*D(y,x,x)}\n",
    "order = 3\n",
    "point_symmetries(F, order, F_rules_array, list_indep, list_dep, list_cte)"
   ]
  },
  {
   "cell_type": "code",
   "execution_count": 14,
   "id": "82bad319",
   "metadata": {},
   "outputs": [
    {
     "data": {
      "text/latex": [
       "$\\displaystyle y{\\left(x \\right)} \\frac{d^{2}}{d x^{2}} y{\\left(x \\right)} + \\frac{d^{3}}{d x^{3}} y{\\left(x \\right)}$"
      ],
      "text/plain": [
       "y(x)*Derivative(y(x), (x, 2)) + Derivative(y(x), (x, 3))"
      ]
     },
     "execution_count": 14,
     "metadata": {},
     "output_type": "execute_result"
    }
   ],
   "source": [
    "F.expand()"
   ]
  },
  {
   "cell_type": "markdown",
   "id": "48b1d293",
   "metadata": {},
   "source": [
    "# Wave Equation"
   ]
  },
  {
   "cell_type": "code",
   "execution_count": 71,
   "id": "b8136f3c",
   "metadata": {},
   "outputs": [
    {
     "data": {
      "text/latex": [
       "$\\displaystyle - k \\frac{\\partial^{2}}{\\partial x^{2}} u{\\left(x,t \\right)} + \\frac{\\partial}{\\partial t} u{\\left(x,t \\right)}$"
      ],
      "text/plain": [
       "-k*Derivative(u(x, t), (x, 2)) + Derivative(u(x, t), t)"
      ]
     },
     "execution_count": 71,
     "metadata": {},
     "output_type": "execute_result"
    }
   ],
   "source": [
    "x, t, k = sp.symbols('x t k')\n",
    "u = sp.Function('u')(x, t)\n",
    "list_indep = [x, t]\n",
    "list_dep = [u]\n",
    "list_var = list_indep + list_dep\n",
    "list_cte = [k]\n",
    "list_all = list_cte + list_indep + list_dep\n",
    "F =  D(u,t) - k*D(u,x,x)\n",
    "F_rules_array = {D(u,x,x):1/k*D(u,t)}\n",
    "order = 2\n",
    "F.expand()"
   ]
  },
  {
   "cell_type": "code",
   "execution_count": 73,
   "id": "45c74f53",
   "metadata": {},
   "outputs": [],
   "source": [
    "model, system_of_equations = point_symmetries(F, order, F_rules_array, list_indep, list_dep, list_cte)"
   ]
  },
  {
   "cell_type": "code",
   "execution_count": 74,
   "id": "71cc21c9",
   "metadata": {},
   "outputs": [
    {
     "name": "stdout",
     "output_type": "stream",
     "text": [
      "general form: {'xi': {'x': [x, t, u(x, t)], 't': [x, t, u(x, t)]}, 'eta': {'u': [x, t, u(x, t)]}}\n",
      "already deleted: {}\n"
     ]
    },
    {
     "data": {
      "text/latex": [
       "$\\displaystyle \\left[\\begin{matrix}0 & \\xi^{(t)}_{u u} = 0\\\\1 & \\xi^{(x)}_{u u} = 0\\\\2 & \\xi^{(t)}_{u} = 0\\\\3 & - \\eta^{(u)}_{u u} k + 2 k \\xi^{(x)}_{x u} = 0\\\\4 & 2 k \\xi^{(t)}_{x u} + 2 \\xi^{(x)}_{u} = 0\\\\5 & \\xi^{(t)}_{x} = 0\\\\6 & k \\xi^{(t)}_{x x} - \\xi^{(t)}_{t} + 2 \\xi^{(x)}_{x} = 0\\\\7 & - 2 \\eta^{(u)}_{x u} k + k \\xi^{(x)}_{x x} - \\xi^{(x)}_{t} = 0\\\\8 & \\eta^{(u)}_{t} - \\eta^{(u)}_{x x} k = 0\\end{matrix}\\right]$"
      ],
      "text/plain": [
       "Matrix([\n",
       "[0,                                 Eq(xi^(t)_u_u, 0)],\n",
       "[1,                                 Eq(xi^(x)_u_u, 0)],\n",
       "[2,                                   Eq(xi^(t)_u, 0)],\n",
       "[3,            Eq(-eta^(u)_u_u*k + 2*k*xi^(x)_x_u, 0)],\n",
       "[4,                Eq(2*k*xi^(t)_x_u + 2*xi^(x)_u, 0)],\n",
       "[5,                                   Eq(xi^(t)_x, 0)],\n",
       "[6,       Eq(k*xi^(t)_x_x - xi^(t)_t + 2*xi^(x)_x, 0)],\n",
       "[7, Eq(-2*eta^(u)_x_u*k + k*xi^(x)_x_x - xi^(x)_t, 0)],\n",
       "[8,                  Eq(eta^(u)_t - eta^(u)_x_x*k, 0)]])"
      ]
     },
     "execution_count": 74,
     "metadata": {},
     "output_type": "execute_result"
    }
   ],
   "source": [
    "general_form = GeneralForm(model, system_of_equations)\n",
    "general_form.print_matrix()"
   ]
  },
  {
   "cell_type": "code",
   "execution_count": 77,
   "id": "16a0718d",
   "metadata": {},
   "outputs": [],
   "source": [
    "general_form.find_first_derivative_equals_0()"
   ]
  },
  {
   "cell_type": "code",
   "execution_count": 79,
   "id": "b2761d0f",
   "metadata": {},
   "outputs": [
    {
     "name": "stdout",
     "output_type": "stream",
     "text": [
      "found u(x, t) in xit eq 0\n",
      "found x in xit eq 6\n"
     ]
    }
   ],
   "source": [
    "general_form.delete_second_derivatives()"
   ]
  },
  {
   "cell_type": "code",
   "execution_count": 85,
   "id": "0d7de392",
   "metadata": {},
   "outputs": [
    {
     "name": "stdout",
     "output_type": "stream",
     "text": [
      "general form: {'xi': {'x': [x, t, u(x, t)], 't': [t]}, 'eta': {'u': [x, t, u(x, t)]}}\n",
      "already deleted: {'xit': [u(x, t), x]}\n"
     ]
    },
    {
     "data": {
      "text/latex": [
       "$\\displaystyle \\left[\\begin{matrix}0 & \\xi^{(x)}_{u u} = 0\\\\1 & \\xi^{(t)}_{u} = 0\\\\2 & - \\eta^{(u)}_{u u} k + 2 k \\xi^{(x)}_{x u} = 0\\\\3 & \\xi^{(x)}_{u} = 0\\\\4 & \\xi^{(t)}_{x} = 0\\\\5 & - \\xi^{(t)}_{t} + 2 \\xi^{(x)}_{x} = 0\\\\6 & - 2 \\eta^{(u)}_{x u} k + k \\xi^{(x)}_{x x} - \\xi^{(x)}_{t} = 0\\\\7 & \\eta^{(u)}_{t} - \\eta^{(u)}_{x x} k = 0\\end{matrix}\\right]$"
      ],
      "text/plain": [
       "Matrix([\n",
       "[0,                                 Eq(xi^(x)_u_u, 0)],\n",
       "[1,                                   Eq(xi^(t)_u, 0)],\n",
       "[2,            Eq(-eta^(u)_u_u*k + 2*k*xi^(x)_x_u, 0)],\n",
       "[3,                                   Eq(xi^(x)_u, 0)],\n",
       "[4,                                   Eq(xi^(t)_x, 0)],\n",
       "[5,                     Eq(-xi^(t)_t + 2*xi^(x)_x, 0)],\n",
       "[6, Eq(-2*eta^(u)_x_u*k + k*xi^(x)_x_x - xi^(x)_t, 0)],\n",
       "[7,                  Eq(eta^(u)_t - eta^(u)_x_x*k, 0)]])"
      ]
     },
     "execution_count": 85,
     "metadata": {},
     "output_type": "execute_result"
    }
   ],
   "source": [
    "general_form.print_matrix()"
   ]
  },
  {
   "cell_type": "code",
   "execution_count": 82,
   "id": "10b28738",
   "metadata": {},
   "outputs": [
    {
     "name": "stdout",
     "output_type": "stream",
     "text": [
      "found x in xit eq 4\n",
      "found x in xit eq 4\n",
      "found x in xit eq 6\n"
     ]
    }
   ],
   "source": [
    "general_form.find_deleted_items_in_equations()"
   ]
  },
  {
   "cell_type": "code",
   "execution_count": 84,
   "id": "8e570237",
   "metadata": {},
   "outputs": [
    {
     "name": "stdout",
     "output_type": "stream",
     "text": [
      "general form: {'xi': {'x': [x, t, u(x, t)], 't': [t]}, 'eta': {'u': [x, t, u(x, t)]}}\n",
      "already deleted: {'xit': [u(x, t), x]}\n"
     ]
    },
    {
     "data": {
      "text/latex": [
       "$\\displaystyle \\left[\\begin{matrix}0 & \\xi^{(x)}_{u u} = 0\\\\1 & \\xi^{(t)}_{u} = 0\\\\2 & - \\eta^{(u)}_{u u} k + 2 k \\xi^{(x)}_{x u} = 0\\\\3 & \\xi^{(x)}_{u} = 0\\\\4 & \\xi^{(t)}_{x} = 0\\\\5 & - \\xi^{(t)}_{t} + 2 \\xi^{(x)}_{x} = 0\\\\6 & - 2 \\eta^{(u)}_{x u} k + k \\xi^{(x)}_{x x} - \\xi^{(x)}_{t} = 0\\\\7 & \\eta^{(u)}_{t} - \\eta^{(u)}_{x x} k = 0\\end{matrix}\\right]$"
      ],
      "text/plain": [
       "Matrix([\n",
       "[0,                                 Eq(xi^(x)_u_u, 0)],\n",
       "[1,                                   Eq(xi^(t)_u, 0)],\n",
       "[2,            Eq(-eta^(u)_u_u*k + 2*k*xi^(x)_x_u, 0)],\n",
       "[3,                                   Eq(xi^(x)_u, 0)],\n",
       "[4,                                   Eq(xi^(t)_x, 0)],\n",
       "[5,                     Eq(-xi^(t)_t + 2*xi^(x)_x, 0)],\n",
       "[6, Eq(-2*eta^(u)_x_u*k + k*xi^(x)_x_x - xi^(x)_t, 0)],\n",
       "[7,                  Eq(eta^(u)_t - eta^(u)_x_x*k, 0)]])"
      ]
     },
     "execution_count": 84,
     "metadata": {},
     "output_type": "execute_result"
    }
   ],
   "source": [
    "general_form.print_matrix()"
   ]
  },
  {
   "cell_type": "markdown",
   "id": "ad940595",
   "metadata": {},
   "source": [
    "# Schrödinger Equation"
   ]
  },
  {
   "cell_type": "code",
   "execution_count": 7,
   "id": "764a5c23",
   "metadata": {},
   "outputs": [
    {
     "data": {
      "text/latex": [
       "$\\displaystyle \\left[\\begin{matrix}1 & i k \\xi^{(t)}_{t} - 2 i k \\xi^{(x)}_{x} + x^{2} \\xi^{(t)} = 0\\\\2 & - 2 \\eta^{(u)}_{x u} + i k \\xi^{(x)}_{t} + x^{2} \\xi^{(x)} + \\xi^{(x)}_{x x} = 0\\\\3 & \\eta^{(u)} x^{2} - \\eta^{(u)}_{t} i k - \\eta^{(u)}_{u} x^{2} - \\eta^{(u)}_{x x} + 2 x^{2} \\xi^{(x)}_{x} + 2 x \\xi^{(x)} u{\\left(x,t \\right)} = 0\\\\4 & \\xi^{(t)}_{u u} = 0\\\\5 & \\xi^{(x)}_{u u} = 0\\\\6 & \\xi^{(t)}_{u} = 0\\\\7 & \\xi^{(t)}_{x} = 0\\\\8 & \\xi^{(x)}_{u} = 0\\\\9 & \\eta^{(u)}_{u u} = 0\\end{matrix}\\right]$"
      ],
      "text/plain": [
       "Matrix([\n",
       "[1,                                                        Eq(i*k*xi^(t)_t - 2*i*k*xi^(x)_x + x**2*xi^(t), 0)],\n",
       "[2,                                           Eq(-2*eta^(u)_x_u + i*k*xi^(x)_t + x**2*xi^(x) + xi^(x)_x_x, 0)],\n",
       "[3, Eq(eta^(u)*x**2 - eta^(u)_t*i*k - eta^(u)_u*x**2 - eta^(u)_x_x + 2*x**2*xi^(x)_x + 2*x*xi^(x)*u(x, t), 0)],\n",
       "[4,                                                                                         Eq(xi^(t)_u_u, 0)],\n",
       "[5,                                                                                         Eq(xi^(x)_u_u, 0)],\n",
       "[6,                                                                                           Eq(xi^(t)_u, 0)],\n",
       "[7,                                                                                           Eq(xi^(t)_x, 0)],\n",
       "[8,                                                                                           Eq(xi^(x)_u, 0)],\n",
       "[9,                                                                                        Eq(eta^(u)_u_u, 0)]])"
      ]
     },
     "execution_count": 7,
     "metadata": {},
     "output_type": "execute_result"
    }
   ],
   "source": [
    "x, t, k, i = sp.symbols('x t k i')\n",
    "u = sp.Function('u')(x, t)\n",
    "list_indep = [x, t]\n",
    "list_dep = [u]\n",
    "list_cte = [k, i]\n",
    "F =  -D(u,x,x) +x**2*u-i*k*D(u,t)\n",
    "F_rules_array = {D(u,x,x):x**2-i*k*D(u,t)}\n",
    "order = 2\n",
    "F.expand()\n",
    "point_symmetries(F, order, F_rules_array, list_indep, list_dep, list_cte)"
   ]
  },
  {
   "cell_type": "markdown",
   "id": "ebcfa956",
   "metadata": {},
   "source": [
    "# HNLS Equation"
   ]
  },
  {
   "cell_type": "code",
   "execution_count": 4,
   "id": "59ff86aa",
   "metadata": {},
   "outputs": [
    {
     "ename": "NameError",
     "evalue": "name 'N_indep' is not defined",
     "output_type": "error",
     "traceback": [
      "\u001b[1;31m---------------------------------------------------------------------------\u001b[0m",
      "\u001b[1;31mNameError\u001b[0m                                 Traceback (most recent call last)",
      "\u001b[1;32mC:\\PROGRA~1\\KMSpico\\temp/ipykernel_6440/2593231343.py\u001b[0m in \u001b[0;36m<module>\u001b[1;34m\u001b[0m\n\u001b[0;32m     12\u001b[0m \u001b[0morder\u001b[0m \u001b[1;33m=\u001b[0m \u001b[1;36m3\u001b[0m\u001b[1;33m\u001b[0m\u001b[1;33m\u001b[0m\u001b[0m\n\u001b[0;32m     13\u001b[0m \u001b[0mF\u001b[0m\u001b[1;33m.\u001b[0m\u001b[0mexpand\u001b[0m\u001b[1;33m(\u001b[0m\u001b[1;33m)\u001b[0m\u001b[1;33m\u001b[0m\u001b[1;33m\u001b[0m\u001b[0m\n\u001b[1;32m---> 14\u001b[1;33m \u001b[0mpoint_symmetries\u001b[0m\u001b[1;33m(\u001b[0m\u001b[0mF\u001b[0m\u001b[1;33m,\u001b[0m \u001b[0morder\u001b[0m\u001b[1;33m,\u001b[0m \u001b[0mF_rules_array\u001b[0m\u001b[1;33m,\u001b[0m \u001b[0mlist_indep\u001b[0m\u001b[1;33m,\u001b[0m \u001b[0mlist_dep\u001b[0m\u001b[1;33m,\u001b[0m \u001b[0mlist_cte\u001b[0m\u001b[1;33m)\u001b[0m\u001b[1;33m\u001b[0m\u001b[1;33m\u001b[0m\u001b[0m\n\u001b[0m",
      "\u001b[1;32m~\\Desktop\\Tec profesional\\Semestres\\Onceavo semestre\\Proyectos\\Github\\Lie_Symmetry_Analysis_Agorithm\\Notebooks\\Analysis\\Lie_Symmetry_Analysis.py\u001b[0m in \u001b[0;36mpoint_symmetries\u001b[1;34m(F, order, F_rules_array, list_indep, list_dep, list_cte, latex)\u001b[0m\n\u001b[0;32m     14\u001b[0m     \u001b[0mlist_all\u001b[0m \u001b[1;33m=\u001b[0m \u001b[0mlist_cte\u001b[0m \u001b[1;33m+\u001b[0m \u001b[0mlist_indep\u001b[0m \u001b[1;33m+\u001b[0m \u001b[0mlist_dep\u001b[0m\u001b[1;33m\u001b[0m\u001b[1;33m\u001b[0m\u001b[0m\n\u001b[0;32m     15\u001b[0m     \u001b[0mlatex_dict\u001b[0m \u001b[1;33m=\u001b[0m \u001b[1;33m{\u001b[0m\u001b[1;33m}\u001b[0m\u001b[1;33m\u001b[0m\u001b[1;33m\u001b[0m\u001b[0m\n\u001b[1;32m---> 16\u001b[1;33m     \u001b[1;32mfor\u001b[0m \u001b[0mi\u001b[0m \u001b[1;32min\u001b[0m \u001b[0mrange\u001b[0m\u001b[1;33m(\u001b[0m\u001b[1;36m0\u001b[0m\u001b[1;33m,\u001b[0m \u001b[0mN_indep\u001b[0m\u001b[1;33m)\u001b[0m\u001b[1;33m:\u001b[0m\u001b[1;33m\u001b[0m\u001b[1;33m\u001b[0m\u001b[0m\n\u001b[0m\u001b[0;32m     17\u001b[0m         \u001b[1;32mif\u001b[0m \u001b[0mlen\u001b[0m\u001b[1;33m(\u001b[0m\u001b[0mvar_list\u001b[0m\u001b[1;33m[\u001b[0m\u001b[0mi\u001b[0m\u001b[1;33m]\u001b[0m\u001b[1;33m)\u001b[0m \u001b[1;33m>\u001b[0m \u001b[1;36m1\u001b[0m\u001b[1;33m:\u001b[0m\u001b[1;33m\u001b[0m\u001b[1;33m\u001b[0m\u001b[0m\n\u001b[0;32m     18\u001b[0m             \u001b[0mlatex_dict\u001b[0m\u001b[1;33m[\u001b[0m\u001b[1;34m'xse'\u001b[0m \u001b[1;33m+\u001b[0m \u001b[0mstr\u001b[0m\u001b[1;33m(\u001b[0m\u001b[0mi\u001b[0m\u001b[1;33m+\u001b[0m\u001b[1;36m1\u001b[0m\u001b[1;33m)\u001b[0m\u001b[1;33m]\u001b[0m \u001b[1;33m=\u001b[0m \u001b[1;34m'xi^'\u001b[0m \u001b[1;33m+\u001b[0m\u001b[0;31m \u001b[0m\u001b[0;31m\\\u001b[0m\u001b[1;33m\u001b[0m\u001b[1;33m\u001b[0m\u001b[0m\n",
      "\u001b[1;31mNameError\u001b[0m: name 'N_indep' is not defined"
     ]
    }
   ],
   "source": [
    "# Real\n",
    "z, t, g1, g2, l, s = sp.symbols('z t gamma_1 gamma_2 lambda_0 sigma')\n",
    "u = sp.Function('u')(z, t)\n",
    "v = sp.Function('v')(z, t)\n",
    "list_indep = [z, t]\n",
    "list_dep = [u, v]\n",
    "list_cte = [g1, g2, l, s]\n",
    "F =  D(u,t) + D(v,z,z) + l*(v*u**2+v**3)+s*D(u,z,z,z)+\\\n",
    "    g1*D(u,z)*(u**2+v**2)+2*g2*u*(u*D(u,z)+v*D(v,z))\n",
    "F_rules_array = {D(u,z,z,z): (-1/s)*(D(u,t) + D(v,z,z) + l*(v*u**2+v**3)+\n",
    "    g1*D(u,z)*(u**2+v**2)+2*g2*u*(u*D(u,z)+v*D(v,z)))}\n",
    "order = 3\n",
    "F.expand()\n",
    "point_symmetries(F, order, F_rules_array, list_indep, list_dep, list_cte)"
   ]
  },
  {
   "cell_type": "code",
   "execution_count": null,
   "id": "0aaeee05",
   "metadata": {},
   "outputs": [],
   "source": [
    "# Imaginaria\n",
    "z, t, g1, g2, l, s = sp.symbols('z t gamma_1 gamma_2 lambda_0 sigma')\n",
    "u = sp.Function('u')(z, t)\n",
    "v = sp.Function('v')(z, t)\n",
    "list_indep = [z, t]\n",
    "list_dep = [u, v]\n",
    "list_cte = [g1, g2, l, s]\n",
    "F =-D(v,t) + D(u,z,z) + l*(v**2*u+u**3)-s*D(v,z,z,z)-\\\n",
    "    g1*D(v,z)*(u**2+v**2)-2*g2*v*(u*D(u,z)+v*D(v,z))\n",
    "F_rules_array = {D(v,z,z,z): 1/s*(-D(v,t) + D(u,z,z) + l*(v**2*u+u**3)-\\\n",
    "    g1*D(v,z)*(u**2+v**2)-2*g2*v*(u*D(u,z)+v*D(v,z)))}\n",
    "order = 3\n",
    "F.expand()\n",
    "point_symmetries(F, order, F_rules_array, list_indep, list_dep, list_cte)"
   ]
  },
  {
   "cell_type": "code",
   "execution_count": null,
   "id": "94d70822",
   "metadata": {},
   "outputs": [],
   "source": []
  }
 ],
 "metadata": {
  "kernelspec": {
   "display_name": "Python 3.9.12 ('base')",
   "language": "python",
   "name": "python3"
  },
  "language_info": {
   "codemirror_mode": {
    "name": "ipython",
    "version": 3
   },
   "file_extension": ".py",
   "mimetype": "text/x-python",
   "name": "python",
   "nbconvert_exporter": "python",
   "pygments_lexer": "ipython3",
   "version": "3.9.12"
  },
  "vscode": {
   "interpreter": {
    "hash": "a32e3221a4b38fb3c5298400354307f46872cc529cacea051239b6bc9065ea5a"
   }
  }
 },
 "nbformat": 4,
 "nbformat_minor": 5
}
