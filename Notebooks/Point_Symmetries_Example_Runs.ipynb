{
 "cells": [
  {
   "cell_type": "code",
   "execution_count": 1,
   "id": "b31bfe4a",
   "metadata": {},
   "outputs": [],
   "source": [
    "%load_ext autoreload\n",
    "%autoreload 2"
   ]
  },
  {
   "cell_type": "code",
   "execution_count": 2,
   "id": "07909fe5",
   "metadata": {},
   "outputs": [],
   "source": [
    "import sys\n",
    "sys.path.append('/Users/carlalopez/documents/Lie_Symmetry_Analysis_Agorithm/src')"
   ]
  },
  {
   "cell_type": "code",
   "execution_count": 3,
   "id": "a970b979",
   "metadata": {},
   "outputs": [],
   "source": [
    "from symmetries.analysis.lie_symmetry_analysis import point_symmetries\n",
    "import sympy as sp\n",
    "from sympy import Derivative as D"
   ]
  },
  {
   "cell_type": "markdown",
   "metadata": {},
   "source": [
    "# One equation of Hall MHD "
   ]
  },
  {
   "cell_type": "code",
   "execution_count": 4,
   "metadata": {},
   "outputs": [
    {
     "data": {
      "text/latex": [
       "$\\displaystyle - \\gamma \\frac{\\partial^{2}}{\\partial x^{2}} b{\\left(x,y,z,t \\right)} - \\gamma \\frac{\\partial^{2}}{\\partial y^{2}} b{\\left(x,y,z,t \\right)} + \\sigma \\frac{\\partial}{\\partial x} \\psi{\\left(x,y,z,t \\right)} \\frac{\\partial^{3}}{\\partial y^{3}} \\psi{\\left(x,y,z,t \\right)} + \\sigma \\frac{\\partial}{\\partial x} \\psi{\\left(x,y,z,t \\right)} \\frac{\\partial^{3}}{\\partial y\\partial x^{2}} \\psi{\\left(x,y,z,t \\right)} - \\sigma \\frac{\\partial^{3}}{\\partial x^{3}} \\psi{\\left(x,y,z,t \\right)} \\frac{\\partial}{\\partial y} \\psi{\\left(x,y,z,t \\right)} - \\sigma \\frac{\\partial}{\\partial y} \\psi{\\left(x,y,z,t \\right)} \\frac{\\partial^{3}}{\\partial x\\partial y^{2}} \\psi{\\left(x,y,z,t \\right)} + \\frac{\\partial}{\\partial t} b{\\left(x,y,z,t \\right)} + \\frac{\\partial}{\\partial x} b{\\left(x,y,z,t \\right)} \\frac{\\partial}{\\partial y} \\phi{\\left(x,y,z,t \\right)} - \\frac{\\partial}{\\partial y} b{\\left(x,y,z,t \\right)} \\frac{\\partial}{\\partial x} \\phi{\\left(x,y,z,t \\right)} + \\frac{\\partial}{\\partial x} \\psi{\\left(x,y,z,t \\right)} \\frac{\\partial}{\\partial y} w{\\left(x,y,z,t \\right)} - \\frac{\\partial}{\\partial y} \\psi{\\left(x,y,z,t \\right)} \\frac{\\partial}{\\partial x} w{\\left(x,y,z,t \\right)}$"
      ],
      "text/plain": [
       "-gamma*Derivative(b(x, y, z, t), (x, 2)) - gamma*Derivative(b(x, y, z, t), (y, 2)) + sigma*Derivative(psi(x, y, z, t), x)*Derivative(psi(x, y, z, t), (y, 3)) + sigma*Derivative(psi(x, y, z, t), x)*Derivative(psi(x, y, z, t), (x, 2), y) - sigma*Derivative(psi(x, y, z, t), (x, 3))*Derivative(psi(x, y, z, t), y) - sigma*Derivative(psi(x, y, z, t), y)*Derivative(psi(x, y, z, t), (y, 2), x) + Derivative(b(x, y, z, t), t) + Derivative(b(x, y, z, t), x)*Derivative(phi(x, y, z, t), y) - Derivative(b(x, y, z, t), y)*Derivative(phi(x, y, z, t), x) + Derivative(psi(x, y, z, t), x)*Derivative(w(x, y, z, t), y) - Derivative(psi(x, y, z, t), y)*Derivative(w(x, y, z, t), x)"
      ]
     },
     "execution_count": 4,
     "metadata": {},
     "output_type": "execute_result"
    }
   ],
   "source": [
    "x, y, z, t = sp.symbols('x y z t')\n",
    "\n",
    "phi = sp.Function('phi')(x, y, z, t)\n",
    "psi = sp.Function('psi')(x, y, z, t)\n",
    "b = sp.Function('b')(x, y, z, t)\n",
    "w = sp.Function('w')(x, y, z, t)\n",
    "\n",
    "sigma, gamma = sp.symbols('sigma gamma')\n",
    "\n",
    "list_indep = [x, y, z, t]\n",
    "list_dep = [phi, psi, b, w]\n",
    "list_cte = [sigma, gamma]\n",
    "\n",
    "F =  D(b, t) + D(b, x)*D(phi, y) - D(b, y)*D(phi, x) + sigma*(D(psi, x)*(D(psi, x, x, y) + D(psi, y, y, y))-\n",
    "        D(psi, y)*(D(psi, x, x, x) + D(psi, y, y, x))) + D(psi, x)*D(w, y) - D(psi, y)*D(w, x) - gamma*(D(b,x,x) + D(b, y, y))\n",
    "\n",
    "F_rules_array = {D(psi, x, x, y): \n",
    "        - (sigma*D(psi, x))**(-1)*(D(b, t) + D(b, x)*D(phi, y) - D(b, y)*D(phi, x) \n",
    "        + D(psi, x)*D(w, y) - D(psi, y)*D(w, x) \n",
    "        - gamma*(D(b,x,x) + D(b, y, y)))\n",
    "        +(D(psi, x))**(-1)*D(psi, y)*(D(psi, x, x, x) + D(psi, y, y, x))\n",
    "        - D(psi, y, y, y)}\n",
    "\n",
    "order = 3\n",
    "F.expand()"
   ]
  },
  {
   "cell_type": "markdown",
   "metadata": {},
   "source": [
    "# Heat Equation"
   ]
  },
  {
   "cell_type": "code",
   "execution_count": 3,
   "metadata": {},
   "outputs": [
    {
     "data": {
      "text/latex": [
       "$\\displaystyle - k \\frac{\\partial^{2}}{\\partial x^{2}} u{\\left(x,t \\right)} + \\frac{\\partial}{\\partial t} u{\\left(x,t \\right)}$"
      ],
      "text/plain": [
       "-k*Derivative(u(x, t), (x, 2)) + Derivative(u(x, t), t)"
      ]
     },
     "execution_count": 3,
     "metadata": {},
     "output_type": "execute_result"
    }
   ],
   "source": [
    "x, t, k = sp.symbols('x t k')\n",
    "u = sp.Function('u')(x, t)\n",
    "independent_variables = [x, t]\n",
    "dependent_variables = [u]\n",
    "constants = [k]\n",
    "F =  D(u,t) - k*D(u,x,x)\n",
    "F_rules_array = {D(u,x,x):1/k*D(u,t)}\n",
    "order = 2\n",
    "F.expand()"
   ]
  },
  {
   "cell_type": "code",
   "execution_count": 4,
   "metadata": {},
   "outputs": [],
   "source": [
    "model, system_of_equations = point_symmetries(F, order, F_rules_array, independent_variables, dependent_variables, constants)"
   ]
  },
  {
   "cell_type": "code",
   "execution_count": 6,
   "id": "a798aebb",
   "metadata": {},
   "outputs": [],
   "source": [
    "general_form = GeneralForm(model, system_of_equations)"
   ]
  },
  {
   "cell_type": "code",
   "execution_count": 7,
   "id": "2673b0e1",
   "metadata": {},
   "outputs": [
    {
     "name": "stderr",
     "output_type": "stream",
     "text": [
      "/Users/carlalopez/documents/Lie_Symmetry_Analysis_Agorithm/src/symmetries/objects/general_form.py:133: SymPyDeprecationWarning: \n",
      "\n",
      "non-Expr objects in a Matrix is deprecated. Matrix represents\n",
      "a mathematical matrix. To represent a container of non-numeric\n",
      "entities, Use a list of lists, TableForm, NumPy array, or some\n",
      "other data structure instead.\n",
      "\n",
      "See https://docs.sympy.org/latest/explanation/active-deprecations.html#deprecated-non-expr-in-matrix\n",
      "for details.\n",
      "\n",
      "This has been deprecated since SymPy version 1.9. It\n",
      "will be removed in a future version of SymPy.\n",
      "\n",
      "  row = sympy.Matrix([[i, sympy.Eq(get_symbolic_terms(\n",
      "/Users/carlalopez/miniconda3/lib/python3.9/site-packages/sympy/matrices/common.py:493: SymPyDeprecationWarning: \n",
      "\n",
      "non-Expr objects in a Matrix is deprecated. Matrix represents\n",
      "a mathematical matrix. To represent a container of non-numeric\n",
      "entities, Use a list of lists, TableForm, NumPy array, or some\n",
      "other data structure instead.\n",
      "\n",
      "See https://docs.sympy.org/latest/explanation/active-deprecations.html#deprecated-non-expr-in-matrix\n",
      "for details.\n",
      "\n",
      "This has been deprecated since SymPy version 1.9. It\n",
      "will be removed in a future version of SymPy.\n",
      "\n",
      "  return self._eval_row_insert(pos, other)\n"
     ]
    },
    {
     "data": {
      "text/latex": [
       "$\\displaystyle \\left[\\begin{matrix}1 & \\xi^{(t)}_{u u} = 0\\\\2 & \\xi^{(x)}_{u u} = 0\\\\3 & \\xi^{(t)}_{u} = 0\\\\4 & - \\eta^{(u)}_{u u} k + 2 k \\xi^{(x)}_{x u} = 0\\\\5 & 2 k \\xi^{(t)}_{x u} + 2 \\xi^{(x)}_{u} = 0\\\\6 & \\xi^{(t)}_{x} = 0\\\\7 & k \\xi^{(t)}_{x x} - \\xi^{(t)}_{t} + 2 \\xi^{(x)}_{x} = 0\\\\8 & - 2 \\eta^{(u)}_{x u} k + k \\xi^{(x)}_{x x} - \\xi^{(x)}_{t} = 0\\\\9 & \\eta^{(u)}_{t} - \\eta^{(u)}_{x x} k = 0\\end{matrix}\\right]$"
      ],
      "text/plain": [
       "Matrix([\n",
       "[1,                                 Eq(xi^(t)_u_u, 0)],\n",
       "[2,                                 Eq(xi^(x)_u_u, 0)],\n",
       "[3,                                   Eq(xi^(t)_u, 0)],\n",
       "[4,            Eq(-eta^(u)_u_u*k + 2*k*xi^(x)_x_u, 0)],\n",
       "[5,                Eq(2*k*xi^(t)_x_u + 2*xi^(x)_u, 0)],\n",
       "[6,                                   Eq(xi^(t)_x, 0)],\n",
       "[7,       Eq(k*xi^(t)_x_x - xi^(t)_t + 2*xi^(x)_x, 0)],\n",
       "[8, Eq(-2*eta^(u)_x_u*k + k*xi^(x)_x_x - xi^(x)_t, 0)],\n",
       "[9,                  Eq(eta^(u)_t - eta^(u)_x_x*k, 0)]])"
      ]
     },
     "execution_count": 5,
     "metadata": {},
     "output_type": "execute_result"
    }
   ],
   "source": [
    "general_form.print_determining_equations()"
   ]
  },
  {
   "cell_type": "code",
   "execution_count": 8,
   "id": "baf06e60",
   "metadata": {},
   "outputs": [
    {
     "name": "stdout",
     "output_type": "stream",
     "text": [
      "deleting xit u(x, t)\n",
      "deleting xit x\n",
      "found deleted variable in xit eq 4\n",
      "found deleted variable in xit eq 4\n",
      "found deleted variable in xit eq 6\n",
      "found high order derivative of deleted variable in xit eq 0\n",
      "deleting xix u(x, t)\n",
      "found deleted variable in xix eq 3\n",
      "found deleted variable in xix eq 3\n",
      "found high order derivative of deleted variable in xix eq 1\n"
     ]
    }
   ],
   "source": [
    "system_of_equations = point_symmetries(F, order, F_rules_array, independent_variables, dependent_variables, constants)"
   ]
  },
  {
   "cell_type": "code",
   "execution_count": 29,
   "id": "2673b0e1",
   "metadata": {},
   "outputs": [
    {
     "data": {
      "text/latex": [
       "$\\displaystyle \\left[\\begin{matrix}1 & \\xi^{(t)}_{u} = 0\\\\2 & \\eta^{(u)}_{u u} = 0\\\\3 & \\xi^{(x)}_{u} = 0\\\\4 & \\xi^{(t)}_{x} = 0\\\\5 & - \\xi^{(t)}_{t} + 2 \\xi^{(x)}_{x} = 0\\\\6 & - 2 \\eta^{(u)}_{x u} k + k \\xi^{(x)}_{x x} - \\xi^{(x)}_{t} = 0\\\\7 & \\eta^{(u)}_{t} - \\eta^{(u)}_{x x} k = 0\\end{matrix}\\right]$"
      ],
      "text/plain": [
       "Matrix([\n",
       "[1,                                   Eq(xi^(t)_u, 0)],\n",
       "[2,                                Eq(eta^(u)_u_u, 0)],\n",
       "[3,                                   Eq(xi^(x)_u, 0)],\n",
       "[4,                                   Eq(xi^(t)_x, 0)],\n",
       "[5,                     Eq(-xi^(t)_t + 2*xi^(x)_x, 0)],\n",
       "[6, Eq(-2*eta^(u)_x_u*k + k*xi^(x)_x_x - xi^(x)_t, 0)],\n",
       "[7,                  Eq(eta^(u)_t - eta^(u)_x_x*k, 0)]])"
      ]
     },
     "execution_count": 29,
     "metadata": {},
     "output_type": "execute_result"
    }
   ],
   "source": [
    "system_of_equations.print_determining_equations()"
   ]
  },
  {
   "cell_type": "code",
   "execution_count": 12,
   "id": "ceceae18",
   "metadata": {},
   "outputs": [
    {
     "name": "stdout",
     "output_type": "stream",
     "text": [
      "already deleted: {'xit': [u(x, t), x], 'xix': [u(x, t)]}\n",
      "general form:\n"
     ]
    },
    {
     "data": {
      "text/latex": [
       "$\\displaystyle \\left[\\begin{matrix}\\eta^{u}{\\left(x,t,u{\\left(x,t \\right)} \\right)}\\\\\\xi^{t}{\\left(t \\right)}\\\\\\xi^{x}{\\left(x,t \\right)}\\end{matrix}\\right]$"
      ],
      "text/plain": [
       "Matrix([\n",
       "[eta(x, t, u(x, t))**u],\n",
       "[             xi(t)**t],\n",
       "[          xi(x, t)**x]])"
      ]
     },
     "execution_count": 12,
     "metadata": {},
     "output_type": "execute_result"
    }
   ],
   "source": [
    "system_of_equations.print_general_form()"
   ]
  },
  {
   "cell_type": "markdown",
   "metadata": {},
   "source": [
    "# Blasius Equation"
   ]
  },
  {
   "cell_type": "code",
   "execution_count": 18,
   "id": "138a5033",
   "metadata": {},
   "outputs": [],
   "source": [
    "x = sp.symbols('x')\n",
    "y = sp.Function('y')(x)\n",
    "independent_variables = [x]\n",
    "dependent_variables = [y]\n",
    "constants = []\n",
    "F =  D(y,x,x,x) + y*D(y,x,x)\n",
    "F_rules_array = {D(y,x,x,x):-y*D(y,x,x)}\n",
    "order = 3"
   ]
  },
  {
   "cell_type": "code",
   "execution_count": 19,
   "id": "82bad319",
   "metadata": {},
   "outputs": [
    {
     "data": {
      "text/latex": [
       "$\\displaystyle y{\\left(x \\right)} \\frac{d^{2}}{d x^{2}} y{\\left(x \\right)} + \\frac{d^{3}}{d x^{3}} y{\\left(x \\right)}$"
      ],
      "text/plain": [
       "y(x)*Derivative(y(x), (x, 2)) + Derivative(y(x), (x, 3))"
      ]
     },
     "execution_count": 19,
     "metadata": {},
     "output_type": "execute_result"
    }
   ],
   "source": [
    "F.expand()"
   ]
  },
  {
   "cell_type": "code",
   "execution_count": 14,
   "id": "70378549",
   "metadata": {},
   "outputs": [],
   "source": [
    "system_of_equations = point_symmetries(F, order, F_rules_array, independent_variables, dependent_variables, constants)"
   ]
  },
  {
   "cell_type": "code",
   "execution_count": 21,
   "id": "e6057144",
   "metadata": {},
   "outputs": [
    {
     "data": {
      "text/latex": [
       "$\\displaystyle \\left[\\begin{matrix}1 & \\xi^{(t)}_{u u} = 0\\\\2 & \\xi^{(x)}_{u u} = 0\\\\3 & \\xi^{(t)}_{u} = 0\\\\4 & - \\eta^{(u)}_{u u} k + 2 k \\xi^{(x)}_{x u} = 0\\\\5 & 2 k \\xi^{(t)}_{x u} + 2 \\xi^{(x)}_{u} = 0\\\\6 & \\xi^{(t)}_{x} = 0\\\\7 & k \\xi^{(t)}_{x x} - \\xi^{(t)}_{t} + 2 \\xi^{(x)}_{x} = 0\\\\8 & - 2 \\eta^{(u)}_{x u} k + k \\xi^{(x)}_{x x} - \\xi^{(x)}_{t} = 0\\\\9 & \\eta^{(u)}_{t} - \\eta^{(u)}_{x x} k = 0\\end{matrix}\\right]$"
      ],
      "text/plain": [
       "Matrix([\n",
       "[1,                                 Eq(xi^(t)_u_u, 0)],\n",
       "[2,                                 Eq(xi^(x)_u_u, 0)],\n",
       "[3,                                   Eq(xi^(t)_u, 0)],\n",
       "[4,            Eq(-eta^(u)_u_u*k + 2*k*xi^(x)_x_u, 0)],\n",
       "[5,                Eq(2*k*xi^(t)_x_u + 2*xi^(x)_u, 0)],\n",
       "[6,                                   Eq(xi^(t)_x, 0)],\n",
       "[7,       Eq(k*xi^(t)_x_x - xi^(t)_t + 2*xi^(x)_x, 0)],\n",
       "[8, Eq(-2*eta^(u)_x_u*k + k*xi^(x)_x_x - xi^(x)_t, 0)],\n",
       "[9,                  Eq(eta^(u)_t - eta^(u)_x_x*k, 0)]])"
      ]
     },
     "execution_count": 21,
     "metadata": {},
     "output_type": "execute_result"
    }
   ],
   "source": [
    "system_of_equations.print_determining_equations()"
   ]
  },
  {
   "cell_type": "code",
   "execution_count": 17,
   "id": "7129d453",
   "metadata": {},
   "outputs": [
    {
     "data": {
      "text/plain": [
       "{'xi': {'x': [x]}, 'eta': {'y': [x, y(x)]}}"
      ]
     },
     "execution_count": 17,
     "metadata": {},
     "output_type": "execute_result"
    }
   ],
   "source": [
    "system_of_equations.general_form"
   ]
  },
  {
   "cell_type": "markdown",
   "id": "48b1d293",
   "metadata": {},
   "source": [
    "# Wave Equation"
   ]
  },
  {
   "cell_type": "code",
   "execution_count": 16,
   "id": "b8136f3c",
   "metadata": {},
   "outputs": [
    {
     "data": {
      "text/latex": [
       "$\\displaystyle - k \\frac{\\partial^{2}}{\\partial x^{2}} u{\\left(x,t \\right)} + \\frac{\\partial}{\\partial t} u{\\left(x,t \\right)}$"
      ],
      "text/plain": [
       "-k*Derivative(u(x, t), (x, 2)) + Derivative(u(x, t), t)"
      ]
     },
     "execution_count": 16,
     "metadata": {},
     "output_type": "execute_result"
    }
   ],
   "source": [
    "x, t, k = sp.symbols('x t k')\n",
    "u = sp.Function('u')(x, t)\n",
    "list_indep = [x, t]\n",
    "list_dep = [u]\n",
    "list_var = list_indep + list_dep\n",
    "list_cte = [k]\n",
    "list_all = list_cte + list_indep + list_dep\n",
    "F =  D(u,t) - k*D(u,x,x)\n",
    "F_rules_array = {D(u,x,x):1/k*D(u,t)}\n",
    "order = 2\n",
    "F.expand()"
   ]
  },
  {
   "cell_type": "code",
   "execution_count": 17,
   "id": "45c74f53",
   "metadata": {},
   "outputs": [],
   "source": [
    "system_of_equations = point_symmetries(F, order, F_rules_array, list_indep, list_dep, list_cte)"
   ]
  },
  {
   "cell_type": "code",
   "execution_count": 19,
   "id": "10b28738",
   "metadata": {},
   "outputs": [
    {
     "data": {
      "text/latex": [
       "$\\displaystyle \\left[\\begin{matrix}1 & \\xi^{(t)}_{u u} = 0\\\\2 & \\xi^{(x)}_{u u} = 0\\\\3 & \\xi^{(t)}_{u} = 0\\\\4 & - \\eta^{(u)}_{u u} k + 2 k \\xi^{(x)}_{x u} = 0\\\\5 & 2 k \\xi^{(t)}_{x u} + 2 \\xi^{(x)}_{u} = 0\\\\6 & \\xi^{(t)}_{x} = 0\\\\7 & k \\xi^{(t)}_{x x} - \\xi^{(t)}_{t} + 2 \\xi^{(x)}_{x} = 0\\\\8 & - 2 \\eta^{(u)}_{x u} k + k \\xi^{(x)}_{x x} - \\xi^{(x)}_{t} = 0\\\\9 & \\eta^{(u)}_{t} - \\eta^{(u)}_{x x} k = 0\\end{matrix}\\right]$"
      ],
      "text/plain": [
       "Matrix([\n",
       "[1,                                 Eq(xi^(t)_u_u, 0)],\n",
       "[2,                                 Eq(xi^(x)_u_u, 0)],\n",
       "[3,                                   Eq(xi^(t)_u, 0)],\n",
       "[4,            Eq(-eta^(u)_u_u*k + 2*k*xi^(x)_x_u, 0)],\n",
       "[5,                Eq(2*k*xi^(t)_x_u + 2*xi^(x)_u, 0)],\n",
       "[6,                                   Eq(xi^(t)_x, 0)],\n",
       "[7,       Eq(k*xi^(t)_x_x - xi^(t)_t + 2*xi^(x)_x, 0)],\n",
       "[8, Eq(-2*eta^(u)_x_u*k + k*xi^(x)_x_x - xi^(x)_t, 0)],\n",
       "[9,                  Eq(eta^(u)_t - eta^(u)_x_x*k, 0)]])"
      ]
     },
     "execution_count": 19,
     "metadata": {},
     "output_type": "execute_result"
    }
   ],
   "source": [
    "system_of_equations.print_determining_equations()"
   ]
  },
  {
   "cell_type": "markdown",
   "id": "ad940595",
   "metadata": {},
   "source": [
    "# Schrödinger Equation"
   ]
  },
  {
   "cell_type": "code",
   "execution_count": 36,
   "id": "764a5c23",
   "metadata": {},
   "outputs": [
    {
     "data": {
      "text/latex": [
       "$\\displaystyle - i k \\frac{\\partial}{\\partial t} u{\\left(x,t \\right)} + x^{2} u{\\left(x,t \\right)} - \\frac{\\partial^{2}}{\\partial x^{2}} u{\\left(x,t \\right)}$"
      ],
      "text/plain": [
       "-i*k*Derivative(u(x, t), t) + x**2*u(x, t) - Derivative(u(x, t), (x, 2))"
      ]
     },
     "execution_count": 36,
     "metadata": {},
     "output_type": "execute_result"
    }
   ],
   "source": [
    "x, t, k, i = sp.symbols('x t k i')\n",
    "u = sp.Function('u')(x, t)\n",
    "list_indep = [x, t]\n",
    "list_dep = [u]\n",
    "list_cte = [k, i]\n",
    "F =  -D(u,x,x) +x**2*u-i*k*D(u,t)\n",
    "F_rules_array = {D(u,x,x):x**2-i*k*D(u,t)}\n",
    "order = 2\n",
    "F.expand()"
   ]
  },
  {
   "cell_type": "code",
   "execution_count": 37,
   "id": "a5fd1b19",
   "metadata": {},
   "outputs": [
    {
     "name": "stdout",
     "output_type": "stream",
     "text": [
      "deleting xit u(x, t)\n",
      "deleting xit x\n",
      "found deleted variable in xit eq 3\n",
      "found deleted variable in xit eq 3\n",
      "found deleted variable in xit eq 6\n",
      "found deleted variable in xit eq 6\n",
      "found high order derivative of deleted variable in xit eq 0\n",
      "deleting xix u(x, t)\n",
      "found deleted variable in xix eq 4\n",
      "found deleted variable in xix eq 4\n",
      "found deleted variable in xix eq 7\n",
      "found high order derivative of deleted variable in xix eq 1\n"
     ]
    }
   ],
   "source": [
    "system_of_equations = point_symmetries(F, order, F_rules_array, list_indep, list_dep, list_cte)"
   ]
  },
  {
   "cell_type": "code",
   "execution_count": 38,
   "id": "dbf9bb11",
   "metadata": {},
   "outputs": [
    {
     "data": {
      "text/latex": [
       "$\\displaystyle \\left[\\begin{matrix}1 & \\xi^{(t)}_{u} = 0\\\\2 & \\xi^{(x)}_{u} = 0\\\\3 & \\eta^{(u)}_{u u} = 0\\\\4 & \\xi^{(t)}_{x} = 0\\\\5 & i k \\xi^{(t)}_{t} - 2 i k \\xi^{(x)}_{x} + x^{2} \\xi^{(t)} = 0\\\\6 & - 2 \\eta^{(u)}_{x u} + i k \\xi^{(x)}_{t} + x^{2} \\xi^{(x)} + \\xi^{(x)}_{x x} = 0\\\\7 & \\eta^{(u)} x^{2} - \\eta^{(u)}_{t} i k - \\eta^{(u)}_{u} x^{2} - \\eta^{(u)}_{x x} + 2 x^{2} \\xi^{(x)}_{x} + 2 x \\xi^{(x)} u{\\left(x,t \\right)} = 0\\end{matrix}\\right]$"
      ],
      "text/plain": [
       "Matrix([\n",
       "[1,                                                                                           Eq(xi^(t)_u, 0)],\n",
       "[2,                                                                                           Eq(xi^(x)_u, 0)],\n",
       "[3,                                                                                        Eq(eta^(u)_u_u, 0)],\n",
       "[4,                                                                                           Eq(xi^(t)_x, 0)],\n",
       "[5,                                                        Eq(i*k*xi^(t)_t - 2*i*k*xi^(x)_x + x**2*xi^(t), 0)],\n",
       "[6,                                           Eq(-2*eta^(u)_x_u + i*k*xi^(x)_t + x**2*xi^(x) + xi^(x)_x_x, 0)],\n",
       "[7, Eq(eta^(u)*x**2 - eta^(u)_t*i*k - eta^(u)_u*x**2 - eta^(u)_x_x + 2*x**2*xi^(x)_x + 2*x*xi^(x)*u(x, t), 0)]])"
      ]
     },
     "execution_count": 38,
     "metadata": {},
     "output_type": "execute_result"
    }
   ],
   "source": [
    "system_of_equations.print_determining_equations()"
   ]
  },
  {
   "cell_type": "markdown",
   "id": "ebcfa956",
   "metadata": {},
   "source": [
    "# HNLS Equation"
   ]
  },
  {
   "cell_type": "code",
   "execution_count": 39,
   "id": "59ff86aa",
   "metadata": {},
   "outputs": [
    {
     "data": {
      "text/latex": [
       "$\\displaystyle \\gamma_{1} u^{2}{\\left(z,t \\right)} \\frac{\\partial}{\\partial z} u{\\left(z,t \\right)} + \\gamma_{1} v^{2}{\\left(z,t \\right)} \\frac{\\partial}{\\partial z} u{\\left(z,t \\right)} + 2 \\gamma_{2} u^{2}{\\left(z,t \\right)} \\frac{\\partial}{\\partial z} u{\\left(z,t \\right)} + 2 \\gamma_{2} u{\\left(z,t \\right)} v{\\left(z,t \\right)} \\frac{\\partial}{\\partial z} v{\\left(z,t \\right)} + \\lambda_{0} u^{2}{\\left(z,t \\right)} v{\\left(z,t \\right)} + \\lambda_{0} v^{3}{\\left(z,t \\right)} + \\sigma \\frac{\\partial^{3}}{\\partial z^{3}} u{\\left(z,t \\right)} + \\frac{\\partial}{\\partial t} u{\\left(z,t \\right)} + \\frac{\\partial^{2}}{\\partial z^{2}} v{\\left(z,t \\right)}$"
      ],
      "text/plain": [
       "gamma_1*u(z, t)**2*Derivative(u(z, t), z) + gamma_1*v(z, t)**2*Derivative(u(z, t), z) + 2*gamma_2*u(z, t)**2*Derivative(u(z, t), z) + 2*gamma_2*u(z, t)*v(z, t)*Derivative(v(z, t), z) + lambda_0*u(z, t)**2*v(z, t) + lambda_0*v(z, t)**3 + sigma*Derivative(u(z, t), (z, 3)) + Derivative(u(z, t), t) + Derivative(v(z, t), (z, 2))"
      ]
     },
     "execution_count": 39,
     "metadata": {},
     "output_type": "execute_result"
    }
   ],
   "source": [
    "# Real\n",
    "z, t, g1, g2, l, s = sp.symbols('z t gamma_1 gamma_2 lambda_0 sigma')\n",
    "u = sp.Function('u')(z, t)\n",
    "v = sp.Function('v')(z, t)\n",
    "list_indep = [z, t]\n",
    "list_dep = [u, v]\n",
    "list_cte = [g1, g2, l, s]\n",
    "F =  D(u,t) + D(v,z,z) + l*(v*u**2+v**3)+s*D(u,z,z,z)+\\\n",
    "    g1*D(u,z)*(u**2+v**2)+2*g2*u*(u*D(u,z)+v*D(v,z))\n",
    "F_rules_array = {D(u,z,z,z): (-1/s)*(D(u,t) + D(v,z,z) + l*(v*u**2+v**3)+\n",
    "    g1*D(u,z)*(u**2+v**2)+2*g2*u*(u*D(u,z)+v*D(v,z)))}\n",
    "order = 3\n",
    "F.expand()"
   ]
  },
  {
   "cell_type": "code",
   "execution_count": 40,
   "id": "66199e75",
   "metadata": {},
   "outputs": [],
   "source": [
    "system_of_equations = point_symmetries(F, order, F_rules_array, list_indep, list_dep, list_cte)"
   ]
  },
  {
   "cell_type": "code",
   "execution_count": 41,
   "id": "e7a37d51",
   "metadata": {},
   "outputs": [
    {
     "data": {
      "text/latex": [
       "$\\displaystyle \\left[\\begin{matrix}1 & \\xi^{(t)}_{u u u} = 0\\\\2 & \\xi^{(t)}_{u u v} = 0\\\\3 & \\xi^{(t)}_{u u} = 0\\\\4 & \\xi^{(t)}_{u v v} = 0\\\\5 & \\xi^{(t)}_{u v} = 0\\\\6 & \\xi^{(t)}_{u v} = 0\\\\7 & \\xi^{(t)}_{v v v} = 0\\\\8 & \\xi^{(t)}_{v v} = 0\\\\9 & \\xi^{(t)}_{v} = 0\\\\10 & \\xi^{(z)}_{u u u} = 0\\\\11 & \\xi^{(z)}_{u u v} = 0\\\\12 & \\xi^{(z)}_{u u} = 0\\\\13 & \\xi^{(z)}_{u v v} = 0\\\\14 & \\xi^{(z)}_{u v} = 0\\\\15 & \\xi^{(t)}_{u u} = 0\\\\16 & \\xi^{(z)}_{u v} = 0\\\\17 & \\xi^{(z)}_{v v v} = 0\\\\18 & \\xi^{(z)}_{v v} = 0\\\\19 & \\xi^{(t)}_{u v} = 0\\\\20 & \\xi^{(z)}_{v} = 0\\\\21 & \\xi^{(t)}_{u} = 0\\\\22 & \\xi^{(z)}_{u} = 0\\\\23 & \\xi^{(z)}_{v v} = 0\\\\24 & \\xi^{(z)}_{v} = 0\\\\25 & \\xi^{(t)}_{u} = 0\\\\26 & \\xi^{(t)}_{v v} = 0\\\\27 & \\xi^{(t)}_{v} = 0\\\\28 & \\xi^{(t)}_{v} = 0\\\\29 & \\xi^{(t)}_{v} = 0\\\\30 & \\xi^{(t)}_{u u} = 0\\\\31 & \\xi^{(t)}_{u v} = 0\\\\32 & \\xi^{(t)}_{u} = 0\\\\33 & \\xi^{(t)}_{u} = 0\\\\34 & \\xi^{(t)}_{v v} = 0\\\\35 & \\xi^{(t)}_{v} = 0\\\\36 & \\xi^{(t)}_{v} = 0\\\\37 & 2 \\gamma_{1} \\xi^{(t)} v{\\left(z,t \\right)} - 2 \\gamma_{2} \\xi^{(t)}_{u} u{\\left(z,t \\right)} v{\\left(z,t \\right)} - 2 \\xi^{(t)}_{z u} - \\xi^{(z)}_{v} = 0\\\\38 & 2 \\gamma_{2} \\xi^{(t)} u{\\left(z,t \\right)} - 2 \\gamma_{2} \\xi^{(t)}_{v} u{\\left(z,t \\right)} v{\\left(z,t \\right)} - 2 \\xi^{(t)}_{z v} = 0\\\\39 & 3 \\eta^{(u)}_{u u} \\sigma - 9 \\sigma \\xi^{(z)}_{z u} = 0\\\\40 & \\eta^{(u)}_{u u u} \\sigma - 3 \\sigma \\xi^{(z)}_{z u u} = 0\\\\41 & \\eta^{(u)}_{v} = 0\\\\42 & \\eta^{(u)}_{v v} = 0\\\\43 & \\eta^{(u)}_{v v v} \\sigma - \\xi^{(z)}_{v v} = 0\\\\44 & \\xi^{(t)}_{z u u} = 0\\\\45 & \\xi^{(t)}_{z u v} = 0\\\\46 & \\xi^{(t)}_{z u} = 0\\\\47 & \\xi^{(t)}_{z v v} = 0\\\\48 & - 3 \\sigma \\xi^{(t)}_{z v} + \\xi^{(t)}_{u} = 0\\\\49 & 3 \\eta^{(u)}_{u u v} \\sigma - 6 \\sigma \\xi^{(z)}_{z u v} - \\xi^{(z)}_{u u} = 0\\\\50 & 3 \\eta^{(u)}_{u v v} \\sigma - 3 \\sigma \\xi^{(z)}_{z v v} - 2 \\xi^{(z)}_{u v} = 0\\\\51 & 3 \\eta^{(u)}_{u v} \\sigma - 3 \\sigma \\xi^{(z)}_{z v} + 2 \\xi^{(z)}_{u} = 0\\\\52 & \\xi^{(t)}_{z u} = 0\\\\53 & 3 \\eta^{(u)}_{u v} \\sigma - 6 \\sigma \\xi^{(z)}_{z v} - \\xi^{(z)}_{u} = 0\\\\54 & \\xi^{(t)}_{z v} = 0\\\\55 & \\xi^{(t)}_{z} = 0\\\\56 & \\xi^{(t)}_{z} = 0\\\\57 & - \\gamma_{1} \\xi^{(t)}_{v} u^{2}{\\left(z,t \\right)} - \\gamma_{1} \\xi^{(t)}_{v} v^{2}{\\left(z,t \\right)} + 2 \\gamma_{2} \\xi^{(t)} v{\\left(z,t \\right)} + 2 \\gamma_{2} \\xi^{(t)}_{u} u{\\left(z,t \\right)} v{\\left(z,t \\right)} - 2 \\gamma_{2} \\xi^{(t)}_{v} u^{2}{\\left(z,t \\right)} - 3 \\sigma \\xi^{(t)}_{z z v} + 3 \\xi^{(z)}_{v} = 0\\\\58 & 3 \\eta^{(u)}_{z u u} \\sigma + \\eta^{(v)}_{u u} + 2 \\gamma_{1} \\xi^{(z)} u{\\left(z,t \\right)} + 3 \\gamma_{1} \\xi^{(z)}_{u} u^{2}{\\left(z,t \\right)} + 3 \\gamma_{1} \\xi^{(z)}_{u} v^{2}{\\left(z,t \\right)} + 4 \\gamma_{2} \\xi^{(z)} u{\\left(z,t \\right)} + 6 \\gamma_{2} \\xi^{(z)}_{u} u^{2}{\\left(z,t \\right)} - 3 \\sigma \\xi^{(z)}_{z z u} = 0\\\\59 & 6 \\eta^{(u)}_{z u v} \\sigma + 2 \\eta^{(v)}_{u v} + 2 \\gamma_{1} \\xi^{(z)} v{\\left(z,t \\right)} + 2 \\gamma_{1} \\xi^{(z)}_{v} u^{2}{\\left(z,t \\right)} + 2 \\gamma_{1} \\xi^{(z)}_{v} v^{2}{\\left(z,t \\right)} + 2 \\gamma_{2} \\xi^{(z)} v{\\left(z,t \\right)} + 6 \\gamma_{2} \\xi^{(z)}_{u} u{\\left(z,t \\right)} v{\\left(z,t \\right)} + 4 \\gamma_{2} \\xi^{(z)}_{v} u^{2}{\\left(z,t \\right)} - 3 \\sigma \\xi^{(z)}_{z z v} - 2 \\xi^{(z)}_{z u} = 0\\\\60 & 2 \\gamma_{1} \\xi^{(t)} u{\\left(z,t \\right)} + 4 \\gamma_{2} \\xi^{(t)} u{\\left(z,t \\right)} - 3 \\sigma \\xi^{(t)}_{z z u} + 3 \\xi^{(z)}_{u} = 0\\\\61 & \\eta^{(u)}_{v} - 2 \\gamma_{2} \\xi^{(t)}_{z} u{\\left(z,t \\right)} v{\\left(z,t \\right)} + \\lambda_{0} \\xi^{(t)} u^{2}{\\left(z,t \\right)} + 3 \\lambda_{0} \\xi^{(t)} v^{2}{\\left(z,t \\right)} - \\xi^{(t)}_{z z} = 0\\\\62 & 3 \\eta^{(u)}_{z v v} \\sigma + \\eta^{(v)}_{v v} + 2 \\gamma_{2} \\xi^{(z)} u{\\left(z,t \\right)} + 4 \\gamma_{2} \\xi^{(z)}_{v} u{\\left(z,t \\right)} v{\\left(z,t \\right)} - 2 \\xi^{(z)}_{z v} = 0\\\\63 & 3 \\eta^{(u)}_{z u} \\sigma + \\eta^{(v)}_{u} - 3 \\sigma \\xi^{(z)}_{z z} = 0\\\\64 & - \\eta^{(u)}_{u} + 3 \\eta^{(u)}_{z v} \\sigma + \\eta^{(v)}_{v} + \\xi^{(z)}_{z} = 0\\\\65 & \\xi^{(t)}_{z z} = 0\\\\66 & 2 \\eta^{(u)} \\gamma_{1} u{\\left(z,t \\right)} + 4 \\eta^{(u)} \\gamma_{2} u{\\left(z,t \\right)} + 3 \\eta^{(u)}_{z z u} \\sigma + 2 \\eta^{(v)} \\gamma_{1} v{\\left(z,t \\right)} + 2 \\eta^{(v)}_{u} \\gamma_{2} u{\\left(z,t \\right)} v{\\left(z,t \\right)} + 2 \\eta^{(v)}_{z u} + 2 \\gamma_{1} \\xi^{(z)}_{z} u^{2}{\\left(z,t \\right)} + 2 \\gamma_{1} \\xi^{(z)}_{z} v^{2}{\\left(z,t \\right)} + 4 \\gamma_{2} \\xi^{(z)}_{z} u^{2}{\\left(z,t \\right)} + 2 \\lambda_{0} \\xi^{(z)} u{\\left(z,t \\right)} v{\\left(z,t \\right)} + 4 \\lambda_{0} \\xi^{(z)}_{u} u^{2}{\\left(z,t \\right)} v{\\left(z,t \\right)} + 4 \\lambda_{0} \\xi^{(z)}_{u} v^{3}{\\left(z,t \\right)} - \\sigma \\xi^{(z)}_{z z z} - \\xi^{(z)}_{t} = 0\\\\67 & 2 \\eta^{(u)} \\gamma_{2} v{\\left(z,t \\right)} - 2 \\eta^{(u)}_{u} \\gamma_{2} u{\\left(z,t \\right)} v{\\left(z,t \\right)} + \\eta^{(u)}_{v} \\gamma_{1} u^{2}{\\left(z,t \\right)} + \\eta^{(u)}_{v} \\gamma_{1} v^{2}{\\left(z,t \\right)} + 2 \\eta^{(u)}_{v} \\gamma_{2} u^{2}{\\left(z,t \\right)} + 3 \\eta^{(u)}_{z z v} \\sigma + 2 \\eta^{(v)} \\gamma_{2} u{\\left(z,t \\right)} + 2 \\eta^{(v)}_{v} \\gamma_{2} u{\\left(z,t \\right)} v{\\left(z,t \\right)} + 2 \\eta^{(v)}_{z v} + 4 \\gamma_{2} \\xi^{(z)}_{z} u{\\left(z,t \\right)} v{\\left(z,t \\right)} + \\lambda_{0} \\xi^{(z)} u^{2}{\\left(z,t \\right)} + 3 \\lambda_{0} \\xi^{(z)} v^{2}{\\left(z,t \\right)} + 3 \\lambda_{0} \\xi^{(z)}_{v} u^{2}{\\left(z,t \\right)} v{\\left(z,t \\right)} + 3 \\lambda_{0} \\xi^{(z)}_{v} v^{3}{\\left(z,t \\right)} - \\xi^{(z)}_{z z} = 0\\\\68 & - \\gamma_{1} \\xi^{(t)}_{z} u^{2}{\\left(z,t \\right)} - \\gamma_{1} \\xi^{(t)}_{z} v^{2}{\\left(z,t \\right)} - 2 \\gamma_{2} \\xi^{(t)}_{z} u^{2}{\\left(z,t \\right)} + 2 \\lambda_{0} \\xi^{(t)} u{\\left(z,t \\right)} v{\\left(z,t \\right)} + \\lambda_{0} \\xi^{(t)}_{u} u^{2}{\\left(z,t \\right)} v{\\left(z,t \\right)} + \\lambda_{0} \\xi^{(t)}_{u} v^{3}{\\left(z,t \\right)} - \\sigma \\xi^{(t)}_{z z z} - \\xi^{(t)}_{t} + 3 \\xi^{(z)}_{z} = 0\\\\69 & 2 \\eta^{(u)} \\lambda_{0} u{\\left(z,t \\right)} v{\\left(z,t \\right)} + \\eta^{(u)}_{t} - \\eta^{(u)}_{u} \\lambda_{0} u^{2}{\\left(z,t \\right)} v{\\left(z,t \\right)} - \\eta^{(u)}_{u} \\lambda_{0} v^{3}{\\left(z,t \\right)} + \\eta^{(u)}_{z} \\gamma_{1} u^{2}{\\left(z,t \\right)} + \\eta^{(u)}_{z} \\gamma_{1} v^{2}{\\left(z,t \\right)} + 2 \\eta^{(u)}_{z} \\gamma_{2} u^{2}{\\left(z,t \\right)} + \\eta^{(u)}_{z z z} \\sigma + \\eta^{(v)} \\lambda_{0} u^{2}{\\left(z,t \\right)} + 3 \\eta^{(v)} \\lambda_{0} v^{2}{\\left(z,t \\right)} + 2 \\eta^{(v)}_{z} \\gamma_{2} u{\\left(z,t \\right)} v{\\left(z,t \\right)} + \\eta^{(v)}_{z z} + 3 \\lambda_{0} \\xi^{(z)}_{z} u^{2}{\\left(z,t \\right)} v{\\left(z,t \\right)} + 3 \\lambda_{0} \\xi^{(z)}_{z} v^{3}{\\left(z,t \\right)} = 0\\end{matrix}\\right]$"
      ],
      "text/plain": [
       "Matrix([\n",
       "[ 1,                                                                                                                                                                                                                                                                                                                                                                                                                                                     Eq(xi^(t)_u_u_u, 0)],\n",
       "[ 2,                                                                                                                                                                                                                                                                                                                                                                                                                                                     Eq(xi^(t)_u_u_v, 0)],\n",
       "[ 3,                                                                                                                                                                                                                                                                                                                                                                                                                                                       Eq(xi^(t)_u_u, 0)],\n",
       "[ 4,                                                                                                                                                                                                                                                                                                                                                                                                                                                     Eq(xi^(t)_u_v_v, 0)],\n",
       "[ 5,                                                                                                                                                                                                                                                                                                                                                                                                                                                       Eq(xi^(t)_u_v, 0)],\n",
       "[ 6,                                                                                                                                                                                                                                                                                                                                                                                                                                                       Eq(xi^(t)_u_v, 0)],\n",
       "[ 7,                                                                                                                                                                                                                                                                                                                                                                                                                                                     Eq(xi^(t)_v_v_v, 0)],\n",
       "[ 8,                                                                                                                                                                                                                                                                                                                                                                                                                                                       Eq(xi^(t)_v_v, 0)],\n",
       "[ 9,                                                                                                                                                                                                                                                                                                                                                                                                                                                         Eq(xi^(t)_v, 0)],\n",
       "[10,                                                                                                                                                                                                                                                                                                                                                                                                                                                     Eq(xi^(z)_u_u_u, 0)],\n",
       "[11,                                                                                                                                                                                                                                                                                                                                                                                                                                                     Eq(xi^(z)_u_u_v, 0)],\n",
       "[12,                                                                                                                                                                                                                                                                                                                                                                                                                                                       Eq(xi^(z)_u_u, 0)],\n",
       "[13,                                                                                                                                                                                                                                                                                                                                                                                                                                                     Eq(xi^(z)_u_v_v, 0)],\n",
       "[14,                                                                                                                                                                                                                                                                                                                                                                                                                                                       Eq(xi^(z)_u_v, 0)],\n",
       "[15,                                                                                                                                                                                                                                                                                                                                                                                                                                                       Eq(xi^(t)_u_u, 0)],\n",
       "[16,                                                                                                                                                                                                                                                                                                                                                                                                                                                       Eq(xi^(z)_u_v, 0)],\n",
       "[17,                                                                                                                                                                                                                                                                                                                                                                                                                                                     Eq(xi^(z)_v_v_v, 0)],\n",
       "[18,                                                                                                                                                                                                                                                                                                                                                                                                                                                       Eq(xi^(z)_v_v, 0)],\n",
       "[19,                                                                                                                                                                                                                                                                                                                                                                                                                                                       Eq(xi^(t)_u_v, 0)],\n",
       "[20,                                                                                                                                                                                                                                                                                                                                                                                                                                                         Eq(xi^(z)_v, 0)],\n",
       "[21,                                                                                                                                                                                                                                                                                                                                                                                                                                                         Eq(xi^(t)_u, 0)],\n",
       "[22,                                                                                                                                                                                                                                                                                                                                                                                                                                                         Eq(xi^(z)_u, 0)],\n",
       "[23,                                                                                                                                                                                                                                                                                                                                                                                                                                                       Eq(xi^(z)_v_v, 0)],\n",
       "[24,                                                                                                                                                                                                                                                                                                                                                                                                                                                         Eq(xi^(z)_v, 0)],\n",
       "[25,                                                                                                                                                                                                                                                                                                                                                                                                                                                         Eq(xi^(t)_u, 0)],\n",
       "[26,                                                                                                                                                                                                                                                                                                                                                                                                                                                       Eq(xi^(t)_v_v, 0)],\n",
       "[27,                                                                                                                                                                                                                                                                                                                                                                                                                                                         Eq(xi^(t)_v, 0)],\n",
       "[28,                                                                                                                                                                                                                                                                                                                                                                                                                                                         Eq(xi^(t)_v, 0)],\n",
       "[29,                                                                                                                                                                                                                                                                                                                                                                                                                                                         Eq(xi^(t)_v, 0)],\n",
       "[30,                                                                                                                                                                                                                                                                                                                                                                                                                                                       Eq(xi^(t)_u_u, 0)],\n",
       "[31,                                                                                                                                                                                                                                                                                                                                                                                                                                                       Eq(xi^(t)_u_v, 0)],\n",
       "[32,                                                                                                                                                                                                                                                                                                                                                                                                                                                         Eq(xi^(t)_u, 0)],\n",
       "[33,                                                                                                                                                                                                                                                                                                                                                                                                                                                         Eq(xi^(t)_u, 0)],\n",
       "[34,                                                                                                                                                                                                                                                                                                                                                                                                                                                       Eq(xi^(t)_v_v, 0)],\n",
       "[35,                                                                                                                                                                                                                                                                                                                                                                                                                                                         Eq(xi^(t)_v, 0)],\n",
       "[36,                                                                                                                                                                                                                                                                                                                                                                                                                                                         Eq(xi^(t)_v, 0)],\n",
       "[37,                                                                                                                                                                                                                                                                                                                                                                          Eq(2*gamma_1*xi^(t)*v(z, t) - 2*gamma_2*xi^(t)_u*u(z, t)*v(z, t) - 2*xi^(t)_z_u - xi^(z)_v, 0)],\n",
       "[38,                                                                                                                                                                                                                                                                                                                                                                                     Eq(2*gamma_2*xi^(t)*u(z, t) - 2*gamma_2*xi^(t)_v*u(z, t)*v(z, t) - 2*xi^(t)_z_v, 0)],\n",
       "[39,                                                                                                                                                                                                                                                                                                                                                                                                                         Eq(3*eta^(u)_u_u*sigma - 9*sigma*xi^(z)_z_u, 0)],\n",
       "[40,                                                                                                                                                                                                                                                                                                                                                                                                                       Eq(eta^(u)_u_u_u*sigma - 3*sigma*xi^(z)_z_u_u, 0)],\n",
       "[41,                                                                                                                                                                                                                                                                                                                                                                                                                                                        Eq(eta^(u)_v, 0)],\n",
       "[42,                                                                                                                                                                                                                                                                                                                                                                                                                                                      Eq(eta^(u)_v_v, 0)],\n",
       "[43,                                                                                                                                                                                                                                                                                                                                                                                                                                 Eq(eta^(u)_v_v_v*sigma - xi^(z)_v_v, 0)],\n",
       "[44,                                                                                                                                                                                                                                                                                                                                                                                                                                                     Eq(xi^(t)_z_u_u, 0)],\n",
       "[45,                                                                                                                                                                                                                                                                                                                                                                                                                                                     Eq(xi^(t)_z_u_v, 0)],\n",
       "[46,                                                                                                                                                                                                                                                                                                                                                                                                                                                       Eq(xi^(t)_z_u, 0)],\n",
       "[47,                                                                                                                                                                                                                                                                                                                                                                                                                                                     Eq(xi^(t)_z_v_v, 0)],\n",
       "[48,                                                                                                                                                                                                                                                                                                                                                                                                                                   Eq(-3*sigma*xi^(t)_z_v + xi^(t)_u, 0)],\n",
       "[49,                                                                                                                                                                                                                                                                                                                                                                                                        Eq(3*eta^(u)_u_u_v*sigma - 6*sigma*xi^(z)_z_u_v - xi^(z)_u_u, 0)],\n",
       "[50,                                                                                                                                                                                                                                                                                                                                                                                                      Eq(3*eta^(u)_u_v_v*sigma - 3*sigma*xi^(z)_z_v_v - 2*xi^(z)_u_v, 0)],\n",
       "[51,                                                                                                                                                                                                                                                                                                                                                                                                            Eq(3*eta^(u)_u_v*sigma - 3*sigma*xi^(z)_z_v + 2*xi^(z)_u, 0)],\n",
       "[52,                                                                                                                                                                                                                                                                                                                                                                                                                                                       Eq(xi^(t)_z_u, 0)],\n",
       "[53,                                                                                                                                                                                                                                                                                                                                                                                                              Eq(3*eta^(u)_u_v*sigma - 6*sigma*xi^(z)_z_v - xi^(z)_u, 0)],\n",
       "[54,                                                                                                                                                                                                                                                                                                                                                                                                                                                       Eq(xi^(t)_z_v, 0)],\n",
       "[55,                                                                                                                                                                                                                                                                                                                                                                                                                                                         Eq(xi^(t)_z, 0)],\n",
       "[56,                                                                                                                                                                                                                                                                                                                                                                                                                                                         Eq(xi^(t)_z, 0)],\n",
       "[57,                                                                                                                                                                                                                                                                   Eq(-gamma_1*xi^(t)_v*u(z, t)**2 - gamma_1*xi^(t)_v*v(z, t)**2 + 2*gamma_2*xi^(t)*v(z, t) + 2*gamma_2*xi^(t)_u*u(z, t)*v(z, t) - 2*gamma_2*xi^(t)_v*u(z, t)**2 - 3*sigma*xi^(t)_z_z_v + 3*xi^(z)_v, 0)],\n",
       "[58,                                                                                                                                                                                                                                                 Eq(3*eta^(u)_z_u_u*sigma + eta^(v)_u_u + 2*gamma_1*xi^(z)*u(z, t) + 3*gamma_1*xi^(z)_u*u(z, t)**2 + 3*gamma_1*xi^(z)_u*v(z, t)**2 + 4*gamma_2*xi^(z)*u(z, t) + 6*gamma_2*xi^(z)_u*u(z, t)**2 - 3*sigma*xi^(z)_z_z_u, 0)],\n",
       "[59,                                                                                                                                                                                           Eq(6*eta^(u)_z_u_v*sigma + 2*eta^(v)_u_v + 2*gamma_1*xi^(z)*v(z, t) + 2*gamma_1*xi^(z)_v*u(z, t)**2 + 2*gamma_1*xi^(z)_v*v(z, t)**2 + 2*gamma_2*xi^(z)*v(z, t) + 6*gamma_2*xi^(z)_u*u(z, t)*v(z, t) + 4*gamma_2*xi^(z)_v*u(z, t)**2 - 3*sigma*xi^(z)_z_z_v - 2*xi^(z)_z_u, 0)],\n",
       "[60,                                                                                                                                                                                                                                                                                                                                                                          Eq(2*gamma_1*xi^(t)*u(z, t) + 4*gamma_2*xi^(t)*u(z, t) - 3*sigma*xi^(t)_z_z_u + 3*xi^(z)_u, 0)],\n",
       "[61,                                                                                                                                                                                                                                                                                                                                          Eq(eta^(u)_v - 2*gamma_2*xi^(t)_z*u(z, t)*v(z, t) + lambda_0*xi^(t)*u(z, t)**2 + 3*lambda_0*xi^(t)*v(z, t)**2 - xi^(t)_z_z, 0)],\n",
       "[62,                                                                                                                                                                                                                                                                                                                                               Eq(3*eta^(u)_z_v_v*sigma + eta^(v)_v_v + 2*gamma_2*xi^(z)*u(z, t) + 4*gamma_2*xi^(z)_v*u(z, t)*v(z, t) - 2*xi^(z)_z_v, 0)],\n",
       "[63,                                                                                                                                                                                                                                                                                                                                                                                                             Eq(3*eta^(u)_z_u*sigma + eta^(v)_u - 3*sigma*xi^(z)_z_z, 0)],\n",
       "[64,                                                                                                                                                                                                                                                                                                                                                                                                          Eq(-eta^(u)_u + 3*eta^(u)_z_v*sigma + eta^(v)_v + xi^(z)_z, 0)],\n",
       "[65,                                                                                                                                                                                                                                                                                                                                                                                                                                                       Eq(xi^(t)_z_z, 0)],\n",
       "[66,                                                    Eq(2*eta^(u)*gamma_1*u(z, t) + 4*eta^(u)*gamma_2*u(z, t) + 3*eta^(u)_z_z_u*sigma + 2*eta^(v)*gamma_1*v(z, t) + 2*eta^(v)_u*gamma_2*u(z, t)*v(z, t) + 2*eta^(v)_z_u + 2*gamma_1*xi^(z)_z*u(z, t)**2 + 2*gamma_1*xi^(z)_z*v(z, t)**2 + 4*gamma_2*xi^(z)_z*u(z, t)**2 + 2*lambda_0*xi^(z)*u(z, t)*v(z, t) + 4*lambda_0*xi^(z)_u*u(z, t)**2*v(z, t) + 4*lambda_0*xi^(z)_u*v(z, t)**3 - sigma*xi^(z)_z_z_z - xi^(z)_t, 0)],\n",
       "[67, Eq(2*eta^(u)*gamma_2*v(z, t) - 2*eta^(u)_u*gamma_2*u(z, t)*v(z, t) + eta^(u)_v*gamma_1*u(z, t)**2 + eta^(u)_v*gamma_1*v(z, t)**2 + 2*eta^(u)_v*gamma_2*u(z, t)**2 + 3*eta^(u)_z_z_v*sigma + 2*eta^(v)*gamma_2*u(z, t) + 2*eta^(v)_v*gamma_2*u(z, t)*v(z, t) + 2*eta^(v)_z_v + 4*gamma_2*xi^(z)_z*u(z, t)*v(z, t) + lambda_0*xi^(z)*u(z, t)**2 + 3*lambda_0*xi^(z)*v(z, t)**2 + 3*lambda_0*xi^(z)_v*u(z, t)**2*v(z, t) + 3*lambda_0*xi^(z)_v*v(z, t)**3 - xi^(z)_z_z, 0)],\n",
       "[68,                                                                                                                                                                                                                Eq(-gamma_1*xi^(t)_z*u(z, t)**2 - gamma_1*xi^(t)_z*v(z, t)**2 - 2*gamma_2*xi^(t)_z*u(z, t)**2 + 2*lambda_0*xi^(t)*u(z, t)*v(z, t) + lambda_0*xi^(t)_u*u(z, t)**2*v(z, t) + lambda_0*xi^(t)_u*v(z, t)**3 - sigma*xi^(t)_z_z_z - xi^(t)_t + 3*xi^(z)_z, 0)],\n",
       "[69,                          Eq(2*eta^(u)*lambda_0*u(z, t)*v(z, t) + eta^(u)_t - eta^(u)_u*lambda_0*u(z, t)**2*v(z, t) - eta^(u)_u*lambda_0*v(z, t)**3 + eta^(u)_z*gamma_1*u(z, t)**2 + eta^(u)_z*gamma_1*v(z, t)**2 + 2*eta^(u)_z*gamma_2*u(z, t)**2 + eta^(u)_z_z_z*sigma + eta^(v)*lambda_0*u(z, t)**2 + 3*eta^(v)*lambda_0*v(z, t)**2 + 2*eta^(v)_z*gamma_2*u(z, t)*v(z, t) + eta^(v)_z_z + 3*lambda_0*xi^(z)_z*u(z, t)**2*v(z, t) + 3*lambda_0*xi^(z)_z*v(z, t)**3, 0)]])"
      ]
     },
     "execution_count": 41,
     "metadata": {},
     "output_type": "execute_result"
    }
   ],
   "source": [
    "system_of_equations.print_determining_equations()"
   ]
  },
  {
   "cell_type": "code",
   "execution_count": 34,
   "id": "72616bfa",
   "metadata": {},
   "outputs": [
    {
     "data": {
      "text/plain": [
       "{'xi': {'z': [z, t], 't': [t]},\n",
       " 'eta': {'u': [z, t, u(z, t)], 'v': [z, t, u(z, t), v(z, t)]}}"
      ]
     },
     "execution_count": 34,
     "metadata": {},
     "output_type": "execute_result"
    }
   ],
   "source": [
    "system_of_equations.general_form"
   ]
  },
  {
   "cell_type": "code",
   "execution_count": null,
   "id": "275dc281",
   "metadata": {},
   "outputs": [],
   "source": [
    "system_of_equations.simplify_iteratively()"
   ]
  },
  {
   "cell_type": "code",
   "execution_count": 35,
   "id": "110a0fa7",
   "metadata": {},
   "outputs": [
    {
     "data": {
      "text/latex": [
       "$\\displaystyle \\left[\\begin{matrix}1 & \\xi^{(t)}_{v} = 0\\\\2 & \\xi^{(z)}_{v} = 0\\\\3 & \\xi^{(t)}_{u} = 0\\\\4 & \\xi^{(z)}_{u} = 0\\\\5 & \\xi^{(z)}_{v} = 0\\\\6 & \\xi^{(t)}_{u} = 0\\\\7 & \\xi^{(t)}_{v} = 0\\\\8 & \\xi^{(t)}_{v} = 0\\\\9 & \\xi^{(t)}_{v} = 0\\\\10 & \\xi^{(t)}_{u} = 0\\\\11 & \\xi^{(t)}_{u} = 0\\\\12 & \\xi^{(t)}_{v} = 0\\\\13 & \\xi^{(t)}_{v} = 0\\\\14 & \\xi^{(t)} = 0\\\\15 & \\xi^{(t)} = 0\\\\16 & \\eta^{(u)}_{u u} = 0\\\\17 & \\eta^{(u)}_{u u u} = 0\\\\18 & \\eta^{(u)}_{v} = 0\\\\19 & \\xi^{(t)}_{z} = 0\\\\20 & \\xi^{(t)}_{z} = 0\\\\21 & \\xi^{(t)} = 0\\\\22 & 3 \\eta^{(u)}_{z u u} \\sigma + \\eta^{(v)}_{u u} + 2 \\gamma_{1} \\xi^{(z)} u{\\left(z,t \\right)} + 4 \\gamma_{2} \\xi^{(z)} u{\\left(z,t \\right)} = 0\\\\23 & 2 \\eta^{(v)}_{u v} + 2 \\gamma_{1} \\xi^{(z)} v{\\left(z,t \\right)} + 2 \\gamma_{2} \\xi^{(z)} v{\\left(z,t \\right)} = 0\\\\24 & 2 \\gamma_{1} \\xi^{(t)} u{\\left(z,t \\right)} + 4 \\gamma_{2} \\xi^{(t)} u{\\left(z,t \\right)} = 0\\\\25 & \\lambda_{0} \\xi^{(t)} u^{2}{\\left(z,t \\right)} + 3 \\lambda_{0} \\xi^{(t)} v^{2}{\\left(z,t \\right)} = 0\\\\26 & \\eta^{(v)}_{v v} + 2 \\gamma_{2} \\xi^{(z)} u{\\left(z,t \\right)} = 0\\\\27 & 3 \\eta^{(u)}_{z u} \\sigma + \\eta^{(v)}_{u} - 3 \\sigma \\xi^{(z)}_{z z} = 0\\\\28 & - \\eta^{(u)}_{u} + \\eta^{(v)}_{v} + \\xi^{(z)}_{z} = 0\\\\29 & 2 \\eta^{(u)} \\gamma_{1} u{\\left(z,t \\right)} + 4 \\eta^{(u)} \\gamma_{2} u{\\left(z,t \\right)} + 3 \\eta^{(u)}_{z z u} \\sigma + 2 \\eta^{(v)} \\gamma_{1} v{\\left(z,t \\right)} + 2 \\eta^{(v)}_{u} \\gamma_{2} u{\\left(z,t \\right)} v{\\left(z,t \\right)} + 2 \\eta^{(v)}_{z u} + 2 \\gamma_{1} \\xi^{(z)}_{z} u^{2}{\\left(z,t \\right)} + 2 \\gamma_{1} \\xi^{(z)}_{z} v^{2}{\\left(z,t \\right)} + 4 \\gamma_{2} \\xi^{(z)}_{z} u^{2}{\\left(z,t \\right)} + 2 \\lambda_{0} \\xi^{(z)} u{\\left(z,t \\right)} v{\\left(z,t \\right)} - \\sigma \\xi^{(z)}_{z z z} - \\xi^{(z)}_{t} = 0\\\\30 & 2 \\eta^{(u)} \\gamma_{2} v{\\left(z,t \\right)} - 2 \\eta^{(u)}_{u} \\gamma_{2} u{\\left(z,t \\right)} v{\\left(z,t \\right)} + 2 \\eta^{(v)} \\gamma_{2} u{\\left(z,t \\right)} + 2 \\eta^{(v)}_{v} \\gamma_{2} u{\\left(z,t \\right)} v{\\left(z,t \\right)} + 2 \\eta^{(v)}_{z v} + 4 \\gamma_{2} \\xi^{(z)}_{z} u{\\left(z,t \\right)} v{\\left(z,t \\right)} + \\lambda_{0} \\xi^{(z)} u^{2}{\\left(z,t \\right)} + 3 \\lambda_{0} \\xi^{(z)} v^{2}{\\left(z,t \\right)} - \\xi^{(z)}_{z z} = 0\\\\31 & 2 \\lambda_{0} \\xi^{(t)} u{\\left(z,t \\right)} v{\\left(z,t \\right)} - \\xi^{(t)}_{t} + 3 \\xi^{(z)}_{z} = 0\\\\32 & 2 \\eta^{(u)} \\lambda_{0} u{\\left(z,t \\right)} v{\\left(z,t \\right)} + \\eta^{(u)}_{t} - \\eta^{(u)}_{u} \\lambda_{0} u^{2}{\\left(z,t \\right)} v{\\left(z,t \\right)} - \\eta^{(u)}_{u} \\lambda_{0} v^{3}{\\left(z,t \\right)} + \\eta^{(u)}_{z} \\gamma_{1} u^{2}{\\left(z,t \\right)} + \\eta^{(u)}_{z} \\gamma_{1} v^{2}{\\left(z,t \\right)} + 2 \\eta^{(u)}_{z} \\gamma_{2} u^{2}{\\left(z,t \\right)} + \\eta^{(u)}_{z z z} \\sigma + \\eta^{(v)} \\lambda_{0} u^{2}{\\left(z,t \\right)} + 3 \\eta^{(v)} \\lambda_{0} v^{2}{\\left(z,t \\right)} + 2 \\eta^{(v)}_{z} \\gamma_{2} u{\\left(z,t \\right)} v{\\left(z,t \\right)} + \\eta^{(v)}_{z z} + 3 \\lambda_{0} \\xi^{(z)}_{z} u^{2}{\\left(z,t \\right)} v{\\left(z,t \\right)} + 3 \\lambda_{0} \\xi^{(z)}_{z} v^{3}{\\left(z,t \\right)} = 0\\end{matrix}\\right]$"
      ],
      "text/plain": [
       "Matrix([\n",
       "[ 1,                                                                                                                                                                                                                                                                                                                                                                                                                                Eq(xi^(t)_v, 0)],\n",
       "[ 2,                                                                                                                                                                                                                                                                                                                                                                                                                                Eq(xi^(z)_v, 0)],\n",
       "[ 3,                                                                                                                                                                                                                                                                                                                                                                                                                                Eq(xi^(t)_u, 0)],\n",
       "[ 4,                                                                                                                                                                                                                                                                                                                                                                                                                                Eq(xi^(z)_u, 0)],\n",
       "[ 5,                                                                                                                                                                                                                                                                                                                                                                                                                                Eq(xi^(z)_v, 0)],\n",
       "[ 6,                                                                                                                                                                                                                                                                                                                                                                                                                                Eq(xi^(t)_u, 0)],\n",
       "[ 7,                                                                                                                                                                                                                                                                                                                                                                                                                                Eq(xi^(t)_v, 0)],\n",
       "[ 8,                                                                                                                                                                                                                                                                                                                                                                                                                                Eq(xi^(t)_v, 0)],\n",
       "[ 9,                                                                                                                                                                                                                                                                                                                                                                                                                                Eq(xi^(t)_v, 0)],\n",
       "[10,                                                                                                                                                                                                                                                                                                                                                                                                                                Eq(xi^(t)_u, 0)],\n",
       "[11,                                                                                                                                                                                                                                                                                                                                                                                                                                Eq(xi^(t)_u, 0)],\n",
       "[12,                                                                                                                                                                                                                                                                                                                                                                                                                                Eq(xi^(t)_v, 0)],\n",
       "[13,                                                                                                                                                                                                                                                                                                                                                                                                                                Eq(xi^(t)_v, 0)],\n",
       "[14,                                                                                                                                                                                                                                                                                                                                                                                                                                  Eq(xi^(t), 0)],\n",
       "[15,                                                                                                                                                                                                                                                                                                                                                                                                                                  Eq(xi^(t), 0)],\n",
       "[16,                                                                                                                                                                                                                                                                                                                                                                                                                             Eq(eta^(u)_u_u, 0)],\n",
       "[17,                                                                                                                                                                                                                                                                                                                                                                                                                           Eq(eta^(u)_u_u_u, 0)],\n",
       "[18,                                                                                                                                                                                                                                                                                                                                                                                                                               Eq(eta^(u)_v, 0)],\n",
       "[19,                                                                                                                                                                                                                                                                                                                                                                                                                                Eq(xi^(t)_z, 0)],\n",
       "[20,                                                                                                                                                                                                                                                                                                                                                                                                                                Eq(xi^(t)_z, 0)],\n",
       "[21,                                                                                                                                                                                                                                                                                                                                                                                                                                  Eq(xi^(t), 0)],\n",
       "[22,                                                                                                                                                                                                                                                                                                                                               Eq(3*eta^(u)_z_u_u*sigma + eta^(v)_u_u + 2*gamma_1*xi^(z)*u(z, t) + 4*gamma_2*xi^(z)*u(z, t), 0)],\n",
       "[23,                                                                                                                                                                                                                                                                                                                                                                     Eq(2*eta^(v)_u_v + 2*gamma_1*xi^(z)*v(z, t) + 2*gamma_2*xi^(z)*v(z, t), 0)],\n",
       "[24,                                                                                                                                                                                                                                                                                                                                                                                     Eq(2*gamma_1*xi^(t)*u(z, t) + 4*gamma_2*xi^(t)*u(z, t), 0)],\n",
       "[25,                                                                                                                                                                                                                                                                                                                                                                               Eq(lambda_0*xi^(t)*u(z, t)**2 + 3*lambda_0*xi^(t)*v(z, t)**2, 0)],\n",
       "[26,                                                                                                                                                                                                                                                                                                                                                                                                  Eq(eta^(v)_v_v + 2*gamma_2*xi^(z)*u(z, t), 0)],\n",
       "[27,                                                                                                                                                                                                                                                                                                                                                                                    Eq(3*eta^(u)_z_u*sigma + eta^(v)_u - 3*sigma*xi^(z)_z_z, 0)],\n",
       "[28,                                                                                                                                                                                                                                                                                                                                                                                                       Eq(-eta^(u)_u + eta^(v)_v + xi^(z)_z, 0)],\n",
       "[29,                                                                                                     Eq(2*eta^(u)*gamma_1*u(z, t) + 4*eta^(u)*gamma_2*u(z, t) + 3*eta^(u)_z_z_u*sigma + 2*eta^(v)*gamma_1*v(z, t) + 2*eta^(v)_u*gamma_2*u(z, t)*v(z, t) + 2*eta^(v)_z_u + 2*gamma_1*xi^(z)_z*u(z, t)**2 + 2*gamma_1*xi^(z)_z*v(z, t)**2 + 4*gamma_2*xi^(z)_z*u(z, t)**2 + 2*lambda_0*xi^(z)*u(z, t)*v(z, t) - sigma*xi^(z)_z_z_z - xi^(z)_t, 0)],\n",
       "[30,                                                                                                                                                                         Eq(2*eta^(u)*gamma_2*v(z, t) - 2*eta^(u)_u*gamma_2*u(z, t)*v(z, t) + 2*eta^(v)*gamma_2*u(z, t) + 2*eta^(v)_v*gamma_2*u(z, t)*v(z, t) + 2*eta^(v)_z_v + 4*gamma_2*xi^(z)_z*u(z, t)*v(z, t) + lambda_0*xi^(z)*u(z, t)**2 + 3*lambda_0*xi^(z)*v(z, t)**2 - xi^(z)_z_z, 0)],\n",
       "[31,                                                                                                                                                                                                                                                                                                                                                                               Eq(2*lambda_0*xi^(t)*u(z, t)*v(z, t) - xi^(t)_t + 3*xi^(z)_z, 0)],\n",
       "[32, Eq(2*eta^(u)*lambda_0*u(z, t)*v(z, t) + eta^(u)_t - eta^(u)_u*lambda_0*u(z, t)**2*v(z, t) - eta^(u)_u*lambda_0*v(z, t)**3 + eta^(u)_z*gamma_1*u(z, t)**2 + eta^(u)_z*gamma_1*v(z, t)**2 + 2*eta^(u)_z*gamma_2*u(z, t)**2 + eta^(u)_z_z_z*sigma + eta^(v)*lambda_0*u(z, t)**2 + 3*eta^(v)*lambda_0*v(z, t)**2 + 2*eta^(v)_z*gamma_2*u(z, t)*v(z, t) + eta^(v)_z_z + 3*lambda_0*xi^(z)_z*u(z, t)**2*v(z, t) + 3*lambda_0*xi^(z)_z*v(z, t)**3, 0)]])"
      ]
     },
     "execution_count": 35,
     "metadata": {},
     "output_type": "execute_result"
    }
   ],
   "source": [
    "system_of_equations.print_determining_equations()"
   ]
  },
  {
   "cell_type": "code",
   "execution_count": null,
   "id": "0aaeee05",
   "metadata": {},
   "outputs": [],
   "source": [
    "# Imaginaria\n",
    "z, t, g1, g2, l, s = sp.symbols('z t gamma_1 gamma_2 lambda_0 sigma')\n",
    "u = sp.Function('u')(z, t)\n",
    "v = sp.Function('v')(z, t)\n",
    "list_indep = [z, t]\n",
    "list_dep = [u, v]\n",
    "list_cte = [g1, g2, l, s]\n",
    "F =-D(v,t) + D(u,z,z) + l*(v**2*u+u**3)-s*D(v,z,z,z)-\\\n",
    "    g1*D(v,z)*(u**2+v**2)-2*g2*v*(u*D(u,z)+v*D(v,z))\n",
    "F_rules_array = {D(v,z,z,z): 1/s*(-D(v,t) + D(u,z,z) + l*(v**2*u+u**3)-\\\n",
    "    g1*D(v,z)*(u**2+v**2)-2*g2*v*(u*D(u,z)+v*D(v,z)))}\n",
    "order = 3\n",
    "F.expand()\n",
    "point_symmetries(F, order, F_rules_array, list_indep, list_dep, list_cte)"
   ]
  },
  {
   "cell_type": "code",
   "execution_count": null,
   "id": "94d70822",
   "metadata": {},
   "outputs": [],
   "source": []
  }
 ],
 "metadata": {
  "kernelspec": {
   "display_name": "Python 3.9.13 ('lie_env')",
   "language": "python",
   "name": "python3"
  },
  "language_info": {
   "codemirror_mode": {
    "name": "ipython",
    "version": 3
   },
   "file_extension": ".py",
   "mimetype": "text/x-python",
   "name": "python",
   "nbconvert_exporter": "python",
   "pygments_lexer": "ipython3",
   "version": "3.9.13"
  },
  "vscode": {
   "interpreter": {
    "hash": "f0edfb93beaa955e245c49a5d13cbb385f9a29e21aedf72d394d91a9c331a577"
   }
  }
 },
 "nbformat": 4,
 "nbformat_minor": 5
}
