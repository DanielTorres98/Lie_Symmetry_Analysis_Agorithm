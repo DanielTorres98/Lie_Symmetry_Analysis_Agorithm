{
 "cells": [
  {
   "cell_type": "code",
   "execution_count": 1,
   "id": "b31bfe4a",
   "metadata": {},
   "outputs": [],
   "source": [
    "%load_ext autoreload\n",
    "%autoreload 2"
   ]
  },
  {
   "cell_type": "code",
   "execution_count": 4,
   "id": "a970b979",
   "metadata": {},
   "outputs": [],
   "source": [
    "from symmetries.analysis.lie_symmetry_analysis import point_symmetries\n",
    "import sympy as sp\n",
    "from sympy import Derivative as D"
   ]
  },
  {
   "cell_type": "markdown",
   "metadata": {},
   "source": [
    "# One equation of Hall MHD "
   ]
  },
  {
   "cell_type": "code",
   "execution_count": 2,
   "metadata": {},
   "outputs": [
    {
     "data": {
      "text/latex": [
       "$\\displaystyle - \\gamma \\frac{\\partial^{2}}{\\partial x^{2}} b{\\left(x,y,z,t \\right)} - \\gamma \\frac{\\partial^{2}}{\\partial y^{2}} b{\\left(x,y,z,t \\right)} + \\sigma \\frac{\\partial}{\\partial x} \\psi{\\left(x,y,z,t \\right)} \\frac{\\partial^{3}}{\\partial y^{3}} \\psi{\\left(x,y,z,t \\right)} + \\sigma \\frac{\\partial}{\\partial x} \\psi{\\left(x,y,z,t \\right)} \\frac{\\partial^{3}}{\\partial y\\partial x^{2}} \\psi{\\left(x,y,z,t \\right)} - \\sigma \\frac{\\partial^{3}}{\\partial x^{3}} \\psi{\\left(x,y,z,t \\right)} \\frac{\\partial}{\\partial y} \\psi{\\left(x,y,z,t \\right)} - \\sigma \\frac{\\partial}{\\partial y} \\psi{\\left(x,y,z,t \\right)} \\frac{\\partial^{3}}{\\partial x\\partial y^{2}} \\psi{\\left(x,y,z,t \\right)} + \\frac{\\partial}{\\partial t} b{\\left(x,y,z,t \\right)} + \\frac{\\partial}{\\partial x} b{\\left(x,y,z,t \\right)} \\frac{\\partial}{\\partial y} \\phi{\\left(x,y,z,t \\right)} - \\frac{\\partial}{\\partial y} b{\\left(x,y,z,t \\right)} \\frac{\\partial}{\\partial x} \\phi{\\left(x,y,z,t \\right)} + \\frac{\\partial}{\\partial x} \\psi{\\left(x,y,z,t \\right)} \\frac{\\partial}{\\partial y} w{\\left(x,y,z,t \\right)} - \\frac{\\partial}{\\partial y} \\psi{\\left(x,y,z,t \\right)} \\frac{\\partial}{\\partial x} w{\\left(x,y,z,t \\right)}$"
      ],
      "text/plain": [
       "-gamma*Derivative(b(x, y, z, t), (x, 2)) - gamma*Derivative(b(x, y, z, t), (y, 2)) + sigma*Derivative(psi(x, y, z, t), x)*Derivative(psi(x, y, z, t), (y, 3)) + sigma*Derivative(psi(x, y, z, t), x)*Derivative(psi(x, y, z, t), (x, 2), y) - sigma*Derivative(psi(x, y, z, t), (x, 3))*Derivative(psi(x, y, z, t), y) - sigma*Derivative(psi(x, y, z, t), y)*Derivative(psi(x, y, z, t), (y, 2), x) + Derivative(b(x, y, z, t), t) + Derivative(b(x, y, z, t), x)*Derivative(phi(x, y, z, t), y) - Derivative(b(x, y, z, t), y)*Derivative(phi(x, y, z, t), x) + Derivative(psi(x, y, z, t), x)*Derivative(w(x, y, z, t), y) - Derivative(psi(x, y, z, t), y)*Derivative(w(x, y, z, t), x)"
      ]
     },
     "execution_count": 2,
     "metadata": {},
     "output_type": "execute_result"
    }
   ],
   "source": [
    "x, y, z, t = sp.symbols('x y z t')\n",
    "\n",
    "phi = sp.Function('phi')(x, y, z, t)\n",
    "psi = sp.Function('psi')(x, y, z, t)\n",
    "b = sp.Function('b')(x, y, z, t)\n",
    "w = sp.Function('w')(x, y, z, t)\n",
    "\n",
    "sigma, gamma = sp.symbols('sigma gamma')\n",
    "\n",
    "list_indep = [x, y, z, t]\n",
    "list_dep = [phi, psi, b, w]\n",
    "list_cte = [sigma, gamma]\n",
    "\n",
    "F =  D(b, t) + D(b, x)*D(phi, y) - D(b, y)*D(phi, x) + sigma*(D(psi, x)*(D(psi, x, x, y) + D(psi, y, y, y))-\n",
    "        D(psi, y)*(D(psi, x, x, x) + D(psi, y, y, x))) + D(psi, x)*D(w, y) - D(psi, y)*D(w, x) - gamma*(D(b,x,x) + D(b, y, y))\n",
    "\n",
    "F_rules_array = {D(psi, x, x, y): \n",
    "        - (sigma*D(psi, x))**(-1)*(D(b, t) + D(b, x)*D(phi, y) - D(b, y)*D(phi, x) \n",
    "        + D(psi, x)*D(w, y) - D(psi, y)*D(w, x) \n",
    "        - gamma*(D(b,x,x) + D(b, y, y)))\n",
    "        +(D(psi, x))**(-1)*D(psi, y)*(D(psi, x, x, x) + D(psi, y, y, x))\n",
    "        - D(psi, y, y, y)}\n",
    "\n",
    "order = 3\n",
    "F.expand()"
   ]
  },
  {
   "cell_type": "markdown",
   "metadata": {},
   "source": [
    "# Heat Equation"
   ]
  },
  {
   "cell_type": "code",
   "execution_count": 5,
   "metadata": {},
   "outputs": [
    {
     "data": {
      "text/latex": [
       "$\\displaystyle - k \\frac{\\partial^{2}}{\\partial x^{2}} u{\\left(x,t \\right)} + \\frac{\\partial}{\\partial t} u{\\left(x,t \\right)}$"
      ],
      "text/plain": [
       "-k*Derivative(u(x, t), (x, 2)) + Derivative(u(x, t), t)"
      ]
     },
     "execution_count": 5,
     "metadata": {},
     "output_type": "execute_result"
    }
   ],
   "source": [
    "x, t, k = sp.symbols('x t k')\n",
    "u = sp.Function('u')(x, t)\n",
    "list_indep = [x, t]\n",
    "list_dep = [u]\n",
    "list_cte = [k]\n",
    "F =  D(u,t) - k*D(u,x,x)\n",
    "F_rules_array = {D(u,x,x):1/k*D(u,t)}\n",
    "order = 2\n",
    "F.expand()"
   ]
  },
  {
   "cell_type": "code",
   "execution_count": 16,
   "id": "878f35d9",
   "metadata": {},
   "outputs": [],
   "source": [
    "from symmetries.utils.algebra import (get_common_factors, get_det_eqns,\n",
    "                           simplify_redundant_eqn, str_eqn_to_dict_eqn)\n",
    "from symmetries.utils.symbolic import (der_relabel, group_operator,\n",
    "                            higher_infinitesimals_generator,\n",
    "                            infinitesimals_generator, subs_new_vars,\n",
    "                            sym_det_eqn)\n",
    "from symmetries.utils.latex import latex_det_eqn\n",
    "from symmetries.objects.system import system\n",
    "import sympy\n",
    "\n",
    "model = system(differential_equation=F, rules_array=F_rules_array,\n",
    "                independent_variables=list_indep,\n",
    "                dependent_variables=list_dep, constants=list_cte, order=order)\n",
    "# This section of the code generates the infitesimals for all the independent variables and\n",
    "# dependent variables.\n",
    "#\n",
    "model.infinitesimals_generator()\n",
    "model.higher_infinitesimals_generator()\n",
    "\n",
    "# Relabel derivatives of variables as new symbols to be able to take partial derivatives.\n",
    "#\n",
    "model.variable_relabaling()\n",
    "\n",
    "# Applying the group operator over the function F.\n",
    "#\n",
    "XF = group_operator(model=model)\n",
    "# XF = subs_new_vars(model.dependent_variables_partial_derivatives,\n",
    "#                     model.derivatives_subscript_notation, XF)\n",
    "# XF = sympy.simplify(XF.subs(F_rules_array))"
   ]
  },
  {
   "cell_type": "code",
   "execution_count": 17,
   "id": "e89bfcc1",
   "metadata": {},
   "outputs": [
    {
     "data": {
      "text/latex": [
       "$\\displaystyle 0$"
      ],
      "text/plain": [
       "0"
      ]
     },
     "execution_count": 17,
     "metadata": {},
     "output_type": "execute_result"
    }
   ],
   "source": [
    "XF"
   ]
  },
  {
   "cell_type": "code",
   "execution_count": 6,
   "metadata": {},
   "outputs": [
    {
     "ename": "IndexError",
     "evalue": "string index out of range",
     "output_type": "error",
     "traceback": [
      "\u001b[0;31m---------------------------------------------------------------------------\u001b[0m",
      "\u001b[0;31mIndexError\u001b[0m                                Traceback (most recent call last)",
      "Cell \u001b[0;32mIn [6], line 1\u001b[0m\n\u001b[0;32m----> 1\u001b[0m \u001b[43mpoint_symmetries\u001b[49m\u001b[43m(\u001b[49m\u001b[43mF\u001b[49m\u001b[43m,\u001b[49m\u001b[43m \u001b[49m\u001b[43morder\u001b[49m\u001b[43m,\u001b[49m\u001b[43m \u001b[49m\u001b[43mF_rules_array\u001b[49m\u001b[43m,\u001b[49m\u001b[43m \u001b[49m\u001b[43mlist_indep\u001b[49m\u001b[43m,\u001b[49m\u001b[43m \u001b[49m\u001b[43mlist_dep\u001b[49m\u001b[43m,\u001b[49m\u001b[43m \u001b[49m\u001b[43mlist_cte\u001b[49m\u001b[43m)\u001b[49m\n",
      "File \u001b[0;32m~/Documents/Coding/Python/Lie_Symmetry_Analysis_Agorithm/src/symmetries/analysis/lie_symmetry_analysis.py:37\u001b[0m, in \u001b[0;36mpoint_symmetries\u001b[0;34m(F, order, F_rules_array, independent_variables, dependent_variables, constants, latex)\u001b[0m\n\u001b[1;32m     35\u001b[0m XF \u001b[39m=\u001b[39m sympy\u001b[39m.\u001b[39msimplify(XF\u001b[39m.\u001b[39msubs(F_rules_array))\n\u001b[1;32m     36\u001b[0m empty_det_eqn \u001b[39m=\u001b[39m get_common_factors(XF, dependent_variables, independent_variables, constants)\n\u001b[0;32m---> 37\u001b[0m det_eqn \u001b[39m=\u001b[39m get_det_eqns(XF, empty_det_eqn)\n\u001b[1;32m     38\u001b[0m det_eqn \u001b[39m=\u001b[39m str_eqn_to_dict_eqn(det_eqn, all_variables, constants_and_variables)\n\u001b[1;32m     39\u001b[0m det_eqn \u001b[39m=\u001b[39m simplify_redundant_eqn(det_eqn)\n",
      "File \u001b[0;32m~/Documents/Coding/Python/Lie_Symmetry_Analysis_Agorithm/src/symmetries/utils/algebra.py:145\u001b[0m, in \u001b[0;36mget_det_eqns\u001b[0;34m(XF, dict_det_eqn)\u001b[0m\n\u001b[1;32m    143\u001b[0m \u001b[39mif\u001b[39;00m XF_terms[\u001b[39m0\u001b[39m] \u001b[39m==\u001b[39m \u001b[39m'\u001b[39m\u001b[39m'\u001b[39m:\n\u001b[1;32m    144\u001b[0m     XF_terms\u001b[39m.\u001b[39mpop(\u001b[39m0\u001b[39m)\n\u001b[0;32m--> 145\u001b[0m \u001b[39mreturn\u001b[39;00m group_terms(dict_det_eqn, XF_terms)\n",
      "File \u001b[0;32m~/Documents/Coding/Python/Lie_Symmetry_Analysis_Agorithm/src/symmetries/utils/algebra.py:180\u001b[0m, in \u001b[0;36mgroup_terms\u001b[0;34m(dict_det_eqn, XF_terms)\u001b[0m\n\u001b[1;32m    176\u001b[0m dict_det_eqn[key][\u001b[39m-\u001b[39m\u001b[39m1\u001b[39m] \u001b[39m=\u001b[39m re\u001b[39m.\u001b[39msub(\u001b[39mr\u001b[39m\u001b[39m'\u001b[39m\u001b[39m(?<=\u001b[39m\u001b[39m\\\u001b[39m\u001b[39md|\u001b[39m\u001b[39m\\\u001b[39m\u001b[39m))\u001b[39m\u001b[39m\\\u001b[39m\u001b[39m*+\u001b[39m\u001b[39m'\u001b[39m,\n\u001b[1;32m    177\u001b[0m                                \u001b[39m'\u001b[39m\u001b[39m*\u001b[39m\u001b[39m'\u001b[39m, dict_det_eqn[key][\u001b[39m-\u001b[39m\u001b[39m1\u001b[39m])\n\u001b[1;32m    178\u001b[0m dict_det_eqn[key][\u001b[39m-\u001b[39m\u001b[39m1\u001b[39m] \u001b[39m=\u001b[39m re\u001b[39m.\u001b[39msub(\u001b[39mr\u001b[39m\u001b[39m'\u001b[39m\u001b[39m\\\u001b[39m\u001b[39m*\u001b[39m\u001b[39m\\\u001b[39m\u001b[39m*+\u001b[39m\u001b[39m'\u001b[39m,\n\u001b[1;32m    179\u001b[0m                                \u001b[39m'\u001b[39m\u001b[39m*\u001b[39m\u001b[39m'\u001b[39m, dict_det_eqn[key][\u001b[39m-\u001b[39m\u001b[39m1\u001b[39m])\n\u001b[0;32m--> 180\u001b[0m \u001b[39mif\u001b[39;00m dict_det_eqn[key][\u001b[39m-\u001b[39;49m\u001b[39m1\u001b[39;49m][\u001b[39m-\u001b[39;49m\u001b[39m1\u001b[39;49m] \u001b[39m==\u001b[39m \u001b[39m\"\u001b[39m\u001b[39m*\u001b[39m\u001b[39m\"\u001b[39m:\n\u001b[1;32m    181\u001b[0m     dict_det_eqn[key][\u001b[39m-\u001b[39m\u001b[39m1\u001b[39m] \u001b[39m=\u001b[39m dict_det_eqn[key][\u001b[39m-\u001b[39m\u001b[39m1\u001b[39m][:\u001b[39m-\u001b[39m\u001b[39m1\u001b[39m]\n\u001b[1;32m    182\u001b[0m add \u001b[39m=\u001b[39m \u001b[39mTrue\u001b[39;00m\n",
      "\u001b[0;31mIndexError\u001b[0m: string index out of range"
     ]
    }
   ],
   "source": [
    "point_symmetries(F, order, F_rules_array, list_indep, list_dep, list_cte)"
   ]
  },
  {
   "cell_type": "markdown",
   "metadata": {},
   "source": [
    "# Blasius Equation"
   ]
  },
  {
   "cell_type": "code",
   "execution_count": 4,
   "id": "138a5033",
   "metadata": {},
   "outputs": [
    {
     "data": {
      "text/latex": [
       "$\\displaystyle \\left[\\begin{matrix}1 & \\eta^{(y)}_{y y y} = 0\\\\2 & 3 \\eta^{(y)}_{y y} + \\xi^{(x)} = 0\\\\3 & 3 \\eta^{(y)}_{x y y} + \\eta^{(y)}_{y y} y{\\left(x \\right)} = 0\\\\4 & 3 \\eta^{(y)}_{x x y} + 2 \\eta^{(y)}_{x y} y{\\left(x \\right)} - \\xi^{(x)}_{x x} y{\\left(x \\right)} - \\xi^{(x)}_{x x x} = 0\\\\5 & \\eta^{(y)} + 3 \\eta^{(y)}_{x y} + \\xi^{(x)}_{x} y{\\left(x \\right)} - 3 \\xi^{(x)}_{x x} = 0\\\\6 & \\eta^{(y)}_{x x} y{\\left(x \\right)} + \\eta^{(y)}_{x x x} = 0\\\\7 & \\xi^{(x)}_{y} = 0\\end{matrix}\\right]$"
      ],
      "text/plain": [
       "Matrix([\n",
       "[1,                                                         Eq(eta^(y)_y_y_y, 0)],\n",
       "[2,                                                Eq(3*eta^(y)_y_y + xi^(x), 0)],\n",
       "[3,                                    Eq(3*eta^(y)_x_y_y + eta^(y)_y_y*y(x), 0)],\n",
       "[4, Eq(3*eta^(y)_x_x_y + 2*eta^(y)_x_y*y(x) - xi^(x)_x_x*y(x) - xi^(x)_x_x_x, 0)],\n",
       "[5,                Eq(eta^(y) + 3*eta^(y)_x_y + xi^(x)_x*y(x) - 3*xi^(x)_x_x, 0)],\n",
       "[6,                                      Eq(eta^(y)_x_x*y(x) + eta^(y)_x_x_x, 0)],\n",
       "[7,                                                              Eq(xi^(x)_y, 0)]])"
      ]
     },
     "execution_count": 2,
     "metadata": {},
     "output_type": "execute_result"
    }
   ],
   "source": [
    "x = sp.symbols('x')\n",
    "y = sp.Function('y')(x)\n",
    "list_indep = [x]\n",
    "list_dep = [y]\n",
    "list_cte = []\n",
    "F =  D(y,x,x,x) + y*D(y,x,x)\n",
    "F_rules_array = {D(y,x,x,x):-y*D(y,x,x)}\n",
    "order = 3\n",
    "point_symmetries(F, order, F_rules_array, list_indep, list_dep, list_cte)"
   ]
  },
  {
   "cell_type": "code",
   "execution_count": 14,
   "id": "82bad319",
   "metadata": {},
   "outputs": [
    {
     "data": {
      "text/latex": [
       "$\\displaystyle y{\\left(x \\right)} \\frac{d^{2}}{d x^{2}} y{\\left(x \\right)} + \\frac{d^{3}}{d x^{3}} y{\\left(x \\right)}$"
      ],
      "text/plain": [
       "y(x)*Derivative(y(x), (x, 2)) + Derivative(y(x), (x, 3))"
      ]
     },
     "execution_count": 14,
     "metadata": {},
     "output_type": "execute_result"
    }
   ],
   "source": [
    "F.expand()"
   ]
  },
  {
   "cell_type": "markdown",
   "id": "48b1d293",
   "metadata": {},
   "source": [
    "# Wave Equation"
   ]
  },
  {
   "cell_type": "code",
   "execution_count": 5,
   "id": "b8136f3c",
   "metadata": {},
   "outputs": [
    {
     "data": {
      "text/latex": [
       "$\\displaystyle - k \\frac{\\partial^{2}}{\\partial x^{2}} u{\\left(x,t \\right)} + \\frac{\\partial}{\\partial t} u{\\left(x,t \\right)}$"
      ],
      "text/plain": [
       "-k*Derivative(u(x, t), (x, 2)) + Derivative(u(x, t), t)"
      ]
     },
     "execution_count": 5,
     "metadata": {},
     "output_type": "execute_result"
    }
   ],
   "source": [
    "x, t, k = sp.symbols('x t k')\n",
    "u = sp.Function('u')(x, t)\n",
    "list_indep = [x, t]\n",
    "list_dep = [u]\n",
    "list_var = list_indep + list_dep\n",
    "list_cte = [k]\n",
    "list_all = list_cte + list_indep + list_dep\n",
    "F =  D(u,t) - k*D(u,x,x)\n",
    "F_rules_array = {D(u,x,x):1/k*D(u,t)}\n",
    "order = 2\n",
    "F.expand()"
   ]
  },
  {
   "cell_type": "code",
   "execution_count": 6,
   "id": "45c74f53",
   "metadata": {},
   "outputs": [
    {
     "data": {
      "text/latex": [
       "$\\displaystyle \\left[\\begin{matrix}1 & \\xi^{(t)}_{u u} = 0\\\\2 & 2 k \\xi^{(t)}_{x u} + 2 \\xi^{(x)}_{u} = 0\\\\3 & k \\xi^{(t)}_{x x} - \\xi^{(t)}_{t} + 2 \\xi^{(x)}_{x} = 0\\\\4 & \\xi^{(x)}_{u u} = 0\\\\5 & \\xi^{(t)}_{u} = 0\\\\6 & \\xi^{(t)}_{x} = 0\\\\7 & - \\eta^{(u)}_{u u} k + 2 k \\xi^{(x)}_{x u} = 0\\\\8 & - 2 \\eta^{(u)}_{x u} k + k \\xi^{(x)}_{x x} - \\xi^{(x)}_{t} = 0\\\\9 & \\eta^{(u)}_{t} - \\eta^{(u)}_{x x} k = 0\\end{matrix}\\right]$"
      ],
      "text/plain": [
       "Matrix([\n",
       "[1,                                 Eq(xi^(t)_u_u, 0)],\n",
       "[2,                Eq(2*k*xi^(t)_x_u + 2*xi^(x)_u, 0)],\n",
       "[3,       Eq(k*xi^(t)_x_x - xi^(t)_t + 2*xi^(x)_x, 0)],\n",
       "[4,                                 Eq(xi^(x)_u_u, 0)],\n",
       "[5,                                   Eq(xi^(t)_u, 0)],\n",
       "[6,                                   Eq(xi^(t)_x, 0)],\n",
       "[7,            Eq(-eta^(u)_u_u*k + 2*k*xi^(x)_x_u, 0)],\n",
       "[8, Eq(-2*eta^(u)_x_u*k + k*xi^(x)_x_x - xi^(x)_t, 0)],\n",
       "[9,                  Eq(eta^(u)_t - eta^(u)_x_x*k, 0)]])"
      ]
     },
     "execution_count": 6,
     "metadata": {},
     "output_type": "execute_result"
    }
   ],
   "source": [
    "point_symmetries(F, order, F_rules_array, list_indep, list_dep, list_cte)"
   ]
  },
  {
   "cell_type": "markdown",
   "id": "ad940595",
   "metadata": {},
   "source": [
    "# Schrödinger Equation"
   ]
  },
  {
   "cell_type": "code",
   "execution_count": 7,
   "id": "764a5c23",
   "metadata": {},
   "outputs": [
    {
     "data": {
      "text/latex": [
       "$\\displaystyle \\left[\\begin{matrix}1 & i k \\xi^{(t)}_{t} - 2 i k \\xi^{(x)}_{x} + x^{2} \\xi^{(t)} = 0\\\\2 & - 2 \\eta^{(u)}_{x u} + i k \\xi^{(x)}_{t} + x^{2} \\xi^{(x)} + \\xi^{(x)}_{x x} = 0\\\\3 & \\eta^{(u)} x^{2} - \\eta^{(u)}_{t} i k - \\eta^{(u)}_{u} x^{2} - \\eta^{(u)}_{x x} + 2 x^{2} \\xi^{(x)}_{x} + 2 x \\xi^{(x)} u{\\left(x,t \\right)} = 0\\\\4 & \\xi^{(t)}_{u u} = 0\\\\5 & \\xi^{(x)}_{u u} = 0\\\\6 & \\xi^{(t)}_{u} = 0\\\\7 & \\xi^{(t)}_{x} = 0\\\\8 & \\xi^{(x)}_{u} = 0\\\\9 & \\eta^{(u)}_{u u} = 0\\end{matrix}\\right]$"
      ],
      "text/plain": [
       "Matrix([\n",
       "[1,                                                        Eq(i*k*xi^(t)_t - 2*i*k*xi^(x)_x + x**2*xi^(t), 0)],\n",
       "[2,                                           Eq(-2*eta^(u)_x_u + i*k*xi^(x)_t + x**2*xi^(x) + xi^(x)_x_x, 0)],\n",
       "[3, Eq(eta^(u)*x**2 - eta^(u)_t*i*k - eta^(u)_u*x**2 - eta^(u)_x_x + 2*x**2*xi^(x)_x + 2*x*xi^(x)*u(x, t), 0)],\n",
       "[4,                                                                                         Eq(xi^(t)_u_u, 0)],\n",
       "[5,                                                                                         Eq(xi^(x)_u_u, 0)],\n",
       "[6,                                                                                           Eq(xi^(t)_u, 0)],\n",
       "[7,                                                                                           Eq(xi^(t)_x, 0)],\n",
       "[8,                                                                                           Eq(xi^(x)_u, 0)],\n",
       "[9,                                                                                        Eq(eta^(u)_u_u, 0)]])"
      ]
     },
     "execution_count": 7,
     "metadata": {},
     "output_type": "execute_result"
    }
   ],
   "source": [
    "x, t, k, i = sp.symbols('x t k i')\n",
    "u = sp.Function('u')(x, t)\n",
    "list_indep = [x, t]\n",
    "list_dep = [u]\n",
    "list_cte = [k, i]\n",
    "F =  -D(u,x,x) +x**2*u-i*k*D(u,t)\n",
    "F_rules_array = {D(u,x,x):x**2-i*k*D(u,t)}\n",
    "order = 2\n",
    "F.expand()\n",
    "point_symmetries(F, order, F_rules_array, list_indep, list_dep, list_cte)"
   ]
  },
  {
   "cell_type": "markdown",
   "id": "ebcfa956",
   "metadata": {},
   "source": [
    "# HNLS Equation"
   ]
  },
  {
   "cell_type": "code",
   "execution_count": 4,
   "id": "59ff86aa",
   "metadata": {},
   "outputs": [
    {
     "ename": "NameError",
     "evalue": "name 'N_indep' is not defined",
     "output_type": "error",
     "traceback": [
      "\u001b[1;31m---------------------------------------------------------------------------\u001b[0m",
      "\u001b[1;31mNameError\u001b[0m                                 Traceback (most recent call last)",
      "\u001b[1;32mC:\\PROGRA~1\\KMSpico\\temp/ipykernel_6440/2593231343.py\u001b[0m in \u001b[0;36m<module>\u001b[1;34m\u001b[0m\n\u001b[0;32m     12\u001b[0m \u001b[0morder\u001b[0m \u001b[1;33m=\u001b[0m \u001b[1;36m3\u001b[0m\u001b[1;33m\u001b[0m\u001b[1;33m\u001b[0m\u001b[0m\n\u001b[0;32m     13\u001b[0m \u001b[0mF\u001b[0m\u001b[1;33m.\u001b[0m\u001b[0mexpand\u001b[0m\u001b[1;33m(\u001b[0m\u001b[1;33m)\u001b[0m\u001b[1;33m\u001b[0m\u001b[1;33m\u001b[0m\u001b[0m\n\u001b[1;32m---> 14\u001b[1;33m \u001b[0mpoint_symmetries\u001b[0m\u001b[1;33m(\u001b[0m\u001b[0mF\u001b[0m\u001b[1;33m,\u001b[0m \u001b[0morder\u001b[0m\u001b[1;33m,\u001b[0m \u001b[0mF_rules_array\u001b[0m\u001b[1;33m,\u001b[0m \u001b[0mlist_indep\u001b[0m\u001b[1;33m,\u001b[0m \u001b[0mlist_dep\u001b[0m\u001b[1;33m,\u001b[0m \u001b[0mlist_cte\u001b[0m\u001b[1;33m)\u001b[0m\u001b[1;33m\u001b[0m\u001b[1;33m\u001b[0m\u001b[0m\n\u001b[0m",
      "\u001b[1;32m~\\Desktop\\Tec profesional\\Semestres\\Onceavo semestre\\Proyectos\\Github\\Lie_Symmetry_Analysis_Agorithm\\Notebooks\\Analysis\\Lie_Symmetry_Analysis.py\u001b[0m in \u001b[0;36mpoint_symmetries\u001b[1;34m(F, order, F_rules_array, list_indep, list_dep, list_cte, latex)\u001b[0m\n\u001b[0;32m     14\u001b[0m     \u001b[0mlist_all\u001b[0m \u001b[1;33m=\u001b[0m \u001b[0mlist_cte\u001b[0m \u001b[1;33m+\u001b[0m \u001b[0mlist_indep\u001b[0m \u001b[1;33m+\u001b[0m \u001b[0mlist_dep\u001b[0m\u001b[1;33m\u001b[0m\u001b[1;33m\u001b[0m\u001b[0m\n\u001b[0;32m     15\u001b[0m     \u001b[0mlatex_dict\u001b[0m \u001b[1;33m=\u001b[0m \u001b[1;33m{\u001b[0m\u001b[1;33m}\u001b[0m\u001b[1;33m\u001b[0m\u001b[1;33m\u001b[0m\u001b[0m\n\u001b[1;32m---> 16\u001b[1;33m     \u001b[1;32mfor\u001b[0m \u001b[0mi\u001b[0m \u001b[1;32min\u001b[0m \u001b[0mrange\u001b[0m\u001b[1;33m(\u001b[0m\u001b[1;36m0\u001b[0m\u001b[1;33m,\u001b[0m \u001b[0mN_indep\u001b[0m\u001b[1;33m)\u001b[0m\u001b[1;33m:\u001b[0m\u001b[1;33m\u001b[0m\u001b[1;33m\u001b[0m\u001b[0m\n\u001b[0m\u001b[0;32m     17\u001b[0m         \u001b[1;32mif\u001b[0m \u001b[0mlen\u001b[0m\u001b[1;33m(\u001b[0m\u001b[0mvar_list\u001b[0m\u001b[1;33m[\u001b[0m\u001b[0mi\u001b[0m\u001b[1;33m]\u001b[0m\u001b[1;33m)\u001b[0m \u001b[1;33m>\u001b[0m \u001b[1;36m1\u001b[0m\u001b[1;33m:\u001b[0m\u001b[1;33m\u001b[0m\u001b[1;33m\u001b[0m\u001b[0m\n\u001b[0;32m     18\u001b[0m             \u001b[0mlatex_dict\u001b[0m\u001b[1;33m[\u001b[0m\u001b[1;34m'xse'\u001b[0m \u001b[1;33m+\u001b[0m \u001b[0mstr\u001b[0m\u001b[1;33m(\u001b[0m\u001b[0mi\u001b[0m\u001b[1;33m+\u001b[0m\u001b[1;36m1\u001b[0m\u001b[1;33m)\u001b[0m\u001b[1;33m]\u001b[0m \u001b[1;33m=\u001b[0m \u001b[1;34m'xi^'\u001b[0m \u001b[1;33m+\u001b[0m\u001b[0;31m \u001b[0m\u001b[0;31m\\\u001b[0m\u001b[1;33m\u001b[0m\u001b[1;33m\u001b[0m\u001b[0m\n",
      "\u001b[1;31mNameError\u001b[0m: name 'N_indep' is not defined"
     ]
    }
   ],
   "source": [
    "# Real\n",
    "z, t, g1, g2, l, s = sp.symbols('z t gamma_1 gamma_2 lambda_0 sigma')\n",
    "u = sp.Function('u')(z, t)\n",
    "v = sp.Function('v')(z, t)\n",
    "list_indep = [z, t]\n",
    "list_dep = [u, v]\n",
    "list_cte = [g1, g2, l, s]\n",
    "F =  D(u,t) + D(v,z,z) + l*(v*u**2+v**3)+s*D(u,z,z,z)+\\\n",
    "    g1*D(u,z)*(u**2+v**2)+2*g2*u*(u*D(u,z)+v*D(v,z))\n",
    "F_rules_array = {D(u,z,z,z): (-1/s)*(D(u,t) + D(v,z,z) + l*(v*u**2+v**3)+\n",
    "    g1*D(u,z)*(u**2+v**2)+2*g2*u*(u*D(u,z)+v*D(v,z)))}\n",
    "order = 3\n",
    "F.expand()\n",
    "point_symmetries(F, order, F_rules_array, list_indep, list_dep, list_cte)"
   ]
  },
  {
   "cell_type": "code",
   "execution_count": null,
   "id": "0aaeee05",
   "metadata": {},
   "outputs": [],
   "source": [
    "# Imaginaria\n",
    "z, t, g1, g2, l, s = sp.symbols('z t gamma_1 gamma_2 lambda_0 sigma')\n",
    "u = sp.Function('u')(z, t)\n",
    "v = sp.Function('v')(z, t)\n",
    "list_indep = [z, t]\n",
    "list_dep = [u, v]\n",
    "list_cte = [g1, g2, l, s]\n",
    "F =-D(v,t) + D(u,z,z) + l*(v**2*u+u**3)-s*D(v,z,z,z)-\\\n",
    "    g1*D(v,z)*(u**2+v**2)-2*g2*v*(u*D(u,z)+v*D(v,z))\n",
    "F_rules_array = {D(v,z,z,z): 1/s*(-D(v,t) + D(u,z,z) + l*(v**2*u+u**3)-\\\n",
    "    g1*D(v,z)*(u**2+v**2)-2*g2*v*(u*D(u,z)+v*D(v,z)))}\n",
    "order = 3\n",
    "F.expand()\n",
    "point_symmetries(F, order, F_rules_array, list_indep, list_dep, list_cte)"
   ]
  },
  {
   "cell_type": "code",
   "execution_count": null,
   "id": "94d70822",
   "metadata": {},
   "outputs": [],
   "source": []
  }
 ],
 "metadata": {
  "kernelspec": {
   "display_name": "Python 3.9.13 ('lie_env')",
   "language": "python",
   "name": "python3"
  },
  "language_info": {
   "codemirror_mode": {
    "name": "ipython",
    "version": 3
   },
   "file_extension": ".py",
   "mimetype": "text/x-python",
   "name": "python",
   "nbconvert_exporter": "python",
   "pygments_lexer": "ipython3",
   "version": "3.9.13"
  },
  "vscode": {
   "interpreter": {
    "hash": "f0edfb93beaa955e245c49a5d13cbb385f9a29e21aedf72d394d91a9c331a577"
   }
  }
 },
 "nbformat": 4,
 "nbformat_minor": 5
}
