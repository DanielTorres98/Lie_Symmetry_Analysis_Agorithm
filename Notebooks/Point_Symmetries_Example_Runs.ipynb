{
 "cells": [
  {
   "cell_type": "code",
   "execution_count": 1,
   "id": "eba5a4f7",
   "metadata": {},
   "outputs": [],
   "source": [
    "from Analysis.Lie_Symmetry_Analysis import point_symmetries\n",
    "import sympy as sp\n",
    "from sympy import Derivative as D"
   ]
  },
  {
   "cell_type": "markdown",
   "id": "8e645ac1",
   "metadata": {},
   "source": [
    "# One equation of Hall MHD "
   ]
  },
  {
   "cell_type": "code",
   "execution_count": 4,
   "id": "390d367e",
   "metadata": {},
   "outputs": [
    {
     "data": {
      "text/latex": [
       "$\\displaystyle - \\gamma \\frac{\\partial^{2}}{\\partial x^{2}} b{\\left(x,y,z,t \\right)} - \\gamma \\frac{\\partial^{2}}{\\partial y^{2}} b{\\left(x,y,z,t \\right)} + \\sigma \\frac{\\partial}{\\partial x} \\psi{\\left(x,y,z,t \\right)} \\frac{\\partial^{3}}{\\partial y^{3}} \\psi{\\left(x,y,z,t \\right)} + \\sigma \\frac{\\partial}{\\partial x} \\psi{\\left(x,y,z,t \\right)} \\frac{\\partial^{3}}{\\partial y\\partial x^{2}} \\psi{\\left(x,y,z,t \\right)} - \\sigma \\frac{\\partial^{3}}{\\partial x^{3}} \\psi{\\left(x,y,z,t \\right)} \\frac{\\partial}{\\partial y} \\psi{\\left(x,y,z,t \\right)} - \\sigma \\frac{\\partial}{\\partial y} \\psi{\\left(x,y,z,t \\right)} \\frac{\\partial^{3}}{\\partial x\\partial y^{2}} \\psi{\\left(x,y,z,t \\right)} + \\frac{\\partial}{\\partial t} b{\\left(x,y,z,t \\right)} + \\frac{\\partial}{\\partial x} b{\\left(x,y,z,t \\right)} \\frac{\\partial}{\\partial y} \\phi{\\left(x,y,z,t \\right)} - \\frac{\\partial}{\\partial y} b{\\left(x,y,z,t \\right)} \\frac{\\partial}{\\partial x} \\phi{\\left(x,y,z,t \\right)} + \\frac{\\partial}{\\partial x} \\psi{\\left(x,y,z,t \\right)} \\frac{\\partial}{\\partial y} w{\\left(x,y,z,t \\right)} - \\frac{\\partial}{\\partial y} \\psi{\\left(x,y,z,t \\right)} \\frac{\\partial}{\\partial x} w{\\left(x,y,z,t \\right)}$"
      ],
      "text/plain": [
       "-gamma*Derivative(b(x, y, z, t), (x, 2)) - gamma*Derivative(b(x, y, z, t), (y, 2)) + sigma*Derivative(psi(x, y, z, t), x)*Derivative(psi(x, y, z, t), (y, 3)) + sigma*Derivative(psi(x, y, z, t), x)*Derivative(psi(x, y, z, t), (x, 2), y) - sigma*Derivative(psi(x, y, z, t), (x, 3))*Derivative(psi(x, y, z, t), y) - sigma*Derivative(psi(x, y, z, t), y)*Derivative(psi(x, y, z, t), (y, 2), x) + Derivative(b(x, y, z, t), t) + Derivative(b(x, y, z, t), x)*Derivative(phi(x, y, z, t), y) - Derivative(b(x, y, z, t), y)*Derivative(phi(x, y, z, t), x) + Derivative(psi(x, y, z, t), x)*Derivative(w(x, y, z, t), y) - Derivative(psi(x, y, z, t), y)*Derivative(w(x, y, z, t), x)"
      ]
     },
     "execution_count": 4,
     "metadata": {},
     "output_type": "execute_result"
    }
   ],
   "source": [
    "x, y, z, t = sp.symbols('x y z t')\n",
    "\n",
    "phi = sp.Function('phi')(x, y, z, t)\n",
    "psi = sp.Function('psi')(x, y, z, t)\n",
    "b = sp.Function('b')(x, y, z, t)\n",
    "w = sp.Function('w')(x, y, z, t)\n",
    "\n",
    "sigma, gamma = sp.symbols('sigma gamma')\n",
    "\n",
    "list_indep = [x, y, z, t]\n",
    "list_dep = [phi, psi, b, w]\n",
    "list_cte = [sigma, gamma]\n",
    "\n",
    "F =  D(b, t) + D(b, x)*D(phi, y) - D(b, y)*D(phi, x) + sigma*(D(psi, x)*(D(psi, x, x, y) + D(psi, y, y, y))-\n",
    "        D(psi, y)*(D(psi, x, x, x) + D(psi, y, y, x))) + D(psi, x)*D(w, y) - D(psi, y)*D(w, x) - gamma*(D(b,x,x) + D(b, y, y))\n",
    "\n",
    "F_rules_array = {D(psi, x, x, y): \n",
    "        - (sigma*D(psi, x))**(-1)*(D(b, t) + D(b, x)*D(phi, y) - D(b, y)*D(phi, x) \n",
    "        + D(psi, x)*D(w, y) - D(psi, y)*D(w, x) \n",
    "        - gamma*(D(b,x,x) + D(b, y, y)))\n",
    "        +(D(psi, x))**(-1)*D(psi, y)*(D(psi, x, x, x) + D(psi, y, y, x))\n",
    "        - D(psi, y, y, y)}\n",
    "\n",
    "order = 3\n",
    "F.expand()"
   ]
  },
  {
   "cell_type": "markdown",
   "id": "4cce1e1d",
   "metadata": {},
   "source": [
    "# Heat Equation"
   ]
  },
  {
   "cell_type": "code",
   "execution_count": 2,
   "id": "828d6ba7",
   "metadata": {},
   "outputs": [
    {
     "data": {
      "text/latex": [
       "$\\displaystyle - k \\frac{\\partial^{2}}{\\partial x^{2}} u{\\left(x,t \\right)} + \\frac{\\partial}{\\partial t} u{\\left(x,t \\right)}$"
      ],
      "text/plain": [
       "-k*Derivative(u(x, t), (x, 2)) + Derivative(u(x, t), t)"
      ]
     },
     "execution_count": 2,
     "metadata": {},
     "output_type": "execute_result"
    }
   ],
   "source": [
    "x, t, k = sp.symbols('x t k')\n",
    "u = sp.Function('u')(x, t)\n",
    "list_indep = [x, t]\n",
    "list_dep = [u]\n",
    "list_cte = [k]\n",
    "F =  D(u,t) - k*D(u,x,x)\n",
    "F_rules_array = {D(u,x,x):1/k*D(u,t)}\n",
    "order = 2\n",
    "F.expand()"
   ]
  },
  {
   "cell_type": "code",
   "execution_count": 3,
   "id": "3a7df6ab",
   "metadata": {},
   "outputs": [
    {
     "name": "stdout",
     "output_type": "stream",
     "text": [
      "['Derivative(u(x,t),x)^2', 'Derivative(u(x,t),t)*Derivative(u(x,t),x)^2', 'Derivative(u(x,t),t)*Derivative(u(x,t),x)', 'Derivative(u(x,t),t)', 'Derivative(u(x,t),x)^3', 'Derivative(u(x,t),x)*Derivative(u(x,t),t,x)', 'Derivative(u(x,t),x)', 'Derivative(u(x,t),t,x)']\n"
     ]
    },
    {
     "data": {
      "text/latex": [
       "$\\displaystyle \\left[\\begin{matrix}1 & \\xi^{(t)}_{u u} = 0\\\\2 & 2 k \\xi^{(t)}_{x u} + 2 \\xi^{(x)}_{u} = 0\\\\3 & k \\xi^{(t)}_{x x} - \\xi^{(t)}_{t} + 2 \\xi^{(x)}_{x} = 0\\\\4 & \\xi^{(x)}_{u u} = 0\\\\5 & \\xi^{(t)}_{u} = 0\\\\6 & \\xi^{(t)}_{x} = 0\\\\7 & - \\eta^{(u)}_{u u} k + 2 k \\xi^{(x)}_{x u} = 0\\\\8 & - 2 \\eta^{(u)}_{x u} k + k \\xi^{(x)}_{x x} - \\xi^{(x)}_{t} = 0\\\\9 & \\eta^{(u)}_{t} - \\eta^{(u)}_{x x} k = 0\\end{matrix}\\right]$"
      ],
      "text/plain": [
       "Matrix([\n",
       "[1,                                 Eq(xi^(t)_u_u, 0)],\n",
       "[2,                Eq(2*k*xi^(t)_x_u + 2*xi^(x)_u, 0)],\n",
       "[3,       Eq(k*xi^(t)_x_x - xi^(t)_t + 2*xi^(x)_x, 0)],\n",
       "[4,                                 Eq(xi^(x)_u_u, 0)],\n",
       "[5,                                   Eq(xi^(t)_u, 0)],\n",
       "[6,                                   Eq(xi^(t)_x, 0)],\n",
       "[7,            Eq(-eta^(u)_u_u*k + 2*k*xi^(x)_x_u, 0)],\n",
       "[8, Eq(-2*eta^(u)_x_u*k + k*xi^(x)_x_x - xi^(x)_t, 0)],\n",
       "[9,                  Eq(eta^(u)_t - eta^(u)_x_x*k, 0)]])"
      ]
     },
     "execution_count": 3,
     "metadata": {},
     "output_type": "execute_result"
    }
   ],
   "source": [
    "point_symmetries(F, order, F_rules_array, list_indep, list_dep, list_cte)"
   ]
  },
  {
   "cell_type": "markdown",
   "id": "2fec52c8",
   "metadata": {},
   "source": [
    "# Blasius Equation"
   ]
  },
  {
   "cell_type": "code",
   "execution_count": 2,
   "id": "138a5033",
   "metadata": {},
   "outputs": [
    {
     "name": "stdout",
     "output_type": "stream",
     "text": [
      "{'Derivative(y(x),x)^3': None, 'Derivative(y(x),(x,2))^2': None, 'Derivative(y(x),x)^2*Derivative(y(x),(x,2))': None, 'Derivative(y(x),x)^4': None, 'Derivative(y(x),x)*Derivative(y(x),(x,2))': None, 'Derivative(y(x),x)^2': None, 'Derivative(y(x),x)': None, 'Derivative(y(x),(x,2))': None}\n"
     ]
    },
    {
     "ename": "SympifyError",
     "evalue": "Sympify of expression 'could not parse 'Derivative(xix(x, _xi), (_xi, 2), _xi, y(x), _xi, y(_xi, y(x)'' failed, because of exception being raised:\nTokenError: ('EOF in multi-line statement', (2, 0))",
     "output_type": "error",
     "traceback": [
      "\u001b[1;31m---------------------------------------------------------------------------\u001b[0m",
      "\u001b[1;31mTokenError\u001b[0m                                Traceback (most recent call last)",
      "\u001b[1;32m~\\Anaconda3\\lib\\site-packages\\sympy\\core\\sympify.py\u001b[0m in \u001b[0;36msympify\u001b[1;34m(a, locals, convert_xor, strict, rational, evaluate)\u001b[0m\n\u001b[0;32m    478\u001b[0m         \u001b[0ma\u001b[0m \u001b[1;33m=\u001b[0m \u001b[0ma\u001b[0m\u001b[1;33m.\u001b[0m\u001b[0mreplace\u001b[0m\u001b[1;33m(\u001b[0m\u001b[1;34m'\\n'\u001b[0m\u001b[1;33m,\u001b[0m \u001b[1;34m''\u001b[0m\u001b[1;33m)\u001b[0m\u001b[1;33m\u001b[0m\u001b[1;33m\u001b[0m\u001b[0m\n\u001b[1;32m--> 479\u001b[1;33m         \u001b[0mexpr\u001b[0m \u001b[1;33m=\u001b[0m \u001b[0mparse_expr\u001b[0m\u001b[1;33m(\u001b[0m\u001b[0ma\u001b[0m\u001b[1;33m,\u001b[0m \u001b[0mlocal_dict\u001b[0m\u001b[1;33m=\u001b[0m\u001b[0mlocals\u001b[0m\u001b[1;33m,\u001b[0m \u001b[0mtransformations\u001b[0m\u001b[1;33m=\u001b[0m\u001b[0mtransformations\u001b[0m\u001b[1;33m,\u001b[0m \u001b[0mevaluate\u001b[0m\u001b[1;33m=\u001b[0m\u001b[0mevaluate\u001b[0m\u001b[1;33m)\u001b[0m\u001b[1;33m\u001b[0m\u001b[1;33m\u001b[0m\u001b[0m\n\u001b[0m\u001b[0;32m    480\u001b[0m     \u001b[1;32mexcept\u001b[0m \u001b[1;33m(\u001b[0m\u001b[0mTokenError\u001b[0m\u001b[1;33m,\u001b[0m \u001b[0mSyntaxError\u001b[0m\u001b[1;33m)\u001b[0m \u001b[1;32mas\u001b[0m \u001b[0mexc\u001b[0m\u001b[1;33m:\u001b[0m\u001b[1;33m\u001b[0m\u001b[1;33m\u001b[0m\u001b[0m\n",
      "\u001b[1;32m~\\Anaconda3\\lib\\site-packages\\sympy\\parsing\\sympy_parser.py\u001b[0m in \u001b[0;36mparse_expr\u001b[1;34m(s, local_dict, transformations, global_dict, evaluate)\u001b[0m\n\u001b[0;32m   1009\u001b[0m                     takes 3 arguments'''))\n\u001b[1;32m-> 1010\u001b[1;33m     \u001b[0mcode\u001b[0m \u001b[1;33m=\u001b[0m \u001b[0mstringify_expr\u001b[0m\u001b[1;33m(\u001b[0m\u001b[0ms\u001b[0m\u001b[1;33m,\u001b[0m \u001b[0mlocal_dict\u001b[0m\u001b[1;33m,\u001b[0m \u001b[0mglobal_dict\u001b[0m\u001b[1;33m,\u001b[0m \u001b[0mtransformations\u001b[0m\u001b[1;33m)\u001b[0m\u001b[1;33m\u001b[0m\u001b[1;33m\u001b[0m\u001b[0m\n\u001b[0m\u001b[0;32m   1011\u001b[0m \u001b[1;33m\u001b[0m\u001b[0m\n",
      "\u001b[1;32m~\\Anaconda3\\lib\\site-packages\\sympy\\parsing\\sympy_parser.py\u001b[0m in \u001b[0;36mstringify_expr\u001b[1;34m(s, local_dict, global_dict, transformations)\u001b[0m\n\u001b[0;32m    894\u001b[0m     \u001b[0minput_code\u001b[0m \u001b[1;33m=\u001b[0m \u001b[0mStringIO\u001b[0m\u001b[1;33m(\u001b[0m\u001b[0ms\u001b[0m\u001b[1;33m.\u001b[0m\u001b[0mstrip\u001b[0m\u001b[1;33m(\u001b[0m\u001b[1;33m)\u001b[0m\u001b[1;33m)\u001b[0m\u001b[1;33m\u001b[0m\u001b[1;33m\u001b[0m\u001b[0m\n\u001b[1;32m--> 895\u001b[1;33m     \u001b[1;32mfor\u001b[0m \u001b[0mtoknum\u001b[0m\u001b[1;33m,\u001b[0m \u001b[0mtokval\u001b[0m\u001b[1;33m,\u001b[0m \u001b[0m_\u001b[0m\u001b[1;33m,\u001b[0m \u001b[0m_\u001b[0m\u001b[1;33m,\u001b[0m \u001b[0m_\u001b[0m \u001b[1;32min\u001b[0m \u001b[0mgenerate_tokens\u001b[0m\u001b[1;33m(\u001b[0m\u001b[0minput_code\u001b[0m\u001b[1;33m.\u001b[0m\u001b[0mreadline\u001b[0m\u001b[1;33m)\u001b[0m\u001b[1;33m:\u001b[0m\u001b[1;33m\u001b[0m\u001b[1;33m\u001b[0m\u001b[0m\n\u001b[0m\u001b[0;32m    896\u001b[0m         \u001b[0mtokens\u001b[0m\u001b[1;33m.\u001b[0m\u001b[0mappend\u001b[0m\u001b[1;33m(\u001b[0m\u001b[1;33m(\u001b[0m\u001b[0mtoknum\u001b[0m\u001b[1;33m,\u001b[0m \u001b[0mtokval\u001b[0m\u001b[1;33m)\u001b[0m\u001b[1;33m)\u001b[0m\u001b[1;33m\u001b[0m\u001b[1;33m\u001b[0m\u001b[0m\n",
      "\u001b[1;32m~\\Anaconda3\\lib\\tokenize.py\u001b[0m in \u001b[0;36m_tokenize\u001b[1;34m(readline, encoding)\u001b[0m\n\u001b[0;32m    520\u001b[0m             \u001b[1;32mif\u001b[0m \u001b[1;32mnot\u001b[0m \u001b[0mline\u001b[0m\u001b[1;33m:\u001b[0m\u001b[1;33m\u001b[0m\u001b[1;33m\u001b[0m\u001b[0m\n\u001b[1;32m--> 521\u001b[1;33m                 \u001b[1;32mraise\u001b[0m \u001b[0mTokenError\u001b[0m\u001b[1;33m(\u001b[0m\u001b[1;34m\"EOF in multi-line statement\"\u001b[0m\u001b[1;33m,\u001b[0m \u001b[1;33m(\u001b[0m\u001b[0mlnum\u001b[0m\u001b[1;33m,\u001b[0m \u001b[1;36m0\u001b[0m\u001b[1;33m)\u001b[0m\u001b[1;33m)\u001b[0m\u001b[1;33m\u001b[0m\u001b[1;33m\u001b[0m\u001b[0m\n\u001b[0m\u001b[0;32m    522\u001b[0m             \u001b[0mcontinued\u001b[0m \u001b[1;33m=\u001b[0m \u001b[1;36m0\u001b[0m\u001b[1;33m\u001b[0m\u001b[1;33m\u001b[0m\u001b[0m\n",
      "\u001b[1;31mTokenError\u001b[0m: ('EOF in multi-line statement', (2, 0))",
      "\nDuring handling of the above exception, another exception occurred:\n",
      "\u001b[1;31mSympifyError\u001b[0m                              Traceback (most recent call last)",
      "\u001b[1;32m<ipython-input-2-b0f0ceb84224>\u001b[0m in \u001b[0;36m<module>\u001b[1;34m\u001b[0m\n\u001b[0;32m      8\u001b[0m \u001b[0morder\u001b[0m \u001b[1;33m=\u001b[0m \u001b[1;36m3\u001b[0m\u001b[1;33m\u001b[0m\u001b[1;33m\u001b[0m\u001b[0m\n\u001b[0;32m      9\u001b[0m \u001b[0mF\u001b[0m\u001b[1;33m.\u001b[0m\u001b[0mexpand\u001b[0m\u001b[1;33m(\u001b[0m\u001b[1;33m)\u001b[0m\u001b[1;33m\u001b[0m\u001b[1;33m\u001b[0m\u001b[0m\n\u001b[1;32m---> 10\u001b[1;33m \u001b[0mpoint_symmetries\u001b[0m\u001b[1;33m(\u001b[0m\u001b[0mF\u001b[0m\u001b[1;33m,\u001b[0m \u001b[0morder\u001b[0m\u001b[1;33m,\u001b[0m \u001b[0mF_rules_array\u001b[0m\u001b[1;33m,\u001b[0m \u001b[0mlist_indep\u001b[0m\u001b[1;33m,\u001b[0m \u001b[0mlist_dep\u001b[0m\u001b[1;33m,\u001b[0m \u001b[0mlist_cte\u001b[0m\u001b[1;33m)\u001b[0m\u001b[1;33m\u001b[0m\u001b[1;33m\u001b[0m\u001b[0m\n\u001b[0m",
      "\u001b[1;32m~\\Documents\\New folder\\Lie_Symmetry_Analysis_Agorithm\\Notebooks\\Analysis\\Lie_Symmetry_Analysis.py\u001b[0m in \u001b[0;36mpoint_symmetries\u001b[1;34m(F, order, F_rules_array, list_indep, list_dep, list_cte)\u001b[0m\n\u001b[0;32m     30\u001b[0m     \u001b[0mprint\u001b[0m\u001b[1;33m(\u001b[0m\u001b[0mempty_det_eqn\u001b[0m\u001b[1;33m)\u001b[0m\u001b[1;33m\u001b[0m\u001b[1;33m\u001b[0m\u001b[0m\n\u001b[0;32m     31\u001b[0m     \u001b[0mdet_eqn\u001b[0m \u001b[1;33m=\u001b[0m \u001b[0mget_det_eqns\u001b[0m\u001b[1;33m(\u001b[0m\u001b[0mXF\u001b[0m\u001b[1;33m,\u001b[0m \u001b[0mempty_det_eqn\u001b[0m\u001b[1;33m)\u001b[0m\u001b[1;33m\u001b[0m\u001b[1;33m\u001b[0m\u001b[0m\n\u001b[1;32m---> 32\u001b[1;33m     \u001b[0mdet_eqn\u001b[0m \u001b[1;33m=\u001b[0m \u001b[0mstr_eqn_to_dict_eqn\u001b[0m\u001b[1;33m(\u001b[0m\u001b[0mdet_eqn\u001b[0m\u001b[1;33m,\u001b[0m \u001b[0mlist_var\u001b[0m\u001b[1;33m,\u001b[0m \u001b[0mlist_all\u001b[0m\u001b[1;33m)\u001b[0m\u001b[1;33m\u001b[0m\u001b[1;33m\u001b[0m\u001b[0m\n\u001b[0m\u001b[0;32m     33\u001b[0m     \u001b[0mdet_eqn\u001b[0m \u001b[1;33m=\u001b[0m \u001b[0msimplify_redundant_eqn\u001b[0m\u001b[1;33m(\u001b[0m\u001b[0mdet_eqn\u001b[0m\u001b[1;33m)\u001b[0m\u001b[1;33m\u001b[0m\u001b[1;33m\u001b[0m\u001b[0m\n\u001b[0;32m     34\u001b[0m     \u001b[1;32mreturn\u001b[0m \u001b[0msym_det_eqn\u001b[0m\u001b[1;33m(\u001b[0m\u001b[0mdet_eqn\u001b[0m\u001b[1;33m,\u001b[0m \u001b[0mlist_indep\u001b[0m\u001b[1;33m,\u001b[0m \u001b[0mlist_dep\u001b[0m\u001b[1;33m,\u001b[0m \u001b[0mlist_cte\u001b[0m\u001b[1;33m)\u001b[0m\u001b[1;33m\u001b[0m\u001b[1;33m\u001b[0m\u001b[0m\n",
      "\u001b[1;32m~\\Documents\\New folder\\Lie_Symmetry_Analysis_Agorithm\\Notebooks\\utils\\algebra.py\u001b[0m in \u001b[0;36mstr_eqn_to_dict_eqn\u001b[1;34m(dict_det_eqn, list_var, list_all)\u001b[0m\n\u001b[0;32m    301\u001b[0m             term = {\"coefficient\": 1, \"constants\": None,\n\u001b[0;32m    302\u001b[0m                     \"derivatives\": None, \"variable\": None}\n\u001b[1;32m--> 303\u001b[1;33m             aux_list.append(str_to_dict(sp.sympify(str_term), term, arr_pow,\n\u001b[0m\u001b[0;32m    304\u001b[0m                   arr_deriv, np.array(list_all), np.array(list_var)))\n\u001b[0;32m    305\u001b[0m         \u001b[0mdet_eqn\u001b[0m\u001b[1;33m.\u001b[0m\u001b[0mappend\u001b[0m\u001b[1;33m(\u001b[0m\u001b[0maux_list\u001b[0m\u001b[1;33m)\u001b[0m\u001b[1;33m\u001b[0m\u001b[1;33m\u001b[0m\u001b[0m\n",
      "\u001b[1;32m~\\Documents\\New folder\\Lie_Symmetry_Analysis_Agorithm\\Notebooks\\utils\\algebra.py\u001b[0m in \u001b[0;36mstr_to_dict\u001b[1;34m(f, term, arr_pow, arr_deriv, list_all, list_var)\u001b[0m\n\u001b[0;32m    337\u001b[0m     \u001b[1;32mif\u001b[0m \u001b[0mf\u001b[0m\u001b[1;33m.\u001b[0m\u001b[0mis_Mul\u001b[0m\u001b[1;33m:\u001b[0m\u001b[1;33m\u001b[0m\u001b[1;33m\u001b[0m\u001b[0m\n\u001b[0;32m    338\u001b[0m         \u001b[1;32mfor\u001b[0m \u001b[0mi\u001b[0m \u001b[1;32min\u001b[0m \u001b[0mf\u001b[0m\u001b[1;33m.\u001b[0m\u001b[0margs\u001b[0m\u001b[1;33m:\u001b[0m\u001b[1;33m\u001b[0m\u001b[1;33m\u001b[0m\u001b[0m\n\u001b[1;32m--> 339\u001b[1;33m             \u001b[0mstr_to_dict\u001b[0m\u001b[1;33m(\u001b[0m\u001b[0mi\u001b[0m\u001b[1;33m,\u001b[0m \u001b[0mterm\u001b[0m\u001b[1;33m,\u001b[0m \u001b[0marr_pow\u001b[0m\u001b[1;33m,\u001b[0m \u001b[0marr_deriv\u001b[0m\u001b[1;33m,\u001b[0m \u001b[0mlist_all\u001b[0m\u001b[1;33m,\u001b[0m \u001b[0mlist_var\u001b[0m\u001b[1;33m)\u001b[0m\u001b[1;33m\u001b[0m\u001b[1;33m\u001b[0m\u001b[0m\n\u001b[0m\u001b[0;32m    340\u001b[0m     \u001b[1;32melse\u001b[0m\u001b[1;33m:\u001b[0m\u001b[1;33m\u001b[0m\u001b[1;33m\u001b[0m\u001b[0m\n\u001b[0;32m    341\u001b[0m         \u001b[1;32mif\u001b[0m \u001b[0mf\u001b[0m\u001b[1;33m.\u001b[0m\u001b[0margs\u001b[0m \u001b[1;33m==\u001b[0m \u001b[1;33m(\u001b[0m\u001b[1;33m)\u001b[0m\u001b[1;33m:\u001b[0m\u001b[1;33m\u001b[0m\u001b[1;33m\u001b[0m\u001b[0m\n",
      "\u001b[1;32m~\\Documents\\New folder\\Lie_Symmetry_Analysis_Agorithm\\Notebooks\\utils\\algebra.py\u001b[0m in \u001b[0;36mstr_to_dict\u001b[1;34m(f, term, arr_pow, arr_deriv, list_all, list_var)\u001b[0m\n\u001b[0;32m    376\u001b[0m                 \u001b[0msubs_t\u001b[0m \u001b[1;33m=\u001b[0m \u001b[0mre\u001b[0m\u001b[1;33m.\u001b[0m\u001b[0msplit\u001b[0m\u001b[1;33m(\u001b[0m\u001b[1;34m','\u001b[0m\u001b[1;33m,\u001b[0m\u001b[0ms\u001b[0m\u001b[1;33m)\u001b[0m\u001b[1;33m[\u001b[0m\u001b[1;33m-\u001b[0m\u001b[1;36m1\u001b[0m\u001b[1;33m]\u001b[0m\u001b[1;33m.\u001b[0m\u001b[0mstrip\u001b[0m\u001b[1;33m(\u001b[0m\u001b[1;34m')'\u001b[0m\u001b[1;33m)\u001b[0m\u001b[1;33m.\u001b[0m\u001b[0mstrip\u001b[0m\u001b[1;33m(\u001b[0m\u001b[1;34m' '\u001b[0m\u001b[1;33m)\u001b[0m\u001b[1;33m\u001b[0m\u001b[1;33m\u001b[0m\u001b[0m\n\u001b[0;32m    377\u001b[0m             \u001b[0ms\u001b[0m \u001b[1;33m=\u001b[0m \u001b[0ms\u001b[0m\u001b[1;33m.\u001b[0m\u001b[0mreplace\u001b[0m\u001b[1;33m(\u001b[0m\u001b[0msubs\u001b[0m\u001b[1;33m,\u001b[0m \u001b[0msubs_t\u001b[0m\u001b[1;33m)\u001b[0m\u001b[1;33m\u001b[0m\u001b[1;33m\u001b[0m\u001b[0m\n\u001b[1;32m--> 378\u001b[1;33m             \u001b[0mf\u001b[0m \u001b[1;33m=\u001b[0m \u001b[0msp\u001b[0m\u001b[1;33m.\u001b[0m\u001b[0msympify\u001b[0m\u001b[1;33m(\u001b[0m\u001b[0mparens\u001b[0m\u001b[1;33m(\u001b[0m\u001b[0ms\u001b[0m\u001b[1;33m)\u001b[0m\u001b[1;33m.\u001b[0m\u001b[0mstrip\u001b[0m\u001b[1;33m(\u001b[0m\u001b[1;34m'('\u001b[0m\u001b[1;33m)\u001b[0m\u001b[1;33m)\u001b[0m\u001b[1;33m\u001b[0m\u001b[1;33m\u001b[0m\u001b[0m\n\u001b[0m\u001b[0;32m    379\u001b[0m             \u001b[1;32mif\u001b[0m \u001b[0misinstance\u001b[0m\u001b[1;33m(\u001b[0m\u001b[0mf\u001b[0m\u001b[1;33m,\u001b[0m \u001b[0mtuple\u001b[0m\u001b[1;33m)\u001b[0m\u001b[1;33m:\u001b[0m\u001b[1;33m\u001b[0m\u001b[1;33m\u001b[0m\u001b[0m\n\u001b[0;32m    380\u001b[0m                 \u001b[0mf\u001b[0m \u001b[1;33m=\u001b[0m \u001b[0mf\u001b[0m\u001b[1;33m[\u001b[0m\u001b[1;36m0\u001b[0m\u001b[1;33m]\u001b[0m\u001b[1;33m\u001b[0m\u001b[1;33m\u001b[0m\u001b[0m\n",
      "\u001b[1;32m~\\Anaconda3\\lib\\site-packages\\sympy\\core\\sympify.py\u001b[0m in \u001b[0;36msympify\u001b[1;34m(a, locals, convert_xor, strict, rational, evaluate)\u001b[0m\n\u001b[0;32m    479\u001b[0m         \u001b[0mexpr\u001b[0m \u001b[1;33m=\u001b[0m \u001b[0mparse_expr\u001b[0m\u001b[1;33m(\u001b[0m\u001b[0ma\u001b[0m\u001b[1;33m,\u001b[0m \u001b[0mlocal_dict\u001b[0m\u001b[1;33m=\u001b[0m\u001b[0mlocals\u001b[0m\u001b[1;33m,\u001b[0m \u001b[0mtransformations\u001b[0m\u001b[1;33m=\u001b[0m\u001b[0mtransformations\u001b[0m\u001b[1;33m,\u001b[0m \u001b[0mevaluate\u001b[0m\u001b[1;33m=\u001b[0m\u001b[0mevaluate\u001b[0m\u001b[1;33m)\u001b[0m\u001b[1;33m\u001b[0m\u001b[1;33m\u001b[0m\u001b[0m\n\u001b[0;32m    480\u001b[0m     \u001b[1;32mexcept\u001b[0m \u001b[1;33m(\u001b[0m\u001b[0mTokenError\u001b[0m\u001b[1;33m,\u001b[0m \u001b[0mSyntaxError\u001b[0m\u001b[1;33m)\u001b[0m \u001b[1;32mas\u001b[0m \u001b[0mexc\u001b[0m\u001b[1;33m:\u001b[0m\u001b[1;33m\u001b[0m\u001b[1;33m\u001b[0m\u001b[0m\n\u001b[1;32m--> 481\u001b[1;33m         \u001b[1;32mraise\u001b[0m \u001b[0mSympifyError\u001b[0m\u001b[1;33m(\u001b[0m\u001b[1;34m'could not parse %r'\u001b[0m \u001b[1;33m%\u001b[0m \u001b[0ma\u001b[0m\u001b[1;33m,\u001b[0m \u001b[0mexc\u001b[0m\u001b[1;33m)\u001b[0m\u001b[1;33m\u001b[0m\u001b[1;33m\u001b[0m\u001b[0m\n\u001b[0m\u001b[0;32m    482\u001b[0m \u001b[1;33m\u001b[0m\u001b[0m\n\u001b[0;32m    483\u001b[0m     \u001b[1;32mreturn\u001b[0m \u001b[0mexpr\u001b[0m\u001b[1;33m\u001b[0m\u001b[1;33m\u001b[0m\u001b[0m\n",
      "\u001b[1;31mSympifyError\u001b[0m: Sympify of expression 'could not parse 'Derivative(xix(x, _xi), (_xi, 2), _xi, y(x), _xi, y(_xi, y(x)'' failed, because of exception being raised:\nTokenError: ('EOF in multi-line statement', (2, 0))"
     ]
    }
   ],
   "source": [
    "x = sp.symbols('x')\n",
    "y = sp.Function('y')(x)\n",
    "list_indep = [x]\n",
    "list_dep = [y]\n",
    "list_cte = []\n",
    "F =  D(y,x,x,x) + y*D(y,x,x)\n",
    "F_rules_array = {D(y,x,x,x):-y*D(y,x,x)}\n",
    "order = 3\n",
    "F.expand()\n",
    "point_symmetries(F, order, F_rules_array, list_indep, list_dep, list_cte)"
   ]
  },
  {
   "cell_type": "markdown",
   "id": "48b1d293",
   "metadata": {},
   "source": [
    "# Wave Equation"
   ]
  },
  {
   "cell_type": "code",
   "execution_count": 4,
   "id": "b8136f3c",
   "metadata": {},
   "outputs": [
    {
     "data": {
      "text/latex": [
       "$\\displaystyle - k \\frac{\\partial^{2}}{\\partial x^{2}} u{\\left(x,t \\right)} + \\frac{\\partial}{\\partial t} u{\\left(x,t \\right)}$"
      ],
      "text/plain": [
       "-k*Derivative(u(x, t), (x, 2)) + Derivative(u(x, t), t)"
      ]
     },
     "execution_count": 4,
     "metadata": {},
     "output_type": "execute_result"
    }
   ],
   "source": [
    "x, t, k = sp.symbols('x t k')\n",
    "u = sp.Function('u')(x, t)\n",
    "list_indep = [x, t]\n",
    "list_dep = [u]\n",
    "list_var = list_indep + list_dep\n",
    "list_cte = [k]\n",
    "list_all = list_cte + list_indep + list_dep\n",
    "F =  D(u,t) - k*D(u,x,x)\n",
    "F_rules_array = {D(u,x,x):1/k*D(u,t)}\n",
    "order = 2\n",
    "F.expand()"
   ]
  },
  {
   "cell_type": "code",
   "execution_count": 5,
   "id": "45c74f53",
   "metadata": {},
   "outputs": [
    {
     "name": "stdout",
     "output_type": "stream",
     "text": [
      "['Derivative(u(x,t),x)^2', 'Derivative(u(x,t),t)*Derivative(u(x,t),x)^2', 'Derivative(u(x,t),t)*Derivative(u(x,t),x)', 'Derivative(u(x,t),t)', 'Derivative(u(x,t),x)^3', 'Derivative(u(x,t),x)*Derivative(u(x,t),t,x)', 'Derivative(u(x,t),x)', 'Derivative(u(x,t),t,x)']\n"
     ]
    },
    {
     "data": {
      "text/latex": [
       "$\\displaystyle \\left[\\begin{matrix}1 & \\xi^{(t)}_{u u} = 0\\\\2 & 2 k \\xi^{(t)}_{x u} + 2 \\xi^{(x)}_{u} = 0\\\\3 & k \\xi^{(t)}_{x x} - \\xi^{(t)}_{t} + 2 \\xi^{(x)}_{x} = 0\\\\4 & \\xi^{(x)}_{u u} = 0\\\\5 & \\xi^{(t)}_{u} = 0\\\\6 & \\xi^{(t)}_{x} = 0\\\\7 & - \\eta^{(u)}_{u u} k + 2 k \\xi^{(x)}_{x u} = 0\\\\8 & - 2 \\eta^{(u)}_{x u} k + k \\xi^{(x)}_{x x} - \\xi^{(x)}_{t} = 0\\\\9 & \\eta^{(u)}_{t} - \\eta^{(u)}_{x x} k = 0\\end{matrix}\\right]$"
      ],
      "text/plain": [
       "Matrix([\n",
       "[1,                                 Eq(xi^(t)_u_u, 0)],\n",
       "[2,                Eq(2*k*xi^(t)_x_u + 2*xi^(x)_u, 0)],\n",
       "[3,       Eq(k*xi^(t)_x_x - xi^(t)_t + 2*xi^(x)_x, 0)],\n",
       "[4,                                 Eq(xi^(x)_u_u, 0)],\n",
       "[5,                                   Eq(xi^(t)_u, 0)],\n",
       "[6,                                   Eq(xi^(t)_x, 0)],\n",
       "[7,            Eq(-eta^(u)_u_u*k + 2*k*xi^(x)_x_u, 0)],\n",
       "[8, Eq(-2*eta^(u)_x_u*k + k*xi^(x)_x_x - xi^(x)_t, 0)],\n",
       "[9,                  Eq(eta^(u)_t - eta^(u)_x_x*k, 0)]])"
      ]
     },
     "execution_count": 5,
     "metadata": {},
     "output_type": "execute_result"
    }
   ],
   "source": [
    "point_symmetries(F, order, F_rules_array, list_indep, list_dep, list_cte)"
   ]
  },
  {
   "cell_type": "markdown",
   "id": "ad940595",
   "metadata": {},
   "source": [
    "# Schrödinger Equation"
   ]
  },
  {
   "cell_type": "code",
   "execution_count": 8,
   "id": "764a5c23",
   "metadata": {},
   "outputs": [
    {
     "name": "stdout",
     "output_type": "stream",
     "text": [
      "['Derivative(u(x,t),t)*Derivative(u(x,t),x)', 'Derivative(u(x,t),t)', 'Derivative(u(x,t),x)', 'Derivative(u(x,t),x)^2', 'Derivative(u(x,t),t)*Derivative(u(x,t),x)^2', 'Derivative(u(x,t),x)^3', 'Derivative(u(x,t),x)*Derivative(u(x,t),t,x)', 'Derivative(u(x,t),t,x)']\n"
     ]
    },
    {
     "data": {
      "text/latex": [
       "$\\displaystyle \\left[\\begin{matrix}1 & i k \\xi^{(t)}_{t} - 2 i k \\xi^{(x)}_{x} + x^{2} \\xi^{(t)} = 0\\\\2 & - 2 \\eta^{(u)}_{x u} + i k \\xi^{(x)}_{t} + x^{2} \\xi^{(x)} + \\xi^{(x)}_{x x} = 0\\\\3 & \\eta^{(u)} x^{2} - \\eta^{(u)}_{t} i k - \\eta^{(u)}_{u} x^{2} - \\eta^{(u)}_{x x} + 2 x^{2} \\xi^{(x)}_{x} + 2 x \\xi^{(x)} u{\\left(x,t \\right)} = 0\\\\4 & \\xi^{(t)}_{u u} = 0\\\\5 & \\xi^{(x)}_{u u} = 0\\\\6 & \\xi^{(t)}_{u} = 0\\\\7 & \\xi^{(t)}_{x} = 0\\\\8 & \\xi^{(x)}_{u} = 0\\\\9 & \\eta^{(u)}_{u u} = 0\\end{matrix}\\right]$"
      ],
      "text/plain": [
       "Matrix([\n",
       "[1,                                                        Eq(i*k*xi^(t)_t - 2*i*k*xi^(x)_x + x**2*xi^(t), 0)],\n",
       "[2,                                           Eq(-2*eta^(u)_x_u + i*k*xi^(x)_t + x**2*xi^(x) + xi^(x)_x_x, 0)],\n",
       "[3, Eq(eta^(u)*x**2 - eta^(u)_t*i*k - eta^(u)_u*x**2 - eta^(u)_x_x + 2*x**2*xi^(x)_x + 2*x*xi^(x)*u(x, t), 0)],\n",
       "[4,                                                                                         Eq(xi^(t)_u_u, 0)],\n",
       "[5,                                                                                         Eq(xi^(x)_u_u, 0)],\n",
       "[6,                                                                                           Eq(xi^(t)_u, 0)],\n",
       "[7,                                                                                           Eq(xi^(t)_x, 0)],\n",
       "[8,                                                                                           Eq(xi^(x)_u, 0)],\n",
       "[9,                                                                                        Eq(eta^(u)_u_u, 0)]])"
      ]
     },
     "execution_count": 8,
     "metadata": {},
     "output_type": "execute_result"
    }
   ],
   "source": [
    "x, t, k, i = sp.symbols('x t k i')\n",
    "u = sp.Function('u')(x, t)\n",
    "list_indep = [x, t]\n",
    "list_dep = [u]\n",
    "list_cte = [k, i]\n",
    "F =  -D(u,x,x) +x**2*u-i*k*D(u,t)\n",
    "F_rules_array = {D(u,x,x):x**2-i*k*D(u,t)}\n",
    "order = 2\n",
    "F.expand()\n",
    "point_symmetries(F, order, F_rules_array, list_indep, list_dep, list_cte)"
   ]
  },
  {
   "cell_type": "code",
   "execution_count": null,
   "id": "20a9e4f3",
   "metadata": {},
   "outputs": [],
   "source": []
  }
 ],
 "metadata": {
  "kernelspec": {
   "display_name": "Python 3",
   "language": "python",
   "name": "python3"
  },
  "language_info": {
   "codemirror_mode": {
    "name": "ipython",
    "version": 3
   },
   "file_extension": ".py",
   "mimetype": "text/x-python",
   "name": "python",
   "nbconvert_exporter": "python",
   "pygments_lexer": "ipython3",
   "version": "3.8.8"
  }
 },
 "nbformat": 4,
 "nbformat_minor": 5
}
