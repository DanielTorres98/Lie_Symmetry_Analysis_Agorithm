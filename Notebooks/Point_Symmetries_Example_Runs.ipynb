{
 "cells": [
  {
   "cell_type": "code",
   "execution_count": 1,
   "id": "b31bfe4a",
   "metadata": {},
   "outputs": [],
   "source": [
    "%load_ext autoreload\n",
    "%autoreload 2"
   ]
  },
  {
   "cell_type": "code",
   "execution_count": 2,
   "id": "a970b979",
   "metadata": {},
   "outputs": [],
   "source": [
    "from symmetries.analysis.lie_symmetry_analysis import point_symmetries\n",
    "import sympy as sp\n",
    "from sympy import Derivative as D"
   ]
  },
  {
   "cell_type": "markdown",
   "metadata": {},
   "source": [
    "# One equation of Hall MHD "
   ]
  },
  {
   "cell_type": "code",
   "execution_count": 3,
   "metadata": {},
   "outputs": [
    {
     "data": {
      "text/latex": [
       "$\\displaystyle - \\gamma \\frac{\\partial^{2}}{\\partial x^{2}} b{\\left(x,y,z,t \\right)} - \\gamma \\frac{\\partial^{2}}{\\partial y^{2}} b{\\left(x,y,z,t \\right)} + \\sigma \\frac{\\partial}{\\partial x} \\psi{\\left(x,y,z,t \\right)} \\frac{\\partial^{3}}{\\partial y^{3}} \\psi{\\left(x,y,z,t \\right)} + \\sigma \\frac{\\partial}{\\partial x} \\psi{\\left(x,y,z,t \\right)} \\frac{\\partial^{3}}{\\partial y\\partial x^{2}} \\psi{\\left(x,y,z,t \\right)} - \\sigma \\frac{\\partial^{3}}{\\partial x^{3}} \\psi{\\left(x,y,z,t \\right)} \\frac{\\partial}{\\partial y} \\psi{\\left(x,y,z,t \\right)} - \\sigma \\frac{\\partial}{\\partial y} \\psi{\\left(x,y,z,t \\right)} \\frac{\\partial^{3}}{\\partial x\\partial y^{2}} \\psi{\\left(x,y,z,t \\right)} + \\frac{\\partial}{\\partial t} b{\\left(x,y,z,t \\right)} + \\frac{\\partial}{\\partial x} b{\\left(x,y,z,t \\right)} \\frac{\\partial}{\\partial y} \\phi{\\left(x,y,z,t \\right)} - \\frac{\\partial}{\\partial y} b{\\left(x,y,z,t \\right)} \\frac{\\partial}{\\partial x} \\phi{\\left(x,y,z,t \\right)} + \\frac{\\partial}{\\partial x} \\psi{\\left(x,y,z,t \\right)} \\frac{\\partial}{\\partial y} w{\\left(x,y,z,t \\right)} - \\frac{\\partial}{\\partial y} \\psi{\\left(x,y,z,t \\right)} \\frac{\\partial}{\\partial x} w{\\left(x,y,z,t \\right)}$"
      ],
      "text/plain": [
       "-gamma*Derivative(b(x, y, z, t), (x, 2)) - gamma*Derivative(b(x, y, z, t), (y, 2)) + sigma*Derivative(psi(x, y, z, t), x)*Derivative(psi(x, y, z, t), (y, 3)) + sigma*Derivative(psi(x, y, z, t), x)*Derivative(psi(x, y, z, t), (x, 2), y) - sigma*Derivative(psi(x, y, z, t), (x, 3))*Derivative(psi(x, y, z, t), y) - sigma*Derivative(psi(x, y, z, t), y)*Derivative(psi(x, y, z, t), (y, 2), x) + Derivative(b(x, y, z, t), t) + Derivative(b(x, y, z, t), x)*Derivative(phi(x, y, z, t), y) - Derivative(b(x, y, z, t), y)*Derivative(phi(x, y, z, t), x) + Derivative(psi(x, y, z, t), x)*Derivative(w(x, y, z, t), y) - Derivative(psi(x, y, z, t), y)*Derivative(w(x, y, z, t), x)"
      ]
     },
     "execution_count": 3,
     "metadata": {},
     "output_type": "execute_result"
    }
   ],
   "source": [
    "x, y, z, t = sp.symbols('x y z t')\n",
    "\n",
    "phi = sp.Function('phi')(x, y, z, t)\n",
    "psi = sp.Function('psi')(x, y, z, t)\n",
    "b = sp.Function('b')(x, y, z, t)\n",
    "w = sp.Function('w')(x, y, z, t)\n",
    "\n",
    "sigma, gamma = sp.symbols('sigma gamma')\n",
    "\n",
    "list_indep = [x, y, z, t]\n",
    "list_dep = [phi, psi, b, w]\n",
    "list_cte = [sigma, gamma]\n",
    "\n",
    "F =  D(b, t) + D(b, x)*D(phi, y) - D(b, y)*D(phi, x) + sigma*(D(psi, x)*(D(psi, x, x, y) + D(psi, y, y, y))-\n",
    "        D(psi, y)*(D(psi, x, x, x) + D(psi, y, y, x))) + D(psi, x)*D(w, y) - D(psi, y)*D(w, x) - gamma*(D(b,x,x) + D(b, y, y))\n",
    "\n",
    "F_rules_array = {D(psi, x, x, y): \n",
    "        - (sigma*D(psi, x))**(-1)*(D(b, t) + D(b, x)*D(phi, y) - D(b, y)*D(phi, x) \n",
    "        + D(psi, x)*D(w, y) - D(psi, y)*D(w, x) \n",
    "        - gamma*(D(b,x,x) + D(b, y, y)))\n",
    "        +(D(psi, x))**(-1)*D(psi, y)*(D(psi, x, x, x) + D(psi, y, y, x))\n",
    "        - D(psi, y, y, y)}\n",
    "\n",
    "order = 3\n",
    "F.expand()"
   ]
  },
  {
   "cell_type": "markdown",
   "metadata": {},
   "source": [
    "# Heat Equation"
   ]
  },
  {
   "cell_type": "code",
   "execution_count": 4,
   "metadata": {},
   "outputs": [
    {
     "data": {
      "text/latex": [
       "$\\displaystyle - k \\frac{\\partial^{2}}{\\partial x^{2}} u{\\left(x,t \\right)} + \\frac{\\partial}{\\partial t} u{\\left(x,t \\right)}$"
      ],
      "text/plain": [
       "-k*Derivative(u(x, t), (x, 2)) + Derivative(u(x, t), t)"
      ]
     },
     "execution_count": 4,
     "metadata": {},
     "output_type": "execute_result"
    }
   ],
   "source": [
    "x, t, k = sp.symbols('x t k')\n",
    "u = sp.Function('u')(x, t)\n",
    "independent_variables = [x, t]\n",
    "dependent_variables = [u]\n",
    "constants = [k]\n",
    "F =  D(u,t) - k*D(u,x,x)\n",
    "F_rules_array = {D(u,x,x):1/k*D(u,t)}\n",
    "order = 2\n",
    "F.expand()"
   ]
  },
  {
   "cell_type": "code",
   "execution_count": 7,
   "id": "baf06e60",
   "metadata": {},
   "outputs": [
    {
     "name": "stdout",
     "output_type": "stream",
     "text": [
      "deleting xit u(x, t)\n",
      "deleting xix u(x, t)\n",
      "deleting xit x\n",
      "found deleted variable in xix eq 3\n",
      "found deleted variable in xix eq 3\n",
      "found high order derivative of deleted variable in xit eq 0\n",
      "found high order derivative of deleted variable in xix eq 1\n"
     ]
    }
   ],
   "source": [
    "system_of_equations = point_symmetries(F, order, F_rules_array, independent_variables, dependent_variables, constants)"
   ]
  },
  {
   "cell_type": "code",
   "execution_count": 8,
   "id": "2673b0e1",
   "metadata": {},
   "outputs": [
    {
     "data": {
      "text/latex": [
       "$\\displaystyle \\left[\\begin{matrix}1 & \\xi^{(t)}_{u} = 0\\\\2 & \\eta^{(u)}_{u u} = 0\\\\3 & \\xi^{(x)}_{u} = 0\\\\4 & \\xi^{(t)}_{x} = 0\\\\5 & - \\xi^{(t)}_{t} + 2 \\xi^{(x)}_{x} = 0\\\\6 & - 2 \\eta^{(u)}_{x u} k + k \\xi^{(x)}_{x x} - \\xi^{(x)}_{t} = 0\\\\7 & \\eta^{(u)}_{t} - \\eta^{(u)}_{x x} k = 0\\end{matrix}\\right]$"
      ],
      "text/plain": [
       "Matrix([\n",
       "[1,                                   Eq(xi^(t)_u, 0)],\n",
       "[2,                                Eq(eta^(u)_u_u, 0)],\n",
       "[3,                                   Eq(xi^(x)_u, 0)],\n",
       "[4,                                   Eq(xi^(t)_x, 0)],\n",
       "[5,                     Eq(-xi^(t)_t + 2*xi^(x)_x, 0)],\n",
       "[6, Eq(-2*eta^(u)_x_u*k + k*xi^(x)_x_x - xi^(x)_t, 0)],\n",
       "[7,                  Eq(eta^(u)_t - eta^(u)_x_x*k, 0)]])"
      ]
     },
     "execution_count": 8,
     "metadata": {},
     "output_type": "execute_result"
    }
   ],
   "source": [
    "system_of_equations.print_determining_equations()"
   ]
  },
  {
   "cell_type": "code",
   "execution_count": 9,
   "id": "ceceae18",
   "metadata": {},
   "outputs": [
    {
     "name": "stdout",
     "output_type": "stream",
     "text": [
      "already deleted: {'xit': [u(x, t), x], 'xix': [u(x, t)]}\n",
      "general form:\n"
     ]
    },
    {
     "data": {
      "text/latex": [
       "$\\displaystyle \\left[\\begin{matrix}\\eta^{u}{\\left(x,t,u{\\left(x,t \\right)} \\right)}\\\\\\xi^{t}{\\left(t \\right)}\\\\\\xi^{x}{\\left(x,t \\right)}\\end{matrix}\\right]$"
      ],
      "text/plain": [
       "Matrix([\n",
       "[eta(x, t, u(x, t))**u],\n",
       "[             xi(t)**t],\n",
       "[          xi(x, t)**x]])"
      ]
     },
     "execution_count": 9,
     "metadata": {},
     "output_type": "execute_result"
    }
   ],
   "source": [
    "system_of_equations.print_general_form()"
   ]
  },
  {
   "cell_type": "markdown",
   "metadata": {},
   "source": [
    "# Blasius Equation"
   ]
  },
  {
   "cell_type": "code",
   "execution_count": 10,
   "id": "138a5033",
   "metadata": {},
   "outputs": [],
   "source": [
    "x = sp.symbols('x')\n",
    "y = sp.Function('y')(x)\n",
    "independent_variables = [x]\n",
    "dependent_variables = [y]\n",
    "constants = []\n",
    "F =  D(y,x,x,x) + y*D(y,x,x)\n",
    "F_rules_array = {D(y,x,x,x):-y*D(y,x,x)}\n",
    "order = 3"
   ]
  },
  {
   "cell_type": "code",
   "execution_count": 11,
   "id": "82bad319",
   "metadata": {},
   "outputs": [
    {
     "data": {
      "text/latex": [
       "$\\displaystyle y{\\left(x \\right)} \\frac{d^{2}}{d x^{2}} y{\\left(x \\right)} + \\frac{d^{3}}{d x^{3}} y{\\left(x \\right)}$"
      ],
      "text/plain": [
       "y(x)*Derivative(y(x), (x, 2)) + Derivative(y(x), (x, 3))"
      ]
     },
     "execution_count": 11,
     "metadata": {},
     "output_type": "execute_result"
    }
   ],
   "source": [
    "F.expand()"
   ]
  },
  {
   "cell_type": "code",
   "execution_count": 12,
   "id": "70378549",
   "metadata": {},
   "outputs": [
    {
     "name": "stdout",
     "output_type": "stream",
     "text": [
      "deleting xix y(x)\n"
     ]
    }
   ],
   "source": [
    "system_of_equations = point_symmetries(F, order, F_rules_array, independent_variables, dependent_variables, constants)"
   ]
  },
  {
   "cell_type": "code",
   "execution_count": 13,
   "id": "e6057144",
   "metadata": {},
   "outputs": [
    {
     "data": {
      "text/latex": [
       "$\\displaystyle \\left[\\begin{matrix}1 & 3 \\eta^{(y)}_{y y} + \\xi^{(x)} = 0\\\\2 & 3 \\eta^{(y)}_{x y y} + \\eta^{(y)}_{y y} y{\\left(x \\right)} = 0\\\\3 & \\eta^{(y)} + 3 \\eta^{(y)}_{x y} + \\xi^{(x)}_{x} y{\\left(x \\right)} - 3 \\xi^{(x)}_{x x} = 0\\\\4 & 3 \\eta^{(y)}_{x x y} + 2 \\eta^{(y)}_{x y} y{\\left(x \\right)} - \\xi^{(x)}_{x x} y{\\left(x \\right)} - \\xi^{(x)}_{x x x} = 0\\\\5 & \\eta^{(y)}_{x x} y{\\left(x \\right)} + \\eta^{(y)}_{x x x} = 0\\\\6 & \\eta^{(y)}_{y y y} = 0\\\\7 & \\xi^{(x)}_{y} = 0\\end{matrix}\\right]$"
      ],
      "text/plain": [
       "Matrix([\n",
       "[1,                                                Eq(3*eta^(y)_y_y + xi^(x), 0)],\n",
       "[2,                                    Eq(3*eta^(y)_x_y_y + eta^(y)_y_y*y(x), 0)],\n",
       "[3,                Eq(eta^(y) + 3*eta^(y)_x_y + xi^(x)_x*y(x) - 3*xi^(x)_x_x, 0)],\n",
       "[4, Eq(3*eta^(y)_x_x_y + 2*eta^(y)_x_y*y(x) - xi^(x)_x_x*y(x) - xi^(x)_x_x_x, 0)],\n",
       "[5,                                      Eq(eta^(y)_x_x*y(x) + eta^(y)_x_x_x, 0)],\n",
       "[6,                                                         Eq(eta^(y)_y_y_y, 0)],\n",
       "[7,                                                              Eq(xi^(x)_y, 0)]])"
      ]
     },
     "execution_count": 13,
     "metadata": {},
     "output_type": "execute_result"
    }
   ],
   "source": [
    "system_of_equations.print_determining_equations()"
   ]
  },
  {
   "cell_type": "code",
   "execution_count": 14,
   "id": "7129d453",
   "metadata": {},
   "outputs": [
    {
     "data": {
      "text/plain": [
       "{'xi': {'x': [x]}, 'eta': {'y': [x, y(x)]}}"
      ]
     },
     "execution_count": 14,
     "metadata": {},
     "output_type": "execute_result"
    }
   ],
   "source": [
    "system_of_equations.general_form"
   ]
  },
  {
   "cell_type": "markdown",
   "id": "48b1d293",
   "metadata": {},
   "source": [
    "# Wave Equation"
   ]
  },
  {
   "cell_type": "code",
   "execution_count": 28,
   "id": "b8136f3c",
   "metadata": {},
   "outputs": [
    {
     "data": {
      "text/latex": [
       "$\\displaystyle - k \\frac{\\partial^{2}}{\\partial x^{2}} u{\\left(x,t \\right)} + \\frac{\\partial}{\\partial t} u{\\left(x,t \\right)}$"
      ],
      "text/plain": [
       "-k*Derivative(u(x, t), (x, 2)) + Derivative(u(x, t), t)"
      ]
     },
     "execution_count": 28,
     "metadata": {},
     "output_type": "execute_result"
    }
   ],
   "source": [
    "x, t, k = sp.symbols('x t k')\n",
    "u = sp.Function('u')(x, t)\n",
    "list_indep = [x, t]\n",
    "list_dep = [u]\n",
    "list_var = list_indep + list_dep\n",
    "list_cte = [k]\n",
    "list_all = list_cte + list_indep + list_dep\n",
    "F =  D(u,t) - k*D(u,x,x)\n",
    "F_rules_array = {D(u,x,x):1/k*D(u,t)}\n",
    "order = 2\n",
    "F.expand()"
   ]
  },
  {
   "cell_type": "code",
   "execution_count": 29,
   "id": "45c74f53",
   "metadata": {},
   "outputs": [
    {
     "name": "stdout",
     "output_type": "stream",
     "text": [
      "deleting xit u(x, t)\n",
      "deleting xix u(x, t)\n",
      "deleting xit x\n",
      "found deleted variable in xix eq 3\n",
      "found deleted variable in xix eq 3\n",
      "found high order derivative of deleted variable in xit eq 0\n",
      "found high order derivative of deleted variable in xix eq 1\n"
     ]
    }
   ],
   "source": [
    "system_of_equations = point_symmetries(F, order, F_rules_array, list_indep, list_dep, list_cte)"
   ]
  },
  {
   "cell_type": "code",
   "execution_count": 30,
   "id": "3ea9ed63",
   "metadata": {},
   "outputs": [
    {
     "data": {
      "text/latex": [
       "$\\displaystyle \\left[\\begin{matrix}1 & \\xi^{(t)}_{u} = 0\\\\2 & \\eta^{(u)}_{u u} = 0\\\\3 & \\xi^{(x)}_{u} = 0\\\\4 & \\xi^{(t)}_{x} = 0\\\\5 & - \\xi^{(t)}_{t} + 2 \\xi^{(x)}_{x} = 0\\\\6 & - 2 \\eta^{(u)}_{x u} k + k \\xi^{(x)}_{x x} - \\xi^{(x)}_{t} = 0\\\\7 & \\eta^{(u)}_{t} - \\eta^{(u)}_{x x} k = 0\\end{matrix}\\right]$"
      ],
      "text/plain": [
       "Matrix([\n",
       "[1,                                   Eq(xi^(t)_u, 0)],\n",
       "[2,                                Eq(eta^(u)_u_u, 0)],\n",
       "[3,                                   Eq(xi^(x)_u, 0)],\n",
       "[4,                                   Eq(xi^(t)_x, 0)],\n",
       "[5,                     Eq(-xi^(t)_t + 2*xi^(x)_x, 0)],\n",
       "[6, Eq(-2*eta^(u)_x_u*k + k*xi^(x)_x_x - xi^(x)_t, 0)],\n",
       "[7,                  Eq(eta^(u)_t - eta^(u)_x_x*k, 0)]])"
      ]
     },
     "execution_count": 30,
     "metadata": {},
     "output_type": "execute_result"
    }
   ],
   "source": [
    "system_of_equations.print_determining_equations()"
   ]
  },
  {
   "cell_type": "markdown",
   "id": "ad940595",
   "metadata": {},
   "source": [
    "# Schrödinger Equation"
   ]
  },
  {
   "cell_type": "code",
   "execution_count": 26,
   "id": "764a5c23",
   "metadata": {},
   "outputs": [
    {
     "data": {
      "text/latex": [
       "$\\displaystyle - i k \\frac{\\partial}{\\partial t} u{\\left(x,t \\right)} + x^{2} u{\\left(x,t \\right)} - \\frac{\\partial^{2}}{\\partial x^{2}} u{\\left(x,t \\right)}$"
      ],
      "text/plain": [
       "-i*k*Derivative(u(x, t), t) + x**2*u(x, t) - Derivative(u(x, t), (x, 2))"
      ]
     },
     "execution_count": 26,
     "metadata": {},
     "output_type": "execute_result"
    }
   ],
   "source": [
    "x, t, k, i = sp.symbols('x t k i')\n",
    "u = sp.Function('u')(x, t)\n",
    "list_indep = [x, t]\n",
    "list_dep = [u]\n",
    "list_cte = [k, i]\n",
    "F =  -D(u,x,x) +x**2*u-i*k*D(u,t)\n",
    "F_rules_array = {D(u,x,x):x**2-i*k*D(u,t)}\n",
    "order = 2\n",
    "F.expand()"
   ]
  },
  {
   "cell_type": "code",
   "execution_count": 27,
   "id": "a5fd1b19",
   "metadata": {},
   "outputs": [
    {
     "name": "stdout",
     "output_type": "stream",
     "text": [
      "deleting xit u(x, t)\n",
      "deleting xix u(x, t)\n",
      "deleting xit x\n",
      "found high order derivative of deleted variable in xit eq 0\n",
      "found high order derivative of deleted variable in xix eq 1\n"
     ]
    }
   ],
   "source": [
    "system_of_equations = point_symmetries(F, order, F_rules_array, list_indep, list_dep, list_cte)"
   ]
  },
  {
   "cell_type": "code",
   "execution_count": 20,
   "id": "a1d9a126",
   "metadata": {},
   "outputs": [
    {
     "data": {
      "text/latex": [
       "$\\displaystyle \\left[\\begin{matrix}1 & i k \\xi^{(t)}_{t} - 2 i k \\xi^{(x)}_{x} + x^{2} \\xi^{(t)} = 0\\\\2 & - 2 \\eta^{(u)}_{x u} + i k \\xi^{(x)}_{t} + x^{2} \\xi^{(x)} + \\xi^{(x)}_{x x} = 0\\\\3 & \\eta^{(u)} x^{2} - \\eta^{(u)}_{t} i k - \\eta^{(u)}_{u} x^{2} - \\eta^{(u)}_{x x} + 2 x^{2} \\xi^{(x)}_{x} + 2 x \\xi^{(x)} u{\\left(x,t \\right)} = 0\\\\4 & \\xi^{(t)}_{u} = 0\\\\5 & \\xi^{(x)}_{u} = 0\\\\6 & \\eta^{(u)}_{u u} = 0\\\\7 & \\xi^{(t)}_{x} = 0\\end{matrix}\\right]$"
      ],
      "text/plain": [
       "Matrix([\n",
       "[1,                                                        Eq(i*k*xi^(t)_t - 2*i*k*xi^(x)_x + x**2*xi^(t), 0)],\n",
       "[2,                                           Eq(-2*eta^(u)_x_u + i*k*xi^(x)_t + x**2*xi^(x) + xi^(x)_x_x, 0)],\n",
       "[3, Eq(eta^(u)*x**2 - eta^(u)_t*i*k - eta^(u)_u*x**2 - eta^(u)_x_x + 2*x**2*xi^(x)_x + 2*x*xi^(x)*u(x, t), 0)],\n",
       "[4,                                                                                           Eq(xi^(t)_u, 0)],\n",
       "[5,                                                                                           Eq(xi^(x)_u, 0)],\n",
       "[6,                                                                                        Eq(eta^(u)_u_u, 0)],\n",
       "[7,                                                                                           Eq(xi^(t)_x, 0)]])"
      ]
     },
     "execution_count": 20,
     "metadata": {},
     "output_type": "execute_result"
    }
   ],
   "source": [
    "system_of_equations.print_determining_equations()"
   ]
  },
  {
   "cell_type": "markdown",
   "id": "ebcfa956",
   "metadata": {},
   "source": [
    "# HNLS Equation"
   ]
  },
  {
   "cell_type": "code",
   "execution_count": 21,
   "id": "59ff86aa",
   "metadata": {},
   "outputs": [
    {
     "data": {
      "text/latex": [
       "$\\displaystyle \\gamma_{1} u^{2}{\\left(z,t \\right)} \\frac{\\partial}{\\partial z} u{\\left(z,t \\right)} + \\gamma_{1} v^{2}{\\left(z,t \\right)} \\frac{\\partial}{\\partial z} u{\\left(z,t \\right)} + 2 \\gamma_{2} u^{2}{\\left(z,t \\right)} \\frac{\\partial}{\\partial z} u{\\left(z,t \\right)} + 2 \\gamma_{2} u{\\left(z,t \\right)} v{\\left(z,t \\right)} \\frac{\\partial}{\\partial z} v{\\left(z,t \\right)} + \\lambda_{0} u^{2}{\\left(z,t \\right)} v{\\left(z,t \\right)} + \\lambda_{0} v^{3}{\\left(z,t \\right)} + \\sigma \\frac{\\partial^{3}}{\\partial z^{3}} u{\\left(z,t \\right)} + \\frac{\\partial}{\\partial t} u{\\left(z,t \\right)} + \\frac{\\partial^{2}}{\\partial z^{2}} v{\\left(z,t \\right)}$"
      ],
      "text/plain": [
       "gamma_1*u(z, t)**2*Derivative(u(z, t), z) + gamma_1*v(z, t)**2*Derivative(u(z, t), z) + 2*gamma_2*u(z, t)**2*Derivative(u(z, t), z) + 2*gamma_2*u(z, t)*v(z, t)*Derivative(v(z, t), z) + lambda_0*u(z, t)**2*v(z, t) + lambda_0*v(z, t)**3 + sigma*Derivative(u(z, t), (z, 3)) + Derivative(u(z, t), t) + Derivative(v(z, t), (z, 2))"
      ]
     },
     "execution_count": 21,
     "metadata": {},
     "output_type": "execute_result"
    }
   ],
   "source": [
    "# Real\n",
    "z, t, g1, g2, l, s = sp.symbols('z t gamma_1 gamma_2 lambda_0 sigma')\n",
    "u = sp.Function('u')(z, t)\n",
    "v = sp.Function('v')(z, t)\n",
    "list_indep = [z, t]\n",
    "list_dep = [u, v]\n",
    "list_cte = [g1, g2, l, s]\n",
    "F =  D(u,t) + D(v,z,z) + l*(v*u**2+v**3)+s*D(u,z,z,z)+\\\n",
    "    g1*D(u,z)*(u**2+v**2)+2*g2*u*(u*D(u,z)+v*D(v,z))\n",
    "F_rules_array = {D(u,z,z,z): (-1/s)*(D(u,t) + D(v,z,z) + l*(v*u**2+v**3)+\n",
    "    g1*D(u,z)*(u**2+v**2)+2*g2*u*(u*D(u,z)+v*D(v,z)))}\n",
    "order = 3\n",
    "F.expand()"
   ]
  },
  {
   "cell_type": "code",
   "execution_count": 22,
   "id": "66199e75",
   "metadata": {},
   "outputs": [
    {
     "name": "stdout",
     "output_type": "stream",
     "text": [
      "deleting xit v(z, t)\n",
      "deleting xiz v(z, t)\n",
      "deleting xit u(z, t)\n",
      "deleting xiz u(z, t)\n",
      "deleting etau v(z, t)\n",
      "deleting xiz z\n",
      "found high order derivative of deleted variable in xit eq 0\n",
      "found high order derivative of deleted variable in xit eq 1\n",
      "found high order derivative of deleted variable in xit eq 2\n",
      "found high order derivative of deleted variable in xit eq 3\n",
      "found cross derivative of variable in xit eq 4\n",
      "found high order derivative of deleted variable in xit eq 6\n",
      "found high order derivative of deleted variable in xit eq 7\n",
      "found high order derivative of deleted variable in xiz eq 9\n",
      "found high order derivative of deleted variable in xiz eq 10\n",
      "found high order derivative of deleted variable in xiz eq 11\n",
      "found high order derivative of deleted variable in xiz eq 12\n",
      "found cross derivative of variable in xiz eq 13\n",
      "found high order derivative of deleted variable in xiz eq 16\n",
      "found high order derivative of deleted variable in xiz eq 17\n"
     ]
    }
   ],
   "source": [
    "system_of_equations = point_symmetries(F, order, F_rules_array, list_indep, list_dep, list_cte)"
   ]
  },
  {
   "cell_type": "code",
   "execution_count": 23,
   "id": "e7a37d51",
   "metadata": {},
   "outputs": [
    {
     "data": {
      "text/latex": [
       "$\\displaystyle \\left[\\begin{matrix}1 & \\eta^{(v)}_{u u} + 2 \\gamma_{1} \\xi^{(z)} u{\\left(z,t \\right)} + 4 \\gamma_{2} \\xi^{(z)} u{\\left(z,t \\right)} = 0\\\\2 & 2 \\eta^{(v)}_{u v} + 2 \\gamma_{1} \\xi^{(z)} v{\\left(z,t \\right)} + 2 \\gamma_{2} \\xi^{(z)} v{\\left(z,t \\right)} = 0\\\\3 & \\eta^{(v)}_{v v} + 2 \\gamma_{2} \\xi^{(z)} u{\\left(z,t \\right)} = 0\\\\4 & 3 \\eta^{(u)}_{z u} \\sigma + \\eta^{(v)}_{u} = 0\\\\5 & - \\eta^{(u)}_{u} + \\eta^{(v)}_{v} = 0\\\\6 & 2 \\eta^{(u)} \\gamma_{1} u{\\left(z,t \\right)} + 4 \\eta^{(u)} \\gamma_{2} u{\\left(z,t \\right)} + 3 \\eta^{(u)}_{z z u} \\sigma + 2 \\eta^{(v)} \\gamma_{1} v{\\left(z,t \\right)} + 2 \\eta^{(v)}_{u} \\gamma_{2} u{\\left(z,t \\right)} v{\\left(z,t \\right)} + 2 \\eta^{(v)}_{z u} + 2 \\lambda_{0} \\xi^{(z)} u{\\left(z,t \\right)} v{\\left(z,t \\right)} - \\xi^{(z)}_{t} = 0\\\\7 & 2 \\eta^{(u)} \\gamma_{2} v{\\left(z,t \\right)} - 2 \\eta^{(u)}_{u} \\gamma_{2} u{\\left(z,t \\right)} v{\\left(z,t \\right)} + 2 \\eta^{(v)} \\gamma_{2} u{\\left(z,t \\right)} + 2 \\eta^{(v)}_{v} \\gamma_{2} u{\\left(z,t \\right)} v{\\left(z,t \\right)} + 2 \\eta^{(v)}_{z v} + \\lambda_{0} \\xi^{(z)} u^{2}{\\left(z,t \\right)} + 3 \\lambda_{0} \\xi^{(z)} v^{2}{\\left(z,t \\right)} = 0\\\\8 & 2 \\eta^{(u)} \\lambda_{0} u{\\left(z,t \\right)} v{\\left(z,t \\right)} + \\eta^{(u)}_{t} - \\eta^{(u)}_{u} \\lambda_{0} u^{2}{\\left(z,t \\right)} v{\\left(z,t \\right)} - \\eta^{(u)}_{u} \\lambda_{0} v^{3}{\\left(z,t \\right)} + \\eta^{(u)}_{z} \\gamma_{1} u^{2}{\\left(z,t \\right)} + \\eta^{(u)}_{z} \\gamma_{1} v^{2}{\\left(z,t \\right)} + 2 \\eta^{(u)}_{z} \\gamma_{2} u^{2}{\\left(z,t \\right)} + \\eta^{(u)}_{z z z} \\sigma + \\eta^{(v)} \\lambda_{0} u^{2}{\\left(z,t \\right)} + 3 \\eta^{(v)} \\lambda_{0} v^{2}{\\left(z,t \\right)} + 2 \\eta^{(v)}_{z} \\gamma_{2} u{\\left(z,t \\right)} v{\\left(z,t \\right)} + \\eta^{(v)}_{z z} = 0\\\\9 & \\xi^{(t)}_{v} = 0\\\\10 & \\xi^{(z)}_{v} = 0\\\\11 & \\xi^{(t)}_{u} = 0\\\\12 & \\xi^{(z)}_{u} = 0\\\\13 & \\xi^{(t)} = 0\\\\14 & \\eta^{(u)}_{u u} = 0\\\\15 & \\eta^{(u)}_{v} = 0\\\\16 & \\xi^{(z)}_{z} = 0\\end{matrix}\\right]$"
      ],
      "text/plain": [
       "Matrix([\n",
       "[ 1,                                                                                                                                                                                                                                                                                             Eq(eta^(v)_u_u + 2*gamma_1*xi^(z)*u(z, t) + 4*gamma_2*xi^(z)*u(z, t), 0)],\n",
       "[ 2,                                                                                                                                                                                                                                                                                           Eq(2*eta^(v)_u_v + 2*gamma_1*xi^(z)*v(z, t) + 2*gamma_2*xi^(z)*v(z, t), 0)],\n",
       "[ 3,                                                                                                                                                                                                                                                                                                                        Eq(eta^(v)_v_v + 2*gamma_2*xi^(z)*u(z, t), 0)],\n",
       "[ 4,                                                                                                                                                                                                                                                                                                                               Eq(3*eta^(u)_z_u*sigma + eta^(v)_u, 0)],\n",
       "[ 5,                                                                                                                                                                                                                                                                                                                                        Eq(-eta^(u)_u + eta^(v)_v, 0)],\n",
       "[ 6,                                                                                                                                                Eq(2*eta^(u)*gamma_1*u(z, t) + 4*eta^(u)*gamma_2*u(z, t) + 3*eta^(u)_z_z_u*sigma + 2*eta^(v)*gamma_1*v(z, t) + 2*eta^(v)_u*gamma_2*u(z, t)*v(z, t) + 2*eta^(v)_z_u + 2*lambda_0*xi^(z)*u(z, t)*v(z, t) - xi^(z)_t, 0)],\n",
       "[ 7,                                                                                                                                                 Eq(2*eta^(u)*gamma_2*v(z, t) - 2*eta^(u)_u*gamma_2*u(z, t)*v(z, t) + 2*eta^(v)*gamma_2*u(z, t) + 2*eta^(v)_v*gamma_2*u(z, t)*v(z, t) + 2*eta^(v)_z_v + lambda_0*xi^(z)*u(z, t)**2 + 3*lambda_0*xi^(z)*v(z, t)**2, 0)],\n",
       "[ 8, Eq(2*eta^(u)*lambda_0*u(z, t)*v(z, t) + eta^(u)_t - eta^(u)_u*lambda_0*u(z, t)**2*v(z, t) - eta^(u)_u*lambda_0*v(z, t)**3 + eta^(u)_z*gamma_1*u(z, t)**2 + eta^(u)_z*gamma_1*v(z, t)**2 + 2*eta^(u)_z*gamma_2*u(z, t)**2 + eta^(u)_z_z_z*sigma + eta^(v)*lambda_0*u(z, t)**2 + 3*eta^(v)*lambda_0*v(z, t)**2 + 2*eta^(v)_z*gamma_2*u(z, t)*v(z, t) + eta^(v)_z_z, 0)],\n",
       "[ 9,                                                                                                                                                                                                                                                                                                                                                      Eq(xi^(t)_v, 0)],\n",
       "[10,                                                                                                                                                                                                                                                                                                                                                      Eq(xi^(z)_v, 0)],\n",
       "[11,                                                                                                                                                                                                                                                                                                                                                      Eq(xi^(t)_u, 0)],\n",
       "[12,                                                                                                                                                                                                                                                                                                                                                      Eq(xi^(z)_u, 0)],\n",
       "[13,                                                                                                                                                                                                                                                                                                                                                        Eq(xi^(t), 0)],\n",
       "[14,                                                                                                                                                                                                                                                                                                                                                   Eq(eta^(u)_u_u, 0)],\n",
       "[15,                                                                                                                                                                                                                                                                                                                                                     Eq(eta^(u)_v, 0)],\n",
       "[16,                                                                                                                                                                                                                                                                                                                                                      Eq(xi^(z)_z, 0)]])"
      ]
     },
     "execution_count": 23,
     "metadata": {},
     "output_type": "execute_result"
    }
   ],
   "source": [
    "system_of_equations.print_determining_equations()"
   ]
  },
  {
   "cell_type": "code",
   "execution_count": 24,
   "id": "72616bfa",
   "metadata": {},
   "outputs": [
    {
     "data": {
      "text/plain": [
       "{'xi': {'z': [t], 't': [z, t]},\n",
       " 'eta': {'u': [z, t, u(z, t)], 'v': [z, t, u(z, t), v(z, t)]}}"
      ]
     },
     "execution_count": 24,
     "metadata": {},
     "output_type": "execute_result"
    }
   ],
   "source": [
    "system_of_equations.general_form"
   ]
  },
  {
   "cell_type": "code",
   "execution_count": null,
   "id": "4b7fb9f0",
   "metadata": {},
   "outputs": [],
   "source": []
  },
  {
   "cell_type": "code",
   "execution_count": null,
   "id": "0aaeee05",
   "metadata": {},
   "outputs": [],
   "source": [
    "# Imaginaria\n",
    "z, t, g1, g2, l, s = sp.symbols('z t gamma_1 gamma_2 lambda_0 sigma')\n",
    "u = sp.Function('u')(z, t)\n",
    "v = sp.Function('v')(z, t)\n",
    "list_indep = [z, t]\n",
    "list_dep = [u, v]\n",
    "list_cte = [g1, g2, l, s]\n",
    "F =-D(v,t) + D(u,z,z) + l*(v**2*u+u**3)-s*D(v,z,z,z)-\\\n",
    "    g1*D(v,z)*(u**2+v**2)-2*g2*v*(u*D(u,z)+v*D(v,z))\n",
    "F_rules_array = {D(v,z,z,z): 1/s*(-D(v,t) + D(u,z,z) + l*(v**2*u+u**3)-\\\n",
    "    g1*D(v,z)*(u**2+v**2)-2*g2*v*(u*D(u,z)+v*D(v,z)))}\n",
    "order = 3\n",
    "F.expand()\n",
    "point_symmetries(F, order, F_rules_array, list_indep, list_dep, list_cte)"
   ]
  },
  {
   "cell_type": "code",
   "execution_count": null,
   "id": "94d70822",
   "metadata": {},
   "outputs": [],
   "source": []
  }
 ],
 "metadata": {
  "kernelspec": {
   "display_name": "Python 3.9.13 ('lie_env')",
   "language": "python",
   "name": "python3"
  },
  "language_info": {
   "codemirror_mode": {
    "name": "ipython",
    "version": 3
   },
   "file_extension": ".py",
   "mimetype": "text/x-python",
   "name": "python",
   "nbconvert_exporter": "python",
   "pygments_lexer": "ipython3",
   "version": "3.9.13"
  },
  "vscode": {
   "interpreter": {
    "hash": "f0edfb93beaa955e245c49a5d13cbb385f9a29e21aedf72d394d91a9c331a577"
   }
  }
 },
 "nbformat": 4,
 "nbformat_minor": 5
}
