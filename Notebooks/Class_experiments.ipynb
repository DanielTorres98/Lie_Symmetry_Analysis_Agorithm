{
 "cells": [
  {
   "cell_type": "code",
   "execution_count": 1,
   "id": "a9c4fd66",
   "metadata": {},
   "outputs": [],
   "source": [
    "import sympy as sp\n",
    "import numpy as np"
   ]
  },
  {
   "cell_type": "code",
   "execution_count": 46,
   "id": "5ce03ec9",
   "metadata": {},
   "outputs": [],
   "source": [
    "class Variable():\n",
    "    greek_alphabet = {\n",
    "    'Alpha'  : u'\\u0391',\n",
    "    'Beta'   : u'\\u0392',\n",
    "    'Gamma'  : u'\\u0393',\n",
    "    'Delta'  : u'\\u0394',\n",
    "    'Epsilon': u'\\u0395',\n",
    "    'Zeta'   : u'\\u0396',\n",
    "    'Eta'    : u'\\u0397',\n",
    "    'Theta'  : u'\\u0398',\n",
    "    'Iota'   : u'\\u0399',\n",
    "    'Kappa'  : u'\\u039A',\n",
    "    'Lamda'  : u'\\u039B',\n",
    "    'Mu'     : u'\\u039C',\n",
    "    'Nu'     : u'\\u039D',\n",
    "    'Xi'     : u'\\u039E',\n",
    "    'Omicron': u'\\u039F',\n",
    "    'Pi'     : u'\\u03A0',\n",
    "    'Rho'    : u'\\u03A1',\n",
    "    'Sigma'  : u'\\u03A3',\n",
    "    'Tau'    : u'\\u03A4',\n",
    "    'Upsilon': u'\\u03A5',\n",
    "    'Phi'    : u'\\u03A6',\n",
    "    'Chi'    : u'\\u03A7',\n",
    "    'Psi'    : u'\\u03A8',\n",
    "    'Omega'  : u'\\u03A9',\n",
    "    'alpha'  : u'\\u03B1',\n",
    "    'beta'   : u'\\u03B2',\n",
    "    'gamma'  : u'\\u03B3',\n",
    "    'delta'  : u'\\u03B4',\n",
    "    'epsilon': u'\\u03B5',\n",
    "    'zeta'   : u'\\u03B6',\n",
    "    'eta'    : u'\\u03B7',\n",
    "    'theta'  : u'\\u03B8',\n",
    "    'iota'   : u'\\u03B9',\n",
    "    'kappa'  : u'\\u03BA',\n",
    "    'lamda'  : u'\\u03BB',\n",
    "    'mu'     : u'\\u03BC',\n",
    "    'nu'     : u'\\u03BD',\n",
    "    'xi'     : u'\\u03BE',\n",
    "    'omicron': u'\\u03BF',\n",
    "    'pi'     : u'\\u03C0',\n",
    "    'rho'    : u'\\u03C1',\n",
    "    'sigma'  : u'\\u03C3',\n",
    "    'tau'    : u'\\u03C4',\n",
    "    'upsilon': u'\\u03C5',\n",
    "    'phi'    : u'\\u03C6',\n",
    "    'chi'    : u'\\u03C7',\n",
    "    'psi'    : u'\\u03C8',\n",
    "    'omega'  : u'\\u03C9',\n",
    "}\n",
    "    def __init__(self, name, func, derivatives=[], coeff=1, exp=1):\n",
    "        self.name = name\n",
    "        self.root = name\n",
    "        self.coefficient = coeff\n",
    "        self.exp = exp\n",
    "        self.symbol = self.name\n",
    "        if self.name in self.__class__.greek_alphabet:\n",
    "            self.symbol = self.__class__.greek_alphabet[self.name]\n",
    "        self.func = func\n",
    "        self.derivatives = derivatives\n",
    "\n",
    "    def __str__(self):\n",
    "        return self.name\n",
    "    \n",
    "    def __repr__(self):\n",
    "        display = self.symbol\n",
    "        if self.coefficient != 1:\n",
    "            display = f'{self.coefficient}{self.symbol}'\n",
    "        if self.exp != 1:\n",
    "            display = f'{display}^{self.exp}'\n",
    "        return display\n",
    "    \n",
    "    def __eq__(self, other):\n",
    "        return self.name == other.name\n",
    "    \n",
    "    def __mul__(self, other):\n",
    "        if isinstance(other, int) or isinstance(other, float):\n",
    "            return Variable(self.name, self.func, self.derivatives,\n",
    "                            self.coefficient*float(other), self.exp)\n",
    "        elif isinstance(other, Variable):\n",
    "            if self == other:\n",
    "                return Variable(self.name, self.func, self.derivatives,\n",
    "                            self.coefficient*other.coefficient, self.exp+other.exp)\n",
    "            \n",
    "    def __rmul__(self, other):\n",
    "        if isinstance(other, int) or isinstance(other, float):\n",
    "            return Variable(self.name, self.func, self.derivatives,\n",
    "                            self.coefficient*float(other), self.exp)\n",
    "    \n",
    "    def D(self, *others):\n",
    "        # Derivative method\n",
    "        if self.func:\n",
    "            derivatives = []\n",
    "            name = self.name\n",
    "            for other in others: \n",
    "                if self.root == other.name:\n",
    "                    return 1\n",
    "                derivatives.append(other)\n",
    "                name = f'{name}_{other.name}'\n",
    "                symbol = sp.symbols(self.name)\n",
    "            return Variable(name, True, derivatives)    \n",
    "\n",
    "# def Term(Variable):\n",
    "#     def __init__(self, var):\n",
    "#         self.name = var.name\n",
    "#         self.coefficient = var.coefficient\n",
    "#         self.symbol = sp.symbols(self.name)\n",
    "#         self.term_list = np.array([var])\n",
    "    \n",
    "#     def mult_term(self, other):\n",
    "#         if isinstance(other, Variable):\n",
    "#             if other not in self.term_list\n",
    "#                 self.coefficient = self.coefficient*other.coefficient\n",
    "#                 self.term_list = np.concatenate((self.term_list, np.array([other])))\n",
    "#             else:\n",
    "#                 index = np.where(selff.term_list==other)\n",
    "#                 self.term_list[index]\n",
    "                "
   ]
  },
  {
   "cell_type": "code",
   "execution_count": 47,
   "id": "ea500e0d",
   "metadata": {},
   "outputs": [],
   "source": [
    "x = Variable('x', False)\n",
    "y = Variable('y', True)\n",
    "omega = Variable('omega', False)"
   ]
  },
  {
   "cell_type": "code",
   "execution_count": 48,
   "id": "bbc9037f",
   "metadata": {},
   "outputs": [
    {
     "data": {
      "text/plain": [
       "20.0ω^2"
      ]
     },
     "execution_count": 48,
     "metadata": {},
     "output_type": "execute_result"
    }
   ],
   "source": [
    "4*omega*5*omega"
   ]
  },
  {
   "cell_type": "code",
   "execution_count": 163,
   "id": "580bfb09",
   "metadata": {},
   "outputs": [],
   "source": [
    "a = np.array([x, y])"
   ]
  },
  {
   "cell_type": "code",
   "execution_count": 151,
   "id": "abeee40c",
   "metadata": {},
   "outputs": [
    {
     "data": {
      "text/plain": [
       "True"
      ]
     },
     "execution_count": 151,
     "metadata": {},
     "output_type": "execute_result"
    }
   ],
   "source": [
    "x in a"
   ]
  },
  {
   "cell_type": "code",
   "execution_count": 148,
   "id": "45bb4082",
   "metadata": {},
   "outputs": [
    {
     "data": {
      "text/latex": [
       "$\\displaystyle 16.0 y$"
      ],
      "text/plain": [
       "16.0*y"
      ]
     },
     "execution_count": 148,
     "metadata": {},
     "output_type": "execute_result"
    }
   ],
   "source": [
    "y.coefficient*y.symbol"
   ]
  },
  {
   "cell_type": "code",
   "execution_count": 106,
   "id": "928f6790",
   "metadata": {},
   "outputs": [
    {
     "data": {
      "text/plain": [
       "True"
      ]
     },
     "execution_count": 106,
     "metadata": {},
     "output_type": "execute_result"
    }
   ],
   "source": [
    "isinstance(float(2), float)"
   ]
  },
  {
   "cell_type": "code",
   "execution_count": 43,
   "id": "7ceb6c70",
   "metadata": {},
   "outputs": [
    {
     "data": {
      "text/plain": [
       "'y_x_x'"
      ]
     },
     "execution_count": 43,
     "metadata": {},
     "output_type": "execute_result"
    }
   ],
   "source": [
    "y.name"
   ]
  },
  {
   "cell_type": "code",
   "execution_count": 154,
   "id": "805cce94",
   "metadata": {},
   "outputs": [],
   "source": [
    "b = np.array([1,2,3])"
   ]
  },
  {
   "cell_type": "code",
   "execution_count": 158,
   "id": "74889f2f",
   "metadata": {},
   "outputs": [
    {
     "data": {
      "text/plain": [
       "array([<__main__.Variable object at 0x00000230FF883EE0>,\n",
       "       <__main__.Variable object at 0x00000230FF883F40>,\n",
       "       <__main__.Variable object at 0x00000230FF883EE0>], dtype=object)"
      ]
     },
     "execution_count": 158,
     "metadata": {},
     "output_type": "execute_result"
    }
   ],
   "source": [
    "np.concatenate((a, np.array([a[0]])))"
   ]
  },
  {
   "cell_type": "code",
   "execution_count": 165,
   "id": "c2385873",
   "metadata": {},
   "outputs": [],
   "source": [
    "n = np.where(a==x)"
   ]
  },
  {
   "cell_type": "code",
   "execution_count": 167,
   "id": "9b881751",
   "metadata": {},
   "outputs": [
    {
     "data": {
      "text/plain": [
       "array([<__main__.Variable object at 0x00000230FF883EE0>], dtype=object)"
      ]
     },
     "execution_count": 167,
     "metadata": {},
     "output_type": "execute_result"
    }
   ],
   "source": [
    "a[n]"
   ]
  },
  {
   "cell_type": "code",
   "execution_count": null,
   "id": "2433c217",
   "metadata": {},
   "outputs": [],
   "source": []
  }
 ],
 "metadata": {
  "kernelspec": {
   "display_name": "Python 3",
   "language": "python",
   "name": "python3"
  },
  "language_info": {
   "codemirror_mode": {
    "name": "ipython",
    "version": 3
   },
   "file_extension": ".py",
   "mimetype": "text/x-python",
   "name": "python",
   "nbconvert_exporter": "python",
   "pygments_lexer": "ipython3",
   "version": "3.8.8"
  }
 },
 "nbformat": 4,
 "nbformat_minor": 5
}
