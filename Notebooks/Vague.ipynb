{
 "cells": [
  {
   "cell_type": "code",
   "execution_count": 1,
   "metadata": {},
   "outputs": [],
   "source": [
    "import sympy as sp\n",
    "from sympy import Derivative as D\n",
    "from utils.symbolic import (infinitesimals_generator, higher_infinitesimals_generator,\n",
    "                            group_operator, der_relabel, deriv_infts, subs_new_vars)\n",
    "from utils.combinatorics import list_combinatorics"
   ]
  },
  {
   "cell_type": "code",
   "execution_count": 2,
   "metadata": {},
   "outputs": [
    {
     "data": {
      "text/plain": [
       "[[z], [t], [c], [z, z], [z, t], [z, c], [t, t], [t, c], [c, c]]"
      ]
     },
     "execution_count": 2,
     "metadata": {},
     "output_type": "execute_result"
    }
   ],
   "source": [
    "z, t, c = sp.symbols('z t c')\n",
    "list_combinatorics([z, t, c], 2)"
   ]
  },
  {
   "cell_type": "code",
   "execution_count": 3,
   "metadata": {},
   "outputs": [],
   "source": [
    "x, t = sp.symbols('x t')\n",
    "u = sp.Function('u')(x, t)"
   ]
  },
  {
   "cell_type": "code",
   "execution_count": 4,
   "metadata": {},
   "outputs": [],
   "source": [
    "list_indep = [x, t]\n",
    "list_dep = [u]\n",
    "F = - D(u, x, x) + D(u, t)\n",
    "\n",
    "infts = infinitesimals_generator(list_indep, list_dep)\n",
    "n_indep = len(list_indep)\n",
    "n_dep = len(list_dep)\n",
    "infts_ind = infts[0:n_indep]\n",
    "infts_dep = infts[n_indep:(n_dep + n_indep )]\n",
    "inft_derivatives, dep_vars_derivatives = higher_infinitesimals_generator(infts_ind, infts_dep,\n",
    "                                                                            2, list_indep, list_dep)\n",
    "infts_dummy = [item for sublist in inft_derivatives for item in sublist]\n",
    "dep_vars_derivatives = [item for sublist in dep_vars_derivatives for item in sublist]\n",
    "\n",
    "infts = infts + infts_dummy\n",
    "\n",
    "F, deriv_names = der_relabel(dep_vars_derivatives, F)\n",
    "\n",
    "vars_and_derivatives = list_indep + list_dep + deriv_names\n",
    "\n",
    "XF = group_operator(F, vars_and_derivatives, infts)\n",
    "\n",
    "XF = subs_new_vars(dep_vars_derivatives, deriv_names, XF)\n",
    "\n",
    "# A = deriv_infts(infts_ind + infts_dep, list_indep + list_dep, 2)\n",
    "\n",
    "# XF, deriv_infts_names = der_relabel(A, XF)\n",
    "\n",
    "# XF = subs_new_vars(deriv_infts_names, A, XF)\n",
    "\n",
    "# XF = subs_new_vars(deriv_names, dep_vars_derivatives, XF)"
   ]
  },
  {
   "cell_type": "code",
   "execution_count": 5,
   "metadata": {},
   "outputs": [],
   "source": [
    "import numpy as np\n",
    "import re"
   ]
  },
  {
   "cell_type": "code",
   "execution_count": 10,
   "metadata": {},
   "outputs": [],
   "source": [
    "def parens(s):\n",
    "    i= s.count(')') - 1\n",
    "    groups = s[s.find('('):].split(')')\n",
    "    return (')'.join(groups[:i]) +')' )"
   ]
  },
  {
   "cell_type": "code",
   "execution_count": 51,
   "metadata": {},
   "outputs": [],
   "source": [
    "s = '+2*omega^2*alpha*Subs(Derivative(xit(_xi_1,t,u(x,t),v(x,t)),_xi_1),_xi_1,x)'\n",
    "f = sp.sympify(s)\n",
    "\n",
    "alpha, omega, x, t = sp.symbols('alpha, omega, x, t')\n",
    "list_const = [alpha, omega]\n",
    "u = sp.Function('u')(x, t)\n",
    "v = sp.Function('v')(x, t)\n",
    "list_indep = [x, t, u, v]\n",
    "list_all = np.array(list_const + list_indep)\n",
    "list_indep = np.array(list_indep)\n",
    "xi = sp.Function('xi')(x, t, u ,v)\n",
    "\n",
    "    \n",
    "    \n",
    "# l = len(f.args)\n",
    "# arr_pow = np.zeros(len(list_all)+1)\n",
    "# arr_deriv = np.zeros(len(list_indep))\n",
    "# term = {\"coefficient\":None, \"constants\":None,\n",
    "#             \"derivatives\":None, \"variable\":None}\n",
    "\n",
    "eq = []\n",
    "def funcion_pendeja(f):\n",
    "    '''\n",
    "    '''\n",
    "\n",
    "    if f.is_Mul:\n",
    "        for i in f.args:\n",
    "            arr = funcion_pendeja(i)\n",
    "    else:        \n",
    "        if f.args==():\n",
    "            if f.is_Integer:\n",
    "                term['coefficient'] = f\n",
    "            else:    \n",
    "                idx = np.where(list_all==f)\n",
    "                p = 1\n",
    "                arr_pow[idx] = p\n",
    "\n",
    "        if f.is_Function:\n",
    "            idx = np.where(list_all==f)\n",
    "            p = 1\n",
    "            arr_pow[idx] = p\n",
    "                \n",
    "        if f.is_Pow:\n",
    "            var = f.args[0]\n",
    "            if var.is_Derivative:\n",
    "                arr_pow[-1] = f.args[1]\n",
    "                term['variable'] = var.args[0]\n",
    "                for v in var.args[1:]:\n",
    "                    idx = np.where(list_indep==v[0])\n",
    "                    arr_deriv[idx] = v[1]    \n",
    "            else:\n",
    "                idx = np.where(list_all==f.args[0])\n",
    "                arr_pow[idx] = f.args[1]\n",
    "                \n",
    "        if type(f)==type(sp.Subs(x,x,x)):\n",
    "            s = str(f)\n",
    "            subs = re.split(',|\\.',s)[-2]\n",
    "            subs_t = re.split(',|\\.',s)[-1].strip(')')\n",
    "            s = s.replace(subs, subs_t)\n",
    "            f = sp.sympify(parens(s).strip('('))\n",
    "            \n",
    "        if f.is_Derivative:\n",
    "            arr_pow[-1] = 1\n",
    "            term['variable'] = str(f.args[0]).split(\"(\")[0]\n",
    "            for v in f.args[1:]:\n",
    "                idx = np.where(list_indep==v[0])\n",
    "                arr_deriv[idx] = v[1]\n",
    "                \n",
    "    term['constants'] = list(arr_pow)\n",
    "    term['derivatives'] = list(arr_deriv)\n",
    "    return term"
   ]
  },
  {
   "cell_type": "code",
   "execution_count": 26,
   "metadata": {},
   "outputs": [
    {
     "name": "stdout",
     "output_type": "stream",
     "text": [
      "[alpha omega x t u(x, t) v(x, t)]\n"
     ]
    }
   ],
   "source": [
    "print(list_all)"
   ]
  },
  {
   "cell_type": "code",
   "execution_count": 52,
   "metadata": {},
   "outputs": [
    {
     "data": {
      "text/plain": [
       "{'coefficient': 1,\n",
       " 'constants': [0.0, 0.0, 0.0, 0.0, 0.0, 1.0, 1.0],\n",
       " 'derivatives': [0.0, 0.0, 1.0, 0.0],\n",
       " 'variable': 'etau'}"
      ]
     },
     "execution_count": 52,
     "metadata": {},
     "output_type": "execute_result"
    }
   ],
   "source": [
    "l = len(f.args)\n",
    "arr_pow = np.zeros(len(list_all)+1)\n",
    "arr_deriv = np.zeros(len(list_indep))\n",
    "term = {\"coefficient\":1, \"constants\":None,\n",
    "            \"derivatives\":None, \"variable\":None}\n",
    "funcion_pendeja(sp.sympify('+v(x,t)*Derivative(etau(x,t,u(x,t),v(x,t)),u(x,t))'))"
   ]
  },
  {
   "cell_type": "code",
   "execution_count": 50,
   "metadata": {},
   "outputs": [
    {
     "data": {
      "text/plain": [
       "True"
      ]
     },
     "execution_count": 50,
     "metadata": {},
     "output_type": "execute_result"
    }
   ],
   "source": [
    "f = sp.sympify('+v(x,t)*Derivative(etau(x,t,u(x,t),v(x,t)),u(x,t))')\n",
    "f.args[1].is_Function"
   ]
  },
  {
   "cell_type": "code",
   "execution_count": null,
   "metadata": {},
   "outputs": [],
   "source": []
  },
  {
   "cell_type": "code",
   "execution_count": 53,
   "metadata": {},
   "outputs": [
    {
     "name": "stdout",
     "output_type": "stream",
     "text": [
      "{'coefficient': 1, 'constants': [0.0, 0.0, 0.0, 0.0, 0.0, 0.0, 1.0], 'derivatives': [0.0, 0.0, 2.0, 0.0], 'variable': 'xit'}\n",
      "{'coefficient': 2, 'constants': [0.0, 0.0, 0.0, 0.0, 0.0, 0.0, 1.0], 'derivatives': [0.0, 0.0, 1.0, 1.0], 'variable': 'xit'}\n",
      "{'coefficient': 2, 'constants': [0.0, 0.0, 0.0, 0.0, 0.0, 0.0, 1.0], 'derivatives': [0.0, 0.0, 1.0, 0.0], 'variable': 'xix'}\n",
      "{'coefficient': 2, 'constants': [0.0, 0.0, 0.0, 0.0, 0.0, 0.0, 1.0], 'derivatives': [1.0, 0.0, 1.0, 0.0], 'variable': 'xit'}\n",
      "{'coefficient': -2, 'constants': [0.0, 0.0, 0.0, 0.0, 0.0, 0.0, 1.0], 'derivatives': [0.0, 0.0, 1.0, 0.0], 'variable': 'xit'}\n",
      "{'coefficient': -1, 'constants': [0.0, 0.0, 0.0, 0.0, 0.0, 0.0, 1.0], 'derivatives': [0.0, 0.0, 0.0, 1.0], 'variable': 'xit'}\n",
      "{'coefficient': 1, 'constants': [0.0, 0.0, 0.0, 0.0, 0.0, 0.0, 1.0], 'derivatives': [0.0, 0.0, 0.0, 2.0], 'variable': 'xit'}\n",
      "{'coefficient': -1, 'constants': [0.0, 0.0, 0.0, 0.0, 0.0, 0.0, 1.0], 'derivatives': [0.0, 0.0, 1.0, 0.0], 'variable': 'xix'}\n",
      "{'coefficient': 2, 'constants': [0.0, 0.0, 0.0, 0.0, 0.0, 0.0, 1.0], 'derivatives': [0.0, 0.0, 0.0, 1.0], 'variable': 'xix'}\n",
      "{'coefficient': 2, 'constants': [0.0, 0.0, 0.0, 0.0, 0.0, 0.0, 1.0], 'derivatives': [1.0, 0.0, 0.0, 1.0], 'variable': 'xit'}\n",
      "{'coefficient': 1, 'constants': [0.0, 0.0, 0.0, 0.0, 0.0, 0.0, 1.0], 'derivatives': [0.0, 0.0, 0.0, 1.0], 'variable': 'xit'}\n",
      "{'coefficient': 1, 'constants': [0.0, 0.0, 0.0, 0.0, 0.0, 0.0, 1.0], 'derivatives': [0.0, 0.0, 2.0, 0.0], 'variable': 'xix'}\n",
      "{'coefficient': 2, 'constants': [0.0, 0.0, 0.0, 0.0, 0.0, 0.0, 1.0], 'derivatives': [0.0, 0.0, 1.0, 1.0], 'variable': 'xix'}\n",
      "{'coefficient': -3, 'constants': [0.0, 0.0, 0.0, 0.0, 0.0, 0.0, 1.0], 'derivatives': [0.0, 0.0, 1.0, 0.0], 'variable': 'xix'}\n",
      "{'coefficient': -1, 'constants': [0.0, 0.0, 0.0, 0.0, 0.0, 0.0, 1.0], 'derivatives': [0.0, 0.0, 0.0, 1.0], 'variable': 'xix'}\n",
      "{'coefficient': 1, 'constants': [0.0, 0.0, 0.0, 0.0, 0.0, 0.0, 1.0], 'derivatives': [0.0, 0.0, 0.0, 2.0], 'variable': 'xix'}\n",
      "{'coefficient': -2, 'constants': [0.0, 0.0, 0.0, 0.0, 0.0, 0.0, 1.0], 'derivatives': [0.0, 0.0, 1.0, 1.0], 'variable': 'etau'}\n",
      "{'coefficient': 2, 'constants': [0.0, 0.0, 0.0, 0.0, 0.0, 0.0, 1.0], 'derivatives': [1.0, 0.0, 0.0, 1.0], 'variable': 'xix'}\n",
      "{'coefficient': 1, 'constants': [0.0, 0.0, 0.0, 0.0, 0.0, 0.0, 1.0], 'derivatives': [0.0, 0.0, 0.0, 1.0], 'variable': 'xix'}\n",
      "{'coefficient': 2, 'constants': [0.0, 0.0, 0.0, 0.0, 0.0, 0.0, 1.0], 'derivatives': [0.0, 0.0, 1.0, 0.0], 'variable': 'xit'}\n",
      "{'coefficient': -1, 'constants': [0.0, 0.0, 0.0, 0.0, 0.0, 0.0, 1.0], 'derivatives': [0.0, 0.0, 0.0, 1.0], 'variable': 'xit'}\n",
      "{'coefficient': -3, 'constants': [0.0, 0.0, 0.0, 0.0, 0.0, 0.0, 1.0], 'derivatives': [0.0, 0.0, 0.0, 1.0], 'variable': 'xix'}\n",
      "{'coefficient': 2, 'constants': [0.0, 0.0, 0.0, 0.0, 0.0, 0.0, 1.0], 'derivatives': [0.0, 0.0, 0.0, 1.0], 'variable': 'xit'}\n",
      "{'coefficient': 2, 'constants': [0.0, 0.0, 0.0, 0.0, 0.0, 0.0, 1.0], 'derivatives': [1.0, 0.0, 0.0, 0.0], 'variable': 'xit'}\n",
      "{'coefficient': -1, 'constants': [0.0, 0.0, 0.0, 0.0, 0.0, 1.0, 1.0], 'derivatives': [0.0, 0.0, 1.0, 0.0], 'variable': 'xit'}\n",
      "{'coefficient': 1, 'constants': [0.0, 0.0, 0.0, 0.0, 0.0, 0.0, 1.0], 'derivatives': [0.0, 0.0, 1.0, 0.0], 'variable': 'etav'}\n",
      "{'coefficient': 1, 'constants': [0.0, 0.0, 0.0, 0.0, 0.0, 0.0, 1.0], 'derivatives': [0.0, 0.0, 0.0, 0.0], 'variable': 'xit'}\n",
      "{'coefficient': -1, 'constants': [0.0, 0.0, 0.0, 0.0, 0.0, 0.0, 1.0], 'derivatives': [0.0, 1.0, 0.0, 0.0], 'variable': 'xit'}\n",
      "{'coefficient': 2, 'constants': [0.0, 0.0, 0.0, 0.0, 0.0, 0.0, 1.0], 'derivatives': [1.0, 0.0, 0.0, 0.0], 'variable': 'xix'}\n",
      "{'coefficient': 1, 'constants': [0.0, 0.0, 0.0, 0.0, 0.0, 0.0, 0.0], 'derivatives': [0.0, 0.0, 0.0, 0.0], 'variable': None}\n",
      "{'coefficient': 1, 'constants': [0.0, 0.0, 0.0, 0.0, 0.0, 0.0, 1.0], 'derivatives': [0.0, 0.0, 1.0, 0.0], 'variable': 'etau'}\n",
      "{'coefficient': 1, 'constants': [0.0, 0.0, 0.0, 0.0, 0.0, 0.0, 1.0], 'derivatives': [0.0, 0.0, 0.0, 1.0], 'variable': 'etau'}\n",
      "{'coefficient': 1, 'constants': [0.0, 0.0, 0.0, 0.0, 0.0, 0.0, 1.0], 'derivatives': [0.0, 0.0, 0.0, 1.0], 'variable': 'etav'}\n",
      "{'coefficient': -1, 'constants': [0.0, 0.0, 0.0, 0.0, 0.0, 0.0, 1.0], 'derivatives': [0.0, 1.0, 0.0, 0.0], 'variable': 'xit'}\n",
      "{'coefficient': -2, 'constants': [0.0, 0.0, 0.0, 0.0, 0.0, 0.0, 1.0], 'derivatives': [1.0, 0.0, 0.0, 0.0], 'variable': 'xix'}\n",
      "{'coefficient': -1, 'constants': [0.0, 0.0, 0.0, 0.0, 0.0, 0.0, 1.0], 'derivatives': [0.0, 0.0, 2.0, 0.0], 'variable': 'etau'}\n",
      "{'coefficient': 2, 'constants': [0.0, 0.0, 0.0, 0.0, 0.0, 0.0, 1.0], 'derivatives': [1.0, 0.0, 1.0, 0.0], 'variable': 'xix'}\n",
      "{'coefficient': -1, 'constants': [0.0, 0.0, 0.0, 0.0, 0.0, 0.0, 1.0], 'derivatives': [0.0, 0.0, 0.0, 1.0], 'variable': 'etau'}\n",
      "{'coefficient': -1, 'constants': [0.0, 0.0, 0.0, 0.0, 0.0, 0.0, 1.0], 'derivatives': [0.0, 0.0, 0.0, 2.0], 'variable': 'etau'}\n",
      "{'coefficient': -3, 'constants': [0.0, 0.0, 0.0, 0.0, 0.0, 1.0, 1.0], 'derivatives': [0.0, 0.0, 1.0, 0.0], 'variable': 'xix'}\n",
      "{'coefficient': 1, 'constants': [0.0, 0.0, 0.0, 0.0, 0.0, 0.0, 1.0], 'derivatives': [0.0, 0.0, 0.0, 0.0], 'variable': 'xix'}\n",
      "{'coefficient': -1, 'constants': [0.0, 0.0, 0.0, 0.0, 0.0, 0.0, 1.0], 'derivatives': [0.0, 1.0, 0.0, 0.0], 'variable': 'xix'}\n",
      "{'coefficient': -2, 'constants': [0.0, 0.0, 0.0, 0.0, 0.0, 0.0, 1.0], 'derivatives': [1.0, 0.0, 1.0, 0.0], 'variable': 'etau'}\n",
      "{'coefficient': -2, 'constants': [0.0, 0.0, 0.0, 0.0, 0.0, 1.0, 1.0], 'derivatives': [0.0, 0.0, 0.0, 1.0], 'variable': 'xix'}\n",
      "{'coefficient': 1, 'constants': [0.0, 0.0, 0.0, 0.0, 0.0, 0.0, 0.0], 'derivatives': [0.0, 0.0, 0.0, 0.0], 'variable': None}\n",
      "{'coefficient': -1, 'constants': [0.0, 0.0, 0.0, 0.0, 0.0, 0.0, 1.0], 'derivatives': [0.0, 1.0, 0.0, 0.0], 'variable': 'xix'}\n",
      "{'coefficient': -2, 'constants': [0.0, 0.0, 0.0, 0.0, 0.0, 0.0, 1.0], 'derivatives': [1.0, 0.0, 0.0, 1.0], 'variable': 'etau'}\n",
      "{'coefficient': 1, 'constants': [0.0, 0.0, 0.0, 0.0, 0.0, 0.0, 0.0], 'derivatives': [0.0, 0.0, 0.0, 0.0], 'variable': None}\n",
      "{'coefficient': 1, 'constants': [0.0, 0.0, 0.0, 0.0, 0.0, 1.0, 1.0], 'derivatives': [0.0, 0.0, 1.0, 0.0], 'variable': 'etau'}\n",
      "{'coefficient': -2, 'constants': [0.0, 0.0, 0.0, 0.0, 0.0, 1.0, 1.0], 'derivatives': [1.0, 0.0, 0.0, 0.0], 'variable': 'xix'}\n",
      "{'coefficient': -1, 'constants': [0.0, 0.0, 0.0, 0.0, 0.0, 0.0, 1.0], 'derivatives': [0.0, 0.0, 0.0, 0.0], 'variable': 'etau'}\n",
      "{'coefficient': 1, 'constants': [0.0, 0.0, 0.0, 0.0, 0.0, 0.0, 1.0], 'derivatives': [0.0, 1.0, 0.0, 0.0], 'variable': 'etau'}\n",
      "{'coefficient': 1, 'constants': [0.0, 0.0, 0.0, 0.0, 0.0, 0.0, 1.0], 'derivatives': [0.0, 1.0, 0.0, 0.0], 'variable': 'etav'}\n"
     ]
    }
   ],
   "source": [
    "for i in pendejada:\n",
    "    for j in pendejada[i]:\n",
    "        l = len(f.args)\n",
    "        arr_pow = np.zeros(len(list_all)+1)\n",
    "        arr_deriv = np.zeros(len(list_indep))\n",
    "        term = {\"coefficient\":1, \"constants\":None,\n",
    "                    \"derivatives\":None, \"variable\":None}\n",
    "        print(funcion_pendeja(sp.sympify(j)))"
   ]
  },
  {
   "cell_type": "code",
   "execution_count": 8,
   "metadata": {},
   "outputs": [],
   "source": [
    "pendejada = {'Derivative(u(x,t),t)*Derivative(u(x,t),x)^2': ['+Derivative(xit(x,t,u(x,t),v(x,t)),(u(x,t),2))'],\n",
    " 'Derivative(u(x,t),t)*Derivative(u(x,t),x)*Derivative(v(x,t),x)': ['+2*Derivative(xit(x,t,u(x,t),v(x,t)),u(x,t),v(x,t))'],\n",
    " 'Derivative(u(x,t),t)*Derivative(u(x,t),x)': ['+2*Derivative(xix(x,t,u(x,t),v(x,t)),u(x,t))',\n",
    "  '+2*Subs(Derivative(xit(_xi_1,t,u(x,t),v(x,t)),_xi_1,u(x,t)),_xi_1,x)'],\n",
    " 'Derivative(u(x,t),t)*Derivative(v(x,t),t)': ['-2*Derivative(xit(x,t,u(x,t),v(x,t)),u(x,t))',\n",
    "  '-Derivative(xit(x,t,u(x,t),v(x,t)),v(x,t))'],\n",
    " 'Derivative(u(x,t),t)*Derivative(v(x,t),x)^2': ['+Derivative(xit(x,t,u(x,t),v(x,t)),(v(x,t),2))'],\n",
    " 'Derivative(u(x,t),t)*Derivative(v(x,t),x)': ['-Derivative(xix(x,t,u(x,t),v(x,t)),u(x,t))',\n",
    "  '+2*Derivative(xix(x,t,u(x,t),v(x,t)),v(x,t))',\n",
    "  '+2*Subs(Derivative(xit(_xi_1,t,u(x,t),v(x,t)),_xi_1,v(x,t)),_xi_1,x)'],\n",
    " 'Derivative(u(x,t),t)*Derivative(v(x,t),(x,2))': ['+Derivative(xit(x,t,u(x,t),v(x,t)),v(x,t))'],\n",
    " 'Derivative(u(x,t),x)^3': ['+Derivative(xix(x,t,u(x,t),v(x,t)),(u(x,t),2))'],\n",
    " 'Derivative(u(x,t),x)^2*Derivative(v(x,t),x)': ['+2*Derivative(xix(x,t,u(x,t),v(x,t)),u(x,t),v(x,t))'],\n",
    " 'Derivative(u(x,t),x)*Derivative(v(x,t),t)': ['-3*Derivative(xix(x,t,u(x,t),v(x,t)),u(x,t))',\n",
    "  '-Derivative(xix(x,t,u(x,t),v(x,t)),v(x,t))'],\n",
    " 'Derivative(u(x,t),x)*Derivative(v(x,t),x)^2': ['+Derivative(xix(x,t,u(x,t),v(x,t)),(v(x,t),2))'],\n",
    " 'Derivative(u(x,t),x)*Derivative(v(x,t),x)': ['-2*Derivative(etau(x,t,u(x,t),v(x,t)),u(x,t),v(x,t))',\n",
    "  '+2*Subs(Derivative(xix(_xi_1,t,u(x,t),v(x,t)),_xi_1,v(x,t)),_xi_1,x)'],\n",
    " 'Derivative(u(x,t),x)*Derivative(v(x,t),(x,2))': ['+Derivative(xix(x,t,u(x,t),v(x,t)),v(x,t))'],\n",
    " 'Derivative(u(x,t),x)*Derivative(u(x,t),t,x)': ['+2*Derivative(xit(x,t,u(x,t),v(x,t)),u(x,t))'],\n",
    " 'Derivative(v(x,t),t)^2': ['-Derivative(xit(x,t,u(x,t),v(x,t)),v(x,t))'],\n",
    " 'Derivative(v(x,t),t)*Derivative(v(x,t),x)': ['-3*Derivative(xix(x,t,u(x,t),v(x,t)),v(x,t))'],\n",
    " 'Derivative(v(x,t),x)*Derivative(u(x,t),t,x)': ['+2*Derivative(xit(x,t,u(x,t),v(x,t)),v(x,t))'],\n",
    " 'Derivative(u(x,t),t,x)': ['+2*Subs(Derivative(xit(_xi_1,t,u(x,t),v(x,t)),_xi_1),_xi_1,x)'],\n",
    " 'Derivative(u(x,t),t)': ['-v(x,t)*Derivative(xit(x,t,u(x,t),v(x,t)),u(x,t))',\n",
    "  '+Derivative(etav(x,t,u(x,t),v(x,t)),u(x,t))',\n",
    "  '+Subs(Derivative(xit(_xi_1,t,u(x,t),v(x,t)),(_xi_1,2)),_xi_1,x)',\n",
    "  '-Subs(Derivative(xit(x,_xi_2,u(x,t),v(x,t)),_xi_2),_xi_2,t)',\n",
    "  '+2*Subs(Derivative(xix(_xi_1,t,u(x,t),v(x,t)),_xi_1),_xi_1,x)'],\n",
    " 'Derivative(v(x,t),t)': ['+xit(x,t,u(x,t),v(x,t))',\n",
    "  '+Derivative(etau(x,t,u(x,t),v(x,t)),u(x,t))',\n",
    "  '+Derivative(etau(x,t,u(x,t),v(x,t)),v(x,t))',\n",
    "  '+Derivative(etav(x,t,u(x,t),v(x,t)),v(x,t))',\n",
    "  '-Subs(Derivative(xit(x,_xi_2,u(x,t),v(x,t)),_xi_2),_xi_2,t)',\n",
    "  '-2*Subs(Derivative(xix(_xi_1,t,u(x,t),v(x,t)),_xi_1),_xi_1,x)'],\n",
    " 'Derivative(u(x,t),x)^2': ['-Derivative(etau(x,t,u(x,t),v(x,t)),(u(x,t),2))',\n",
    "  '+2*Subs(Derivative(xix(_xi_1,t,u(x,t),v(x,t)),_xi_1,u(x,t)),_xi_1,x)'],\n",
    " 'Derivative(v(x,t),(x,2))': ['-Derivative(etau(x,t,u(x,t),v(x,t)),v(x,t))'],\n",
    " 'Derivative(v(x,t),x)^2': ['-Derivative(etau(x,t,u(x,t),v(x,t)),(v(x,t),2))'],\n",
    " 'Derivative(u(x,t),x)': ['-3*v(x,t)*Derivative(xix(x,t,u(x,t),v(x,t)),u(x,t))',\n",
    "  '+Subs(Derivative(xix(_xi_1,t,u(x,t),v(x,t)),(_xi_1,2)),_xi_1,x)',\n",
    "  '-Subs(Derivative(xix(x,_xi_2,u(x,t),v(x,t)),_xi_2),_xi_2,t)',\n",
    "  '-2*Subs(Derivative(etau(_xi_1,t,u(x,t),v(x,t)),_xi_1,u(x,t)),_xi_1,x)'],\n",
    " 'Derivative(v(x,t),x)': ['-2*v(x,t)*Derivative(xix(x,t,u(x,t),v(x,t)),v(x,t))',\n",
    "  '+xix(x,t,u(x,t),v(x,t))',\n",
    "  '-Subs(Derivative(xix(x,_xi_2,u(x,t),v(x,t)),_xi_2),_xi_2,t)',\n",
    "  '-2*Subs(Derivative(etau(_xi_1,t,u(x,t),v(x,t)),_xi_1,v(x,t)),_xi_1,x)'],\n",
    " 'lonely_terms': ['etav(x,t,u(x,t),v(x,t))',\n",
    "  '+v(x,t)*Derivative(etau(x,t,u(x,t),v(x,t)),u(x,t))',\n",
    "  '-2*v(x,t)*Subs(Derivative(xix(_xi_1,t,u(x,t),v(x,t)),_xi_1),_xi_1,x)',\n",
    "  '-Subs(Derivative(etau(_xi_1,t,u(x,t),v(x,t)),(_xi_1,2)),_xi_1,x)',\n",
    "  '+Subs(Derivative(etau(x,_xi_2,u(x,t),v(x,t)),_xi_2),_xi_2,t)',\n",
    "  '+Subs(Derivative(etav(x,_xi_2,u(x,t),v(x,t)),_xi_2),_xi_2,t)']}"
   ]
  },
  {
   "cell_type": "code",
   "execution_count": null,
   "metadata": {},
   "outputs": [],
   "source": [
    "twe"
   ]
  },
  {
   "cell_type": "code",
   "execution_count": 5,
   "metadata": {},
   "outputs": [
    {
     "data": {
      "text/plain": [
       "[Derivative(u(x, t), x),\n",
       " Derivative(u(x, t), t),\n",
       " Derivative(u(x, t), (x, 2)),\n",
       " Derivative(u(x, t), x, t),\n",
       " Derivative(u(x, t), (t, 2))]"
      ]
     },
     "execution_count": 5,
     "metadata": {},
     "output_type": "execute_result"
    }
   ],
   "source": [
    "dep_vars_derivatives"
   ]
  },
  {
   "cell_type": "code",
   "execution_count": 6,
   "metadata": {},
   "outputs": [],
   "source": [
    "function_grouped = {}\n",
    "\n",
    "for el in dep_vars_derivatives:\n",
    "    function_grouped[el] = []"
   ]
  },
  {
   "cell_type": "code",
   "execution_count": 7,
   "metadata": {},
   "outputs": [
    {
     "name": "stdout",
     "output_type": "stream",
     "text": [
      "(-1, Subs(Derivative(eta^u(_xi_1, t, u(x, t)), (_xi_1, 2)), _xi_1, x))\n",
      "\n",
      "\n",
      "(Derivative(u(x, t), x)**2, Subs(Derivative(xi^x(_xi_1, t, u(x, t)), _xi_1, u(x, t)), _xi_1, x))\n",
      "\n",
      "\n",
      "(Derivative(u(x, t), x)**2, Subs(Derivative(xi^x(x, t, _xi), _xi, x), _xi, u(x, t)))\n",
      "\n",
      "\n",
      "(Derivative(u(x, t), x)**3, Derivative(xi^x(x, t, u(x, t)), (u(x, t), 2)))\n",
      "\n",
      "\n",
      "(Derivative(eta^u(x, t, u(x, t)), u(x, t)), Derivative(u(x, t), t))\n",
      "\n",
      "\n",
      "(Derivative(u(x, t), t), Subs(Derivative(xi^t(_xi_1, t, u(x, t)), (_xi_1, 2)), _xi_1, x))\n",
      "\n",
      "\n",
      "(Derivative(u(x, t), x), Subs(Derivative(xi^x(_xi_1, t, u(x, t)), (_xi_1, 2)), _xi_1, x))\n",
      "\n",
      "\n",
      "(-1, Derivative(u(x, t), t)**2, Derivative(xi^t(x, t, u(x, t)), u(x, t)))\n",
      "\n",
      "\n",
      "(-1, Derivative(u(x, t), x)**2, Derivative(eta^u(x, t, u(x, t)), (u(x, t), 2)))\n",
      "\n",
      "\n",
      "(-1, Derivative(eta^u(x, t, u(x, t)), u(x, t)), Derivative(u(x, t), (x, 2)))\n",
      "\n",
      "\n",
      "(-1, Derivative(u(x, t), t), Subs(Derivative(xi^t(x, _xi_2, u(x, t)), _xi_2), _xi_2, t))\n",
      "\n",
      "\n",
      "(-1, Derivative(u(x, t), x), Subs(Derivative(xi^x(x, _xi_2, u(x, t)), _xi_2), _xi_2, t))\n",
      "\n",
      "\n",
      "(-1, Derivative(u(x, t), x), Subs(Derivative(eta^u(_xi_1, t, u(x, t)), _xi_1, u(x, t)), _xi_1, x))\n",
      "\n",
      "\n",
      "(-1, Derivative(u(x, t), x), Subs(Derivative(eta^u(x, t, _xi), _xi, x), _xi, u(x, t)))\n",
      "\n",
      "\n",
      "(2, Derivative(u(x, t), (x, 2)), Subs(Derivative(xi^x(_xi_1, t, u(x, t)), _xi_1), _xi_1, x))\n",
      "\n",
      "\n",
      "(2, Derivative(u(x, t), t, x), Subs(Derivative(xi^t(_xi_1, t, u(x, t)), _xi_1), _xi_1, x))\n",
      "\n",
      "\n",
      "(Derivative(u(x, t), x)**2, Derivative(u(x, t), t), Derivative(xi^t(x, t, u(x, t)), (u(x, t), 2)))\n",
      "\n",
      "\n",
      "(Derivative(u(x, t), t), Derivative(u(x, t), x), Subs(Derivative(xi^t(_xi_1, t, u(x, t)), _xi_1, u(x, t)), _xi_1, x))\n",
      "\n",
      "\n",
      "(Derivative(u(x, t), t), Derivative(u(x, t), x), Subs(Derivative(xi^t(x, t, _xi), _xi, x), _xi, u(x, t)))\n",
      "\n",
      "\n",
      "(Derivative(u(x, t), t), Derivative(u(x, t), (x, 2)), Derivative(xi^t(x, t, u(x, t)), u(x, t)))\n",
      "\n",
      "\n",
      "(-1, Derivative(u(x, t), t), Derivative(u(x, t), x), Derivative(xi^x(x, t, u(x, t)), u(x, t)))\n",
      "\n",
      "\n",
      "(2, Derivative(u(x, t), x), Derivative(xi^t(x, t, u(x, t)), u(x, t)), Derivative(u(x, t), t, x))\n",
      "\n",
      "\n",
      "(3, Derivative(u(x, t), x), Derivative(u(x, t), (x, 2)), Derivative(xi^x(x, t, u(x, t)), u(x, t)))\n",
      "\n",
      "\n",
      "(Derivative(eta^u(x, _xi_2, u(x, t)), _xi_2), (_xi_2,), (t,))\n",
      "\n",
      "\n"
     ]
    }
   ],
   "source": [
    "for ele in XF.expand().args:\n",
    "    print(ele.args)\n",
    "    print('\\n')"
   ]
  },
  {
   "cell_type": "code",
   "execution_count": 8,
   "metadata": {},
   "outputs": [],
   "source": [
    "import re\n",
    "\n",
    "splitted = re.split('(-|\\+)', str(XF.expand()))"
   ]
  },
  {
   "cell_type": "code",
   "execution_count": 9,
   "metadata": {},
   "outputs": [
    {
     "name": "stdout",
     "output_type": "stream",
     "text": [
      "Derivative(eta^u(x, t, u(x, t)), u(x, t))*Derivative(u(x, t), t)  \n",
      "\n",
      "- \n",
      "\n",
      " Derivative(eta^u(x, t, u(x, t)), u(x, t))*Derivative(u(x, t), (x, 2))  \n",
      "\n",
      "- \n",
      "\n",
      " Derivative(eta^u(x, t, u(x, t)), (u(x, t), 2))*Derivative(u(x, t), x)**2  \n",
      "\n",
      "- \n",
      "\n",
      " Derivative(u(x, t), t)**2*Derivative(xi^t(x, t, u(x, t)), u(x, t))  \n",
      "\n",
      "+ \n",
      "\n",
      " Derivative(u(x, t), t)*Derivative(u(x, t), x)**2*Derivative(xi^t(x, t, u(x, t)), (u(x, t), 2))  \n",
      "\n",
      "- \n",
      "\n",
      " Derivative(u(x, t), t)*Derivative(u(x, t), x)*Derivative(xi^x(x, t, u(x, t)), u(x, t))  \n",
      "\n",
      "+ \n",
      "\n",
      " Derivative(u(x, t), t)*Derivative(u(x, t), x)*Subs(Derivative(xi^t(_xi_1, t, u(x, t)), _xi_1, u(x, t)), _xi_1, x)  \n",
      "\n",
      "+ \n",
      "\n",
      " Derivative(u(x, t), t)*Derivative(u(x, t), x)*Subs(Derivative(xi^t(x, t, _xi), _xi, x), _xi, u(x, t))  \n",
      "\n",
      "+ \n",
      "\n",
      " Derivative(u(x, t), t)*Derivative(u(x, t), (x, 2))*Derivative(xi^t(x, t, u(x, t)), u(x, t))  \n",
      "\n",
      "+ \n",
      "\n",
      " Derivative(u(x, t), t)*Subs(Derivative(xi^t(_xi_1, t, u(x, t)), (_xi_1, 2)), _xi_1, x)  \n",
      "\n",
      "- \n",
      "\n",
      " Derivative(u(x, t), t)*Subs(Derivative(xi^t(x, _xi_2, u(x, t)), _xi_2), _xi_2, t)  \n",
      "\n",
      "+ \n",
      "\n",
      " Derivative(u(x, t), x)**3*Derivative(xi^x(x, t, u(x, t)), (u(x, t), 2))  \n",
      "\n",
      "+ \n",
      "\n",
      " Derivative(u(x, t), x)**2*Subs(Derivative(xi^x(_xi_1, t, u(x, t)), _xi_1, u(x, t)), _xi_1, x)  \n",
      "\n",
      "+ \n",
      "\n",
      " Derivative(u(x, t), x)**2*Subs(Derivative(xi^x(x, t, _xi), _xi, x), _xi, u(x, t))  \n",
      "\n",
      "+ \n",
      "\n",
      " 3*Derivative(u(x, t), x)*Derivative(u(x, t), (x, 2))*Derivative(xi^x(x, t, u(x, t)), u(x, t))  \n",
      "\n",
      "+ \n",
      "\n",
      " 2*Derivative(u(x, t), x)*Derivative(xi^t(x, t, u(x, t)), u(x, t))*Derivative(u(x, t), t, x)  \n",
      "\n",
      "+ \n",
      "\n",
      " Derivative(u(x, t), x)*Subs(Derivative(xi^x(_xi_1, t, u(x, t)), (_xi_1, 2)), _xi_1, x)  \n",
      "\n",
      "- \n",
      "\n",
      " Derivative(u(x, t), x)*Subs(Derivative(xi^x(x, _xi_2, u(x, t)), _xi_2), _xi_2, t)  \n",
      "\n",
      "- \n",
      "\n",
      " Derivative(u(x, t), x)*Subs(Derivative(eta^u(_xi_1, t, u(x, t)), _xi_1, u(x, t)), _xi_1, x)  \n",
      "\n",
      "- \n",
      "\n",
      " Derivative(u(x, t), x)*Subs(Derivative(eta^u(x, t, _xi), _xi, x), _xi, u(x, t))  \n",
      "\n",
      "+ \n",
      "\n",
      " 2*Derivative(u(x, t), (x, 2))*Subs(Derivative(xi^x(_xi_1, t, u(x, t)), _xi_1), _xi_1, x)  \n",
      "\n",
      "+ \n",
      "\n",
      " 2*Derivative(u(x, t), t, x)*Subs(Derivative(xi^t(_xi_1, t, u(x, t)), _xi_1), _xi_1, x)  \n",
      "\n",
      "- \n",
      "\n",
      " Subs(Derivative(eta^u(_xi_1, t, u(x, t)), (_xi_1, 2)), _xi_1, x)  \n",
      "\n",
      "+ \n",
      "\n",
      " Subs(Derivative(eta^u(x, _xi_2, u(x, t)), _xi_2), _xi_2, t) \n",
      "\n"
     ]
    }
   ],
   "source": [
    "for x in splitted:\n",
    "    print(x, '\\n')"
   ]
  },
  {
   "cell_type": "code",
   "execution_count": 10,
   "metadata": {},
   "outputs": [
    {
     "data": {
      "text/latex": [
       "$\\displaystyle \\frac{\\partial}{\\partial u{\\left(x,t \\right)}} \\eta^{u}{\\left(x,t,u{\\left(x,t \\right)} \\right)} \\frac{\\partial}{\\partial t} u{\\left(x,t \\right)} - \\frac{\\partial}{\\partial u{\\left(x,t \\right)}} \\eta^{u}{\\left(x,t,u{\\left(x,t \\right)} \\right)} \\frac{\\partial^{2}}{\\partial x^{2}} u{\\left(x,t \\right)} - \\frac{\\partial^{2}}{\\partial u{\\left(x,t \\right)}^{2}} \\eta^{u}{\\left(x,t,u{\\left(x,t \\right)} \\right)} \\left(\\frac{\\partial}{\\partial x} u{\\left(x,t \\right)}\\right)^{2} - \\left(\\frac{\\partial}{\\partial t} u{\\left(x,t \\right)}\\right)^{2} \\frac{\\partial}{\\partial u{\\left(x,t \\right)}} \\xi^{t}{\\left(x,t,u{\\left(x,t \\right)} \\right)} + \\frac{\\partial}{\\partial t} u{\\left(x,t \\right)} \\left(\\frac{\\partial}{\\partial x} u{\\left(x,t \\right)}\\right)^{2} \\frac{\\partial^{2}}{\\partial u{\\left(x,t \\right)}^{2}} \\xi^{t}{\\left(x,t,u{\\left(x,t \\right)} \\right)} - \\frac{\\partial}{\\partial t} u{\\left(x,t \\right)} \\frac{\\partial}{\\partial x} u{\\left(x,t \\right)} \\frac{\\partial}{\\partial u{\\left(x,t \\right)}} \\xi^{x}{\\left(x,t,u{\\left(x,t \\right)} \\right)} + \\frac{\\partial}{\\partial t} u{\\left(x,t \\right)} \\frac{\\partial}{\\partial x} u{\\left(x,t \\right)} \\left. \\frac{\\partial^{2}}{\\partial u{\\left(x,t \\right)}\\partial \\xi_{1}} \\xi^{t}{\\left(\\xi_{1},t,u{\\left(x,t \\right)} \\right)} \\right|_{\\substack{ \\xi_{1}=x }} + \\frac{\\partial}{\\partial t} u{\\left(x,t \\right)} \\frac{\\partial}{\\partial x} u{\\left(x,t \\right)} \\left. \\frac{\\partial^{2}}{\\partial x\\partial \\xi} \\xi^{t}{\\left(x,t,\\xi \\right)} \\right|_{\\substack{ \\xi=u{\\left(x,t \\right)} }} + \\frac{\\partial}{\\partial t} u{\\left(x,t \\right)} \\frac{\\partial^{2}}{\\partial x^{2}} u{\\left(x,t \\right)} \\frac{\\partial}{\\partial u{\\left(x,t \\right)}} \\xi^{t}{\\left(x,t,u{\\left(x,t \\right)} \\right)} + \\frac{\\partial}{\\partial t} u{\\left(x,t \\right)} \\left. \\frac{\\partial^{2}}{\\partial \\xi_{1}^{2}} \\xi^{t}{\\left(\\xi_{1},t,u{\\left(x,t \\right)} \\right)} \\right|_{\\substack{ \\xi_{1}=x }} - \\frac{\\partial}{\\partial t} u{\\left(x,t \\right)} \\left. \\frac{\\partial}{\\partial \\xi_{2}} \\xi^{t}{\\left(x,\\xi_{2},u{\\left(x,t \\right)} \\right)} \\right|_{\\substack{ \\xi_{2}=t }} + \\left(\\frac{\\partial}{\\partial x} u{\\left(x,t \\right)}\\right)^{3} \\frac{\\partial^{2}}{\\partial u{\\left(x,t \\right)}^{2}} \\xi^{x}{\\left(x,t,u{\\left(x,t \\right)} \\right)} + \\left(\\frac{\\partial}{\\partial x} u{\\left(x,t \\right)}\\right)^{2} \\left. \\frac{\\partial^{2}}{\\partial u{\\left(x,t \\right)}\\partial \\xi_{1}} \\xi^{x}{\\left(\\xi_{1},t,u{\\left(x,t \\right)} \\right)} \\right|_{\\substack{ \\xi_{1}=x }} + \\left(\\frac{\\partial}{\\partial x} u{\\left(x,t \\right)}\\right)^{2} \\left. \\frac{\\partial^{2}}{\\partial x\\partial \\xi} \\xi^{x}{\\left(x,t,\\xi \\right)} \\right|_{\\substack{ \\xi=u{\\left(x,t \\right)} }} + 3 \\frac{\\partial}{\\partial x} u{\\left(x,t \\right)} \\frac{\\partial^{2}}{\\partial x^{2}} u{\\left(x,t \\right)} \\frac{\\partial}{\\partial u{\\left(x,t \\right)}} \\xi^{x}{\\left(x,t,u{\\left(x,t \\right)} \\right)} + 2 \\frac{\\partial}{\\partial x} u{\\left(x,t \\right)} \\frac{\\partial}{\\partial u{\\left(x,t \\right)}} \\xi^{t}{\\left(x,t,u{\\left(x,t \\right)} \\right)} \\frac{\\partial^{2}}{\\partial x\\partial t} u{\\left(x,t \\right)} + \\frac{\\partial}{\\partial x} u{\\left(x,t \\right)} \\left. \\frac{\\partial^{2}}{\\partial \\xi_{1}^{2}} \\xi^{x}{\\left(\\xi_{1},t,u{\\left(x,t \\right)} \\right)} \\right|_{\\substack{ \\xi_{1}=x }} - \\frac{\\partial}{\\partial x} u{\\left(x,t \\right)} \\left. \\frac{\\partial}{\\partial \\xi_{2}} \\xi^{x}{\\left(x,\\xi_{2},u{\\left(x,t \\right)} \\right)} \\right|_{\\substack{ \\xi_{2}=t }} - \\frac{\\partial}{\\partial x} u{\\left(x,t \\right)} \\left. \\frac{\\partial^{2}}{\\partial u{\\left(x,t \\right)}\\partial \\xi_{1}} \\eta^{u}{\\left(\\xi_{1},t,u{\\left(x,t \\right)} \\right)} \\right|_{\\substack{ \\xi_{1}=x }} - \\frac{\\partial}{\\partial x} u{\\left(x,t \\right)} \\left. \\frac{\\partial^{2}}{\\partial x\\partial \\xi} \\eta^{u}{\\left(x,t,\\xi \\right)} \\right|_{\\substack{ \\xi=u{\\left(x,t \\right)} }} + 2 \\frac{\\partial^{2}}{\\partial x^{2}} u{\\left(x,t \\right)} \\left. \\frac{\\partial}{\\partial \\xi_{1}} \\xi^{x}{\\left(\\xi_{1},t,u{\\left(x,t \\right)} \\right)} \\right|_{\\substack{ \\xi_{1}=x }} + 2 \\frac{\\partial^{2}}{\\partial x\\partial t} u{\\left(x,t \\right)} \\left. \\frac{\\partial}{\\partial \\xi_{1}} \\xi^{t}{\\left(\\xi_{1},t,u{\\left(x,t \\right)} \\right)} \\right|_{\\substack{ \\xi_{1}=x }} - \\left. \\frac{\\partial^{2}}{\\partial \\xi_{1}^{2}} \\eta^{u}{\\left(\\xi_{1},t,u{\\left(x,t \\right)} \\right)} \\right|_{\\substack{ \\xi_{1}=x }} + \\left. \\frac{\\partial}{\\partial \\xi_{2}} \\eta^{u}{\\left(x,\\xi_{2},u{\\left(x,t \\right)} \\right)} \\right|_{\\substack{ \\xi_{2}=t }}$"
      ],
      "text/plain": [
       "Derivative(eta^u(x, t, u(x, t)), u(x, t))*Derivative(u(x, t), t) - Derivative(eta^u(x, t, u(x, t)), u(x, t))*Derivative(u(x, t), (x, 2)) - Derivative(eta^u(x, t, u(x, t)), (u(x, t), 2))*Derivative(u(x, t), x)**2 - Derivative(u(x, t), t)**2*Derivative(xi^t(x, t, u(x, t)), u(x, t)) + Derivative(u(x, t), t)*Derivative(u(x, t), x)**2*Derivative(xi^t(x, t, u(x, t)), (u(x, t), 2)) - Derivative(u(x, t), t)*Derivative(u(x, t), x)*Derivative(xi^x(x, t, u(x, t)), u(x, t)) + Derivative(u(x, t), t)*Derivative(u(x, t), x)*Subs(Derivative(xi^t(_xi_1, t, u(x, t)), _xi_1, u(x, t)), _xi_1, x) + Derivative(u(x, t), t)*Derivative(u(x, t), x)*Subs(Derivative(xi^t(x, t, _xi), _xi, x), _xi, u(x, t)) + Derivative(u(x, t), t)*Derivative(u(x, t), (x, 2))*Derivative(xi^t(x, t, u(x, t)), u(x, t)) + Derivative(u(x, t), t)*Subs(Derivative(xi^t(_xi_1, t, u(x, t)), (_xi_1, 2)), _xi_1, x) - Derivative(u(x, t), t)*Subs(Derivative(xi^t(x, _xi_2, u(x, t)), _xi_2), _xi_2, t) + Derivative(u(x, t), x)**3*Derivative(xi^x(x, t, u(x, t)), (u(x, t), 2)) + Derivative(u(x, t), x)**2*Subs(Derivative(xi^x(_xi_1, t, u(x, t)), _xi_1, u(x, t)), _xi_1, x) + Derivative(u(x, t), x)**2*Subs(Derivative(xi^x(x, t, _xi), _xi, x), _xi, u(x, t)) + 3*Derivative(u(x, t), x)*Derivative(u(x, t), (x, 2))*Derivative(xi^x(x, t, u(x, t)), u(x, t)) + 2*Derivative(u(x, t), x)*Derivative(xi^t(x, t, u(x, t)), u(x, t))*Derivative(u(x, t), t, x) + Derivative(u(x, t), x)*Subs(Derivative(xi^x(_xi_1, t, u(x, t)), (_xi_1, 2)), _xi_1, x) - Derivative(u(x, t), x)*Subs(Derivative(xi^x(x, _xi_2, u(x, t)), _xi_2), _xi_2, t) - Derivative(u(x, t), x)*Subs(Derivative(eta^u(_xi_1, t, u(x, t)), _xi_1, u(x, t)), _xi_1, x) - Derivative(u(x, t), x)*Subs(Derivative(eta^u(x, t, _xi), _xi, x), _xi, u(x, t)) + 2*Derivative(u(x, t), (x, 2))*Subs(Derivative(xi^x(_xi_1, t, u(x, t)), _xi_1), _xi_1, x) + 2*Derivative(u(x, t), t, x)*Subs(Derivative(xi^t(_xi_1, t, u(x, t)), _xi_1), _xi_1, x) - Subs(Derivative(eta^u(_xi_1, t, u(x, t)), (_xi_1, 2)), _xi_1, x) + Subs(Derivative(eta^u(x, _xi_2, u(x, t)), _xi_2), _xi_2, t)"
      ]
     },
     "execution_count": 10,
     "metadata": {},
     "output_type": "execute_result"
    }
   ],
   "source": [
    "XF.expand()"
   ]
  },
  {
   "cell_type": "code",
   "execution_count": 11,
   "metadata": {},
   "outputs": [
    {
     "data": {
      "text/plain": [
       "([(a0, u(x, t)),\n",
       "  (a1, eta^u(_xi_1, t, a0)),\n",
       "  (a2, Derivative(a0, t)),\n",
       "  (a3, eta^u(x, t, a0)),\n",
       "  (a4, Derivative(a3, a0)),\n",
       "  (a5, Derivative(a0, (x, 2))),\n",
       "  (a6, xi^x(x, t, a0)),\n",
       "  (a7, Derivative(a0, x)),\n",
       "  (a8, a7**2),\n",
       "  (a9, xi^t(_xi_1, t, a0)),\n",
       "  (a10, xi^t(x, t, a0)),\n",
       "  (a11, Derivative(a10, a0)),\n",
       "  (a12, xi^x(_xi_1, t, a0)),\n",
       "  (a13, 2*Derivative(a0, t, x)),\n",
       "  (a14, Derivative(a6, a0)),\n",
       "  (a15, a2*a7)],\n",
       " [a11*a13*a7 - a11*a2**2 + a11*a2*a5 + a13*Subs(Derivative(a9, _xi_1), _xi_1, x) - a14*a15 + 3*a14*a5*a7 + a15*Subs(Derivative(a9, _xi_1, a0), _xi_1, x) + a15*Subs(Derivative(xi^t(x, t, _xi), _xi, x), _xi, a0) + a2*a4 + a2*a8*Derivative(a10, (a0, 2)) + a2*Subs(Derivative(a9, (_xi_1, 2)), _xi_1, x) - a2*Subs(Derivative(xi^t(x, _xi_2, a0), _xi_2), _xi_2, t) - a4*a5 + 2*a5*Subs(Derivative(a12, _xi_1), _xi_1, x) + a7**3*Derivative(a6, (a0, 2)) + a7*Subs(Derivative(a12, (_xi_1, 2)), _xi_1, x) - a7*Subs(Derivative(xi^x(x, _xi_2, a0), _xi_2), _xi_2, t) - a7*Subs(Derivative(a1, _xi_1, a0), _xi_1, x) - a7*Subs(Derivative(eta^u(x, t, _xi), _xi, x), _xi, a0) - a8*Derivative(a3, (a0, 2)) + a8*Subs(Derivative(a12, _xi_1, a0), _xi_1, x) + a8*Subs(Derivative(xi^x(x, t, _xi), _xi, x), _xi, a0) - Subs(Derivative(a1, (_xi_1, 2)), _xi_1, x) + Subs(Derivative(eta^u(x, _xi_2, a0), _xi_2), _xi_2, t)])"
      ]
     },
     "execution_count": 11,
     "metadata": {},
     "output_type": "execute_result"
    }
   ],
   "source": [
    "sp.cse(XF.expand(), symbols=sp.symbols('a:100'))"
   ]
  },
  {
   "cell_type": "code",
   "execution_count": 12,
   "metadata": {},
   "outputs": [],
   "source": [
    "compressed = sp.cse(XF.expand(), symbols=sp.symbols('a:100'))\n",
    "sub_els = [el[0] for el in compressed[0]]\n",
    "sub_XF = compressed[1][0]"
   ]
  },
  {
   "cell_type": "code",
   "execution_count": 13,
   "metadata": {},
   "outputs": [],
   "source": [
    "function_grouped = {}\n",
    "\n",
    "for el in sub_els:\n",
    "    function_grouped[el] = []"
   ]
  },
  {
   "cell_type": "code",
   "execution_count": 14,
   "metadata": {},
   "outputs": [
    {
     "data": {
      "text/plain": [
       "{a0: [],\n",
       " a1: [],\n",
       " a2: [],\n",
       " a3: [],\n",
       " a4: [],\n",
       " a5: [],\n",
       " a6: [],\n",
       " a7: [],\n",
       " a8: [],\n",
       " a9: [],\n",
       " a10: [],\n",
       " a11: [],\n",
       " a12: [],\n",
       " a13: [],\n",
       " a14: [],\n",
       " a15: []}"
      ]
     },
     "execution_count": 14,
     "metadata": {},
     "output_type": "execute_result"
    }
   ],
   "source": [
    "function_grouped"
   ]
  },
  {
   "cell_type": "code",
   "execution_count": 15,
   "metadata": {},
   "outputs": [],
   "source": [
    "def sort_function(function):\n",
    "    \n",
    "    for element in function.args:\n",
    "        var = get_base_element(element)\n",
    "        function_grouped[var].append(element)"
   ]
  },
  {
   "cell_type": "code",
   "execution_count": 16,
   "metadata": {},
   "outputs": [],
   "source": [
    "def get_base_element(element): # Maybe rename this bish\n",
    "    \n",
    "    if element in sub_els: # suponiendo que vars_and_derivatives son las que queremos agrupar :c\n",
    "        return element\n",
    "    else:\n",
    "        for sub_element in element.args:\n",
    "            ele = get_base_element(sub_element)\n",
    "            if ele in sub_els:\n",
    "                return ele"
   ]
  },
  {
   "cell_type": "code",
   "execution_count": 17,
   "metadata": {},
   "outputs": [],
   "source": [
    "sort_function(sub_XF)"
   ]
  },
  {
   "cell_type": "code",
   "execution_count": 18,
   "metadata": {},
   "outputs": [
    {
     "data": {
      "text/plain": [
       "{a0: [Subs(Derivative(eta^u(x, _xi_2, a0), _xi_2), _xi_2, t)],\n",
       " a1: [-Subs(Derivative(a1, (_xi_1, 2)), _xi_1, x)],\n",
       " a2: [a2*a4,\n",
       "  a2*Subs(Derivative(a9, (_xi_1, 2)), _xi_1, x),\n",
       "  -a2*Subs(Derivative(xi^t(x, _xi_2, a0), _xi_2), _xi_2, t),\n",
       "  a2*a8*Derivative(a10, (a0, 2))],\n",
       " a3: [],\n",
       " a4: [-a4*a5],\n",
       " a5: [2*a5*Subs(Derivative(a12, _xi_1), _xi_1, x)],\n",
       " a6: [],\n",
       " a7: [a7*Subs(Derivative(a12, (_xi_1, 2)), _xi_1, x),\n",
       "  a7**3*Derivative(a6, (a0, 2)),\n",
       "  -a7*Subs(Derivative(xi^x(x, _xi_2, a0), _xi_2), _xi_2, t),\n",
       "  -a7*Subs(Derivative(a1, _xi_1, a0), _xi_1, x),\n",
       "  -a7*Subs(Derivative(eta^u(x, t, _xi), _xi, x), _xi, a0)],\n",
       " a8: [a8*Subs(Derivative(a12, _xi_1, a0), _xi_1, x),\n",
       "  a8*Subs(Derivative(xi^x(x, t, _xi), _xi, x), _xi, a0),\n",
       "  -a8*Derivative(a3, (a0, 2))],\n",
       " a9: [],\n",
       " a10: [],\n",
       " a11: [-a11*a2**2, a11*a13*a7, a11*a2*a5],\n",
       " a12: [],\n",
       " a13: [a13*Subs(Derivative(a9, _xi_1), _xi_1, x)],\n",
       " a14: [-a14*a15, 3*a14*a5*a7],\n",
       " a15: [a15*Subs(Derivative(a9, _xi_1, a0), _xi_1, x),\n",
       "  a15*Subs(Derivative(xi^t(x, t, _xi), _xi, x), _xi, a0)]}"
      ]
     },
     "execution_count": 18,
     "metadata": {},
     "output_type": "execute_result"
    }
   ],
   "source": [
    "function_grouped"
   ]
  },
  {
   "cell_type": "code",
   "execution_count": 19,
   "metadata": {},
   "outputs": [
    {
     "data": {
      "text/plain": [
       "[(a0, u(x, t)),\n",
       " (a1, eta^u(_xi_1, t, a0)),\n",
       " (a2, Derivative(a0, t)),\n",
       " (a3, eta^u(x, t, a0)),\n",
       " (a4, Derivative(a3, a0)),\n",
       " (a5, Derivative(a0, (x, 2))),\n",
       " (a6, xi^x(x, t, a0)),\n",
       " (a7, Derivative(a0, x)),\n",
       " (a8, a7**2),\n",
       " (a9, xi^t(_xi_1, t, a0)),\n",
       " (a10, xi^t(x, t, a0)),\n",
       " (a11, Derivative(a10, a0)),\n",
       " (a12, xi^x(_xi_1, t, a0)),\n",
       " (a13, 2*Derivative(a0, t, x)),\n",
       " (a14, Derivative(a6, a0)),\n",
       " (a15, a2*a7)]"
      ]
     },
     "execution_count": 19,
     "metadata": {},
     "output_type": "execute_result"
    }
   ],
   "source": [
    "compressed[0]"
   ]
  },
  {
   "cell_type": "code",
   "execution_count": null,
   "metadata": {},
   "outputs": [],
   "source": []
  }
 ],
 "metadata": {
  "kernelspec": {
   "display_name": "Python 3",
   "language": "python",
   "name": "python3"
  },
  "language_info": {
   "codemirror_mode": {
    "name": "ipython",
    "version": 3
   },
   "file_extension": ".py",
   "mimetype": "text/x-python",
   "name": "python",
   "nbconvert_exporter": "python",
   "pygments_lexer": "ipython3",
   "version": "3.8.8"
  }
 },
 "nbformat": 4,
 "nbformat_minor": 4
}
