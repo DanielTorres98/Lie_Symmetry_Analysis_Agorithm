{
 "cells": [
  {
   "cell_type": "code",
   "execution_count": 1,
   "id": "cdf3d2eb",
   "metadata": {},
   "outputs": [],
   "source": [
    "from Analysis.Lie_Symmetry_Analysis import point_symmetries\n",
    "import sympy as sp\n",
    "from sympy import Derivative as D"
   ]
  },
  {
   "cell_type": "code",
   "execution_count": 2,
   "id": "c483851b",
   "metadata": {},
   "outputs": [],
   "source": [
    "x, y, z, t = sp.symbols('x y z t')\n",
    "phi = sp.Function('phi')(x, y, z, t)"
   ]
  },
  {
   "cell_type": "code",
   "execution_count": 37,
   "id": "d409b471",
   "metadata": {},
   "outputs": [],
   "source": [
    "#El nombre de la clase es infinitesimal\n",
    "#Hereda sus características de sp.core.symbol.Symbol\n",
    "class Infinitesimal(sp.core.symbol.Symbol):\n",
    "    kind_inf = 'Infinitesimal'\n",
    "    def __init__(self, name):\n",
    "        self.name = name"
   ]
  },
  {
   "cell_type": "code",
   "execution_count": 38,
   "id": "eb85814f",
   "metadata": {},
   "outputs": [],
   "source": [
    "K=Infinitesimal('K')"
   ]
  },
  {
   "cell_type": "code",
   "execution_count": 39,
   "id": "d0537090",
   "metadata": {},
   "outputs": [
    {
     "data": {
      "text/plain": [
       "'K'"
      ]
     },
     "execution_count": 39,
     "metadata": {},
     "output_type": "execute_result"
    }
   ],
   "source": [
    "K.name"
   ]
  },
  {
   "cell_type": "code",
   "execution_count": 40,
   "id": "b503d211",
   "metadata": {},
   "outputs": [
    {
     "data": {
      "text/plain": [
       "__main__.Infinitesimal"
      ]
     },
     "execution_count": 40,
     "metadata": {},
     "output_type": "execute_result"
    }
   ],
   "source": [
    "type(K)"
   ]
  },
  {
   "cell_type": "code",
   "execution_count": 28,
   "id": "796c38a7",
   "metadata": {},
   "outputs": [
    {
     "data": {
      "text/plain": [
       "False"
      ]
     },
     "execution_count": 28,
     "metadata": {},
     "output_type": "execute_result"
    }
   ],
   "source": [
    "print(dir(K))"
   ]
  },
  {
   "cell_type": "code",
   "execution_count": 42,
   "id": "e3c48bff",
   "metadata": {},
   "outputs": [
    {
     "data": {
      "text/plain": [
       "'Infinitesimal'"
      ]
     },
     "execution_count": 42,
     "metadata": {},
     "output_type": "execute_result"
    }
   ],
   "source": [
    "K.kind_inf"
   ]
  },
  {
   "cell_type": "code",
   "execution_count": 43,
   "id": "5f29e2be",
   "metadata": {},
   "outputs": [
    {
     "ename": "AttributeError",
     "evalue": "'Symbol' object has no attribute 'kind_inf'",
     "output_type": "error",
     "traceback": [
      "\u001b[1;31m---------------------------------------------------------------------------\u001b[0m",
      "\u001b[1;31mAttributeError\u001b[0m                            Traceback (most recent call last)",
      "\u001b[1;32mC:\\PROGRA~1\\KMSpico\\temp/ipykernel_12744/1742518205.py\u001b[0m in \u001b[0;36m<module>\u001b[1;34m\u001b[0m\n\u001b[1;32m----> 1\u001b[1;33m \u001b[0mx\u001b[0m\u001b[1;33m.\u001b[0m\u001b[0mkind_inf\u001b[0m\u001b[1;33m\u001b[0m\u001b[1;33m\u001b[0m\u001b[0m\n\u001b[0m",
      "\u001b[1;31mAttributeError\u001b[0m: 'Symbol' object has no attribute 'kind_inf'"
     ]
    }
   ],
   "source": [
    "x.kind_inf"
   ]
  },
  {
   "cell_type": "code",
   "execution_count": 46,
   "id": "b39faf2c",
   "metadata": {},
   "outputs": [
    {
     "data": {
      "text/plain": [
       "True"
      ]
     },
     "execution_count": 46,
     "metadata": {},
     "output_type": "execute_result"
    }
   ],
   "source": [
    "hasattr(K, 'kind_inf')"
   ]
  },
  {
   "cell_type": "code",
   "execution_count": 47,
   "id": "dc2fc76c",
   "metadata": {},
   "outputs": [
    {
     "data": {
      "text/plain": [
       "False"
      ]
     },
     "execution_count": 47,
     "metadata": {},
     "output_type": "execute_result"
    }
   ],
   "source": [
    "hasattr(x, 'kind_inf')"
   ]
  },
  {
   "cell_type": "code",
   "execution_count": null,
   "id": "32c9e02c",
   "metadata": {},
   "outputs": [],
   "source": []
  }
 ],
 "metadata": {
  "kernelspec": {
   "display_name": "Python 3 (ipykernel)",
   "language": "python",
   "name": "python3"
  },
  "language_info": {
   "codemirror_mode": {
    "name": "ipython",
    "version": 3
   },
   "file_extension": ".py",
   "mimetype": "text/x-python",
   "name": "python",
   "nbconvert_exporter": "python",
   "pygments_lexer": "ipython3",
   "version": "3.9.7"
  }
 },
 "nbformat": 4,
 "nbformat_minor": 5
}
