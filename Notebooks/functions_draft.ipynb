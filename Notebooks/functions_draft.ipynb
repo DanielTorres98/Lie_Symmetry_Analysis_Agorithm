{
 "cells": [
  {
   "cell_type": "code",
   "execution_count": 1,
   "metadata": {},
   "outputs": [],
   "source": [
    "from sympy import *"
   ]
  },
  {
   "cell_type": "code",
   "execution_count": 28,
   "metadata": {},
   "outputs": [],
   "source": [
    "x = symbols('x')\n",
    "y = Function('y')(x)\n",
    "xi = Function('xi')(x,y)\n",
    "eta = Function('eta')(x,y)"
   ]
  },
  {
   "cell_type": "code",
   "execution_count": 21,
   "metadata": {},
   "outputs": [
    {
     "data": {
      "text/latex": [
       "$\\displaystyle \\frac{d^{2}}{d x^{2}} \\xi{\\left(x,y{\\left(x \\right)} \\right)}$"
      ],
      "text/plain": [
       "Derivative(xi(x, y(x)), (x, 2))"
      ]
     },
     "execution_count": 21,
     "metadata": {},
     "output_type": "execute_result"
    }
   ],
   "source": [
    "Derivative(xi,x,2) ## partial derivative"
   ]
  },
  {
   "cell_type": "code",
   "execution_count": 26,
   "metadata": {},
   "outputs": [
    {
     "data": {
      "text/latex": [
       "$\\displaystyle \\left(\\frac{d^{2}}{d y{\\left(x \\right)}^{2}} \\xi{\\left(x,y{\\left(x \\right)} \\right)} \\frac{d}{d x} y{\\left(x \\right)} + \\left. \\frac{\\partial^{2}}{\\partial x\\partial \\xi} \\xi{\\left(x,\\xi \\right)} \\right|_{\\substack{ \\xi=y{\\left(x \\right)} }}\\right) \\frac{d}{d x} y{\\left(x \\right)} + \\frac{d}{d y{\\left(x \\right)}} \\xi{\\left(x,y{\\left(x \\right)} \\right)} \\frac{d^{2}}{d x^{2}} y{\\left(x \\right)} + \\frac{d}{d x} y{\\left(x \\right)} \\left. \\frac{\\partial^{2}}{\\partial y{\\left(x \\right)}\\partial \\xi_{1}} \\xi{\\left(\\xi_{1},y{\\left(x \\right)} \\right)} \\right|_{\\substack{ \\xi_{1}=x }} + \\left. \\frac{\\partial^{2}}{\\partial \\xi_{1}^{2}} \\xi{\\left(\\xi_{1},y{\\left(x \\right)} \\right)} \\right|_{\\substack{ \\xi_{1}=x }}$"
      ],
      "text/plain": [
       "(Derivative(xi(x, y(x)), (y(x), 2))*Derivative(y(x), x) + Subs(Derivative(xi(x, _xi), _xi, x), _xi, y(x)))*Derivative(y(x), x) + Derivative(xi(x, y(x)), y(x))*Derivative(y(x), (x, 2)) + Derivative(y(x), x)*Subs(Derivative(xi(_xi_1, y(x)), _xi_1, y(x)), _xi_1, x) + Subs(Derivative(xi(_xi_1, y(x)), (_xi_1, 2)), _xi_1, x)"
      ]
     },
     "execution_count": 26,
     "metadata": {},
     "output_type": "execute_result"
    }
   ],
   "source": [
    "diff(xi,x,2) ## total partial derivative"
   ]
  },
  {
   "cell_type": "code",
   "execution_count": null,
   "metadata": {},
   "outputs": [],
   "source": [
    "f = "
   ]
  },
  {
   "cell_type": "code",
   "execution_count": null,
   "metadata": {},
   "outputs": [],
   "source": [
    "class Var:\n",
    "    def __init__(self, var, derivatives):\n",
    "    self.v = var\n",
    "    self.d = derivatives"
   ]
  },
  {
   "cell_type": "markdown",
   "metadata": {},
   "source": [
    "# Fix Torres' issues so he is not mad anymore :c"
   ]
  },
  {
   "cell_type": "code",
   "execution_count": 1,
   "metadata": {},
   "outputs": [],
   "source": [
    "import sympy as sp\n",
    "import numpy as np\n",
    "import re\n",
    "import ipdb\n",
    "from utils.algebra import str_eqn_to_dict_eqn"
   ]
  },
  {
   "cell_type": "code",
   "execution_count": 2,
   "metadata": {},
   "outputs": [],
   "source": [
    "x = sp.symbols('x')\n",
    "y = sp.Function('y')(x)\n",
    "list_indep = [x]\n",
    "list_dep = [y]\n",
    "list_cte = []\n",
    "\n",
    "list_var = list_indep + list_dep\n",
    "list_all = list_cte + list_indep + list_dep"
   ]
  },
  {
   "cell_type": "code",
   "execution_count": 3,
   "metadata": {},
   "outputs": [],
   "source": [
    "def parens(s):\n",
    "    i = s.count(')') - 1\n",
    "    groups = s[s.find('('):].split(')')\n",
    "    return (')'.join(groups[:i]) + ')')"
   ]
  },
  {
   "cell_type": "code",
   "execution_count": 5,
   "metadata": {},
   "outputs": [],
   "source": [
    "def str_to_dict(f, term, arr_pow, arr_deriv, list_all, list_var):\n",
    "    if f.is_Mul:\n",
    "        for i in f.args:\n",
    "            str_to_dict(i, term, arr_pow, arr_deriv, list_all, list_var)\n",
    "    else:\n",
    "        if f.args == ():\n",
    "            if f.is_Integer:\n",
    "                term['coefficient'] = f\n",
    "            else:\n",
    "                idx = np.where(list_all == f)\n",
    "                p = 1\n",
    "                arr_pow[idx] = p\n",
    "\n",
    "        if f.is_Function:\n",
    "            idx = np.where(list_all == f)\n",
    "            p = 1\n",
    "            arr_pow[idx] = p\n",
    "            if idx[0].size == 0:\n",
    "                term['variable'] = str(f).split('(')[0]\n",
    "\n",
    "        if f.is_Pow:\n",
    "            var = f.args[0]\n",
    "            if var.is_Derivative:\n",
    "                term['variable'] = var.args[0]\n",
    "                for v in var.args[1:]:\n",
    "                    idx = np.where(list_var == v[0])\n",
    "                    arr_deriv[idx] = v[1]\n",
    "            else:\n",
    "                idx = np.where(list_all == f.args[0])\n",
    "                arr_pow[idx] = f.args[1]\n",
    "\n",
    "        if type(f) == type(sp.Subs(list_var[0],\n",
    "                                   list_var[0], list_var[0])):\n",
    "            s = str(f)\n",
    "            if s.endswith('))'):\n",
    "                if '(' in re.split(',', s)[-1]:\n",
    "                    subs = re.split(',',s)[-2].strip(' ')\n",
    "                    subs_t = re.split(',',s)[-1].strip(')').strip(' ')    # Changed\n",
    "                    subs_t = subs_t + ')'\n",
    "                else:\n",
    "                    subs = re.split(',', s)[-3].strip(' ')\n",
    "                    subs_t = re.split(',', s)[-2] + ',' + re.split(',', s)[-1]\n",
    "                    subs_t = subs_t[:-1].strip(' ')\n",
    "            else:\n",
    "                subs = re.split(',',s)[-2].strip(' ')\n",
    "                subs_t = re.split(',',s)[-1].strip(')').strip(' ')\n",
    "            if ')' in subs:\n",
    "                subs = subs.strip(')')\n",
    "            s = s.replace(subs, subs_t)\n",
    "            f = sp.sympify(parens(s).strip('('))\n",
    "            if isinstance(f, tuple):\n",
    "                f = f[0]\n",
    "\n",
    "        if f.is_Derivative:\n",
    "            term['variable'] = str(f.args[0]).split(\"(\")[0]\n",
    "            for v in f.args[1:]:\n",
    "                idx = np.where(list_var == v[0])\n",
    "                arr_deriv[idx] = v[1]\n",
    "\n",
    "    term['constants'] = list(arr_pow.astype(int))\n",
    "    term['derivatives'] = list(arr_deriv.astype(int))\n",
    "    return term\n"
   ]
  },
  {
   "cell_type": "code",
   "execution_count": 6,
   "metadata": {},
   "outputs": [],
   "source": [
    "dict_det_eqn = {'Derivative(y(x),x)*Derivative(y(x),(x,2))': ['-xix(x,y(x))*y(x)',\n",
    "  '+3*y(x)^2*Derivative(xix(x,y(x)),y(x))'],\n",
    " 'Derivative(y(x),(x,4))': ['-xix(x,y(x))*y(x)'],\n",
    " 'Derivative(y(x),x)*Derivative(y(x),(x,3))': ['-2*xix(x,y(x))'],\n",
    " 'Derivative(y(x),(x,2))^2': ['-xix(x,y(x))'],\n",
    " 'Derivative(y(x),x)^2': ['+y(x)*Derivative(etay(x,y(x)),(y(x),2))',\n",
    "  '-y(x)*Subs(Derivative(xix(_xi_1,y(x)),_xi_1,y(x)),_xi_1,x)',\n",
    "  '-y(x)*Subs(Derivative(xix(x,_xi),_xi,x),_xi,y(x))'],\n",
    " 'Derivative(y(x),x)^3': ['-y(x)*Derivative(xix(x,y(x)),(y(x),2))'],\n",
    " 'Derivative(y(x),x)': ['-y(x)*Subs(Derivative(xix(_xi_1,y(x)),(_xi_1,2)),_xi_1,x)',\n",
    "  '+y(x)*Subs(Derivative(etay(_xi_1,y(x)),_xi_1,y(x)),_xi_1,x)',\n",
    "  '+y(x)*Subs(Derivative(etay(x,_xi),_xi,x),_xi,y(x))'],\n",
    " 'Derivative(y(x),(x,2))': ['-etay(x,y(x))*y(x)',\n",
    "  '-y(x)^2*Derivative(etay(x,y(x)),y(x))',\n",
    "  '+2*y(x)^2*Subs(Derivative(xix(_xi_1,y(x)),_xi_1),_xi_1,x)'],\n",
    " 'lonely_terms': ['+y(x)*Subs(Derivative(etay(_xi_1,y(x)),(_xi_1,2)),_xi_1,x)']}"
   ]
  },
  {
   "cell_type": "code",
   "execution_count": 7,
   "metadata": {
    "scrolled": true
   },
   "outputs": [
    {
     "name": "stdout",
     "output_type": "stream",
     "text": [
      "Subs(Derivative(xix(_xi_1, y(x)), _xi_1, y(x)), _xi_1, x)\n",
      "Subs(Derivative(xix(x, _xi), _xi, x), _xi, y(x))\n",
      "Subs(Derivative(xix(_xi_1, y(x)), (_xi_1, 2)), _xi_1, x)\n",
      "Subs(Derivative(etay(_xi_1, y(x)), _xi_1, y(x)), _xi_1, x)\n",
      "Subs(Derivative(etay(x, _xi), _xi, x), _xi, y(x))\n",
      "Subs(Derivative(xix(_xi_1, y(x)), _xi_1), _xi_1, x)\n",
      "Subs(Derivative(etay(_xi_1, y(x)), (_xi_1, 2)), _xi_1, x)\n"
     ]
    }
   ],
   "source": [
    "det_eqn = []\n",
    "for eqn in dict_det_eqn.values():\n",
    "    aux_list = []\n",
    "    for str_term in eqn:\n",
    "        arr_pow = np.zeros(len(list_all))\n",
    "        arr_deriv = np.zeros(len(list_var))\n",
    "        term = {\"coefficient\": 1, \"constants\": None,\n",
    "                \"derivatives\": None, \"variable\": None}\n",
    "        aux_list.append(str_to_dict(sp.sympify(str_term), term, arr_pow,\n",
    "              arr_deriv, np.array(list_all), np.array(list_var)))\n",
    "    det_eqn.append(aux_list)\n",
    "keys = list(np.arange(len(det_eqn)))\n",
    "ret = dict(zip(keys, det_eqn))"
   ]
  },
  {
   "cell_type": "code",
   "execution_count": 8,
   "metadata": {},
   "outputs": [
    {
     "data": {
      "text/plain": [
       "{0: [{'coefficient': -1,\n",
       "   'constants': [0, 1],\n",
       "   'derivatives': [0, 0],\n",
       "   'variable': 'xix'},\n",
       "  {'coefficient': 3,\n",
       "   'constants': [0, 2],\n",
       "   'derivatives': [0, 1],\n",
       "   'variable': 'xix'}],\n",
       " 1: [{'coefficient': -1,\n",
       "   'constants': [0, 1],\n",
       "   'derivatives': [0, 0],\n",
       "   'variable': 'xix'}],\n",
       " 2: [{'coefficient': -2,\n",
       "   'constants': [0, 0],\n",
       "   'derivatives': [0, 0],\n",
       "   'variable': 'xix'}],\n",
       " 3: [{'coefficient': -1,\n",
       "   'constants': [0, 0],\n",
       "   'derivatives': [0, 0],\n",
       "   'variable': 'xix'}],\n",
       " 4: [{'coefficient': 1,\n",
       "   'constants': [0, 1],\n",
       "   'derivatives': [0, 2],\n",
       "   'variable': 'etay'},\n",
       "  {'coefficient': -1,\n",
       "   'constants': [0, 1],\n",
       "   'derivatives': [1, 1],\n",
       "   'variable': 'xix'},\n",
       "  {'coefficient': -1,\n",
       "   'constants': [0, 1],\n",
       "   'derivatives': [1, 1],\n",
       "   'variable': 'xix'}],\n",
       " 5: [{'coefficient': -1,\n",
       "   'constants': [0, 1],\n",
       "   'derivatives': [0, 2],\n",
       "   'variable': 'xix'}],\n",
       " 6: [{'coefficient': -1,\n",
       "   'constants': [0, 1],\n",
       "   'derivatives': [2, 0],\n",
       "   'variable': 'xix'},\n",
       "  {'coefficient': 1,\n",
       "   'constants': [0, 1],\n",
       "   'derivatives': [1, 1],\n",
       "   'variable': 'etay'},\n",
       "  {'coefficient': 1,\n",
       "   'constants': [0, 1],\n",
       "   'derivatives': [1, 1],\n",
       "   'variable': 'etay'}],\n",
       " 7: [{'coefficient': -1,\n",
       "   'constants': [0, 1],\n",
       "   'derivatives': [0, 0],\n",
       "   'variable': 'etay'},\n",
       "  {'coefficient': -1,\n",
       "   'constants': [0, 2],\n",
       "   'derivatives': [0, 1],\n",
       "   'variable': 'etay'},\n",
       "  {'coefficient': 2,\n",
       "   'constants': [0, 2],\n",
       "   'derivatives': [1, 0],\n",
       "   'variable': 'xix'}],\n",
       " 8: [{'coefficient': 1,\n",
       "   'constants': [0, 1],\n",
       "   'derivatives': [2, 0],\n",
       "   'variable': 'etay'}]}"
      ]
     },
     "execution_count": 8,
     "metadata": {},
     "output_type": "execute_result"
    }
   ],
   "source": [
    "ret"
   ]
  }
 ],
 "metadata": {
  "kernelspec": {
   "display_name": "Python 3",
   "language": "python",
   "name": "python3"
  },
  "language_info": {
   "codemirror_mode": {
    "name": "ipython",
    "version": 3
   },
   "file_extension": ".py",
   "mimetype": "text/x-python",
   "name": "python",
   "nbconvert_exporter": "python",
   "pygments_lexer": "ipython3",
   "version": "3.8.5"
  }
 },
 "nbformat": 4,
 "nbformat_minor": 5
}
