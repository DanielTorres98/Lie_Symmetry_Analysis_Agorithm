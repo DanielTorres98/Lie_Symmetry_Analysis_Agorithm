{
 "cells": [
  {
   "cell_type": "code",
   "execution_count": 1,
   "metadata": {},
   "outputs": [
    {
     "ename": "ModuleNotFoundError",
     "evalue": "No module named 'utils'",
     "output_type": "error",
     "traceback": [
      "\u001b[0;31m---------------------------------------------------------------------------\u001b[0m",
      "\u001b[0;31mModuleNotFoundError\u001b[0m                       Traceback (most recent call last)",
      "Cell \u001b[0;32mIn [1], line 4\u001b[0m\n\u001b[1;32m      2\u001b[0m \u001b[38;5;28;01mimport\u001b[39;00m \u001b[38;5;21;01mtime\u001b[39;00m\n\u001b[1;32m      3\u001b[0m \u001b[38;5;28;01mfrom\u001b[39;00m \u001b[38;5;21;01msympy\u001b[39;00m \u001b[38;5;28;01mimport\u001b[39;00m Derivative \u001b[38;5;28;01mas\u001b[39;00m D\n\u001b[0;32m----> 4\u001b[0m \u001b[38;5;28;01mfrom\u001b[39;00m \u001b[38;5;21;01mutils\u001b[39;00m\u001b[38;5;21;01m.\u001b[39;00m\u001b[38;5;21;01msymbolic\u001b[39;00m \u001b[38;5;28;01mimport\u001b[39;00m (infinitesimals_generator, higher_infinitesimals_generator,\n\u001b[1;32m      5\u001b[0m                             group_operator, der_relabel, deriv_infts, subs_new_vars, Diff,\n\u001b[1;32m      6\u001b[0m                            sym_det_eqn)\n\u001b[1;32m      7\u001b[0m \u001b[38;5;28;01mfrom\u001b[39;00m \u001b[38;5;21;01mutils\u001b[39;00m\u001b[38;5;21;01m.\u001b[39;00m\u001b[38;5;21;01malgebra\u001b[39;00m \u001b[38;5;28;01mimport\u001b[39;00m (str_to_dict, get_common_factors, get_det_eqns, str_eqn_to_dict_eqn, \n\u001b[1;32m      8\u001b[0m                             simplify_redundant_eqn)\n",
      "\u001b[0;31mModuleNotFoundError\u001b[0m: No module named 'utils'"
     ]
    }
   ],
   "source": [
    "import sympy as sp\n",
    "import time\n",
    "from sympy import Derivative as D\n",
    "from symmetries.utils.symbolic import (infinitesimals_generator, higher_infinitesimals_generator,\n",
    "                            group_operator, der_relabel, deriv_infts, subs_new_vars, Diff,\n",
    "                           sym_det_eqn)\n",
    "from symmetries.utils.algebra import (str_to_dict, get_common_factors, get_det_eqns, str_eqn_to_dict_eqn, \n",
    "                            simplify_redundant_eqn)"
   ]
  },
  {
   "cell_type": "markdown",
   "metadata": {},
   "source": [
    "# Blasius Eqn"
   ]
  },
  {
   "cell_type": "markdown",
   "metadata": {},
   "source": [
    "# HNLS Eqn"
   ]
  },
  {
   "cell_type": "code",
   "execution_count": 2,
   "metadata": {},
   "outputs": [
    {
     "data": {
      "text/latex": [
       "$\\displaystyle \\gamma_{1} u^{2}{\\left(z,t \\right)} \\frac{\\partial}{\\partial z} u{\\left(z,t \\right)} + \\gamma_{1} v^{2}{\\left(z,t \\right)} \\frac{\\partial}{\\partial z} u{\\left(z,t \\right)} + 2 \\gamma_{2} u^{2}{\\left(z,t \\right)} \\frac{\\partial}{\\partial z} u{\\left(z,t \\right)} + 2 \\gamma_{2} u{\\left(z,t \\right)} v{\\left(z,t \\right)} \\frac{\\partial}{\\partial z} v{\\left(z,t \\right)} + \\lambda_{0} u^{2}{\\left(z,t \\right)} v{\\left(z,t \\right)} + \\lambda_{0} v^{3}{\\left(z,t \\right)} + \\sigma \\frac{\\partial^{3}}{\\partial z^{3}} u{\\left(z,t \\right)} + \\frac{\\partial}{\\partial t} u{\\left(z,t \\right)} + \\frac{\\partial^{2}}{\\partial z^{2}} v{\\left(z,t \\right)}$"
      ],
      "text/plain": [
       "gamma_1*u(z, t)**2*Derivative(u(z, t), z) + gamma_1*v(z, t)**2*Derivative(u(z, t), z) + 2*gamma_2*u(z, t)**2*Derivative(u(z, t), z) + 2*gamma_2*u(z, t)*v(z, t)*Derivative(v(z, t), z) + lambda_0*u(z, t)**2*v(z, t) + lambda_0*v(z, t)**3 + sigma*Derivative(u(z, t), (z, 3)) + Derivative(u(z, t), t) + Derivative(v(z, t), (z, 2))"
      ]
     },
     "execution_count": 2,
     "metadata": {},
     "output_type": "execute_result"
    }
   ],
   "source": [
    "z, t, g1, g2, l, s = sp.symbols('z t gamma_1 gamma_2 lambda_0 sigma')\n",
    "u = sp.Function('u')(z, t)\n",
    "v = sp.Function('v')(z, t)\n",
    "list_indep = [z, t]\n",
    "list_dep = [u, v]\n",
    "list_cte = [g1, g2, l, s]\n",
    "F =  D(u,t) + D(v,z,z) + l*(v*u**2+v**3)+s*D(u,z,z,z)+\\\n",
    "    g1*D(u,z)*(u**2+v**2)+2*g2*u*(u*D(u,z)+v*D(v,z))\n",
    "F_rules_array = {D(u,z,z,z): (-1/s)*(D(u,t) + D(v,z,z) + l*(v*u**2+v**3)+\n",
    "    g1*D(u,z)*(u**2+v**2)+2*g2*u*(u*D(u,z)+v*D(v,z)))}\n",
    "order = 3\n",
    "F.expand()"
   ]
  },
  {
   "cell_type": "markdown",
   "metadata": {},
   "source": [
    "# Blasius Eqn"
   ]
  },
  {
   "cell_type": "code",
   "execution_count": 2,
   "metadata": {},
   "outputs": [
    {
     "data": {
      "text/latex": [
       "$\\displaystyle y{\\left(x \\right)} \\frac{d^{2}}{d x^{2}} y{\\left(x \\right)} + \\frac{d^{3}}{d x^{3}} y{\\left(x \\right)}$"
      ],
      "text/plain": [
       "y(x)*Derivative(y(x), (x, 2)) + Derivative(y(x), (x, 3))"
      ]
     },
     "execution_count": 2,
     "metadata": {},
     "output_type": "execute_result"
    }
   ],
   "source": [
    "x = sp.symbols('x')\n",
    "y = sp.Function('y')(x)\n",
    "list_indep = [x]\n",
    "list_dep = [y]\n",
    "list_cte = []\n",
    "F =  D(y,x,x,x) + y*D(y,x,x)\n",
    "F_rules_array = {D(y,x,x,x):-y*D(y,x,x)}\n",
    "order = 3\n",
    "F.expand()"
   ]
  },
  {
   "cell_type": "code",
   "execution_count": 3,
   "metadata": {},
   "outputs": [
    {
     "data": {
      "text/latex": [
       "$\\displaystyle x v{\\left(x,t \\right)} + \\frac{\\partial}{\\partial t} u{\\left(x,t \\right)} - \\frac{\\partial^{2}}{\\partial x^{2}} u{\\left(x,t \\right)} + \\frac{\\partial}{\\partial t} v{\\left(x,t \\right)}$"
      ],
      "text/plain": [
       "x*v(x, t) + Derivative(u(x, t), t) - Derivative(u(x, t), (x, 2)) + Derivative(v(x, t), t)"
      ]
     },
     "execution_count": 3,
     "metadata": {},
     "output_type": "execute_result"
    }
   ],
   "source": [
    "x, t, k = sp.symbols('x t kappa')\n",
    "u = sp.Function('u')(x, t)\n",
    "v = sp.Function('v')(x, t)\n",
    "list_indep = [x, t]\n",
    "list_dep = [u, v]\n",
    "list_var = list_indep + list_dep\n",
    "list_cte = [k]\n",
    "list_all = list_cte + list_indep + list_dep\n",
    "F =  D(u,t) - D(u,x,x) +D(v,t) + x*v\n",
    "F_rules_array = {D(u,x,x):D(u,t)+D(v,t)+x*v}\n",
    "order = 2\n",
    "F.expand()"
   ]
  },
  {
   "cell_type": "code",
   "execution_count": 2,
   "metadata": {},
   "outputs": [
    {
     "data": {
      "text/latex": [
       "$\\displaystyle \\frac{\\partial}{\\partial t} u{\\left(x,t \\right)} - \\frac{\\partial^{2}}{\\partial x^{2}} u{\\left(x,t \\right)}$"
      ],
      "text/plain": [
       "Derivative(u(x, t), t) - Derivative(u(x, t), (x, 2))"
      ]
     },
     "execution_count": 2,
     "metadata": {},
     "output_type": "execute_result"
    }
   ],
   "source": [
    "x, t = sp.symbols('x t')\n",
    "u = sp.Function('u')(x, t)\n",
    "list_indep = [x, t]\n",
    "list_dep = [u]\n",
    "list_var = list_indep + list_dep\n",
    "list_cte = []\n",
    "list_all = list_cte + list_indep + list_dep\n",
    "F =  D(u,t) - D(u,x,x)\n",
    "F_rules_array = {D(u,x,x):D(u,t)}\n",
    "order = 2\n",
    "F.expand()"
   ]
  },
  {
   "cell_type": "code",
   "execution_count": 2,
   "metadata": {},
   "outputs": [
    {
     "data": {
      "text/latex": [
       "$\\displaystyle - k \\frac{\\partial^{2}}{\\partial x^{2}} u{\\left(x,t \\right)} + \\frac{\\partial}{\\partial t} u{\\left(x,t \\right)}$"
      ],
      "text/plain": [
       "-k*Derivative(u(x, t), (x, 2)) + Derivative(u(x, t), t)"
      ]
     },
     "execution_count": 2,
     "metadata": {},
     "output_type": "execute_result"
    }
   ],
   "source": [
    "x, t, k = sp.symbols('x t k')\n",
    "u = sp.Function('u')(x, t)\n",
    "list_indep = [x, t]\n",
    "list_dep = [u]\n",
    "list_var = list_indep + list_dep\n",
    "list_cte = [k]\n",
    "list_all = list_cte + list_indep + list_dep\n",
    "F =  D(u,t) - k*D(u,x,x)\n",
    "F_rules_array = {D(u,x,x):1/k*D(u,t)}\n",
    "order = 2\n",
    "F.expand()"
   ]
  },
  {
   "cell_type": "code",
   "execution_count": 2,
   "metadata": {},
   "outputs": [
    {
     "data": {
      "text/latex": [
       "$\\displaystyle - k \\frac{\\partial^{2}}{\\partial x^{2}} u{\\left(x,t \\right)} + \\frac{\\partial^{2}}{\\partial t^{2}} u{\\left(x,t \\right)}$"
      ],
      "text/plain": [
       "-k*Derivative(u(x, t), (x, 2)) + Derivative(u(x, t), (t, 2))"
      ]
     },
     "execution_count": 2,
     "metadata": {},
     "output_type": "execute_result"
    }
   ],
   "source": [
    "x, t, k = sp.symbols('x t k')\n",
    "u = sp.Function('u')(x, t)\n",
    "list_indep = [x, t]\n",
    "list_dep = [u]\n",
    "list_cte = [k]\n",
    "F =  D(u,t,t) - k*D(u,x,x)\n",
    "F_rules_array = {D(u,x,x):1/k*D(u,t,t)}\n",
    "order = 2\n",
    "F.expand()"
   ]
  },
  {
   "cell_type": "code",
   "execution_count": null,
   "metadata": {},
   "outputs": [
    {
     "data": {
      "text/latex": [
       "$\\displaystyle - k \\frac{\\partial^{2}}{\\partial x^{2}} u{\\left(x,t \\right)} + \\frac{\\partial}{\\partial t} u{\\left(x,t \\right)}$"
      ],
      "text/plain": [
       "-k*Derivative(u(x, t), (x, 2)) + Derivative(u(x, t), t)"
      ]
     },
     "execution_count": 2,
     "metadata": {},
     "output_type": "execute_result"
    }
   ],
   "source": [
    "x, t, k = sp.symbols('x t k')\n",
    "u = sp.Function('u')(x, t)\n",
    "list_indep = [x, t]\n",
    "list_dep = [u]\n",
    "list_cte = [k]\n",
    "F =  -D(u,x,x) +x**2*u-sp.sqrt(-1)*k*D(u,t)\n",
    "F_rules_array = {D(u,x,x):x**2-sp.sqrt(-1)*k*D(u,t)}\n",
    "order = 2\n",
    "F.expand()\n",
    "point_symmetries(F, order, F_rules_array, list_indep, list_dep, list_cte)"
   ]
  },
  {
   "cell_type": "markdown",
   "metadata": {},
   "source": [
    "# Algorithm"
   ]
  },
  {
   "cell_type": "code",
   "execution_count": 3,
   "metadata": {},
   "outputs": [
    {
     "name": "stdout",
     "output_type": "stream",
     "text": [
      "0.001994609832763672\n"
     ]
    }
   ],
   "source": [
    "list_var = list_indep + list_dep\n",
    "list_all = list_cte + list_indep + list_dep"
   ]
  },
  {
   "cell_type": "code",
   "execution_count": 4,
   "metadata": {},
   "outputs": [
    {
     "name": "stdout",
     "output_type": "stream",
     "text": [
      "0.0\n"
     ]
    }
   ],
   "source": [
    "t = time.time()\n",
    "infts = infinitesimals_generator(list_indep, list_dep)\n",
    "n_indep = len(list_indep)\n",
    "n_dep = len(list_dep)\n",
    "infts_ind = infts[0:n_indep]\n",
    "infts_dep = infts[n_indep:(n_dep + n_indep )]\n",
    "elapsed = time.time() - t\n",
    "print(elapsed)"
   ]
  },
  {
   "cell_type": "code",
   "execution_count": 5,
   "metadata": {},
   "outputs": [
    {
     "name": "stdout",
     "output_type": "stream",
     "text": [
      "0.2859985828399658\n"
     ]
    }
   ],
   "source": [
    "t = time.time()\n",
    "inft_derivatives, dep_vars_derivatives = higher_infinitesimals_generator(infts_ind, infts_dep,\n",
    "                                                                            order, list_indep, list_dep)\n",
    "infts_dummy = [item for sublist in inft_derivatives for item in sublist]\n",
    "dep_vars_derivatives = [item for sublist in dep_vars_derivatives for item in sublist]\n",
    "infts = infts + infts_dummy\n",
    "elapsed = time.time() - t\n",
    "print(elapsed)"
   ]
  },
  {
   "cell_type": "code",
   "execution_count": 6,
   "metadata": {},
   "outputs": [
    {
     "name": "stdout",
     "output_type": "stream",
     "text": [
      "0.0009987354278564453\n"
     ]
    }
   ],
   "source": [
    "t = time.time()\n",
    "F, deriv_names = der_relabel(dep_vars_derivatives, F)\n",
    "\n",
    "vars_and_derivatives = list_indep + list_dep + deriv_names\n",
    "elapsed = time.time() - t\n",
    "print(elapsed)"
   ]
  },
  {
   "cell_type": "code",
   "execution_count": 7,
   "metadata": {},
   "outputs": [
    {
     "name": "stdout",
     "output_type": "stream",
     "text": [
      "0.8499245643615723\n"
     ]
    }
   ],
   "source": [
    "t = time.time()\n",
    "XF = group_operator(F, vars_and_derivatives, infts) # Es la que mas se tarda\n",
    "elapsed = time.time() - t\n",
    "print(elapsed)"
   ]
  },
  {
   "cell_type": "code",
   "execution_count": 9,
   "metadata": {},
   "outputs": [
    {
     "data": {
      "text/plain": [
       "'y_xx*eta^y(x, y(x)) + y_xx*xi^x(x, y(x))*Derivative(y(x), x) + 2*(Derivative(eta^y(x, y(x)), (y(x), 2))*Derivative(y(x), x) + Subs(Derivative(eta^y(x, _xi), _xi, x), _xi, y(x)))*Derivative(y(x), (x, 2)) - 3*(Derivative(xi^x(x, y(x)), y(x))*Derivative(y(x), x) + Subs(Derivative(xi^x(_xi_1, y(x)), _xi_1), _xi_1, x))*Derivative(y(x), (x, 3)) + (Derivative(y(x), x)*Subs(Derivative(eta^y(_xi_1, y(x)), _xi_1, (y(x), 2)), _xi_1, x) + Subs(Derivative(eta^y(_xi_1, y(x)), (_xi_1, 2), y(x)), _xi_1, x))*Derivative(y(x), x) + ((Derivative(eta^y(x, y(x)), (y(x), 3))*Derivative(y(x), x) + Subs(Derivative(eta^y(x, _xi), (_xi, 2), x), _xi, y(x)))*Derivative(y(x), x) + Derivative(eta^y(x, y(x)), (y(x), 2))*Derivative(y(x), (x, 2)) + Derivative(y(x), x)*Subs(Derivative(eta^y(x, _xi), (_xi, 2), x), _xi, y(x)) + Subs(Derivative(eta^y(x, _xi), _xi, (x, 2)), _xi, y(x)))*Derivative(y(x), x) - 3*((Derivative(xi^x(x, y(x)), (y(x), 2))*Derivative(y(x), x) + Subs(Derivative(xi^x(x, _xi), _xi, x), _xi, y(x)))*Derivative(y(x), x) + Derivative(xi^x(x, y(x)), y(x))*Derivative(y(x), (x, 2)) + Derivative(y(x), x)*Subs(Derivative(xi^x(_xi_1, y(x)), _xi_1, y(x)), _xi_1, x) + Subs(Derivative(xi^x(_xi_1, y(x)), (_xi_1, 2)), _xi_1, x))*Derivative(y(x), (x, 2)) + ((Derivative(eta^y(x, y(x)), (y(x), 2))*Derivative(y(x), x) + Subs(Derivative(eta^y(x, _xi), _xi, x), _xi, y(x)))*Derivative(y(x), x) - 2*(Derivative(xi^x(x, y(x)), y(x))*Derivative(y(x), x) + Subs(Derivative(xi^x(_xi_1, y(x)), _xi_1), _xi_1, x))*Derivative(y(x), (x, 2)) - ((Derivative(xi^x(x, y(x)), (y(x), 2))*Derivative(y(x), x) + Subs(Derivative(xi^x(x, _xi), _xi, x), _xi, y(x)))*Derivative(y(x), x) + Derivative(xi^x(x, y(x)), y(x))*Derivative(y(x), (x, 2)) + Derivative(y(x), x)*Subs(Derivative(xi^x(_xi_1, y(x)), _xi_1, y(x)), _xi_1, x) + Subs(Derivative(xi^x(_xi_1, y(x)), (_xi_1, 2)), _xi_1, x))*Derivative(y(x), x) + Derivative(eta^y(x, y(x)), y(x))*Derivative(y(x), (x, 2)) + Derivative(y(x), x)*Subs(Derivative(eta^y(_xi_1, y(x)), _xi_1, y(x)), _xi_1, x) + Subs(Derivative(eta^y(_xi_1, y(x)), (_xi_1, 2)), _xi_1, x))*y(x) - (2*(Derivative(xi^x(x, y(x)), (y(x), 2))*Derivative(y(x), x) + Subs(Derivative(xi^x(x, _xi), _xi, x), _xi, y(x)))*Derivative(y(x), (x, 2)) + (Derivative(y(x), x)*Subs(Derivative(xi^x(_xi_1, y(x)), _xi_1, (y(x), 2)), _xi_1, x) + Subs(Derivative(xi^x(_xi_1, y(x)), (_xi_1, 2), y(x)), _xi_1, x))*Derivative(y(x), x) + ((Derivative(xi^x(x, y(x)), (y(x), 3))*Derivative(y(x), x) + Subs(Derivative(xi^x(x, _xi), (_xi, 2), x), _xi, y(x)))*Derivative(y(x), x) + Derivative(xi^x(x, y(x)), (y(x), 2))*Derivative(y(x), (x, 2)) + Derivative(y(x), x)*Subs(Derivative(xi^x(x, _xi), (_xi, 2), x), _xi, y(x)) + Subs(Derivative(xi^x(x, _xi), _xi, (x, 2)), _xi, y(x)))*Derivative(y(x), x) + Derivative(xi^x(x, y(x)), y(x))*Derivative(y(x), (x, 3)) + Derivative(y(x), x)*Subs(Derivative(xi^x(_xi_1, y(x)), (_xi_1, 2), y(x)), _xi_1, x) + Derivative(y(x), (x, 2))*Subs(Derivative(xi^x(_xi_1, y(x)), _xi_1, y(x)), _xi_1, x) + Subs(Derivative(xi^x(_xi_1, y(x)), (_xi_1, 3)), _xi_1, x))*Derivative(y(x), x) + Derivative(eta^y(x, y(x)), y(x))*Derivative(y(x), (x, 3)) + Derivative(y(x), x)*Subs(Derivative(eta^y(_xi_1, y(x)), (_xi_1, 2), y(x)), _xi_1, x) + Derivative(y(x), (x, 2))*Subs(Derivative(eta^y(_xi_1, y(x)), _xi_1, y(x)), _xi_1, x) + Subs(Derivative(eta^y(_xi_1, y(x)), (_xi_1, 3)), _xi_1, x)'"
      ]
     },
     "execution_count": 9,
     "metadata": {},
     "output_type": "execute_result"
    }
   ],
   "source": [
    "str(XF)"
   ]
  },
  {
   "cell_type": "code",
   "execution_count": 10,
   "metadata": {},
   "outputs": [
    {
     "name": "stdout",
     "output_type": "stream",
     "text": [
      "0.003000497817993164\n"
     ]
    }
   ],
   "source": [
    "t = time.time()\n",
    "XF = subs_new_vars(dep_vars_derivatives, deriv_names, XF)\n",
    "elapsed = time.time() - t\n",
    "print(elapsed)"
   ]
  },
  {
   "cell_type": "code",
   "execution_count": 11,
   "metadata": {},
   "outputs": [
    {
     "name": "stdout",
     "output_type": "stream",
     "text": [
      "0.5269978046417236\n"
     ]
    }
   ],
   "source": [
    "t = time.time()\n",
    "XF = sp.simplify(XF.subs(F_rules_array))\n",
    "elapsed = time.time() - t\n",
    "print(elapsed)"
   ]
  },
  {
   "cell_type": "code",
   "execution_count": 17,
   "metadata": {},
   "outputs": [
    {
     "data": {
      "text/latex": [
       "$\\displaystyle \\eta^{y}{\\left(x,y{\\left(x \\right)} \\right)} \\frac{d^{2}}{d x^{2}} y{\\left(x \\right)} + \\xi^{x}{\\left(x,y{\\left(x \\right)} \\right)} \\frac{d}{d x} y{\\left(x \\right)} \\frac{d^{2}}{d x^{2}} y{\\left(x \\right)} + y{\\left(x \\right)} \\frac{d^{2}}{d y{\\left(x \\right)}^{2}} \\eta^{y}{\\left(x,y{\\left(x \\right)} \\right)} \\left(\\frac{d}{d x} y{\\left(x \\right)}\\right)^{2} + y{\\left(x \\right)} \\frac{d}{d y{\\left(x \\right)}} \\xi^{x}{\\left(x,y{\\left(x \\right)} \\right)} \\frac{d}{d x} y{\\left(x \\right)} \\frac{d^{2}}{d x^{2}} y{\\left(x \\right)} - y{\\left(x \\right)} \\frac{d^{2}}{d y{\\left(x \\right)}^{2}} \\xi^{x}{\\left(x,y{\\left(x \\right)} \\right)} \\left(\\frac{d}{d x} y{\\left(x \\right)}\\right)^{3} - y{\\left(x \\right)} \\left(\\frac{d}{d x} y{\\left(x \\right)}\\right)^{2} \\left. \\frac{\\partial^{2}}{\\partial y{\\left(x \\right)}\\partial \\xi_{1}} \\xi^{x}{\\left(\\xi_{1},y{\\left(x \\right)} \\right)} \\right|_{\\substack{ \\xi_{1}=x }} - y{\\left(x \\right)} \\left(\\frac{d}{d x} y{\\left(x \\right)}\\right)^{2} \\left. \\frac{\\partial^{2}}{\\partial x\\partial \\xi} \\xi^{x}{\\left(x,\\xi \\right)} \\right|_{\\substack{ \\xi=y{\\left(x \\right)} }} - y{\\left(x \\right)} \\frac{d}{d x} y{\\left(x \\right)} \\left. \\frac{\\partial^{2}}{\\partial \\xi_{1}^{2}} \\xi^{x}{\\left(\\xi_{1},y{\\left(x \\right)} \\right)} \\right|_{\\substack{ \\xi_{1}=x }} + y{\\left(x \\right)} \\frac{d}{d x} y{\\left(x \\right)} \\left. \\frac{\\partial^{2}}{\\partial y{\\left(x \\right)}\\partial \\xi_{1}} \\eta^{y}{\\left(\\xi_{1},y{\\left(x \\right)} \\right)} \\right|_{\\substack{ \\xi_{1}=x }} + y{\\left(x \\right)} \\frac{d}{d x} y{\\left(x \\right)} \\left. \\frac{\\partial^{2}}{\\partial x\\partial \\xi} \\eta^{y}{\\left(x,\\xi \\right)} \\right|_{\\substack{ \\xi=y{\\left(x \\right)} }} + y{\\left(x \\right)} \\frac{d^{2}}{d x^{2}} y{\\left(x \\right)} \\left. \\frac{\\partial}{\\partial \\xi_{1}} \\xi^{x}{\\left(\\xi_{1},y{\\left(x \\right)} \\right)} \\right|_{\\substack{ \\xi_{1}=x }} + y{\\left(x \\right)} \\left. \\frac{\\partial^{2}}{\\partial \\xi_{1}^{2}} \\eta^{y}{\\left(\\xi_{1},y{\\left(x \\right)} \\right)} \\right|_{\\substack{ \\xi_{1}=x }} + 3 \\frac{d^{2}}{d y{\\left(x \\right)}^{2}} \\eta^{y}{\\left(x,y{\\left(x \\right)} \\right)} \\frac{d}{d x} y{\\left(x \\right)} \\frac{d^{2}}{d x^{2}} y{\\left(x \\right)} + \\frac{d^{3}}{d y{\\left(x \\right)}^{3}} \\eta^{y}{\\left(x,y{\\left(x \\right)} \\right)} \\left(\\frac{d}{d x} y{\\left(x \\right)}\\right)^{3} - 3 \\frac{d}{d y{\\left(x \\right)}} \\xi^{x}{\\left(x,y{\\left(x \\right)} \\right)} \\left(\\frac{d^{2}}{d x^{2}} y{\\left(x \\right)}\\right)^{2} - 6 \\frac{d^{2}}{d y{\\left(x \\right)}^{2}} \\xi^{x}{\\left(x,y{\\left(x \\right)} \\right)} \\left(\\frac{d}{d x} y{\\left(x \\right)}\\right)^{2} \\frac{d^{2}}{d x^{2}} y{\\left(x \\right)} - \\frac{d^{3}}{d y{\\left(x \\right)}^{3}} \\xi^{x}{\\left(x,y{\\left(x \\right)} \\right)} \\left(\\frac{d}{d x} y{\\left(x \\right)}\\right)^{4} - \\left(\\frac{d}{d x} y{\\left(x \\right)}\\right)^{3} \\left. \\frac{\\partial^{3}}{\\partial y{\\left(x \\right)}^{2}\\partial \\xi_{1}} \\xi^{x}{\\left(\\xi_{1},y{\\left(x \\right)} \\right)} \\right|_{\\substack{ \\xi_{1}=x }} - 2 \\left(\\frac{d}{d x} y{\\left(x \\right)}\\right)^{3} \\left. \\frac{\\partial^{3}}{\\partial x\\partial \\xi^{2}} \\xi^{x}{\\left(x,\\xi \\right)} \\right|_{\\substack{ \\xi=y{\\left(x \\right)} }} + \\left(\\frac{d}{d x} y{\\left(x \\right)}\\right)^{2} \\left. \\frac{\\partial^{3}}{\\partial y{\\left(x \\right)}^{2}\\partial \\xi_{1}} \\eta^{y}{\\left(\\xi_{1},y{\\left(x \\right)} \\right)} \\right|_{\\substack{ \\xi_{1}=x }} + 2 \\left(\\frac{d}{d x} y{\\left(x \\right)}\\right)^{2} \\left. \\frac{\\partial^{3}}{\\partial x\\partial \\xi^{2}} \\eta^{y}{\\left(x,\\xi \\right)} \\right|_{\\substack{ \\xi=y{\\left(x \\right)} }} - 2 \\left(\\frac{d}{d x} y{\\left(x \\right)}\\right)^{2} \\left. \\frac{\\partial^{3}}{\\partial y{\\left(x \\right)}\\partial \\xi_{1}^{2}} \\xi^{x}{\\left(\\xi_{1},y{\\left(x \\right)} \\right)} \\right|_{\\substack{ \\xi_{1}=x }} - \\left(\\frac{d}{d x} y{\\left(x \\right)}\\right)^{2} \\left. \\frac{\\partial^{3}}{\\partial x^{2}\\partial \\xi} \\xi^{x}{\\left(x,\\xi \\right)} \\right|_{\\substack{ \\xi=y{\\left(x \\right)} }} - 4 \\frac{d}{d x} y{\\left(x \\right)} \\frac{d^{2}}{d x^{2}} y{\\left(x \\right)} \\left. \\frac{\\partial^{2}}{\\partial y{\\left(x \\right)}\\partial \\xi_{1}} \\xi^{x}{\\left(\\xi_{1},y{\\left(x \\right)} \\right)} \\right|_{\\substack{ \\xi_{1}=x }} - 5 \\frac{d}{d x} y{\\left(x \\right)} \\frac{d^{2}}{d x^{2}} y{\\left(x \\right)} \\left. \\frac{\\partial^{2}}{\\partial x\\partial \\xi} \\xi^{x}{\\left(x,\\xi \\right)} \\right|_{\\substack{ \\xi=y{\\left(x \\right)} }} - \\frac{d}{d x} y{\\left(x \\right)} \\left. \\frac{\\partial^{3}}{\\partial \\xi_{1}^{3}} \\xi^{x}{\\left(\\xi_{1},y{\\left(x \\right)} \\right)} \\right|_{\\substack{ \\xi_{1}=x }} + 2 \\frac{d}{d x} y{\\left(x \\right)} \\left. \\frac{\\partial^{3}}{\\partial y{\\left(x \\right)}\\partial \\xi_{1}^{2}} \\eta^{y}{\\left(\\xi_{1},y{\\left(x \\right)} \\right)} \\right|_{\\substack{ \\xi_{1}=x }} + \\frac{d}{d x} y{\\left(x \\right)} \\left. \\frac{\\partial^{3}}{\\partial x^{2}\\partial \\xi} \\eta^{y}{\\left(x,\\xi \\right)} \\right|_{\\substack{ \\xi=y{\\left(x \\right)} }} - 3 \\frac{d^{2}}{d x^{2}} y{\\left(x \\right)} \\left. \\frac{\\partial^{2}}{\\partial \\xi_{1}^{2}} \\xi^{x}{\\left(\\xi_{1},y{\\left(x \\right)} \\right)} \\right|_{\\substack{ \\xi_{1}=x }} + \\frac{d^{2}}{d x^{2}} y{\\left(x \\right)} \\left. \\frac{\\partial^{2}}{\\partial y{\\left(x \\right)}\\partial \\xi_{1}} \\eta^{y}{\\left(\\xi_{1},y{\\left(x \\right)} \\right)} \\right|_{\\substack{ \\xi_{1}=x }} + 2 \\frac{d^{2}}{d x^{2}} y{\\left(x \\right)} \\left. \\frac{\\partial^{2}}{\\partial x\\partial \\xi} \\eta^{y}{\\left(x,\\xi \\right)} \\right|_{\\substack{ \\xi=y{\\left(x \\right)} }} + \\left. \\frac{\\partial^{3}}{\\partial \\xi_{1}^{3}} \\eta^{y}{\\left(\\xi_{1},y{\\left(x \\right)} \\right)} \\right|_{\\substack{ \\xi_{1}=x }}$"
      ],
      "text/plain": [
       "eta^y(x, y(x))*Derivative(y(x), (x, 2)) + xi^x(x, y(x))*Derivative(y(x), x)*Derivative(y(x), (x, 2)) + y(x)*Derivative(eta^y(x, y(x)), (y(x), 2))*Derivative(y(x), x)**2 + y(x)*Derivative(xi^x(x, y(x)), y(x))*Derivative(y(x), x)*Derivative(y(x), (x, 2)) - y(x)*Derivative(xi^x(x, y(x)), (y(x), 2))*Derivative(y(x), x)**3 - y(x)*Derivative(y(x), x)**2*Subs(Derivative(xi^x(_xi_1, y(x)), _xi_1, y(x)), _xi_1, x) - y(x)*Derivative(y(x), x)**2*Subs(Derivative(xi^x(x, _xi), _xi, x), _xi, y(x)) - y(x)*Derivative(y(x), x)*Subs(Derivative(xi^x(_xi_1, y(x)), (_xi_1, 2)), _xi_1, x) + y(x)*Derivative(y(x), x)*Subs(Derivative(eta^y(_xi_1, y(x)), _xi_1, y(x)), _xi_1, x) + y(x)*Derivative(y(x), x)*Subs(Derivative(eta^y(x, _xi), _xi, x), _xi, y(x)) + y(x)*Derivative(y(x), (x, 2))*Subs(Derivative(xi^x(_xi_1, y(x)), _xi_1), _xi_1, x) + y(x)*Subs(Derivative(eta^y(_xi_1, y(x)), (_xi_1, 2)), _xi_1, x) + 3*Derivative(eta^y(x, y(x)), (y(x), 2))*Derivative(y(x), x)*Derivative(y(x), (x, 2)) + Derivative(eta^y(x, y(x)), (y(x), 3))*Derivative(y(x), x)**3 - 3*Derivative(xi^x(x, y(x)), y(x))*Derivative(y(x), (x, 2))**2 - 6*Derivative(xi^x(x, y(x)), (y(x), 2))*Derivative(y(x), x)**2*Derivative(y(x), (x, 2)) - Derivative(xi^x(x, y(x)), (y(x), 3))*Derivative(y(x), x)**4 - Derivative(y(x), x)**3*Subs(Derivative(xi^x(_xi_1, y(x)), _xi_1, (y(x), 2)), _xi_1, x) - 2*Derivative(y(x), x)**3*Subs(Derivative(xi^x(x, _xi), (_xi, 2), x), _xi, y(x)) + Derivative(y(x), x)**2*Subs(Derivative(eta^y(_xi_1, y(x)), _xi_1, (y(x), 2)), _xi_1, x) + 2*Derivative(y(x), x)**2*Subs(Derivative(eta^y(x, _xi), (_xi, 2), x), _xi, y(x)) - 2*Derivative(y(x), x)**2*Subs(Derivative(xi^x(_xi_1, y(x)), (_xi_1, 2), y(x)), _xi_1, x) - Derivative(y(x), x)**2*Subs(Derivative(xi^x(x, _xi), _xi, (x, 2)), _xi, y(x)) - 4*Derivative(y(x), x)*Derivative(y(x), (x, 2))*Subs(Derivative(xi^x(_xi_1, y(x)), _xi_1, y(x)), _xi_1, x) - 5*Derivative(y(x), x)*Derivative(y(x), (x, 2))*Subs(Derivative(xi^x(x, _xi), _xi, x), _xi, y(x)) - Derivative(y(x), x)*Subs(Derivative(xi^x(_xi_1, y(x)), (_xi_1, 3)), _xi_1, x) + 2*Derivative(y(x), x)*Subs(Derivative(eta^y(_xi_1, y(x)), (_xi_1, 2), y(x)), _xi_1, x) + Derivative(y(x), x)*Subs(Derivative(eta^y(x, _xi), _xi, (x, 2)), _xi, y(x)) - 3*Derivative(y(x), (x, 2))*Subs(Derivative(xi^x(_xi_1, y(x)), (_xi_1, 2)), _xi_1, x) + Derivative(y(x), (x, 2))*Subs(Derivative(eta^y(_xi_1, y(x)), _xi_1, y(x)), _xi_1, x) + 2*Derivative(y(x), (x, 2))*Subs(Derivative(eta^y(x, _xi), _xi, x), _xi, y(x)) + Subs(Derivative(eta^y(_xi_1, y(x)), (_xi_1, 3)), _xi_1, x)"
      ]
     },
     "execution_count": 17,
     "metadata": {},
     "output_type": "execute_result"
    }
   ],
   "source": [
    "XF.expand()"
   ]
  },
  {
   "cell_type": "code",
   "execution_count": 12,
   "metadata": {},
   "outputs": [
    {
     "data": {
      "text/plain": [
       "'eta^y(x,y(x))*Derivative(y(x),(x,2))+xi^x(x,y(x))*Derivative(y(x),x)*Derivative(y(x),(x,2))+y(x)*Derivative(eta^y(x,y(x)),(y(x),2))*Derivative(y(x),x)**2+y(x)*Derivative(xi^x(x,y(x)),y(x))*Derivative(y(x),x)*Derivative(y(x),(x,2))-y(x)*Derivative(xi^x(x,y(x)),(y(x),2))*Derivative(y(x),x)**3-y(x)*Derivative(y(x),x)**2*Subs(Derivative(xi^x(_xi_1,y(x)),_xi_1,y(x)),_xi_1,x)-y(x)*Derivative(y(x),x)**2*Subs(Derivative(xi^x(x,_xi),_xi,x),_xi,y(x))-y(x)*Derivative(y(x),x)*Subs(Derivative(xi^x(_xi_1,y(x)),(_xi_1,2)),_xi_1,x)+y(x)*Derivative(y(x),x)*Subs(Derivative(eta^y(_xi_1,y(x)),_xi_1,y(x)),_xi_1,x)+y(x)*Derivative(y(x),x)*Subs(Derivative(eta^y(x,_xi),_xi,x),_xi,y(x))+y(x)*Derivative(y(x),(x,2))*Subs(Derivative(xi^x(_xi_1,y(x)),_xi_1),_xi_1,x)+y(x)*Subs(Derivative(eta^y(_xi_1,y(x)),(_xi_1,2)),_xi_1,x)+3*Derivative(eta^y(x,y(x)),(y(x),2))*Derivative(y(x),x)*Derivative(y(x),(x,2))+Derivative(eta^y(x,y(x)),(y(x),3))*Derivative(y(x),x)**3-3*Derivative(xi^x(x,y(x)),y(x))*Derivative(y(x),(x,2))**2-6*Derivative(xi^x(x,y(x)),(y(x),2))*Derivative(y(x),x)**2*Derivative(y(x),(x,2))-Derivative(xi^x(x,y(x)),(y(x),3))*Derivative(y(x),x)**4-Derivative(y(x),x)**3*Subs(Derivative(xi^x(_xi_1,y(x)),_xi_1,(y(x),2)),_xi_1,x)-2*Derivative(y(x),x)**3*Subs(Derivative(xi^x(x,_xi),(_xi,2),x),_xi,y(x))+Derivative(y(x),x)**2*Subs(Derivative(eta^y(_xi_1,y(x)),_xi_1,(y(x),2)),_xi_1,x)+2*Derivative(y(x),x)**2*Subs(Derivative(eta^y(x,_xi),(_xi,2),x),_xi,y(x))-2*Derivative(y(x),x)**2*Subs(Derivative(xi^x(_xi_1,y(x)),(_xi_1,2),y(x)),_xi_1,x)-Derivative(y(x),x)**2*Subs(Derivative(xi^x(x,_xi),_xi,(x,2)),_xi,y(x))-4*Derivative(y(x),x)*Derivative(y(x),(x,2))*Subs(Derivative(xi^x(_xi_1,y(x)),_xi_1,y(x)),_xi_1,x)-5*Derivative(y(x),x)*Derivative(y(x),(x,2))*Subs(Derivative(xi^x(x,_xi),_xi,x),_xi,y(x))-Derivative(y(x),x)*Subs(Derivative(xi^x(_xi_1,y(x)),(_xi_1,3)),_xi_1,x)+2*Derivative(y(x),x)*Subs(Derivative(eta^y(_xi_1,y(x)),(_xi_1,2),y(x)),_xi_1,x)+Derivative(y(x),x)*Subs(Derivative(eta^y(x,_xi),_xi,(x,2)),_xi,y(x))-3*Derivative(y(x),(x,2))*Subs(Derivative(xi^x(_xi_1,y(x)),(_xi_1,2)),_xi_1,x)+Derivative(y(x),(x,2))*Subs(Derivative(eta^y(_xi_1,y(x)),_xi_1,y(x)),_xi_1,x)+2*Derivative(y(x),(x,2))*Subs(Derivative(eta^y(x,_xi),_xi,x),_xi,y(x))+Subs(Derivative(eta^y(_xi_1,y(x)),(_xi_1,3)),_xi_1,x)'"
      ]
     },
     "execution_count": 12,
     "metadata": {},
     "output_type": "execute_result"
    }
   ],
   "source": [
    "str(XF.expand()).replace(\" \",\"\")"
   ]
  },
  {
   "cell_type": "code",
   "execution_count": 18,
   "metadata": {},
   "outputs": [
    {
     "name": "stdout",
     "output_type": "stream",
     "text": [
      "0.015000581741333008\n"
     ]
    }
   ],
   "source": [
    "t = time.time()\n",
    "empty_det_eqn = get_common_factors(XF, list_dep, list_indep, list_cte)\n",
    "elapsed = time.time() - t\n",
    "print(elapsed)"
   ]
  },
  {
   "cell_type": "code",
   "execution_count": 19,
   "metadata": {},
   "outputs": [
    {
     "data": {
      "text/plain": [
       "{'Derivative(y(x),x)^3': None,\n",
       " 'Derivative(y(x),(x,2))^2': None,\n",
       " 'Derivative(y(x),x)^2*Derivative(y(x),(x,2))': None,\n",
       " 'Derivative(y(x),x)^4': None,\n",
       " 'Derivative(y(x),x)*Derivative(y(x),(x,2))': None,\n",
       " 'Derivative(y(x),x)^2': None,\n",
       " 'Derivative(y(x),x)': None,\n",
       " 'Derivative(y(x),(x,2))': None}"
      ]
     },
     "execution_count": 19,
     "metadata": {},
     "output_type": "execute_result"
    }
   ],
   "source": [
    "empty_det_eqn"
   ]
  },
  {
   "cell_type": "code",
   "execution_count": 20,
   "metadata": {},
   "outputs": [
    {
     "name": "stdout",
     "output_type": "stream",
     "text": [
      "0.01199960708618164\n"
     ]
    }
   ],
   "source": [
    "t = time.time()\n",
    "det_eqn = get_det_eqns(XF, empty_det_eqn)\n",
    "elapsed = time.time() - t\n",
    "print(elapsed)"
   ]
  },
  {
   "cell_type": "code",
   "execution_count": 21,
   "metadata": {},
   "outputs": [
    {
     "data": {
      "text/plain": [
       "{'Derivative(y(x),x)^3': ['-y(x)*Derivative(xix(x,y(x)),(y(x),2))',\n",
       "  '+Derivative(etay(x,y(x)),(y(x),3))',\n",
       "  '-Subs(Derivative(xix(_xi_1,y(x)),_xi_1,(y(x),2)),_xi_1,x)',\n",
       "  '-2*Subs(Derivative(xix(x,_xi),(_xi,2),x),_xi,y(x))'],\n",
       " 'Derivative(y(x),(x,2))^2': ['-3*Derivative(xix(x,y(x)),y(x))'],\n",
       " 'Derivative(y(x),x)^2*Derivative(y(x),(x,2))': ['-6*Derivative(xix(x,y(x)),(y(x),2))'],\n",
       " 'Derivative(y(x),x)^4': ['-Derivative(xix(x,y(x)),(y(x),3))'],\n",
       " 'Derivative(y(x),x)*Derivative(y(x),(x,2))': ['+xix(x,y(x))',\n",
       "  '+y(x)*Derivative(xix(x,y(x)),y(x))',\n",
       "  '+3*Derivative(etay(x,y(x)),(y(x),2))',\n",
       "  '-4*Subs(Derivative(xix(_xi_1,y(x)),_xi_1,y(x)),_xi_1,x)',\n",
       "  '-5*Subs(Derivative(xix(x,_xi),_xi,x),_xi,y(x))'],\n",
       " 'Derivative(y(x),x)^2': ['+y(x)*Derivative(etay(x,y(x)),(y(x),2))',\n",
       "  '-y(x)*Subs(Derivative(xix(_xi_1,y(x)),_xi_1,y(x)),_xi_1,x)',\n",
       "  '-y(x)*Subs(Derivative(xix(x,_xi),_xi,x),_xi,y(x))',\n",
       "  '+Subs(Derivative(etay(_xi_1,y(x)),_xi_1,(y(x),2)),_xi_1,x)',\n",
       "  '+2*Subs(Derivative(etay(x,_xi),(_xi,2),x),_xi,y(x))',\n",
       "  '-2*Subs(Derivative(xix(_xi_1,y(x)),(_xi_1,2),y(x)),_xi_1,x)',\n",
       "  '-Subs(Derivative(xix(x,_xi),_xi,(x,2)),_xi,y(x))'],\n",
       " 'Derivative(y(x),x)': ['-y(x)*Subs(Derivative(xix(_xi_1,y(x)),(_xi_1,2)),_xi_1,x)',\n",
       "  '+y(x)*Subs(Derivative(etay(_xi_1,y(x)),_xi_1,y(x)),_xi_1,x)',\n",
       "  '+y(x)*Subs(Derivative(etay(x,_xi),_xi,x),_xi,y(x))',\n",
       "  '-Subs(Derivative(xix(_xi_1,y(x)),(_xi_1,3)),_xi_1,x)',\n",
       "  '+2*Subs(Derivative(etay(_xi_1,y(x)),(_xi_1,2),y(x)),_xi_1,x)',\n",
       "  '+Subs(Derivative(etay(x,_xi),_xi,(x,2)),_xi,y(x))'],\n",
       " 'Derivative(y(x),(x,2))': ['etay(x,y(x))',\n",
       "  '+y(x)*Subs(Derivative(xix(_xi_1,y(x)),_xi_1),_xi_1,x)',\n",
       "  '-3*Subs(Derivative(xix(_xi_1,y(x)),(_xi_1,2)),_xi_1,x)',\n",
       "  '+Subs(Derivative(etay(_xi_1,y(x)),_xi_1,y(x)),_xi_1,x)',\n",
       "  '+2*Subs(Derivative(etay(x,_xi),_xi,x),_xi,y(x))'],\n",
       " 'lonely_terms': ['+y(x)*Subs(Derivative(etay(_xi_1,y(x)),(_xi_1,2)),_xi_1,x)',\n",
       "  '+Subs(Derivative(etay(_xi_1,y(x)),(_xi_1,3)),_xi_1,x)']}"
      ]
     },
     "execution_count": 21,
     "metadata": {},
     "output_type": "execute_result"
    }
   ],
   "source": [
    "det_eqn"
   ]
  },
  {
   "cell_type": "code",
   "execution_count": 22,
   "metadata": {},
   "outputs": [
    {
     "name": "stdout",
     "output_type": "stream",
     "text": [
      "0.13002920150756836\n"
     ]
    }
   ],
   "source": [
    "t = time.time()\n",
    "det_eqn = str_eqn_to_dict_eqn(det_eqn, list_var, list_all)\n",
    "elapsed = time.time() - t\n",
    "print(elapsed)"
   ]
  },
  {
   "cell_type": "code",
   "execution_count": 2,
   "metadata": {},
   "outputs": [
    {
     "ename": "SympifyError",
     "evalue": "Sympify of expression 'could not parse '+lambda*u(z,t)^2*xit(z,t,u(z,t),v(z,t))'' failed, because of exception being raised:\nSyntaxError: invalid syntax (<string>, line 1)",
     "output_type": "error",
     "traceback": [
      "\u001b[1;31m---------------------------------------------------------------------------\u001b[0m",
      "\u001b[1;31mValueError\u001b[0m                                Traceback (most recent call last)",
      "\u001b[1;31mValueError\u001b[0m: Error from parse_expr with transformed code: \"+lambda *Function ('u' )(Symbol ('z' ),Symbol ('t' ))**Integer (2 )*Function ('xit' )(Symbol ('z' ),Symbol ('t' ),Function ('u' )(Symbol ('z' ),Symbol ('t' )),Function ('v' )(Symbol ('z' ),Symbol ('t' )))\"",
      "\nThe above exception was the direct cause of the following exception:\n",
      "\u001b[1;31mSyntaxError\u001b[0m                               Traceback (most recent call last)",
      "\u001b[1;32m~\\Anaconda3\\lib\\site-packages\\sympy\\core\\sympify.py\u001b[0m in \u001b[0;36msympify\u001b[1;34m(a, locals, convert_xor, strict, rational, evaluate)\u001b[0m\n\u001b[0;32m    478\u001b[0m         \u001b[0ma\u001b[0m \u001b[1;33m=\u001b[0m \u001b[0ma\u001b[0m\u001b[1;33m.\u001b[0m\u001b[0mreplace\u001b[0m\u001b[1;33m(\u001b[0m\u001b[1;34m'\\n'\u001b[0m\u001b[1;33m,\u001b[0m \u001b[1;34m''\u001b[0m\u001b[1;33m)\u001b[0m\u001b[1;33m\u001b[0m\u001b[1;33m\u001b[0m\u001b[0m\n\u001b[1;32m--> 479\u001b[1;33m         \u001b[0mexpr\u001b[0m \u001b[1;33m=\u001b[0m \u001b[0mparse_expr\u001b[0m\u001b[1;33m(\u001b[0m\u001b[0ma\u001b[0m\u001b[1;33m,\u001b[0m \u001b[0mlocal_dict\u001b[0m\u001b[1;33m=\u001b[0m\u001b[0mlocals\u001b[0m\u001b[1;33m,\u001b[0m \u001b[0mtransformations\u001b[0m\u001b[1;33m=\u001b[0m\u001b[0mtransformations\u001b[0m\u001b[1;33m,\u001b[0m \u001b[0mevaluate\u001b[0m\u001b[1;33m=\u001b[0m\u001b[0mevaluate\u001b[0m\u001b[1;33m)\u001b[0m\u001b[1;33m\u001b[0m\u001b[1;33m\u001b[0m\u001b[0m\n\u001b[0m\u001b[0;32m    480\u001b[0m     \u001b[1;32mexcept\u001b[0m \u001b[1;33m(\u001b[0m\u001b[0mTokenError\u001b[0m\u001b[1;33m,\u001b[0m \u001b[0mSyntaxError\u001b[0m\u001b[1;33m)\u001b[0m \u001b[1;32mas\u001b[0m \u001b[0mexc\u001b[0m\u001b[1;33m:\u001b[0m\u001b[1;33m\u001b[0m\u001b[1;33m\u001b[0m\u001b[0m\n",
      "\u001b[1;32m~\\Anaconda3\\lib\\site-packages\\sympy\\parsing\\sympy_parser.py\u001b[0m in \u001b[0;36mparse_expr\u001b[1;34m(s, local_dict, transformations, global_dict, evaluate)\u001b[0m\n\u001b[0;32m   1017\u001b[0m     \u001b[1;32mexcept\u001b[0m \u001b[0mException\u001b[0m \u001b[1;32mas\u001b[0m \u001b[0me\u001b[0m\u001b[1;33m:\u001b[0m\u001b[1;33m\u001b[0m\u001b[1;33m\u001b[0m\u001b[0m\n\u001b[1;32m-> 1018\u001b[1;33m         \u001b[1;32mraise\u001b[0m \u001b[0me\u001b[0m \u001b[1;32mfrom\u001b[0m \u001b[0mValueError\u001b[0m\u001b[1;33m(\u001b[0m\u001b[1;34mf\"Error from parse_expr with transformed code: {code!r}\"\u001b[0m\u001b[1;33m)\u001b[0m\u001b[1;33m\u001b[0m\u001b[1;33m\u001b[0m\u001b[0m\n\u001b[0m\u001b[0;32m   1019\u001b[0m \u001b[1;33m\u001b[0m\u001b[0m\n",
      "\u001b[1;32m~\\Anaconda3\\lib\\site-packages\\sympy\\parsing\\sympy_parser.py\u001b[0m in \u001b[0;36mparse_expr\u001b[1;34m(s, local_dict, transformations, global_dict, evaluate)\u001b[0m\n\u001b[0;32m   1015\u001b[0m     \u001b[1;32mtry\u001b[0m\u001b[1;33m:\u001b[0m\u001b[1;33m\u001b[0m\u001b[1;33m\u001b[0m\u001b[0m\n\u001b[1;32m-> 1016\u001b[1;33m         \u001b[1;32mreturn\u001b[0m \u001b[0meval_expr\u001b[0m\u001b[1;33m(\u001b[0m\u001b[0mcode\u001b[0m\u001b[1;33m,\u001b[0m \u001b[0mlocal_dict\u001b[0m\u001b[1;33m,\u001b[0m \u001b[0mglobal_dict\u001b[0m\u001b[1;33m)\u001b[0m\u001b[1;33m\u001b[0m\u001b[1;33m\u001b[0m\u001b[0m\n\u001b[0m\u001b[0;32m   1017\u001b[0m     \u001b[1;32mexcept\u001b[0m \u001b[0mException\u001b[0m \u001b[1;32mas\u001b[0m \u001b[0me\u001b[0m\u001b[1;33m:\u001b[0m\u001b[1;33m\u001b[0m\u001b[1;33m\u001b[0m\u001b[0m\n",
      "\u001b[1;32m~\\Anaconda3\\lib\\site-packages\\sympy\\parsing\\sympy_parser.py\u001b[0m in \u001b[0;36meval_expr\u001b[1;34m(code, local_dict, global_dict)\u001b[0m\n\u001b[0;32m    909\u001b[0m     \"\"\"\n\u001b[1;32m--> 910\u001b[1;33m     expr = eval(\n\u001b[0m\u001b[0;32m    911\u001b[0m         code, global_dict, local_dict)  # take local objects in preference\n",
      "\u001b[1;31mSyntaxError\u001b[0m: invalid syntax (<string>, line 1)",
      "\nDuring handling of the above exception, another exception occurred:\n",
      "\u001b[1;31mSympifyError\u001b[0m                              Traceback (most recent call last)",
      "\u001b[1;32m<ipython-input-2-32fd2f747ae4>\u001b[0m in \u001b[0;36m<module>\u001b[1;34m\u001b[0m\n\u001b[1;32m----> 1\u001b[1;33m \u001b[0msp\u001b[0m\u001b[1;33m.\u001b[0m\u001b[0msympify\u001b[0m\u001b[1;33m(\u001b[0m\u001b[1;34m'+lambda*u(z,t)^2*xit(z,t,u(z,t),v(z,t))'\u001b[0m\u001b[1;33m)\u001b[0m\u001b[1;33m\u001b[0m\u001b[1;33m\u001b[0m\u001b[0m\n\u001b[0m",
      "\u001b[1;32m~\\Anaconda3\\lib\\site-packages\\sympy\\core\\sympify.py\u001b[0m in \u001b[0;36msympify\u001b[1;34m(a, locals, convert_xor, strict, rational, evaluate)\u001b[0m\n\u001b[0;32m    479\u001b[0m         \u001b[0mexpr\u001b[0m \u001b[1;33m=\u001b[0m \u001b[0mparse_expr\u001b[0m\u001b[1;33m(\u001b[0m\u001b[0ma\u001b[0m\u001b[1;33m,\u001b[0m \u001b[0mlocal_dict\u001b[0m\u001b[1;33m=\u001b[0m\u001b[0mlocals\u001b[0m\u001b[1;33m,\u001b[0m \u001b[0mtransformations\u001b[0m\u001b[1;33m=\u001b[0m\u001b[0mtransformations\u001b[0m\u001b[1;33m,\u001b[0m \u001b[0mevaluate\u001b[0m\u001b[1;33m=\u001b[0m\u001b[0mevaluate\u001b[0m\u001b[1;33m)\u001b[0m\u001b[1;33m\u001b[0m\u001b[1;33m\u001b[0m\u001b[0m\n\u001b[0;32m    480\u001b[0m     \u001b[1;32mexcept\u001b[0m \u001b[1;33m(\u001b[0m\u001b[0mTokenError\u001b[0m\u001b[1;33m,\u001b[0m \u001b[0mSyntaxError\u001b[0m\u001b[1;33m)\u001b[0m \u001b[1;32mas\u001b[0m \u001b[0mexc\u001b[0m\u001b[1;33m:\u001b[0m\u001b[1;33m\u001b[0m\u001b[1;33m\u001b[0m\u001b[0m\n\u001b[1;32m--> 481\u001b[1;33m         \u001b[1;32mraise\u001b[0m \u001b[0mSympifyError\u001b[0m\u001b[1;33m(\u001b[0m\u001b[1;34m'could not parse %r'\u001b[0m \u001b[1;33m%\u001b[0m \u001b[0ma\u001b[0m\u001b[1;33m,\u001b[0m \u001b[0mexc\u001b[0m\u001b[1;33m)\u001b[0m\u001b[1;33m\u001b[0m\u001b[1;33m\u001b[0m\u001b[0m\n\u001b[0m\u001b[0;32m    482\u001b[0m \u001b[1;33m\u001b[0m\u001b[0m\n\u001b[0;32m    483\u001b[0m     \u001b[1;32mreturn\u001b[0m \u001b[0mexpr\u001b[0m\u001b[1;33m\u001b[0m\u001b[1;33m\u001b[0m\u001b[0m\n",
      "\u001b[1;31mSympifyError\u001b[0m: Sympify of expression 'could not parse '+lambda*u(z,t)^2*xit(z,t,u(z,t),v(z,t))'' failed, because of exception being raised:\nSyntaxError: invalid syntax (<string>, line 1)"
     ]
    }
   ],
   "source": [
    "sp.sympify('+lambda*u(z,t)^2*xit(z,t,u(z,t),v(z,t))')"
   ]
  },
  {
   "cell_type": "code",
   "execution_count": 23,
   "metadata": {},
   "outputs": [
    {
     "data": {
      "text/plain": [
       "{0: [{'coefficient': -1,\n",
       "   'constants': [0, 1],\n",
       "   'derivatives': [0, 2],\n",
       "   'variable': 'xix'},\n",
       "  {'coefficient': 1,\n",
       "   'constants': [0, 0],\n",
       "   'derivatives': [0, 3],\n",
       "   'variable': 'etay'},\n",
       "  {'coefficient': -1,\n",
       "   'constants': [0, 0],\n",
       "   'derivatives': [1, 2],\n",
       "   'variable': 'xix'},\n",
       "  {'coefficient': -2,\n",
       "   'constants': [0, 0],\n",
       "   'derivatives': [1, 2],\n",
       "   'variable': 'xix'}],\n",
       " 1: [{'coefficient': -3,\n",
       "   'constants': [0, 0],\n",
       "   'derivatives': [0, 1],\n",
       "   'variable': 'xix'}],\n",
       " 2: [{'coefficient': -6,\n",
       "   'constants': [0, 0],\n",
       "   'derivatives': [0, 2],\n",
       "   'variable': 'xix'}],\n",
       " 3: [{'coefficient': -1,\n",
       "   'constants': [0, 0],\n",
       "   'derivatives': [0, 3],\n",
       "   'variable': 'xix'}],\n",
       " 4: [{'coefficient': 1,\n",
       "   'constants': [0, 0],\n",
       "   'derivatives': [0, 0],\n",
       "   'variable': 'xix'},\n",
       "  {'coefficient': 1,\n",
       "   'constants': [0, 1],\n",
       "   'derivatives': [0, 1],\n",
       "   'variable': 'xix'},\n",
       "  {'coefficient': 3,\n",
       "   'constants': [0, 0],\n",
       "   'derivatives': [0, 2],\n",
       "   'variable': 'etay'},\n",
       "  {'coefficient': -4,\n",
       "   'constants': [0, 0],\n",
       "   'derivatives': [1, 1],\n",
       "   'variable': 'xix'},\n",
       "  {'coefficient': -5,\n",
       "   'constants': [0, 0],\n",
       "   'derivatives': [1, 1],\n",
       "   'variable': 'xix'}],\n",
       " 5: [{'coefficient': 1,\n",
       "   'constants': [0, 1],\n",
       "   'derivatives': [0, 2],\n",
       "   'variable': 'etay'},\n",
       "  {'coefficient': -1,\n",
       "   'constants': [0, 1],\n",
       "   'derivatives': [1, 1],\n",
       "   'variable': 'xix'},\n",
       "  {'coefficient': -1,\n",
       "   'constants': [0, 1],\n",
       "   'derivatives': [1, 1],\n",
       "   'variable': 'xix'},\n",
       "  {'coefficient': 1,\n",
       "   'constants': [0, 0],\n",
       "   'derivatives': [1, 2],\n",
       "   'variable': 'etay'},\n",
       "  {'coefficient': 2,\n",
       "   'constants': [0, 0],\n",
       "   'derivatives': [1, 2],\n",
       "   'variable': 'etay'},\n",
       "  {'coefficient': -2,\n",
       "   'constants': [0, 0],\n",
       "   'derivatives': [2, 1],\n",
       "   'variable': 'xix'},\n",
       "  {'coefficient': -1,\n",
       "   'constants': [0, 0],\n",
       "   'derivatives': [2, 1],\n",
       "   'variable': 'xix'}],\n",
       " 6: [{'coefficient': -1,\n",
       "   'constants': [0, 1],\n",
       "   'derivatives': [2, 0],\n",
       "   'variable': 'xix'},\n",
       "  {'coefficient': 1,\n",
       "   'constants': [0, 1],\n",
       "   'derivatives': [1, 1],\n",
       "   'variable': 'etay'},\n",
       "  {'coefficient': 1,\n",
       "   'constants': [0, 1],\n",
       "   'derivatives': [1, 1],\n",
       "   'variable': 'etay'},\n",
       "  {'coefficient': -1,\n",
       "   'constants': [0, 0],\n",
       "   'derivatives': [3, 0],\n",
       "   'variable': 'xix'},\n",
       "  {'coefficient': 2,\n",
       "   'constants': [0, 0],\n",
       "   'derivatives': [2, 1],\n",
       "   'variable': 'etay'},\n",
       "  {'coefficient': 1,\n",
       "   'constants': [0, 0],\n",
       "   'derivatives': [2, 1],\n",
       "   'variable': 'etay'}],\n",
       " 7: [{'coefficient': 1,\n",
       "   'constants': [0, 0],\n",
       "   'derivatives': [0, 0],\n",
       "   'variable': 'etay'},\n",
       "  {'coefficient': 1,\n",
       "   'constants': [0, 1],\n",
       "   'derivatives': [1, 0],\n",
       "   'variable': 'xix'},\n",
       "  {'coefficient': -3,\n",
       "   'constants': [0, 0],\n",
       "   'derivatives': [2, 0],\n",
       "   'variable': 'xix'},\n",
       "  {'coefficient': 1,\n",
       "   'constants': [0, 0],\n",
       "   'derivatives': [1, 1],\n",
       "   'variable': 'etay'},\n",
       "  {'coefficient': 2,\n",
       "   'constants': [0, 0],\n",
       "   'derivatives': [1, 1],\n",
       "   'variable': 'etay'}],\n",
       " 8: [{'coefficient': 1,\n",
       "   'constants': [0, 1],\n",
       "   'derivatives': [2, 0],\n",
       "   'variable': 'etay'},\n",
       "  {'coefficient': 1,\n",
       "   'constants': [0, 0],\n",
       "   'derivatives': [3, 0],\n",
       "   'variable': 'etay'}]}"
      ]
     },
     "execution_count": 23,
     "metadata": {},
     "output_type": "execute_result"
    }
   ],
   "source": [
    "det_eqn"
   ]
  },
  {
   "cell_type": "code",
   "execution_count": 24,
   "metadata": {},
   "outputs": [
    {
     "name": "stdout",
     "output_type": "stream",
     "text": [
      "0.003000974655151367\n"
     ]
    }
   ],
   "source": [
    "t = time.time()\n",
    "det_eqn = simplify_redundant_eqn(det_eqn)\n",
    "elapsed = time.time() - t\n",
    "print(elapsed)"
   ]
  },
  {
   "cell_type": "code",
   "execution_count": 25,
   "metadata": {},
   "outputs": [
    {
     "data": {
      "text/plain": [
       "{0: [{'coefficient': 1,\n",
       "   'constants': [0, 0],\n",
       "   'derivatives': [0, 3],\n",
       "   'variable': 'etay'}],\n",
       " 4: [{'coefficient': 1,\n",
       "   'constants': [0, 0],\n",
       "   'derivatives': [0, 0],\n",
       "   'variable': 'xix'},\n",
       "  {'coefficient': 3,\n",
       "   'constants': [0, 0],\n",
       "   'derivatives': [0, 2],\n",
       "   'variable': 'etay'}],\n",
       " 5: [{'coefficient': 1,\n",
       "   'constants': [0, 1],\n",
       "   'derivatives': [0, 2],\n",
       "   'variable': 'etay'},\n",
       "  {'coefficient': 1,\n",
       "   'constants': [0, 0],\n",
       "   'derivatives': [1, 2],\n",
       "   'variable': 'etay'},\n",
       "  {'coefficient': 2,\n",
       "   'constants': [0, 0],\n",
       "   'derivatives': [1, 2],\n",
       "   'variable': 'etay'}],\n",
       " 6: [{'coefficient': -1,\n",
       "   'constants': [0, 1],\n",
       "   'derivatives': [2, 0],\n",
       "   'variable': 'xix'},\n",
       "  {'coefficient': 1,\n",
       "   'constants': [0, 1],\n",
       "   'derivatives': [1, 1],\n",
       "   'variable': 'etay'},\n",
       "  {'coefficient': 1,\n",
       "   'constants': [0, 1],\n",
       "   'derivatives': [1, 1],\n",
       "   'variable': 'etay'},\n",
       "  {'coefficient': -1,\n",
       "   'constants': [0, 0],\n",
       "   'derivatives': [3, 0],\n",
       "   'variable': 'xix'},\n",
       "  {'coefficient': 2,\n",
       "   'constants': [0, 0],\n",
       "   'derivatives': [2, 1],\n",
       "   'variable': 'etay'},\n",
       "  {'coefficient': 1,\n",
       "   'constants': [0, 0],\n",
       "   'derivatives': [2, 1],\n",
       "   'variable': 'etay'}],\n",
       " 7: [{'coefficient': 1,\n",
       "   'constants': [0, 0],\n",
       "   'derivatives': [0, 0],\n",
       "   'variable': 'etay'},\n",
       "  {'coefficient': 1,\n",
       "   'constants': [0, 1],\n",
       "   'derivatives': [1, 0],\n",
       "   'variable': 'xix'},\n",
       "  {'coefficient': -3,\n",
       "   'constants': [0, 0],\n",
       "   'derivatives': [2, 0],\n",
       "   'variable': 'xix'},\n",
       "  {'coefficient': 1,\n",
       "   'constants': [0, 0],\n",
       "   'derivatives': [1, 1],\n",
       "   'variable': 'etay'},\n",
       "  {'coefficient': 2,\n",
       "   'constants': [0, 0],\n",
       "   'derivatives': [1, 1],\n",
       "   'variable': 'etay'}],\n",
       " 8: [{'coefficient': 1,\n",
       "   'constants': [0, 1],\n",
       "   'derivatives': [2, 0],\n",
       "   'variable': 'etay'},\n",
       "  {'coefficient': 1,\n",
       "   'constants': [0, 0],\n",
       "   'derivatives': [3, 0],\n",
       "   'variable': 'etay'}],\n",
       " 1: [{'coefficient': -3,\n",
       "   'constants': [0, 0],\n",
       "   'derivatives': [0, 1],\n",
       "   'variable': 'xix'}]}"
      ]
     },
     "execution_count": 25,
     "metadata": {},
     "output_type": "execute_result"
    }
   ],
   "source": [
    "det_eqn"
   ]
  },
  {
   "cell_type": "code",
   "execution_count": 26,
   "metadata": {},
   "outputs": [
    {
     "name": "stdout",
     "output_type": "stream",
     "text": [
      "0.034003496170043945\n"
     ]
    }
   ],
   "source": [
    "t = time.time()\n",
    "sym_det_eqn(det_eqn, list_indep, list_dep, list_cte)\n",
    "elapsed = time.time() - t\n",
    "print(elapsed)"
   ]
  },
  {
   "cell_type": "code",
   "execution_count": 27,
   "metadata": {},
   "outputs": [
    {
     "data": {
      "text/latex": [
       "$\\displaystyle \\left[\\begin{matrix}1 & \\eta^{(y)}_{y y y} = 0\\\\2 & 3 \\eta^{(y)}_{y y} + \\xi^{(x)} = 0\\\\3 & 3 \\eta^{(y)}_{x y y} + \\eta^{(y)}_{y y} y{\\left(x \\right)} = 0\\\\4 & 3 \\eta^{(y)}_{x x y} + 2 \\eta^{(y)}_{x y} y{\\left(x \\right)} - \\xi^{(x)}_{x x} y{\\left(x \\right)} - \\xi^{(x)}_{x x x} = 0\\\\5 & \\eta^{(y)} + 3 \\eta^{(y)}_{x y} + \\xi^{(x)}_{x} y{\\left(x \\right)} - 3 \\xi^{(x)}_{x x} = 0\\\\6 & \\eta^{(y)}_{x x} y{\\left(x \\right)} + \\eta^{(y)}_{x x x} = 0\\\\7 & \\xi^{(x)}_{y} = 0\\end{matrix}\\right]$"
      ],
      "text/plain": [
       "Matrix([\n",
       "[1,                                                         Eq(eta^(y)_y_y_y, 0)],\n",
       "[2,                                                Eq(3*eta^(y)_y_y + xi^(x), 0)],\n",
       "[3,                                    Eq(3*eta^(y)_x_y_y + eta^(y)_y_y*y(x), 0)],\n",
       "[4, Eq(3*eta^(y)_x_x_y + 2*eta^(y)_x_y*y(x) - xi^(x)_x_x*y(x) - xi^(x)_x_x_x, 0)],\n",
       "[5,                Eq(eta^(y) + 3*eta^(y)_x_y + xi^(x)_x*y(x) - 3*xi^(x)_x_x, 0)],\n",
       "[6,                                      Eq(eta^(y)_x_x*y(x) + eta^(y)_x_x_x, 0)],\n",
       "[7,                                                              Eq(xi^(x)_y, 0)]])"
      ]
     },
     "execution_count": 27,
     "metadata": {},
     "output_type": "execute_result"
    }
   ],
   "source": [
    "sym_det_eqn(det_eqn, list_indep, list_dep, list_cte)"
   ]
  },
  {
   "cell_type": "code",
   "execution_count": null,
   "metadata": {},
   "outputs": [],
   "source": []
  }
 ],
 "metadata": {
  "kernelspec": {
   "display_name": "Python 3.9.13 ('lie_env')",
   "language": "python",
   "name": "python3"
  },
  "language_info": {
   "codemirror_mode": {
    "name": "ipython",
    "version": 3
   },
   "file_extension": ".py",
   "mimetype": "text/x-python",
   "name": "python",
   "nbconvert_exporter": "python",
   "pygments_lexer": "ipython3",
   "version": "3.9.13"
  },
  "vscode": {
   "interpreter": {
    "hash": "f0edfb93beaa955e245c49a5d13cbb385f9a29e21aedf72d394d91a9c331a577"
   }
  }
 },
 "nbformat": 4,
 "nbformat_minor": 4
}
