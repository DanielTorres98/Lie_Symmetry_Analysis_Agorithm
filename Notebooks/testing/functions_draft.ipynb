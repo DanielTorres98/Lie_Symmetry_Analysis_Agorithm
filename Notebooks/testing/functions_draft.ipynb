{
 "cells": [
  {
   "cell_type": "code",
   "execution_count": 40,
   "metadata": {},
   "outputs": [
    {
     "name": "stdout",
     "output_type": "stream",
     "text": [
      "The autoreload extension is already loaded. To reload it, use:\n",
      "  %reload_ext autoreload\n"
     ]
    }
   ],
   "source": [
    "%load_ext autoreload\n",
    "%autoreload 2"
   ]
  },
  {
   "cell_type": "code",
   "execution_count": 41,
   "metadata": {},
   "outputs": [],
   "source": [
    "from copy import deepcopy\n",
    "\n",
    "from symmetries.analysis.lie_symmetry_analysis import point_symmetries\n",
    "from symmetries.utils.symbolic import sym_det_eqn\n",
    "\n",
    "from symmetries.objects.determining_equations import DeterminingEquations\n",
    "import sympy as sp\n",
    "from sympy import Derivative as D"
   ]
  },
  {
   "cell_type": "markdown",
   "id": "ef8f5463",
   "metadata": {},
   "source": [
    "# Function to propose a general form of the infinitesimals."
   ]
  },
  {
   "cell_type": "markdown",
   "id": "b53b0726",
   "metadata": {},
   "source": [
    "### Continuity Equation"
   ]
  },
  {
   "cell_type": "code",
   "execution_count": 45,
   "id": "2695edcd",
   "metadata": {},
   "outputs": [
    {
     "data": {
      "text/latex": [
       "$\\displaystyle \\rho{\\left(x,t \\right)} \\frac{\\partial}{\\partial x} v{\\left(x,t \\right)} + \\frac{\\partial}{\\partial t} \\rho{\\left(x,t \\right)}$"
      ],
      "text/plain": [
       "rho(x, t)*Derivative(v(x, t), x) + Derivative(rho(x, t), t)"
      ]
     },
     "execution_count": 45,
     "metadata": {},
     "output_type": "execute_result"
    }
   ],
   "source": [
    "x, t = sp.symbols('x t')\n",
    "rho = sp.Function('rho')(x, t)\n",
    "v = sp.Function('v')(x, t)\n",
    "independent_variables = [x,t]\n",
    "dependent_variables = [v, rho]\n",
    "constants = []\n",
    "F =  D(rho,t) + rho*D(v,x)\n",
    "F_rules_array = {D(rho,t):-rho*D(v,x)}\n",
    "order = 1\n",
    "F.expand()"
   ]
  },
  {
   "cell_type": "code",
   "execution_count": 56,
   "id": "2cdd0a02",
   "metadata": {},
   "outputs": [],
   "source": [
    "system_of_equations = point_symmetries(F, order, F_rules_array, independent_variables, dependent_variables, constants)"
   ]
  },
  {
   "cell_type": "code",
   "execution_count": 57,
   "id": "fa715543",
   "metadata": {},
   "outputs": [
    {
     "data": {
      "text/latex": [
       "$\\displaystyle \\rho v_{x} + \\rho_{t}$"
      ],
      "text/plain": [
       "rho*v_x + rho_t"
      ]
     },
     "execution_count": 57,
     "metadata": {},
     "output_type": "execute_result"
    }
   ],
   "source": [
    "system_of_equations.model.differential_equation"
   ]
  },
  {
   "cell_type": "code",
   "execution_count": 60,
   "id": "3f794e2a",
   "metadata": {},
   "outputs": [
    {
     "ename": "AttributeError",
     "evalue": "'Add' object has no attribute 'mul'",
     "output_type": "error",
     "traceback": [
      "\u001b[0;31m---------------------------------------------------------------------------\u001b[0m",
      "\u001b[0;31mAttributeError\u001b[0m                            Traceback (most recent call last)",
      "Cell \u001b[0;32mIn [60], line 1\u001b[0m\n\u001b[0;32m----> 1\u001b[0m sp\u001b[39m.\u001b[39mexpand(system_of_equations\u001b[39m.\u001b[39;49mdetermining_equations_extended\u001b[39m.\u001b[39;49mmul)\n",
      "\u001b[0;31mAttributeError\u001b[0m: 'Add' object has no attribute 'mul'"
     ]
    }
   ],
   "source": [
    "sp.expand(system_of_equations.determining_equations_extended)"
   ]
  },
  {
   "cell_type": "code",
   "execution_count": 9,
   "id": "b9416a20",
   "metadata": {},
   "outputs": [
    {
     "data": {
      "text/latex": [
       "$\\displaystyle \\xi^{x}{\\left(x,t,v{\\left(x,t \\right)},\\rho \\right)}$"
      ],
      "text/plain": [
       "xi^x(x, t, v(x, t), rho)"
      ]
     },
     "execution_count": 9,
     "metadata": {},
     "output_type": "execute_result"
    }
   ],
   "source": [
    "r = sp.symbols('rho')\n",
    "system_of_equations.model.infinitesimals[0].subs({rho:r})"
   ]
  },
  {
   "cell_type": "code",
   "execution_count": 28,
   "id": "2b932fc3",
   "metadata": {},
   "outputs": [
    {
     "data": {
      "text/plain": [
       "[Derivative(v(x, t), x),\n",
       " Derivative(rho(x, t), x),\n",
       " Derivative(v(x, t), t),\n",
       " Derivative(rho(x, t), t)]"
      ]
     },
     "execution_count": 28,
     "metadata": {},
     "output_type": "execute_result"
    }
   ],
   "source": [
    "system_of_equations.model.dependent_variables_partial_derivatives"
   ]
  },
  {
   "cell_type": "code",
   "execution_count": 30,
   "id": "232ddf46",
   "metadata": {},
   "outputs": [
    {
     "data": {
      "text/latex": [
       "$\\displaystyle \\frac{\\partial}{\\partial \\rho{\\left(x,t \\right)}} \\eta^{v}{\\left(x,t,v{\\left(x,t \\right)},\\rho{\\left(x,t \\right)} \\right)} \\frac{\\partial}{\\partial x} \\rho{\\left(x,t \\right)} + \\frac{\\partial}{\\partial v{\\left(x,t \\right)}} \\eta^{v}{\\left(x,t,v{\\left(x,t \\right)},\\rho{\\left(x,t \\right)} \\right)} \\frac{\\partial}{\\partial x} v{\\left(x,t \\right)} - \\frac{\\partial}{\\partial x} \\rho{\\left(x,t \\right)} \\frac{\\partial}{\\partial t} v{\\left(x,t \\right)} \\frac{\\partial}{\\partial \\rho{\\left(x,t \\right)}} \\xi^{t}{\\left(x,t,v{\\left(x,t \\right)},\\rho{\\left(x,t \\right)} \\right)} - \\frac{\\partial}{\\partial x} \\rho{\\left(x,t \\right)} \\frac{\\partial}{\\partial x} v{\\left(x,t \\right)} \\frac{\\partial}{\\partial \\rho{\\left(x,t \\right)}} \\xi^{x}{\\left(x,t,v{\\left(x,t \\right)},\\rho{\\left(x,t \\right)} \\right)} - \\frac{\\partial}{\\partial t} v{\\left(x,t \\right)} \\frac{\\partial}{\\partial x} v{\\left(x,t \\right)} \\frac{\\partial}{\\partial v{\\left(x,t \\right)}} \\xi^{t}{\\left(x,t,v{\\left(x,t \\right)},\\rho{\\left(x,t \\right)} \\right)} - \\frac{\\partial}{\\partial t} v{\\left(x,t \\right)} \\left. \\frac{\\partial}{\\partial \\xi_{1}} \\xi^{t}{\\left(\\xi_{1},t,v{\\left(x,t \\right)},\\rho{\\left(x,t \\right)} \\right)} \\right|_{\\substack{ \\xi_{1}=x }} - \\left(\\frac{\\partial}{\\partial x} v{\\left(x,t \\right)}\\right)^{2} \\frac{\\partial}{\\partial v{\\left(x,t \\right)}} \\xi^{x}{\\left(x,t,v{\\left(x,t \\right)},\\rho{\\left(x,t \\right)} \\right)} - \\frac{\\partial}{\\partial x} v{\\left(x,t \\right)} \\left. \\frac{\\partial}{\\partial \\xi_{1}} \\xi^{x}{\\left(\\xi_{1},t,v{\\left(x,t \\right)},\\rho{\\left(x,t \\right)} \\right)} \\right|_{\\substack{ \\xi_{1}=x }} + \\left. \\frac{\\partial}{\\partial \\xi_{1}} \\eta^{v}{\\left(\\xi_{1},t,v{\\left(x,t \\right)},\\rho{\\left(x,t \\right)} \\right)} \\right|_{\\substack{ \\xi_{1}=x }}$"
      ],
      "text/plain": [
       "Derivative(eta^v(x, t, v(x, t), rho(x, t)), rho(x, t))*Derivative(rho(x, t), x) + Derivative(eta^v(x, t, v(x, t), rho(x, t)), v(x, t))*Derivative(v(x, t), x) - Derivative(rho(x, t), x)*Derivative(v(x, t), t)*Derivative(xi^t(x, t, v(x, t), rho(x, t)), rho(x, t)) - Derivative(rho(x, t), x)*Derivative(v(x, t), x)*Derivative(xi^x(x, t, v(x, t), rho(x, t)), rho(x, t)) - Derivative(v(x, t), t)*Derivative(v(x, t), x)*Derivative(xi^t(x, t, v(x, t), rho(x, t)), v(x, t)) - Derivative(v(x, t), t)*Subs(Derivative(xi^t(_xi_1, t, v(x, t), rho(x, t)), _xi_1), _xi_1, x) - Derivative(v(x, t), x)**2*Derivative(xi^x(x, t, v(x, t), rho(x, t)), v(x, t)) - Derivative(v(x, t), x)*Subs(Derivative(xi^x(_xi_1, t, v(x, t), rho(x, t)), _xi_1), _xi_1, x) + Subs(Derivative(eta^v(_xi_1, t, v(x, t), rho(x, t)), _xi_1), _xi_1, x)"
      ]
     },
     "execution_count": 30,
     "metadata": {},
     "output_type": "execute_result"
    }
   ],
   "source": [
    "system_of_equations.model.infinitesimals[4].expand()"
   ]
  },
  {
   "cell_type": "code",
   "execution_count": 19,
   "id": "8bdfb3ba",
   "metadata": {},
   "outputs": [
    {
     "data": {
      "text/latex": [
       "$\\displaystyle - k \\frac{\\partial^{2}}{\\partial x^{2}} u{\\left(x,t \\right)} + \\frac{\\partial}{\\partial t} u{\\left(x,t \\right)}$"
      ],
      "text/plain": [
       "-k*Derivative(u(x, t), (x, 2)) + Derivative(u(x, t), t)"
      ]
     },
     "execution_count": 19,
     "metadata": {},
     "output_type": "execute_result"
    }
   ],
   "source": [
    "x, t, k = sp.symbols('x t k')\n",
    "u = sp.Function('u')(x, t)\n",
    "independent_variables = [x, t]\n",
    "dependent_variables = [u]\n",
    "constants = [k]\n",
    "F =  D(u,t) - k*D(u,x,x)\n",
    "F_rules_array = {D(u,x,x):1/k*D(u,t)}\n",
    "order = 2\n",
    "F.expand()"
   ]
  },
  {
   "cell_type": "code",
   "execution_count": 20,
   "id": "2a57b696",
   "metadata": {},
   "outputs": [],
   "source": [
    "system_of_equations = point_symmetries(F, order, F_rules_array, independent_variables, dependent_variables, constants)"
   ]
  },
  {
   "cell_type": "code",
   "execution_count": 21,
   "id": "c8eb2557",
   "metadata": {},
   "outputs": [
    {
     "data": {
      "text/latex": [
       "$\\displaystyle \\left[\\begin{matrix}0 & \\xi^{(t)}_{u u} = 0\\\\1 & \\xi^{(x)}_{u u} = 0\\\\2 & \\xi^{(t)}_{u} = 0\\\\3 & - \\eta^{(u)}_{u u} k + 2 k \\xi^{(x)}_{x u} = 0\\\\4 & 2 k \\xi^{(t)}_{x u} + 2 \\xi^{(x)}_{u} = 0\\\\5 & \\xi^{(t)}_{x} = 0\\\\6 & k \\xi^{(t)}_{x x} - \\xi^{(t)}_{t} + 2 \\xi^{(x)}_{x} = 0\\\\7 & - 2 \\eta^{(u)}_{x u} k + k \\xi^{(x)}_{x x} - \\xi^{(x)}_{t} = 0\\\\8 & \\eta^{(u)}_{t} - \\eta^{(u)}_{x x} k = 0\\end{matrix}\\right]$"
      ],
      "text/plain": [
       "Matrix([\n",
       "[0,                                 Eq(xi^(t)_u_u, 0)],\n",
       "[1,                                 Eq(xi^(x)_u_u, 0)],\n",
       "[2,                                   Eq(xi^(t)_u, 0)],\n",
       "[3,            Eq(-eta^(u)_u_u*k + 2*k*xi^(x)_x_u, 0)],\n",
       "[4,                Eq(2*k*xi^(t)_x_u + 2*xi^(x)_u, 0)],\n",
       "[5,                                   Eq(xi^(t)_x, 0)],\n",
       "[6,       Eq(k*xi^(t)_x_x - xi^(t)_t + 2*xi^(x)_x, 0)],\n",
       "[7, Eq(-2*eta^(u)_x_u*k + k*xi^(x)_x_x - xi^(x)_t, 0)],\n",
       "[8,                  Eq(eta^(u)_t - eta^(u)_x_x*k, 0)]])"
      ]
     },
     "execution_count": 21,
     "metadata": {},
     "output_type": "execute_result"
    }
   ],
   "source": [
    "system_of_equations.print_determining_equations()"
   ]
  },
  {
   "cell_type": "code",
   "execution_count": null,
   "id": "4be2b8b9",
   "metadata": {},
   "outputs": [],
   "source": [
    "a = np.array([0,0,0,0,1])"
   ]
  },
  {
   "cell_type": "code",
   "execution_count": null,
   "id": "fe7f9ad0",
   "metadata": {},
   "outputs": [
    {
     "data": {
      "text/plain": [
       "True"
      ]
     },
     "execution_count": 7,
     "metadata": {},
     "output_type": "execute_result"
    }
   ],
   "source": [
    "len(np.where(a!=0))==1"
   ]
  },
  {
   "cell_type": "code",
   "execution_count": null,
   "id": "f9b0efa3",
   "metadata": {},
   "outputs": [
    {
     "ename": "SyntaxError",
     "evalue": "invalid syntax (2066456965.py, line 3)",
     "output_type": "error",
     "traceback": [
      "\u001b[0;36m  Cell \u001b[0;32mIn [16], line 3\u001b[0;36m\u001b[0m\n\u001b[0;31m    for key in g.keys();\u001b[0m\n\u001b[0m                       ^\u001b[0m\n\u001b[0;31mSyntaxError\u001b[0m\u001b[0;31m:\u001b[0m invalid syntax\n"
     ]
    }
   ],
   "source": [
    "g = deepcopy(general_form.general_form)\n",
    "# dict(np.arange(0,len(variables), (variables)))\n",
    "# hdptm[2] -> x\n",
    "for eqn in general_form.determining_equations:\n",
    "    for infinitesimal in g.keys():\n",
    "        for variable in infinitesimal.keys():\n",
    "            infinitesimal_variable = f'{infinitesimal}{variable}'\n",
    "            general_form.determining_equations[3]\n",
    "            if len(eqn)==1 and \n"
   ]
  },
  {
   "cell_type": "markdown",
   "metadata": {},
   "source": [
    "# Fix Torres' issues so he is not mad anymore :c"
   ]
  },
  {
   "cell_type": "code",
   "execution_count": null,
   "metadata": {},
   "outputs": [],
   "source": [
    "import sympy as sp\n",
    "import numpy as np\n",
    "import re\n",
    "import ipdb\n",
    "from utils.algebra import str_eqn_to_dict_eqn"
   ]
  },
  {
   "cell_type": "code",
   "execution_count": null,
   "metadata": {},
   "outputs": [],
   "source": [
    "x = sp.symbols('x')\n",
    "y = sp.Function('y')(x)\n",
    "list_indep = [x]\n",
    "list_dep = [y]\n",
    "list_cte = []\n",
    "\n",
    "list_var = list_indep + list_dep\n",
    "list_all = list_cte + list_indep + list_dep"
   ]
  },
  {
   "cell_type": "code",
   "execution_count": null,
   "metadata": {},
   "outputs": [],
   "source": [
    "def parens(s):\n",
    "    i = s.count(')') - 1\n",
    "    groups = s[s.find('('):].split(')')\n",
    "    return (')'.join(groups[:i]) + ')')"
   ]
  },
  {
   "cell_type": "code",
   "execution_count": null,
   "metadata": {},
   "outputs": [],
   "source": [
    "def str_to_dict(f, term, arr_pow, arr_deriv, list_all, list_var):\n",
    "    if f.is_Mul:\n",
    "        for i in f.args:\n",
    "            str_to_dict(i, term, arr_pow, arr_deriv, list_all, list_var)\n",
    "    else:\n",
    "        if f.args == ():\n",
    "            if f.is_Integer:\n",
    "                term['coefficient'] = f\n",
    "            else:\n",
    "                idx = np.where(list_all == f)\n",
    "                p = 1\n",
    "                arr_pow[idx] = p\n",
    "\n",
    "        if f.is_Function:\n",
    "            idx = np.where(list_all == f)\n",
    "            p = 1\n",
    "            arr_pow[idx] = p\n",
    "            if idx[0].size == 0:\n",
    "                term['variable'] = str(f).split('(')[0]\n",
    "\n",
    "        if f.is_Pow:\n",
    "            var = f.args[0]\n",
    "            if var.is_Derivative:\n",
    "                term['variable'] = var.args[0]\n",
    "                for v in var.args[1:]:\n",
    "                    idx = np.where(list_var == v[0])\n",
    "                    arr_deriv[idx] = v[1]\n",
    "            else:\n",
    "                idx = np.where(list_all == f.args[0])\n",
    "                arr_pow[idx] = f.args[1]\n",
    "\n",
    "        if type(f) == type(sp.Subs(list_var[0],\n",
    "                                   list_var[0], list_var[0])):\n",
    "            s = str(f)\n",
    "            if s.endswith('))'):\n",
    "                if '(' in re.split(',', s)[-1]:\n",
    "                    subs = re.split(',',s)[-2].strip(' ')\n",
    "                    subs_t = re.split(',',s)[-1].strip(')').strip(' ')    # Changed\n",
    "                    subs_t = subs_t + ')'\n",
    "                else:\n",
    "                    subs = re.split(',', s)[-3].strip(' ')\n",
    "                    subs_t = re.split(',', s)[-2] + ',' + re.split(',', s)[-1]\n",
    "                    subs_t = subs_t[:-1].strip(' ')\n",
    "            else:\n",
    "                subs = re.split(',',s)[-2].strip(' ')\n",
    "                subs_t = re.split(',',s)[-1].strip(')').strip(' ')\n",
    "            if ')' in subs:\n",
    "                subs = subs.strip(')')\n",
    "            s = s.replace(subs, subs_t)\n",
    "            f = sp.sympify(parens(s).strip('('))\n",
    "            if isinstance(f, tuple):\n",
    "                f = f[0]\n",
    "\n",
    "        if f.is_Derivative:\n",
    "            term['variable'] = str(f.args[0]).split(\"(\")[0]\n",
    "            for v in f.args[1:]:\n",
    "                idx = np.where(list_var == v[0])\n",
    "                arr_deriv[idx] = v[1]\n",
    "\n",
    "    term['constants'] = list(arr_pow.astype(int))\n",
    "    term['derivatives'] = list(arr_deriv.astype(int))\n",
    "    return term\n"
   ]
  },
  {
   "cell_type": "code",
   "execution_count": null,
   "metadata": {},
   "outputs": [],
   "source": [
    "dict_det_eqn = {'Derivative(y(x),x)*Derivative(y(x),(x,2))': ['-xix(x,y(x))*y(x)',\n",
    "  '+3*y(x)^2*Derivative(xix(x,y(x)),y(x))'],\n",
    " 'Derivative(y(x),(x,4))': ['-xix(x,y(x))*y(x)'],\n",
    " 'Derivative(y(x),x)*Derivative(y(x),(x,3))': ['-2*xix(x,y(x))'],\n",
    " 'Derivative(y(x),(x,2))^2': ['-xix(x,y(x))'],\n",
    " 'Derivative(y(x),x)^2': ['+y(x)*Derivative(etay(x,y(x)),(y(x),2))',\n",
    "  '-y(x)*Subs(Derivative(xix(_xi_1,y(x)),_xi_1,y(x)),_xi_1,x)',\n",
    "  '-y(x)*Subs(Derivative(xix(x,_xi),_xi,x),_xi,y(x))'],\n",
    " 'Derivative(y(x),x)^3': ['-y(x)*Derivative(xix(x,y(x)),(y(x),2))'],\n",
    " 'Derivative(y(x),x)': ['-y(x)*Subs(Derivative(xix(_xi_1,y(x)),(_xi_1,2)),_xi_1,x)',\n",
    "  '+y(x)*Subs(Derivative(etay(_xi_1,y(x)),_xi_1,y(x)),_xi_1,x)',\n",
    "  '+y(x)*Subs(Derivative(etay(x,_xi),_xi,x),_xi,y(x))'],\n",
    " 'Derivative(y(x),(x,2))': ['-etay(x,y(x))*y(x)',\n",
    "  '-y(x)^2*Derivative(etay(x,y(x)),y(x))',\n",
    "  '+2*y(x)^2*Subs(Derivative(xix(_xi_1,y(x)),_xi_1),_xi_1,x)'],\n",
    " 'lonely_terms': ['+y(x)*Subs(Derivative(etay(_xi_1,y(x)),(_xi_1,2)),_xi_1,x)']}"
   ]
  },
  {
   "cell_type": "code",
   "execution_count": null,
   "metadata": {
    "scrolled": true
   },
   "outputs": [
    {
     "name": "stdout",
     "output_type": "stream",
     "text": [
      "Subs(Derivative(xix(_xi_1, y(x)), _xi_1, y(x)), _xi_1, x)\n",
      "Subs(Derivative(xix(x, _xi), _xi, x), _xi, y(x))\n",
      "Subs(Derivative(xix(_xi_1, y(x)), (_xi_1, 2)), _xi_1, x)\n",
      "Subs(Derivative(etay(_xi_1, y(x)), _xi_1, y(x)), _xi_1, x)\n",
      "Subs(Derivative(etay(x, _xi), _xi, x), _xi, y(x))\n",
      "Subs(Derivative(xix(_xi_1, y(x)), _xi_1), _xi_1, x)\n",
      "Subs(Derivative(etay(_xi_1, y(x)), (_xi_1, 2)), _xi_1, x)\n"
     ]
    }
   ],
   "source": [
    "det_eqn = []\n",
    "for eqn in dict_det_eqn.values():\n",
    "    aux_list = []\n",
    "    for str_term in eqn:\n",
    "        arr_pow = np.zeros(len(list_all))\n",
    "        arr_deriv = np.zeros(len(list_var))\n",
    "        term = {\"coefficient\": 1, \"constants\": None,\n",
    "                \"derivatives\": None, \"variable\": None}\n",
    "        aux_list.append(str_to_dict(sp.sympify(str_term), term, arr_pow,\n",
    "              arr_deriv, np.array(list_all), np.array(list_var)))\n",
    "    det_eqn.append(aux_list)\n",
    "keys = list(np.arange(len(det_eqn)))\n",
    "ret = dict(zip(keys, det_eqn))"
   ]
  },
  {
   "cell_type": "code",
   "execution_count": null,
   "metadata": {},
   "outputs": [
    {
     "data": {
      "text/plain": [
       "{0: [{'coefficient': -1,\n",
       "   'constants': [0, 1],\n",
       "   'derivatives': [0, 0],\n",
       "   'variable': 'xix'},\n",
       "  {'coefficient': 3,\n",
       "   'constants': [0, 2],\n",
       "   'derivatives': [0, 1],\n",
       "   'variable': 'xix'}],\n",
       " 1: [{'coefficient': -1,\n",
       "   'constants': [0, 1],\n",
       "   'derivatives': [0, 0],\n",
       "   'variable': 'xix'}],\n",
       " 2: [{'coefficient': -2,\n",
       "   'constants': [0, 0],\n",
       "   'derivatives': [0, 0],\n",
       "   'variable': 'xix'}],\n",
       " 3: [{'coefficient': -1,\n",
       "   'constants': [0, 0],\n",
       "   'derivatives': [0, 0],\n",
       "   'variable': 'xix'}],\n",
       " 4: [{'coefficient': 1,\n",
       "   'constants': [0, 1],\n",
       "   'derivatives': [0, 2],\n",
       "   'variable': 'etay'},\n",
       "  {'coefficient': -1,\n",
       "   'constants': [0, 1],\n",
       "   'derivatives': [1, 1],\n",
       "   'variable': 'xix'},\n",
       "  {'coefficient': -1,\n",
       "   'constants': [0, 1],\n",
       "   'derivatives': [1, 1],\n",
       "   'variable': 'xix'}],\n",
       " 5: [{'coefficient': -1,\n",
       "   'constants': [0, 1],\n",
       "   'derivatives': [0, 2],\n",
       "   'variable': 'xix'}],\n",
       " 6: [{'coefficient': -1,\n",
       "   'constants': [0, 1],\n",
       "   'derivatives': [2, 0],\n",
       "   'variable': 'xix'},\n",
       "  {'coefficient': 1,\n",
       "   'constants': [0, 1],\n",
       "   'derivatives': [1, 1],\n",
       "   'variable': 'etay'},\n",
       "  {'coefficient': 1,\n",
       "   'constants': [0, 1],\n",
       "   'derivatives': [1, 1],\n",
       "   'variable': 'etay'}],\n",
       " 7: [{'coefficient': -1,\n",
       "   'constants': [0, 1],\n",
       "   'derivatives': [0, 0],\n",
       "   'variable': 'etay'},\n",
       "  {'coefficient': -1,\n",
       "   'constants': [0, 2],\n",
       "   'derivatives': [0, 1],\n",
       "   'variable': 'etay'},\n",
       "  {'coefficient': 2,\n",
       "   'constants': [0, 2],\n",
       "   'derivatives': [1, 0],\n",
       "   'variable': 'xix'}],\n",
       " 8: [{'coefficient': 1,\n",
       "   'constants': [0, 1],\n",
       "   'derivatives': [2, 0],\n",
       "   'variable': 'etay'}]}"
      ]
     },
     "execution_count": 8,
     "metadata": {},
     "output_type": "execute_result"
    }
   ],
   "source": [
    "ret"
   ]
  }
 ],
 "metadata": {
  "kernelspec": {
   "display_name": "Python 3.9.13 ('lie_env')",
   "language": "python",
   "name": "python3"
  },
  "language_info": {
   "codemirror_mode": {
    "name": "ipython",
    "version": 3
   },
   "file_extension": ".py",
   "mimetype": "text/x-python",
   "name": "python",
   "nbconvert_exporter": "python",
   "pygments_lexer": "ipython3",
   "version": "3.9.13"
  },
  "vscode": {
   "interpreter": {
    "hash": "f0edfb93beaa955e245c49a5d13cbb385f9a29e21aedf72d394d91a9c331a577"
   }
  }
 },
 "nbformat": 4,
 "nbformat_minor": 5
}
