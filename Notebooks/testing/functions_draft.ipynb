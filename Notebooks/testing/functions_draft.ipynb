{
 "cells": [
  {
   "cell_type": "code",
   "execution_count": 2,
   "metadata": {},
   "outputs": [],
   "source": [
    "%load_ext autoreload\n",
    "%autoreload 2"
   ]
  },
  {
   "cell_type": "code",
   "execution_count": 3,
   "metadata": {},
   "outputs": [],
   "source": [
    "from copy import deepcopy\n",
    "\n",
    "from symmetries.analysis.lie_symmetry_analysis import point_symmetries\n",
    "from symmetries.utils.symbolic import sym_det_eqn\n",
    "\n",
    "from symmetries.objects.determining_equations import DeterminingEquations\n",
    "import sympy as sp\n",
    "from sympy import Derivative as D"
   ]
  },
  {
   "cell_type": "markdown",
   "id": "ef8f5463",
   "metadata": {},
   "source": [
    "# Function to propose a general form of the infinitesimals."
   ]
  },
  {
   "cell_type": "markdown",
   "id": "b53b0726",
   "metadata": {},
   "source": [
    "### Continuity Equation"
   ]
  },
  {
   "cell_type": "code",
   "execution_count": 4,
   "id": "2695edcd",
   "metadata": {},
   "outputs": [
    {
     "data": {
      "text/latex": [
       "$\\displaystyle f{\\left(x,y,z,t \\right)} \\frac{\\partial}{\\partial z} \\rho{\\left(x,y,z,t \\right)} + \\rho{\\left(x,y,z,t \\right)} \\frac{\\partial}{\\partial z} f{\\left(x,y,z,t \\right)} + \\frac{\\partial}{\\partial t} \\rho{\\left(x,y,z,t \\right)}$"
      ],
      "text/plain": [
       "f(x, y, z, t)*Derivative(rho(x, y, z, t), z) + rho(x, y, z, t)*Derivative(f(x, y, z, t), z) + Derivative(rho(x, y, z, t), t)"
      ]
     },
     "execution_count": 4,
     "metadata": {},
     "output_type": "execute_result"
    }
   ],
   "source": [
    "x, y, z, t = sp.symbols('x y z t')\n",
    "rho = sp.Function('rho')(x, y, z, t)\n",
    "f = sp.Function('f')(x, y, z, t)\n",
    "h = sp.Function('h')(x, y, z, t)\n",
    "B = sp.Function('B')(x, y, z, t)\n",
    "P = sp.Function('P')(x, y, z, t)\n",
    "independent_variables = [x, y, z, t]\n",
    "dependent_variables = [f, h, rho, B, P]\n",
    "constants = []\n",
    "F =  D(rho,t) + rho*D(f,z) + f*D(rho,z)\n",
    "F_rules_array = {D(rho,t):-rho*D(f,z)-f*D(rho,z)}\n",
    "# F =  rho*D(v,t) + D(P,y) + B*D(B,z)\n",
    "# F_rules_array = {D(P,y):-rho*D(v,t) - B*D(B,z)}\n",
    "# F = v*D(B,z) + B*D(h,y) + h*D(B,y) + B*D(f,x) + f*D(B,x)\n",
    "# F_rules_array = {D(B,t):-B*D(h,y) - h*D(B,y) - B*D(f,x) - f*D(B,x)}\n",
    "# F = v*D(B,z) + B*D(v,z)\n",
    "# F_rules_array = {D(B,z): B*v*D(v,z)}\n",
    "order = 1\n",
    "F.expand()"
   ]
  },
  {
   "cell_type": "code",
   "execution_count": 6,
   "id": "2cdd0a02",
   "metadata": {},
   "outputs": [
    {
     "name": "stdout",
     "output_type": "stream",
     "text": [
      "deleting xix B(x, y, z, t)\n",
      "deleting xiy B(x, y, z, t)\n",
      "deleting xix P(x, y, z, t)\n",
      "deleting xiy P(x, y, z, t)\n",
      "deleting xix h(x, y, z, t)\n",
      "deleting xiy h(x, y, z, t)\n",
      "deleting xit B(x, y, z, t)\n",
      "deleting xit P(x, y, z, t)\n",
      "deleting xit h(x, y, z, t)\n",
      "deleting xix f(x, y, z, t)\n",
      "deleting xix rho(x, y, z, t)\n",
      "deleting xiy f(x, y, z, t)\n",
      "deleting xiy rho(x, y, z, t)\n",
      "deleting xix z\n",
      "deleting xiy z\n",
      "deleting etarho B(x, y, z, t)\n",
      "deleting etarho P(x, y, z, t)\n",
      "deleting etarho h(x, y, z, t)\n",
      "found deleted variable in xit eq 0\n",
      "found deleted variable in xit eq 1\n",
      "found deleted variable in xit eq 3\n",
      "found deleted variable in xit eq 4\n",
      "found deleted variable in xit eq 5\n",
      "found deleted variable in xit eq 7\n",
      "found deleted variable in xit eq 8\n",
      "found deleted variable in xit eq 11\n",
      "found deleted variable in xix eq 15\n",
      "found deleted variable in xix eq 15\n",
      "found deleted variable in xiy eq 16\n",
      "found deleted variable in xiy eq 16\n",
      "found deleted variable in xit eq 17\n",
      "found deleted variable in etarho eq 46\n",
      "found deleted variable in etarho eq 47\n",
      "found deleted variable in etarho eq 48\n",
      "found deleted variable in xix eq 49\n",
      "found deleted variable in xiy eq 50\n",
      "deleting xiz B(x, y, z, t)\n",
      "deleting xiz P(x, y, z, t)\n",
      "deleting xiz h(x, y, z, t)\n",
      "deleting etaf B(x, y, z, t)\n",
      "deleting etaf P(x, y, z, t)\n",
      "deleting etaf h(x, y, z, t)\n",
      "deleting xix t\n",
      "deleting xiy t\n"
     ]
    }
   ],
   "source": [
    "system_of_equations = point_symmetries(F, order, F_rules_array, independent_variables, dependent_variables, constants)"
   ]
  },
  {
   "cell_type": "code",
   "execution_count": null,
   "id": "d68af35c",
   "metadata": {},
   "outputs": [
    {
     "data": {
      "text/latex": [
       "$\\displaystyle B f_{x} + B h_{y} + B_{t} + B_{x} f + B_{y} h$"
      ],
      "text/plain": [
       "B*f_x + B*h_y + B_t + B_x*f + B_y*h"
      ]
     },
     "execution_count": 50,
     "metadata": {},
     "output_type": "execute_result"
    }
   ],
   "source": [
    "system_of_equations.model.differential_equation"
   ]
  },
  {
   "cell_type": "code",
   "execution_count": 7,
   "id": "fa715543",
   "metadata": {},
   "outputs": [
    {
     "data": {
      "text/latex": [
       "$\\displaystyle \\left[\\begin{matrix}0 & \\xi^{(z)}_{B} = 0\\\\1 & \\xi^{(z)}_{P} = 0\\\\2 & \\xi^{(t)}_{f} f^{2}{\\left(x,y,z,t \\right)} - \\xi^{(t)}_{\\rho} f{\\left(x,y,z,t \\right)} \\rho{\\left(x,y,z,t \\right)} - \\xi^{(z)}_{f} f{\\left(x,y,z,t \\right)} = 0\\\\3 & \\xi^{(z)}_{h} = 0\\\\4 & \\xi^{(t)}_{f} f{\\left(x,y,z,t \\right)} \\rho{\\left(x,y,z,t \\right)} - \\xi^{(t)}_{\\rho} \\rho^{2}{\\left(x,y,z,t \\right)} - \\xi^{(z)}_{f} \\rho{\\left(x,y,z,t \\right)} = 0\\\\5 & \\xi^{(x)}_{B} = 0\\\\6 & \\xi^{(y)}_{B} = 0\\\\7 & \\xi^{(x)}_{P} = 0\\\\8 & \\xi^{(y)}_{P} = 0\\\\9 & \\xi^{(t)}_{f} f{\\left(x,y,z,t \\right)} - \\xi^{(t)}_{\\rho} \\rho{\\left(x,y,z,t \\right)} - \\xi^{(z)}_{f} = 0\\\\10 & \\xi^{(x)}_{h} = 0\\\\11 & \\xi^{(y)}_{h} = 0\\\\12 & \\xi^{(t)}_{B} = 0\\\\13 & \\xi^{(t)}_{P} = 0\\\\14 & \\xi^{(t)}_{h} = 0\\\\15 & \\xi^{(x)}_{f} = 0\\\\16 & \\xi^{(x)}_{\\rho} = 0\\\\17 & \\xi^{(y)}_{f} = 0\\\\18 & \\xi^{(y)}_{\\rho} = 0\\\\19 & \\eta^{(f)} + \\eta^{(f)}_{\\rho} \\rho{\\left(x,y,z,t \\right)} + \\xi^{(t)}_{t} f{\\left(x,y,z,t \\right)} + \\xi^{(t)}_{z} f^{2}{\\left(x,y,z,t \\right)} - \\xi^{(z)}_{t} - \\xi^{(z)}_{z} f{\\left(x,y,z,t \\right)} = 0\\\\20 & \\eta^{(\\rho)} + \\eta^{(\\rho)}_{f} f{\\left(x,y,z,t \\right)} - \\eta^{(\\rho)}_{\\rho} \\rho{\\left(x,y,z,t \\right)} + \\eta^{(f)}_{f} \\rho{\\left(x,y,z,t \\right)} + \\xi^{(t)}_{t} \\rho{\\left(x,y,z,t \\right)} + \\xi^{(t)}_{z} f{\\left(x,y,z,t \\right)} \\rho{\\left(x,y,z,t \\right)} - \\xi^{(z)}_{z} \\rho{\\left(x,y,z,t \\right)} = 0\\\\21 & \\eta^{(f)}_{B} = 0\\\\22 & \\eta^{(f)}_{P} = 0\\\\23 & \\eta^{(f)}_{h} = 0\\\\24 & \\xi^{(x)}_{t} = 0\\\\25 & \\xi^{(y)}_{t} = 0\\\\26 & \\eta^{(\\rho)}_{f} - \\xi^{(t)}_{z} \\rho{\\left(x,y,z,t \\right)} = 0\\\\27 & \\xi^{(x)}_{z} = 0\\\\28 & \\xi^{(y)}_{z} = 0\\\\29 & \\eta^{(\\rho)}_{B} = 0\\\\30 & \\eta^{(\\rho)}_{P} = 0\\\\31 & \\eta^{(\\rho)}_{h} = 0\\\\32 & \\eta^{(\\rho)}_{t} + \\eta^{(\\rho)}_{z} f{\\left(x,y,z,t \\right)} + \\eta^{(f)}_{z} \\rho{\\left(x,y,z,t \\right)} = 0\\end{matrix}\\right]$"
      ],
      "text/plain": [
       "Matrix([\n",
       "[ 0,                                                                                                                                                                                            Eq(xi^(z)_B, 0)],\n",
       "[ 1,                                                                                                                                                                                            Eq(xi^(z)_P, 0)],\n",
       "[ 2,                                                                                                       Eq(xi^(t)_f*f(x, y, z, t)**2 - xi^(t)_rho*f(x, y, z, t)*rho(x, y, z, t) - xi^(z)_f*f(x, y, z, t), 0)],\n",
       "[ 3,                                                                                                                                                                                            Eq(xi^(z)_h, 0)],\n",
       "[ 4,                                                                                                   Eq(xi^(t)_f*f(x, y, z, t)*rho(x, y, z, t) - xi^(t)_rho*rho(x, y, z, t)**2 - xi^(z)_f*rho(x, y, z, t), 0)],\n",
       "[ 5,                                                                                                                                                                                            Eq(xi^(x)_B, 0)],\n",
       "[ 6,                                                                                                                                                                                            Eq(xi^(y)_B, 0)],\n",
       "[ 7,                                                                                                                                                                                            Eq(xi^(x)_P, 0)],\n",
       "[ 8,                                                                                                                                                                                            Eq(xi^(y)_P, 0)],\n",
       "[ 9,                                                                                                                                      Eq(xi^(t)_f*f(x, y, z, t) - xi^(t)_rho*rho(x, y, z, t) - xi^(z)_f, 0)],\n",
       "[10,                                                                                                                                                                                            Eq(xi^(x)_h, 0)],\n",
       "[11,                                                                                                                                                                                            Eq(xi^(y)_h, 0)],\n",
       "[12,                                                                                                                                                                                            Eq(xi^(t)_B, 0)],\n",
       "[13,                                                                                                                                                                                            Eq(xi^(t)_P, 0)],\n",
       "[14,                                                                                                                                                                                            Eq(xi^(t)_h, 0)],\n",
       "[15,                                                                                                                                                                                            Eq(xi^(x)_f, 0)],\n",
       "[16,                                                                                                                                                                                          Eq(xi^(x)_rho, 0)],\n",
       "[17,                                                                                                                                                                                            Eq(xi^(y)_f, 0)],\n",
       "[18,                                                                                                                                                                                          Eq(xi^(y)_rho, 0)],\n",
       "[19,                                                                      Eq(eta^(f) + eta^(f)_rho*rho(x, y, z, t) + xi^(t)_t*f(x, y, z, t) + xi^(t)_z*f(x, y, z, t)**2 - xi^(z)_t - xi^(z)_z*f(x, y, z, t), 0)],\n",
       "[20, Eq(eta^(\\rho) + eta^(\\rho)_f*f(x, y, z, t) - eta^(\\rho)_rho*rho(x, y, z, t) + eta^(f)_f*rho(x, y, z, t) + xi^(t)_t*rho(x, y, z, t) + xi^(t)_z*f(x, y, z, t)*rho(x, y, z, t) - xi^(z)_z*rho(x, y, z, t), 0)],\n",
       "[21,                                                                                                                                                                                           Eq(eta^(f)_B, 0)],\n",
       "[22,                                                                                                                                                                                           Eq(eta^(f)_P, 0)],\n",
       "[23,                                                                                                                                                                                           Eq(eta^(f)_h, 0)],\n",
       "[24,                                                                                                                                                                                            Eq(xi^(x)_t, 0)],\n",
       "[25,                                                                                                                                                                                            Eq(xi^(y)_t, 0)],\n",
       "[26,                                                                                                                                                             Eq(eta^(\\rho)_f - xi^(t)_z*rho(x, y, z, t), 0)],\n",
       "[27,                                                                                                                                                                                            Eq(xi^(x)_z, 0)],\n",
       "[28,                                                                                                                                                                                            Eq(xi^(y)_z, 0)],\n",
       "[29,                                                                                                                                                                                        Eq(eta^(\\rho)_B, 0)],\n",
       "[30,                                                                                                                                                                                        Eq(eta^(\\rho)_P, 0)],\n",
       "[31,                                                                                                                                                                                        Eq(eta^(\\rho)_h, 0)],\n",
       "[32,                                                                                                                               Eq(eta^(\\rho)_t + eta^(\\rho)_z*f(x, y, z, t) + eta^(f)_z*rho(x, y, z, t), 0)]])"
      ]
     },
     "execution_count": 7,
     "metadata": {},
     "output_type": "execute_result"
    }
   ],
   "source": [
    "system_of_equations.print_determining_equations()"
   ]
  },
  {
   "cell_type": "code",
   "execution_count": null,
   "id": "ffc57ef4",
   "metadata": {},
   "outputs": [
    {
     "name": "stdout",
     "output_type": "stream",
     "text": [
      "-1B^2\\xi^{t}_{B}+1fB\\xi^{t}_{f}-1B\\xi^{x}_{f}=0\\\\\n",
      "-2B^2\\xi^{t}_{B}+1fB\\xi^{t}_{f}+1hB\\xi^{t}_{h}=0\\\\\n",
      "-1B^2\\xi^{t}_{B}+1hB\\xi^{t}_{h}-1B\\xi^{y}_{h}=0\\\\\n",
      "-1fB\\xi^{t}_{B}+1f^2\\xi^{t}_{f}-1f\\xi^{x}_{f}=0\\\\\n",
      "-1fB\\xi^{t}_{B}+1B\\xi^{x}_{B}+1fh\\xi^{t}_{h}-1h\\xi^{x}_{h}=0\\\\\n",
      "1fB\\xi^{t}_{h}-1B\\xi^{x}_{h}=0\\\\\n",
      "1fB\\xi^{t}_{h}-1B\\xi^{x}_{h}=0\\\\\n",
      "-1hB\\xi^{t}_{B}+1B\\xi^{y}_{B}+1fh\\xi^{t}_{f}-1f\\xi^{y}_{f}=0\\\\\n",
      "-1hB\\xi^{t}_{B}+1h^2\\xi^{t}_{h}-1h\\xi^{y}_{h}=0\\\\\n",
      "1hB\\xi^{t}_{f}-1B\\xi^{y}_{f}=0\\\\\n",
      "1hB\\xi^{t}_{f}-1B\\xi^{y}_{f}=0\\\\\n",
      "-1B\\xi^{t}_{B}+1f\\xi^{t}_{f}-1\\xi^{x}_{f}=0\\\\\n",
      "-1B\\xi^{y}_{B}+1fh\\xi^{t}_{f}-1h\\xi^{x}_{f}=0\\\\\n",
      "\\xi^{z}_{B}=0\\\\\n",
      "-1B\\xi^{t}_{B}+1h\\xi^{t}_{h}-1\\xi^{y}_{h}=0\\\\\n",
      "-1B\\xi^{x}_{B}+1fh\\xi^{t}_{h}-1f\\xi^{y}_{h}=0\\\\\n",
      "\\xi^{z}_{f}=0\\\\\n",
      "\\xi^{z}_{h}=0\\\\\n",
      "\\xi^{t}_{h}=0\\\\\n",
      "\\xi^{t}_{f}=0\\\\\n",
      "-1B\\xi^{x}_{f}-1B\\xi^{y}_{h}=0\\\\\n",
      "\\xi^{x}_{h}=0\\\\\n",
      "\\xi^{y}_{f}=0\\\\\n",
      "1fB\\xi^{t}_{x}+1hB\\xi^{t}_{y}-1B\\eta^{B}_{B}+1B\\eta^{f}_{f}+1B\\xi^{t}_{t}-1B\\xi^{x}_{x}+1\\eta^{B}}+1f\\eta^{B}_{f}=0\\\\\n",
      "1fB\\xi^{t}_{x}+1hB\\xi^{t}_{y}-1B\\eta^{B}_{B}+1B\\eta^{h}_{h}+1B\\xi^{t}_{t}-1B\\xi^{y}_{y}+1\\eta^{B}}+1h\\eta^{B}_{h}=0\\\\\n",
      "1B\\eta^{f}_{B}+1\\eta^{f}}+1f^2\\xi^{t}_{x}+1fh\\xi^{t}_{y}+1f\\xi^{t}_{t}-1f\\xi^{x}_{x}-1h\\xi^{x}_{y}-1\\xi^{x}_{t}=0\\\\\n",
      "1B\\eta^{h}_{B}+1\\eta^{h}}+1fh\\xi^{t}_{x}-1f\\xi^{y}_{x}+1h^2\\xi^{t}_{y}+1h\\xi^{t}_{t}-1h\\xi^{y}_{y}-1\\xi^{y}_{t}=0\\\\\n",
      "1B\\eta^{f}_{h}-1B\\xi^{x}_{y}+1f\\eta^{B}_{h}=0\\\\\n",
      "1B\\eta^{h}_{f}-1B\\xi^{y}_{x}+1h\\eta^{B}_{f}=0\\\\\n",
      "-1B\\xi^{t}_{x}+1\\eta^{B}_{f}=0\\\\\n",
      "\\xi^{z}_{x}=0\\\\\n",
      "-1B\\xi^{t}_{y}+1\\eta^{B}_{h}=0\\\\\n",
      "\\xi^{z}_{y}=0\\\\\n",
      "\\xi^{z}_{t}=0\\\\\n",
      "1B\\eta^{f}_{x}+1B\\eta^{h}_{y}+1f\\eta^{B}_{x}+1h\\eta^{B}_{y}+1\\eta^{B}_{t}=0\\\\\n",
      "\n"
     ]
    }
   ],
   "source": [
    "system_of_equations.print_latex()"
   ]
  },
  {
   "cell_type": "code",
   "execution_count": null,
   "id": "8bdfb3ba",
   "metadata": {},
   "outputs": [
    {
     "data": {
      "text/latex": [
       "$\\displaystyle - k \\frac{\\partial^{2}}{\\partial x^{2}} u{\\left(x,t \\right)} + \\frac{\\partial}{\\partial t} u{\\left(x,t \\right)}$"
      ],
      "text/plain": [
       "-k*Derivative(u(x, t), (x, 2)) + Derivative(u(x, t), t)"
      ]
     },
     "execution_count": 19,
     "metadata": {},
     "output_type": "execute_result"
    }
   ],
   "source": [
    "x, t, k = sp.symbols('x t k')\n",
    "u = sp.Function('u')(x, t)\n",
    "independent_variables = [x, t]\n",
    "dependent_variables = [u]\n",
    "constants = [k]\n",
    "F =  D(u,t) - k*D(u,x,x)\n",
    "F_rules_array = {D(u,x,x):1/k*D(u,t)}\n",
    "order = 2\n",
    "F.expand()"
   ]
  },
  {
   "cell_type": "code",
   "execution_count": null,
   "id": "2a57b696",
   "metadata": {},
   "outputs": [],
   "source": [
    "system_of_equations = point_symmetries(F, order, F_rules_array, independent_variables, dependent_variables, constants)"
   ]
  },
  {
   "cell_type": "code",
   "execution_count": null,
   "id": "c8eb2557",
   "metadata": {},
   "outputs": [
    {
     "data": {
      "text/latex": [
       "$\\displaystyle \\left[\\begin{matrix}0 & \\xi^{(t)}_{u u} = 0\\\\1 & \\xi^{(x)}_{u u} = 0\\\\2 & \\xi^{(t)}_{u} = 0\\\\3 & - \\eta^{(u)}_{u u} k + 2 k \\xi^{(x)}_{x u} = 0\\\\4 & 2 k \\xi^{(t)}_{x u} + 2 \\xi^{(x)}_{u} = 0\\\\5 & \\xi^{(t)}_{x} = 0\\\\6 & k \\xi^{(t)}_{x x} - \\xi^{(t)}_{t} + 2 \\xi^{(x)}_{x} = 0\\\\7 & - 2 \\eta^{(u)}_{x u} k + k \\xi^{(x)}_{x x} - \\xi^{(x)}_{t} = 0\\\\8 & \\eta^{(u)}_{t} - \\eta^{(u)}_{x x} k = 0\\end{matrix}\\right]$"
      ],
      "text/plain": [
       "Matrix([\n",
       "[0,                                 Eq(xi^(t)_u_u, 0)],\n",
       "[1,                                 Eq(xi^(x)_u_u, 0)],\n",
       "[2,                                   Eq(xi^(t)_u, 0)],\n",
       "[3,            Eq(-eta^(u)_u_u*k + 2*k*xi^(x)_x_u, 0)],\n",
       "[4,                Eq(2*k*xi^(t)_x_u + 2*xi^(x)_u, 0)],\n",
       "[5,                                   Eq(xi^(t)_x, 0)],\n",
       "[6,       Eq(k*xi^(t)_x_x - xi^(t)_t + 2*xi^(x)_x, 0)],\n",
       "[7, Eq(-2*eta^(u)_x_u*k + k*xi^(x)_x_x - xi^(x)_t, 0)],\n",
       "[8,                  Eq(eta^(u)_t - eta^(u)_x_x*k, 0)]])"
      ]
     },
     "execution_count": 21,
     "metadata": {},
     "output_type": "execute_result"
    }
   ],
   "source": [
    "system_of_equations.print_determining_equations()"
   ]
  }
 ],
 "metadata": {
  "kernelspec": {
   "display_name": "Python 3.9.13 ('lie_env')",
   "language": "python",
   "name": "python3"
  },
  "language_info": {
   "codemirror_mode": {
    "name": "ipython",
    "version": 3
   },
   "file_extension": ".py",
   "mimetype": "text/x-python",
   "name": "python",
   "nbconvert_exporter": "python",
   "pygments_lexer": "ipython3",
   "version": "3.9.13"
  },
  "vscode": {
   "interpreter": {
    "hash": "f0edfb93beaa955e245c49a5d13cbb385f9a29e21aedf72d394d91a9c331a577"
   }
  }
 },
 "nbformat": 4,
 "nbformat_minor": 5
}
