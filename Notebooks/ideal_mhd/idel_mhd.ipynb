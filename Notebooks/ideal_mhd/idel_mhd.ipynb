{
 "cells": [
  {
   "cell_type": "code",
   "execution_count": null,
   "metadata": {},
   "outputs": [],
   "source": [
    "import sympy as sp\n",
    "from sympy import Derivative as D"
   ]
  },
  {
   "cell_type": "code",
   "execution_count": null,
   "metadata": {},
   "outputs": [],
   "source": [
    "import sys\n",
    "sys.path.append('/Users/carlalopez/Documents/Lie_Symmetry_Analysis_Agorithm/src') "
   ]
  },
  {
   "cell_type": "code",
   "execution_count": null,
   "metadata": {},
   "outputs": [],
   "source": [
    "from symmetries.analysis.lie_symmetry_analysis import point_symmetries"
   ]
  },
  {
   "attachments": {},
   "cell_type": "markdown",
   "metadata": {},
   "source": [
    "# Ideal MHD"
   ]
  },
  {
   "cell_type": "code",
   "execution_count": null,
   "metadata": {},
   "outputs": [],
   "source": [
    "x, y, z, t = sp.symbols('x y z t') # independent variables\n",
    "gamma = sp.symbols('gamma') # scalar, constant"
   ]
  },
  {
   "attachments": {},
   "cell_type": "markdown",
   "metadata": {},
   "source": [
    "Variables should have only single letter names or risk being confused with derivatives"
   ]
  },
  {
   "cell_type": "code",
   "execution_count": null,
   "metadata": {},
   "outputs": [],
   "source": [
    "s = sp.Function('s')(x, y, z, t) # vector, variable, v_x\n",
    "i = sp.Function('i')(x, y, z, t) # vector, variable, v_y\n",
    "# only transversal coordinates\n",
    "\n",
    "b = sp.Function('b')(x, y, z, t) # vector, variable\n",
    "p = sp.Function('p')(x, y, z, t) # scalar, variable\n",
    "r = sp.Function('rho')(x, y, z, t) # scalar, variable"
   ]
  },
  {
   "cell_type": "code",
   "execution_count": null,
   "metadata": {},
   "outputs": [],
   "source": [
    "independent_variables = [x, y, z, t]\n",
    "dependent_variables = [z, s, i, b, p, r]\n",
    "constants = [gamma]"
   ]
  },
  {
   "attachments": {},
   "cell_type": "markdown",
   "metadata": {},
   "source": [
    "Equation 1"
   ]
  },
  {
   "cell_type": "code",
   "execution_count": null,
   "metadata": {},
   "outputs": [],
   "source": [
    "F_1 = D(r, t) + r*D(s, x) + r*D(i, y)\n",
    "F_1_rules_array = {D(r, t): -r*D(s, x) - r*D(i, y)}\n",
    "F_1.expand()"
   ]
  },
  {
   "attachments": {},
   "cell_type": "markdown",
   "metadata": {},
   "source": [
    "Equation 2"
   ]
  },
  {
   "cell_type": "code",
   "execution_count": null,
   "metadata": {},
   "outputs": [],
   "source": [
    "F_2_x = r*D(s, t) + D(p, x) + (D(b, x)*b)\n",
    "F_2_x_rules_array = {r*D(s, t) : -D(p, x) - (D(b, x)*b)}\n",
    "\n",
    "F_2_y = r*D(i, t) + D(p, y) + (D(b, y)*b)\n",
    "F_2_y_rules_array = {r*D(i, t) : -D(p, y) - (D(b, y)*b)}"
   ]
  },
  {
   "attachments": {},
   "cell_type": "markdown",
   "metadata": {},
   "source": [
    "Equation 3"
   ]
  },
  {
   "cell_type": "code",
   "execution_count": null,
   "metadata": {},
   "outputs": [],
   "source": [
    "# F_3_x = D(s*B, z)\n",
    "F_3_x_rules_array = {D(s*b, z):0}\n",
    "# F_3_y = D(i*B, z)\n",
    "F_3_y_rules_array = {D(i*b, z):0}\n",
    "\n",
    "F_3_z = -D(b, t) - D(s*b, x) - D(i*b, y)\n",
    "F_3_z_rules_array = {D(b, t) : - D(s*b, x) - D(i*b, y)}"
   ]
  },
  {
   "cell_type": "code",
   "execution_count": null,
   "metadata": {},
   "outputs": [],
   "source": [
    "order =  1 # should be a list, or maximum order of derivative in the system\n",
    "F = [F_1, F_2_x, F_2_y, F_3_z]\n",
    "F_rules_array = [\n",
    "    F_1_rules_array,\n",
    "    F_2_x_rules_array,\n",
    "    F_2_y_rules_array,\n",
    "    F_3_x_rules_array,\n",
    "    F_3_y_rules_array,\n",
    "    F_3_z_rules_array,\n",
    "]"
   ]
  },
  {
   "cell_type": "code",
   "execution_count": null,
   "metadata": {},
   "outputs": [],
   "source": [
    "system_of_equations = point_symmetries(\n",
    "    F,\n",
    "    order,\n",
    "    F_rules_array,\n",
    "    independent_variables,\n",
    "    dependent_variables,\n",
    "    constants\n",
    ")"
   ]
  },
  {
   "cell_type": "code",
   "execution_count": null,
   "metadata": {},
   "outputs": [],
   "source": [
    "system_of_equations.print_determining_equations()"
   ]
  }
 ],
 "metadata": {
  "kernelspec": {
   "display_name": "lie_pr",
   "language": "python",
   "name": "python3"
  },
  "language_info": {
   "codemirror_mode": {
    "name": "ipython",
    "version": 3
   },
   "file_extension": ".py",
   "mimetype": "text/x-python",
   "name": "python",
   "nbconvert_exporter": "python",
   "pygments_lexer": "ipython3",
   "version": "3.9.15"
  },
  "orig_nbformat": 4
 },
 "nbformat": 4,
 "nbformat_minor": 2
}
