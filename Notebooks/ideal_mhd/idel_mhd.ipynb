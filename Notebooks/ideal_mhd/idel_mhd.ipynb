{
 "cells": [
  {
   "cell_type": "code",
   "execution_count": 1,
   "metadata": {},
   "outputs": [],
   "source": [
    "import sympy as sp\n",
    "from sympy import Derivative as D"
   ]
  },
  {
   "cell_type": "code",
   "execution_count": 2,
   "metadata": {},
   "outputs": [],
   "source": [
    "import sys\n",
    "sys.path.append('/Users/carlalopez/Documents/Lie_Symmetry_Analysis_Agorithm/src') "
   ]
  },
  {
   "cell_type": "code",
   "execution_count": 3,
   "metadata": {},
   "outputs": [],
   "source": [
    "from symmetries.analysis.lie_symmetry_analysis import point_symmetries"
   ]
  },
  {
   "attachments": {},
   "cell_type": "markdown",
   "metadata": {},
   "source": [
    "# Ideal MHD"
   ]
  },
  {
   "cell_type": "code",
   "execution_count": 4,
   "metadata": {},
   "outputs": [],
   "source": [
    "x, y, z, t = sp.symbols('x y z t') # independent variables\n",
    "gamma = sp.symbols('gamma') # scalar, constant"
   ]
  },
  {
   "attachments": {},
   "cell_type": "markdown",
   "metadata": {},
   "source": [
    "Variables should have only single letter names or risk being confused with derivatives"
   ]
  },
  {
   "cell_type": "code",
   "execution_count": 5,
   "metadata": {},
   "outputs": [],
   "source": [
    "s = sp.Function('s')(x, y, z, t) # vector, variable, v_x\n",
    "j = sp.Function('j')(x, y, z, t) # vector, variable, v_y\n",
    "# only transversal coordinates\n",
    "\n",
    "b = sp.Function('b')(x, y, z, t) # vector, variable\n",
    "p = sp.Function('p')(x, y, z, t) # scalar, variable\n",
    "r = sp.Function('rho')(x, y, z, t) # scalar, variable"
   ]
  },
  {
   "cell_type": "code",
   "execution_count": 6,
   "metadata": {},
   "outputs": [],
   "source": [
    "independent_variables = [x, y, z, t]\n",
    "dependent_variables = [s, j, b, p, r]\n",
    "constants = [gamma]"
   ]
  },
  {
   "attachments": {},
   "cell_type": "markdown",
   "metadata": {},
   "source": [
    "Equation 1"
   ]
  },
  {
   "cell_type": "code",
   "execution_count": 10,
   "metadata": {},
   "outputs": [
    {
     "data": {
      "text/latex": [
       "$\\displaystyle j{\\left(x,y,z,t \\right)} \\frac{\\partial}{\\partial y} \\rho{\\left(x,y,z,t \\right)} + \\rho{\\left(x,y,z,t \\right)} \\frac{\\partial}{\\partial y} j{\\left(x,y,z,t \\right)} + \\rho{\\left(x,y,z,t \\right)} \\frac{\\partial}{\\partial x} s{\\left(x,y,z,t \\right)} + s{\\left(x,y,z,t \\right)} \\frac{\\partial}{\\partial x} \\rho{\\left(x,y,z,t \\right)} + \\frac{\\partial}{\\partial t} \\rho{\\left(x,y,z,t \\right)}$"
      ],
      "text/plain": [
       "j(x, y, z, t)*Derivative(rho(x, y, z, t), y) + rho(x, y, z, t)*Derivative(j(x, y, z, t), y) + rho(x, y, z, t)*Derivative(s(x, y, z, t), x) + s(x, y, z, t)*Derivative(rho(x, y, z, t), x) + Derivative(rho(x, y, z, t), t)"
      ]
     },
     "execution_count": 10,
     "metadata": {},
     "output_type": "execute_result"
    }
   ],
   "source": [
    "F_1 = D(r, t) + r*D(s, x) + s*D(r, x) + r*D(j, y) + j*D(r, y)\n",
    "F_1_rules_array = {D(r, t): -r*D(s, x) - s*D(r, x) - r*D(j, y) - j*D(r, y)}\n",
    "F_1.expand()"
   ]
  },
  {
   "attachments": {},
   "cell_type": "markdown",
   "metadata": {},
   "source": [
    "Equation 2"
   ]
  },
  {
   "cell_type": "code",
   "execution_count": 12,
   "metadata": {},
   "outputs": [],
   "source": [
    "F_2_x = r*D(s, t) + D(p, x) + D(b, x)*b\n",
    "F_2_x_rules_array = {r*D(s, t) : -D(p, x) - D(b, x)*b}\n",
    "\n",
    "F_2_y = r*D(j, t) + D(p, y) + D(b, y)*b\n",
    "F_2_y_rules_array = {r*D(j, t) : -D(p, y) - (D(b, y)*b)}\n",
    "\n",
    "# F_2_z = D(p,z)\n",
    "F_2_z_rules_array = {D(p,z):0}"
   ]
  },
  {
   "attachments": {},
   "cell_type": "markdown",
   "metadata": {},
   "source": [
    "Equation 3"
   ]
  },
  {
   "cell_type": "code",
   "execution_count": 13,
   "metadata": {},
   "outputs": [],
   "source": [
    "F_3_x = s*D(b, z) + b*D(s,z)\n",
    "F_3_x_rules_array = {s*D(b, z) : -b*D(s,z)}\n",
    "\n",
    "F_3_y = j*D(b, z) + b*D(j, z)\n",
    "F_3_y_rules_array = {j*D(b, z) : -b*D(j, z)}\n",
    "\n",
    "F_3_z = -D(b, t) - s*D(b, x) - b*D(s, x) - j*D(b, y) - b*D(j, y)\n",
    "F_3_z_rules_array = {D(b, t) - s*D(b, x) - b*D(s, x) - j*D(b, y) - b*D(j, y)}"
   ]
  },
  {
   "cell_type": "code",
   "execution_count": 14,
   "metadata": {},
   "outputs": [],
   "source": [
    "order =  1 # should be a list, or maximum order of derivative in the system\n",
    "F = [F_1, F_2_x, F_2_y, F_3_z]\n",
    "F_rules_array = [\n",
    "    F_1_rules_array,\n",
    "    F_2_x_rules_array,\n",
    "    F_2_y_rules_array,\n",
    "    F_3_x_rules_array,\n",
    "    F_3_y_rules_array,\n",
    "    F_3_z_rules_array,\n",
    "]"
   ]
  },
  {
   "cell_type": "code",
   "execution_count": 15,
   "metadata": {},
   "outputs": [
    {
     "name": "stderr",
     "output_type": "stream",
     "text": [
      "WARNING:root:Calculating infinitesimals\n",
      "WARNING:root:Calculating higher infinitesimals\n",
      "WARNING:root:Performing variable relabeling\n",
      "WARNING:root:Performing get_common_factors\n",
      "WARNING:root:Performing get_determining_equations\n",
      "WARNING:root:Performing encode_determining_equations\n",
      "WARNING:root:Performing simplify_iteratively\n"
     ]
    },
    {
     "name": "stdout",
     "output_type": "stream",
     "text": [
      "deleting xiz b(x, y, z, t)\n",
      "deleting xiz p(x, y, z, t)\n",
      "deleting xiz s(x, y, z, t)\n",
      "deleting xit j(x, y, z, t)\n",
      "deleting xix j(x, y, z, t)\n",
      "deleting xiz j(x, y, z, t)\n",
      "deleting xit p(x, y, z, t)\n",
      "deleting xit rho(x, y, z, t)\n",
      "deleting xit s(x, y, z, t)\n",
      "deleting xix p(x, y, z, t)\n",
      "deleting xix rho(x, y, z, t)\n",
      "deleting xiy p(x, y, z, t)\n",
      "deleting xiy rho(x, y, z, t)\n",
      "deleting xiy s(x, y, z, t)\n",
      "deleting xiz rho(x, y, z, t)\n",
      "deleting xit b(x, y, z, t)\n",
      "found deleted variable in xit eq 0\n",
      "found deleted variable in xit eq 0\n",
      "found deleted variable in xit eq 1\n",
      "found deleted variable in xit eq 1\n",
      "found deleted variable in xit eq 2\n",
      "found deleted variable in xit eq 2\n",
      "found deleted variable in xit eq 3\n",
      "found deleted variable in xit eq 3\n",
      "found deleted variable in xit eq 3\n",
      "found deleted variable in xit eq 4\n",
      "found deleted variable in xit eq 4\n",
      "found deleted variable in xit eq 5\n",
      "found deleted variable in xit eq 5\n",
      "found deleted variable in xit eq 6\n",
      "found deleted variable in xit eq 6\n",
      "found deleted variable in xit eq 6\n",
      "found deleted variable in xit eq 7\n",
      "found deleted variable in xit eq 7\n",
      "found deleted variable in xit eq 7\n",
      "found deleted variable in xit eq 8\n",
      "found deleted variable in xit eq 8\n",
      "found deleted variable in xit eq 8\n",
      "found deleted variable in xit eq 9\n",
      "found deleted variable in xit eq 9\n",
      "found deleted variable in xiz eq 12\n",
      "found deleted variable in xiz eq 12\n",
      "found deleted variable in xix eq 13\n",
      "found deleted variable in xix eq 13\n",
      "found deleted variable in xix eq 14\n",
      "found deleted variable in xix eq 14\n",
      "found deleted variable in xit eq 14\n",
      "found deleted variable in xix eq 15\n",
      "found deleted variable in xix eq 15\n",
      "found deleted variable in xix eq 16\n",
      "found deleted variable in xix eq 16\n",
      "found deleted variable in xix eq 17\n",
      "found deleted variable in xit eq 17\n",
      "found deleted variable in xix eq 17\n",
      "found deleted variable in xix eq 18\n",
      "found deleted variable in xit eq 18\n",
      "found deleted variable in xix eq 18\n",
      "found deleted variable in xit eq 19\n",
      "found deleted variable in xit eq 19\n",
      "found deleted variable in xit eq 20\n",
      "found deleted variable in xiz eq 22\n",
      "found deleted variable in xiz eq 22\n",
      "found deleted variable in xiz eq 24\n",
      "found deleted variable in xiz eq 24\n",
      "found deleted variable in xit eq 25\n",
      "found deleted variable in xit eq 25\n",
      "found deleted variable in xit eq 27\n",
      "found deleted variable in xiz eq 28\n",
      "found deleted variable in xiz eq 28\n",
      "found deleted variable in xiy eq 29\n",
      "found deleted variable in xiy eq 29\n",
      "found deleted variable in xiy eq 30\n",
      "found deleted variable in xiy eq 30\n",
      "found deleted variable in xiy eq 31\n",
      "found deleted variable in xit eq 31\n",
      "found deleted variable in xiy eq 31\n",
      "found deleted variable in xiy eq 32\n",
      "found deleted variable in xit eq 32\n",
      "found deleted variable in xiy eq 32\n",
      "found deleted variable in xiy eq 33\n",
      "found deleted variable in xit eq 33\n",
      "found deleted variable in xiy eq 33\n",
      "found deleted variable in xiy eq 34\n",
      "found deleted variable in xiy eq 34\n",
      "found deleted variable in xiz eq 35\n",
      "found deleted variable in xiz eq 35\n",
      "found deleted variable in xiz eq 36\n",
      "found deleted variable in xiz eq 36\n",
      "found deleted variable in xiz eq 37\n",
      "found deleted variable in xiz eq 37\n",
      "found deleted variable in xiz eq 38\n",
      "found deleted variable in xiz eq 38\n",
      "found deleted variable in xiz eq 39\n",
      "found deleted variable in xiz eq 39\n",
      "found deleted variable in xiz eq 40\n",
      "found deleted variable in xiz eq 40\n",
      "found deleted variable in xiz eq 41\n",
      "found deleted variable in xiz eq 41\n",
      "found deleted variable in xiz eq 42\n",
      "found deleted variable in xiz eq 42\n",
      "found deleted variable in xit eq 43\n",
      "found deleted variable in xit eq 44\n",
      "found deleted variable in xit eq 44\n",
      "found deleted variable in xit eq 45\n",
      "found deleted variable in xit eq 45\n",
      "found deleted variable in xit eq 45\n",
      "found deleted variable in xit eq 46\n",
      "found deleted variable in xit eq 46\n",
      "found deleted variable in xix eq 47\n",
      "found deleted variable in xit eq 47\n",
      "found deleted variable in xix eq 47\n",
      "found deleted variable in xix eq 48\n",
      "found deleted variable in xix eq 48\n",
      "found deleted variable in xix eq 49\n",
      "found deleted variable in xit eq 49\n",
      "found deleted variable in xix eq 49\n",
      "found deleted variable in xit eq 50\n",
      "found deleted variable in xit eq 50\n",
      "found deleted variable in xix eq 51\n",
      "found deleted variable in xit eq 51\n",
      "found deleted variable in xix eq 51\n",
      "found deleted variable in xiz eq 53\n",
      "found deleted variable in xiz eq 53\n",
      "found deleted variable in xit eq 54\n",
      "found deleted variable in xit eq 54\n",
      "found deleted variable in xiz eq 55\n",
      "found deleted variable in xiz eq 55\n",
      "found deleted variable in xiy eq 56\n",
      "found deleted variable in xit eq 56\n",
      "found deleted variable in xiy eq 56\n",
      "found deleted variable in xiy eq 57\n",
      "found deleted variable in xit eq 57\n",
      "found deleted variable in xit eq 57\n",
      "found deleted variable in xiy eq 58\n",
      "found deleted variable in xit eq 58\n",
      "found deleted variable in xiy eq 58\n",
      "found deleted variable in xiz eq 59\n",
      "found deleted variable in xiz eq 59\n",
      "found deleted variable in xiz eq 60\n",
      "found deleted variable in xiz eq 60\n",
      "found deleted variable in xiz eq 61\n",
      "found deleted variable in xiz eq 61\n",
      "found deleted variable in xit eq 62\n",
      "found deleted variable in xit eq 62\n",
      "found deleted variable in xix eq 63\n",
      "found deleted variable in xit eq 63\n",
      "found deleted variable in xix eq 63\n",
      "found deleted variable in xiy eq 64\n",
      "found deleted variable in xiy eq 64\n",
      "found deleted variable in xiz eq 65\n",
      "found deleted variable in xiz eq 65\n",
      "found deleted variable in xit eq 66\n",
      "found deleted variable in xit eq 66\n",
      "found deleted variable in xit eq 66\n",
      "found deleted variable in xix eq 67\n",
      "found deleted variable in xit eq 67\n",
      "found deleted variable in xit eq 67\n",
      "found deleted variable in xiy eq 68\n",
      "found deleted variable in xit eq 68\n",
      "found deleted variable in xiy eq 68\n",
      "found deleted variable in xiz eq 69\n",
      "found deleted variable in xiz eq 69\n",
      "found deleted variable in xit eq 70\n",
      "found deleted variable in xit eq 71\n",
      "found deleted variable in xit eq 71\n",
      "found deleted variable in xiy eq 72\n",
      "found deleted variable in xit eq 72\n",
      "found deleted variable in xiy eq 72\n",
      "found deleted variable in xiz eq 73\n",
      "found deleted variable in xiz eq 73\n",
      "found deleted variable in xit eq 74\n",
      "found deleted variable in xiy eq 74\n",
      "found deleted variable in xiy eq 74\n",
      "found deleted variable in xit eq 75\n",
      "found deleted variable in xiy eq 75\n",
      "found deleted variable in xit eq 76\n",
      "found deleted variable in xit eq 76\n",
      "found deleted variable in xit eq 76\n",
      "found deleted variable in xit eq 77\n",
      "found deleted variable in xiy eq 77\n",
      "found deleted variable in xit eq 78\n",
      "found deleted variable in xit eq 78\n",
      "found deleted variable in xiy eq 78\n",
      "found deleted variable in xiy eq 78\n",
      "found deleted variable in xit eq 79\n",
      "found deleted variable in xix eq 79\n",
      "found deleted variable in xit eq 79\n",
      "found deleted variable in xix eq 79\n",
      "found deleted variable in xit eq 80\n",
      "found deleted variable in xiy eq 80\n",
      "found deleted variable in xix eq 80\n",
      "found deleted variable in xit eq 81\n",
      "found deleted variable in xix eq 81\n",
      "found deleted variable in xiy eq 81\n",
      "found deleted variable in xiz eq 83\n",
      "found deleted variable in xiz eq 83\n",
      "found deleted variable in xit eq 84\n",
      "found deleted variable in xit eq 84\n",
      "found deleted variable in xiy eq 84\n",
      "found deleted variable in xit eq 86\n",
      "found deleted variable in xiy eq 86\n",
      "found deleted variable in xit eq 88\n",
      "found deleted variable in xix eq 88\n",
      "found deleted variable in xit eq 89\n",
      "found deleted variable in xit eq 89\n",
      "found deleted variable in xit eq 91\n",
      "found deleted variable in xit eq 91\n",
      "deleting xix b(x, y, z, t)\n",
      "deleting xiy b(x, y, z, t)\n",
      "deleting xix s(x, y, z, t)\n",
      "deleting xiy j(x, y, z, t)\n"
     ]
    }
   ],
   "source": [
    "system_of_equations = point_symmetries(\n",
    "    F,\n",
    "    order,\n",
    "    F_rules_array,\n",
    "    independent_variables,\n",
    "    dependent_variables,\n",
    "    constants\n",
    ")"
   ]
  },
  {
   "attachments": {},
   "cell_type": "markdown",
   "metadata": {},
   "source": [
    "s =  v_x, \n",
    "j =  v_y"
   ]
  },
  {
   "cell_type": "code",
   "execution_count": 16,
   "metadata": {},
   "outputs": [
    {
     "data": {
      "text/latex": [
       "$\\displaystyle \\left[\\begin{matrix}0 & \\xi^{(x)}_{b} = 0\\\\1 & \\xi^{(y)}_{b} = 0\\\\2 & \\xi^{(x)}_{s} = 0\\\\3 & \\xi^{(y)}_{j} = 0\\\\4 & \\xi^{(z)}_{b} = 0\\\\5 & \\xi^{(z)}_{p} = 0\\\\6 & \\xi^{(z)}_{s} = 0\\\\7 & \\xi^{(t)}_{j} = 0\\\\8 & \\xi^{(x)}_{j} = 0\\\\9 & \\xi^{(z)}_{j} = 0\\\\10 & \\xi^{(t)}_{p} = 0\\\\11 & \\xi^{(t)}_{\\rho} = 0\\\\12 & \\xi^{(t)}_{s} = 0\\\\13 & \\xi^{(x)}_{p} = 0\\\\14 & \\xi^{(x)}_{\\rho} = 0\\\\15 & \\xi^{(y)}_{p} = 0\\\\16 & \\xi^{(y)}_{\\rho} = 0\\\\17 & \\xi^{(y)}_{s} = 0\\\\18 & \\xi^{(z)}_{\\rho} = 0\\\\19 & \\xi^{(t)}_{b} = 0\\\\20 & \\eta^{(\\rho)}_{b} - \\eta^{(b)}_{b} + \\eta^{(j)}_{b} \\rho{\\left(x,y,z,t \\right)} + \\eta^{(s)}_{b} \\rho{\\left(x,y,z,t \\right)} + \\xi^{(t)}_{t} - \\xi^{(t)}_{x} b{\\left(x,y,z,t \\right)} + \\xi^{(t)}_{x} s{\\left(x,y,z,t \\right)} - \\xi^{(t)}_{y} b{\\left(x,y,z,t \\right)} + \\xi^{(t)}_{y} j{\\left(x,y,z,t \\right)} = 0\\\\21 & \\eta^{(\\rho)}_{b} s{\\left(x,y,z,t \\right)} + \\eta^{(b)} + \\eta^{(b)}_{b} b{\\left(x,y,z,t \\right)} - \\eta^{(b)}_{b} s{\\left(x,y,z,t \\right)} + \\eta^{(p)}_{b} - \\eta^{(s)} - \\eta^{(s)}_{b} b{\\left(x,y,z,t \\right)} + \\eta^{(s)}_{b} \\rho{\\left(x,y,z,t \\right)} + \\xi^{(x)}_{t} - \\xi^{(x)}_{x} b{\\left(x,y,z,t \\right)} + \\xi^{(x)}_{x} s{\\left(x,y,z,t \\right)} - \\xi^{(x)}_{y} b{\\left(x,y,z,t \\right)} + \\xi^{(x)}_{y} j{\\left(x,y,z,t \\right)} = 0\\\\22 & \\eta^{(\\rho)}_{b} j{\\left(x,y,z,t \\right)} + \\eta^{(b)} + \\eta^{(b)}_{b} b{\\left(x,y,z,t \\right)} - \\eta^{(b)}_{b} j{\\left(x,y,z,t \\right)} - \\eta^{(j)} - \\eta^{(j)}_{b} b{\\left(x,y,z,t \\right)} + \\eta^{(j)}_{b} \\rho{\\left(x,y,z,t \\right)} + \\eta^{(p)}_{b} + \\xi^{(y)}_{t} - \\xi^{(y)}_{x} b{\\left(x,y,z,t \\right)} + \\xi^{(y)}_{x} s{\\left(x,y,z,t \\right)} - \\xi^{(y)}_{y} b{\\left(x,y,z,t \\right)} + \\xi^{(y)}_{y} j{\\left(x,y,z,t \\right)} = 0\\\\23 & \\xi^{(z)}_{t} - \\xi^{(z)}_{x} b{\\left(x,y,z,t \\right)} + \\xi^{(z)}_{x} s{\\left(x,y,z,t \\right)} - \\xi^{(z)}_{y} b{\\left(x,y,z,t \\right)} + \\xi^{(z)}_{y} j{\\left(x,y,z,t \\right)} = 0\\\\24 & \\eta^{(\\rho)}_{j} s{\\left(x,y,z,t \\right)} + \\eta^{(b)}_{j} b{\\left(x,y,z,t \\right)} - \\eta^{(b)}_{j} s{\\left(x,y,z,t \\right)} + \\eta^{(p)}_{j} - \\eta^{(s)}_{j} b{\\left(x,y,z,t \\right)} + \\eta^{(s)}_{j} \\rho{\\left(x,y,z,t \\right)} - \\xi^{(x)}_{t} \\rho{\\left(x,y,z,t \\right)} + \\xi^{(x)}_{y} b{\\left(x,y,z,t \\right)} - \\xi^{(x)}_{y} \\rho{\\left(x,y,z,t \\right)} = 0\\\\25 & \\eta^{(\\rho)} + \\eta^{(\\rho)}_{j} j{\\left(x,y,z,t \\right)} - \\eta^{(\\rho)}_{\\rho} \\rho{\\left(x,y,z,t \\right)} - \\eta^{(b)} + \\eta^{(b)}_{j} b{\\left(x,y,z,t \\right)} - \\eta^{(b)}_{j} j{\\left(x,y,z,t \\right)} - \\eta^{(j)}_{j} b{\\left(x,y,z,t \\right)} + \\eta^{(j)}_{j} \\rho{\\left(x,y,z,t \\right)} + \\eta^{(p)}_{j} + \\xi^{(t)}_{t} \\rho{\\left(x,y,z,t \\right)} + \\xi^{(t)}_{x} \\rho{\\left(x,y,z,t \\right)} s{\\left(x,y,z,t \\right)} + \\xi^{(t)}_{y} j{\\left(x,y,z,t \\right)} \\rho{\\left(x,y,z,t \\right)} - \\xi^{(y)}_{t} \\rho{\\left(x,y,z,t \\right)} + \\xi^{(y)}_{y} b{\\left(x,y,z,t \\right)} - \\xi^{(y)}_{y} \\rho{\\left(x,y,z,t \\right)} = 0\\\\26 & \\eta^{(\\rho)}_{p} s{\\left(x,y,z,t \\right)} + \\eta^{(b)}_{p} b{\\left(x,y,z,t \\right)} - \\eta^{(b)}_{p} s{\\left(x,y,z,t \\right)} + \\eta^{(p)}_{p} - \\eta^{(s)}_{p} b{\\left(x,y,z,t \\right)} + \\eta^{(s)}_{p} \\rho{\\left(x,y,z,t \\right)} - \\xi^{(x)}_{x} - \\xi^{(x)}_{y} = 0\\\\27 & \\eta^{(\\rho)}_{p} j{\\left(x,y,z,t \\right)} + \\eta^{(b)}_{p} b{\\left(x,y,z,t \\right)} - \\eta^{(b)}_{p} j{\\left(x,y,z,t \\right)} - \\eta^{(j)}_{p} b{\\left(x,y,z,t \\right)} + \\eta^{(j)}_{p} \\rho{\\left(x,y,z,t \\right)} + \\eta^{(p)}_{p} - \\xi^{(y)}_{x} - \\xi^{(y)}_{y} = 0\\\\28 & \\eta^{(b)}_{\\rho} b{\\left(x,y,z,t \\right)} - \\eta^{(b)}_{\\rho} s{\\left(x,y,z,t \\right)} + \\eta^{(p)}_{\\rho} + \\eta^{(s)} - \\eta^{(s)}_{\\rho} b{\\left(x,y,z,t \\right)} + \\eta^{(s)}_{\\rho} \\rho{\\left(x,y,z,t \\right)} + \\xi^{(t)}_{t} s{\\left(x,y,z,t \\right)} + \\xi^{(t)}_{x} s^{2}{\\left(x,y,z,t \\right)} + \\xi^{(t)}_{y} j{\\left(x,y,z,t \\right)} s{\\left(x,y,z,t \\right)} - \\xi^{(x)}_{t} - \\xi^{(x)}_{x} s{\\left(x,y,z,t \\right)} - \\xi^{(x)}_{y} j{\\left(x,y,z,t \\right)} = 0\\\\29 & \\eta^{(b)}_{\\rho} b{\\left(x,y,z,t \\right)} - \\eta^{(b)}_{\\rho} j{\\left(x,y,z,t \\right)} + \\eta^{(j)} - \\eta^{(j)}_{\\rho} b{\\left(x,y,z,t \\right)} + \\eta^{(j)}_{\\rho} \\rho{\\left(x,y,z,t \\right)} + \\eta^{(p)}_{\\rho} + \\xi^{(t)}_{t} j{\\left(x,y,z,t \\right)} + \\xi^{(t)}_{x} j{\\left(x,y,z,t \\right)} s{\\left(x,y,z,t \\right)} + \\xi^{(t)}_{y} j^{2}{\\left(x,y,z,t \\right)} - \\xi^{(y)}_{t} - \\xi^{(y)}_{x} s{\\left(x,y,z,t \\right)} - \\xi^{(y)}_{y} j{\\left(x,y,z,t \\right)} = 0\\\\30 & \\eta^{(\\rho)} - \\eta^{(\\rho)}_{\\rho} \\rho{\\left(x,y,z,t \\right)} + \\eta^{(\\rho)}_{s} s{\\left(x,y,z,t \\right)} - \\eta^{(b)} + \\eta^{(b)}_{s} b{\\left(x,y,z,t \\right)} - \\eta^{(b)}_{s} s{\\left(x,y,z,t \\right)} + \\eta^{(p)}_{s} - \\eta^{(s)}_{s} b{\\left(x,y,z,t \\right)} + \\eta^{(s)}_{s} \\rho{\\left(x,y,z,t \\right)} + \\xi^{(t)}_{t} \\rho{\\left(x,y,z,t \\right)} + \\xi^{(t)}_{x} \\rho{\\left(x,y,z,t \\right)} s{\\left(x,y,z,t \\right)} + \\xi^{(t)}_{y} j{\\left(x,y,z,t \\right)} \\rho{\\left(x,y,z,t \\right)} - \\xi^{(x)}_{t} \\rho{\\left(x,y,z,t \\right)} + \\xi^{(x)}_{x} b{\\left(x,y,z,t \\right)} - \\xi^{(x)}_{x} \\rho{\\left(x,y,z,t \\right)} = 0\\\\31 & \\eta^{(\\rho)}_{s} j{\\left(x,y,z,t \\right)} + \\eta^{(b)}_{s} b{\\left(x,y,z,t \\right)} - \\eta^{(b)}_{s} j{\\left(x,y,z,t \\right)} - \\eta^{(j)}_{s} b{\\left(x,y,z,t \\right)} + \\eta^{(j)}_{s} \\rho{\\left(x,y,z,t \\right)} + \\eta^{(p)}_{s} - \\xi^{(y)}_{t} \\rho{\\left(x,y,z,t \\right)} + \\xi^{(y)}_{x} b{\\left(x,y,z,t \\right)} - \\xi^{(y)}_{x} \\rho{\\left(x,y,z,t \\right)} = 0\\\\32 & \\eta^{(\\rho)} + \\eta^{(\\rho)}_{j} - \\eta^{(b)}_{j} + \\eta^{(j)}_{j} \\rho{\\left(x,y,z,t \\right)} + \\eta^{(s)}_{j} \\rho{\\left(x,y,z,t \\right)} - \\xi^{(t)}_{t} \\rho{\\left(x,y,z,t \\right)} + \\xi^{(t)}_{y} b{\\left(x,y,z,t \\right)} - \\xi^{(t)}_{y} \\rho{\\left(x,y,z,t \\right)} = 0\\\\33 & - \\xi^{(z)}_{t} \\rho{\\left(x,y,z,t \\right)} + \\xi^{(z)}_{y} b{\\left(x,y,z,t \\right)} - \\xi^{(z)}_{y} \\rho{\\left(x,y,z,t \\right)} = 0\\\\34 & \\eta^{(\\rho)} + \\eta^{(\\rho)}_{s} - \\eta^{(b)}_{s} + \\eta^{(j)}_{s} \\rho{\\left(x,y,z,t \\right)} + \\eta^{(s)}_{s} \\rho{\\left(x,y,z,t \\right)} - \\xi^{(t)}_{t} \\rho{\\left(x,y,z,t \\right)} + \\xi^{(t)}_{x} b{\\left(x,y,z,t \\right)} - \\xi^{(t)}_{x} \\rho{\\left(x,y,z,t \\right)} = 0\\\\35 & - \\xi^{(z)}_{t} \\rho{\\left(x,y,z,t \\right)} + \\xi^{(z)}_{x} b{\\left(x,y,z,t \\right)} - \\xi^{(z)}_{x} \\rho{\\left(x,y,z,t \\right)} = 0\\\\36 & - \\xi^{(z)}_{t} - \\xi^{(z)}_{x} s{\\left(x,y,z,t \\right)} - \\xi^{(z)}_{y} j{\\left(x,y,z,t \\right)} = 0\\\\37 & \\eta^{(\\rho)}_{p} - \\eta^{(b)}_{p} + \\eta^{(j)}_{p} \\rho{\\left(x,y,z,t \\right)} + \\eta^{(s)}_{p} \\rho{\\left(x,y,z,t \\right)} - \\xi^{(t)}_{x} - \\xi^{(t)}_{y} = 0\\\\38 & - \\eta^{(b)}_{\\rho} + \\eta^{(j)}_{\\rho} \\rho{\\left(x,y,z,t \\right)} + \\eta^{(s)}_{\\rho} \\rho{\\left(x,y,z,t \\right)} = 0\\\\39 & - \\xi^{(z)}_{x} - \\xi^{(z)}_{y} = 0\\\\40 & \\eta^{(\\rho)}_{t} + \\eta^{(\\rho)}_{x} s{\\left(x,y,z,t \\right)} + \\eta^{(\\rho)}_{y} j{\\left(x,y,z,t \\right)} - \\eta^{(b)}_{t} + \\eta^{(b)}_{x} b{\\left(x,y,z,t \\right)} - \\eta^{(b)}_{x} s{\\left(x,y,z,t \\right)} + \\eta^{(b)}_{y} b{\\left(x,y,z,t \\right)} - \\eta^{(b)}_{y} j{\\left(x,y,z,t \\right)} + \\eta^{(j)}_{t} \\rho{\\left(x,y,z,t \\right)} - \\eta^{(j)}_{y} b{\\left(x,y,z,t \\right)} + \\eta^{(j)}_{y} \\rho{\\left(x,y,z,t \\right)} + \\eta^{(p)}_{x} + \\eta^{(p)}_{y} + \\eta^{(s)}_{t} \\rho{\\left(x,y,z,t \\right)} - \\eta^{(s)}_{x} b{\\left(x,y,z,t \\right)} + \\eta^{(s)}_{x} \\rho{\\left(x,y,z,t \\right)} = 0\\end{matrix}\\right]$"
      ],
      "text/plain": [
       "Matrix([\n",
       "[ 0,                                                                                                                                                                                                                                                                                                                                                                                             Eq(xi^(x)_b, 0)],\n",
       "[ 1,                                                                                                                                                                                                                                                                                                                                                                                             Eq(xi^(y)_b, 0)],\n",
       "[ 2,                                                                                                                                                                                                                                                                                                                                                                                             Eq(xi^(x)_s, 0)],\n",
       "[ 3,                                                                                                                                                                                                                                                                                                                                                                                             Eq(xi^(y)_j, 0)],\n",
       "[ 4,                                                                                                                                                                                                                                                                                                                                                                                             Eq(xi^(z)_b, 0)],\n",
       "[ 5,                                                                                                                                                                                                                                                                                                                                                                                             Eq(xi^(z)_p, 0)],\n",
       "[ 6,                                                                                                                                                                                                                                                                                                                                                                                             Eq(xi^(z)_s, 0)],\n",
       "[ 7,                                                                                                                                                                                                                                                                                                                                                                                             Eq(xi^(t)_j, 0)],\n",
       "[ 8,                                                                                                                                                                                                                                                                                                                                                                                             Eq(xi^(x)_j, 0)],\n",
       "[ 9,                                                                                                                                                                                                                                                                                                                                                                                             Eq(xi^(z)_j, 0)],\n",
       "[10,                                                                                                                                                                                                                                                                                                                                                                                             Eq(xi^(t)_p, 0)],\n",
       "[11,                                                                                                                                                                                                                                                                                                                                                                                           Eq(xi^(t)_rho, 0)],\n",
       "[12,                                                                                                                                                                                                                                                                                                                                                                                             Eq(xi^(t)_s, 0)],\n",
       "[13,                                                                                                                                                                                                                                                                                                                                                                                             Eq(xi^(x)_p, 0)],\n",
       "[14,                                                                                                                                                                                                                                                                                                                                                                                           Eq(xi^(x)_rho, 0)],\n",
       "[15,                                                                                                                                                                                                                                                                                                                                                                                             Eq(xi^(y)_p, 0)],\n",
       "[16,                                                                                                                                                                                                                                                                                                                                                                                           Eq(xi^(y)_rho, 0)],\n",
       "[17,                                                                                                                                                                                                                                                                                                                                                                                             Eq(xi^(y)_s, 0)],\n",
       "[18,                                                                                                                                                                                                                                                                                                                                                                                           Eq(xi^(z)_rho, 0)],\n",
       "[19,                                                                                                                                                                                                                                                                                                                                                                                             Eq(xi^(t)_b, 0)],\n",
       "[20,                                                                                                                                                                                                      Eq(eta^(\\rho)_b - eta^(b)_b + eta^(j)_b*rho(x, y, z, t) + eta^(s)_b*rho(x, y, z, t) + xi^(t)_t - xi^(t)_x*b(x, y, z, t) + xi^(t)_x*s(x, y, z, t) - xi^(t)_y*b(x, y, z, t) + xi^(t)_y*j(x, y, z, t), 0)],\n",
       "[21,                                                                                                                  Eq(eta^(\\rho)_b*s(x, y, z, t) + eta^(b) + eta^(b)_b*b(x, y, z, t) - eta^(b)_b*s(x, y, z, t) + eta^(p)_b - eta^(s) - eta^(s)_b*b(x, y, z, t) + eta^(s)_b*rho(x, y, z, t) + xi^(x)_t - xi^(x)_x*b(x, y, z, t) + xi^(x)_x*s(x, y, z, t) - xi^(x)_y*b(x, y, z, t) + xi^(x)_y*j(x, y, z, t), 0)],\n",
       "[22,                                                                                                                  Eq(eta^(\\rho)_b*j(x, y, z, t) + eta^(b) + eta^(b)_b*b(x, y, z, t) - eta^(b)_b*j(x, y, z, t) - eta^(j) - eta^(j)_b*b(x, y, z, t) + eta^(j)_b*rho(x, y, z, t) + eta^(p)_b + xi^(y)_t - xi^(y)_x*b(x, y, z, t) + xi^(y)_x*s(x, y, z, t) - xi^(y)_y*b(x, y, z, t) + xi^(y)_y*j(x, y, z, t), 0)],\n",
       "[23,                                                                                                                                                                                                                                                                                         Eq(xi^(z)_t - xi^(z)_x*b(x, y, z, t) + xi^(z)_x*s(x, y, z, t) - xi^(z)_y*b(x, y, z, t) + xi^(z)_y*j(x, y, z, t), 0)],\n",
       "[24,                                                                                                                                                                      Eq(eta^(\\rho)_j*s(x, y, z, t) + eta^(b)_j*b(x, y, z, t) - eta^(b)_j*s(x, y, z, t) + eta^(p)_j - eta^(s)_j*b(x, y, z, t) + eta^(s)_j*rho(x, y, z, t) - xi^(x)_t*rho(x, y, z, t) + xi^(x)_y*b(x, y, z, t) - xi^(x)_y*rho(x, y, z, t), 0)],\n",
       "[25, Eq(eta^(\\rho) + eta^(\\rho)_j*j(x, y, z, t) - eta^(\\rho)_rho*rho(x, y, z, t) - eta^(b) + eta^(b)_j*b(x, y, z, t) - eta^(b)_j*j(x, y, z, t) - eta^(j)_j*b(x, y, z, t) + eta^(j)_j*rho(x, y, z, t) + eta^(p)_j + xi^(t)_t*rho(x, y, z, t) + xi^(t)_x*rho(x, y, z, t)*s(x, y, z, t) + xi^(t)_y*j(x, y, z, t)*rho(x, y, z, t) - xi^(y)_t*rho(x, y, z, t) + xi^(y)_y*b(x, y, z, t) - xi^(y)_y*rho(x, y, z, t), 0)],\n",
       "[26,                                                                                                                                                                                                                               Eq(eta^(\\rho)_p*s(x, y, z, t) + eta^(b)_p*b(x, y, z, t) - eta^(b)_p*s(x, y, z, t) + eta^(p)_p - eta^(s)_p*b(x, y, z, t) + eta^(s)_p*rho(x, y, z, t) - xi^(x)_x - xi^(x)_y, 0)],\n",
       "[27,                                                                                                                                                                                                                               Eq(eta^(\\rho)_p*j(x, y, z, t) + eta^(b)_p*b(x, y, z, t) - eta^(b)_p*j(x, y, z, t) - eta^(j)_p*b(x, y, z, t) + eta^(j)_p*rho(x, y, z, t) + eta^(p)_p - xi^(y)_x - xi^(y)_y, 0)],\n",
       "[28,                                                                                                     Eq(eta^(b)_rho*b(x, y, z, t) - eta^(b)_rho*s(x, y, z, t) + eta^(p)_rho + eta^(s) - eta^(s)_rho*b(x, y, z, t) + eta^(s)_rho*rho(x, y, z, t) + xi^(t)_t*s(x, y, z, t) + xi^(t)_x*s(x, y, z, t)**2 + xi^(t)_y*j(x, y, z, t)*s(x, y, z, t) - xi^(x)_t - xi^(x)_x*s(x, y, z, t) - xi^(x)_y*j(x, y, z, t), 0)],\n",
       "[29,                                                                                                     Eq(eta^(b)_rho*b(x, y, z, t) - eta^(b)_rho*j(x, y, z, t) + eta^(j) - eta^(j)_rho*b(x, y, z, t) + eta^(j)_rho*rho(x, y, z, t) + eta^(p)_rho + xi^(t)_t*j(x, y, z, t) + xi^(t)_x*j(x, y, z, t)*s(x, y, z, t) + xi^(t)_y*j(x, y, z, t)**2 - xi^(y)_t - xi^(y)_x*s(x, y, z, t) - xi^(y)_y*j(x, y, z, t), 0)],\n",
       "[30, Eq(eta^(\\rho) - eta^(\\rho)_rho*rho(x, y, z, t) + eta^(\\rho)_s*s(x, y, z, t) - eta^(b) + eta^(b)_s*b(x, y, z, t) - eta^(b)_s*s(x, y, z, t) + eta^(p)_s - eta^(s)_s*b(x, y, z, t) + eta^(s)_s*rho(x, y, z, t) + xi^(t)_t*rho(x, y, z, t) + xi^(t)_x*rho(x, y, z, t)*s(x, y, z, t) + xi^(t)_y*j(x, y, z, t)*rho(x, y, z, t) - xi^(x)_t*rho(x, y, z, t) + xi^(x)_x*b(x, y, z, t) - xi^(x)_x*rho(x, y, z, t), 0)],\n",
       "[31,                                                                                                                                                                      Eq(eta^(\\rho)_s*j(x, y, z, t) + eta^(b)_s*b(x, y, z, t) - eta^(b)_s*j(x, y, z, t) - eta^(j)_s*b(x, y, z, t) + eta^(j)_s*rho(x, y, z, t) + eta^(p)_s - xi^(y)_t*rho(x, y, z, t) + xi^(y)_x*b(x, y, z, t) - xi^(y)_x*rho(x, y, z, t), 0)],\n",
       "[32,                                                                                                                                                                                                                         Eq(eta^(\\rho) + eta^(\\rho)_j - eta^(b)_j + eta^(j)_j*rho(x, y, z, t) + eta^(s)_j*rho(x, y, z, t) - xi^(t)_t*rho(x, y, z, t) + xi^(t)_y*b(x, y, z, t) - xi^(t)_y*rho(x, y, z, t), 0)],\n",
       "[33,                                                                                                                                                                                                                                                                                                                        Eq(-xi^(z)_t*rho(x, y, z, t) + xi^(z)_y*b(x, y, z, t) - xi^(z)_y*rho(x, y, z, t), 0)],\n",
       "[34,                                                                                                                                                                                                                         Eq(eta^(\\rho) + eta^(\\rho)_s - eta^(b)_s + eta^(j)_s*rho(x, y, z, t) + eta^(s)_s*rho(x, y, z, t) - xi^(t)_t*rho(x, y, z, t) + xi^(t)_x*b(x, y, z, t) - xi^(t)_x*rho(x, y, z, t), 0)],\n",
       "[35,                                                                                                                                                                                                                                                                                                                        Eq(-xi^(z)_t*rho(x, y, z, t) + xi^(z)_x*b(x, y, z, t) - xi^(z)_x*rho(x, y, z, t), 0)],\n",
       "[36,                                                                                                                                                                                                                                                                                                                                          Eq(-xi^(z)_t - xi^(z)_x*s(x, y, z, t) - xi^(z)_y*j(x, y, z, t), 0)],\n",
       "[37,                                                                                                                                                                                                                                                                                               Eq(eta^(\\rho)_p - eta^(b)_p + eta^(j)_p*rho(x, y, z, t) + eta^(s)_p*rho(x, y, z, t) - xi^(t)_x - xi^(t)_y, 0)],\n",
       "[38,                                                                                                                                                                                                                                                                                                                             Eq(-eta^(b)_rho + eta^(j)_rho*rho(x, y, z, t) + eta^(s)_rho*rho(x, y, z, t), 0)],\n",
       "[39,                                                                                                                                                                                                                                                                                                                                                                                 Eq(-xi^(z)_x - xi^(z)_y, 0)],\n",
       "[40,               Eq(eta^(\\rho)_t + eta^(\\rho)_x*s(x, y, z, t) + eta^(\\rho)_y*j(x, y, z, t) - eta^(b)_t + eta^(b)_x*b(x, y, z, t) - eta^(b)_x*s(x, y, z, t) + eta^(b)_y*b(x, y, z, t) - eta^(b)_y*j(x, y, z, t) + eta^(j)_t*rho(x, y, z, t) - eta^(j)_y*b(x, y, z, t) + eta^(j)_y*rho(x, y, z, t) + eta^(p)_x + eta^(p)_y + eta^(s)_t*rho(x, y, z, t) - eta^(s)_x*b(x, y, z, t) + eta^(s)_x*rho(x, y, z, t), 0)]])"
      ]
     },
     "execution_count": 16,
     "metadata": {},
     "output_type": "execute_result"
    }
   ],
   "source": [
    "system_of_equations.print_determining_equations()"
   ]
  },
  {
   "cell_type": "code",
   "execution_count": 17,
   "metadata": {},
   "outputs": [
    {
     "name": "stdout",
     "output_type": "stream",
     "text": [
      "\\xi^{x}_{b}=0\\\\\n",
      "\\xi^{y}_{b}=0\\\\\n",
      "\\xi^{x}_{s}=0\\\\\n",
      "\\xi^{y}_{j}=0\\\\\n",
      "\\xi^{z}_{b}=0\\\\\n",
      "\\xi^{z}_{p}=0\\\\\n",
      "\\xi^{z}_{s}=0\\\\\n",
      "\\xi^{t}_{j}=0\\\\\n",
      "\\xi^{x}_{j}=0\\\\\n",
      "\\xi^{z}_{j}=0\\\\\n",
      "\\xi^{t}_{p}=0\\\\\n",
      "\\xi^{t}_{\\rho}=0\\\\\n",
      "\\xi^{t}_{s}=0\\\\\n",
      "\\xi^{x}_{p}=0\\\\\n",
      "\\xi^{x}_{\\rho}=0\\\\\n",
      "\\xi^{y}_{p}=0\\\\\n",
      "\\xi^{y}_{\\rho}=0\\\\\n",
      "\\xi^{y}_{s}=0\\\\\n",
      "\\xi^{z}_{\\rho}=0\\\\\n",
      "\\xi^{t}_{b}=0\\\\\n",
      "-1p\\xi^{t}_{x}-1p\\xi^{t}_{y}+1b\\xi^{t}_{y}+1\\eta^{j}_{b}+1\\eta^{s}_{b}+1j\\xi^{t}_{x}-1\\eta^{b}_{b}+1\\eta^{\\rho}_{b}+1\\xi^{t}_{t}=0\\\\\n",
      "1p\\eta^{b}_{b}-1p\\eta^{s}_{b}-1p\\xi^{x}_{x}-1p\\xi^{x}_{y}+1\\eta^{b}}-1\\eta^{s}}+1b\\xi^{x}_{y}+1\\eta^{s}_{b}-1j\\eta^{b}_{b}+1j\\eta^{\\rho}_{b}+1j\\xi^{x}_{x}+1\\eta^{p}_{b}+1\\xi^{x}_{t}=0\\\\\n",
      "1p\\eta^{b}_{b}-1p\\eta^{j}_{b}-1p\\xi^{y}_{x}-1p\\xi^{y}_{y}+1\\eta^{b}}-1\\eta^{j}}-1b\\eta^{b}_{b}+1b\\eta^{\\rho}_{b}+1b\\xi^{y}_{y}+1\\eta^{j}_{b}+1j\\xi^{y}_{x}+1\\eta^{p}_{b}+1\\xi^{y}_{t}=0\\\\\n",
      "-1p\\xi^{z}_{x}-1p\\xi^{z}_{y}+1b\\xi^{z}_{y}+1j\\xi^{z}_{x}+1\\xi^{z}_{t}=0\\\\\n",
      "1p\\eta^{b}_{j}-1p\\eta^{s}_{j}+1p\\xi^{x}_{y}+1\\eta^{s}_{j}-1\\xi^{x}_{y}-1\\xi^{x}_{t}-1j\\eta^{b}_{j}+1j\\eta^{\\rho}_{j}+1\\eta^{p}_{j}=0\\\\\n",
      "1p\\eta^{b}_{j}-1p\\eta^{j}_{j}+1p\\xi^{y}_{y}-1\\eta^{b}}+1\\eta^{\\rho}}+1b\\xi^{t}_{y}-1b\\eta^{b}_{j}+1b\\eta^{\\rho}_{j}+1j\\xi^{t}_{x}+1\\eta^{j}_{j}-1\\eta^{\\rho}_{\\rho}+1\\xi^{t}_{t}-1\\xi^{y}_{y}-1\\xi^{y}_{t}+1\\eta^{p}_{j}=0\\\\\n",
      "1p\\eta^{b}_{p}-1p\\eta^{s}_{p}+1\\eta^{s}_{p}-1j\\eta^{b}_{p}+1j\\eta^{\\rho}_{p}+1\\eta^{p}_{p}-1\\xi^{x}_{x}-1\\xi^{x}_{y}=0\\\\\n",
      "1p\\eta^{b}_{p}-1p\\eta^{j}_{p}-1b\\eta^{b}_{p}+1b\\eta^{\\rho}_{p}+1\\eta^{j}_{p}+1\\eta^{p}_{p}-1\\xi^{y}_{x}-1\\xi^{y}_{y}=0\\\\\n",
      "1p\\eta^{b}_{\\rho}-1p\\eta^{s}_{\\rho}+1\\eta^{s}}+1jb\\xi^{t}_{y}-1b\\xi^{x}_{y}+1\\eta^{s}_{\\rho}+1j^2\\xi^{t}_{x}-1j\\eta^{b}_{\\rho}+1j\\xi^{t}_{t}-1j\\xi^{x}_{x}+1\\eta^{p}_{\\rho}-1\\xi^{x}_{t}=0\\\\\n",
      "1p\\eta^{b}_{\\rho}-1p\\eta^{j}_{\\rho}+1\\eta^{j}}+1b^2\\xi^{t}_{y}+1jb\\xi^{t}_{x}-1b\\eta^{b}_{\\rho}+1b\\xi^{t}_{t}-1b\\xi^{y}_{y}+1\\eta^{j}_{\\rho}-1j\\xi^{y}_{x}+1\\eta^{p}_{\\rho}-1\\xi^{y}_{t}=0\\\\\n",
      "1p\\eta^{b}_{s}-1p\\eta^{s}_{s}+1p\\xi^{x}_{x}-1\\eta^{b}}+1\\eta^{\\rho}}+1b\\xi^{t}_{y}+1j\\xi^{t}_{x}-1\\eta^{\\rho}_{\\rho}+1\\eta^{s}_{s}+1\\xi^{t}_{t}-1\\xi^{x}_{x}-1\\xi^{x}_{t}-1j\\eta^{b}_{s}+1j\\eta^{\\rho}_{s}+1\\eta^{p}_{s}=0\\\\\n",
      "1p\\eta^{b}_{s}-1p\\eta^{j}_{s}+1p\\xi^{y}_{x}-1b\\eta^{b}_{s}+1b\\eta^{\\rho}_{s}+1\\eta^{j}_{s}-1\\xi^{y}_{x}-1\\xi^{y}_{t}+1\\eta^{p}_{s}=0\\\\\n",
      "1p\\xi^{t}_{y}+1\\eta^{\\rho}}+1\\eta^{j}_{j}+1\\eta^{s}_{j}-1\\xi^{t}_{y}-1\\xi^{t}_{t}-1\\eta^{b}_{j}+1\\eta^{\\rho}_{j}=0\\\\\n",
      "1p\\xi^{z}_{y}-1\\xi^{z}_{y}-1\\xi^{z}_{t}=0\\\\\n",
      "1p\\xi^{t}_{x}+1\\eta^{\\rho}}+1\\eta^{j}_{s}+1\\eta^{s}_{s}-1\\xi^{t}_{x}-1\\xi^{t}_{t}-1\\eta^{b}_{s}+1\\eta^{\\rho}_{s}=0\\\\\n",
      "1p\\xi^{z}_{x}-1\\xi^{z}_{x}-1\\xi^{z}_{t}=0\\\\\n",
      "-1b\\xi^{z}_{y}-1j\\xi^{z}_{x}-1\\xi^{z}_{t}=0\\\\\n",
      "1\\eta^{j}_{p}+1\\eta^{s}_{p}-1\\eta^{b}_{p}+1\\eta^{\\rho}_{p}-1\\xi^{t}_{x}-1\\xi^{t}_{y}=0\\\\\n",
      "1\\eta^{j}_{\\rho}+1\\eta^{s}_{\\rho}-1\\eta^{b}_{\\rho}=0\\\\\n",
      "-1\\xi^{z}_{x}-1\\xi^{z}_{y}=0\\\\\n",
      "1p\\eta^{b}_{x}+1p\\eta^{b}_{y}-1p\\eta^{j}_{y}-1p\\eta^{s}_{x}-1b\\eta^{b}_{y}+1b\\eta^{\\rho}_{y}+1\\eta^{j}_{y}+1\\eta^{j}_{t}+1\\eta^{s}_{x}+1\\eta^{s}_{t}-1j\\eta^{b}_{x}+1j\\eta^{\\rho}_{x}-1\\eta^{b}_{t}+1\\eta^{p}_{x}+1\\eta^{p}_{y}+1\\eta^{\\rho}_{t}=0\\\\\n",
      "\n"
     ]
    }
   ],
   "source": [
    "system_of_equations.print_latex()"
   ]
  },
  {
   "cell_type": "code",
   "execution_count": null,
   "metadata": {},
   "outputs": [],
   "source": []
  }
 ],
 "metadata": {
  "kernelspec": {
   "display_name": "lie_pr",
   "language": "python",
   "name": "python3"
  },
  "language_info": {
   "codemirror_mode": {
    "name": "ipython",
    "version": 3
   },
   "file_extension": ".py",
   "mimetype": "text/x-python",
   "name": "python",
   "nbconvert_exporter": "python",
   "pygments_lexer": "ipython3",
   "version": "3.9.15"
  },
  "orig_nbformat": 4
 },
 "nbformat": 4,
 "nbformat_minor": 2
}
