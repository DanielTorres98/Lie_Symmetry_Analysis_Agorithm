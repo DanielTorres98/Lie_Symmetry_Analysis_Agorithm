{
 "cells": [
  {
   "cell_type": "code",
   "execution_count": 1,
   "metadata": {},
   "outputs": [],
   "source": [
    "import sympy as sp\n",
    "from sympy import Derivative as D\n",
    "from utils.symbolic import (infinitesimals_generator, higher_infinitesimals_generator,\n",
    "                            group_operator, der_relabel, deriv_infts, subs_new_vars, Diff)\n",
    "from utils.combinatorics import list_combinatorics\n",
    "from sympy.parsing.sympy_parser import parse_expr\n",
    "import re\n",
    "from copy import deepcopy as dc"
   ]
  },
  {
   "cell_type": "code",
   "execution_count": 2,
   "metadata": {},
   "outputs": [],
   "source": [
    "x, y, z, t = sp.symbols('x y z t')\n",
    "phi = sp.Function('phi')(x, y, z, t)\n",
    "psi = sp.Function('psi')(x, y, z, t)\n",
    "b = sp.Function('b')(x, y, z, t)\n",
    "w = sp.Function('w')(x, y, z, t)"
   ]
  },
  {
   "cell_type": "code",
   "execution_count": 3,
   "metadata": {},
   "outputs": [
    {
     "data": {
      "text/latex": [
       "$\\displaystyle - \\gamma \\frac{\\partial^{2}}{\\partial x^{2}} b{\\left(x,y,z,t \\right)} - \\gamma \\frac{\\partial^{2}}{\\partial y^{2}} b{\\left(x,y,z,t \\right)} + \\sigma \\frac{\\partial}{\\partial x} \\psi{\\left(x,y,z,t \\right)} \\frac{\\partial^{3}}{\\partial y^{3}} \\psi{\\left(x,y,z,t \\right)} + \\sigma \\frac{\\partial}{\\partial x} \\psi{\\left(x,y,z,t \\right)} \\frac{\\partial^{3}}{\\partial y\\partial x^{2}} \\psi{\\left(x,y,z,t \\right)} - \\sigma \\frac{\\partial^{3}}{\\partial x^{3}} \\psi{\\left(x,y,z,t \\right)} \\frac{\\partial}{\\partial y} \\psi{\\left(x,y,z,t \\right)} - \\sigma \\frac{\\partial}{\\partial y} \\psi{\\left(x,y,z,t \\right)} \\frac{\\partial^{3}}{\\partial x\\partial y^{2}} \\psi{\\left(x,y,z,t \\right)} + \\frac{\\partial}{\\partial t} b{\\left(x,y,z,t \\right)} + \\frac{\\partial}{\\partial x} b{\\left(x,y,z,t \\right)} \\frac{\\partial}{\\partial y} \\phi{\\left(x,y,z,t \\right)} - \\frac{\\partial}{\\partial y} b{\\left(x,y,z,t \\right)} \\frac{\\partial}{\\partial x} \\phi{\\left(x,y,z,t \\right)} + \\frac{\\partial}{\\partial x} \\psi{\\left(x,y,z,t \\right)} \\frac{\\partial}{\\partial y} w{\\left(x,y,z,t \\right)} - \\frac{\\partial}{\\partial y} \\psi{\\left(x,y,z,t \\right)} \\frac{\\partial}{\\partial x} w{\\left(x,y,z,t \\right)}$"
      ],
      "text/plain": [
       "-gamma*Derivative(b(x, y, z, t), (x, 2)) - gamma*Derivative(b(x, y, z, t), (y, 2)) + sigma*Derivative(psi(x, y, z, t), x)*Derivative(psi(x, y, z, t), (y, 3)) + sigma*Derivative(psi(x, y, z, t), x)*Derivative(psi(x, y, z, t), (x, 2), y) - sigma*Derivative(psi(x, y, z, t), (x, 3))*Derivative(psi(x, y, z, t), y) - sigma*Derivative(psi(x, y, z, t), y)*Derivative(psi(x, y, z, t), (y, 2), x) + Derivative(b(x, y, z, t), t) + Derivative(b(x, y, z, t), x)*Derivative(phi(x, y, z, t), y) - Derivative(b(x, y, z, t), y)*Derivative(phi(x, y, z, t), x) + Derivative(psi(x, y, z, t), x)*Derivative(w(x, y, z, t), y) - Derivative(psi(x, y, z, t), y)*Derivative(w(x, y, z, t), x)"
      ]
     },
     "execution_count": 3,
     "metadata": {},
     "output_type": "execute_result"
    }
   ],
   "source": [
    "sigma, gamma = sp.symbols('sigma gamma')\n",
    "list_indep = [x, y, z, t]\n",
    "list_dep = [phi, psi, b, w]\n",
    "F =  D(b, t) + D(b, x)*D(phi, y) - D(b, y)*D(phi, x) + sigma*(D(psi, x)*(D(psi, x, x, y) + D(psi, y, y, y))-\n",
    "        D(psi, y)*(D(psi, x, x, x) + D(psi, y, y, x))) + D(psi, x)*D(w, y) - D(psi, y)*D(w, x) - gamma*(D(b,x,x) + D(b, y, y))\n",
    "F.expand()"
   ]
  },
  {
   "cell_type": "code",
   "execution_count": 3,
   "metadata": {},
   "outputs": [],
   "source": [
    "x, t = sp.symbols('x t')\n",
    "u = sp.Function('u')(x, t)\n",
    "v = sp.Function('v')(x, t)"
   ]
  },
  {
   "cell_type": "code",
   "execution_count": 4,
   "metadata": {},
   "outputs": [],
   "source": [
    "list_indep = [x, t]\n",
    "list_dep = [u, v]\n",
    "F =  D(u,t) - D(u,x,x) +D(v,t) + v\n",
    "F.expand()\n",
    "F_rules_array = {D(u,x,x):D(u,t)-D(v,t)-v}"
   ]
  },
  {
   "cell_type": "code",
   "execution_count": 35,
   "metadata": {},
   "outputs": [],
   "source": [
    " \n",
    "\n",
    "infts = infinitesimals_generator(list_indep, list_dep)\n",
    "n_indep = len(list_indep)\n",
    "n_dep = len(list_dep)\n",
    "infts_ind = infts[0:n_indep]\n",
    "infts_dep = infts[n_indep:(n_dep + n_indep )]\n",
    "inft_derivatives, dep_vars_derivatives = higher_infinitesimals_generator(infts_ind, infts_dep,\n",
    "                                                                            2, list_indep, list_dep)\n",
    "infts_dummy = [item for sublist in inft_derivatives for item in sublist]\n",
    "dep_vars_derivatives = [item for sublist in dep_vars_derivatives for item in sublist]\n",
    "\n",
    "infts = infts + infts_dummy\n",
    "\n",
    "F, deriv_names = der_relabel(dep_vars_derivatives, F)\n",
    "\n",
    "vars_and_derivatives = list_indep + list_dep + deriv_names\n",
    "\n",
    "XF = group_operator(F, vars_and_derivatives, infts)\n",
    "\n",
    "XF = subs_new_vars(dep_vars_derivatives, deriv_names, XF)\n",
    "\n",
    "XF = XF.xreplace(F_rules_array)\n",
    "\n",
    "# A = deriv_infts(infts_ind + infts_dep, list_indep + list_dep, 2)\n",
    "\n",
    "# XF, deriv_infts_names = der_relabel(A, XF)\n",
    "\n",
    "# XF = subs_new_vars(deriv_infts_names, A, XF)\n",
    "\n",
    "# XF = subs_new_vars(deriv_names, dep_vars_derivatives, XF)"
   ]
  },
  {
   "cell_type": "code",
   "execution_count": 37,
   "metadata": {},
   "outputs": [
    {
     "data": {
      "text/plain": [
       "'+*-*Derivative(u(x,t),t)*-3**Derivative(u(x,t),x)*-2**Derivative(v(x,t),x)*-2**+*Derivative(v(x,t),t)+*Derivative(v(x,t),x)+*Derivative(v(x,t),t)-*Derivative(u(x,t),x)^2+*Derivative(v(x,t),t)-*Derivative(v(x,t),(x,2))-*Derivative(v(x,t),x)^2+*Derivative(u(x,t),t)+*Derivative(v(x,t),t)+Derivative(u(x,t),t)*Derivative(u(x,t),x)^2*+2*Derivative(u(x,t),t)*Derivative(u(x,t),x)*Derivative(v(x,t),x)*+2*Derivative(u(x,t),t)*Derivative(u(x,t),x)*+2*Derivative(u(x,t),t)*Derivative(u(x,t),x)*-2*Derivative(u(x,t),t)*Derivative(v(x,t),t)*-Derivative(u(x,t),t)*Derivative(v(x,t),t)*+Derivative(u(x,t),t)*Derivative(v(x,t),x)^2*-Derivative(u(x,t),t)*Derivative(v(x,t),x)*+2*Derivative(u(x,t),t)*Derivative(v(x,t),x)*+2*Derivative(u(x,t),t)*Derivative(v(x,t),x)*+Derivative(u(x,t),t)*Derivative(v(x,t),(x,2))*+Derivative(u(x,t),t)*-Derivative(u(x,t),t)*+2*Derivative(u(x,t),t)*+Derivative(u(x,t),x)^3*+2*Derivative(u(x,t),x)^2*Derivative(v(x,t),x)*+2*Derivative(u(x,t),x)^2*-3*Derivative(u(x,t),x)*Derivative(v(x,t),t)*-Derivative(u(x,t),x)*Derivative(v(x,t),t)*+Derivative(u(x,t),x)*Derivative(v(x,t),x)^2*-2*Derivative(u(x,t),x)*Derivative(v(x,t),x)*+2*Derivative(u(x,t),x)*Derivative(v(x,t),x)*+Derivative(u(x,t),x)*Derivative(v(x,t),(x,2))*+2*Derivative(u(x,t),x)**Derivative(u(x,t),t,x)+Derivative(u(x,t),x)*-Derivative(u(x,t),x)*-2*Derivative(u(x,t),x)*-Derivative(v(x,t),t)^2*-3*Derivative(v(x,t),t)*Derivative(v(x,t),x)*-Derivative(v(x,t),t)*-2*Derivative(v(x,t),t)*+2*Derivative(v(x,t),x)**Derivative(u(x,t),t,x)-Derivative(v(x,t),x)*-2*Derivative(v(x,t),x)*+2*Derivative(u(x,t),t,x)*-++'"
      ]
     },
     "execution_count": 37,
     "metadata": {},
     "output_type": "execute_result"
    }
   ],
   "source": [
    "S = str(XF.expand())\n",
    "S_no_space=S.replace(' ', '')\n",
    "S_no_eta = re.sub(r'\\*{2}',\"&\", S_no_space)\n",
    "\n",
    "S_no_eta = re.sub(r'Subs\\(Derivative\\([(eta)(xi)\\^][\\w\\(,\\)\\^]*\\&*\\d*', \"\", S_no_eta)\n",
    "S_no_eta = re.sub(r'Derivative\\([(eta)(xi)\\^][\\w\\(,\\)\\^]*\\&*\\d*', \"\", S_no_eta)\n",
    "S_no_eta = re.sub(r'[(eta)(xi)]+\\^[\\w\\(,\\)\\^]+', \"\", S_no_eta)\n",
    "indep_var_str = [str(ele).replace(' ', '') for ele in list_dep]\n",
    "for var in indep_var_str:\n",
    "    var = var.replace(\"(\",\"\\(\").replace(\")\",\"\\)\")\n",
    "    S_no_eta = re.sub(f'(?<!\\(|,){var}', \"\", S_no_eta)\n",
    "S_no_eta = re.sub(r'\\&',\"^\", S_no_eta)\n",
    "S_no_eta"
   ]
  },
  {
   "cell_type": "code",
   "execution_count": 46,
   "metadata": {},
   "outputs": [
    {
     "data": {
      "text/plain": [
       "['',\n",
       " '',\n",
       " 'Derivative(u(x,t),t)',\n",
       " 'Derivative(u(x,t),x)',\n",
       " 'Derivative(v(x,t),x)',\n",
       " '',\n",
       " 'Derivative(v(x,t),t)',\n",
       " 'Derivative(v(x,t),x)',\n",
       " 'Derivative(v(x,t),t)',\n",
       " 'Derivative(u(x,t),x)^2',\n",
       " 'Derivative(v(x,t),t)',\n",
       " 'Derivative(v(x,t),(x,2))',\n",
       " 'Derivative(v(x,t),x)^2',\n",
       " 'Derivative(u(x,t),t)',\n",
       " 'Derivative(v(x,t),t)',\n",
       " 'Derivative(u(x,t),t)*Derivative(u(x,t),x)^2',\n",
       " 'Derivative(u(x,t),t)*Derivative(u(x,t),x)*Derivative(v(x,t),x)',\n",
       " 'Derivative(u(x,t),t)*Derivative(u(x,t),x)',\n",
       " 'Derivative(u(x,t),t)*Derivative(u(x,t),x)',\n",
       " 'Derivative(u(x,t),t)*Derivative(v(x,t),t)',\n",
       " 'Derivative(u(x,t),t)*Derivative(v(x,t),t)',\n",
       " 'Derivative(u(x,t),t)*Derivative(v(x,t),x)^2',\n",
       " 'Derivative(u(x,t),t)*Derivative(v(x,t),x)',\n",
       " 'Derivative(u(x,t),t)*Derivative(v(x,t),x)',\n",
       " 'Derivative(u(x,t),t)*Derivative(v(x,t),x)',\n",
       " 'Derivative(u(x,t),t)*Derivative(v(x,t),(x,2))',\n",
       " 'Derivative(u(x,t),t)',\n",
       " 'Derivative(u(x,t),t)',\n",
       " 'Derivative(u(x,t),t)',\n",
       " 'Derivative(u(x,t),x)^3',\n",
       " 'Derivative(u(x,t),x)^2*Derivative(v(x,t),x)',\n",
       " 'Derivative(u(x,t),x)^2',\n",
       " 'Derivative(u(x,t),x)*Derivative(v(x,t),t)',\n",
       " 'Derivative(u(x,t),x)*Derivative(v(x,t),t)',\n",
       " 'Derivative(u(x,t),x)*Derivative(v(x,t),x)^2',\n",
       " 'Derivative(u(x,t),x)*Derivative(v(x,t),x)',\n",
       " 'Derivative(u(x,t),x)*Derivative(v(x,t),x)',\n",
       " 'Derivative(u(x,t),x)*Derivative(v(x,t),(x,2))',\n",
       " 'Derivative(u(x,t),x)*Derivative(u(x,t),t,x)',\n",
       " 'Derivative(u(x,t),x)',\n",
       " 'Derivative(u(x,t),x)',\n",
       " 'Derivative(u(x,t),x)',\n",
       " 'Derivative(v(x,t),t)^2',\n",
       " 'Derivative(v(x,t),t)*Derivative(v(x,t),x)',\n",
       " 'Derivative(v(x,t),t)',\n",
       " 'Derivative(v(x,t),t)',\n",
       " 'Derivative(v(x,t),x)*Derivative(u(x,t),t,x)',\n",
       " 'Derivative(v(x,t),x)',\n",
       " 'Derivative(v(x,t),x)',\n",
       " 'Derivative(u(x,t),t,x)',\n",
       " '',\n",
       " '',\n",
       " '']"
      ]
     },
     "execution_count": 46,
     "metadata": {},
     "output_type": "execute_result"
    }
   ],
   "source": [
    "S_no = re.sub(r'\\*(?=[\\+\\-])', \"\", S_no_eta)\n",
    "S_no = re.sub(r'(?<!\\^)\\d+\\*', '', S_no)\n",
    "S_no = re.sub(r'(?<=[\\+\\-])\\*', \"\", S_no)\n",
    "S_no = re.sub(r'\\*+', \"*\", S_no)\n",
    "keys = re.split('\\+|\\-',S_no)"
   ]
  },
  {
   "cell_type": "code",
   "execution_count": 47,
   "metadata": {},
   "outputs": [
    {
     "name": "stdout",
     "output_type": "stream",
     "text": [
      "['Derivative(u(x,t),t)', 'Derivative(u(x,t),x)', 'Derivative(v(x,t),x)', 'Derivative(v(x,t),t)', 'Derivative(u(x,t),x)^2', 'Derivative(v(x,t),(x,2))', 'Derivative(v(x,t),x)^2', 'Derivative(u(x,t),t)*Derivative(u(x,t),x)^2', 'Derivative(u(x,t),t)*Derivative(u(x,t),x)*Derivative(v(x,t),x)', 'Derivative(u(x,t),t)*Derivative(u(x,t),x)', 'Derivative(u(x,t),t)*Derivative(v(x,t),t)', 'Derivative(u(x,t),t)*Derivative(v(x,t),x)^2', 'Derivative(u(x,t),t)*Derivative(v(x,t),x)', 'Derivative(u(x,t),t)*Derivative(v(x,t),(x,2))', 'Derivative(u(x,t),x)^3', 'Derivative(u(x,t),x)^2*Derivative(v(x,t),x)', 'Derivative(u(x,t),x)*Derivative(v(x,t),t)', 'Derivative(u(x,t),x)*Derivative(v(x,t),x)^2', 'Derivative(u(x,t),x)*Derivative(v(x,t),x)', 'Derivative(u(x,t),x)*Derivative(v(x,t),(x,2))', 'Derivative(u(x,t),x)*Derivative(u(x,t),t,x)', 'Derivative(v(x,t),t)^2', 'Derivative(v(x,t),t)*Derivative(v(x,t),x)', 'Derivative(v(x,t),x)*Derivative(u(x,t),t,x)', 'Derivative(u(x,t),t,x)']\n"
     ]
    }
   ],
   "source": [
    "keys_aux = []\n",
    "for i in range(len(keys)):\n",
    "    if keys[i]!='':\n",
    "        keys_aux.append(keys[i])\n",
    "keys = list(dict.fromkeys(keys_aux))"
   ]
  },
  {
   "cell_type": "code",
   "execution_count": 49,
   "metadata": {},
   "outputs": [
    {
     "data": {
      "text/plain": [
       "['Derivative(u(x,t),t)*Derivative(u(x,t),x)^2',\n",
       " 'Derivative(u(x,t),t)*Derivative(u(x,t),x)*Derivative(v(x,t),x)',\n",
       " 'Derivative(u(x,t),t)*Derivative(u(x,t),x)',\n",
       " 'Derivative(u(x,t),t)*Derivative(v(x,t),t)',\n",
       " 'Derivative(u(x,t),t)*Derivative(v(x,t),x)^2',\n",
       " 'Derivative(u(x,t),t)*Derivative(v(x,t),x)',\n",
       " 'Derivative(u(x,t),t)*Derivative(v(x,t),(x,2))',\n",
       " 'Derivative(u(x,t),x)^3',\n",
       " 'Derivative(u(x,t),x)^2*Derivative(v(x,t),x)',\n",
       " 'Derivative(u(x,t),x)*Derivative(v(x,t),t)',\n",
       " 'Derivative(u(x,t),x)*Derivative(v(x,t),x)^2',\n",
       " 'Derivative(u(x,t),x)*Derivative(v(x,t),x)',\n",
       " 'Derivative(u(x,t),x)*Derivative(v(x,t),(x,2))',\n",
       " 'Derivative(u(x,t),x)*Derivative(u(x,t),t,x)',\n",
       " 'Derivative(v(x,t),t)^2',\n",
       " 'Derivative(v(x,t),t)*Derivative(v(x,t),x)',\n",
       " 'Derivative(v(x,t),x)*Derivative(u(x,t),t,x)',\n",
       " 'Derivative(u(x,t),t,x)',\n",
       " 'Derivative(u(x,t),t)',\n",
       " 'Derivative(v(x,t),t)',\n",
       " 'Derivative(u(x,t),x)^2',\n",
       " 'Derivative(v(x,t),(x,2))',\n",
       " 'Derivative(v(x,t),x)^2',\n",
       " 'Derivative(u(x,t),x)',\n",
       " 'Derivative(v(x,t),x)']"
      ]
     },
     "execution_count": 49,
     "metadata": {},
     "output_type": "execute_result"
    }
   ],
   "source": [
    "keys_order = []\n",
    "while len(keys_order) < len(keys):\n",
    "    for key_1 in keys:\n",
    "        inside = False\n",
    "        for key_2 in keys:\n",
    "            if key_2 != key_1 and (key_2 not in keys_order):\n",
    "                if key_1 in key_2:\n",
    "                    inside = True\n",
    "                    break\n",
    "        if not inside and key_1 not in keys_order:\n",
    "           keys_order.append(key_1)\n",
    "\n",
    "keys_order"
   ]
  },
  {
   "cell_type": "code",
   "execution_count": 50,
   "metadata": {},
   "outputs": [],
   "source": [
    "dict_det_eqn = dict.fromkeys(keys_order)"
   ]
  },
  {
   "cell_type": "code",
   "execution_count": 51,
   "metadata": {},
   "outputs": [
    {
     "data": {
      "text/plain": [
       "{'Derivative(u(x,t),t)*Derivative(u(x,t),x)^2': None,\n",
       " 'Derivative(u(x,t),t)*Derivative(u(x,t),x)*Derivative(v(x,t),x)': None,\n",
       " 'Derivative(u(x,t),t)*Derivative(u(x,t),x)': None,\n",
       " 'Derivative(u(x,t),t)*Derivative(v(x,t),t)': None,\n",
       " 'Derivative(u(x,t),t)*Derivative(v(x,t),x)^2': None,\n",
       " 'Derivative(u(x,t),t)*Derivative(v(x,t),x)': None,\n",
       " 'Derivative(u(x,t),t)*Derivative(v(x,t),(x,2))': None,\n",
       " 'Derivative(u(x,t),x)^3': None,\n",
       " 'Derivative(u(x,t),x)^2*Derivative(v(x,t),x)': None,\n",
       " 'Derivative(u(x,t),x)*Derivative(v(x,t),t)': None,\n",
       " 'Derivative(u(x,t),x)*Derivative(v(x,t),x)^2': None,\n",
       " 'Derivative(u(x,t),x)*Derivative(v(x,t),x)': None,\n",
       " 'Derivative(u(x,t),x)*Derivative(v(x,t),(x,2))': None,\n",
       " 'Derivative(u(x,t),x)*Derivative(u(x,t),t,x)': None,\n",
       " 'Derivative(v(x,t),t)^2': None,\n",
       " 'Derivative(v(x,t),t)*Derivative(v(x,t),x)': None,\n",
       " 'Derivative(v(x,t),x)*Derivative(u(x,t),t,x)': None,\n",
       " 'Derivative(u(x,t),t,x)': None,\n",
       " 'Derivative(u(x,t),t)': None,\n",
       " 'Derivative(v(x,t),t)': None,\n",
       " 'Derivative(u(x,t),x)^2': None,\n",
       " 'Derivative(v(x,t),(x,2))': None,\n",
       " 'Derivative(v(x,t),x)^2': None,\n",
       " 'Derivative(u(x,t),x)': None,\n",
       " 'Derivative(v(x,t),x)': None}"
      ]
     },
     "execution_count": 51,
     "metadata": {},
     "output_type": "execute_result"
    }
   ],
   "source": [
    "dict_det_eqn"
   ]
  },
  {
   "cell_type": "code",
   "execution_count": 52,
   "metadata": {},
   "outputs": [
    {
     "data": {
      "text/plain": [
       "'eta^v(x,t,u(x,t),v(x,t))+v(x,t)*Derivative(eta^u(x,t,u(x,t),v(x,t)),u(x,t))-v(x,t)*Derivative(u(x,t),t)*Derivative(xi^t(x,t,u(x,t),v(x,t)),u(x,t))-3*v(x,t)*Derivative(u(x,t),x)*Derivative(xi^x(x,t,u(x,t),v(x,t)),u(x,t))-2*v(x,t)*Derivative(v(x,t),x)*Derivative(xi^x(x,t,u(x,t),v(x,t)),v(x,t))-2*v(x,t)*Subs(Derivative(xi^x(_xi_1,t,u(x,t),v(x,t)),_xi_1),_xi_1,x)+xi^t(x,t,u(x,t),v(x,t))*Derivative(v(x,t),t)+xi^x(x,t,u(x,t),v(x,t))*Derivative(v(x,t),x)+Derivative(eta^u(x,t,u(x,t),v(x,t)),u(x,t))*Derivative(v(x,t),t)-Derivative(eta^u(x,t,u(x,t),v(x,t)),(u(x,t),2))*Derivative(u(x,t),x)**2+Derivative(eta^u(x,t,u(x,t),v(x,t)),v(x,t))*Derivative(v(x,t),t)-Derivative(eta^u(x,t,u(x,t),v(x,t)),v(x,t))*Derivative(v(x,t),(x,2))-Derivative(eta^u(x,t,u(x,t),v(x,t)),(v(x,t),2))*Derivative(v(x,t),x)**2+Derivative(eta^v(x,t,u(x,t),v(x,t)),u(x,t))*Derivative(u(x,t),t)+Derivative(eta^v(x,t,u(x,t),v(x,t)),v(x,t))*Derivative(v(x,t),t)+Derivative(u(x,t),t)*Derivative(u(x,t),x)**2*Derivative(xi^t(x,t,u(x,t),v(x,t)),(u(x,t),2))+2*Derivative(u(x,t),t)*Derivative(u(x,t),x)*Derivative(v(x,t),x)*Derivative(xi^t(x,t,u(x,t),v(x,t)),u(x,t),v(x,t))+2*Derivative(u(x,t),t)*Derivative(u(x,t),x)*Derivative(xi^x(x,t,u(x,t),v(x,t)),u(x,t))+2*Derivative(u(x,t),t)*Derivative(u(x,t),x)*Subs(Derivative(xi^t(_xi_1,t,u(x,t),v(x,t)),_xi_1,u(x,t)),_xi_1,x)-2*Derivative(u(x,t),t)*Derivative(v(x,t),t)*Derivative(xi^t(x,t,u(x,t),v(x,t)),u(x,t))-Derivative(u(x,t),t)*Derivative(v(x,t),t)*Derivative(xi^t(x,t,u(x,t),v(x,t)),v(x,t))+Derivative(u(x,t),t)*Derivative(v(x,t),x)**2*Derivative(xi^t(x,t,u(x,t),v(x,t)),(v(x,t),2))-Derivative(u(x,t),t)*Derivative(v(x,t),x)*Derivative(xi^x(x,t,u(x,t),v(x,t)),u(x,t))+2*Derivative(u(x,t),t)*Derivative(v(x,t),x)*Derivative(xi^x(x,t,u(x,t),v(x,t)),v(x,t))+2*Derivative(u(x,t),t)*Derivative(v(x,t),x)*Subs(Derivative(xi^t(_xi_1,t,u(x,t),v(x,t)),_xi_1,v(x,t)),_xi_1,x)+Derivative(u(x,t),t)*Derivative(v(x,t),(x,2))*Derivative(xi^t(x,t,u(x,t),v(x,t)),v(x,t))+Derivative(u(x,t),t)*Subs(Derivative(xi^t(_xi_1,t,u(x,t),v(x,t)),(_xi_1,2)),_xi_1,x)-Derivative(u(x,t),t)*Subs(Derivative(xi^t(x,_xi_2,u(x,t),v(x,t)),_xi_2),_xi_2,t)+2*Derivative(u(x,t),t)*Subs(Derivative(xi^x(_xi_1,t,u(x,t),v(x,t)),_xi_1),_xi_1,x)+Derivative(u(x,t),x)**3*Derivative(xi^x(x,t,u(x,t),v(x,t)),(u(x,t),2))+2*Derivative(u(x,t),x)**2*Derivative(v(x,t),x)*Derivative(xi^x(x,t,u(x,t),v(x,t)),u(x,t),v(x,t))+2*Derivative(u(x,t),x)**2*Subs(Derivative(xi^x(_xi_1,t,u(x,t),v(x,t)),_xi_1,u(x,t)),_xi_1,x)-3*Derivative(u(x,t),x)*Derivative(v(x,t),t)*Derivative(xi^x(x,t,u(x,t),v(x,t)),u(x,t))-Derivative(u(x,t),x)*Derivative(v(x,t),t)*Derivative(xi^x(x,t,u(x,t),v(x,t)),v(x,t))+Derivative(u(x,t),x)*Derivative(v(x,t),x)**2*Derivative(xi^x(x,t,u(x,t),v(x,t)),(v(x,t),2))-2*Derivative(u(x,t),x)*Derivative(v(x,t),x)*Derivative(eta^u(x,t,u(x,t),v(x,t)),u(x,t),v(x,t))+2*Derivative(u(x,t),x)*Derivative(v(x,t),x)*Subs(Derivative(xi^x(_xi_1,t,u(x,t),v(x,t)),_xi_1,v(x,t)),_xi_1,x)+Derivative(u(x,t),x)*Derivative(v(x,t),(x,2))*Derivative(xi^x(x,t,u(x,t),v(x,t)),v(x,t))+2*Derivative(u(x,t),x)*Derivative(xi^t(x,t,u(x,t),v(x,t)),u(x,t))*Derivative(u(x,t),t,x)+Derivative(u(x,t),x)*Subs(Derivative(xi^x(_xi_1,t,u(x,t),v(x,t)),(_xi_1,2)),_xi_1,x)-Derivative(u(x,t),x)*Subs(Derivative(xi^x(x,_xi_2,u(x,t),v(x,t)),_xi_2),_xi_2,t)-2*Derivative(u(x,t),x)*Subs(Derivative(eta^u(_xi_1,t,u(x,t),v(x,t)),_xi_1,u(x,t)),_xi_1,x)-Derivative(v(x,t),t)**2*Derivative(xi^t(x,t,u(x,t),v(x,t)),v(x,t))-3*Derivative(v(x,t),t)*Derivative(v(x,t),x)*Derivative(xi^x(x,t,u(x,t),v(x,t)),v(x,t))-Derivative(v(x,t),t)*Subs(Derivative(xi^t(x,_xi_2,u(x,t),v(x,t)),_xi_2),_xi_2,t)-2*Derivative(v(x,t),t)*Subs(Derivative(xi^x(_xi_1,t,u(x,t),v(x,t)),_xi_1),_xi_1,x)+2*Derivative(v(x,t),x)*Derivative(xi^t(x,t,u(x,t),v(x,t)),v(x,t))*Derivative(u(x,t),t,x)-Derivative(v(x,t),x)*Subs(Derivative(xi^x(x,_xi_2,u(x,t),v(x,t)),_xi_2),_xi_2,t)-2*Derivative(v(x,t),x)*Subs(Derivative(eta^u(_xi_1,t,u(x,t),v(x,t)),_xi_1,v(x,t)),_xi_1,x)+2*Derivative(u(x,t),t,x)*Subs(Derivative(xi^t(_xi_1,t,u(x,t),v(x,t)),_xi_1),_xi_1,x)-Subs(Derivative(eta^u(_xi_1,t,u(x,t),v(x,t)),(_xi_1,2)),_xi_1,x)+Subs(Derivative(eta^u(x,_xi_2,u(x,t),v(x,t)),_xi_2),_xi_2,t)+Subs(Derivative(eta^v(x,_xi_2,u(x,t),v(x,t)),_xi_2),_xi_2,t)'"
      ]
     },
     "execution_count": 52,
     "metadata": {},
     "output_type": "execute_result"
    }
   ],
   "source": [
    "S_no_space"
   ]
  },
  {
   "cell_type": "code",
   "execution_count": 56,
   "metadata": {},
   "outputs": [
    {
     "data": {
      "text/plain": [
       "['etav(x,t,u(x,t),v(x,t))',\n",
       " '+v(x,t)*Derivative(etau(x,t,u(x,t),v(x,t)),u(x,t))',\n",
       " '-v(x,t)*Derivative(u(x,t),t)*Derivative(xit(x,t,u(x,t),v(x,t)),u(x,t))',\n",
       " '-3*v(x,t)*Derivative(u(x,t),x)*Derivative(xix(x,t,u(x,t),v(x,t)),u(x,t))',\n",
       " '-2*v(x,t)*Derivative(v(x,t),x)*Derivative(xix(x,t,u(x,t),v(x,t)),v(x,t))',\n",
       " '-2*v(x,t)*Subs(Derivative(xix(_xi_1,t,u(x,t),v(x,t)),_xi_1),_xi_1,x)',\n",
       " '+xit(x,t,u(x,t),v(x,t))*Derivative(v(x,t),t)',\n",
       " '+xix(x,t,u(x,t),v(x,t))*Derivative(v(x,t),x)',\n",
       " '+Derivative(etau(x,t,u(x,t),v(x,t)),u(x,t))*Derivative(v(x,t),t)',\n",
       " '-Derivative(etau(x,t,u(x,t),v(x,t)),(u(x,t),2))*Derivative(u(x,t),x)^2',\n",
       " '+Derivative(etau(x,t,u(x,t),v(x,t)),v(x,t))*Derivative(v(x,t),t)',\n",
       " '-Derivative(etau(x,t,u(x,t),v(x,t)),v(x,t))*Derivative(v(x,t),(x,2))',\n",
       " '-Derivative(etau(x,t,u(x,t),v(x,t)),(v(x,t),2))*Derivative(v(x,t),x)^2',\n",
       " '+Derivative(etav(x,t,u(x,t),v(x,t)),u(x,t))*Derivative(u(x,t),t)',\n",
       " '+Derivative(etav(x,t,u(x,t),v(x,t)),v(x,t))*Derivative(v(x,t),t)',\n",
       " '+Derivative(u(x,t),t)*Derivative(u(x,t),x)^2*Derivative(xit(x,t,u(x,t),v(x,t)),(u(x,t),2))',\n",
       " '+2*Derivative(u(x,t),t)*Derivative(u(x,t),x)*Derivative(v(x,t),x)*Derivative(xit(x,t,u(x,t),v(x,t)),u(x,t),v(x,t))',\n",
       " '+2*Derivative(u(x,t),t)*Derivative(u(x,t),x)*Derivative(xix(x,t,u(x,t),v(x,t)),u(x,t))',\n",
       " '+2*Derivative(u(x,t),t)*Derivative(u(x,t),x)*Subs(Derivative(xit(_xi_1,t,u(x,t),v(x,t)),_xi_1,u(x,t)),_xi_1,x)',\n",
       " '-2*Derivative(u(x,t),t)*Derivative(v(x,t),t)*Derivative(xit(x,t,u(x,t),v(x,t)),u(x,t))',\n",
       " '-Derivative(u(x,t),t)*Derivative(v(x,t),t)*Derivative(xit(x,t,u(x,t),v(x,t)),v(x,t))',\n",
       " '+Derivative(u(x,t),t)*Derivative(v(x,t),x)^2*Derivative(xit(x,t,u(x,t),v(x,t)),(v(x,t),2))',\n",
       " '-Derivative(u(x,t),t)*Derivative(v(x,t),x)*Derivative(xix(x,t,u(x,t),v(x,t)),u(x,t))',\n",
       " '+2*Derivative(u(x,t),t)*Derivative(v(x,t),x)*Derivative(xix(x,t,u(x,t),v(x,t)),v(x,t))',\n",
       " '+2*Derivative(u(x,t),t)*Derivative(v(x,t),x)*Subs(Derivative(xit(_xi_1,t,u(x,t),v(x,t)),_xi_1,v(x,t)),_xi_1,x)',\n",
       " '+Derivative(u(x,t),t)*Derivative(v(x,t),(x,2))*Derivative(xit(x,t,u(x,t),v(x,t)),v(x,t))',\n",
       " '+Derivative(u(x,t),t)*Subs(Derivative(xit(_xi_1,t,u(x,t),v(x,t)),(_xi_1,2)),_xi_1,x)',\n",
       " '-Derivative(u(x,t),t)*Subs(Derivative(xit(x,_xi_2,u(x,t),v(x,t)),_xi_2),_xi_2,t)',\n",
       " '+2*Derivative(u(x,t),t)*Subs(Derivative(xix(_xi_1,t,u(x,t),v(x,t)),_xi_1),_xi_1,x)',\n",
       " '+Derivative(u(x,t),x)^3*Derivative(xix(x,t,u(x,t),v(x,t)),(u(x,t),2))',\n",
       " '+2*Derivative(u(x,t),x)^2*Derivative(v(x,t),x)*Derivative(xix(x,t,u(x,t),v(x,t)),u(x,t),v(x,t))',\n",
       " '+2*Derivative(u(x,t),x)^2*Subs(Derivative(xix(_xi_1,t,u(x,t),v(x,t)),_xi_1,u(x,t)),_xi_1,x)',\n",
       " '-3*Derivative(u(x,t),x)*Derivative(v(x,t),t)*Derivative(xix(x,t,u(x,t),v(x,t)),u(x,t))',\n",
       " '-Derivative(u(x,t),x)*Derivative(v(x,t),t)*Derivative(xix(x,t,u(x,t),v(x,t)),v(x,t))',\n",
       " '+Derivative(u(x,t),x)*Derivative(v(x,t),x)^2*Derivative(xix(x,t,u(x,t),v(x,t)),(v(x,t),2))',\n",
       " '-2*Derivative(u(x,t),x)*Derivative(v(x,t),x)*Derivative(etau(x,t,u(x,t),v(x,t)),u(x,t),v(x,t))',\n",
       " '+2*Derivative(u(x,t),x)*Derivative(v(x,t),x)*Subs(Derivative(xix(_xi_1,t,u(x,t),v(x,t)),_xi_1,v(x,t)),_xi_1,x)',\n",
       " '+Derivative(u(x,t),x)*Derivative(v(x,t),(x,2))*Derivative(xix(x,t,u(x,t),v(x,t)),v(x,t))',\n",
       " '+2*Derivative(u(x,t),x)*Derivative(xit(x,t,u(x,t),v(x,t)),u(x,t))*Derivative(u(x,t),t,x)',\n",
       " '+Derivative(u(x,t),x)*Subs(Derivative(xix(_xi_1,t,u(x,t),v(x,t)),(_xi_1,2)),_xi_1,x)',\n",
       " '-Derivative(u(x,t),x)*Subs(Derivative(xix(x,_xi_2,u(x,t),v(x,t)),_xi_2),_xi_2,t)',\n",
       " '-2*Derivative(u(x,t),x)*Subs(Derivative(etau(_xi_1,t,u(x,t),v(x,t)),_xi_1,u(x,t)),_xi_1,x)',\n",
       " '-Derivative(v(x,t),t)^2*Derivative(xit(x,t,u(x,t),v(x,t)),v(x,t))',\n",
       " '-3*Derivative(v(x,t),t)*Derivative(v(x,t),x)*Derivative(xix(x,t,u(x,t),v(x,t)),v(x,t))',\n",
       " '-Derivative(v(x,t),t)*Subs(Derivative(xit(x,_xi_2,u(x,t),v(x,t)),_xi_2),_xi_2,t)',\n",
       " '-2*Derivative(v(x,t),t)*Subs(Derivative(xix(_xi_1,t,u(x,t),v(x,t)),_xi_1),_xi_1,x)',\n",
       " '+2*Derivative(v(x,t),x)*Derivative(xit(x,t,u(x,t),v(x,t)),v(x,t))*Derivative(u(x,t),t,x)',\n",
       " '-Derivative(v(x,t),x)*Subs(Derivative(xix(x,_xi_2,u(x,t),v(x,t)),_xi_2),_xi_2,t)',\n",
       " '-2*Derivative(v(x,t),x)*Subs(Derivative(etau(_xi_1,t,u(x,t),v(x,t)),_xi_1,v(x,t)),_xi_1,x)',\n",
       " '+2*Derivative(u(x,t),t,x)*Subs(Derivative(xit(_xi_1,t,u(x,t),v(x,t)),_xi_1),_xi_1,x)',\n",
       " '-Subs(Derivative(etau(_xi_1,t,u(x,t),v(x,t)),(_xi_1,2)),_xi_1,x)',\n",
       " '+Subs(Derivative(etau(x,_xi_2,u(x,t),v(x,t)),_xi_2),_xi_2,t)',\n",
       " '+Subs(Derivative(etav(x,_xi_2,u(x,t),v(x,t)),_xi_2),_xi_2,t)']"
      ]
     },
     "execution_count": 56,
     "metadata": {},
     "output_type": "execute_result"
    }
   ],
   "source": [
    "XF_string = re.sub(r'\\^',\"\", S_no_space)\n",
    "XF_string = re.sub(r'\\*{2}',\"^\", XF_string)\n",
    "XF_string = re.sub('\\+', ' +', XF_string)\n",
    "XF_string = re.sub('\\-', ' -', XF_string)\n",
    "XF_terms = re.split(' ', XF_string)\n",
    "if XF_terms[0] == '':\n",
    "    XF_terms.pop(0)\n",
    "XF_terms"
   ]
  },
  {
   "cell_type": "code",
   "execution_count": 65,
   "metadata": {},
   "outputs": [
    {
     "data": {
      "text/plain": [
       "{'Derivative(u(x,t),t)*Derivative(u(x,t),x)^2': ['+Derivative(xit(x,t,u(x,t),v(x,t)),(u(x,t),2))'],\n",
       " 'Derivative(u(x,t),t)*Derivative(u(x,t),x)*Derivative(v(x,t),x)': ['+2*Derivative(xit(x,t,u(x,t),v(x,t)),u(x,t),v(x,t))'],\n",
       " 'Derivative(u(x,t),t)*Derivative(u(x,t),x)': ['+2*Derivative(xix(x,t,u(x,t),v(x,t)),u(x,t))',\n",
       "  '+2*Subs(Derivative(xit(_xi_1,t,u(x,t),v(x,t)),_xi_1,u(x,t)),_xi_1,x)'],\n",
       " 'Derivative(u(x,t),t)*Derivative(v(x,t),t)': ['-2*Derivative(xit(x,t,u(x,t),v(x,t)),u(x,t))',\n",
       "  '-Derivative(xit(x,t,u(x,t),v(x,t)),v(x,t))'],\n",
       " 'Derivative(u(x,t),t)*Derivative(v(x,t),x)^2': ['+Derivative(xit(x,t,u(x,t),v(x,t)),(v(x,t),2))'],\n",
       " 'Derivative(u(x,t),t)*Derivative(v(x,t),x)': ['-Derivative(xix(x,t,u(x,t),v(x,t)),u(x,t))',\n",
       "  '+2*Derivative(xix(x,t,u(x,t),v(x,t)),v(x,t))',\n",
       "  '+2*Subs(Derivative(xit(_xi_1,t,u(x,t),v(x,t)),_xi_1,v(x,t)),_xi_1,x)'],\n",
       " 'Derivative(u(x,t),t)*Derivative(v(x,t),(x,2))': ['+Derivative(xit(x,t,u(x,t),v(x,t)),v(x,t))'],\n",
       " 'Derivative(u(x,t),x)^3': ['+Derivative(xix(x,t,u(x,t),v(x,t)),(u(x,t),2))'],\n",
       " 'Derivative(u(x,t),x)^2*Derivative(v(x,t),x)': ['+2*Derivative(xix(x,t,u(x,t),v(x,t)),u(x,t),v(x,t))'],\n",
       " 'Derivative(u(x,t),x)*Derivative(v(x,t),t)': ['-3*Derivative(xix(x,t,u(x,t),v(x,t)),u(x,t))',\n",
       "  '-Derivative(xix(x,t,u(x,t),v(x,t)),v(x,t))'],\n",
       " 'Derivative(u(x,t),x)*Derivative(v(x,t),x)^2': ['+Derivative(xix(x,t,u(x,t),v(x,t)),(v(x,t),2))'],\n",
       " 'Derivative(u(x,t),x)*Derivative(v(x,t),x)': ['-2*Derivative(etau(x,t,u(x,t),v(x,t)),u(x,t),v(x,t))',\n",
       "  '+2*Subs(Derivative(xix(_xi_1,t,u(x,t),v(x,t)),_xi_1,v(x,t)),_xi_1,x)'],\n",
       " 'Derivative(u(x,t),x)*Derivative(v(x,t),(x,2))': ['+Derivative(xix(x,t,u(x,t),v(x,t)),v(x,t))'],\n",
       " 'Derivative(u(x,t),x)*Derivative(u(x,t),t,x)': ['+2*Derivative(xit(x,t,u(x,t),v(x,t)),u(x,t))'],\n",
       " 'Derivative(v(x,t),t)^2': ['-Derivative(xit(x,t,u(x,t),v(x,t)),v(x,t))'],\n",
       " 'Derivative(v(x,t),t)*Derivative(v(x,t),x)': ['-3*Derivative(xix(x,t,u(x,t),v(x,t)),v(x,t))'],\n",
       " 'Derivative(v(x,t),x)*Derivative(u(x,t),t,x)': ['+2*Derivative(xit(x,t,u(x,t),v(x,t)),v(x,t))'],\n",
       " 'Derivative(u(x,t),t,x)': ['+2*Subs(Derivative(xit(_xi_1,t,u(x,t),v(x,t)),_xi_1),_xi_1,x)'],\n",
       " 'Derivative(u(x,t),t)': ['-v(x,t)*Derivative(xit(x,t,u(x,t),v(x,t)),u(x,t))',\n",
       "  '+Derivative(etav(x,t,u(x,t),v(x,t)),u(x,t))',\n",
       "  '+Subs(Derivative(xit(_xi_1,t,u(x,t),v(x,t)),(_xi_1,2)),_xi_1,x)',\n",
       "  '-Subs(Derivative(xit(x,_xi_2,u(x,t),v(x,t)),_xi_2),_xi_2,t)',\n",
       "  '+2*Subs(Derivative(xix(_xi_1,t,u(x,t),v(x,t)),_xi_1),_xi_1,x)'],\n",
       " 'Derivative(v(x,t),t)': ['+xit(x,t,u(x,t),v(x,t))',\n",
       "  '+Derivative(etau(x,t,u(x,t),v(x,t)),u(x,t))',\n",
       "  '+Derivative(etau(x,t,u(x,t),v(x,t)),v(x,t))',\n",
       "  '+Derivative(etav(x,t,u(x,t),v(x,t)),v(x,t))',\n",
       "  '-Subs(Derivative(xit(x,_xi_2,u(x,t),v(x,t)),_xi_2),_xi_2,t)',\n",
       "  '-2*Subs(Derivative(xix(_xi_1,t,u(x,t),v(x,t)),_xi_1),_xi_1,x)'],\n",
       " 'Derivative(u(x,t),x)^2': ['-Derivative(etau(x,t,u(x,t),v(x,t)),(u(x,t),2))',\n",
       "  '+2*Subs(Derivative(xix(_xi_1,t,u(x,t),v(x,t)),_xi_1,u(x,t)),_xi_1,x)'],\n",
       " 'Derivative(v(x,t),(x,2))': ['-Derivative(etau(x,t,u(x,t),v(x,t)),v(x,t))'],\n",
       " 'Derivative(v(x,t),x)^2': ['-Derivative(etau(x,t,u(x,t),v(x,t)),(v(x,t),2))'],\n",
       " 'Derivative(u(x,t),x)': ['-3*v(x,t)*Derivative(xix(x,t,u(x,t),v(x,t)),u(x,t))',\n",
       "  '+Subs(Derivative(xix(_xi_1,t,u(x,t),v(x,t)),(_xi_1,2)),_xi_1,x)',\n",
       "  '-Subs(Derivative(xix(x,_xi_2,u(x,t),v(x,t)),_xi_2),_xi_2,t)',\n",
       "  '-2*Subs(Derivative(etau(_xi_1,t,u(x,t),v(x,t)),_xi_1,u(x,t)),_xi_1,x)'],\n",
       " 'Derivative(v(x,t),x)': ['-2*v(x,t)*Derivative(xix(x,t,u(x,t),v(x,t)),v(x,t))',\n",
       "  '+xix(x,t,u(x,t),v(x,t))',\n",
       "  '-Subs(Derivative(xix(x,_xi_2,u(x,t),v(x,t)),_xi_2),_xi_2,t)',\n",
       "  '-2*Subs(Derivative(etau(_xi_1,t,u(x,t),v(x,t)),_xi_1,v(x,t)),_xi_1,x)'],\n",
       " 'lonely_terms': ['etav(x,t,u(x,t),v(x,t))',\n",
       "  '+v(x,t)*Derivative(etau(x,t,u(x,t),v(x,t)),u(x,t))',\n",
       "  '-2*v(x,t)*Subs(Derivative(xix(_xi_1,t,u(x,t),v(x,t)),_xi_1),_xi_1,x)',\n",
       "  '-Subs(Derivative(etau(_xi_1,t,u(x,t),v(x,t)),(_xi_1,2)),_xi_1,x)',\n",
       "  '+Subs(Derivative(etau(x,_xi_2,u(x,t),v(x,t)),_xi_2),_xi_2,t)',\n",
       "  '+Subs(Derivative(etav(x,_xi_2,u(x,t),v(x,t)),_xi_2),_xi_2,t)']}"
      ]
     },
     "execution_count": 65,
     "metadata": {},
     "output_type": "execute_result"
    }
   ],
   "source": [
    "for key in dict_det_eqn.keys():\n",
    "    dict_det_eqn[key] = []\n",
    "lonely_terms = []\n",
    "for element in XF_terms:\n",
    "    add = False\n",
    "    for key in dict_det_eqn:\n",
    "        factors = key.split('*')\n",
    "        if len(factors) == 1: \n",
    "            if key in element:\n",
    "                dict_det_eqn[key].append(element.replace(key,''))\n",
    "                dict_det_eqn[key][-1] = re.sub(r'(?<=[\\+\\-])\\*+','',dict_det_eqn[key][-1])\n",
    "                dict_det_eqn[key][-1] = re.sub(r'(?<=\\d|\\))\\*+','*',dict_det_eqn[key][-1])\n",
    "                if dict_det_eqn[key][-1][-1] == \"*\":\n",
    "                    dict_det_eqn[key][-1] = dict_det_eqn[key][-1][:-1]\n",
    "                add = True\n",
    "                break\n",
    "        else:\n",
    "            inside = True\n",
    "            for f in factors:\n",
    "                if f not in element:\n",
    "                    inside = False\n",
    "                    break\n",
    "            if inside:\n",
    "                for f in factors:\n",
    "                    element = element.replace(f, '')\n",
    "                dict_det_eqn[key].append(element)\n",
    "                dict_det_eqn[key][-1] = re.sub(r'(?<=[\\+\\-\\)])\\*+','',dict_det_eqn[key][-1])\n",
    "                dict_det_eqn[key][-1] = re.sub(r'(?<=\\d)\\*+','*',dict_det_eqn[key][-1])\n",
    "                add = True\n",
    "                break\n",
    "    if not add:\n",
    "        lonely_terms.append(element)\n",
    "dict_det_eqn['lonely_terms'] = lonely_terms\n",
    "dict_det_eqn\n"
   ]
  },
  {
   "cell_type": "code",
   "execution_count": null,
   "metadata": {},
   "outputs": [],
   "source": []
  },
  {
   "cell_type": "code",
   "execution_count": 26,
   "metadata": {},
   "outputs": [
    {
     "data": {
      "text/plain": [
       "['+2*Derivative(xi^x(x,t,u(x,t),v(x,t)),u(x,t))',\n",
       " '+2*Subs(Derivative(xi^t(_xi_1,t,u(x,t),v(x,t)),_xi_1,u(x,t)),_xi_1,x)']"
      ]
     },
     "execution_count": 26,
     "metadata": {},
     "output_type": "execute_result"
    }
   ],
   "source": [
    "dict_det_eqn['Derivative(u(x,t),t)*Derivative(u(x,t),x)']"
   ]
  }
 ],
 "metadata": {
  "kernelspec": {
   "display_name": "Python 3",
   "language": "python",
   "name": "python3"
  },
  "language_info": {
   "codemirror_mode": {
    "name": "ipython",
    "version": 3
   },
   "file_extension": ".py",
   "mimetype": "text/x-python",
   "name": "python",
   "nbconvert_exporter": "python",
   "pygments_lexer": "ipython3",
   "version": "3.8.8"
  }
 },
 "nbformat": 4,
 "nbformat_minor": 4
}
