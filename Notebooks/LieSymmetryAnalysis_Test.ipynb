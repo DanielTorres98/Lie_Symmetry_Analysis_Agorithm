{
 "cells": [
  {
   "cell_type": "code",
   "execution_count": 1,
   "metadata": {},
   "outputs": [],
   "source": [
    "import sympy as sp\n",
    "import time\n",
    "from sympy import Derivative as D\n",
    "from utils.symbolic import (infinitesimals_generator, higher_infinitesimals_generator,\n",
    "                            group_operator, der_relabel, deriv_infts, subs_new_vars, Diff,\n",
    "                           sym_det_eqn)\n",
    "from utils.algebra import (str_to_dict, get_common_factors, get_det_eqns, str_eqn_to_dict_eqn, \n",
    "                            simplify_redundant_eqn)"
   ]
  },
  {
   "cell_type": "code",
   "execution_count": 2,
   "metadata": {},
   "outputs": [
    {
     "data": {
      "text/latex": [
       "$\\displaystyle - \\gamma \\frac{\\partial^{2}}{\\partial x^{2}} b{\\left(x,y,z,t \\right)} - \\gamma \\frac{\\partial^{2}}{\\partial y^{2}} b{\\left(x,y,z,t \\right)} + \\sigma \\frac{\\partial}{\\partial x} \\psi{\\left(x,y,z,t \\right)} \\frac{\\partial^{3}}{\\partial y^{3}} \\psi{\\left(x,y,z,t \\right)} + \\sigma \\frac{\\partial}{\\partial x} \\psi{\\left(x,y,z,t \\right)} \\frac{\\partial^{3}}{\\partial y\\partial x^{2}} \\psi{\\left(x,y,z,t \\right)} - \\sigma \\frac{\\partial^{3}}{\\partial x^{3}} \\psi{\\left(x,y,z,t \\right)} \\frac{\\partial}{\\partial y} \\psi{\\left(x,y,z,t \\right)} - \\sigma \\frac{\\partial}{\\partial y} \\psi{\\left(x,y,z,t \\right)} \\frac{\\partial^{3}}{\\partial x\\partial y^{2}} \\psi{\\left(x,y,z,t \\right)} + \\frac{\\partial}{\\partial t} b{\\left(x,y,z,t \\right)} + \\frac{\\partial}{\\partial x} b{\\left(x,y,z,t \\right)} \\frac{\\partial}{\\partial y} \\phi{\\left(x,y,z,t \\right)} - \\frac{\\partial}{\\partial y} b{\\left(x,y,z,t \\right)} \\frac{\\partial}{\\partial x} \\phi{\\left(x,y,z,t \\right)} + \\frac{\\partial}{\\partial x} \\psi{\\left(x,y,z,t \\right)} \\frac{\\partial}{\\partial y} w{\\left(x,y,z,t \\right)} - \\frac{\\partial}{\\partial y} \\psi{\\left(x,y,z,t \\right)} \\frac{\\partial}{\\partial x} w{\\left(x,y,z,t \\right)}$"
      ],
      "text/plain": [
       "-gamma*Derivative(b(x, y, z, t), (x, 2)) - gamma*Derivative(b(x, y, z, t), (y, 2)) + sigma*Derivative(psi(x, y, z, t), x)*Derivative(psi(x, y, z, t), (y, 3)) + sigma*Derivative(psi(x, y, z, t), x)*Derivative(psi(x, y, z, t), (x, 2), y) - sigma*Derivative(psi(x, y, z, t), (x, 3))*Derivative(psi(x, y, z, t), y) - sigma*Derivative(psi(x, y, z, t), y)*Derivative(psi(x, y, z, t), (y, 2), x) + Derivative(b(x, y, z, t), t) + Derivative(b(x, y, z, t), x)*Derivative(phi(x, y, z, t), y) - Derivative(b(x, y, z, t), y)*Derivative(phi(x, y, z, t), x) + Derivative(psi(x, y, z, t), x)*Derivative(w(x, y, z, t), y) - Derivative(psi(x, y, z, t), y)*Derivative(w(x, y, z, t), x)"
      ]
     },
     "execution_count": 2,
     "metadata": {},
     "output_type": "execute_result"
    }
   ],
   "source": [
    "x, y, z, t = sp.symbols('x y z t')\n",
    "phi = sp.Function('phi')(x, y, z, t)\n",
    "psi = sp.Function('psi')(x, y, z, t)\n",
    "b = sp.Function('b')(x, y, z, t)\n",
    "w = sp.Function('w')(x, y, z, t)\n",
    "sigma, gamma = sp.symbols('sigma gamma')\n",
    "list_indep = [x, y, z, t]\n",
    "list_dep = [phi, psi, b, w]\n",
    "list_var = list_indep + list_dep\n",
    "list_cte = [sigma, gamma]\n",
    "list_all = list_cte + list_indep + list_dep\n",
    "F =  D(b, t) + D(b, x)*D(phi, y) - D(b, y)*D(phi, x) + sigma*(D(psi, x)*(D(psi, x, x, y) + D(psi, y, y, y))-\n",
    "        D(psi, y)*(D(psi, x, x, x) + D(psi, y, y, x))) + D(psi, x)*D(w, y) - D(psi, y)*D(w, x) - gamma*(D(b,x,x) + D(b, y, y))\n",
    "F_rules_array = {D(psi, x, x, y): \n",
    "        - (sigma*D(psi, x))**(-1)*(D(b, t) + D(b, x)*D(phi, y) - D(b, y)*D(phi, x) \n",
    "        + D(psi, x)*D(w, y) - D(psi, y)*D(w, x) \n",
    "        - gamma*(D(b,x,x) + D(b, y, y)))\n",
    "        +(D(psi, x))**(-1)*D(psi, y)*(D(psi, x, x, x) + D(psi, y, y, x))\n",
    "        - D(psi, y, y, y)}\n",
    "order = 3\n",
    "F.expand()"
   ]
  },
  {
   "cell_type": "code",
   "execution_count": 3,
   "metadata": {},
   "outputs": [
    {
     "data": {
      "text/latex": [
       "$\\displaystyle x v{\\left(x,t \\right)} + \\frac{\\partial}{\\partial t} u{\\left(x,t \\right)} - \\frac{\\partial^{2}}{\\partial x^{2}} u{\\left(x,t \\right)} + \\frac{\\partial}{\\partial t} v{\\left(x,t \\right)}$"
      ],
      "text/plain": [
       "x*v(x, t) + Derivative(u(x, t), t) - Derivative(u(x, t), (x, 2)) + Derivative(v(x, t), t)"
      ]
     },
     "execution_count": 3,
     "metadata": {},
     "output_type": "execute_result"
    }
   ],
   "source": [
    "x, t, k = sp.symbols('x t kappa')\n",
    "u = sp.Function('u')(x, t)\n",
    "v = sp.Function('v')(x, t)\n",
    "list_indep = [x, t]\n",
    "list_dep = [u, v]\n",
    "list_var = list_indep + list_dep\n",
    "list_cte = [k]\n",
    "list_all = list_cte + list_indep + list_dep\n",
    "F =  D(u,t) - D(u,x,x) +D(v,t) + x*v\n",
    "F_rules_array = {D(u,x,x):D(u,t)+D(v,t)+x*v}\n",
    "order = 2\n",
    "F.expand()"
   ]
  },
  {
   "cell_type": "code",
   "execution_count": 2,
   "metadata": {},
   "outputs": [
    {
     "data": {
      "text/latex": [
       "$\\displaystyle \\frac{\\partial}{\\partial t} u{\\left(x,t \\right)} - \\frac{\\partial^{2}}{\\partial x^{2}} u{\\left(x,t \\right)}$"
      ],
      "text/plain": [
       "Derivative(u(x, t), t) - Derivative(u(x, t), (x, 2))"
      ]
     },
     "execution_count": 2,
     "metadata": {},
     "output_type": "execute_result"
    }
   ],
   "source": [
    "x, t = sp.symbols('x t')\n",
    "u = sp.Function('u')(x, t)\n",
    "list_indep = [x, t]\n",
    "list_dep = [u]\n",
    "list_var = list_indep + list_dep\n",
    "list_cte = []\n",
    "list_all = list_cte + list_indep + list_dep\n",
    "F =  D(u,t) - D(u,x,x)\n",
    "F_rules_array = {D(u,x,x):D(u,t)}\n",
    "order = 2\n",
    "F.expand()"
   ]
  },
  {
   "cell_type": "code",
   "execution_count": 2,
   "metadata": {},
   "outputs": [
    {
     "data": {
      "text/latex": [
       "$\\displaystyle - k \\frac{\\partial^{2}}{\\partial x^{2}} u{\\left(x,t \\right)} + \\frac{\\partial}{\\partial t} u{\\left(x,t \\right)}$"
      ],
      "text/plain": [
       "-k*Derivative(u(x, t), (x, 2)) + Derivative(u(x, t), t)"
      ]
     },
     "execution_count": 2,
     "metadata": {},
     "output_type": "execute_result"
    }
   ],
   "source": [
    "x, t, k = sp.symbols('x t k')\n",
    "u = sp.Function('u')(x, t)\n",
    "list_indep = [x, t]\n",
    "list_dep = [u]\n",
    "list_var = list_indep + list_dep\n",
    "list_cte = [k]\n",
    "list_all = list_cte + list_indep + list_dep\n",
    "F =  D(u,t) - k*D(u,x,x)\n",
    "F_rules_array = {D(u,x,x):1/k*D(u,t)}\n",
    "order = 2\n",
    "F.expand()"
   ]
  },
  {
   "cell_type": "code",
   "execution_count": 3,
   "metadata": {},
   "outputs": [
    {
     "name": "stdout",
     "output_type": "stream",
     "text": [
      "0.001994609832763672\n"
     ]
    }
   ],
   "source": [
    "t = time.time()\n",
    "infts = infinitesimals_generator(list_indep, list_dep)\n",
    "n_indep = len(list_indep)\n",
    "n_dep = len(list_dep)\n",
    "infts_ind = infts[0:n_indep]\n",
    "infts_dep = infts[n_indep:(n_dep + n_indep )]\n",
    "elapsed = time.time() - t\n",
    "print(elapsed)"
   ]
  },
  {
   "cell_type": "code",
   "execution_count": 4,
   "metadata": {},
   "outputs": [
    {
     "name": "stdout",
     "output_type": "stream",
     "text": [
      "0.38218188285827637\n"
     ]
    }
   ],
   "source": [
    "t = time.time()\n",
    "inft_derivatives, dep_vars_derivatives = higher_infinitesimals_generator(infts_ind, infts_dep,\n",
    "                                                                            order, list_indep, list_dep)\n",
    "infts_dummy = [item for sublist in inft_derivatives for item in sublist]\n",
    "dep_vars_derivatives = [item for sublist in dep_vars_derivatives for item in sublist]\n",
    "infts = infts + infts_dummy\n",
    "elapsed = time.time() - t\n",
    "print(elapsed)"
   ]
  },
  {
   "cell_type": "code",
   "execution_count": 5,
   "metadata": {},
   "outputs": [
    {
     "name": "stdout",
     "output_type": "stream",
     "text": [
      "0.0009975433349609375\n"
     ]
    }
   ],
   "source": [
    "t = time.time()\n",
    "F, deriv_names = der_relabel(dep_vars_derivatives, F)\n",
    "\n",
    "vars_and_derivatives = list_indep + list_dep + deriv_names\n",
    "elapsed = time.time() - t\n",
    "print(elapsed)"
   ]
  },
  {
   "cell_type": "code",
   "execution_count": 6,
   "metadata": {},
   "outputs": [
    {
     "name": "stdout",
     "output_type": "stream",
     "text": [
      "1.4771103858947754\n"
     ]
    }
   ],
   "source": [
    "t = time.time()\n",
    "XF = group_operator(F, vars_and_derivatives, infts) # Es la que mas se tarda\n",
    "elapsed = time.time() - t\n",
    "print(elapsed)"
   ]
  },
  {
   "cell_type": "code",
   "execution_count": 7,
   "metadata": {},
   "outputs": [
    {
     "name": "stdout",
     "output_type": "stream",
     "text": [
      "0.0029926300048828125\n"
     ]
    }
   ],
   "source": [
    "t = time.time()\n",
    "XF = subs_new_vars(dep_vars_derivatives, deriv_names, XF)\n",
    "elapsed = time.time() - t\n",
    "print(elapsed)"
   ]
  },
  {
   "cell_type": "code",
   "execution_count": 8,
   "metadata": {},
   "outputs": [
    {
     "name": "stdout",
     "output_type": "stream",
     "text": [
      "0.4251976013183594\n"
     ]
    }
   ],
   "source": [
    "t = time.time()\n",
    "XF = sp.simplify(XF.subs(F_rules_array))\n",
    "elapsed = time.time() - t\n",
    "print(elapsed)"
   ]
  },
  {
   "cell_type": "code",
   "execution_count": 9,
   "metadata": {},
   "outputs": [
    {
     "data": {
      "text/plain": [
       "'-k*Derivative(eta^u(x,t,u(x,t)),(u(x,t),2))*Derivative(u(x,t),x)**2+k*Derivative(u(x,t),t)*Derivative(u(x,t),x)**2*Derivative(xi^t(x,t,u(x,t)),(u(x,t),2))+k*Derivative(u(x,t),t)*Derivative(u(x,t),x)*Subs(Derivative(xi^t(_xi_1,t,u(x,t)),_xi_1,u(x,t)),_xi_1,x)+k*Derivative(u(x,t),t)*Derivative(u(x,t),x)*Subs(Derivative(xi^t(x,t,_xi),_xi,x),_xi,u(x,t))+k*Derivative(u(x,t),t)*Subs(Derivative(xi^t(_xi_1,t,u(x,t)),(_xi_1,2)),_xi_1,x)+k*Derivative(u(x,t),x)**3*Derivative(xi^x(x,t,u(x,t)),(u(x,t),2))+k*Derivative(u(x,t),x)**2*Subs(Derivative(xi^x(_xi_1,t,u(x,t)),_xi_1,u(x,t)),_xi_1,x)+k*Derivative(u(x,t),x)**2*Subs(Derivative(xi^x(x,t,_xi),_xi,x),_xi,u(x,t))+2*k*Derivative(u(x,t),x)*Derivative(xi^t(x,t,u(x,t)),u(x,t))*Derivative(u(x,t),t,x)+k*Derivative(u(x,t),x)*Subs(Derivative(xi^x(_xi_1,t,u(x,t)),(_xi_1,2)),_xi_1,x)-k*Derivative(u(x,t),x)*Subs(Derivative(eta^u(_xi_1,t,u(x,t)),_xi_1,u(x,t)),_xi_1,x)-k*Derivative(u(x,t),x)*Subs(Derivative(eta^u(x,t,_xi),_xi,x),_xi,u(x,t))+2*k*Derivative(u(x,t),t,x)*Subs(Derivative(xi^t(_xi_1,t,u(x,t)),_xi_1),_xi_1,x)-k*Subs(Derivative(eta^u(_xi_1,t,u(x,t)),(_xi_1,2)),_xi_1,x)+2*Derivative(u(x,t),t)*Derivative(u(x,t),x)*Derivative(xi^x(x,t,u(x,t)),u(x,t))-Derivative(u(x,t),t)*Subs(Derivative(xi^t(x,_xi_2,u(x,t)),_xi_2),_xi_2,t)+2*Derivative(u(x,t),t)*Subs(Derivative(xi^x(_xi_1,t,u(x,t)),_xi_1),_xi_1,x)-Derivative(u(x,t),x)*Subs(Derivative(xi^x(x,_xi_2,u(x,t)),_xi_2),_xi_2,t)+Subs(Derivative(eta^u(x,_xi_2,u(x,t)),_xi_2),_xi_2,t)'"
      ]
     },
     "execution_count": 9,
     "metadata": {},
     "output_type": "execute_result"
    }
   ],
   "source": [
    "str(XF.expand()).replace(\" \",\"\")"
   ]
  },
  {
   "cell_type": "code",
   "execution_count": 10,
   "metadata": {},
   "outputs": [
    {
     "name": "stdout",
     "output_type": "stream",
     "text": [
      "-Derivative(u(x,t),x)^2+Derivative(u(x,t),t)*Derivative(u(x,t),x)^2+Derivative(u(x,t),t)*Derivative(u(x,t),x)+Derivative(u(x,t),t)*Derivative(u(x,t),x)+Derivative(u(x,t),t)+Derivative(u(x,t),x)^3+Derivative(u(x,t),x)^2+Derivative(u(x,t),x)^2+Derivative(u(x,t),x)*Derivative(u(x,t),t,x)+Derivative(u(x,t),x)-Derivative(u(x,t),x)-Derivative(u(x,t),x)+Derivative(u(x,t),t,x)-+Derivative(u(x,t),t)*Derivative(u(x,t),x)-Derivative(u(x,t),t)+Derivative(u(x,t),t)-Derivative(u(x,t),x)+\n",
      "0.005984783172607422\n"
     ]
    }
   ],
   "source": [
    "t = time.time()\n",
    "empty_det_eqn = get_common_factors(XF, list_dep, list_indep, list_cte)\n",
    "elapsed = time.time() - t\n",
    "print(elapsed)"
   ]
  },
  {
   "cell_type": "code",
   "execution_count": 11,
   "metadata": {},
   "outputs": [
    {
     "data": {
      "text/plain": [
       "{'Derivative(u(x,t),t)*Derivative(u(x,t),x)^2': None,\n",
       " 'Derivative(u(x,t),t)*Derivative(u(x,t),x)': None,\n",
       " 'Derivative(u(x,t),t)': None,\n",
       " 'Derivative(u(x,t),x)^3': None,\n",
       " 'Derivative(u(x,t),x)*Derivative(u(x,t),t,x)': None,\n",
       " 'Derivative(u(x,t),t,x)': None,\n",
       " 'Derivative(u(x,t),x)^2': None,\n",
       " 'Derivative(u(x,t),x)': None}"
      ]
     },
     "execution_count": 11,
     "metadata": {},
     "output_type": "execute_result"
    }
   ],
   "source": [
    "empty_det_eqn"
   ]
  },
  {
   "cell_type": "code",
   "execution_count": 12,
   "metadata": {},
   "outputs": [
    {
     "name": "stdout",
     "output_type": "stream",
     "text": [
      "0.005983829498291016\n"
     ]
    }
   ],
   "source": [
    "t = time.time()\n",
    "det_eqn = get_det_eqns(XF, empty_det_eqn)\n",
    "elapsed = time.time() - t\n",
    "print(elapsed)"
   ]
  },
  {
   "cell_type": "code",
   "execution_count": 13,
   "metadata": {},
   "outputs": [
    {
     "data": {
      "text/plain": [
       "{'Derivative(u(x,t),t)*Derivative(u(x,t),x)^2': ['+k*Derivative(xit(x,t,u(x,t)),(u(x,t),2))'],\n",
       " 'Derivative(u(x,t),t)*Derivative(u(x,t),x)': ['+k*Subs(Derivative(xit(_xi_1,t,u(x,t)),_xi_1,u(x,t)),_xi_1,x)',\n",
       "  '+k*Subs(Derivative(xit(x,t,_xi),_xi,x),_xi,u(x,t))',\n",
       "  '+2*Derivative(xix(x,t,u(x,t)),u(x,t))'],\n",
       " 'Derivative(u(x,t),t)': ['+k*Subs(Derivative(xit(_xi_1,t,u(x,t)),(_xi_1,2)),_xi_1,x)',\n",
       "  '-Subs(Derivative(xit(x,_xi_2,u(x,t)),_xi_2),_xi_2,t)',\n",
       "  '+2*Subs(Derivative(xix(_xi_1,t,u(x,t)),_xi_1),_xi_1,x)'],\n",
       " 'Derivative(u(x,t),x)^3': ['+k*Derivative(xix(x,t,u(x,t)),(u(x,t),2))'],\n",
       " 'Derivative(u(x,t),x)*Derivative(u(x,t),t,x)': ['+2*k*Derivative(xit(x,t,u(x,t)),u(x,t))'],\n",
       " 'Derivative(u(x,t),t,x)': ['+2*k*Subs(Derivative(xit(_xi_1,t,u(x,t)),_xi_1),_xi_1,x)'],\n",
       " 'Derivative(u(x,t),x)^2': ['-k*Derivative(etau(x,t,u(x,t)),(u(x,t),2))',\n",
       "  '+k*Subs(Derivative(xix(_xi_1,t,u(x,t)),_xi_1,u(x,t)),_xi_1,x)',\n",
       "  '+k*Subs(Derivative(xix(x,t,_xi),_xi,x),_xi,u(x,t))'],\n",
       " 'Derivative(u(x,t),x)': ['+k*Subs(Derivative(xix(_xi_1,t,u(x,t)),(_xi_1,2)),_xi_1,x)',\n",
       "  '-k*Subs(Derivative(etau(_xi_1,t,u(x,t)),_xi_1,u(x,t)),_xi_1,x)',\n",
       "  '-k*Subs(Derivative(etau(x,t,_xi),_xi,x),_xi,u(x,t))',\n",
       "  '-Subs(Derivative(xix(x,_xi_2,u(x,t)),_xi_2),_xi_2,t)'],\n",
       " 'lonely_terms': ['-k*Subs(Derivative(etau(_xi_1,t,u(x,t)),(_xi_1,2)),_xi_1,x)',\n",
       "  '+Subs(Derivative(etau(x,_xi_2,u(x,t)),_xi_2),_xi_2,t)']}"
      ]
     },
     "execution_count": 13,
     "metadata": {},
     "output_type": "execute_result"
    }
   ],
   "source": [
    "det_eqn"
   ]
  },
  {
   "cell_type": "code",
   "execution_count": 19,
   "metadata": {},
   "outputs": [
    {
     "name": "stdout",
     "output_type": "stream",
     "text": [
      "['+k*Derivative(xit(x,t,u(x,t)),(u(x,t),2))']\n",
      "['+k*Subs(Derivative(xit(_xi_1,t,u(x,t)),_xi_1,u(x,t)),_xi_1,x)', '+k*Subs(Derivative(xit(x,t,_xi),_xi,x),_xi,u(x,t))', '+2*Derivative(xix(x,t,u(x,t)),u(x,t))']\n",
      "['+k*Subs(Derivative(xit(_xi_1,t,u(x,t)),(_xi_1,2)),_xi_1,x)', '-Subs(Derivative(xit(x,_xi_2,u(x,t)),_xi_2),_xi_2,t)', '+2*Subs(Derivative(xix(_xi_1,t,u(x,t)),_xi_1),_xi_1,x)']\n",
      "['+k*Derivative(xix(x,t,u(x,t)),(u(x,t),2))']\n",
      "['+2*k*Derivative(xit(x,t,u(x,t)),u(x,t))']\n",
      "['+2*k*Subs(Derivative(xit(_xi_1,t,u(x,t)),_xi_1),_xi_1,x)']\n",
      "['-k*Derivative(etau(x,t,u(x,t)),(u(x,t),2))', '+k*Subs(Derivative(xix(_xi_1,t,u(x,t)),_xi_1,u(x,t)),_xi_1,x)', '+k*Subs(Derivative(xix(x,t,_xi),_xi,x),_xi,u(x,t))']\n",
      "['+k*Subs(Derivative(xix(_xi_1,t,u(x,t)),(_xi_1,2)),_xi_1,x)', '-k*Subs(Derivative(etau(_xi_1,t,u(x,t)),_xi_1,u(x,t)),_xi_1,x)', '-k*Subs(Derivative(etau(x,t,_xi),_xi,x),_xi,u(x,t))', '-Subs(Derivative(xix(x,_xi_2,u(x,t)),_xi_2),_xi_2,t)']\n",
      "['-k*Subs(Derivative(etau(_xi_1,t,u(x,t)),(_xi_1,2)),_xi_1,x)', '+Subs(Derivative(etau(x,_xi_2,u(x,t)),_xi_2),_xi_2,t)']\n",
      "0.0464177131652832\n"
     ]
    }
   ],
   "source": [
    "t = time.time()\n",
    "det_eqn = str_eqn_to_dict_eqn(det_eqn, list_var, list_all)\n",
    "elapsed = time.time() - t\n",
    "print(elapsed)"
   ]
  },
  {
   "cell_type": "code",
   "execution_count": 20,
   "metadata": {},
   "outputs": [
    {
     "data": {
      "text/plain": [
       "{0: [{'coefficient': 1,\n",
       "   'constants': [1, 0, 0, 0],\n",
       "   'derivatives': [0, 0, 2],\n",
       "   'variable': 'xit'}],\n",
       " 1: [{'coefficient': 1,\n",
       "   'constants': [1, 0, 0, 0],\n",
       "   'derivatives': [1, 0, 1],\n",
       "   'variable': 'xit'},\n",
       "  {'coefficient': 1,\n",
       "   'constants': [1, 0, 0, 0],\n",
       "   'derivatives': [1, 0, 1],\n",
       "   'variable': 'xit'},\n",
       "  {'coefficient': 2,\n",
       "   'constants': [0, 0, 0, 0],\n",
       "   'derivatives': [0, 0, 1],\n",
       "   'variable': 'xix'}],\n",
       " 2: [{'coefficient': 1,\n",
       "   'constants': [1, 0, 0, 0],\n",
       "   'derivatives': [2, 0, 0],\n",
       "   'variable': 'xit'},\n",
       "  {'coefficient': -1,\n",
       "   'constants': [0, 0, 0, 0],\n",
       "   'derivatives': [0, 1, 0],\n",
       "   'variable': 'xit'},\n",
       "  {'coefficient': 2,\n",
       "   'constants': [0, 0, 0, 0],\n",
       "   'derivatives': [1, 0, 0],\n",
       "   'variable': 'xix'}],\n",
       " 3: [{'coefficient': 1,\n",
       "   'constants': [1, 0, 0, 0],\n",
       "   'derivatives': [0, 0, 2],\n",
       "   'variable': 'xix'}],\n",
       " 4: [{'coefficient': 2,\n",
       "   'constants': [1, 0, 0, 0],\n",
       "   'derivatives': [0, 0, 1],\n",
       "   'variable': 'xit'}],\n",
       " 5: [{'coefficient': 2,\n",
       "   'constants': [1, 0, 0, 0],\n",
       "   'derivatives': [1, 0, 0],\n",
       "   'variable': 'xit'}],\n",
       " 6: [{'coefficient': -1,\n",
       "   'constants': [1, 0, 0, 0],\n",
       "   'derivatives': [0, 0, 2],\n",
       "   'variable': 'etau'},\n",
       "  {'coefficient': 1,\n",
       "   'constants': [1, 0, 0, 0],\n",
       "   'derivatives': [1, 0, 1],\n",
       "   'variable': 'xix'},\n",
       "  {'coefficient': 1,\n",
       "   'constants': [1, 0, 0, 0],\n",
       "   'derivatives': [1, 0, 1],\n",
       "   'variable': 'xix'}],\n",
       " 7: [{'coefficient': 1,\n",
       "   'constants': [1, 0, 0, 0],\n",
       "   'derivatives': [2, 0, 0],\n",
       "   'variable': 'xix'},\n",
       "  {'coefficient': -1,\n",
       "   'constants': [1, 0, 0, 0],\n",
       "   'derivatives': [1, 0, 1],\n",
       "   'variable': 'etau'},\n",
       "  {'coefficient': -1,\n",
       "   'constants': [1, 0, 0, 0],\n",
       "   'derivatives': [1, 0, 1],\n",
       "   'variable': 'etau'},\n",
       "  {'coefficient': -1,\n",
       "   'constants': [0, 0, 0, 0],\n",
       "   'derivatives': [0, 1, 0],\n",
       "   'variable': 'xix'}],\n",
       " 8: [{'coefficient': -1,\n",
       "   'constants': [1, 0, 0, 0],\n",
       "   'derivatives': [2, 0, 0],\n",
       "   'variable': 'etau'},\n",
       "  {'coefficient': 1,\n",
       "   'constants': [0, 0, 0, 0],\n",
       "   'derivatives': [0, 1, 0],\n",
       "   'variable': 'etau'}]}"
      ]
     },
     "execution_count": 20,
     "metadata": {},
     "output_type": "execute_result"
    }
   ],
   "source": [
    "det_eqn"
   ]
  },
  {
   "cell_type": "code",
   "execution_count": 21,
   "metadata": {},
   "outputs": [
    {
     "name": "stdout",
     "output_type": "stream",
     "text": [
      "0.0009975433349609375\n"
     ]
    }
   ],
   "source": [
    "t = time.time()\n",
    "det_eqn = simplify_redundant_eqn(det_eqn)\n",
    "elapsed = time.time() - t\n",
    "print(elapsed)"
   ]
  },
  {
   "cell_type": "code",
   "execution_count": 22,
   "metadata": {},
   "outputs": [
    {
     "data": {
      "text/plain": [
       "{0: [{'coefficient': 1,\n",
       "   'constants': [1, 0, 0, 0],\n",
       "   'derivatives': [0, 0, 2],\n",
       "   'variable': 'xit'}],\n",
       " 1: [{'coefficient': 1,\n",
       "   'constants': [1, 0, 0, 0],\n",
       "   'derivatives': [1, 0, 1],\n",
       "   'variable': 'xit'},\n",
       "  {'coefficient': 1,\n",
       "   'constants': [1, 0, 0, 0],\n",
       "   'derivatives': [1, 0, 1],\n",
       "   'variable': 'xit'},\n",
       "  {'coefficient': 2,\n",
       "   'constants': [0, 0, 0, 0],\n",
       "   'derivatives': [0, 0, 1],\n",
       "   'variable': 'xix'}],\n",
       " 2: [{'coefficient': 1,\n",
       "   'constants': [1, 0, 0, 0],\n",
       "   'derivatives': [2, 0, 0],\n",
       "   'variable': 'xit'},\n",
       "  {'coefficient': -1,\n",
       "   'constants': [0, 0, 0, 0],\n",
       "   'derivatives': [0, 1, 0],\n",
       "   'variable': 'xit'},\n",
       "  {'coefficient': 2,\n",
       "   'constants': [0, 0, 0, 0],\n",
       "   'derivatives': [1, 0, 0],\n",
       "   'variable': 'xix'}],\n",
       " 3: [{'coefficient': 1,\n",
       "   'constants': [1, 0, 0, 0],\n",
       "   'derivatives': [0, 0, 2],\n",
       "   'variable': 'xix'}],\n",
       " 4: [{'coefficient': 2,\n",
       "   'constants': [1, 0, 0, 0],\n",
       "   'derivatives': [0, 0, 1],\n",
       "   'variable': 'xit'}],\n",
       " 5: [{'coefficient': 2,\n",
       "   'constants': [1, 0, 0, 0],\n",
       "   'derivatives': [1, 0, 0],\n",
       "   'variable': 'xit'}],\n",
       " 6: [{'coefficient': -1,\n",
       "   'constants': [1, 0, 0, 0],\n",
       "   'derivatives': [0, 0, 2],\n",
       "   'variable': 'etau'},\n",
       "  {'coefficient': 1,\n",
       "   'constants': [1, 0, 0, 0],\n",
       "   'derivatives': [1, 0, 1],\n",
       "   'variable': 'xix'},\n",
       "  {'coefficient': 1,\n",
       "   'constants': [1, 0, 0, 0],\n",
       "   'derivatives': [1, 0, 1],\n",
       "   'variable': 'xix'}],\n",
       " 7: [{'coefficient': 1,\n",
       "   'constants': [1, 0, 0, 0],\n",
       "   'derivatives': [2, 0, 0],\n",
       "   'variable': 'xix'},\n",
       "  {'coefficient': -1,\n",
       "   'constants': [1, 0, 0, 0],\n",
       "   'derivatives': [1, 0, 1],\n",
       "   'variable': 'etau'},\n",
       "  {'coefficient': -1,\n",
       "   'constants': [1, 0, 0, 0],\n",
       "   'derivatives': [1, 0, 1],\n",
       "   'variable': 'etau'},\n",
       "  {'coefficient': -1,\n",
       "   'constants': [0, 0, 0, 0],\n",
       "   'derivatives': [0, 1, 0],\n",
       "   'variable': 'xix'}],\n",
       " 8: [{'coefficient': -1,\n",
       "   'constants': [1, 0, 0, 0],\n",
       "   'derivatives': [2, 0, 0],\n",
       "   'variable': 'etau'},\n",
       "  {'coefficient': 1,\n",
       "   'constants': [0, 0, 0, 0],\n",
       "   'derivatives': [0, 1, 0],\n",
       "   'variable': 'etau'}]}"
      ]
     },
     "execution_count": 22,
     "metadata": {},
     "output_type": "execute_result"
    }
   ],
   "source": [
    "det_eqn"
   ]
  },
  {
   "cell_type": "code",
   "execution_count": 23,
   "metadata": {},
   "outputs": [
    {
     "name": "stdout",
     "output_type": "stream",
     "text": [
      "0.01746082305908203\n"
     ]
    }
   ],
   "source": [
    "t = time.time()\n",
    "sym_det_eqn(det_eqn, list_indep, list_dep, list_cte)\n",
    "elapsed = time.time() - t\n",
    "print(elapsed)"
   ]
  },
  {
   "cell_type": "code",
   "execution_count": 24,
   "metadata": {},
   "outputs": [
    {
     "data": {
      "text/latex": [
       "$\\displaystyle \\left[\\begin{matrix}1 & \\xi^{(t)}_{u u} = 0\\\\2 & 2 k \\xi^{(t)}_{x u} + 2 \\xi^{(x)}_{u} = 0\\\\3 & k \\xi^{(t)}_{x x} - \\xi^{(t)}_{t} + 2 \\xi^{(x)}_{x} = 0\\\\4 & \\xi^{(x)}_{u u} = 0\\\\5 & \\xi^{(t)}_{u} = 0\\\\6 & \\xi^{(t)}_{x} = 0\\\\7 & - \\eta^{(u)}_{u u} k + 2 k \\xi^{(x)}_{x u} = 0\\\\8 & - 2 \\eta^{(u)}_{x u} k + k \\xi^{(x)}_{x x} - \\xi^{(x)}_{t} = 0\\\\9 & \\eta^{(u)}_{t} - \\eta^{(u)}_{x x} k = 0\\end{matrix}\\right]$"
      ],
      "text/plain": [
       "Matrix([\n",
       "[1,                                 Eq(xi^(t)_u_u, 0)],\n",
       "[2,                Eq(2*k*xi^(t)_x_u + 2*xi^(x)_u, 0)],\n",
       "[3,       Eq(k*xi^(t)_x_x - xi^(t)_t + 2*xi^(x)_x, 0)],\n",
       "[4,                                 Eq(xi^(x)_u_u, 0)],\n",
       "[5,                                   Eq(xi^(t)_u, 0)],\n",
       "[6,                                   Eq(xi^(t)_x, 0)],\n",
       "[7,            Eq(-eta^(u)_u_u*k + 2*k*xi^(x)_x_u, 0)],\n",
       "[8, Eq(-2*eta^(u)_x_u*k + k*xi^(x)_x_x - xi^(x)_t, 0)],\n",
       "[9,                  Eq(eta^(u)_t - eta^(u)_x_x*k, 0)]])"
      ]
     },
     "execution_count": 24,
     "metadata": {},
     "output_type": "execute_result"
    }
   ],
   "source": [
    "sym_det_eqn(det_eqn, list_indep, list_dep, list_cte)"
   ]
  },
  {
   "cell_type": "code",
   "execution_count": null,
   "metadata": {},
   "outputs": [],
   "source": []
  }
 ],
 "metadata": {
  "kernelspec": {
   "display_name": "Python 3",
   "language": "python",
   "name": "python3"
  },
  "language_info": {
   "codemirror_mode": {
    "name": "ipython",
    "version": 3
   },
   "file_extension": ".py",
   "mimetype": "text/x-python",
   "name": "python",
   "nbconvert_exporter": "python",
   "pygments_lexer": "ipython3",
   "version": "3.8.8"
  }
 },
 "nbformat": 4,
 "nbformat_minor": 4
}
