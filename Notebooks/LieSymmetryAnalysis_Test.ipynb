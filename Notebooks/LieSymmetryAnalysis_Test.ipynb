{
 "cells": [
  {
   "cell_type": "code",
   "execution_count": 7,
   "metadata": {},
   "outputs": [],
   "source": [
    "import sympy as sp\n",
    "from sympy import Derivative as D\n",
    "from utils.symbolic import (infinitesimals_generator, higher_infinitesimals_generator,\n",
    "                            group_operator, der_relabel, deriv_infts, subs_new_vars)\n",
    "from utils.combinatorics import list_combinatorics"
   ]
  },
  {
   "cell_type": "code",
   "execution_count": 8,
   "metadata": {},
   "outputs": [
    {
     "data": {
      "text/plain": [
       "[[z], [t], [c], [z, z], [z, t], [z, c], [t, t], [t, c], [c, c]]"
      ]
     },
     "execution_count": 8,
     "metadata": {},
     "output_type": "execute_result"
    }
   ],
   "source": [
    "z, t, c = sp.symbols('z t c')\n",
    "list_combinatorics([z, t, c], 2)"
   ]
  },
  {
   "cell_type": "code",
   "execution_count": 9,
   "metadata": {},
   "outputs": [],
   "source": [
    "x, t = sp.symbols('x t')\n",
    "u = sp.Function('u')(x, t)"
   ]
  },
  {
   "cell_type": "code",
   "execution_count": 10,
   "metadata": {},
   "outputs": [],
   "source": [
    "list_indep = [x, t]\n",
    "list_dep = [u]\n",
    "F = - D(u, x, x) + D(u, t)\n",
    "\n",
    "infts = infinitesimals_generator(list_indep, list_dep)\n",
    "n_indep = len(list_indep)\n",
    "n_dep = len(list_dep)\n",
    "infts_ind = infts[0:n_indep]\n",
    "infts_dep = infts[n_indep:(n_dep + n_indep )]\n",
    "inft_derivatives, dep_vars_derivatives = higher_infinitesimals_generator(infts_ind, infts_dep,\n",
    "                                                                            2, list_indep, list_dep)\n",
    "infts_dummy = [item for sublist in inft_derivatives for item in sublist]\n",
    "dep_vars_derivatives = [item for sublist in dep_vars_derivatives for item in sublist]\n",
    "\n",
    "infts = infts + infts_dummy\n",
    "\n",
    "F, deriv_names = der_relabel(dep_vars_derivatives, F)\n",
    "\n",
    "vars_and_derivatives = list_indep + list_dep + deriv_names\n",
    "\n",
    "XF = group_operator(F, vars_and_derivatives, infts)\n",
    "\n",
    "XF = subs_new_vars(dep_vars_derivatives, deriv_names, XF)\n",
    "\n",
    "# A = deriv_infts(infts_ind + infts_dep, list_indep + list_dep, 2)\n",
    "\n",
    "# XF, deriv_infts_names = der_relabel(A, XF)\n",
    "\n",
    "# XF = subs_new_vars(deriv_infts_names, A, XF)\n",
    "\n",
    "# XF = subs_new_vars(deriv_names, dep_vars_derivatives, XF)"
   ]
  },
  {
   "cell_type": "code",
   "execution_count": 11,
   "metadata": {},
   "outputs": [
    {
     "data": {
      "text/latex": [
       "$\\displaystyle \\frac{\\partial}{\\partial u{\\left(x,t \\right)}} \\eta^{u}{\\left(x,t,u{\\left(x,t \\right)} \\right)} \\frac{\\partial}{\\partial t} u{\\left(x,t \\right)} - \\frac{\\partial}{\\partial u{\\left(x,t \\right)}} \\eta^{u}{\\left(x,t,u{\\left(x,t \\right)} \\right)} \\frac{\\partial^{2}}{\\partial x^{2}} u{\\left(x,t \\right)} - \\frac{\\partial^{2}}{\\partial u{\\left(x,t \\right)}^{2}} \\eta^{u}{\\left(x,t,u{\\left(x,t \\right)} \\right)} \\left(\\frac{\\partial}{\\partial x} u{\\left(x,t \\right)}\\right)^{2} - \\left(\\frac{\\partial}{\\partial t} u{\\left(x,t \\right)}\\right)^{2} \\frac{\\partial}{\\partial u{\\left(x,t \\right)}} \\xi^{t}{\\left(x,t,u{\\left(x,t \\right)} \\right)} + \\frac{\\partial}{\\partial t} u{\\left(x,t \\right)} \\left(\\frac{\\partial}{\\partial x} u{\\left(x,t \\right)}\\right)^{2} \\frac{\\partial^{2}}{\\partial u{\\left(x,t \\right)}^{2}} \\xi^{t}{\\left(x,t,u{\\left(x,t \\right)} \\right)} - \\frac{\\partial}{\\partial t} u{\\left(x,t \\right)} \\frac{\\partial}{\\partial x} u{\\left(x,t \\right)} \\frac{\\partial}{\\partial u{\\left(x,t \\right)}} \\xi^{x}{\\left(x,t,u{\\left(x,t \\right)} \\right)} + \\frac{\\partial}{\\partial t} u{\\left(x,t \\right)} \\frac{\\partial}{\\partial x} u{\\left(x,t \\right)} \\left. \\frac{\\partial^{2}}{\\partial u{\\left(x,t \\right)}\\partial \\xi_{1}} \\xi^{t}{\\left(\\xi_{1},t,u{\\left(x,t \\right)} \\right)} \\right|_{\\substack{ \\xi_{1}=x }} + \\frac{\\partial}{\\partial t} u{\\left(x,t \\right)} \\frac{\\partial}{\\partial x} u{\\left(x,t \\right)} \\left. \\frac{\\partial^{2}}{\\partial x\\partial \\xi} \\xi^{t}{\\left(x,t,\\xi \\right)} \\right|_{\\substack{ \\xi=u{\\left(x,t \\right)} }} + \\frac{\\partial}{\\partial t} u{\\left(x,t \\right)} \\frac{\\partial^{2}}{\\partial x^{2}} u{\\left(x,t \\right)} \\frac{\\partial}{\\partial u{\\left(x,t \\right)}} \\xi^{t}{\\left(x,t,u{\\left(x,t \\right)} \\right)} + \\frac{\\partial}{\\partial t} u{\\left(x,t \\right)} \\left. \\frac{\\partial^{2}}{\\partial \\xi_{1}^{2}} \\xi^{t}{\\left(\\xi_{1},t,u{\\left(x,t \\right)} \\right)} \\right|_{\\substack{ \\xi_{1}=x }} - \\frac{\\partial}{\\partial t} u{\\left(x,t \\right)} \\left. \\frac{\\partial}{\\partial \\xi_{2}} \\xi^{t}{\\left(x,\\xi_{2},u{\\left(x,t \\right)} \\right)} \\right|_{\\substack{ \\xi_{2}=t }} + \\left(\\frac{\\partial}{\\partial x} u{\\left(x,t \\right)}\\right)^{3} \\frac{\\partial^{2}}{\\partial u{\\left(x,t \\right)}^{2}} \\xi^{x}{\\left(x,t,u{\\left(x,t \\right)} \\right)} + \\left(\\frac{\\partial}{\\partial x} u{\\left(x,t \\right)}\\right)^{2} \\left. \\frac{\\partial^{2}}{\\partial u{\\left(x,t \\right)}\\partial \\xi_{1}} \\xi^{x}{\\left(\\xi_{1},t,u{\\left(x,t \\right)} \\right)} \\right|_{\\substack{ \\xi_{1}=x }} + \\left(\\frac{\\partial}{\\partial x} u{\\left(x,t \\right)}\\right)^{2} \\left. \\frac{\\partial^{2}}{\\partial x\\partial \\xi} \\xi^{x}{\\left(x,t,\\xi \\right)} \\right|_{\\substack{ \\xi=u{\\left(x,t \\right)} }} + 3 \\frac{\\partial}{\\partial x} u{\\left(x,t \\right)} \\frac{\\partial^{2}}{\\partial x^{2}} u{\\left(x,t \\right)} \\frac{\\partial}{\\partial u{\\left(x,t \\right)}} \\xi^{x}{\\left(x,t,u{\\left(x,t \\right)} \\right)} + 2 \\frac{\\partial}{\\partial x} u{\\left(x,t \\right)} \\frac{\\partial}{\\partial u{\\left(x,t \\right)}} \\xi^{t}{\\left(x,t,u{\\left(x,t \\right)} \\right)} \\frac{\\partial^{2}}{\\partial x\\partial t} u{\\left(x,t \\right)} + \\frac{\\partial}{\\partial x} u{\\left(x,t \\right)} \\left. \\frac{\\partial^{2}}{\\partial \\xi_{1}^{2}} \\xi^{x}{\\left(\\xi_{1},t,u{\\left(x,t \\right)} \\right)} \\right|_{\\substack{ \\xi_{1}=x }} - \\frac{\\partial}{\\partial x} u{\\left(x,t \\right)} \\left. \\frac{\\partial}{\\partial \\xi_{2}} \\xi^{x}{\\left(x,\\xi_{2},u{\\left(x,t \\right)} \\right)} \\right|_{\\substack{ \\xi_{2}=t }} - \\frac{\\partial}{\\partial x} u{\\left(x,t \\right)} \\left. \\frac{\\partial^{2}}{\\partial u{\\left(x,t \\right)}\\partial \\xi_{1}} \\eta^{u}{\\left(\\xi_{1},t,u{\\left(x,t \\right)} \\right)} \\right|_{\\substack{ \\xi_{1}=x }} - \\frac{\\partial}{\\partial x} u{\\left(x,t \\right)} \\left. \\frac{\\partial^{2}}{\\partial x\\partial \\xi} \\eta^{u}{\\left(x,t,\\xi \\right)} \\right|_{\\substack{ \\xi=u{\\left(x,t \\right)} }} + 2 \\frac{\\partial^{2}}{\\partial x^{2}} u{\\left(x,t \\right)} \\left. \\frac{\\partial}{\\partial \\xi_{1}} \\xi^{x}{\\left(\\xi_{1},t,u{\\left(x,t \\right)} \\right)} \\right|_{\\substack{ \\xi_{1}=x }} + 2 \\frac{\\partial^{2}}{\\partial x\\partial t} u{\\left(x,t \\right)} \\left. \\frac{\\partial}{\\partial \\xi_{1}} \\xi^{t}{\\left(\\xi_{1},t,u{\\left(x,t \\right)} \\right)} \\right|_{\\substack{ \\xi_{1}=x }} - \\left. \\frac{\\partial^{2}}{\\partial \\xi_{1}^{2}} \\eta^{u}{\\left(\\xi_{1},t,u{\\left(x,t \\right)} \\right)} \\right|_{\\substack{ \\xi_{1}=x }} + \\left. \\frac{\\partial}{\\partial \\xi_{2}} \\eta^{u}{\\left(x,\\xi_{2},u{\\left(x,t \\right)} \\right)} \\right|_{\\substack{ \\xi_{2}=t }}$"
      ],
      "text/plain": [
       "Derivative(eta^u(x, t, u(x, t)), u(x, t))*Derivative(u(x, t), t) - Derivative(eta^u(x, t, u(x, t)), u(x, t))*Derivative(u(x, t), (x, 2)) - Derivative(eta^u(x, t, u(x, t)), (u(x, t), 2))*Derivative(u(x, t), x)**2 - Derivative(u(x, t), t)**2*Derivative(xi^t(x, t, u(x, t)), u(x, t)) + Derivative(u(x, t), t)*Derivative(u(x, t), x)**2*Derivative(xi^t(x, t, u(x, t)), (u(x, t), 2)) - Derivative(u(x, t), t)*Derivative(u(x, t), x)*Derivative(xi^x(x, t, u(x, t)), u(x, t)) + Derivative(u(x, t), t)*Derivative(u(x, t), x)*Subs(Derivative(xi^t(_xi_1, t, u(x, t)), _xi_1, u(x, t)), _xi_1, x) + Derivative(u(x, t), t)*Derivative(u(x, t), x)*Subs(Derivative(xi^t(x, t, _xi), _xi, x), _xi, u(x, t)) + Derivative(u(x, t), t)*Derivative(u(x, t), (x, 2))*Derivative(xi^t(x, t, u(x, t)), u(x, t)) + Derivative(u(x, t), t)*Subs(Derivative(xi^t(_xi_1, t, u(x, t)), (_xi_1, 2)), _xi_1, x) - Derivative(u(x, t), t)*Subs(Derivative(xi^t(x, _xi_2, u(x, t)), _xi_2), _xi_2, t) + Derivative(u(x, t), x)**3*Derivative(xi^x(x, t, u(x, t)), (u(x, t), 2)) + Derivative(u(x, t), x)**2*Subs(Derivative(xi^x(_xi_1, t, u(x, t)), _xi_1, u(x, t)), _xi_1, x) + Derivative(u(x, t), x)**2*Subs(Derivative(xi^x(x, t, _xi), _xi, x), _xi, u(x, t)) + 3*Derivative(u(x, t), x)*Derivative(u(x, t), (x, 2))*Derivative(xi^x(x, t, u(x, t)), u(x, t)) + 2*Derivative(u(x, t), x)*Derivative(xi^t(x, t, u(x, t)), u(x, t))*Derivative(u(x, t), t, x) + Derivative(u(x, t), x)*Subs(Derivative(xi^x(_xi_1, t, u(x, t)), (_xi_1, 2)), _xi_1, x) - Derivative(u(x, t), x)*Subs(Derivative(xi^x(x, _xi_2, u(x, t)), _xi_2), _xi_2, t) - Derivative(u(x, t), x)*Subs(Derivative(eta^u(_xi_1, t, u(x, t)), _xi_1, u(x, t)), _xi_1, x) - Derivative(u(x, t), x)*Subs(Derivative(eta^u(x, t, _xi), _xi, x), _xi, u(x, t)) + 2*Derivative(u(x, t), (x, 2))*Subs(Derivative(xi^x(_xi_1, t, u(x, t)), _xi_1), _xi_1, x) + 2*Derivative(u(x, t), t, x)*Subs(Derivative(xi^t(_xi_1, t, u(x, t)), _xi_1), _xi_1, x) - Subs(Derivative(eta^u(_xi_1, t, u(x, t)), (_xi_1, 2)), _xi_1, x) + Subs(Derivative(eta^u(x, _xi_2, u(x, t)), _xi_2), _xi_2, t)"
      ]
     },
     "execution_count": 11,
     "metadata": {},
     "output_type": "execute_result"
    }
   ],
   "source": [
    "XF.expand()"
   ]
  },
  {
   "cell_type": "code",
   "execution_count": 5,
   "metadata": {},
   "outputs": [
    {
     "data": {
      "text/latex": [
       "$\\displaystyle \\xi^{x}{\\left(x,t,u{\\left(x,t \\right)} \\right)}$"
      ],
      "text/plain": [
       "xi^x(x, t, u(x, t))"
      ]
     },
     "execution_count": 5,
     "metadata": {},
     "output_type": "execute_result"
    }
   ],
   "source": [
    "infts[0]"
   ]
  },
  {
   "cell_type": "code",
   "execution_count": 6,
   "metadata": {},
   "outputs": [
    {
     "data": {
      "text/latex": [
       "$\\displaystyle \\xi^{t}{\\left(x,t,u{\\left(x,t \\right)} \\right)}$"
      ],
      "text/plain": [
       "xi^t(x, t, u(x, t))"
      ]
     },
     "execution_count": 6,
     "metadata": {},
     "output_type": "execute_result"
    }
   ],
   "source": [
    "infts[1]"
   ]
  },
  {
   "cell_type": "code",
   "execution_count": 7,
   "metadata": {},
   "outputs": [
    {
     "data": {
      "text/latex": [
       "$\\displaystyle - \\left(\\frac{\\partial}{\\partial t} u{\\left(x,t \\right)} \\frac{\\partial}{\\partial u{\\left(x,t \\right)}} \\xi^{t}{\\left(x,t,u{\\left(x,t \\right)} \\right)} + \\frac{\\partial}{\\partial t} \\xi^{t}{\\left(x,t,u{\\left(x,t \\right)} \\right)}\\right) \\frac{\\partial}{\\partial t} u{\\left(x,t \\right)} - \\left(\\frac{\\partial}{\\partial t} u{\\left(x,t \\right)} \\frac{\\partial}{\\partial u{\\left(x,t \\right)}} \\xi^{x}{\\left(x,t,u{\\left(x,t \\right)} \\right)} + \\frac{\\partial}{\\partial t} \\xi^{x}{\\left(x,t,u{\\left(x,t \\right)} \\right)}\\right) \\frac{\\partial}{\\partial x} u{\\left(x,t \\right)} + \\frac{\\partial}{\\partial t} \\eta^{u}{\\left(x,t,u{\\left(x,t \\right)} \\right)} + \\frac{\\partial}{\\partial u{\\left(x,t \\right)}} \\eta^{u}{\\left(x,t,u{\\left(x,t \\right)} \\right)} \\frac{\\partial}{\\partial t} u{\\left(x,t \\right)}$"
      ],
      "text/plain": [
       "-(Derivative(u(x, t), t)*Derivative(xi^t(x, t, u(x, t)), u(x, t)) + Derivative(xi^t(x, t, u(x, t)), t))*Derivative(u(x, t), t) - (Derivative(u(x, t), t)*Derivative(xi^x(x, t, u(x, t)), u(x, t)) + Derivative(xi^x(x, t, u(x, t)), t))*Derivative(u(x, t), x) + Derivative(eta^u(x, t, u(x, t)), t) + Derivative(eta^u(x, t, u(x, t)), u(x, t))*Derivative(u(x, t), t)"
      ]
     },
     "execution_count": 7,
     "metadata": {},
     "output_type": "execute_result"
    }
   ],
   "source": [
    "infts[4]"
   ]
  },
  {
   "cell_type": "code",
   "execution_count": 8,
   "metadata": {},
   "outputs": [
    {
     "data": {
      "text/latex": [
       "$\\displaystyle \\left(2 \\frac{\\partial}{\\partial u{\\left(x,t \\right)}} \\eta^{u}{\\left(x,t,u{\\left(x,t \\right)} \\right)} - 2 \\frac{\\partial}{\\partial t} u{\\left(x,t \\right)} \\frac{\\partial}{\\partial u{\\left(x,t \\right)}} \\xi^{t}{\\left(x,t,u{\\left(x,t \\right)} \\right)} - 4 \\frac{\\partial}{\\partial x} u{\\left(x,t \\right)} \\frac{\\partial}{\\partial u{\\left(x,t \\right)}} \\xi^{x}{\\left(x,t,u{\\left(x,t \\right)} \\right)} - \\left. \\frac{\\partial}{\\partial \\xi_{1}} \\xi^{x}{\\left(\\xi_{1},t,u{\\left(x,t \\right)} \\right)} \\right|_{\\substack{ \\xi_{1}=x }}\\right) \\frac{\\partial^{2}}{\\partial x^{2}} u{\\left(x,t \\right)} + \\frac{\\partial}{\\partial x} \\left(- \\left(\\frac{\\partial}{\\partial x} u{\\left(x,t \\right)} \\frac{\\partial}{\\partial u{\\left(x,t \\right)}} \\xi^{t}{\\left(x,t,u{\\left(x,t \\right)} \\right)} + \\frac{\\partial}{\\partial x} \\xi^{t}{\\left(x,t,u{\\left(x,t \\right)} \\right)}\\right) \\frac{\\partial}{\\partial t} u{\\left(x,t \\right)} - \\left(\\frac{\\partial}{\\partial x} u{\\left(x,t \\right)} \\frac{\\partial}{\\partial u{\\left(x,t \\right)}} \\xi^{x}{\\left(x,t,u{\\left(x,t \\right)} \\right)} + \\frac{\\partial}{\\partial x} \\xi^{x}{\\left(x,t,u{\\left(x,t \\right)} \\right)}\\right) \\frac{\\partial}{\\partial x} u{\\left(x,t \\right)} + \\frac{\\partial}{\\partial x} \\eta^{u}{\\left(x,t,u{\\left(x,t \\right)} \\right)} + \\frac{\\partial}{\\partial u{\\left(x,t \\right)}} \\eta^{u}{\\left(x,t,u{\\left(x,t \\right)} \\right)} \\frac{\\partial}{\\partial x} u{\\left(x,t \\right)}\\right) - \\frac{\\partial^{2}}{\\partial x^{2}} u{\\left(x,t \\right)} \\frac{\\partial}{\\partial x} \\xi^{x}{\\left(x,t,u{\\left(x,t \\right)} \\right)} - \\frac{\\partial}{\\partial x} \\xi^{t}{\\left(x,t,u{\\left(x,t \\right)} \\right)} \\frac{\\partial^{2}}{\\partial t\\partial x} u{\\left(x,t \\right)}$"
      ],
      "text/plain": [
       "(2*Derivative(eta^u(x, t, u(x, t)), u(x, t)) - 2*Derivative(u(x, t), t)*Derivative(xi^t(x, t, u(x, t)), u(x, t)) - 4*Derivative(u(x, t), x)*Derivative(xi^x(x, t, u(x, t)), u(x, t)) - Subs(Derivative(xi^x(_xi_1, t, u(x, t)), _xi_1), _xi_1, x))*Derivative(u(x, t), (x, 2)) + Derivative(-(Derivative(u(x, t), x)*Derivative(xi^t(x, t, u(x, t)), u(x, t)) + Derivative(xi^t(x, t, u(x, t)), x))*Derivative(u(x, t), t) - (Derivative(u(x, t), x)*Derivative(xi^x(x, t, u(x, t)), u(x, t)) + Derivative(xi^x(x, t, u(x, t)), x))*Derivative(u(x, t), x) + Derivative(eta^u(x, t, u(x, t)), x) + Derivative(eta^u(x, t, u(x, t)), u(x, t))*Derivative(u(x, t), x), x) - Derivative(u(x, t), (x, 2))*Derivative(xi^x(x, t, u(x, t)), x) - Derivative(xi^t(x, t, u(x, t)), x)*Derivative(u(x, t), x, t)"
      ]
     },
     "execution_count": 8,
     "metadata": {},
     "output_type": "execute_result"
    }
   ],
   "source": [
    "infts[5]"
   ]
  },
  {
   "cell_type": "code",
   "execution_count": 11,
   "metadata": {},
   "outputs": [
    {
     "data": {
      "text/latex": [
       "$\\displaystyle \\left(2 \\frac{\\partial}{\\partial u{\\left(x,t \\right)}} \\eta^{u}{\\left(x,t,u{\\left(x,t \\right)} \\right)} - 2 \\frac{\\partial}{\\partial t} u{\\left(x,t \\right)} \\frac{\\partial}{\\partial u{\\left(x,t \\right)}} \\xi^{t}{\\left(x,t,u{\\left(x,t \\right)} \\right)} - 4 \\frac{\\partial}{\\partial x} u{\\left(x,t \\right)} \\frac{\\partial}{\\partial u{\\left(x,t \\right)}} \\xi^{x}{\\left(x,t,u{\\left(x,t \\right)} \\right)} - \\left. \\frac{\\partial}{\\partial \\xi_{1}} \\xi^{x}{\\left(\\xi_{1},t,u{\\left(x,t \\right)} \\right)} \\right|_{\\substack{ \\xi_{1}=x }}\\right) \\frac{\\partial^{2}}{\\partial x\\partial t} u{\\left(x,t \\right)} + \\frac{\\partial}{\\partial t} \\left(- \\left(\\frac{\\partial}{\\partial x} u{\\left(x,t \\right)} \\frac{\\partial}{\\partial u{\\left(x,t \\right)}} \\xi^{t}{\\left(x,t,u{\\left(x,t \\right)} \\right)} + \\frac{\\partial}{\\partial x} \\xi^{t}{\\left(x,t,u{\\left(x,t \\right)} \\right)}\\right) \\frac{\\partial}{\\partial t} u{\\left(x,t \\right)} - \\left(\\frac{\\partial}{\\partial x} u{\\left(x,t \\right)} \\frac{\\partial}{\\partial u{\\left(x,t \\right)}} \\xi^{x}{\\left(x,t,u{\\left(x,t \\right)} \\right)} + \\frac{\\partial}{\\partial x} \\xi^{x}{\\left(x,t,u{\\left(x,t \\right)} \\right)}\\right) \\frac{\\partial}{\\partial x} u{\\left(x,t \\right)} + \\frac{\\partial}{\\partial x} \\eta^{u}{\\left(x,t,u{\\left(x,t \\right)} \\right)} + \\frac{\\partial}{\\partial u{\\left(x,t \\right)}} \\eta^{u}{\\left(x,t,u{\\left(x,t \\right)} \\right)} \\frac{\\partial}{\\partial x} u{\\left(x,t \\right)}\\right) - \\frac{\\partial^{2}}{\\partial x^{2}} u{\\left(x,t \\right)} \\frac{\\partial}{\\partial t} \\xi^{x}{\\left(x,t,u{\\left(x,t \\right)} \\right)} - \\frac{\\partial}{\\partial t} \\xi^{t}{\\left(x,t,u{\\left(x,t \\right)} \\right)} \\frac{\\partial^{2}}{\\partial t\\partial x} u{\\left(x,t \\right)}$"
      ],
      "text/plain": [
       "(2*Derivative(eta^u(x, t, u(x, t)), u(x, t)) - 2*Derivative(u(x, t), t)*Derivative(xi^t(x, t, u(x, t)), u(x, t)) - 4*Derivative(u(x, t), x)*Derivative(xi^x(x, t, u(x, t)), u(x, t)) - Subs(Derivative(xi^x(_xi_1, t, u(x, t)), _xi_1), _xi_1, x))*Derivative(u(x, t), t, x) + Derivative(-(Derivative(u(x, t), x)*Derivative(xi^t(x, t, u(x, t)), u(x, t)) + Derivative(xi^t(x, t, u(x, t)), x))*Derivative(u(x, t), t) - (Derivative(u(x, t), x)*Derivative(xi^x(x, t, u(x, t)), u(x, t)) + Derivative(xi^x(x, t, u(x, t)), x))*Derivative(u(x, t), x) + Derivative(eta^u(x, t, u(x, t)), x) + Derivative(eta^u(x, t, u(x, t)), u(x, t))*Derivative(u(x, t), x), t) - Derivative(u(x, t), (x, 2))*Derivative(xi^x(x, t, u(x, t)), t) - Derivative(xi^t(x, t, u(x, t)), t)*Derivative(u(x, t), x, t)"
      ]
     },
     "execution_count": 11,
     "metadata": {},
     "output_type": "execute_result"
    }
   ],
   "source": [
    "infts[6]"
   ]
  },
  {
   "cell_type": "code",
   "execution_count": 7,
   "metadata": {},
   "outputs": [
    {
     "data": {
      "text/latex": [
       "$\\displaystyle 2 \\frac{\\partial}{\\partial u{\\left(x,t \\right)}} \\eta^{u}{\\left(x,t,u{\\left(x,t \\right)} \\right)} \\frac{\\partial}{\\partial t} u{\\left(x,t \\right)} - 4 \\frac{\\partial}{\\partial u{\\left(x,t \\right)}} \\eta^{u}{\\left(x,t,u{\\left(x,t \\right)} \\right)} \\frac{\\partial^{2}}{\\partial x^{2}} u{\\left(x,t \\right)} - 2 \\frac{\\partial^{2}}{\\partial u{\\left(x,t \\right)}^{2}} \\eta^{u}{\\left(x,t,u{\\left(x,t \\right)} \\right)} \\left(\\frac{\\partial}{\\partial x} u{\\left(x,t \\right)}\\right)^{2} - 2 \\left(\\frac{\\partial}{\\partial t} u{\\left(x,t \\right)}\\right)^{2} \\frac{\\partial}{\\partial u{\\left(x,t \\right)}} \\xi^{t}{\\left(x,t,u{\\left(x,t \\right)} \\right)} + 2 \\frac{\\partial}{\\partial t} u{\\left(x,t \\right)} \\left(\\frac{\\partial}{\\partial x} u{\\left(x,t \\right)}\\right)^{2} \\frac{\\partial^{2}}{\\partial u{\\left(x,t \\right)}^{2}} \\xi^{t}{\\left(x,t,u{\\left(x,t \\right)} \\right)} - 2 \\frac{\\partial}{\\partial t} u{\\left(x,t \\right)} \\frac{\\partial}{\\partial x} u{\\left(x,t \\right)} \\frac{\\partial}{\\partial u{\\left(x,t \\right)}} \\xi^{x}{\\left(x,t,u{\\left(x,t \\right)} \\right)} + \\frac{\\partial}{\\partial t} u{\\left(x,t \\right)} \\frac{\\partial}{\\partial x} u{\\left(x,t \\right)} \\left. \\frac{\\partial^{2}}{\\partial u{\\left(x,t \\right)}\\partial \\xi_{1}} \\xi^{t}{\\left(\\xi_{1},t,u{\\left(x,t \\right)} \\right)} \\right|_{\\substack{ \\xi_{1}=x }} + 2 \\frac{\\partial}{\\partial t} u{\\left(x,t \\right)} \\frac{\\partial}{\\partial x} u{\\left(x,t \\right)} \\left. \\frac{\\partial^{2}}{\\partial x\\partial \\xi} \\xi^{t}{\\left(x,t,\\xi \\right)} \\right|_{\\substack{ \\xi=u{\\left(x,t \\right)} }} + 4 \\frac{\\partial}{\\partial t} u{\\left(x,t \\right)} \\frac{\\partial^{2}}{\\partial x^{2}} u{\\left(x,t \\right)} \\frac{\\partial}{\\partial u{\\left(x,t \\right)}} \\xi^{t}{\\left(x,t,u{\\left(x,t \\right)} \\right)} + \\frac{\\partial}{\\partial t} u{\\left(x,t \\right)} \\left. \\frac{\\partial^{2}}{\\partial \\xi_{1}^{2}} \\xi^{t}{\\left(\\xi_{1},t,u{\\left(x,t \\right)} \\right)} \\right|_{\\substack{ \\xi_{1}=x }} - \\frac{\\partial}{\\partial t} u{\\left(x,t \\right)} \\left. \\frac{\\partial}{\\partial \\xi_{2}} \\xi^{t}{\\left(x,\\xi_{2},u{\\left(x,t \\right)} \\right)} \\right|_{\\substack{ \\xi_{2}=t }} + 2 \\left(\\frac{\\partial}{\\partial x} u{\\left(x,t \\right)}\\right)^{3} \\frac{\\partial^{2}}{\\partial u{\\left(x,t \\right)}^{2}} \\xi^{x}{\\left(x,t,u{\\left(x,t \\right)} \\right)} + \\left(\\frac{\\partial}{\\partial x} u{\\left(x,t \\right)}\\right)^{2} \\left. \\frac{\\partial^{2}}{\\partial u{\\left(x,t \\right)}\\partial \\xi_{1}} \\xi^{x}{\\left(\\xi_{1},t,u{\\left(x,t \\right)} \\right)} \\right|_{\\substack{ \\xi_{1}=x }} + 2 \\left(\\frac{\\partial}{\\partial x} u{\\left(x,t \\right)}\\right)^{2} \\left. \\frac{\\partial^{2}}{\\partial x\\partial \\xi} \\xi^{x}{\\left(x,t,\\xi \\right)} \\right|_{\\substack{ \\xi=u{\\left(x,t \\right)} }} + 9 \\frac{\\partial}{\\partial x} u{\\left(x,t \\right)} \\frac{\\partial^{2}}{\\partial x^{2}} u{\\left(x,t \\right)} \\frac{\\partial}{\\partial u{\\left(x,t \\right)}} \\xi^{x}{\\left(x,t,u{\\left(x,t \\right)} \\right)} + 3 \\frac{\\partial}{\\partial x} u{\\left(x,t \\right)} \\frac{\\partial}{\\partial u{\\left(x,t \\right)}} \\xi^{t}{\\left(x,t,u{\\left(x,t \\right)} \\right)} \\frac{\\partial^{2}}{\\partial x\\partial t} u{\\left(x,t \\right)} + \\frac{\\partial}{\\partial x} u{\\left(x,t \\right)} \\left. \\frac{\\partial^{2}}{\\partial \\xi_{1}^{2}} \\xi^{x}{\\left(\\xi_{1},t,u{\\left(x,t \\right)} \\right)} \\right|_{\\substack{ \\xi_{1}=x }} - \\frac{\\partial}{\\partial x} u{\\left(x,t \\right)} \\left. \\frac{\\partial}{\\partial \\xi_{2}} \\xi^{x}{\\left(x,\\xi_{2},u{\\left(x,t \\right)} \\right)} \\right|_{\\substack{ \\xi_{2}=t }} - \\frac{\\partial}{\\partial x} u{\\left(x,t \\right)} \\left. \\frac{\\partial^{2}}{\\partial u{\\left(x,t \\right)}\\partial \\xi_{1}} \\eta^{u}{\\left(\\xi_{1},t,u{\\left(x,t \\right)} \\right)} \\right|_{\\substack{ \\xi_{1}=x }} - 2 \\frac{\\partial}{\\partial x} u{\\left(x,t \\right)} \\left. \\frac{\\partial^{2}}{\\partial x\\partial \\xi} \\eta^{u}{\\left(x,t,\\xi \\right)} \\right|_{\\substack{ \\xi=u{\\left(x,t \\right)} }} + 3 \\frac{\\partial^{2}}{\\partial x^{2}} u{\\left(x,t \\right)} \\left. \\frac{\\partial}{\\partial \\xi_{1}} \\xi^{x}{\\left(\\xi_{1},t,u{\\left(x,t \\right)} \\right)} \\right|_{\\substack{ \\xi_{1}=x }} + 2 \\frac{\\partial^{2}}{\\partial x\\partial t} u{\\left(x,t \\right)} \\left. \\frac{\\partial}{\\partial \\xi_{1}} \\xi^{t}{\\left(\\xi_{1},t,u{\\left(x,t \\right)} \\right)} \\right|_{\\substack{ \\xi_{1}=x }} - \\left. \\frac{\\partial^{2}}{\\partial \\xi_{1}^{2}} \\eta^{u}{\\left(\\xi_{1},t,u{\\left(x,t \\right)} \\right)} \\right|_{\\substack{ \\xi_{1}=x }} + \\left. \\frac{\\partial}{\\partial \\xi_{2}} \\eta^{u}{\\left(x,\\xi_{2},u{\\left(x,t \\right)} \\right)} \\right|_{\\substack{ \\xi_{2}=t }}$"
      ],
      "text/plain": [
       "2*Derivative(eta^u(x, t, u(x, t)), u(x, t))*Derivative(u(x, t), t) - 4*Derivative(eta^u(x, t, u(x, t)), u(x, t))*Derivative(u(x, t), (x, 2)) - 2*Derivative(eta^u(x, t, u(x, t)), (u(x, t), 2))*Derivative(u(x, t), x)**2 - 2*Derivative(u(x, t), t)**2*Derivative(xi^t(x, t, u(x, t)), u(x, t)) + 2*Derivative(u(x, t), t)*Derivative(u(x, t), x)**2*Derivative(xi^t(x, t, u(x, t)), (u(x, t), 2)) - 2*Derivative(u(x, t), t)*Derivative(u(x, t), x)*Derivative(xi^x(x, t, u(x, t)), u(x, t)) + Derivative(u(x, t), t)*Derivative(u(x, t), x)*Subs(Derivative(xi^t(_xi_1, t, u(x, t)), _xi_1, u(x, t)), _xi_1, x) + 2*Derivative(u(x, t), t)*Derivative(u(x, t), x)*Subs(Derivative(xi^t(x, t, _xi), _xi, x), _xi, u(x, t)) + 4*Derivative(u(x, t), t)*Derivative(u(x, t), (x, 2))*Derivative(xi^t(x, t, u(x, t)), u(x, t)) + Derivative(u(x, t), t)*Subs(Derivative(xi^t(_xi_1, t, u(x, t)), (_xi_1, 2)), _xi_1, x) - Derivative(u(x, t), t)*Subs(Derivative(xi^t(x, _xi_2, u(x, t)), _xi_2), _xi_2, t) + 2*Derivative(u(x, t), x)**3*Derivative(xi^x(x, t, u(x, t)), (u(x, t), 2)) + Derivative(u(x, t), x)**2*Subs(Derivative(xi^x(_xi_1, t, u(x, t)), _xi_1, u(x, t)), _xi_1, x) + 2*Derivative(u(x, t), x)**2*Subs(Derivative(xi^x(x, t, _xi), _xi, x), _xi, u(x, t)) + 9*Derivative(u(x, t), x)*Derivative(u(x, t), (x, 2))*Derivative(xi^x(x, t, u(x, t)), u(x, t)) + 3*Derivative(u(x, t), x)*Derivative(xi^t(x, t, u(x, t)), u(x, t))*Derivative(u(x, t), t, x) + Derivative(u(x, t), x)*Subs(Derivative(xi^x(_xi_1, t, u(x, t)), (_xi_1, 2)), _xi_1, x) - Derivative(u(x, t), x)*Subs(Derivative(xi^x(x, _xi_2, u(x, t)), _xi_2), _xi_2, t) - Derivative(u(x, t), x)*Subs(Derivative(eta^u(_xi_1, t, u(x, t)), _xi_1, u(x, t)), _xi_1, x) - 2*Derivative(u(x, t), x)*Subs(Derivative(eta^u(x, t, _xi), _xi, x), _xi, u(x, t)) + 3*Derivative(u(x, t), (x, 2))*Subs(Derivative(xi^x(_xi_1, t, u(x, t)), _xi_1), _xi_1, x) + 2*Derivative(u(x, t), t, x)*Subs(Derivative(xi^t(_xi_1, t, u(x, t)), _xi_1), _xi_1, x) - Subs(Derivative(eta^u(_xi_1, t, u(x, t)), (_xi_1, 2)), _xi_1, x) + Subs(Derivative(eta^u(x, _xi_2, u(x, t)), _xi_2), _xi_2, t)"
      ]
     },
     "execution_count": 7,
     "metadata": {},
     "output_type": "execute_result"
    }
   ],
   "source": [
    "XF.expand()"
   ]
  },
  {
   "cell_type": "code",
   "execution_count": 22,
   "metadata": {},
   "outputs": [
    {
     "data": {
      "text/latex": [
       "$\\displaystyle - \\left(\\frac{\\partial^{2}}{\\partial u{\\left(x,t \\right)}^{2}} \\eta^{u}{\\left(x,t,u{\\left(x,t \\right)} \\right)} \\frac{\\partial}{\\partial x} u{\\left(x,t \\right)} + \\left. \\frac{\\partial^{2}}{\\partial x\\partial \\xi} \\eta^{u}{\\left(x,t,\\xi \\right)} \\right|_{\\substack{ \\xi=u{\\left(x,t \\right)} }}\\right) \\frac{\\partial}{\\partial x} u{\\left(x,t \\right)} - \\left(\\frac{\\partial}{\\partial t} u{\\left(x,t \\right)} \\frac{\\partial}{\\partial u{\\left(x,t \\right)}} \\xi^{t}{\\left(x,t,u{\\left(x,t \\right)} \\right)} + \\left. \\frac{\\partial}{\\partial \\xi_{2}} \\xi^{t}{\\left(x,\\xi_{2},u{\\left(x,t \\right)} \\right)} \\right|_{\\substack{ \\xi_{2}=t }}\\right) \\frac{\\partial}{\\partial t} u{\\left(x,t \\right)} - \\left(\\frac{\\partial}{\\partial t} u{\\left(x,t \\right)} \\frac{\\partial}{\\partial u{\\left(x,t \\right)}} \\xi^{x}{\\left(x,t,u{\\left(x,t \\right)} \\right)} + \\left. \\frac{\\partial}{\\partial \\xi_{2}} \\xi^{x}{\\left(x,\\xi_{2},u{\\left(x,t \\right)} \\right)} \\right|_{\\substack{ \\xi_{2}=t }}\\right) \\frac{\\partial}{\\partial x} u{\\left(x,t \\right)} + 2 \\left(\\frac{\\partial}{\\partial x} u{\\left(x,t \\right)} \\frac{\\partial}{\\partial u{\\left(x,t \\right)}} \\xi^{t}{\\left(x,t,u{\\left(x,t \\right)} \\right)} + \\left. \\frac{\\partial}{\\partial \\xi_{1}} \\xi^{t}{\\left(\\xi_{1},t,u{\\left(x,t \\right)} \\right)} \\right|_{\\substack{ \\xi_{1}=x }}\\right) \\frac{\\partial^{2}}{\\partial x\\partial t} u{\\left(x,t \\right)} + 2 \\left(\\frac{\\partial}{\\partial x} u{\\left(x,t \\right)} \\frac{\\partial}{\\partial u{\\left(x,t \\right)}} \\xi^{x}{\\left(x,t,u{\\left(x,t \\right)} \\right)} + \\left. \\frac{\\partial}{\\partial \\xi_{1}} \\xi^{x}{\\left(\\xi_{1},t,u{\\left(x,t \\right)} \\right)} \\right|_{\\substack{ \\xi_{1}=x }}\\right) \\frac{\\partial^{2}}{\\partial x^{2}} u{\\left(x,t \\right)} + \\left(\\left(\\frac{\\partial}{\\partial x} u{\\left(x,t \\right)} \\frac{\\partial^{2}}{\\partial u{\\left(x,t \\right)}^{2}} \\xi^{t}{\\left(x,t,u{\\left(x,t \\right)} \\right)} + \\left. \\frac{\\partial^{2}}{\\partial x\\partial \\xi} \\xi^{t}{\\left(x,t,\\xi \\right)} \\right|_{\\substack{ \\xi=u{\\left(x,t \\right)} }}\\right) \\frac{\\partial}{\\partial x} u{\\left(x,t \\right)} + \\frac{\\partial}{\\partial x} u{\\left(x,t \\right)} \\left. \\frac{\\partial^{2}}{\\partial u{\\left(x,t \\right)}\\partial \\xi_{1}} \\xi^{t}{\\left(\\xi_{1},t,u{\\left(x,t \\right)} \\right)} \\right|_{\\substack{ \\xi_{1}=x }} + \\frac{\\partial^{2}}{\\partial x^{2}} u{\\left(x,t \\right)} \\frac{\\partial}{\\partial u{\\left(x,t \\right)}} \\xi^{t}{\\left(x,t,u{\\left(x,t \\right)} \\right)} + \\left. \\frac{\\partial^{2}}{\\partial \\xi_{1}^{2}} \\xi^{t}{\\left(\\xi_{1},t,u{\\left(x,t \\right)} \\right)} \\right|_{\\substack{ \\xi_{1}=x }}\\right) \\frac{\\partial}{\\partial t} u{\\left(x,t \\right)} + \\left(\\left(\\frac{\\partial}{\\partial x} u{\\left(x,t \\right)} \\frac{\\partial^{2}}{\\partial u{\\left(x,t \\right)}^{2}} \\xi^{x}{\\left(x,t,u{\\left(x,t \\right)} \\right)} + \\left. \\frac{\\partial^{2}}{\\partial x\\partial \\xi} \\xi^{x}{\\left(x,t,\\xi \\right)} \\right|_{\\substack{ \\xi=u{\\left(x,t \\right)} }}\\right) \\frac{\\partial}{\\partial x} u{\\left(x,t \\right)} + \\frac{\\partial}{\\partial x} u{\\left(x,t \\right)} \\left. \\frac{\\partial^{2}}{\\partial u{\\left(x,t \\right)}\\partial \\xi_{1}} \\xi^{x}{\\left(\\xi_{1},t,u{\\left(x,t \\right)} \\right)} \\right|_{\\substack{ \\xi_{1}=x }} + \\frac{\\partial^{2}}{\\partial x^{2}} u{\\left(x,t \\right)} \\frac{\\partial}{\\partial u{\\left(x,t \\right)}} \\xi^{x}{\\left(x,t,u{\\left(x,t \\right)} \\right)} + \\left. \\frac{\\partial^{2}}{\\partial \\xi_{1}^{2}} \\xi^{x}{\\left(\\xi_{1},t,u{\\left(x,t \\right)} \\right)} \\right|_{\\substack{ \\xi_{1}=x }}\\right) \\frac{\\partial}{\\partial x} u{\\left(x,t \\right)} + \\frac{\\partial}{\\partial u{\\left(x,t \\right)}} \\eta^{u}{\\left(x,t,u{\\left(x,t \\right)} \\right)} \\frac{\\partial}{\\partial t} u{\\left(x,t \\right)} - \\frac{\\partial}{\\partial u{\\left(x,t \\right)}} \\eta^{u}{\\left(x,t,u{\\left(x,t \\right)} \\right)} \\frac{\\partial^{2}}{\\partial x^{2}} u{\\left(x,t \\right)} - \\frac{\\partial}{\\partial x} u{\\left(x,t \\right)} \\left. \\frac{\\partial^{2}}{\\partial u{\\left(x,t \\right)}\\partial \\xi_{1}} \\eta^{u}{\\left(\\xi_{1},t,u{\\left(x,t \\right)} \\right)} \\right|_{\\substack{ \\xi_{1}=x }} - \\left. \\frac{\\partial^{2}}{\\partial \\xi_{1}^{2}} \\eta^{u}{\\left(\\xi_{1},t,u{\\left(x,t \\right)} \\right)} \\right|_{\\substack{ \\xi_{1}=x }} + \\left. \\frac{\\partial}{\\partial \\xi_{2}} \\eta^{u}{\\left(x,\\xi_{2},u{\\left(x,t \\right)} \\right)} \\right|_{\\substack{ \\xi_{2}=t }}$"
      ],
      "text/plain": [
       "-(Derivative(eta^u(x, t, u(x, t)), (u(x, t), 2))*Derivative(u(x, t), x) + Subs(Derivative(eta^u(x, t, _xi), _xi, x), _xi, u(x, t)))*Derivative(u(x, t), x) - (Derivative(u(x, t), t)*Derivative(xi^t(x, t, u(x, t)), u(x, t)) + Subs(Derivative(xi^t(x, _xi_2, u(x, t)), _xi_2), _xi_2, t))*Derivative(u(x, t), t) - (Derivative(u(x, t), t)*Derivative(xi^x(x, t, u(x, t)), u(x, t)) + Subs(Derivative(xi^x(x, _xi_2, u(x, t)), _xi_2), _xi_2, t))*Derivative(u(x, t), x) + 2*(Derivative(u(x, t), x)*Derivative(xi^t(x, t, u(x, t)), u(x, t)) + Subs(Derivative(xi^t(_xi_1, t, u(x, t)), _xi_1), _xi_1, x))*Derivative(u(x, t), t, x) + 2*(Derivative(u(x, t), x)*Derivative(xi^x(x, t, u(x, t)), u(x, t)) + Subs(Derivative(xi^x(_xi_1, t, u(x, t)), _xi_1), _xi_1, x))*Derivative(u(x, t), (x, 2)) + ((Derivative(u(x, t), x)*Derivative(xi^t(x, t, u(x, t)), (u(x, t), 2)) + Subs(Derivative(xi^t(x, t, _xi), _xi, x), _xi, u(x, t)))*Derivative(u(x, t), x) + Derivative(u(x, t), x)*Subs(Derivative(xi^t(_xi_1, t, u(x, t)), _xi_1, u(x, t)), _xi_1, x) + Derivative(u(x, t), (x, 2))*Derivative(xi^t(x, t, u(x, t)), u(x, t)) + Subs(Derivative(xi^t(_xi_1, t, u(x, t)), (_xi_1, 2)), _xi_1, x))*Derivative(u(x, t), t) + ((Derivative(u(x, t), x)*Derivative(xi^x(x, t, u(x, t)), (u(x, t), 2)) + Subs(Derivative(xi^x(x, t, _xi), _xi, x), _xi, u(x, t)))*Derivative(u(x, t), x) + Derivative(u(x, t), x)*Subs(Derivative(xi^x(_xi_1, t, u(x, t)), _xi_1, u(x, t)), _xi_1, x) + Derivative(u(x, t), (x, 2))*Derivative(xi^x(x, t, u(x, t)), u(x, t)) + Subs(Derivative(xi^x(_xi_1, t, u(x, t)), (_xi_1, 2)), _xi_1, x))*Derivative(u(x, t), x) + Derivative(eta^u(x, t, u(x, t)), u(x, t))*Derivative(u(x, t), t) - Derivative(eta^u(x, t, u(x, t)), u(x, t))*Derivative(u(x, t), (x, 2)) - Derivative(u(x, t), x)*Subs(Derivative(eta^u(_xi_1, t, u(x, t)), _xi_1, u(x, t)), _xi_1, x) - Subs(Derivative(eta^u(_xi_1, t, u(x, t)), (_xi_1, 2)), _xi_1, x) + Subs(Derivative(eta^u(x, _xi_2, u(x, t)), _xi_2), _xi_2, t)"
      ]
     },
     "execution_count": 22,
     "metadata": {},
     "output_type": "execute_result"
    }
   ],
   "source": [
    "XF"
   ]
  },
  {
   "cell_type": "code",
   "execution_count": 59,
   "metadata": {},
   "outputs": [
    {
     "data": {
      "text/plain": [
       "['__abs__',\n",
       " '__add__',\n",
       " '__class__',\n",
       " '__complex__',\n",
       " '__delattr__',\n",
       " '__dict__',\n",
       " '__dir__',\n",
       " '__divmod__',\n",
       " '__doc__',\n",
       " '__eq__',\n",
       " '__float__',\n",
       " '__floordiv__',\n",
       " '__format__',\n",
       " '__ge__',\n",
       " '__getattribute__',\n",
       " '__getnewargs__',\n",
       " '__getstate__',\n",
       " '__gt__',\n",
       " '__hash__',\n",
       " '__init__',\n",
       " '__init_subclass__',\n",
       " '__int__',\n",
       " '__le__',\n",
       " '__lt__',\n",
       " '__mod__',\n",
       " '__module__',\n",
       " '__mul__',\n",
       " '__ne__',\n",
       " '__neg__',\n",
       " '__new__',\n",
       " '__pos__',\n",
       " '__pow__',\n",
       " '__radd__',\n",
       " '__rdivmod__',\n",
       " '__reduce__',\n",
       " '__reduce_ex__',\n",
       " '__repr__',\n",
       " '__rfloordiv__',\n",
       " '__rmod__',\n",
       " '__rmul__',\n",
       " '__round__',\n",
       " '__rpow__',\n",
       " '__rsub__',\n",
       " '__rtruediv__',\n",
       " '__setattr__',\n",
       " '__setstate__',\n",
       " '__sizeof__',\n",
       " '__slots__',\n",
       " '__str__',\n",
       " '__sub__',\n",
       " '__subclasshook__',\n",
       " '__sympy__',\n",
       " '__truediv__',\n",
       " '__trunc__',\n",
       " '__weakref__',\n",
       " '_add_handler',\n",
       " '_args',\n",
       " '_assumptions',\n",
       " '_compare_pretty',\n",
       " '_constructor_postprocessor_mapping',\n",
       " '_diff_wrt',\n",
       " '_eval_adjoint',\n",
       " '_eval_as_leading_term',\n",
       " '_eval_conjugate',\n",
       " '_eval_derivative',\n",
       " '_eval_derivative_matrix_lines',\n",
       " '_eval_derivative_n_times',\n",
       " '_eval_evalf',\n",
       " '_eval_expand_complex',\n",
       " '_eval_interval',\n",
       " '_eval_is_algebraic_expr',\n",
       " '_eval_is_commutative',\n",
       " '_eval_is_extended_negative',\n",
       " '_eval_is_extended_positive',\n",
       " '_eval_is_extended_positive_negative',\n",
       " '_eval_is_meromorphic',\n",
       " '_eval_is_negative',\n",
       " '_eval_is_polynomial',\n",
       " '_eval_is_positive',\n",
       " '_eval_is_rational_function',\n",
       " '_eval_lseries',\n",
       " '_eval_nseries',\n",
       " '_eval_power',\n",
       " '_eval_rewrite',\n",
       " '_eval_subs',\n",
       " '_eval_transpose',\n",
       " '_evalf',\n",
       " '_exec_constructor_postprocessors',\n",
       " '_expand_hint',\n",
       " '_explicit_class_assumptions',\n",
       " '_expr',\n",
       " '_from_mpmath',\n",
       " '_has',\n",
       " '_has_matcher',\n",
       " '_hashable_content',\n",
       " '_mhash',\n",
       " '_mul_handler',\n",
       " '_op_priority',\n",
       " '_parse_order',\n",
       " '_pow',\n",
       " '_prop_handler',\n",
       " '_random',\n",
       " '_recursive_call',\n",
       " '_repr_disabled',\n",
       " '_repr_latex_',\n",
       " '_repr_png_',\n",
       " '_repr_svg_',\n",
       " '_sorted_args',\n",
       " '_subs',\n",
       " '_to_mpmath',\n",
       " '_xreplace',\n",
       " 'adjoint',\n",
       " 'apart',\n",
       " 'args',\n",
       " 'args_cnc',\n",
       " 'as_base_exp',\n",
       " 'as_coeff_Add',\n",
       " 'as_coeff_Mul',\n",
       " 'as_coeff_add',\n",
       " 'as_coeff_exponent',\n",
       " 'as_coeff_mul',\n",
       " 'as_coefficient',\n",
       " 'as_coefficients_dict',\n",
       " 'as_content_primitive',\n",
       " 'as_dummy',\n",
       " 'as_expr',\n",
       " 'as_independent',\n",
       " 'as_leading_term',\n",
       " 'as_numer_denom',\n",
       " 'as_ordered_factors',\n",
       " 'as_ordered_terms',\n",
       " 'as_poly',\n",
       " 'as_powers_dict',\n",
       " 'as_real_imag',\n",
       " 'as_terms',\n",
       " 'aseries',\n",
       " 'assumptions0',\n",
       " 'atoms',\n",
       " 'bound_symbols',\n",
       " 'cancel',\n",
       " 'canonical_variables',\n",
       " 'class_key',\n",
       " 'coeff',\n",
       " 'collect',\n",
       " 'combsimp',\n",
       " 'compare',\n",
       " 'compute_leading_term',\n",
       " 'conjugate',\n",
       " 'copy',\n",
       " 'could_extract_minus_sign',\n",
       " 'count',\n",
       " 'count_ops',\n",
       " 'default_assumptions',\n",
       " 'diff',\n",
       " 'dir',\n",
       " 'doit',\n",
       " 'dummy_eq',\n",
       " 'equals',\n",
       " 'evalf',\n",
       " 'expand',\n",
       " 'expr',\n",
       " 'expr_free_symbols',\n",
       " 'extract_additively',\n",
       " 'extract_branch_factor',\n",
       " 'extract_multiplicatively',\n",
       " 'factor',\n",
       " 'find',\n",
       " 'fourier_series',\n",
       " 'fps',\n",
       " 'free_symbols',\n",
       " 'fromiter',\n",
       " 'func',\n",
       " 'gammasimp',\n",
       " 'getO',\n",
       " 'getn',\n",
       " 'has',\n",
       " 'integrate',\n",
       " 'invert',\n",
       " 'is_Add',\n",
       " 'is_AlgebraicNumber',\n",
       " 'is_Atom',\n",
       " 'is_Boolean',\n",
       " 'is_Derivative',\n",
       " 'is_Dummy',\n",
       " 'is_Equality',\n",
       " 'is_Float',\n",
       " 'is_Function',\n",
       " 'is_Indexed',\n",
       " 'is_Integer',\n",
       " 'is_MatAdd',\n",
       " 'is_MatMul',\n",
       " 'is_Matrix',\n",
       " 'is_Mul',\n",
       " 'is_Not',\n",
       " 'is_Number',\n",
       " 'is_NumberSymbol',\n",
       " 'is_Order',\n",
       " 'is_Piecewise',\n",
       " 'is_Point',\n",
       " 'is_Poly',\n",
       " 'is_Pow',\n",
       " 'is_Rational',\n",
       " 'is_Relational',\n",
       " 'is_Symbol',\n",
       " 'is_Vector',\n",
       " 'is_Wild',\n",
       " 'is_algebraic',\n",
       " 'is_algebraic_expr',\n",
       " 'is_antihermitian',\n",
       " 'is_commutative',\n",
       " 'is_comparable',\n",
       " 'is_complex',\n",
       " 'is_composite',\n",
       " 'is_constant',\n",
       " 'is_even',\n",
       " 'is_extended_negative',\n",
       " 'is_extended_nonnegative',\n",
       " 'is_extended_nonpositive',\n",
       " 'is_extended_nonzero',\n",
       " 'is_extended_positive',\n",
       " 'is_extended_real',\n",
       " 'is_finite',\n",
       " 'is_hermitian',\n",
       " 'is_hypergeometric',\n",
       " 'is_imaginary',\n",
       " 'is_infinite',\n",
       " 'is_integer',\n",
       " 'is_irrational',\n",
       " 'is_meromorphic',\n",
       " 'is_negative',\n",
       " 'is_noninteger',\n",
       " 'is_nonnegative',\n",
       " 'is_nonpositive',\n",
       " 'is_nonzero',\n",
       " 'is_number',\n",
       " 'is_odd',\n",
       " 'is_polar',\n",
       " 'is_polynomial',\n",
       " 'is_positive',\n",
       " 'is_prime',\n",
       " 'is_rational',\n",
       " 'is_rational_function',\n",
       " 'is_real',\n",
       " 'is_scalar',\n",
       " 'is_symbol',\n",
       " 'is_transcendental',\n",
       " 'is_zero',\n",
       " 'kind',\n",
       " 'leadterm',\n",
       " 'limit',\n",
       " 'lseries',\n",
       " 'match',\n",
       " 'matches',\n",
       " 'n',\n",
       " 'normal',\n",
       " 'nseries',\n",
       " 'nsimplify',\n",
       " 'point',\n",
       " 'powsimp',\n",
       " 'primitive',\n",
       " 'radsimp',\n",
       " 'ratsimp',\n",
       " 'rcall',\n",
       " 'refine',\n",
       " 'removeO',\n",
       " 'replace',\n",
       " 'rewrite',\n",
       " 'round',\n",
       " 'separate',\n",
       " 'series',\n",
       " 'simplify',\n",
       " 'sort_key',\n",
       " 'subs',\n",
       " 'taylor_term',\n",
       " 'together',\n",
       " 'transpose',\n",
       " 'trigsimp',\n",
       " 'variables',\n",
       " 'xreplace']"
      ]
     },
     "execution_count": 59,
     "metadata": {},
     "output_type": "execute_result"
    }
   ],
   "source": [
    "dir(infts_ind[1].diff(x).args[-1])"
   ]
  },
  {
   "cell_type": "code",
   "execution_count": 40,
   "metadata": {},
   "outputs": [
    {
     "data": {
      "text/latex": [
       "$\\displaystyle \\xi^{t}_{tt}$"
      ],
      "text/plain": [
       "xi^t_tt"
      ]
     },
     "execution_count": 40,
     "metadata": {},
     "output_type": "execute_result"
    }
   ],
   "source": [
    "deriv_infts_names[19]"
   ]
  },
  {
   "cell_type": "code",
   "execution_count": 11,
   "metadata": {},
   "outputs": [
    {
     "data": {
      "text/latex": [
       "$\\displaystyle \\eta^{u}_{u} u_{t} - \\eta^{u}_{u} u_{xx} - \\eta^{u}_{uu} u_{x}^{2} - u_{t}^{2} \\xi^{t}_{u} + u_{t} u_{x}^{2} \\xi^{t}_{uu} - u_{t} u_{x} \\xi^{x}_{u} + u_{t} u_{x} \\left. \\frac{\\partial^{2}}{\\partial u{\\left(x,t \\right)}\\partial \\xi_{1}} \\xi^{t}{\\left(\\xi_{1},t,u{\\left(x,t \\right)} \\right)} \\right|_{\\substack{ \\xi_{1}=x }} + u_{t} u_{x} \\left. \\frac{\\partial^{2}}{\\partial x\\partial \\xi} \\xi^{t}{\\left(x,t,\\xi \\right)} \\right|_{\\substack{ \\xi=u{\\left(x,t \\right)} }} + u_{t} u_{xx} \\xi^{t}_{u} + u_{t} \\left. \\frac{\\partial^{2}}{\\partial \\xi_{1}^{2}} \\xi^{t}{\\left(\\xi_{1},t,u{\\left(x,t \\right)} \\right)} \\right|_{\\substack{ \\xi_{1}=x }} - u_{t} \\left. \\frac{\\partial}{\\partial \\xi_{2}} \\xi^{t}{\\left(x,\\xi_{2},u{\\left(x,t \\right)} \\right)} \\right|_{\\substack{ \\xi_{2}=t }} + u_{x}^{3} \\xi^{x}_{uu} + u_{x}^{2} \\left. \\frac{\\partial^{2}}{\\partial u{\\left(x,t \\right)}\\partial \\xi_{1}} \\xi^{x}{\\left(\\xi_{1},t,u{\\left(x,t \\right)} \\right)} \\right|_{\\substack{ \\xi_{1}=x }} + u_{x}^{2} \\left. \\frac{\\partial^{2}}{\\partial x\\partial \\xi} \\xi^{x}{\\left(x,t,\\xi \\right)} \\right|_{\\substack{ \\xi=u{\\left(x,t \\right)} }} + 2 u_{x} u_{xt} \\xi^{t}_{u} + 3 u_{x} u_{xx} \\xi^{x}_{u} + u_{x} \\left. \\frac{\\partial^{2}}{\\partial \\xi_{1}^{2}} \\xi^{x}{\\left(\\xi_{1},t,u{\\left(x,t \\right)} \\right)} \\right|_{\\substack{ \\xi_{1}=x }} - u_{x} \\left. \\frac{\\partial}{\\partial \\xi_{2}} \\xi^{x}{\\left(x,\\xi_{2},u{\\left(x,t \\right)} \\right)} \\right|_{\\substack{ \\xi_{2}=t }} - u_{x} \\left. \\frac{\\partial^{2}}{\\partial u{\\left(x,t \\right)}\\partial \\xi_{1}} \\eta^{u}{\\left(\\xi_{1},t,u{\\left(x,t \\right)} \\right)} \\right|_{\\substack{ \\xi_{1}=x }} - u_{x} \\left. \\frac{\\partial^{2}}{\\partial x\\partial \\xi} \\eta^{u}{\\left(x,t,\\xi \\right)} \\right|_{\\substack{ \\xi=u{\\left(x,t \\right)} }} + 2 u_{xt} \\left. \\frac{\\partial}{\\partial \\xi_{1}} \\xi^{t}{\\left(\\xi_{1},t,u{\\left(x,t \\right)} \\right)} \\right|_{\\substack{ \\xi_{1}=x }} + 2 u_{xx} \\left. \\frac{\\partial}{\\partial \\xi_{1}} \\xi^{x}{\\left(\\xi_{1},t,u{\\left(x,t \\right)} \\right)} \\right|_{\\substack{ \\xi_{1}=x }} - \\left. \\frac{\\partial^{2}}{\\partial \\xi_{1}^{2}} \\eta^{u}{\\left(\\xi_{1},t,u{\\left(x,t \\right)} \\right)} \\right|_{\\substack{ \\xi_{1}=x }} + \\left. \\frac{\\partial}{\\partial \\xi_{2}} \\eta^{u}{\\left(x,\\xi_{2},u{\\left(x,t \\right)} \\right)} \\right|_{\\substack{ \\xi_{2}=t }}$"
      ],
      "text/plain": [
       "eta^u_u*u_t - eta^u_u*u_xx - eta^u_uu*u_x**2 - u_t**2*xi^t_u + u_t*u_x**2*xi^t_uu - u_t*u_x*xi^x_u + u_t*u_x*Subs(Derivative(xi^t(_xi_1, t, u(x, t)), _xi_1, u(x, t)), _xi_1, x) + u_t*u_x*Subs(Derivative(xi^t(x, t, _xi), _xi, x), _xi, u(x, t)) + u_t*u_xx*xi^t_u + u_t*Subs(Derivative(xi^t(_xi_1, t, u(x, t)), (_xi_1, 2)), _xi_1, x) - u_t*Subs(Derivative(xi^t(x, _xi_2, u(x, t)), _xi_2), _xi_2, t) + u_x**3*xi^x_uu + u_x**2*Subs(Derivative(xi^x(_xi_1, t, u(x, t)), _xi_1, u(x, t)), _xi_1, x) + u_x**2*Subs(Derivative(xi^x(x, t, _xi), _xi, x), _xi, u(x, t)) + 2*u_x*u_xt*xi^t_u + 3*u_x*u_xx*xi^x_u + u_x*Subs(Derivative(xi^x(_xi_1, t, u(x, t)), (_xi_1, 2)), _xi_1, x) - u_x*Subs(Derivative(xi^x(x, _xi_2, u(x, t)), _xi_2), _xi_2, t) - u_x*Subs(Derivative(eta^u(_xi_1, t, u(x, t)), _xi_1, u(x, t)), _xi_1, x) - u_x*Subs(Derivative(eta^u(x, t, _xi), _xi, x), _xi, u(x, t)) + 2*u_xt*Subs(Derivative(xi^t(_xi_1, t, u(x, t)), _xi_1), _xi_1, x) + 2*u_xx*Subs(Derivative(xi^x(_xi_1, t, u(x, t)), _xi_1), _xi_1, x) - Subs(Derivative(eta^u(_xi_1, t, u(x, t)), (_xi_1, 2)), _xi_1, x) + Subs(Derivative(eta^u(x, _xi_2, u(x, t)), _xi_2), _xi_2, t)"
      ]
     },
     "execution_count": 11,
     "metadata": {},
     "output_type": "execute_result"
    }
   ],
   "source": [
    "XF.subs({sp.simplify(A[19]):deriv_infts_names[19]}).expand()"
   ]
  },
  {
   "cell_type": "code",
   "execution_count": 20,
   "metadata": {},
   "outputs": [
    {
     "data": {
      "text/latex": [
       "$\\displaystyle u{\\left(x,t \\right)}$"
      ],
      "text/plain": [
       "u(x, t)"
      ]
     },
     "execution_count": 20,
     "metadata": {},
     "output_type": "execute_result"
    }
   ],
   "source": [
    "d = A[6]\n",
    "d_str = str(d.args[0]).split('(')[0] + '_' \n",
    "d_order = list(d.args)\n",
    "d_order.pop(0)\n",
    "d_order[0][0]"
   ]
  },
  {
   "cell_type": "code",
   "execution_count": 7,
   "metadata": {},
   "outputs": [
    {
     "data": {
      "text/plain": [
       "[xi^x_x,\n",
       " xi^t_x,\n",
       " eta^u_x,\n",
       " xi^x_t,\n",
       " xi^t_t,\n",
       " eta^u_t,\n",
       " (xi^x_u(x, t)),\n",
       " (xi^t_u(x, t)),\n",
       " (eta^u_u(x, t)),\n",
       " xi^x_xx,\n",
       " xi^t_xx,\n",
       " eta^u_xx,\n",
       " xi^x_xt,\n",
       " xi^t_xt,\n",
       " eta^u_xt,\n",
       " (xi^x_xu(x, t)),\n",
       " (xi^t_xu(x, t)),\n",
       " (eta^u_xu(x, t)),\n",
       " xi^x_tt,\n",
       " xi^t_tt,\n",
       " eta^u_tt,\n",
       " (xi^x_tu(x, t)),\n",
       " (xi^t_tu(x, t)),\n",
       " (eta^u_tu(x, t)),\n",
       " (xi^x_u(x, t)u(x, t)),\n",
       " (xi^t_u(x, t)u(x, t)),\n",
       " (eta^u_u(x, t)u(x, t))]"
      ]
     },
     "execution_count": 7,
     "metadata": {},
     "output_type": "execute_result"
    }
   ],
   "source": [
    "deriv_infts_names"
   ]
  },
  {
   "cell_type": "code",
   "execution_count": 12,
   "metadata": {},
   "outputs": [
    {
     "data": {
      "text/plain": [
       "(-Derivative(u(x, t), (x, 2)), Derivative(u(x, t), t))"
      ]
     },
     "execution_count": 12,
     "metadata": {},
     "output_type": "execute_result"
    }
   ],
   "source": [
    "(- D(u, x, x) + D(u, t)).make_args(- D(u, x, x) + D(u, t))"
   ]
  },
  {
   "cell_type": "code",
   "execution_count": 6,
   "metadata": {},
   "outputs": [
    {
     "data": {
      "text/latex": [
       "$\\displaystyle \\frac{\\partial}{\\partial t} u{\\left(x,t \\right)}$"
      ],
      "text/plain": [
       "Derivative(u(x, t), t)"
      ]
     },
     "execution_count": 6,
     "metadata": {},
     "output_type": "execute_result"
    }
   ],
   "source": [
    "D(u,t)"
   ]
  },
  {
   "cell_type": "code",
   "execution_count": 5,
   "metadata": {},
   "outputs": [
    {
     "data": {
      "text/latex": [
       "$\\displaystyle \\frac{\\partial}{\\partial u{\\left(x,t \\right)}} \\eta^{u}{\\left(x,t,u{\\left(x,t \\right)} \\right)} \\frac{\\partial}{\\partial t} u{\\left(x,t \\right)} - \\frac{\\partial}{\\partial u{\\left(x,t \\right)}} \\eta^{u}{\\left(x,t,u{\\left(x,t \\right)} \\right)} \\frac{\\partial^{2}}{\\partial x^{2}} u{\\left(x,t \\right)} - \\frac{\\partial^{2}}{\\partial u{\\left(x,t \\right)}^{2}} \\eta^{u}{\\left(x,t,u{\\left(x,t \\right)} \\right)} \\left(\\frac{\\partial}{\\partial x} u{\\left(x,t \\right)}\\right)^{2} - \\left(\\frac{\\partial}{\\partial t} u{\\left(x,t \\right)}\\right)^{2} \\frac{\\partial}{\\partial u{\\left(x,t \\right)}} \\xi^{t}{\\left(x,t,u{\\left(x,t \\right)} \\right)} + \\frac{\\partial}{\\partial t} u{\\left(x,t \\right)} \\left(\\frac{\\partial}{\\partial x} u{\\left(x,t \\right)}\\right)^{2} \\frac{\\partial^{2}}{\\partial u{\\left(x,t \\right)}^{2}} \\xi^{t}{\\left(x,t,u{\\left(x,t \\right)} \\right)} - \\frac{\\partial}{\\partial t} u{\\left(x,t \\right)} \\frac{\\partial}{\\partial x} u{\\left(x,t \\right)} \\frac{\\partial}{\\partial u{\\left(x,t \\right)}} \\xi^{x}{\\left(x,t,u{\\left(x,t \\right)} \\right)} + \\frac{\\partial}{\\partial t} u{\\left(x,t \\right)} \\frac{\\partial}{\\partial x} u{\\left(x,t \\right)} \\left. \\frac{\\partial^{2}}{\\partial u{\\left(x,t \\right)}\\partial \\xi_{1}} \\xi^{t}{\\left(\\xi_{1},t,u{\\left(x,t \\right)} \\right)} \\right|_{\\substack{ \\xi_{1}=x }} + \\frac{\\partial}{\\partial t} u{\\left(x,t \\right)} \\frac{\\partial}{\\partial x} u{\\left(x,t \\right)} \\left. \\frac{\\partial^{2}}{\\partial x\\partial \\xi} \\xi^{t}{\\left(x,t,\\xi \\right)} \\right|_{\\substack{ \\xi=u{\\left(x,t \\right)} }} + \\frac{\\partial}{\\partial t} u{\\left(x,t \\right)} \\frac{\\partial^{2}}{\\partial x^{2}} u{\\left(x,t \\right)} \\frac{\\partial}{\\partial u{\\left(x,t \\right)}} \\xi^{t}{\\left(x,t,u{\\left(x,t \\right)} \\right)} + \\frac{\\partial}{\\partial t} u{\\left(x,t \\right)} \\left. \\frac{\\partial^{2}}{\\partial \\xi_{1}^{2}} \\xi^{t}{\\left(\\xi_{1},t,u{\\left(x,t \\right)} \\right)} \\right|_{\\substack{ \\xi_{1}=x }} - \\frac{\\partial}{\\partial t} u{\\left(x,t \\right)} \\left. \\frac{\\partial}{\\partial \\xi_{2}} \\xi^{t}{\\left(x,\\xi_{2},u{\\left(x,t \\right)} \\right)} \\right|_{\\substack{ \\xi_{2}=t }} + \\left(\\frac{\\partial}{\\partial x} u{\\left(x,t \\right)}\\right)^{3} \\frac{\\partial^{2}}{\\partial u{\\left(x,t \\right)}^{2}} \\xi^{x}{\\left(x,t,u{\\left(x,t \\right)} \\right)} + \\left(\\frac{\\partial}{\\partial x} u{\\left(x,t \\right)}\\right)^{2} \\left. \\frac{\\partial^{2}}{\\partial u{\\left(x,t \\right)}\\partial \\xi_{1}} \\xi^{x}{\\left(\\xi_{1},t,u{\\left(x,t \\right)} \\right)} \\right|_{\\substack{ \\xi_{1}=x }} + \\left(\\frac{\\partial}{\\partial x} u{\\left(x,t \\right)}\\right)^{2} \\left. \\frac{\\partial^{2}}{\\partial x\\partial \\xi} \\xi^{x}{\\left(x,t,\\xi \\right)} \\right|_{\\substack{ \\xi=u{\\left(x,t \\right)} }} + 3 \\frac{\\partial}{\\partial x} u{\\left(x,t \\right)} \\frac{\\partial^{2}}{\\partial x^{2}} u{\\left(x,t \\right)} \\frac{\\partial}{\\partial u{\\left(x,t \\right)}} \\xi^{x}{\\left(x,t,u{\\left(x,t \\right)} \\right)} + 2 \\frac{\\partial}{\\partial x} u{\\left(x,t \\right)} \\frac{\\partial}{\\partial u{\\left(x,t \\right)}} \\xi^{t}{\\left(x,t,u{\\left(x,t \\right)} \\right)} \\frac{\\partial^{2}}{\\partial x\\partial t} u{\\left(x,t \\right)} + \\frac{\\partial}{\\partial x} u{\\left(x,t \\right)} \\left. \\frac{\\partial^{2}}{\\partial \\xi_{1}^{2}} \\xi^{x}{\\left(\\xi_{1},t,u{\\left(x,t \\right)} \\right)} \\right|_{\\substack{ \\xi_{1}=x }} - \\frac{\\partial}{\\partial x} u{\\left(x,t \\right)} \\left. \\frac{\\partial}{\\partial \\xi_{2}} \\xi^{x}{\\left(x,\\xi_{2},u{\\left(x,t \\right)} \\right)} \\right|_{\\substack{ \\xi_{2}=t }} - \\frac{\\partial}{\\partial x} u{\\left(x,t \\right)} \\left. \\frac{\\partial^{2}}{\\partial u{\\left(x,t \\right)}\\partial \\xi_{1}} \\eta^{u}{\\left(\\xi_{1},t,u{\\left(x,t \\right)} \\right)} \\right|_{\\substack{ \\xi_{1}=x }} - \\frac{\\partial}{\\partial x} u{\\left(x,t \\right)} \\left. \\frac{\\partial^{2}}{\\partial x\\partial \\xi} \\eta^{u}{\\left(x,t,\\xi \\right)} \\right|_{\\substack{ \\xi=u{\\left(x,t \\right)} }} + 2 \\frac{\\partial^{2}}{\\partial x^{2}} u{\\left(x,t \\right)} \\left. \\frac{\\partial}{\\partial \\xi_{1}} \\xi^{x}{\\left(\\xi_{1},t,u{\\left(x,t \\right)} \\right)} \\right|_{\\substack{ \\xi_{1}=x }} + 2 \\frac{\\partial^{2}}{\\partial x\\partial t} u{\\left(x,t \\right)} \\left. \\frac{\\partial}{\\partial \\xi_{1}} \\xi^{t}{\\left(\\xi_{1},t,u{\\left(x,t \\right)} \\right)} \\right|_{\\substack{ \\xi_{1}=x }} - \\left. \\frac{\\partial^{2}}{\\partial \\xi_{1}^{2}} \\eta^{u}{\\left(\\xi_{1},t,u{\\left(x,t \\right)} \\right)} \\right|_{\\substack{ \\xi_{1}=x }} + \\left. \\frac{\\partial}{\\partial \\xi_{2}} \\eta^{u}{\\left(x,\\xi_{2},u{\\left(x,t \\right)} \\right)} \\right|_{\\substack{ \\xi_{2}=t }}$"
      ],
      "text/plain": [
       "Derivative(eta^u(x, t, u(x, t)), u(x, t))*Derivative(u(x, t), t) - Derivative(eta^u(x, t, u(x, t)), u(x, t))*Derivative(u(x, t), (x, 2)) - Derivative(eta^u(x, t, u(x, t)), (u(x, t), 2))*Derivative(u(x, t), x)**2 - Derivative(u(x, t), t)**2*Derivative(xi^t(x, t, u(x, t)), u(x, t)) + Derivative(u(x, t), t)*Derivative(u(x, t), x)**2*Derivative(xi^t(x, t, u(x, t)), (u(x, t), 2)) - Derivative(u(x, t), t)*Derivative(u(x, t), x)*Derivative(xi^x(x, t, u(x, t)), u(x, t)) + Derivative(u(x, t), t)*Derivative(u(x, t), x)*Subs(Derivative(xi^t(_xi_1, t, u(x, t)), _xi_1, u(x, t)), _xi_1, x) + Derivative(u(x, t), t)*Derivative(u(x, t), x)*Subs(Derivative(xi^t(x, t, _xi), _xi, x), _xi, u(x, t)) + Derivative(u(x, t), t)*Derivative(u(x, t), (x, 2))*Derivative(xi^t(x, t, u(x, t)), u(x, t)) + Derivative(u(x, t), t)*Subs(Derivative(xi^t(_xi_1, t, u(x, t)), (_xi_1, 2)), _xi_1, x) - Derivative(u(x, t), t)*Subs(Derivative(xi^t(x, _xi_2, u(x, t)), _xi_2), _xi_2, t) + Derivative(u(x, t), x)**3*Derivative(xi^x(x, t, u(x, t)), (u(x, t), 2)) + Derivative(u(x, t), x)**2*Subs(Derivative(xi^x(_xi_1, t, u(x, t)), _xi_1, u(x, t)), _xi_1, x) + Derivative(u(x, t), x)**2*Subs(Derivative(xi^x(x, t, _xi), _xi, x), _xi, u(x, t)) + 3*Derivative(u(x, t), x)*Derivative(u(x, t), (x, 2))*Derivative(xi^x(x, t, u(x, t)), u(x, t)) + 2*Derivative(u(x, t), x)*Derivative(xi^t(x, t, u(x, t)), u(x, t))*Derivative(u(x, t), t, x) + Derivative(u(x, t), x)*Subs(Derivative(xi^x(_xi_1, t, u(x, t)), (_xi_1, 2)), _xi_1, x) - Derivative(u(x, t), x)*Subs(Derivative(xi^x(x, _xi_2, u(x, t)), _xi_2), _xi_2, t) - Derivative(u(x, t), x)*Subs(Derivative(eta^u(_xi_1, t, u(x, t)), _xi_1, u(x, t)), _xi_1, x) - Derivative(u(x, t), x)*Subs(Derivative(eta^u(x, t, _xi), _xi, x), _xi, u(x, t)) + 2*Derivative(u(x, t), (x, 2))*Subs(Derivative(xi^x(_xi_1, t, u(x, t)), _xi_1), _xi_1, x) + 2*Derivative(u(x, t), t, x)*Subs(Derivative(xi^t(_xi_1, t, u(x, t)), _xi_1), _xi_1, x) - Subs(Derivative(eta^u(_xi_1, t, u(x, t)), (_xi_1, 2)), _xi_1, x) + Subs(Derivative(eta^u(x, _xi_2, u(x, t)), _xi_2), _xi_2, t)"
      ]
     },
     "execution_count": 5,
     "metadata": {},
     "output_type": "execute_result"
    }
   ],
   "source": [
    "sp.simplify(XF.expand())"
   ]
  },
  {
   "cell_type": "code",
   "execution_count": 6,
   "metadata": {},
   "outputs": [
    {
     "data": {
      "text/latex": [
       "$\\displaystyle \\frac{\\partial}{\\partial u{\\left(x,t \\right)}} \\eta^{u}{\\left(x,t,u{\\left(x,t \\right)} \\right)} \\frac{\\partial}{\\partial x} u{\\left(x,t \\right)} - \\frac{\\partial}{\\partial t} u{\\left(x,t \\right)} \\frac{\\partial}{\\partial x} u{\\left(x,t \\right)} \\frac{\\partial}{\\partial u{\\left(x,t \\right)}} \\xi^{t}{\\left(x,t,u{\\left(x,t \\right)} \\right)} - \\frac{\\partial}{\\partial t} u{\\left(x,t \\right)} \\left. \\frac{\\partial}{\\partial \\xi_{1}} \\xi^{t}{\\left(\\xi_{1},t,u{\\left(x,t \\right)} \\right)} \\right|_{\\substack{ \\xi_{1}=x }} - \\left(\\frac{\\partial}{\\partial x} u{\\left(x,t \\right)}\\right)^{2} \\frac{\\partial}{\\partial u{\\left(x,t \\right)}} \\xi^{x}{\\left(x,t,u{\\left(x,t \\right)} \\right)} - \\frac{\\partial}{\\partial x} u{\\left(x,t \\right)} \\left. \\frac{\\partial}{\\partial \\xi_{1}} \\xi^{x}{\\left(\\xi_{1},t,u{\\left(x,t \\right)} \\right)} \\right|_{\\substack{ \\xi_{1}=x }} + \\left. \\frac{\\partial}{\\partial \\xi_{1}} \\eta^{u}{\\left(\\xi_{1},t,u{\\left(x,t \\right)} \\right)} \\right|_{\\substack{ \\xi_{1}=x }}$"
      ],
      "text/plain": [
       "Derivative(eta^u(x, t, u(x, t)), u(x, t))*Derivative(u(x, t), x) - Derivative(u(x, t), t)*Derivative(u(x, t), x)*Derivative(xi^t(x, t, u(x, t)), u(x, t)) - Derivative(u(x, t), t)*Subs(Derivative(xi^t(_xi_1, t, u(x, t)), _xi_1), _xi_1, x) - Derivative(u(x, t), x)**2*Derivative(xi^x(x, t, u(x, t)), u(x, t)) - Derivative(u(x, t), x)*Subs(Derivative(xi^x(_xi_1, t, u(x, t)), _xi_1), _xi_1, x) + Subs(Derivative(eta^u(_xi_1, t, u(x, t)), _xi_1), _xi_1, x)"
      ]
     },
     "execution_count": 6,
     "metadata": {},
     "output_type": "execute_result"
    }
   ],
   "source": [
    "infts[3].expand()"
   ]
  },
  {
   "cell_type": "code",
   "execution_count": 8,
   "metadata": {},
   "outputs": [
    {
     "data": {
      "text/plain": [
       "(x,)"
      ]
     },
     "execution_count": 8,
     "metadata": {},
     "output_type": "execute_result"
    }
   ],
   "source": [
    "y.args"
   ]
  },
  {
   "cell_type": "code",
   "execution_count": 50,
   "metadata": {},
   "outputs": [
    {
     "data": {
      "text/plain": [
       "['__abs__',\n",
       " '__add__',\n",
       " '__class__',\n",
       " '__complex__',\n",
       " '__delattr__',\n",
       " '__dict__',\n",
       " '__dir__',\n",
       " '__divmod__',\n",
       " '__doc__',\n",
       " '__eq__',\n",
       " '__float__',\n",
       " '__floordiv__',\n",
       " '__format__',\n",
       " '__ge__',\n",
       " '__getattribute__',\n",
       " '__getnewargs__',\n",
       " '__getstate__',\n",
       " '__gt__',\n",
       " '__hash__',\n",
       " '__init__',\n",
       " '__init_subclass__',\n",
       " '__int__',\n",
       " '__le__',\n",
       " '__lt__',\n",
       " '__mod__',\n",
       " '__module__',\n",
       " '__mul__',\n",
       " '__ne__',\n",
       " '__neg__',\n",
       " '__new__',\n",
       " '__pos__',\n",
       " '__pow__',\n",
       " '__radd__',\n",
       " '__rdivmod__',\n",
       " '__reduce__',\n",
       " '__reduce_ex__',\n",
       " '__repr__',\n",
       " '__rfloordiv__',\n",
       " '__rmod__',\n",
       " '__rmul__',\n",
       " '__round__',\n",
       " '__rpow__',\n",
       " '__rsub__',\n",
       " '__rtruediv__',\n",
       " '__setattr__',\n",
       " '__setstate__',\n",
       " '__sizeof__',\n",
       " '__slots__',\n",
       " '__str__',\n",
       " '__sub__',\n",
       " '__subclasshook__',\n",
       " '__sympy__',\n",
       " '__truediv__',\n",
       " '__trunc__',\n",
       " '__weakref__',\n",
       " '_add_handler',\n",
       " '_args',\n",
       " '_assumptions',\n",
       " '_compare_pretty',\n",
       " '_constructor_postprocessor_mapping',\n",
       " '_diff_wrt',\n",
       " '_dispatch_eval_derivative_n_times',\n",
       " '_eval_adjoint',\n",
       " '_eval_as_leading_term',\n",
       " '_eval_conjugate',\n",
       " '_eval_derivative',\n",
       " '_eval_derivative_matrix_lines',\n",
       " '_eval_derivative_n_times',\n",
       " '_eval_evalf',\n",
       " '_eval_expand_complex',\n",
       " '_eval_interval',\n",
       " '_eval_is_algebraic_expr',\n",
       " '_eval_is_commutative',\n",
       " '_eval_is_extended_negative',\n",
       " '_eval_is_extended_positive',\n",
       " '_eval_is_extended_positive_negative',\n",
       " '_eval_is_meromorphic',\n",
       " '_eval_is_negative',\n",
       " '_eval_is_polynomial',\n",
       " '_eval_is_positive',\n",
       " '_eval_is_rational_function',\n",
       " '_eval_lseries',\n",
       " '_eval_nseries',\n",
       " '_eval_power',\n",
       " '_eval_rewrite',\n",
       " '_eval_subs',\n",
       " '_eval_transpose',\n",
       " '_evalf',\n",
       " '_exec_constructor_postprocessors',\n",
       " '_expand_hint',\n",
       " '_explicit_class_assumptions',\n",
       " '_from_mpmath',\n",
       " '_get_zero_with_shape_like',\n",
       " '_has',\n",
       " '_has_matcher',\n",
       " '_hashable_content',\n",
       " '_mhash',\n",
       " '_mul_handler',\n",
       " '_op_priority',\n",
       " '_parse_order',\n",
       " '_pow',\n",
       " '_prop_handler',\n",
       " '_random',\n",
       " '_recursive_call',\n",
       " '_repr_disabled',\n",
       " '_repr_latex_',\n",
       " '_repr_png_',\n",
       " '_repr_svg_',\n",
       " '_sage_',\n",
       " '_sort_variable_count',\n",
       " '_sorted_args',\n",
       " '_subs',\n",
       " '_to_mpmath',\n",
       " '_wrt_variables',\n",
       " '_xreplace',\n",
       " 'adjoint',\n",
       " 'apart',\n",
       " 'args',\n",
       " 'args_cnc',\n",
       " 'as_base_exp',\n",
       " 'as_coeff_Add',\n",
       " 'as_coeff_Mul',\n",
       " 'as_coeff_add',\n",
       " 'as_coeff_exponent',\n",
       " 'as_coeff_mul',\n",
       " 'as_coefficient',\n",
       " 'as_coefficients_dict',\n",
       " 'as_content_primitive',\n",
       " 'as_dummy',\n",
       " 'as_expr',\n",
       " 'as_finite_difference',\n",
       " 'as_independent',\n",
       " 'as_leading_term',\n",
       " 'as_numer_denom',\n",
       " 'as_ordered_factors',\n",
       " 'as_ordered_terms',\n",
       " 'as_poly',\n",
       " 'as_powers_dict',\n",
       " 'as_real_imag',\n",
       " 'as_terms',\n",
       " 'aseries',\n",
       " 'assumptions0',\n",
       " 'atoms',\n",
       " 'cancel',\n",
       " 'canonical',\n",
       " 'canonical_variables',\n",
       " 'class_key',\n",
       " 'coeff',\n",
       " 'collect',\n",
       " 'combsimp',\n",
       " 'compare',\n",
       " 'compute_leading_term',\n",
       " 'conjugate',\n",
       " 'copy',\n",
       " 'could_extract_minus_sign',\n",
       " 'count',\n",
       " 'count_ops',\n",
       " 'default_assumptions',\n",
       " 'derivative_count',\n",
       " 'diff',\n",
       " 'dir',\n",
       " 'doit',\n",
       " 'doit_numerically',\n",
       " 'dummy_eq',\n",
       " 'equals',\n",
       " 'evalf',\n",
       " 'expand',\n",
       " 'expr',\n",
       " 'expr_free_symbols',\n",
       " 'extract_additively',\n",
       " 'extract_branch_factor',\n",
       " 'extract_multiplicatively',\n",
       " 'factor',\n",
       " 'find',\n",
       " 'fourier_series',\n",
       " 'fps',\n",
       " 'free_symbols',\n",
       " 'fromiter',\n",
       " 'func',\n",
       " 'gammasimp',\n",
       " 'getO',\n",
       " 'getn',\n",
       " 'has',\n",
       " 'integrate',\n",
       " 'invert',\n",
       " 'is_Add',\n",
       " 'is_AlgebraicNumber',\n",
       " 'is_Atom',\n",
       " 'is_Boolean',\n",
       " 'is_Derivative',\n",
       " 'is_Dummy',\n",
       " 'is_Equality',\n",
       " 'is_Float',\n",
       " 'is_Function',\n",
       " 'is_Indexed',\n",
       " 'is_Integer',\n",
       " 'is_MatAdd',\n",
       " 'is_MatMul',\n",
       " 'is_Matrix',\n",
       " 'is_Mul',\n",
       " 'is_Not',\n",
       " 'is_Number',\n",
       " 'is_NumberSymbol',\n",
       " 'is_Order',\n",
       " 'is_Piecewise',\n",
       " 'is_Point',\n",
       " 'is_Poly',\n",
       " 'is_Pow',\n",
       " 'is_Rational',\n",
       " 'is_Relational',\n",
       " 'is_Symbol',\n",
       " 'is_Vector',\n",
       " 'is_Wild',\n",
       " 'is_algebraic',\n",
       " 'is_algebraic_expr',\n",
       " 'is_antihermitian',\n",
       " 'is_commutative',\n",
       " 'is_comparable',\n",
       " 'is_complex',\n",
       " 'is_composite',\n",
       " 'is_constant',\n",
       " 'is_even',\n",
       " 'is_extended_negative',\n",
       " 'is_extended_nonnegative',\n",
       " 'is_extended_nonpositive',\n",
       " 'is_extended_nonzero',\n",
       " 'is_extended_positive',\n",
       " 'is_extended_real',\n",
       " 'is_finite',\n",
       " 'is_hermitian',\n",
       " 'is_hypergeometric',\n",
       " 'is_imaginary',\n",
       " 'is_infinite',\n",
       " 'is_integer',\n",
       " 'is_irrational',\n",
       " 'is_meromorphic',\n",
       " 'is_negative',\n",
       " 'is_noninteger',\n",
       " 'is_nonnegative',\n",
       " 'is_nonpositive',\n",
       " 'is_nonzero',\n",
       " 'is_number',\n",
       " 'is_odd',\n",
       " 'is_polar',\n",
       " 'is_polynomial',\n",
       " 'is_positive',\n",
       " 'is_prime',\n",
       " 'is_rational',\n",
       " 'is_rational_function',\n",
       " 'is_real',\n",
       " 'is_scalar',\n",
       " 'is_symbol',\n",
       " 'is_transcendental',\n",
       " 'is_zero',\n",
       " 'kind',\n",
       " 'leadterm',\n",
       " 'limit',\n",
       " 'lseries',\n",
       " 'match',\n",
       " 'matches',\n",
       " 'n',\n",
       " 'normal',\n",
       " 'nseries',\n",
       " 'nsimplify',\n",
       " 'powsimp',\n",
       " 'primitive',\n",
       " 'radsimp',\n",
       " 'ratsimp',\n",
       " 'rcall',\n",
       " 'refine',\n",
       " 'removeO',\n",
       " 'replace',\n",
       " 'rewrite',\n",
       " 'round',\n",
       " 'separate',\n",
       " 'series',\n",
       " 'simplify',\n",
       " 'sort_key',\n",
       " 'subs',\n",
       " 'taylor_term',\n",
       " 'together',\n",
       " 'transpose',\n",
       " 'trigsimp',\n",
       " 'variable_count',\n",
       " 'variables',\n",
       " 'xreplace']"
      ]
     },
     "execution_count": 50,
     "metadata": {},
     "output_type": "execute_result"
    }
   ],
   "source": [
    "A = D(psi, x,x,t,z,z,x)\n",
    "dir(A)"
   ]
  },
  {
   "cell_type": "code",
   "execution_count": 51,
   "metadata": {},
   "outputs": [
    {
     "data": {
      "text/plain": [
       "[(x, 2), (t, 1), (z, 2), (x, 1)]"
      ]
     },
     "execution_count": 51,
     "metadata": {},
     "output_type": "execute_result"
    }
   ],
   "source": [
    "B = list(A.args)\n",
    "B.pop(0)\n",
    "B"
   ]
  },
  {
   "cell_type": "code",
   "execution_count": 31,
   "metadata": {},
   "outputs": [
    {
     "data": {
      "text/latex": [
       "$\\displaystyle y_{xx}$"
      ],
      "text/plain": [
       "y_xx"
      ]
     },
     "execution_count": 31,
     "metadata": {},
     "output_type": "execute_result"
    }
   ],
   "source": [
    "\n",
    "y_xx = sp.symbols('y_xx')\n",
    "F.subs(D(y,x,x), y_xx)\n"
   ]
  },
  {
   "cell_type": "code",
   "execution_count": 12,
   "metadata": {},
   "outputs": [
    {
     "name": "stdout",
     "output_type": "stream",
     "text": [
      "> \u001b[1;32mc:\\users\\danit\\documents\\research\\lie_symmetry_analysis_agorithm\\notebooks\\utils\\symbolic.py\u001b[0m(206)\u001b[0;36mgroup_operator\u001b[1;34m()\u001b[0m\n",
      "\u001b[1;32m    205 \u001b[1;33m    \u001b[1;32mimport\u001b[0m \u001b[0mipdb\u001b[0m\u001b[1;33m;\u001b[0m \u001b[0mipdb\u001b[0m\u001b[1;33m.\u001b[0m\u001b[0mset_trace\u001b[0m\u001b[1;33m(\u001b[0m\u001b[1;33m)\u001b[0m\u001b[1;33m\u001b[0m\u001b[1;33m\u001b[0m\u001b[0m\n",
      "\u001b[0m\u001b[1;32m--> 206 \u001b[1;33m    \u001b[1;32mfor\u001b[0m \u001b[0mvar\u001b[0m\u001b[1;33m,\u001b[0m \u001b[0minft\u001b[0m \u001b[1;32min\u001b[0m \u001b[0mvar_inft\u001b[0m\u001b[1;33m:\u001b[0m\u001b[1;33m\u001b[0m\u001b[1;33m\u001b[0m\u001b[0m\n",
      "\u001b[0m\u001b[1;32m    207 \u001b[1;33m        \u001b[0mLF\u001b[0m \u001b[1;33m+=\u001b[0m \u001b[0minft\u001b[0m\u001b[1;33m*\u001b[0m\u001b[0mD\u001b[0m\u001b[1;33m(\u001b[0m\u001b[0mF\u001b[0m\u001b[1;33m,\u001b[0m \u001b[0mvar\u001b[0m\u001b[1;33m)\u001b[0m\u001b[1;33m\u001b[0m\u001b[1;33m\u001b[0m\u001b[0m\n",
      "\u001b[0m\n",
      "ipdb> n\n",
      "> \u001b[1;32mc:\\users\\danit\\documents\\research\\lie_symmetry_analysis_agorithm\\notebooks\\utils\\symbolic.py\u001b[0m(207)\u001b[0;36mgroup_operator\u001b[1;34m()\u001b[0m\n",
      "\u001b[1;32m    206 \u001b[1;33m    \u001b[1;32mfor\u001b[0m \u001b[0mvar\u001b[0m\u001b[1;33m,\u001b[0m \u001b[0minft\u001b[0m \u001b[1;32min\u001b[0m \u001b[0mvar_inft\u001b[0m\u001b[1;33m:\u001b[0m\u001b[1;33m\u001b[0m\u001b[1;33m\u001b[0m\u001b[0m\n",
      "\u001b[0m\u001b[1;32m--> 207 \u001b[1;33m        \u001b[0mLF\u001b[0m \u001b[1;33m+=\u001b[0m \u001b[0minft\u001b[0m\u001b[1;33m*\u001b[0m\u001b[0mD\u001b[0m\u001b[1;33m(\u001b[0m\u001b[0mF\u001b[0m\u001b[1;33m,\u001b[0m \u001b[0mvar\u001b[0m\u001b[1;33m)\u001b[0m\u001b[1;33m\u001b[0m\u001b[1;33m\u001b[0m\u001b[0m\n",
      "\u001b[0m\u001b[1;32m    208 \u001b[1;33m    \u001b[1;32mreturn\u001b[0m \u001b[0mLF\u001b[0m\u001b[1;33m\u001b[0m\u001b[1;33m\u001b[0m\u001b[0m\n",
      "\u001b[0m\n",
      "ipdb> LF\n",
      "0\n",
      "ipdb> n\n",
      "> \u001b[1;32mc:\\users\\danit\\documents\\research\\lie_symmetry_analysis_agorithm\\notebooks\\utils\\symbolic.py\u001b[0m(206)\u001b[0;36mgroup_operator\u001b[1;34m()\u001b[0m\n",
      "\u001b[1;32m    205 \u001b[1;33m    \u001b[1;32mimport\u001b[0m \u001b[0mipdb\u001b[0m\u001b[1;33m;\u001b[0m \u001b[0mipdb\u001b[0m\u001b[1;33m.\u001b[0m\u001b[0mset_trace\u001b[0m\u001b[1;33m(\u001b[0m\u001b[1;33m)\u001b[0m\u001b[1;33m\u001b[0m\u001b[1;33m\u001b[0m\u001b[0m\n",
      "\u001b[0m\u001b[1;32m--> 206 \u001b[1;33m    \u001b[1;32mfor\u001b[0m \u001b[0mvar\u001b[0m\u001b[1;33m,\u001b[0m \u001b[0minft\u001b[0m \u001b[1;32min\u001b[0m \u001b[0mvar_inft\u001b[0m\u001b[1;33m:\u001b[0m\u001b[1;33m\u001b[0m\u001b[1;33m\u001b[0m\u001b[0m\n",
      "\u001b[0m\u001b[1;32m    207 \u001b[1;33m        \u001b[0mLF\u001b[0m \u001b[1;33m+=\u001b[0m \u001b[0minft\u001b[0m\u001b[1;33m*\u001b[0m\u001b[0mD\u001b[0m\u001b[1;33m(\u001b[0m\u001b[0mF\u001b[0m\u001b[1;33m,\u001b[0m \u001b[0mvar\u001b[0m\u001b[1;33m)\u001b[0m\u001b[1;33m\u001b[0m\u001b[1;33m\u001b[0m\u001b[0m\n",
      "\u001b[0m\n",
      "ipdb> LF\n",
      "xi^x(x, y(x))*Derivative(y(x), (x, 3))\n",
      "ipdb> n\n",
      "> \u001b[1;32mc:\\users\\danit\\documents\\research\\lie_symmetry_analysis_agorithm\\notebooks\\utils\\symbolic.py\u001b[0m(207)\u001b[0;36mgroup_operator\u001b[1;34m()\u001b[0m\n",
      "\u001b[1;32m    206 \u001b[1;33m    \u001b[1;32mfor\u001b[0m \u001b[0mvar\u001b[0m\u001b[1;33m,\u001b[0m \u001b[0minft\u001b[0m \u001b[1;32min\u001b[0m \u001b[0mvar_inft\u001b[0m\u001b[1;33m:\u001b[0m\u001b[1;33m\u001b[0m\u001b[1;33m\u001b[0m\u001b[0m\n",
      "\u001b[0m\u001b[1;32m--> 207 \u001b[1;33m        \u001b[0mLF\u001b[0m \u001b[1;33m+=\u001b[0m \u001b[0minft\u001b[0m\u001b[1;33m*\u001b[0m\u001b[0mD\u001b[0m\u001b[1;33m(\u001b[0m\u001b[0mF\u001b[0m\u001b[1;33m,\u001b[0m \u001b[0mvar\u001b[0m\u001b[1;33m)\u001b[0m\u001b[1;33m\u001b[0m\u001b[1;33m\u001b[0m\u001b[0m\n",
      "\u001b[0m\u001b[1;32m    208 \u001b[1;33m    \u001b[1;32mreturn\u001b[0m \u001b[0mLF\u001b[0m\u001b[1;33m\u001b[0m\u001b[1;33m\u001b[0m\u001b[0m\n",
      "\u001b[0m\n",
      "ipdb> n\n",
      "> \u001b[1;32mc:\\users\\danit\\documents\\research\\lie_symmetry_analysis_agorithm\\notebooks\\utils\\symbolic.py\u001b[0m(206)\u001b[0;36mgroup_operator\u001b[1;34m()\u001b[0m\n",
      "\u001b[1;32m    205 \u001b[1;33m    \u001b[1;32mimport\u001b[0m \u001b[0mipdb\u001b[0m\u001b[1;33m;\u001b[0m \u001b[0mipdb\u001b[0m\u001b[1;33m.\u001b[0m\u001b[0mset_trace\u001b[0m\u001b[1;33m(\u001b[0m\u001b[1;33m)\u001b[0m\u001b[1;33m\u001b[0m\u001b[1;33m\u001b[0m\u001b[0m\n",
      "\u001b[0m\u001b[1;32m--> 206 \u001b[1;33m    \u001b[1;32mfor\u001b[0m \u001b[0mvar\u001b[0m\u001b[1;33m,\u001b[0m \u001b[0minft\u001b[0m \u001b[1;32min\u001b[0m \u001b[0mvar_inft\u001b[0m\u001b[1;33m:\u001b[0m\u001b[1;33m\u001b[0m\u001b[1;33m\u001b[0m\u001b[0m\n",
      "\u001b[0m\u001b[1;32m    207 \u001b[1;33m        \u001b[0mLF\u001b[0m \u001b[1;33m+=\u001b[0m \u001b[0minft\u001b[0m\u001b[1;33m*\u001b[0m\u001b[0mD\u001b[0m\u001b[1;33m(\u001b[0m\u001b[0mF\u001b[0m\u001b[1;33m,\u001b[0m \u001b[0mvar\u001b[0m\u001b[1;33m)\u001b[0m\u001b[1;33m\u001b[0m\u001b[1;33m\u001b[0m\u001b[0m\n",
      "\u001b[0m\n",
      "ipdb> LF\n",
      "eta^y(x, y(x))*Derivative(y(x), (x, 2), y(x)) + xi^x(x, y(x))*Derivative(y(x), (x, 3))\n",
      "ipdb> n\n",
      "> \u001b[1;32mc:\\users\\danit\\documents\\research\\lie_symmetry_analysis_agorithm\\notebooks\\utils\\symbolic.py\u001b[0m(207)\u001b[0;36mgroup_operator\u001b[1;34m()\u001b[0m\n",
      "\u001b[1;32m    206 \u001b[1;33m    \u001b[1;32mfor\u001b[0m \u001b[0mvar\u001b[0m\u001b[1;33m,\u001b[0m \u001b[0minft\u001b[0m \u001b[1;32min\u001b[0m \u001b[0mvar_inft\u001b[0m\u001b[1;33m:\u001b[0m\u001b[1;33m\u001b[0m\u001b[1;33m\u001b[0m\u001b[0m\n",
      "\u001b[0m\u001b[1;32m--> 207 \u001b[1;33m        \u001b[0mLF\u001b[0m \u001b[1;33m+=\u001b[0m \u001b[0minft\u001b[0m\u001b[1;33m*\u001b[0m\u001b[0mD\u001b[0m\u001b[1;33m(\u001b[0m\u001b[0mF\u001b[0m\u001b[1;33m,\u001b[0m \u001b[0mvar\u001b[0m\u001b[1;33m)\u001b[0m\u001b[1;33m\u001b[0m\u001b[1;33m\u001b[0m\u001b[0m\n",
      "\u001b[0m\u001b[1;32m    208 \u001b[1;33m    \u001b[1;32mreturn\u001b[0m \u001b[0mLF\u001b[0m\u001b[1;33m\u001b[0m\u001b[1;33m\u001b[0m\u001b[0m\n",
      "\u001b[0m\n",
      "ipdb> n\n",
      "> \u001b[1;32mc:\\users\\danit\\documents\\research\\lie_symmetry_analysis_agorithm\\notebooks\\utils\\symbolic.py\u001b[0m(206)\u001b[0;36mgroup_operator\u001b[1;34m()\u001b[0m\n",
      "\u001b[1;32m    205 \u001b[1;33m    \u001b[1;32mimport\u001b[0m \u001b[0mipdb\u001b[0m\u001b[1;33m;\u001b[0m \u001b[0mipdb\u001b[0m\u001b[1;33m.\u001b[0m\u001b[0mset_trace\u001b[0m\u001b[1;33m(\u001b[0m\u001b[1;33m)\u001b[0m\u001b[1;33m\u001b[0m\u001b[1;33m\u001b[0m\u001b[0m\n",
      "\u001b[0m\u001b[1;32m--> 206 \u001b[1;33m    \u001b[1;32mfor\u001b[0m \u001b[0mvar\u001b[0m\u001b[1;33m,\u001b[0m \u001b[0minft\u001b[0m \u001b[1;32min\u001b[0m \u001b[0mvar_inft\u001b[0m\u001b[1;33m:\u001b[0m\u001b[1;33m\u001b[0m\u001b[1;33m\u001b[0m\u001b[0m\n",
      "\u001b[0m\u001b[1;32m    207 \u001b[1;33m        \u001b[0mLF\u001b[0m \u001b[1;33m+=\u001b[0m \u001b[0minft\u001b[0m\u001b[1;33m*\u001b[0m\u001b[0mD\u001b[0m\u001b[1;33m(\u001b[0m\u001b[0mF\u001b[0m\u001b[1;33m,\u001b[0m \u001b[0mvar\u001b[0m\u001b[1;33m)\u001b[0m\u001b[1;33m\u001b[0m\u001b[1;33m\u001b[0m\u001b[0m\n",
      "\u001b[0m\n",
      "ipdb> LF\n",
      "(-(Derivative(xi^x(x, y(x)), y(x))*Derivative(y(x), x) + Subs(Derivative(xi^x(_xi_1, y(x)), _xi_1), _xi_1, x))*Derivative(y(x), x) + Derivative(eta^y(x, y(x)), y(x))*Derivative(y(x), x) + Subs(Derivative(eta^y(_xi_1, y(x)), _xi_1), _xi_1, x))*Derivative(y(x), (x, 2), Derivative(y(x), x)) + eta^y(x, y(x))*Derivative(y(x), (x, 2), y(x)) + xi^x(x, y(x))*Derivative(y(x), (x, 3))\n",
      "ipdb> n\n",
      "> \u001b[1;32mc:\\users\\danit\\documents\\research\\lie_symmetry_analysis_agorithm\\notebooks\\utils\\symbolic.py\u001b[0m(207)\u001b[0;36mgroup_operator\u001b[1;34m()\u001b[0m\n",
      "\u001b[1;32m    206 \u001b[1;33m    \u001b[1;32mfor\u001b[0m \u001b[0mvar\u001b[0m\u001b[1;33m,\u001b[0m \u001b[0minft\u001b[0m \u001b[1;32min\u001b[0m \u001b[0mvar_inft\u001b[0m\u001b[1;33m:\u001b[0m\u001b[1;33m\u001b[0m\u001b[1;33m\u001b[0m\u001b[0m\n",
      "\u001b[0m\u001b[1;32m--> 207 \u001b[1;33m        \u001b[0mLF\u001b[0m \u001b[1;33m+=\u001b[0m \u001b[0minft\u001b[0m\u001b[1;33m*\u001b[0m\u001b[0mD\u001b[0m\u001b[1;33m(\u001b[0m\u001b[0mF\u001b[0m\u001b[1;33m,\u001b[0m \u001b[0mvar\u001b[0m\u001b[1;33m)\u001b[0m\u001b[1;33m\u001b[0m\u001b[1;33m\u001b[0m\u001b[0m\n",
      "\u001b[0m\u001b[1;32m    208 \u001b[1;33m    \u001b[1;32mreturn\u001b[0m \u001b[0mLF\u001b[0m\u001b[1;33m\u001b[0m\u001b[1;33m\u001b[0m\u001b[0m\n",
      "\u001b[0m\n",
      "ipdb> n\n",
      "> \u001b[1;32mc:\\users\\danit\\documents\\research\\lie_symmetry_analysis_agorithm\\notebooks\\utils\\symbolic.py\u001b[0m(206)\u001b[0;36mgroup_operator\u001b[1;34m()\u001b[0m\n",
      "\u001b[1;32m    205 \u001b[1;33m    \u001b[1;32mimport\u001b[0m \u001b[0mipdb\u001b[0m\u001b[1;33m;\u001b[0m \u001b[0mipdb\u001b[0m\u001b[1;33m.\u001b[0m\u001b[0mset_trace\u001b[0m\u001b[1;33m(\u001b[0m\u001b[1;33m)\u001b[0m\u001b[1;33m\u001b[0m\u001b[1;33m\u001b[0m\u001b[0m\n",
      "\u001b[0m\u001b[1;32m--> 206 \u001b[1;33m    \u001b[1;32mfor\u001b[0m \u001b[0mvar\u001b[0m\u001b[1;33m,\u001b[0m \u001b[0minft\u001b[0m \u001b[1;32min\u001b[0m \u001b[0mvar_inft\u001b[0m\u001b[1;33m:\u001b[0m\u001b[1;33m\u001b[0m\u001b[1;33m\u001b[0m\u001b[0m\n",
      "\u001b[0m\u001b[1;32m    207 \u001b[1;33m        \u001b[0mLF\u001b[0m \u001b[1;33m+=\u001b[0m \u001b[0minft\u001b[0m\u001b[1;33m*\u001b[0m\u001b[0mD\u001b[0m\u001b[1;33m(\u001b[0m\u001b[0mF\u001b[0m\u001b[1;33m,\u001b[0m \u001b[0mvar\u001b[0m\u001b[1;33m)\u001b[0m\u001b[1;33m\u001b[0m\u001b[1;33m\u001b[0m\u001b[0m\n",
      "\u001b[0m\n",
      "ipdb> LF\n",
      "(-(Derivative(xi^x(x, y(x)), y(x))*Derivative(y(x), x) + Subs(Derivative(xi^x(_xi_1, y(x)), _xi_1), _xi_1, x))*Derivative(y(x), x) + Derivative(eta^y(x, y(x)), y(x))*Derivative(y(x), x) + Subs(Derivative(eta^y(_xi_1, y(x)), _xi_1), _xi_1, x))*Derivative(y(x), (x, 2), Derivative(y(x), x)) + ((Derivative(eta^y(x, y(x)), (y(x), 2))*Derivative(y(x), x) + Subs(Derivative(eta^y(x, _xi), _xi, x), _xi, y(x)))*Derivative(y(x), x) + (-Derivative(xi^x(x, y(x)), y(x))*Derivative(y(x), x) - Subs(Derivative(xi^x(_xi_1, y(x)), _xi_1), _xi_1, x))*Derivative(y(x), (x, 2)) + (-(Derivative(xi^x(x, y(x)), (y(x), 2))*Derivative(y(x), x) + Subs(Derivative(xi^x(x, _xi), _xi, x), _xi, y(x)))*Derivative(y(x), x) - Derivative(xi^x(x, y(x)), y(x))*Derivative(y(x), (x, 2)) - Derivative(y(x), x)*Subs(Derivative(xi^x(_xi_1, y(x)), _xi_1, y(x)), _xi_1, x) - Subs(Derivative(xi^x(_xi_1, y(x)), (_xi_1, 2)), _xi_1, x))*Derivative(y(x), x) + Derivative(eta^y(x, y(x)), y(x))*Derivative(y(x), (x, 2)) + Derivative(y(x), x)*Subs(Derivative(eta^y(_xi_1, y(x)), _xi_1, y(x)), _xi_1, x) + Subs(Derivative(eta^y(_xi_1, y(x)), (_xi_1, 2)), _xi_1, x))*Derivative(y(x), (x, 2), Derivative(y(x), (x, 2))) + eta^y(x, y(x))*Derivative(y(x), (x, 2), y(x)) + xi^x(x, y(x))*Derivative(y(x), (x, 3))\n",
      "ipdb> n\n",
      "> \u001b[1;32mc:\\users\\danit\\documents\\research\\lie_symmetry_analysis_agorithm\\notebooks\\utils\\symbolic.py\u001b[0m(208)\u001b[0;36mgroup_operator\u001b[1;34m()\u001b[0m\n",
      "\u001b[1;32m    206 \u001b[1;33m    \u001b[1;32mfor\u001b[0m \u001b[0mvar\u001b[0m\u001b[1;33m,\u001b[0m \u001b[0minft\u001b[0m \u001b[1;32min\u001b[0m \u001b[0mvar_inft\u001b[0m\u001b[1;33m:\u001b[0m\u001b[1;33m\u001b[0m\u001b[1;33m\u001b[0m\u001b[0m\n",
      "\u001b[0m\u001b[1;32m    207 \u001b[1;33m        \u001b[0mLF\u001b[0m \u001b[1;33m+=\u001b[0m \u001b[0minft\u001b[0m\u001b[1;33m*\u001b[0m\u001b[0mD\u001b[0m\u001b[1;33m(\u001b[0m\u001b[0mF\u001b[0m\u001b[1;33m,\u001b[0m \u001b[0mvar\u001b[0m\u001b[1;33m)\u001b[0m\u001b[1;33m\u001b[0m\u001b[1;33m\u001b[0m\u001b[0m\n",
      "\u001b[0m\u001b[1;32m--> 208 \u001b[1;33m    \u001b[1;32mreturn\u001b[0m \u001b[0mLF\u001b[0m\u001b[1;33m\u001b[0m\u001b[1;33m\u001b[0m\u001b[0m\n",
      "\u001b[0m\n",
      "ipdb> n\n",
      "--Return--\n",
      "(-(Derivative...(y(x), (x, 3))\n",
      "> \u001b[1;32mc:\\users\\danit\\documents\\research\\lie_symmetry_analysis_agorithm\\notebooks\\utils\\symbolic.py\u001b[0m(208)\u001b[0;36mgroup_operator\u001b[1;34m()\u001b[0m\n",
      "\u001b[1;32m    206 \u001b[1;33m    \u001b[1;32mfor\u001b[0m \u001b[0mvar\u001b[0m\u001b[1;33m,\u001b[0m \u001b[0minft\u001b[0m \u001b[1;32min\u001b[0m \u001b[0mvar_inft\u001b[0m\u001b[1;33m:\u001b[0m\u001b[1;33m\u001b[0m\u001b[1;33m\u001b[0m\u001b[0m\n",
      "\u001b[0m\u001b[1;32m    207 \u001b[1;33m        \u001b[0mLF\u001b[0m \u001b[1;33m+=\u001b[0m \u001b[0minft\u001b[0m\u001b[1;33m*\u001b[0m\u001b[0mD\u001b[0m\u001b[1;33m(\u001b[0m\u001b[0mF\u001b[0m\u001b[1;33m,\u001b[0m \u001b[0mvar\u001b[0m\u001b[1;33m)\u001b[0m\u001b[1;33m\u001b[0m\u001b[1;33m\u001b[0m\u001b[0m\n",
      "\u001b[0m\u001b[1;32m--> 208 \u001b[1;33m    \u001b[1;32mreturn\u001b[0m \u001b[0mLF\u001b[0m\u001b[1;33m\u001b[0m\u001b[1;33m\u001b[0m\u001b[0m\n",
      "\u001b[0m\n"
     ]
    },
    {
     "name": "stdout",
     "output_type": "stream",
     "text": [
      "ipdb> n\n",
      "--Return--\n",
      "None\n",
      "> \u001b[1;32m<ipython-input-12-620d96db3cdf>\u001b[0m(3)\u001b[0;36m<module>\u001b[1;34m()\u001b[0m\n",
      "\u001b[1;32m      1 \u001b[1;33m\u001b[0mF\u001b[0m \u001b[1;33m=\u001b[0m \u001b[0mD\u001b[0m\u001b[1;33m(\u001b[0m\u001b[0my\u001b[0m\u001b[1;33m,\u001b[0m \u001b[0mx\u001b[0m\u001b[1;33m,\u001b[0m \u001b[0mx\u001b[0m\u001b[1;33m)\u001b[0m\u001b[1;33m\u001b[0m\u001b[1;33m\u001b[0m\u001b[0m\n",
      "\u001b[0m\u001b[1;32m      2 \u001b[1;33m\u001b[1;33m\u001b[0m\u001b[0m\n",
      "\u001b[0m\u001b[1;32m----> 3 \u001b[1;33m\u001b[0mXF\u001b[0m \u001b[1;33m=\u001b[0m \u001b[0mgroup_operator\u001b[0m\u001b[1;33m(\u001b[0m\u001b[0mF\u001b[0m \u001b[1;33m,\u001b[0m \u001b[0mvars_and_derivatives\u001b[0m\u001b[1;33m,\u001b[0m \u001b[0minfts\u001b[0m\u001b[1;33m)\u001b[0m\u001b[1;33m\u001b[0m\u001b[1;33m\u001b[0m\u001b[0m\n",
      "\u001b[0m\n",
      "ipdb> q\n"
     ]
    },
    {
     "ename": "BdbQuit",
     "evalue": "",
     "output_type": "error",
     "traceback": [
      "\u001b[1;31m---------------------------------------------------------------------------\u001b[0m",
      "\u001b[1;31mBdbQuit\u001b[0m                                   Traceback (most recent call last)",
      "\u001b[1;32m<ipython-input-12-620d96db3cdf>\u001b[0m in \u001b[0;36m<module>\u001b[1;34m\u001b[0m\n\u001b[0;32m      1\u001b[0m \u001b[0mF\u001b[0m \u001b[1;33m=\u001b[0m \u001b[0mD\u001b[0m\u001b[1;33m(\u001b[0m\u001b[0my\u001b[0m\u001b[1;33m,\u001b[0m \u001b[0mx\u001b[0m\u001b[1;33m,\u001b[0m \u001b[0mx\u001b[0m\u001b[1;33m)\u001b[0m\u001b[1;33m\u001b[0m\u001b[1;33m\u001b[0m\u001b[0m\n\u001b[0;32m      2\u001b[0m \u001b[1;33m\u001b[0m\u001b[0m\n\u001b[1;32m----> 3\u001b[1;33m \u001b[0mXF\u001b[0m \u001b[1;33m=\u001b[0m \u001b[0mgroup_operator\u001b[0m\u001b[1;33m(\u001b[0m\u001b[0mF\u001b[0m \u001b[1;33m,\u001b[0m \u001b[0mvars_and_derivatives\u001b[0m\u001b[1;33m,\u001b[0m \u001b[0minfts\u001b[0m\u001b[1;33m)\u001b[0m\u001b[1;33m\u001b[0m\u001b[1;33m\u001b[0m\u001b[0m\n\u001b[0m",
      "\u001b[1;32m~\\Anaconda3\\lib\\bdb.py\u001b[0m in \u001b[0;36mtrace_dispatch\u001b[1;34m(self, frame, event, arg)\u001b[0m\n\u001b[0;32m     90\u001b[0m             \u001b[1;32mreturn\u001b[0m \u001b[0mself\u001b[0m\u001b[1;33m.\u001b[0m\u001b[0mdispatch_call\u001b[0m\u001b[1;33m(\u001b[0m\u001b[0mframe\u001b[0m\u001b[1;33m,\u001b[0m \u001b[0marg\u001b[0m\u001b[1;33m)\u001b[0m\u001b[1;33m\u001b[0m\u001b[1;33m\u001b[0m\u001b[0m\n\u001b[0;32m     91\u001b[0m         \u001b[1;32mif\u001b[0m \u001b[0mevent\u001b[0m \u001b[1;33m==\u001b[0m \u001b[1;34m'return'\u001b[0m\u001b[1;33m:\u001b[0m\u001b[1;33m\u001b[0m\u001b[1;33m\u001b[0m\u001b[0m\n\u001b[1;32m---> 92\u001b[1;33m             \u001b[1;32mreturn\u001b[0m \u001b[0mself\u001b[0m\u001b[1;33m.\u001b[0m\u001b[0mdispatch_return\u001b[0m\u001b[1;33m(\u001b[0m\u001b[0mframe\u001b[0m\u001b[1;33m,\u001b[0m \u001b[0marg\u001b[0m\u001b[1;33m)\u001b[0m\u001b[1;33m\u001b[0m\u001b[1;33m\u001b[0m\u001b[0m\n\u001b[0m\u001b[0;32m     93\u001b[0m         \u001b[1;32mif\u001b[0m \u001b[0mevent\u001b[0m \u001b[1;33m==\u001b[0m \u001b[1;34m'exception'\u001b[0m\u001b[1;33m:\u001b[0m\u001b[1;33m\u001b[0m\u001b[1;33m\u001b[0m\u001b[0m\n\u001b[0;32m     94\u001b[0m             \u001b[1;32mreturn\u001b[0m \u001b[0mself\u001b[0m\u001b[1;33m.\u001b[0m\u001b[0mdispatch_exception\u001b[0m\u001b[1;33m(\u001b[0m\u001b[0mframe\u001b[0m\u001b[1;33m,\u001b[0m \u001b[0marg\u001b[0m\u001b[1;33m)\u001b[0m\u001b[1;33m\u001b[0m\u001b[1;33m\u001b[0m\u001b[0m\n",
      "\u001b[1;32m~\\Anaconda3\\lib\\bdb.py\u001b[0m in \u001b[0;36mdispatch_return\u001b[1;34m(self, frame, arg)\u001b[0m\n\u001b[0;32m    152\u001b[0m             \u001b[1;32mfinally\u001b[0m\u001b[1;33m:\u001b[0m\u001b[1;33m\u001b[0m\u001b[1;33m\u001b[0m\u001b[0m\n\u001b[0;32m    153\u001b[0m                 \u001b[0mself\u001b[0m\u001b[1;33m.\u001b[0m\u001b[0mframe_returning\u001b[0m \u001b[1;33m=\u001b[0m \u001b[1;32mNone\u001b[0m\u001b[1;33m\u001b[0m\u001b[1;33m\u001b[0m\u001b[0m\n\u001b[1;32m--> 154\u001b[1;33m             \u001b[1;32mif\u001b[0m \u001b[0mself\u001b[0m\u001b[1;33m.\u001b[0m\u001b[0mquitting\u001b[0m\u001b[1;33m:\u001b[0m \u001b[1;32mraise\u001b[0m \u001b[0mBdbQuit\u001b[0m\u001b[1;33m\u001b[0m\u001b[1;33m\u001b[0m\u001b[0m\n\u001b[0m\u001b[0;32m    155\u001b[0m             \u001b[1;31m# The user issued a 'next' or 'until' command.\u001b[0m\u001b[1;33m\u001b[0m\u001b[1;33m\u001b[0m\u001b[1;33m\u001b[0m\u001b[0m\n\u001b[0;32m    156\u001b[0m             \u001b[1;32mif\u001b[0m \u001b[0mself\u001b[0m\u001b[1;33m.\u001b[0m\u001b[0mstopframe\u001b[0m \u001b[1;32mis\u001b[0m \u001b[0mframe\u001b[0m \u001b[1;32mand\u001b[0m \u001b[0mself\u001b[0m\u001b[1;33m.\u001b[0m\u001b[0mstoplineno\u001b[0m \u001b[1;33m!=\u001b[0m \u001b[1;33m-\u001b[0m\u001b[1;36m1\u001b[0m\u001b[1;33m:\u001b[0m\u001b[1;33m\u001b[0m\u001b[1;33m\u001b[0m\u001b[0m\n",
      "\u001b[1;31mBdbQuit\u001b[0m: "
     ]
    }
   ],
   "source": [
    "F = D(y, x, x)\n",
    "\n",
    "XF = group_operator(F , vars_and_derivatives, infts)"
   ]
  },
  {
   "cell_type": "code",
   "execution_count": 10,
   "metadata": {},
   "outputs": [],
   "source": [
    "u = sp.Function('u')(x,y)"
   ]
  },
  {
   "cell_type": "code",
   "execution_count": 58,
   "metadata": {},
   "outputs": [
    {
     "data": {
      "text/plain": [
       "'u'"
      ]
     },
     "execution_count": 58,
     "metadata": {},
     "output_type": "execute_result"
    }
   ],
   "source": [
    "str(D(u, x, x, y).args[0]).split('(')[0]"
   ]
  },
  {
   "cell_type": "code",
   "execution_count": 12,
   "metadata": {},
   "outputs": [
    {
     "data": {
      "text/latex": [
       "$\\displaystyle \\left(- \\left(\\frac{d}{d y{\\left(x \\right)}} \\xi^{x}{\\left(x,y{\\left(x \\right)} \\right)} \\frac{d}{d x} y{\\left(x \\right)} + \\left. \\frac{\\partial}{\\partial \\xi_{1}} \\xi^{x}{\\left(\\xi_{1},y{\\left(x \\right)} \\right)} \\right|_{\\substack{ \\xi_{1}=x }}\\right) \\frac{d}{d x} y{\\left(x \\right)} + \\frac{d}{d y{\\left(x \\right)}} \\eta^{y}{\\left(x,y{\\left(x \\right)} \\right)} \\frac{d}{d x} y{\\left(x \\right)} + \\left. \\frac{\\partial}{\\partial \\xi_{1}} \\eta^{y}{\\left(\\xi_{1},y{\\left(x \\right)} \\right)} \\right|_{\\substack{ \\xi_{1}=x }}\\right) \\frac{d}{d \\frac{d}{d x} y{\\left(x \\right)}} 0 + \\left(\\left(\\frac{d^{2}}{d y{\\left(x \\right)}^{2}} \\eta^{y}{\\left(x,y{\\left(x \\right)} \\right)} \\frac{d}{d x} y{\\left(x \\right)} + \\left. \\frac{\\partial^{2}}{\\partial x\\partial \\xi} \\eta^{y}{\\left(x,\\xi \\right)} \\right|_{\\substack{ \\xi=y{\\left(x \\right)} }}\\right) \\frac{d}{d x} y{\\left(x \\right)} + \\left(- \\left(\\frac{d^{2}}{d y{\\left(x \\right)}^{2}} \\xi^{x}{\\left(x,y{\\left(x \\right)} \\right)} \\frac{d}{d x} y{\\left(x \\right)} + \\left. \\frac{\\partial^{2}}{\\partial x\\partial \\xi} \\xi^{x}{\\left(x,\\xi \\right)} \\right|_{\\substack{ \\xi=y{\\left(x \\right)} }}\\right) \\frac{d}{d x} y{\\left(x \\right)} - \\frac{d}{d x} y{\\left(x \\right)} \\left. \\frac{\\partial^{2}}{\\partial y{\\left(x \\right)}\\partial \\xi_{1}} \\xi^{x}{\\left(\\xi_{1},y{\\left(x \\right)} \\right)} \\right|_{\\substack{ \\xi_{1}=x }} - \\left. \\frac{\\partial^{2}}{\\partial \\xi_{1}^{2}} \\xi^{x}{\\left(\\xi_{1},y{\\left(x \\right)} \\right)} \\right|_{\\substack{ \\xi_{1}=x }}\\right) \\frac{d}{d x} y{\\left(x \\right)} + \\frac{d}{d x} y{\\left(x \\right)} \\left. \\frac{\\partial^{2}}{\\partial y{\\left(x \\right)}\\partial \\xi_{1}} \\eta^{y}{\\left(\\xi_{1},y{\\left(x \\right)} \\right)} \\right|_{\\substack{ \\xi_{1}=x }} + \\left. \\frac{\\partial^{2}}{\\partial \\xi_{1}^{2}} \\eta^{y}{\\left(\\xi_{1},y{\\left(x \\right)} \\right)} \\right|_{\\substack{ \\xi_{1}=x }}\\right) \\left. \\frac{d^{3}}{d \\xid x^{2}} y{\\left(x \\right)} \\right|_{\\substack{ \\xi=0 }} + \\eta^{y}{\\left(x,y{\\left(x \\right)} \\right)} \\frac{d}{d y{\\left(x \\right)}} 0 + \\xi^{x}{\\left(x,y{\\left(x \\right)} \\right)} \\frac{d}{d x} 0$"
      ],
      "text/plain": [
       "(-(Derivative(xi^x(x, y(x)), y(x))*Derivative(y(x), x) + Subs(Derivative(xi^x(_xi_1, y(x)), _xi_1), _xi_1, x))*Derivative(y(x), x) + Derivative(eta^y(x, y(x)), y(x))*Derivative(y(x), x) + Subs(Derivative(eta^y(_xi_1, y(x)), _xi_1), _xi_1, x))*Derivative(0, Derivative(y(x), x)) + ((Derivative(eta^y(x, y(x)), (y(x), 2))*Derivative(y(x), x) + Subs(Derivative(eta^y(x, _xi), _xi, x), _xi, y(x)))*Derivative(y(x), x) + (-(Derivative(xi^x(x, y(x)), (y(x), 2))*Derivative(y(x), x) + Subs(Derivative(xi^x(x, _xi), _xi, x), _xi, y(x)))*Derivative(y(x), x) - Derivative(y(x), x)*Subs(Derivative(xi^x(_xi_1, y(x)), _xi_1, y(x)), _xi_1, x) - Subs(Derivative(xi^x(_xi_1, y(x)), (_xi_1, 2)), _xi_1, x))*Derivative(y(x), x) + Derivative(y(x), x)*Subs(Derivative(eta^y(_xi_1, y(x)), _xi_1, y(x)), _xi_1, x) + Subs(Derivative(eta^y(_xi_1, y(x)), (_xi_1, 2)), _xi_1, x))*Subs(Derivative(y(x), (x, 2), _xi), _xi, 0) + eta^y(x, y(x))*Derivative(0, y(x)) + xi^x(x, y(x))*Derivative(0, x)"
      ]
     },
     "execution_count": 12,
     "metadata": {},
     "output_type": "execute_result"
    }
   ],
   "source": [
    "XF.subs({D(y, x, x):0})"
   ]
  },
  {
   "cell_type": "code",
   "execution_count": null,
   "metadata": {},
   "outputs": [],
   "source": [
    "def group_operator(F, variables, infts):\n",
    "    var_inft = zip(variables, infts)\n",
    "    LF = 0\n",
    "    for var, inft in var_inft:\n",
    "        LF += inft*D(L, var)"
   ]
  },
  {
   "cell_type": "code",
   "execution_count": 15,
   "metadata": {},
   "outputs": [
    {
     "data": {
      "text/latex": [
       "$\\displaystyle \\left(\\frac{d}{d y{\\left(x \\right)}} \\eta^{y}{\\left(x,y{\\left(x \\right)} \\right)} - \\left. \\frac{\\partial}{\\partial \\xi_{1}} \\xi^{x}{\\left(\\xi_{1},y{\\left(x \\right)} \\right)} \\right|_{\\substack{ \\xi_{1}=x }}\\right) \\frac{d^{3}}{d x^{3}} y{\\left(x \\right)} + \\left(\\frac{d^{3}}{d y{\\left(x \\right)}^{3}} \\eta^{y}{\\left(x,y{\\left(x \\right)} \\right)} - \\left. \\frac{\\partial^{3}}{\\partial y{\\left(x \\right)}^{2}\\partial \\xi_{1}} \\xi^{x}{\\left(\\xi_{1},y{\\left(x \\right)} \\right)} \\right|_{\\substack{ \\xi_{1}=x }} - 2 \\left. \\frac{\\partial^{3}}{\\partial x\\partial \\xi^{2}} \\xi^{x}{\\left(x,\\xi \\right)} \\right|_{\\substack{ \\xi=y{\\left(x \\right)} }}\\right) \\left(\\frac{d}{d x} y{\\left(x \\right)}\\right)^{3} + \\left(- 5 \\frac{d^{2}}{d y{\\left(x \\right)}^{2}} \\xi^{x}{\\left(x,y{\\left(x \\right)} \\right)} \\left(\\frac{d}{d x} y{\\left(x \\right)}\\right)^{2} - 2 \\left. \\frac{\\partial^{2}}{\\partial \\xi_{1}^{2}} \\xi^{x}{\\left(\\xi_{1},y{\\left(x \\right)} \\right)} \\right|_{\\substack{ \\xi_{1}=x }} + \\left. \\frac{\\partial^{2}}{\\partial y{\\left(x \\right)}\\partial \\xi_{1}} \\eta^{y}{\\left(\\xi_{1},y{\\left(x \\right)} \\right)} \\right|_{\\substack{ \\xi_{1}=x }} + 2 \\left. \\frac{\\partial^{2}}{\\partial x\\partial \\xi} \\eta^{y}{\\left(x,\\xi \\right)} \\right|_{\\substack{ \\xi=y{\\left(x \\right)} }}\\right) \\frac{d^{2}}{d x^{2}} y{\\left(x \\right)} + \\left(\\left. \\frac{\\partial^{3}}{\\partial y{\\left(x \\right)}^{2}\\partial \\xi_{1}} \\eta^{y}{\\left(\\xi_{1},y{\\left(x \\right)} \\right)} \\right|_{\\substack{ \\xi_{1}=x }} + 2 \\left. \\frac{\\partial^{3}}{\\partial x\\partial \\xi^{2}} \\eta^{y}{\\left(x,\\xi \\right)} \\right|_{\\substack{ \\xi=y{\\left(x \\right)} }} - 2 \\left. \\frac{\\partial^{3}}{\\partial y{\\left(x \\right)}\\partial \\xi_{1}^{2}} \\xi^{x}{\\left(\\xi_{1},y{\\left(x \\right)} \\right)} \\right|_{\\substack{ \\xi_{1}=x }} - \\left. \\frac{\\partial^{3}}{\\partial x^{2}\\partial \\xi} \\xi^{x}{\\left(x,\\xi \\right)} \\right|_{\\substack{ \\xi=y{\\left(x \\right)} }}\\right) \\left(\\frac{d}{d x} y{\\left(x \\right)}\\right)^{2} + \\left(3 \\frac{d^{2}}{d y{\\left(x \\right)}^{2}} \\eta^{y}{\\left(x,y{\\left(x \\right)} \\right)} \\frac{d^{2}}{d x^{2}} y{\\left(x \\right)} - 2 \\frac{d}{d y{\\left(x \\right)}} \\xi^{x}{\\left(x,y{\\left(x \\right)} \\right)} \\frac{d^{3}}{d x^{3}} y{\\left(x \\right)} - 3 \\frac{d^{2}}{d x^{2}} y{\\left(x \\right)} \\left. \\frac{\\partial^{2}}{\\partial y{\\left(x \\right)}\\partial \\xi_{1}} \\xi^{x}{\\left(\\xi_{1},y{\\left(x \\right)} \\right)} \\right|_{\\substack{ \\xi_{1}=x }} - 4 \\frac{d^{2}}{d x^{2}} y{\\left(x \\right)} \\left. \\frac{\\partial^{2}}{\\partial x\\partial \\xi} \\xi^{x}{\\left(x,\\xi \\right)} \\right|_{\\substack{ \\xi=y{\\left(x \\right)} }} - \\left. \\frac{\\partial^{3}}{\\partial \\xi_{1}^{3}} \\xi^{x}{\\left(\\xi_{1},y{\\left(x \\right)} \\right)} \\right|_{\\substack{ \\xi_{1}=x }} + 2 \\left. \\frac{\\partial^{3}}{\\partial y{\\left(x \\right)}\\partial \\xi_{1}^{2}} \\eta^{y}{\\left(\\xi_{1},y{\\left(x \\right)} \\right)} \\right|_{\\substack{ \\xi_{1}=x }} + \\left. \\frac{\\partial^{3}}{\\partial x^{2}\\partial \\xi} \\eta^{y}{\\left(x,\\xi \\right)} \\right|_{\\substack{ \\xi=y{\\left(x \\right)} }}\\right) \\frac{d}{d x} y{\\left(x \\right)} - 2 \\frac{d}{d y{\\left(x \\right)}} \\xi^{x}{\\left(x,y{\\left(x \\right)} \\right)} \\left(\\frac{d^{2}}{d x^{2}} y{\\left(x \\right)}\\right)^{2} - \\frac{d^{3}}{d y{\\left(x \\right)}^{3}} \\xi^{x}{\\left(x,y{\\left(x \\right)} \\right)} \\left(\\frac{d}{d x} y{\\left(x \\right)}\\right)^{4} + \\left. \\frac{\\partial^{3}}{\\partial \\xi_{1}^{3}} \\eta^{y}{\\left(\\xi_{1},y{\\left(x \\right)} \\right)} \\right|_{\\substack{ \\xi_{1}=x }}$"
      ],
      "text/plain": [
       "(Derivative(eta^y(x, y(x)), y(x)) - Subs(Derivative(xi^x(_xi_1, y(x)), _xi_1), _xi_1, x))*Derivative(y(x), (x, 3)) + (Derivative(eta^y(x, y(x)), (y(x), 3)) - Subs(Derivative(xi^x(_xi_1, y(x)), _xi_1, (y(x), 2)), _xi_1, x) - 2*Subs(Derivative(xi^x(x, _xi), (_xi, 2), x), _xi, y(x)))*Derivative(y(x), x)**3 + (-5*Derivative(xi^x(x, y(x)), (y(x), 2))*Derivative(y(x), x)**2 - 2*Subs(Derivative(xi^x(_xi_1, y(x)), (_xi_1, 2)), _xi_1, x) + Subs(Derivative(eta^y(_xi_1, y(x)), _xi_1, y(x)), _xi_1, x) + 2*Subs(Derivative(eta^y(x, _xi), _xi, x), _xi, y(x)))*Derivative(y(x), (x, 2)) + (Subs(Derivative(eta^y(_xi_1, y(x)), _xi_1, (y(x), 2)), _xi_1, x) + 2*Subs(Derivative(eta^y(x, _xi), (_xi, 2), x), _xi, y(x)) - 2*Subs(Derivative(xi^x(_xi_1, y(x)), (_xi_1, 2), y(x)), _xi_1, x) - Subs(Derivative(xi^x(x, _xi), _xi, (x, 2)), _xi, y(x)))*Derivative(y(x), x)**2 + (3*Derivative(eta^y(x, y(x)), (y(x), 2))*Derivative(y(x), (x, 2)) - 2*Derivative(xi^x(x, y(x)), y(x))*Derivative(y(x), (x, 3)) - 3*Derivative(y(x), (x, 2))*Subs(Derivative(xi^x(_xi_1, y(x)), _xi_1, y(x)), _xi_1, x) - 4*Derivative(y(x), (x, 2))*Subs(Derivative(xi^x(x, _xi), _xi, x), _xi, y(x)) - Subs(Derivative(xi^x(_xi_1, y(x)), (_xi_1, 3)), _xi_1, x) + 2*Subs(Derivative(eta^y(_xi_1, y(x)), (_xi_1, 2), y(x)), _xi_1, x) + Subs(Derivative(eta^y(x, _xi), _xi, (x, 2)), _xi, y(x)))*Derivative(y(x), x) - 2*Derivative(xi^x(x, y(x)), y(x))*Derivative(y(x), (x, 2))**2 - Derivative(xi^x(x, y(x)), (y(x), 3))*Derivative(y(x), x)**4 + Subs(Derivative(eta^y(_xi_1, y(x)), (_xi_1, 3)), _xi_1, x)"
      ]
     },
     "execution_count": 15,
     "metadata": {},
     "output_type": "execute_result"
    }
   ],
   "source": [
    "sp.collect(inft_derivatives[2][0].expand(), y)"
   ]
  },
  {
   "cell_type": "code",
   "execution_count": 6,
   "metadata": {},
   "outputs": [
    {
     "data": {
      "text/latex": [
       "$\\displaystyle \\frac{d}{d x} y{\\left(x \\right)}$"
      ],
      "text/plain": [
       "Derivative(y(x), x)"
      ]
     },
     "execution_count": 6,
     "metadata": {},
     "output_type": "execute_result"
    }
   ],
   "source": [
    "dep_vars_derivatives[0][0]\n"
   ]
  },
  {
   "cell_type": "code",
   "execution_count": 8,
   "metadata": {},
   "outputs": [
    {
     "name": "stdout",
     "output_type": "stream",
     "text": [
      "0 0\n",
      "0 1\n",
      "1 0\n",
      "1 1\n"
     ]
    }
   ],
   "source": [
    "for i in range(2):\n",
    "    for j in range(2):\n",
    "        print(i, j)"
   ]
  },
  {
   "cell_type": "code",
   "execution_count": 8,
   "metadata": {},
   "outputs": [],
   "source": [
    "list_indep = [x, t]\n",
    "list_dep = [u]\n",
    "infts = infinitesimals_generator(list_indep, list_dep)"
   ]
  },
  {
   "cell_type": "code",
   "execution_count": 11,
   "metadata": {},
   "outputs": [
    {
     "data": {
      "text/plain": [
       "[xi^x(x, t, psi(x, t)),\n",
       " xi^t(x, t, psi(x, t)),\n",
       " eta^psi(x, t, psi(x, t)),\n",
       " xi^x(x, t, psi(x, t)),\n",
       " xi^t(x, t, psi(x, t)),\n",
       " eta^psi(x, t, psi(x, t))]"
      ]
     },
     "execution_count": 11,
     "metadata": {},
     "output_type": "execute_result"
    }
   ],
   "source": [
    "infts*2"
   ]
  },
  {
   "cell_type": "code",
   "execution_count": 7,
   "metadata": {},
   "outputs": [],
   "source": [
    "def infinitesimals_generator(list_indep, list_dep):\n",
    "    infts = []\n",
    "    variables = list_indep + list_dep\n",
    "    for var in list_indep:\n",
    "        f = f'xi^{var}'\n",
    "        infts.append(sp.Function(f)(*variables))\n",
    "    for var in list_dep:\n",
    "        f = f'eta^{var}'.split('(')[0]\n",
    "        infts.append(sp.Function(f)(*variables))\n",
    "    return infts"
   ]
  },
  {
   "cell_type": "code",
   "execution_count": 107,
   "metadata": {},
   "outputs": [
    {
     "data": {
      "text/plain": [
       "[x, t]"
      ]
     },
     "execution_count": 107,
     "metadata": {},
     "output_type": "execute_result"
    }
   ],
   "source": [
    "xi_x = Function('xi^x')(x, t, u)\n",
    "xi_t = Function('xi^x')(x, t, u)\n",
    "eta_u = Function('eta^u')(x, t, u)"
   ]
  },
  {
   "cell_type": "code",
   "execution_count": 116,
   "metadata": {},
   "outputs": [],
   "source": [
    "list_inf = [xi_x, xi_t, eta_u]"
   ]
  },
  {
   "cell_type": "code",
   "execution_count": 115,
   "metadata": {},
   "outputs": [
    {
     "data": {
      "text/latex": [
       "$\\displaystyle \\xi^{x}{\\left(x,t,u{\\left(x,t \\right)} \\right)}$"
      ],
      "text/plain": [
       "xi^x(x, t, u(x, t))"
      ]
     },
     "execution_count": 115,
     "metadata": {},
     "output_type": "execute_result"
    }
   ],
   "source": [
    "xi_x"
   ]
  },
  {
   "cell_type": "code",
   "execution_count": 124,
   "metadata": {},
   "outputs": [],
   "source": [
    "x, y, z, t, tau = symbols('x y z t tau')"
   ]
  },
  {
   "cell_type": "code",
   "execution_count": 126,
   "metadata": {},
   "outputs": [],
   "source": [
    "comb = cb.list_combinatorics([x,y,z,y,tau])"
   ]
  },
  {
   "cell_type": "code",
   "execution_count": 130,
   "metadata": {},
   "outputs": [
    {
     "data": {
      "text/plain": [
       "5"
      ]
     },
     "execution_count": 130,
     "metadata": {},
     "output_type": "execute_result"
    }
   ],
   "source": [
    "A = [1,2,3,4,5]\n",
    "A[-1]"
   ]
  },
  {
   "cell_type": "code",
   "execution_count": null,
   "metadata": {},
   "outputs": [],
   "source": [
    "def group_operator(F, list_indep, list_dep, list_inft):\n",
    "    list_var = list_indep + list_dep\n",
    "    var_inft = zip(list_var, list_inft)\n",
    "    LF = 0\n",
    "    for var, inft in var_inft:\n",
    "        LF += inft*D(L, var)\n",
    "\n",
    "def higher_infinitesimals_generator(list_inft_indep ,list_inft, Order, list_indep, list_dep):\n",
    "    dep_vars_derivatives = []\n",
    "    inft_derivatives = []\n",
    "    var_combinatorics = cb.list_combinatorics(variables)\n",
    "    depvars_etas = zip(list_dep, list_inft)\n",
    "    indvar_xis =  zip(list_indep, list_inft_indep)\n",
    "    for ind_vars in var_combinatorics:\n",
    "        for dep_var, eta in depvar_etas: \n",
    "        if len(ind_vars) == 1:\n",
    "            dep_var_derivatives.append(D(dep_var,ind_var[0]))\n",
    "        else:\n",
    "            idx = var_combinatorics.index(ind_vars[:-1])   \n",
    "            dep_vars_derivatives.append(\n",
    "                D(dep_vars_derivatives[idx],ind_vars[-1])\n",
    "            dummy = inft_derivatives[idx].diff(ind_vars[-1])\n",
    "            for ind_var, xi in indvar_xis:\n",
    "                dummy += D(dep_vars_derivatives[idx], ind_var)*(\n",
    "                    xi.diff(ind_vars[-1]))\n",
    "            inft_derivatives.append(dummy)\n",
    "    return\n",
    "            "
   ]
  },
  {
   "cell_type": "code",
   "execution_count": 3,
   "metadata": {},
   "outputs": [],
   "source": [
    "def Infinitesimals_Generator(N, q, p, y, x):\n",
    "    \"\"\"This function creates the infinitesimals for the\n",
    "       N-th order derivative of y and agroup them in a list.\n",
    "       \n",
    "       Args:\n",
    "       N (int):      the order of the highest infinitesimal\n",
    "       q (list):     inifinitesimal of the dependent variable y\n",
    "       p (Function): infinitesimal of x\n",
    "       y (function): depedant variable\n",
    "       x (symbol):   the independent variable\n",
    "    \"\"\"\n",
    "    n  = [q]\n",
    "    Dp = p.diff(x)\n",
    "    for i in range(1,N+1):\n",
    "        n.append(expand(n[i-1].diff(x)-y.diff(x,i)*Dp))\n",
    "    return n\n",
    "def Group_Operator(F, n, p, y, x, X):\n",
    "    \"\"\"This function creates the infinitesimals for the\n",
    "       N-th order derivative of y and agroup them in a list.\n",
    "       \n",
    "       Args:\n",
    "       F (add):      differential equation equated to zero. All\n",
    "                     x terms should be written in terms of a dummy\n",
    "                     variable X, All dependant variables and their \n",
    "                     derivatives should be written in terms of the \n",
    "                     independent variable x\n",
    "       n (list):     list containing a function of (x,y). It is \n",
    "                     the infinitesimal of y.\n",
    "       p (Function): it is the infinitesimal of x\n",
    "       y (function): depedant variable\n",
    "       x (symbol):   the independent variable\n",
    "       X (symbol):   dummy variable to take partial derivatives\n",
    "    \"\"\"\n",
    "    XF = p*F.diff(X)\n",
    "    for i in range(0, len(n)):\n",
    "        XF += n[i]*F.diff(y.diff(x,i))\n",
    "    return expand(XF)"
   ]
  },
  {
   "cell_type": "code",
   "execution_count": 4,
   "metadata": {},
   "outputs": [],
   "source": [
    "F = y_xx"
   ]
  },
  {
   "cell_type": "code",
   "execution_count": 5,
   "metadata": {},
   "outputs": [],
   "source": [
    "n = Infinitesimals_Generator(2, eta, xi, y, x)\n",
    "XF = Group_Operator(F, n, xi, y, x, X)"
   ]
  },
  {
   "cell_type": "code",
   "execution_count": 8,
   "metadata": {},
   "outputs": [],
   "source": [
    "XF = collect(XF,y)"
   ]
  },
  {
   "cell_type": "code",
   "execution_count": 15,
   "metadata": {},
   "outputs": [
    {
     "data": {
      "text/latex": [
       "$\\displaystyle \\left(\\frac{d}{d y{\\left(x \\right)}} \\eta{\\left(x,y{\\left(x \\right)} \\right)} - 2 \\left. \\frac{\\partial}{\\partial \\xi_{1}} \\xi{\\left(\\xi_{1},y{\\left(x \\right)} \\right)} \\right|_{\\substack{ \\xi_{1}=x }}\\right) \\frac{d^{2}}{d x^{2}} y{\\left(x \\right)} + \\left(\\frac{d^{2}}{d y{\\left(x \\right)}^{2}} \\eta{\\left(x,y{\\left(x \\right)} \\right)} - \\left. \\frac{\\partial^{2}}{\\partial y{\\left(x \\right)}\\partial \\xi_{1}} \\xi{\\left(\\xi_{1},y{\\left(x \\right)} \\right)} \\right|_{\\substack{ \\xi_{1}=x }} - \\left. \\frac{\\partial^{2}}{\\partial x\\partial \\xi} \\xi{\\left(x,\\xi \\right)} \\right|_{\\substack{ \\xi=y{\\left(x \\right)} }}\\right) \\left(\\frac{d}{d x} y{\\left(x \\right)}\\right)^{2} + \\left(- 3 \\frac{d}{d y{\\left(x \\right)}} \\xi{\\left(x,y{\\left(x \\right)} \\right)} \\frac{d^{2}}{d x^{2}} y{\\left(x \\right)} - \\left. \\frac{\\partial^{2}}{\\partial \\xi_{1}^{2}} \\xi{\\left(\\xi_{1},y{\\left(x \\right)} \\right)} \\right|_{\\substack{ \\xi_{1}=x }} + \\left. \\frac{\\partial^{2}}{\\partial y{\\left(x \\right)}\\partial \\xi_{1}} \\eta{\\left(\\xi_{1},y{\\left(x \\right)} \\right)} \\right|_{\\substack{ \\xi_{1}=x }} + \\left. \\frac{\\partial^{2}}{\\partial x\\partial \\xi} \\eta{\\left(x,\\xi \\right)} \\right|_{\\substack{ \\xi=y{\\left(x \\right)} }}\\right) \\frac{d}{d x} y{\\left(x \\right)} - \\frac{d^{2}}{d y{\\left(x \\right)}^{2}} \\xi{\\left(x,y{\\left(x \\right)} \\right)} \\left(\\frac{d}{d x} y{\\left(x \\right)}\\right)^{3} + \\left. \\frac{\\partial^{2}}{\\partial \\xi_{1}^{2}} \\eta{\\left(\\xi_{1},y{\\left(x \\right)} \\right)} \\right|_{\\substack{ \\xi_{1}=x }}$"
      ],
      "text/plain": [
       "(Derivative(eta(x, y(x)), y(x)) - 2*Subs(Derivative(xi(_xi_1, y(x)), _xi_1), _xi_1, x))*Derivative(y(x), (x, 2)) + (Derivative(eta(x, y(x)), (y(x), 2)) - Subs(Derivative(xi(_xi_1, y(x)), _xi_1, y(x)), _xi_1, x) - Subs(Derivative(xi(x, _xi), _xi, x), _xi, y(x)))*Derivative(y(x), x)**2 + (-3*Derivative(xi(x, y(x)), y(x))*Derivative(y(x), (x, 2)) - Subs(Derivative(xi(_xi_1, y(x)), (_xi_1, 2)), _xi_1, x) + Subs(Derivative(eta(_xi_1, y(x)), _xi_1, y(x)), _xi_1, x) + Subs(Derivative(eta(x, _xi), _xi, x), _xi, y(x)))*Derivative(y(x), x) - Derivative(xi(x, y(x)), (y(x), 2))*Derivative(y(x), x)**3 + Subs(Derivative(eta(_xi_1, y(x)), (_xi_1, 2)), _xi_1, x)"
      ]
     },
     "execution_count": 15,
     "metadata": {},
     "output_type": "execute_result"
    }
   ],
   "source": [
    "XF"
   ]
  },
  {
   "cell_type": "code",
   "execution_count": 26,
   "metadata": {},
   "outputs": [
    {
     "data": {
      "text/latex": [
       "$\\displaystyle - 3 \\frac{d}{d y{\\left(x \\right)}} \\xi{\\left(x,y{\\left(x \\right)} \\right)} \\frac{d^{2}}{d x^{2}} y{\\left(x \\right)} - \\left. \\frac{\\partial^{2}}{\\partial \\xi_{1}^{2}} \\xi{\\left(\\xi_{1},y{\\left(x \\right)} \\right)} \\right|_{\\substack{ \\xi_{1}=x }} + \\left. \\frac{\\partial^{2}}{\\partial y{\\left(x \\right)}\\partial \\xi_{1}} \\eta{\\left(\\xi_{1},y{\\left(x \\right)} \\right)} \\right|_{\\substack{ \\xi_{1}=x }} + \\left. \\frac{\\partial^{2}}{\\partial x\\partial \\xi} \\eta{\\left(x,\\xi \\right)} \\right|_{\\substack{ \\xi=y{\\left(x \\right)} }}$"
      ],
      "text/plain": [
       "-3*Derivative(xi(x, y(x)), y(x))*Derivative(y(x), (x, 2)) - Subs(Derivative(xi(_xi_1, y(x)), (_xi_1, 2)), _xi_1, x) + Subs(Derivative(eta(_xi_1, y(x)), _xi_1, y(x)), _xi_1, x) + Subs(Derivative(eta(x, _xi), _xi, x), _xi, y(x))"
      ]
     },
     "execution_count": 26,
     "metadata": {},
     "output_type": "execute_result"
    }
   ],
   "source": [
    "(XF.make_args(XF)[2]).make_args(XF.make_args(XF)[2])[0]"
   ]
  },
  {
   "cell_type": "code",
   "execution_count": 9,
   "metadata": {},
   "outputs": [],
   "source": [
    "def Group_Det_Eq(XF, N, X, y):\n",
    "    XF_dummy = collect(XF,var)\n",
    "    XF_list = list(XF_dummy.make_args(XF_dummy))\n",
    "    for i in range(len(XF_list)):\n",
    "        XF_dummy = collect(XF_list[0])\n",
    "        XF_list[0] = list(XF_dummy[0].make_args)\n",
    "        \n",
    "        \n",
    "    return n_terms, variables"
   ]
  },
  {
   "cell_type": "code",
   "execution_count": 10,
   "metadata": {},
   "outputs": [
    {
     "ename": "TypeError",
     "evalue": "cannot determine truth value of Relational",
     "output_type": "error",
     "traceback": [
      "\u001b[1;31m---------------------------------------------------------------------------\u001b[0m",
      "\u001b[1;31mTypeError\u001b[0m                                 Traceback (most recent call last)",
      "\u001b[1;32m<ipython-input-10-d2a9a30333a6>\u001b[0m in \u001b[0;36m<module>\u001b[1;34m\u001b[0m\n\u001b[1;32m----> 1\u001b[1;33m \u001b[0mGroup_Det_Eq\u001b[0m\u001b[1;33m(\u001b[0m\u001b[0mXF\u001b[0m\u001b[1;33m,\u001b[0m \u001b[1;36m2\u001b[0m\u001b[1;33m,\u001b[0m \u001b[0mX\u001b[0m\u001b[1;33m,\u001b[0m \u001b[0my\u001b[0m\u001b[1;33m)\u001b[0m\u001b[1;33m\u001b[0m\u001b[1;33m\u001b[0m\u001b[0m\n\u001b[0m",
      "\u001b[1;32m<ipython-input-9-d50a77a70851>\u001b[0m in \u001b[0;36mGroup_Det_Eq\u001b[1;34m(XF, N, X, y)\u001b[0m\n\u001b[0;32m      9\u001b[0m         \u001b[0mn_terms\u001b[0m\u001b[1;33m.\u001b[0m\u001b[0mappend\u001b[0m\u001b[1;33m(\u001b[0m\u001b[0mlen\u001b[0m\u001b[1;33m(\u001b[0m\u001b[0mXF_dummy\u001b[0m\u001b[1;33m.\u001b[0m\u001b[0mmake_args\u001b[0m\u001b[1;33m(\u001b[0m\u001b[0mXF_dummy\u001b[0m\u001b[1;33m)\u001b[0m\u001b[1;33m)\u001b[0m\u001b[1;33m)\u001b[0m\u001b[1;33m\u001b[0m\u001b[1;33m\u001b[0m\u001b[0m\n\u001b[0;32m     10\u001b[0m     \u001b[0mzipped_terms\u001b[0m \u001b[1;33m=\u001b[0m \u001b[0mzip\u001b[0m\u001b[1;33m(\u001b[0m\u001b[0mn_terms\u001b[0m\u001b[1;33m,\u001b[0m \u001b[0mvariables\u001b[0m\u001b[1;33m)\u001b[0m\u001b[1;33m\u001b[0m\u001b[1;33m\u001b[0m\u001b[0m\n\u001b[1;32m---> 11\u001b[1;33m     \u001b[0msorted_pairs\u001b[0m \u001b[1;33m=\u001b[0m \u001b[0msorted\u001b[0m\u001b[1;33m(\u001b[0m\u001b[0mzipped_terms\u001b[0m\u001b[1;33m)\u001b[0m\u001b[1;33m\u001b[0m\u001b[1;33m\u001b[0m\u001b[0m\n\u001b[0m\u001b[0;32m     12\u001b[0m     \u001b[0mtuples\u001b[0m \u001b[1;33m=\u001b[0m \u001b[0mzip\u001b[0m\u001b[1;33m(\u001b[0m\u001b[1;33m*\u001b[0m\u001b[0msorted_pairs\u001b[0m\u001b[1;33m)\u001b[0m\u001b[1;33m\u001b[0m\u001b[1;33m\u001b[0m\u001b[0m\n\u001b[0;32m     13\u001b[0m     \u001b[0mn_terms\u001b[0m\u001b[1;33m,\u001b[0m \u001b[0mvariables\u001b[0m \u001b[1;33m=\u001b[0m \u001b[1;33m[\u001b[0m \u001b[0mlist\u001b[0m\u001b[1;33m(\u001b[0m\u001b[0mtuple\u001b[0m\u001b[1;33m)\u001b[0m \u001b[1;32mfor\u001b[0m \u001b[0mtuple\u001b[0m \u001b[1;32min\u001b[0m  \u001b[0mtuples\u001b[0m\u001b[1;33m]\u001b[0m\u001b[1;33m\u001b[0m\u001b[1;33m\u001b[0m\u001b[0m\n",
      "\u001b[1;32m~\\anaconda3\\lib\\site-packages\\sympy\\core\\relational.py\u001b[0m in \u001b[0;36m__nonzero__\u001b[1;34m(self)\u001b[0m\n\u001b[0;32m    382\u001b[0m \u001b[1;33m\u001b[0m\u001b[0m\n\u001b[0;32m    383\u001b[0m     \u001b[1;32mdef\u001b[0m \u001b[0m__nonzero__\u001b[0m\u001b[1;33m(\u001b[0m\u001b[0mself\u001b[0m\u001b[1;33m)\u001b[0m\u001b[1;33m:\u001b[0m\u001b[1;33m\u001b[0m\u001b[1;33m\u001b[0m\u001b[0m\n\u001b[1;32m--> 384\u001b[1;33m         \u001b[1;32mraise\u001b[0m \u001b[0mTypeError\u001b[0m\u001b[1;33m(\u001b[0m\u001b[1;34m\"cannot determine truth value of Relational\"\u001b[0m\u001b[1;33m)\u001b[0m\u001b[1;33m\u001b[0m\u001b[1;33m\u001b[0m\u001b[0m\n\u001b[0m\u001b[0;32m    385\u001b[0m \u001b[1;33m\u001b[0m\u001b[0m\n\u001b[0;32m    386\u001b[0m     \u001b[0m__bool__\u001b[0m \u001b[1;33m=\u001b[0m \u001b[0m__nonzero__\u001b[0m\u001b[1;33m\u001b[0m\u001b[1;33m\u001b[0m\u001b[0m\n",
      "\u001b[1;31mTypeError\u001b[0m: cannot determine truth value of Relational"
     ]
    }
   ],
   "source": [
    "Group_Det_Eq(XF, 2, X, y)"
   ]
  },
  {
   "cell_type": "code",
   "execution_count": 28,
   "metadata": {},
   "outputs": [
    {
     "data": {
      "text/plain": [
       "[Derivative(eta(x, y(x)), (y(x), 2))*Derivative(y(x), x)**2,\n",
       " Derivative(eta(x, y(x)), y(x))*Derivative(y(x), (x, 2)),\n",
       " Derivative(y(x), x)*Subs(Derivative(eta(_xi_1, y(x)), _xi_1, y(x)), _xi_1, x),\n",
       " Derivative(y(x), x)*Subs(Derivative(eta(x, _xi), _xi, x), _xi, y(x)),\n",
       " -Derivative(y(x), x)**2*Subs(Derivative(xi(_xi_1, y(x)), _xi_1, y(x)), _xi_1, x),\n",
       " -Derivative(y(x), x)**2*Subs(Derivative(xi(x, _xi), _xi, x), _xi, y(x)),\n",
       " -Derivative(xi(x, y(x)), (y(x), 2))*Derivative(y(x), x)**3,\n",
       " -Derivative(y(x), x)*Subs(Derivative(xi(_xi_1, y(x)), (_xi_1, 2)), _xi_1, x),\n",
       " -2*Derivative(y(x), (x, 2))*Subs(Derivative(xi(_xi_1, y(x)), _xi_1), _xi_1, x),\n",
       " -3*Derivative(xi(x, y(x)), y(x))*Derivative(y(x), x)*Derivative(y(x), (x, 2)),\n",
       " Subs(Derivative(eta(_xi_1, y(x)), (_xi_1, 2)), _xi_1, x)]"
      ]
     },
     "execution_count": 28,
     "metadata": {},
     "output_type": "execute_result"
    }
   ],
   "source": [
    "list(XF.make_args(XF))"
   ]
  },
  {
   "cell_type": "code",
   "execution_count": 13,
   "metadata": {},
   "outputs": [
    {
     "data": {
      "text/plain": [
       "3"
      ]
     },
     "execution_count": 13,
     "metadata": {},
     "output_type": "execute_result"
    }
   ],
   "source": [
    "A = [4,2,6,35,4]\n",
    "A.index(max(A))"
   ]
  },
  {
   "cell_type": "code",
   "execution_count": 63,
   "metadata": {},
   "outputs": [
    {
     "data": {
      "text/latex": [
       "$\\displaystyle \\left(- 3 \\frac{d}{d y{\\left(x \\right)}} \\xi{\\left(x,y{\\left(x \\right)} \\right)} \\frac{d^{2}}{d x^{2}} y{\\left(x \\right)} - \\left. \\frac{\\partial^{2}}{\\partial \\xi_{1}^{2}} \\xi{\\left(\\xi_{1},y{\\left(x \\right)} \\right)} \\right|_{\\substack{ \\xi_{1}=x }} + \\left. \\frac{\\partial^{2}}{\\partial y{\\left(x \\right)}\\partial \\xi_{1}} \\eta{\\left(\\xi_{1},y{\\left(x \\right)} \\right)} \\right|_{\\substack{ \\xi_{1}=x }} + \\left. \\frac{\\partial^{2}}{\\partial x\\partial \\xi} \\eta{\\left(x,\\xi \\right)} \\right|_{\\substack{ \\xi=y{\\left(x \\right)} }}\\right) \\frac{d}{d x} y{\\left(x \\right)}$"
      ],
      "text/plain": [
       "(-3*Derivative(xi(x, y(x)), y(x))*Derivative(y(x), (x, 2)) - Subs(Derivative(xi(_xi_1, y(x)), (_xi_1, 2)), _xi_1, x) + Subs(Derivative(eta(_xi_1, y(x)), _xi_1, y(x)), _xi_1, x) + Subs(Derivative(eta(x, _xi), _xi, x), _xi, y(x)))*Derivative(y(x), x)"
      ]
     },
     "execution_count": 63,
     "metadata": {},
     "output_type": "execute_result"
    }
   ],
   "source": [
    "i=0\n",
    "simplify((collect(XF,X).make_args(collect(XF,y))[2]))#.subs(y,x^2/2))"
   ]
  },
  {
   "cell_type": "code",
   "execution_count": 15,
   "metadata": {},
   "outputs": [
    {
     "data": {
      "text/plain": [
       "[4, 2, 6, 4]"
      ]
     },
     "execution_count": 15,
     "metadata": {},
     "output_type": "execute_result"
    }
   ],
   "source": [
    "A"
   ]
  },
  {
   "cell_type": "code",
   "execution_count": 3,
   "metadata": {},
   "outputs": [
    {
     "data": {
      "text/latex": [
       "$\\displaystyle y{\\left(x \\right)}$"
      ],
      "text/plain": [
       "y(x)"
      ]
     },
     "execution_count": 3,
     "metadata": {},
     "output_type": "execute_result"
    }
   ],
   "source": [
    "y"
   ]
  },
  {
   "cell_type": "code",
   "execution_count": 4,
   "metadata": {},
   "outputs": [
    {
     "data": {
      "text/latex": [
       "$\\displaystyle \\eta{\\left(x,y{\\left(x \\right)} \\right)}$"
      ],
      "text/plain": [
       "eta(x, y(x))"
      ]
     },
     "execution_count": 4,
     "metadata": {},
     "output_type": "execute_result"
    }
   ],
   "source": [
    "eta"
   ]
  },
  {
   "cell_type": "code",
   "execution_count": 5,
   "metadata": {},
   "outputs": [
    {
     "data": {
      "text/latex": [
       "$\\displaystyle \\xi{\\left(x,y{\\left(x \\right)} \\right)}$"
      ],
      "text/plain": [
       "xi(x, y(x))"
      ]
     },
     "execution_count": 5,
     "metadata": {},
     "output_type": "execute_result"
    }
   ],
   "source": [
    "xi"
   ]
  },
  {
   "cell_type": "code",
   "execution_count": 29,
   "metadata": {},
   "outputs": [
    {
     "ename": "AttributeError",
     "evalue": "'Mul' object has no attribute 'kind'",
     "output_type": "error",
     "traceback": [
      "\u001b[1;31m---------------------------------------------------------------------------\u001b[0m",
      "\u001b[1;31mAttributeError\u001b[0m                            Traceback (most recent call last)",
      "\u001b[1;32m<ipython-input-29-e6d41a4ab84a>\u001b[0m in \u001b[0;36m<module>\u001b[1;34m\u001b[0m\n\u001b[1;32m----> 1\u001b[1;33m \u001b[1;33m(\u001b[0m\u001b[0meta\u001b[0m\u001b[1;33m*\u001b[0m\u001b[0my\u001b[0m\u001b[1;33m)\u001b[0m\u001b[1;33m.\u001b[0m\u001b[0mkind\u001b[0m\u001b[1;33m\u001b[0m\u001b[1;33m\u001b[0m\u001b[0m\n\u001b[0m",
      "\u001b[1;31mAttributeError\u001b[0m: 'Mul' object has no attribute 'kind'"
     ]
    }
   ],
   "source": [
    "(eta*y).kind"
   ]
  },
  {
   "cell_type": "code",
   "execution_count": 27,
   "metadata": {},
   "outputs": [
    {
     "ename": "AttributeError",
     "evalue": "'eta' object has no attribute 'kind'",
     "output_type": "error",
     "traceback": [
      "\u001b[1;31m---------------------------------------------------------------------------\u001b[0m",
      "\u001b[1;31mAttributeError\u001b[0m                            Traceback (most recent call last)",
      "\u001b[1;32m<ipython-input-27-50926959bec4>\u001b[0m in \u001b[0;36m<module>\u001b[1;34m\u001b[0m\n\u001b[1;32m----> 1\u001b[1;33m \u001b[0meta\u001b[0m\u001b[1;33m.\u001b[0m\u001b[0mkind\u001b[0m\u001b[1;33m\u001b[0m\u001b[1;33m\u001b[0m\u001b[0m\n\u001b[0m",
      "\u001b[1;31mAttributeError\u001b[0m: 'eta' object has no attribute 'kind'"
     ]
    }
   ],
   "source": [
    "eta.kind"
   ]
  },
  {
   "cell_type": "code",
   "execution_count": 12,
   "metadata": {},
   "outputs": [
    {
     "data": {
      "text/plain": [
       "(Derivative(y(x), x), eta(x, y(x)))"
      ]
     },
     "execution_count": 12,
     "metadata": {},
     "output_type": "execute_result"
    }
   ],
   "source": [
    "(y.diff(x)*eta).make_args(y.diff(x)*eta)"
   ]
  },
  {
   "cell_type": "code",
   "execution_count": 16,
   "metadata": {},
   "outputs": [
    {
     "data": {
      "text/plain": [
       "y"
      ]
     },
     "execution_count": 16,
     "metadata": {},
     "output_type": "execute_result"
    }
   ],
   "source": [
    "type(integrate(y.diff(x),x))"
   ]
  },
  {
   "cell_type": "code",
   "execution_count": 31,
   "metadata": {},
   "outputs": [
    {
     "ename": "KeyboardInterrupt",
     "evalue": "",
     "output_type": "error",
     "traceback": [
      "\u001b[1;31m---------------------------------------------------------------------------\u001b[0m",
      "\u001b[1;31mKeyboardInterrupt\u001b[0m                         Traceback (most recent call last)",
      "\u001b[1;32m<ipython-input-31-6ae8be6d41f0>\u001b[0m in \u001b[0;36m<module>\u001b[1;34m\u001b[0m\n\u001b[1;32m----> 1\u001b[1;33m \u001b[0mintegrate\u001b[0m\u001b[1;33m(\u001b[0m\u001b[0meta\u001b[0m\u001b[1;33m.\u001b[0m\u001b[0mdiff\u001b[0m\u001b[1;33m(\u001b[0m\u001b[0my\u001b[0m\u001b[1;33m,\u001b[0m\u001b[0mx\u001b[0m\u001b[1;33m,\u001b[0m\u001b[1;36m2\u001b[0m\u001b[1;33m)\u001b[0m\u001b[1;33m,\u001b[0m\u001b[0mx\u001b[0m\u001b[1;33m)\u001b[0m\u001b[1;33m\u001b[0m\u001b[1;33m\u001b[0m\u001b[0m\n\u001b[0m",
      "\u001b[1;32m~\\anaconda3\\lib\\site-packages\\sympy\\integrals\\integrals.py\u001b[0m in \u001b[0;36mintegrate\u001b[1;34m(*args, **kwargs)\u001b[0m\n\u001b[0;32m   1543\u001b[0m \u001b[1;33m\u001b[0m\u001b[0m\n\u001b[0;32m   1544\u001b[0m     \u001b[1;32mif\u001b[0m \u001b[0misinstance\u001b[0m\u001b[1;33m(\u001b[0m\u001b[0mintegral\u001b[0m\u001b[1;33m,\u001b[0m \u001b[0mIntegral\u001b[0m\u001b[1;33m)\u001b[0m\u001b[1;33m:\u001b[0m\u001b[1;33m\u001b[0m\u001b[1;33m\u001b[0m\u001b[0m\n\u001b[1;32m-> 1545\u001b[1;33m         \u001b[1;32mreturn\u001b[0m \u001b[0mintegral\u001b[0m\u001b[1;33m.\u001b[0m\u001b[0mdoit\u001b[0m\u001b[1;33m(\u001b[0m\u001b[1;33m**\u001b[0m\u001b[0mdoit_flags\u001b[0m\u001b[1;33m)\u001b[0m\u001b[1;33m\u001b[0m\u001b[1;33m\u001b[0m\u001b[0m\n\u001b[0m\u001b[0;32m   1546\u001b[0m     \u001b[1;32melse\u001b[0m\u001b[1;33m:\u001b[0m\u001b[1;33m\u001b[0m\u001b[1;33m\u001b[0m\u001b[0m\n\u001b[0;32m   1547\u001b[0m         new_args = [a.doit(**doit_flags) if isinstance(a, Integral) else a\n",
      "\u001b[1;32m~\\anaconda3\\lib\\site-packages\\sympy\\integrals\\integrals.py\u001b[0m in \u001b[0;36mdoit\u001b[1;34m(self, **hints)\u001b[0m\n\u001b[0;32m    591\u001b[0m                     \u001b[0mantideriv\u001b[0m \u001b[1;33m=\u001b[0m \u001b[1;32mNone\u001b[0m\u001b[1;33m\u001b[0m\u001b[1;33m\u001b[0m\u001b[0m\n\u001b[0;32m    592\u001b[0m                 \u001b[1;32melse\u001b[0m\u001b[1;33m:\u001b[0m\u001b[1;33m\u001b[0m\u001b[1;33m\u001b[0m\u001b[0m\n\u001b[1;32m--> 593\u001b[1;33m                     antideriv = self._eval_integral(\n\u001b[0m\u001b[0;32m    594\u001b[0m                         function, xab[0], **eval_kwargs)\n\u001b[0;32m    595\u001b[0m                     \u001b[1;32mif\u001b[0m \u001b[0mantideriv\u001b[0m \u001b[1;32mis\u001b[0m \u001b[1;32mNone\u001b[0m \u001b[1;32mand\u001b[0m \u001b[0mmeijerg\u001b[0m \u001b[1;32mis\u001b[0m \u001b[1;32mTrue\u001b[0m\u001b[1;33m:\u001b[0m\u001b[1;33m\u001b[0m\u001b[1;33m\u001b[0m\u001b[0m\n",
      "\u001b[1;32m~\\anaconda3\\lib\\site-packages\\sympy\\integrals\\integrals.py\u001b[0m in \u001b[0;36m_eval_integral\u001b[1;34m(self, f, x, meijerg, risch, manual, heurisch, conds)\u001b[0m\n\u001b[0;32m   1053\u001b[0m                     \u001b[1;32mtry\u001b[0m\u001b[1;33m:\u001b[0m\u001b[1;33m\u001b[0m\u001b[1;33m\u001b[0m\u001b[0m\n\u001b[0;32m   1054\u001b[0m                         \u001b[1;32mif\u001b[0m \u001b[0mconds\u001b[0m \u001b[1;33m==\u001b[0m \u001b[1;34m'piecewise'\u001b[0m\u001b[1;33m:\u001b[0m\u001b[1;33m\u001b[0m\u001b[1;33m\u001b[0m\u001b[0m\n\u001b[1;32m-> 1055\u001b[1;33m                             \u001b[0mh\u001b[0m \u001b[1;33m=\u001b[0m \u001b[0mheurisch_wrapper\u001b[0m\u001b[1;33m(\u001b[0m\u001b[0mg\u001b[0m\u001b[1;33m,\u001b[0m \u001b[0mx\u001b[0m\u001b[1;33m,\u001b[0m \u001b[0mhints\u001b[0m\u001b[1;33m=\u001b[0m\u001b[1;33m[\u001b[0m\u001b[1;33m]\u001b[0m\u001b[1;33m)\u001b[0m\u001b[1;33m\u001b[0m\u001b[1;33m\u001b[0m\u001b[0m\n\u001b[0m\u001b[0;32m   1056\u001b[0m                         \u001b[1;32melse\u001b[0m\u001b[1;33m:\u001b[0m\u001b[1;33m\u001b[0m\u001b[1;33m\u001b[0m\u001b[0m\n\u001b[0;32m   1057\u001b[0m                             \u001b[0mh\u001b[0m \u001b[1;33m=\u001b[0m \u001b[0mheurisch_\u001b[0m\u001b[1;33m(\u001b[0m\u001b[0mg\u001b[0m\u001b[1;33m,\u001b[0m \u001b[0mx\u001b[0m\u001b[1;33m,\u001b[0m \u001b[0mhints\u001b[0m\u001b[1;33m=\u001b[0m\u001b[1;33m[\u001b[0m\u001b[1;33m]\u001b[0m\u001b[1;33m)\u001b[0m\u001b[1;33m\u001b[0m\u001b[1;33m\u001b[0m\u001b[0m\n",
      "\u001b[1;32m~\\anaconda3\\lib\\site-packages\\sympy\\integrals\\heurisch.py\u001b[0m in \u001b[0;36mheurisch_wrapper\u001b[1;34m(f, x, rewrite, hints, mappings, retries, degree_offset, unnecessary_permutations, _try_heurisch)\u001b[0m\n\u001b[0;32m    134\u001b[0m         \u001b[1;32mreturn\u001b[0m \u001b[0mf\u001b[0m\u001b[1;33m*\u001b[0m\u001b[0mx\u001b[0m\u001b[1;33m\u001b[0m\u001b[1;33m\u001b[0m\u001b[0m\n\u001b[0;32m    135\u001b[0m \u001b[1;33m\u001b[0m\u001b[0m\n\u001b[1;32m--> 136\u001b[1;33m     res = heurisch(f, x, rewrite, hints, mappings, retries, degree_offset,\n\u001b[0m\u001b[0;32m    137\u001b[0m                    unnecessary_permutations, _try_heurisch)\n\u001b[0;32m    138\u001b[0m     \u001b[1;32mif\u001b[0m \u001b[1;32mnot\u001b[0m \u001b[0misinstance\u001b[0m\u001b[1;33m(\u001b[0m\u001b[0mres\u001b[0m\u001b[1;33m,\u001b[0m \u001b[0mBasic\u001b[0m\u001b[1;33m)\u001b[0m\u001b[1;33m:\u001b[0m\u001b[1;33m\u001b[0m\u001b[1;33m\u001b[0m\u001b[0m\n",
      "\u001b[1;32m~\\anaconda3\\lib\\site-packages\\sympy\\integrals\\heurisch.py\u001b[0m in \u001b[0;36mheurisch\u001b[1;34m(f, x, rewrite, hints, mappings, retries, degree_offset, unnecessary_permutations, _try_heurisch)\u001b[0m\n\u001b[0;32m    482\u001b[0m         \u001b[0mmapping\u001b[0m \u001b[1;33m=\u001b[0m \u001b[0mlist\u001b[0m\u001b[1;33m(\u001b[0m\u001b[0mmapping\u001b[0m\u001b[1;33m)\u001b[0m\u001b[1;33m\u001b[0m\u001b[1;33m\u001b[0m\u001b[0m\n\u001b[0;32m    483\u001b[0m         \u001b[0mmapping\u001b[0m \u001b[1;33m=\u001b[0m \u001b[0mmapping\u001b[0m \u001b[1;33m+\u001b[0m \u001b[0munnecessary_permutations\u001b[0m\u001b[1;33m\u001b[0m\u001b[1;33m\u001b[0m\u001b[0m\n\u001b[1;32m--> 484\u001b[1;33m         \u001b[0mdiffs\u001b[0m \u001b[1;33m=\u001b[0m \u001b[1;33m[\u001b[0m \u001b[0m_substitute\u001b[0m\u001b[1;33m(\u001b[0m\u001b[0mdcache\u001b[0m\u001b[1;33m.\u001b[0m\u001b[0mget_diff\u001b[0m\u001b[1;33m(\u001b[0m\u001b[0mg\u001b[0m\u001b[1;33m)\u001b[0m\u001b[1;33m)\u001b[0m \u001b[1;32mfor\u001b[0m \u001b[0mg\u001b[0m \u001b[1;32min\u001b[0m \u001b[0mterms\u001b[0m \u001b[1;33m]\u001b[0m\u001b[1;33m\u001b[0m\u001b[1;33m\u001b[0m\u001b[0m\n\u001b[0m\u001b[0;32m    485\u001b[0m         \u001b[0mdenoms\u001b[0m \u001b[1;33m=\u001b[0m \u001b[1;33m[\u001b[0m \u001b[0mg\u001b[0m\u001b[1;33m.\u001b[0m\u001b[0mas_numer_denom\u001b[0m\u001b[1;33m(\u001b[0m\u001b[1;33m)\u001b[0m\u001b[1;33m[\u001b[0m\u001b[1;36m1\u001b[0m\u001b[1;33m]\u001b[0m \u001b[1;32mfor\u001b[0m \u001b[0mg\u001b[0m \u001b[1;32min\u001b[0m \u001b[0mdiffs\u001b[0m \u001b[1;33m]\u001b[0m\u001b[1;33m\u001b[0m\u001b[1;33m\u001b[0m\u001b[0m\n\u001b[0;32m    486\u001b[0m         \u001b[1;32mif\u001b[0m \u001b[0mall\u001b[0m\u001b[1;33m(\u001b[0m\u001b[0mh\u001b[0m\u001b[1;33m.\u001b[0m\u001b[0mis_polynomial\u001b[0m\u001b[1;33m(\u001b[0m\u001b[1;33m*\u001b[0m\u001b[0mV\u001b[0m\u001b[1;33m)\u001b[0m \u001b[1;32mfor\u001b[0m \u001b[0mh\u001b[0m \u001b[1;32min\u001b[0m \u001b[0mdenoms\u001b[0m\u001b[1;33m)\u001b[0m \u001b[1;32mand\u001b[0m \u001b[0m_substitute\u001b[0m\u001b[1;33m(\u001b[0m\u001b[0mf\u001b[0m\u001b[1;33m)\u001b[0m\u001b[1;33m.\u001b[0m\u001b[0mis_rational_function\u001b[0m\u001b[1;33m(\u001b[0m\u001b[1;33m*\u001b[0m\u001b[0mV\u001b[0m\u001b[1;33m)\u001b[0m\u001b[1;33m:\u001b[0m\u001b[1;33m\u001b[0m\u001b[1;33m\u001b[0m\u001b[0m\n",
      "\u001b[1;32m~\\anaconda3\\lib\\site-packages\\sympy\\integrals\\heurisch.py\u001b[0m in \u001b[0;36m<listcomp>\u001b[1;34m(.0)\u001b[0m\n\u001b[0;32m    482\u001b[0m         \u001b[0mmapping\u001b[0m \u001b[1;33m=\u001b[0m \u001b[0mlist\u001b[0m\u001b[1;33m(\u001b[0m\u001b[0mmapping\u001b[0m\u001b[1;33m)\u001b[0m\u001b[1;33m\u001b[0m\u001b[1;33m\u001b[0m\u001b[0m\n\u001b[0;32m    483\u001b[0m         \u001b[0mmapping\u001b[0m \u001b[1;33m=\u001b[0m \u001b[0mmapping\u001b[0m \u001b[1;33m+\u001b[0m \u001b[0munnecessary_permutations\u001b[0m\u001b[1;33m\u001b[0m\u001b[1;33m\u001b[0m\u001b[0m\n\u001b[1;32m--> 484\u001b[1;33m         \u001b[0mdiffs\u001b[0m \u001b[1;33m=\u001b[0m \u001b[1;33m[\u001b[0m \u001b[0m_substitute\u001b[0m\u001b[1;33m(\u001b[0m\u001b[0mdcache\u001b[0m\u001b[1;33m.\u001b[0m\u001b[0mget_diff\u001b[0m\u001b[1;33m(\u001b[0m\u001b[0mg\u001b[0m\u001b[1;33m)\u001b[0m\u001b[1;33m)\u001b[0m \u001b[1;32mfor\u001b[0m \u001b[0mg\u001b[0m \u001b[1;32min\u001b[0m \u001b[0mterms\u001b[0m \u001b[1;33m]\u001b[0m\u001b[1;33m\u001b[0m\u001b[1;33m\u001b[0m\u001b[0m\n\u001b[0m\u001b[0;32m    485\u001b[0m         \u001b[0mdenoms\u001b[0m \u001b[1;33m=\u001b[0m \u001b[1;33m[\u001b[0m \u001b[0mg\u001b[0m\u001b[1;33m.\u001b[0m\u001b[0mas_numer_denom\u001b[0m\u001b[1;33m(\u001b[0m\u001b[1;33m)\u001b[0m\u001b[1;33m[\u001b[0m\u001b[1;36m1\u001b[0m\u001b[1;33m]\u001b[0m \u001b[1;32mfor\u001b[0m \u001b[0mg\u001b[0m \u001b[1;32min\u001b[0m \u001b[0mdiffs\u001b[0m \u001b[1;33m]\u001b[0m\u001b[1;33m\u001b[0m\u001b[1;33m\u001b[0m\u001b[0m\n\u001b[0;32m    486\u001b[0m         \u001b[1;32mif\u001b[0m \u001b[0mall\u001b[0m\u001b[1;33m(\u001b[0m\u001b[0mh\u001b[0m\u001b[1;33m.\u001b[0m\u001b[0mis_polynomial\u001b[0m\u001b[1;33m(\u001b[0m\u001b[1;33m*\u001b[0m\u001b[0mV\u001b[0m\u001b[1;33m)\u001b[0m \u001b[1;32mfor\u001b[0m \u001b[0mh\u001b[0m \u001b[1;32min\u001b[0m \u001b[0mdenoms\u001b[0m\u001b[1;33m)\u001b[0m \u001b[1;32mand\u001b[0m \u001b[0m_substitute\u001b[0m\u001b[1;33m(\u001b[0m\u001b[0mf\u001b[0m\u001b[1;33m)\u001b[0m\u001b[1;33m.\u001b[0m\u001b[0mis_rational_function\u001b[0m\u001b[1;33m(\u001b[0m\u001b[1;33m*\u001b[0m\u001b[0mV\u001b[0m\u001b[1;33m)\u001b[0m\u001b[1;33m:\u001b[0m\u001b[1;33m\u001b[0m\u001b[1;33m\u001b[0m\u001b[0m\n",
      "\u001b[1;32m~\\anaconda3\\lib\\site-packages\\sympy\\integrals\\heurisch.py\u001b[0m in \u001b[0;36m_substitute\u001b[1;34m(expr)\u001b[0m\n\u001b[0;32m    477\u001b[0m \u001b[1;33m\u001b[0m\u001b[0m\n\u001b[0;32m    478\u001b[0m     \u001b[1;32mdef\u001b[0m \u001b[0m_substitute\u001b[0m\u001b[1;33m(\u001b[0m\u001b[0mexpr\u001b[0m\u001b[1;33m)\u001b[0m\u001b[1;33m:\u001b[0m\u001b[1;33m\u001b[0m\u001b[1;33m\u001b[0m\u001b[0m\n\u001b[1;32m--> 479\u001b[1;33m         \u001b[1;32mreturn\u001b[0m \u001b[0mexpr\u001b[0m\u001b[1;33m.\u001b[0m\u001b[0msubs\u001b[0m\u001b[1;33m(\u001b[0m\u001b[0mmapping\u001b[0m\u001b[1;33m)\u001b[0m\u001b[1;33m\u001b[0m\u001b[1;33m\u001b[0m\u001b[0m\n\u001b[0m\u001b[0;32m    480\u001b[0m \u001b[1;33m\u001b[0m\u001b[0m\n\u001b[0;32m    481\u001b[0m     \u001b[1;32mfor\u001b[0m \u001b[0mmapping\u001b[0m \u001b[1;32min\u001b[0m \u001b[0mmappings\u001b[0m\u001b[1;33m:\u001b[0m\u001b[1;33m\u001b[0m\u001b[1;33m\u001b[0m\u001b[0m\n",
      "\u001b[1;32m~\\anaconda3\\lib\\site-packages\\sympy\\core\\basic.py\u001b[0m in \u001b[0;36msubs\u001b[1;34m(self, *args, **kwargs)\u001b[0m\n\u001b[0;32m    937\u001b[0m                 \u001b[1;32mcontinue\u001b[0m\u001b[1;33m\u001b[0m\u001b[1;33m\u001b[0m\u001b[0m\n\u001b[0;32m    938\u001b[0m             \u001b[1;31m# skip if there is no change\u001b[0m\u001b[1;33m\u001b[0m\u001b[1;33m\u001b[0m\u001b[1;33m\u001b[0m\u001b[0m\n\u001b[1;32m--> 939\u001b[1;33m             \u001b[0msequence\u001b[0m\u001b[1;33m[\u001b[0m\u001b[0mi\u001b[0m\u001b[1;33m]\u001b[0m \u001b[1;33m=\u001b[0m \u001b[1;32mNone\u001b[0m \u001b[1;32mif\u001b[0m \u001b[0m_aresame\u001b[0m\u001b[1;33m(\u001b[0m\u001b[1;33m*\u001b[0m\u001b[0ms\u001b[0m\u001b[1;33m)\u001b[0m \u001b[1;32melse\u001b[0m \u001b[0mtuple\u001b[0m\u001b[1;33m(\u001b[0m\u001b[0ms\u001b[0m\u001b[1;33m)\u001b[0m\u001b[1;33m\u001b[0m\u001b[1;33m\u001b[0m\u001b[0m\n\u001b[0m\u001b[0;32m    940\u001b[0m         \u001b[0msequence\u001b[0m \u001b[1;33m=\u001b[0m \u001b[0mlist\u001b[0m\u001b[1;33m(\u001b[0m\u001b[0mfilter\u001b[0m\u001b[1;33m(\u001b[0m\u001b[1;32mNone\u001b[0m\u001b[1;33m,\u001b[0m \u001b[0msequence\u001b[0m\u001b[1;33m)\u001b[0m\u001b[1;33m)\u001b[0m\u001b[1;33m\u001b[0m\u001b[1;33m\u001b[0m\u001b[0m\n\u001b[0;32m    941\u001b[0m \u001b[1;33m\u001b[0m\u001b[0m\n",
      "\u001b[1;31mKeyboardInterrupt\u001b[0m: "
     ]
    }
   ],
   "source": [
    "integrate(eta.diff(y,x,2),x)"
   ]
  },
  {
   "cell_type": "code",
   "execution_count": 40,
   "metadata": {},
   "outputs": [
    {
     "data": {
      "text/plain": [
       "(y(x), (x, 3))"
      ]
     },
     "execution_count": 40,
     "metadata": {},
     "output_type": "execute_result"
    }
   ],
   "source": [
    "parse_derivative(y.diff(x,3))"
   ]
  },
  {
   "cell_type": "code",
   "execution_count": 37,
   "metadata": {},
   "outputs": [
    {
     "data": {
      "text/latex": [
       "$\\displaystyle \\left. \\frac{\\partial}{\\partial \\xi_{1}} \\eta{\\left(\\xi_{1},y{\\left(x \\right)} \\right)} \\right|_{\\substack{ \\xi_{1}=x }}$"
      ],
      "text/plain": [
       "Subs(Derivative(eta(_xi_1, y(x)), _xi_1), _xi_1, x)"
      ]
     },
     "execution_count": 37,
     "metadata": {},
     "output_type": "execute_result"
    }
   ],
   "source": [
    "eta.diff(x)-y_x*eta.diff(y)"
   ]
  },
  {
   "cell_type": "code",
   "execution_count": 30,
   "metadata": {},
   "outputs": [],
   "source": [
    "def parse_derivative(deriv):\n",
    "    # scan derivatives tower in the input expression and return\n",
    "    # underlying function and maximal differentiation order\n",
    "    expr, sym, order = deriv.expr, deriv.variables[0], 1\n",
    "\n",
    "    for s in deriv.variables[1:]:\n",
    "        if s == sym:\n",
    "            order += 1\n",
    "        else:\n",
    "            raise NotImplementedError(\n",
    "                'Improve MV Derivative support in collect')\n",
    "\n",
    "    while isinstance(expr, Derivative):\n",
    "        s0 = expr.variables[0]\n",
    "\n",
    "        for s in expr.variables:\n",
    "            if s != s0:\n",
    "                raise NotImplementedError(\n",
    "                    'Improve MV Derivative support in collect')\n",
    "\n",
    "        if s0 == sym:\n",
    "            expr, order = expr.expr, order + len(expr.variables)\n",
    "        else:\n",
    "            break\n",
    "\n",
    "    return expr, (sym, Rational(order))"
   ]
  },
  {
   "cell_type": "code",
   "execution_count": 42,
   "metadata": {},
   "outputs": [
    {
     "ename": "AttributeError",
     "evalue": "'Add' object has no attribute 'variables'",
     "output_type": "error",
     "traceback": [
      "\u001b[1;31m---------------------------------------------------------------------------\u001b[0m",
      "\u001b[1;31mAttributeError\u001b[0m                            Traceback (most recent call last)",
      "\u001b[1;32m<ipython-input-42-614e4008e7e5>\u001b[0m in \u001b[0;36m<module>\u001b[1;34m\u001b[0m\n\u001b[1;32m----> 1\u001b[1;33m \u001b[1;33m(\u001b[0m\u001b[0meta\u001b[0m\u001b[1;33m.\u001b[0m\u001b[0mdiff\u001b[0m\u001b[1;33m(\u001b[0m\u001b[0mx\u001b[0m\u001b[1;33m)\u001b[0m\u001b[1;33m)\u001b[0m\u001b[1;33m.\u001b[0m\u001b[0mvariables\u001b[0m\u001b[1;33m\u001b[0m\u001b[1;33m\u001b[0m\u001b[0m\n\u001b[0m",
      "\u001b[1;31mAttributeError\u001b[0m: 'Add' object has no attribute 'variables'"
     ]
    }
   ],
   "source": [
    "(eta.diff(x)).variables"
   ]
  },
  {
   "cell_type": "code",
   "execution_count": null,
   "metadata": {},
   "outputs": [],
   "source": []
  }
 ],
 "metadata": {
  "kernelspec": {
   "display_name": "Python 3",
   "language": "python",
   "name": "python3"
  },
  "language_info": {
   "codemirror_mode": {
    "name": "ipython",
    "version": 3
   },
   "file_extension": ".py",
   "mimetype": "text/x-python",
   "name": "python",
   "nbconvert_exporter": "python",
   "pygments_lexer": "ipython3",
   "version": "3.8.8"
  }
 },
 "nbformat": 4,
 "nbformat_minor": 4
}
