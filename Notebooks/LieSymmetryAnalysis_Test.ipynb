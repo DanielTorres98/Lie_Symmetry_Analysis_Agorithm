{
 "cells": [
  {
   "cell_type": "code",
   "execution_count": 1,
   "metadata": {},
   "outputs": [],
   "source": [
    "import sympy as sp\n",
    "import time\n",
    "from sympy import Derivative as D\n",
    "from utils.symbolic import (infinitesimals_generator, higher_infinitesimals_generator,\n",
    "                            group_operator, der_relabel, deriv_infts, subs_new_vars, Diff,\n",
    "                           sym_det_eqn)\n",
    "from utils.algebra import (str_to_dict, get_common_factors, get_det_eqns, str_eqn_to_dict_eqn, \n",
    "                            simplify_redundant_eqn)"
   ]
  },
  {
   "cell_type": "markdown",
   "metadata": {},
   "source": [
    "# Blasius Eqn"
   ]
  },
  {
   "cell_type": "code",
   "execution_count": 2,
   "metadata": {},
   "outputs": [
    {
     "data": {
      "text/latex": [
       "$\\displaystyle y{\\left(x \\right)} \\frac{d^{2}}{d x^{2}} y{\\left(x \\right)} + \\frac{d^{3}}{d x^{3}} y{\\left(x \\right)}$"
      ],
      "text/plain": [
       "y(x)*Derivative(y(x), (x, 2)) + Derivative(y(x), (x, 3))"
      ]
     },
     "execution_count": 2,
     "metadata": {},
     "output_type": "execute_result"
    }
   ],
   "source": [
    "x = sp.symbols('x')\n",
    "y = sp.Function('y')(x)\n",
    "list_indep = [x]\n",
    "list_dep = [y]\n",
    "list_cte = []\n",
    "F =  D(y,x,x,x) + y*D(y,x,x)\n",
    "F_rules_array = {D(y,x,x,x):-y*D(y,x,x)}\n",
    "order = 3\n",
    "F.expand()"
   ]
  },
  {
   "cell_type": "code",
   "execution_count": 3,
   "metadata": {},
   "outputs": [
    {
     "data": {
      "text/latex": [
       "$\\displaystyle x v{\\left(x,t \\right)} + \\frac{\\partial}{\\partial t} u{\\left(x,t \\right)} - \\frac{\\partial^{2}}{\\partial x^{2}} u{\\left(x,t \\right)} + \\frac{\\partial}{\\partial t} v{\\left(x,t \\right)}$"
      ],
      "text/plain": [
       "x*v(x, t) + Derivative(u(x, t), t) - Derivative(u(x, t), (x, 2)) + Derivative(v(x, t), t)"
      ]
     },
     "execution_count": 3,
     "metadata": {},
     "output_type": "execute_result"
    }
   ],
   "source": [
    "x, t, k = sp.symbols('x t kappa')\n",
    "u = sp.Function('u')(x, t)\n",
    "v = sp.Function('v')(x, t)\n",
    "list_indep = [x, t]\n",
    "list_dep = [u, v]\n",
    "list_var = list_indep + list_dep\n",
    "list_cte = [k]\n",
    "list_all = list_cte + list_indep + list_dep\n",
    "F =  D(u,t) - D(u,x,x) +D(v,t) + x*v\n",
    "F_rules_array = {D(u,x,x):D(u,t)+D(v,t)+x*v}\n",
    "order = 2\n",
    "F.expand()"
   ]
  },
  {
   "cell_type": "code",
   "execution_count": 2,
   "metadata": {},
   "outputs": [
    {
     "data": {
      "text/latex": [
       "$\\displaystyle \\frac{\\partial}{\\partial t} u{\\left(x,t \\right)} - \\frac{\\partial^{2}}{\\partial x^{2}} u{\\left(x,t \\right)}$"
      ],
      "text/plain": [
       "Derivative(u(x, t), t) - Derivative(u(x, t), (x, 2))"
      ]
     },
     "execution_count": 2,
     "metadata": {},
     "output_type": "execute_result"
    }
   ],
   "source": [
    "x, t = sp.symbols('x t')\n",
    "u = sp.Function('u')(x, t)\n",
    "list_indep = [x, t]\n",
    "list_dep = [u]\n",
    "list_var = list_indep + list_dep\n",
    "list_cte = []\n",
    "list_all = list_cte + list_indep + list_dep\n",
    "F =  D(u,t) - D(u,x,x)\n",
    "F_rules_array = {D(u,x,x):D(u,t)}\n",
    "order = 2\n",
    "F.expand()"
   ]
  },
  {
   "cell_type": "code",
   "execution_count": 2,
   "metadata": {},
   "outputs": [
    {
     "data": {
      "text/latex": [
       "$\\displaystyle - k \\frac{\\partial^{2}}{\\partial x^{2}} u{\\left(x,t \\right)} + \\frac{\\partial}{\\partial t} u{\\left(x,t \\right)}$"
      ],
      "text/plain": [
       "-k*Derivative(u(x, t), (x, 2)) + Derivative(u(x, t), t)"
      ]
     },
     "execution_count": 2,
     "metadata": {},
     "output_type": "execute_result"
    }
   ],
   "source": [
    "x, t, k = sp.symbols('x t k')\n",
    "u = sp.Function('u')(x, t)\n",
    "list_indep = [x, t]\n",
    "list_dep = [u]\n",
    "list_var = list_indep + list_dep\n",
    "list_cte = [k]\n",
    "list_all = list_cte + list_indep + list_dep\n",
    "F =  D(u,t) - k*D(u,x,x)\n",
    "F_rules_array = {D(u,x,x):1/k*D(u,t)}\n",
    "order = 2\n",
    "F.expand()"
   ]
  },
  {
   "cell_type": "code",
   "execution_count": 2,
   "metadata": {},
   "outputs": [
    {
     "data": {
      "text/latex": [
       "$\\displaystyle - k \\frac{\\partial^{2}}{\\partial x^{2}} u{\\left(x,t \\right)} + \\frac{\\partial^{2}}{\\partial t^{2}} u{\\left(x,t \\right)}$"
      ],
      "text/plain": [
       "-k*Derivative(u(x, t), (x, 2)) + Derivative(u(x, t), (t, 2))"
      ]
     },
     "execution_count": 2,
     "metadata": {},
     "output_type": "execute_result"
    }
   ],
   "source": [
    "x, t, k = sp.symbols('x t k')\n",
    "u = sp.Function('u')(x, t)\n",
    "list_indep = [x, t]\n",
    "list_dep = [u]\n",
    "list_cte = [k]\n",
    "F =  D(u,t,t) - k*D(u,x,x)\n",
    "F_rules_array = {D(u,x,x):1/k*D(u,t,t)}\n",
    "order = 2\n",
    "F.expand()"
   ]
  },
  {
   "cell_type": "code",
   "execution_count": null,
   "metadata": {},
   "outputs": [
    {
     "data": {
      "text/latex": [
       "$\\displaystyle - k \\frac{\\partial^{2}}{\\partial x^{2}} u{\\left(x,t \\right)} + \\frac{\\partial}{\\partial t} u{\\left(x,t \\right)}$"
      ],
      "text/plain": [
       "-k*Derivative(u(x, t), (x, 2)) + Derivative(u(x, t), t)"
      ]
     },
     "execution_count": 2,
     "metadata": {},
     "output_type": "execute_result"
    }
   ],
   "source": [
    "x, t, k = sp.symbols('x t k')\n",
    "u = sp.Function('u')(x, t)\n",
    "list_indep = [x, t]\n",
    "list_dep = [u]\n",
    "list_cte = [k]\n",
    "F =  -D(u,x,x) +x**2*u-sp.sqrt(-1)*k*D(u,t)\n",
    "F_rules_array = {D(u,x,x):x**2-sp.sqrt(-1)*k*D(u,t)}\n",
    "order = 2\n",
    "F.expand()\n",
    "point_symmetries(F, order, F_rules_array, list_indep, list_dep, list_cte)"
   ]
  },
  {
   "cell_type": "code",
   "execution_count": 3,
   "metadata": {},
   "outputs": [
    {
     "name": "stdout",
     "output_type": "stream",
     "text": [
      "0.001994609832763672\n"
     ]
    }
   ],
   "source": [
    "list_var = list_indep + list_dep\n",
    "list_all = list_cte + list_indep + list_dep"
   ]
  },
  {
   "cell_type": "code",
   "execution_count": 4,
   "metadata": {},
   "outputs": [
    {
     "name": "stdout",
     "output_type": "stream",
     "text": [
      "0.0009984970092773438\n"
     ]
    }
   ],
   "source": [
    "t = time.time()\n",
    "infts = infinitesimals_generator(list_indep, list_dep)\n",
    "n_indep = len(list_indep)\n",
    "n_dep = len(list_dep)\n",
    "infts_ind = infts[0:n_indep]\n",
    "infts_dep = infts[n_indep:(n_dep + n_indep )]\n",
    "elapsed = time.time() - t\n",
    "print(elapsed)"
   ]
  },
  {
   "cell_type": "code",
   "execution_count": 5,
   "metadata": {},
   "outputs": [
    {
     "name": "stdout",
     "output_type": "stream",
     "text": [
      "0.4876983165740967\n"
     ]
    }
   ],
   "source": [
    "t = time.time()\n",
    "inft_derivatives, dep_vars_derivatives = higher_infinitesimals_generator(infts_ind, infts_dep,\n",
    "                                                                            order, list_indep, list_dep)\n",
    "infts_dummy = [item for sublist in inft_derivatives for item in sublist]\n",
    "dep_vars_derivatives = [item for sublist in dep_vars_derivatives for item in sublist]\n",
    "infts = infts + infts_dummy\n",
    "elapsed = time.time() - t\n",
    "print(elapsed)"
   ]
  },
  {
   "cell_type": "code",
   "execution_count": 6,
   "metadata": {},
   "outputs": [
    {
     "name": "stdout",
     "output_type": "stream",
     "text": [
      "0.0009984970092773438\n"
     ]
    }
   ],
   "source": [
    "t = time.time()\n",
    "F, deriv_names = der_relabel(dep_vars_derivatives, F)\n",
    "\n",
    "vars_and_derivatives = list_indep + list_dep + deriv_names\n",
    "elapsed = time.time() - t\n",
    "print(elapsed)"
   ]
  },
  {
   "cell_type": "code",
   "execution_count": 7,
   "metadata": {},
   "outputs": [
    {
     "name": "stdout",
     "output_type": "stream",
     "text": [
      "1.4343650341033936\n"
     ]
    }
   ],
   "source": [
    "t = time.time()\n",
    "XF = group_operator(F, vars_and_derivatives, infts) # Es la que mas se tarda\n",
    "elapsed = time.time() - t\n",
    "print(elapsed)"
   ]
  },
  {
   "cell_type": "code",
   "execution_count": 8,
   "metadata": {},
   "outputs": [
    {
     "name": "stdout",
     "output_type": "stream",
     "text": [
      "0.0039865970611572266\n"
     ]
    }
   ],
   "source": [
    "t = time.time()\n",
    "XF = subs_new_vars(dep_vars_derivatives, deriv_names, XF)\n",
    "elapsed = time.time() - t\n",
    "print(elapsed)"
   ]
  },
  {
   "cell_type": "code",
   "execution_count": 9,
   "metadata": {},
   "outputs": [
    {
     "name": "stdout",
     "output_type": "stream",
     "text": [
      "0.8527350425720215\n"
     ]
    }
   ],
   "source": [
    "t = time.time()\n",
    "XF = sp.simplify(XF.subs(F_rules_array))\n",
    "elapsed = time.time() - t\n",
    "print(elapsed)"
   ]
  },
  {
   "cell_type": "code",
   "execution_count": 10,
   "metadata": {},
   "outputs": [
    {
     "data": {
      "text/plain": [
       "'eta^y(x,y(x))*Derivative(y(x),(x,2))+xi^x(x,y(x))*Derivative(y(x),x)*Derivative(y(x),(x,2))+y(x)*Derivative(eta^y(x,y(x)),(y(x),2))*Derivative(y(x),x)**2+y(x)*Derivative(xi^x(x,y(x)),y(x))*Derivative(y(x),x)*Derivative(y(x),(x,2))-y(x)*Derivative(xi^x(x,y(x)),(y(x),2))*Derivative(y(x),x)**3-y(x)*Derivative(y(x),x)**2*Subs(Derivative(xi^x(_xi_1,y(x)),_xi_1,y(x)),_xi_1,x)-y(x)*Derivative(y(x),x)**2*Subs(Derivative(xi^x(x,_xi),_xi,x),_xi,y(x))-y(x)*Derivative(y(x),x)*Subs(Derivative(xi^x(_xi_1,y(x)),(_xi_1,2)),_xi_1,x)+y(x)*Derivative(y(x),x)*Subs(Derivative(eta^y(_xi_1,y(x)),_xi_1,y(x)),_xi_1,x)+y(x)*Derivative(y(x),x)*Subs(Derivative(eta^y(x,_xi),_xi,x),_xi,y(x))+y(x)*Derivative(y(x),(x,2))*Subs(Derivative(xi^x(_xi_1,y(x)),_xi_1),_xi_1,x)+y(x)*Subs(Derivative(eta^y(_xi_1,y(x)),(_xi_1,2)),_xi_1,x)+3*Derivative(eta^y(x,y(x)),(y(x),2))*Derivative(y(x),x)*Derivative(y(x),(x,2))+Derivative(eta^y(x,y(x)),(y(x),3))*Derivative(y(x),x)**3-3*Derivative(xi^x(x,y(x)),y(x))*Derivative(y(x),(x,2))**2-6*Derivative(xi^x(x,y(x)),(y(x),2))*Derivative(y(x),x)**2*Derivative(y(x),(x,2))-Derivative(xi^x(x,y(x)),(y(x),3))*Derivative(y(x),x)**4-Derivative(y(x),x)**3*Subs(Derivative(xi^x(_xi_1,y(x)),_xi_1,(y(x),2)),_xi_1,x)-2*Derivative(y(x),x)**3*Subs(Derivative(xi^x(x,_xi),(_xi,2),x),_xi,y(x))+Derivative(y(x),x)**2*Subs(Derivative(eta^y(_xi_1,y(x)),_xi_1,(y(x),2)),_xi_1,x)+2*Derivative(y(x),x)**2*Subs(Derivative(eta^y(x,_xi),(_xi,2),x),_xi,y(x))-2*Derivative(y(x),x)**2*Subs(Derivative(xi^x(_xi_1,y(x)),(_xi_1,2),y(x)),_xi_1,x)-Derivative(y(x),x)**2*Subs(Derivative(xi^x(x,_xi),_xi,(x,2)),_xi,y(x))-4*Derivative(y(x),x)*Derivative(y(x),(x,2))*Subs(Derivative(xi^x(_xi_1,y(x)),_xi_1,y(x)),_xi_1,x)-5*Derivative(y(x),x)*Derivative(y(x),(x,2))*Subs(Derivative(xi^x(x,_xi),_xi,x),_xi,y(x))-Derivative(y(x),x)*Subs(Derivative(xi^x(_xi_1,y(x)),(_xi_1,3)),_xi_1,x)+2*Derivative(y(x),x)*Subs(Derivative(eta^y(_xi_1,y(x)),(_xi_1,2),y(x)),_xi_1,x)+Derivative(y(x),x)*Subs(Derivative(eta^y(x,_xi),_xi,(x,2)),_xi,y(x))-3*Derivative(y(x),(x,2))*Subs(Derivative(xi^x(_xi_1,y(x)),(_xi_1,2)),_xi_1,x)+Derivative(y(x),(x,2))*Subs(Derivative(eta^y(_xi_1,y(x)),_xi_1,y(x)),_xi_1,x)+2*Derivative(y(x),(x,2))*Subs(Derivative(eta^y(x,_xi),_xi,x),_xi,y(x))+Subs(Derivative(eta^y(_xi_1,y(x)),(_xi_1,3)),_xi_1,x)'"
      ]
     },
     "execution_count": 10,
     "metadata": {},
     "output_type": "execute_result"
    }
   ],
   "source": [
    "str(XF.expand()).replace(\" \",\"\")"
   ]
  },
  {
   "cell_type": "code",
   "execution_count": 11,
   "metadata": {},
   "outputs": [
    {
     "name": "stdout",
     "output_type": "stream",
     "text": [
      "0.013963699340820312\n"
     ]
    }
   ],
   "source": [
    "t = time.time()\n",
    "empty_det_eqn = get_common_factors(XF, list_dep, list_indep, list_cte)\n",
    "elapsed = time.time() - t\n",
    "print(elapsed)"
   ]
  },
  {
   "cell_type": "code",
   "execution_count": 12,
   "metadata": {},
   "outputs": [
    {
     "name": "stdout",
     "output_type": "stream",
     "text": [
      "0.011968135833740234\n"
     ]
    }
   ],
   "source": [
    "t = time.time()\n",
    "det_eqn = get_det_eqns(XF, empty_det_eqn)\n",
    "elapsed = time.time() - t\n",
    "print(elapsed)"
   ]
  },
  {
   "cell_type": "code",
   "execution_count": 13,
   "metadata": {},
   "outputs": [
    {
     "data": {
      "text/plain": [
       "{'Derivative(y(x),x)^3': ['-y(x)*Derivative(xix(x,y(x)),(y(x),2))',\n",
       "  '+Derivative(etay(x,y(x)),(y(x),3))',\n",
       "  '-Subs(Derivative(xix(_xi_1,y(x)),_xi_1,(y(x),2)),_xi_1,x)',\n",
       "  '-2*Subs(Derivative(xix(x,_xi),(_xi,2),x),_xi,y(x))'],\n",
       " 'Derivative(y(x),(x,2))^2': ['-3*Derivative(xix(x,y(x)),y(x))'],\n",
       " 'Derivative(y(x),x)^2*Derivative(y(x),(x,2))': ['-6*Derivative(xix(x,y(x)),(y(x),2))'],\n",
       " 'Derivative(y(x),x)^4': ['-Derivative(xix(x,y(x)),(y(x),3))'],\n",
       " 'Derivative(y(x),x)*Derivative(y(x),(x,2))': ['+xix(x,y(x))',\n",
       "  '+y(x)*Derivative(xix(x,y(x)),y(x))',\n",
       "  '+3*Derivative(etay(x,y(x)),(y(x),2))',\n",
       "  '-4*Subs(Derivative(xix(_xi_1,y(x)),_xi_1,y(x)),_xi_1,x)',\n",
       "  '-5*Subs(Derivative(xix(x,_xi),_xi,x),_xi,y(x))'],\n",
       " 'Derivative(y(x),x)^2': ['+y(x)*Derivative(etay(x,y(x)),(y(x),2))',\n",
       "  '-y(x)*Subs(Derivative(xix(_xi_1,y(x)),_xi_1,y(x)),_xi_1,x)',\n",
       "  '-y(x)*Subs(Derivative(xix(x,_xi),_xi,x),_xi,y(x))',\n",
       "  '+Subs(Derivative(etay(_xi_1,y(x)),_xi_1,(y(x),2)),_xi_1,x)',\n",
       "  '+2*Subs(Derivative(etay(x,_xi),(_xi,2),x),_xi,y(x))',\n",
       "  '-2*Subs(Derivative(xix(_xi_1,y(x)),(_xi_1,2),y(x)),_xi_1,x)',\n",
       "  '-Subs(Derivative(xix(x,_xi),_xi,(x,2)),_xi,y(x))'],\n",
       " 'Derivative(y(x),x)': ['-y(x)*Subs(Derivative(xix(_xi_1,y(x)),(_xi_1,2)),_xi_1,x)',\n",
       "  '+y(x)*Subs(Derivative(etay(_xi_1,y(x)),_xi_1,y(x)),_xi_1,x)',\n",
       "  '+y(x)*Subs(Derivative(etay(x,_xi),_xi,x),_xi,y(x))',\n",
       "  '-Subs(Derivative(xix(_xi_1,y(x)),(_xi_1,3)),_xi_1,x)',\n",
       "  '+2*Subs(Derivative(etay(_xi_1,y(x)),(_xi_1,2),y(x)),_xi_1,x)',\n",
       "  '+Subs(Derivative(etay(x,_xi),_xi,(x,2)),_xi,y(x))'],\n",
       " 'Derivative(y(x),(x,2))': ['etay(x,y(x))',\n",
       "  '+y(x)*Subs(Derivative(xix(_xi_1,y(x)),_xi_1),_xi_1,x)',\n",
       "  '-3*Subs(Derivative(xix(_xi_1,y(x)),(_xi_1,2)),_xi_1,x)',\n",
       "  '+Subs(Derivative(etay(_xi_1,y(x)),_xi_1,y(x)),_xi_1,x)',\n",
       "  '+2*Subs(Derivative(etay(x,_xi),_xi,x),_xi,y(x))'],\n",
       " 'lonely_terms': ['+y(x)*Subs(Derivative(etay(_xi_1,y(x)),(_xi_1,2)),_xi_1,x)',\n",
       "  '+Subs(Derivative(etay(_xi_1,y(x)),(_xi_1,3)),_xi_1,x)']}"
      ]
     },
     "execution_count": 13,
     "metadata": {},
     "output_type": "execute_result"
    }
   ],
   "source": [
    "det_eqn"
   ]
  },
  {
   "cell_type": "code",
   "execution_count": 14,
   "metadata": {},
   "outputs": [
    {
     "name": "stdout",
     "output_type": "stream",
     "text": [
      "['-y(x)*Derivative(xix(x,y(x)),(y(x),2))', '+Derivative(etay(x,y(x)),(y(x),3))', '-Subs(Derivative(xix(_xi_1,y(x)),_xi_1,(y(x),2)),_xi_1,x)', '-2*Subs(Derivative(xix(x,_xi),(_xi,2),x),_xi,y(x))']\n",
      "-y(x)*Derivative(xix(x,y(x)),(y(x),2))\n",
      "+Derivative(etay(x,y(x)),(y(x),3))\n",
      "-Subs(Derivative(xix(_xi_1,y(x)),_xi_1,(y(x),2)),_xi_1,x)\n",
      "-2*Subs(Derivative(xix(x,_xi),(_xi,2),x),_xi,y(x))\n"
     ]
    },
    {
     "ename": "SympifyError",
     "evalue": "Sympify of expression 'could not parse 'Derivative(xix(x, _xi), (_xi, 2), _xi, y(x), _xi, y(_xi, y(x)'' failed, because of exception being raised:\nTokenError: ('EOF in multi-line statement', (2, 0))",
     "output_type": "error",
     "traceback": [
      "\u001b[1;31m---------------------------------------------------------------------------\u001b[0m",
      "\u001b[1;31mTokenError\u001b[0m                                Traceback (most recent call last)",
      "\u001b[1;32m~\\Anaconda3\\lib\\site-packages\\sympy\\core\\sympify.py\u001b[0m in \u001b[0;36msympify\u001b[1;34m(a, locals, convert_xor, strict, rational, evaluate)\u001b[0m\n\u001b[0;32m    478\u001b[0m         \u001b[0ma\u001b[0m \u001b[1;33m=\u001b[0m \u001b[0ma\u001b[0m\u001b[1;33m.\u001b[0m\u001b[0mreplace\u001b[0m\u001b[1;33m(\u001b[0m\u001b[1;34m'\\n'\u001b[0m\u001b[1;33m,\u001b[0m \u001b[1;34m''\u001b[0m\u001b[1;33m)\u001b[0m\u001b[1;33m\u001b[0m\u001b[1;33m\u001b[0m\u001b[0m\n\u001b[1;32m--> 479\u001b[1;33m         \u001b[0mexpr\u001b[0m \u001b[1;33m=\u001b[0m \u001b[0mparse_expr\u001b[0m\u001b[1;33m(\u001b[0m\u001b[0ma\u001b[0m\u001b[1;33m,\u001b[0m \u001b[0mlocal_dict\u001b[0m\u001b[1;33m=\u001b[0m\u001b[0mlocals\u001b[0m\u001b[1;33m,\u001b[0m \u001b[0mtransformations\u001b[0m\u001b[1;33m=\u001b[0m\u001b[0mtransformations\u001b[0m\u001b[1;33m,\u001b[0m \u001b[0mevaluate\u001b[0m\u001b[1;33m=\u001b[0m\u001b[0mevaluate\u001b[0m\u001b[1;33m)\u001b[0m\u001b[1;33m\u001b[0m\u001b[1;33m\u001b[0m\u001b[0m\n\u001b[0m\u001b[0;32m    480\u001b[0m     \u001b[1;32mexcept\u001b[0m \u001b[1;33m(\u001b[0m\u001b[0mTokenError\u001b[0m\u001b[1;33m,\u001b[0m \u001b[0mSyntaxError\u001b[0m\u001b[1;33m)\u001b[0m \u001b[1;32mas\u001b[0m \u001b[0mexc\u001b[0m\u001b[1;33m:\u001b[0m\u001b[1;33m\u001b[0m\u001b[1;33m\u001b[0m\u001b[0m\n",
      "\u001b[1;32m~\\Anaconda3\\lib\\site-packages\\sympy\\parsing\\sympy_parser.py\u001b[0m in \u001b[0;36mparse_expr\u001b[1;34m(s, local_dict, transformations, global_dict, evaluate)\u001b[0m\n\u001b[0;32m   1009\u001b[0m                     takes 3 arguments'''))\n\u001b[1;32m-> 1010\u001b[1;33m     \u001b[0mcode\u001b[0m \u001b[1;33m=\u001b[0m \u001b[0mstringify_expr\u001b[0m\u001b[1;33m(\u001b[0m\u001b[0ms\u001b[0m\u001b[1;33m,\u001b[0m \u001b[0mlocal_dict\u001b[0m\u001b[1;33m,\u001b[0m \u001b[0mglobal_dict\u001b[0m\u001b[1;33m,\u001b[0m \u001b[0mtransformations\u001b[0m\u001b[1;33m)\u001b[0m\u001b[1;33m\u001b[0m\u001b[1;33m\u001b[0m\u001b[0m\n\u001b[0m\u001b[0;32m   1011\u001b[0m \u001b[1;33m\u001b[0m\u001b[0m\n",
      "\u001b[1;32m~\\Anaconda3\\lib\\site-packages\\sympy\\parsing\\sympy_parser.py\u001b[0m in \u001b[0;36mstringify_expr\u001b[1;34m(s, local_dict, global_dict, transformations)\u001b[0m\n\u001b[0;32m    894\u001b[0m     \u001b[0minput_code\u001b[0m \u001b[1;33m=\u001b[0m \u001b[0mStringIO\u001b[0m\u001b[1;33m(\u001b[0m\u001b[0ms\u001b[0m\u001b[1;33m.\u001b[0m\u001b[0mstrip\u001b[0m\u001b[1;33m(\u001b[0m\u001b[1;33m)\u001b[0m\u001b[1;33m)\u001b[0m\u001b[1;33m\u001b[0m\u001b[1;33m\u001b[0m\u001b[0m\n\u001b[1;32m--> 895\u001b[1;33m     \u001b[1;32mfor\u001b[0m \u001b[0mtoknum\u001b[0m\u001b[1;33m,\u001b[0m \u001b[0mtokval\u001b[0m\u001b[1;33m,\u001b[0m \u001b[0m_\u001b[0m\u001b[1;33m,\u001b[0m \u001b[0m_\u001b[0m\u001b[1;33m,\u001b[0m \u001b[0m_\u001b[0m \u001b[1;32min\u001b[0m \u001b[0mgenerate_tokens\u001b[0m\u001b[1;33m(\u001b[0m\u001b[0minput_code\u001b[0m\u001b[1;33m.\u001b[0m\u001b[0mreadline\u001b[0m\u001b[1;33m)\u001b[0m\u001b[1;33m:\u001b[0m\u001b[1;33m\u001b[0m\u001b[1;33m\u001b[0m\u001b[0m\n\u001b[0m\u001b[0;32m    896\u001b[0m         \u001b[0mtokens\u001b[0m\u001b[1;33m.\u001b[0m\u001b[0mappend\u001b[0m\u001b[1;33m(\u001b[0m\u001b[1;33m(\u001b[0m\u001b[0mtoknum\u001b[0m\u001b[1;33m,\u001b[0m \u001b[0mtokval\u001b[0m\u001b[1;33m)\u001b[0m\u001b[1;33m)\u001b[0m\u001b[1;33m\u001b[0m\u001b[1;33m\u001b[0m\u001b[0m\n",
      "\u001b[1;32m~\\Anaconda3\\lib\\tokenize.py\u001b[0m in \u001b[0;36m_tokenize\u001b[1;34m(readline, encoding)\u001b[0m\n\u001b[0;32m    520\u001b[0m             \u001b[1;32mif\u001b[0m \u001b[1;32mnot\u001b[0m \u001b[0mline\u001b[0m\u001b[1;33m:\u001b[0m\u001b[1;33m\u001b[0m\u001b[1;33m\u001b[0m\u001b[0m\n\u001b[1;32m--> 521\u001b[1;33m                 \u001b[1;32mraise\u001b[0m \u001b[0mTokenError\u001b[0m\u001b[1;33m(\u001b[0m\u001b[1;34m\"EOF in multi-line statement\"\u001b[0m\u001b[1;33m,\u001b[0m \u001b[1;33m(\u001b[0m\u001b[0mlnum\u001b[0m\u001b[1;33m,\u001b[0m \u001b[1;36m0\u001b[0m\u001b[1;33m)\u001b[0m\u001b[1;33m)\u001b[0m\u001b[1;33m\u001b[0m\u001b[1;33m\u001b[0m\u001b[0m\n\u001b[0m\u001b[0;32m    522\u001b[0m             \u001b[0mcontinued\u001b[0m \u001b[1;33m=\u001b[0m \u001b[1;36m0\u001b[0m\u001b[1;33m\u001b[0m\u001b[1;33m\u001b[0m\u001b[0m\n",
      "\u001b[1;31mTokenError\u001b[0m: ('EOF in multi-line statement', (2, 0))",
      "\nDuring handling of the above exception, another exception occurred:\n",
      "\u001b[1;31mSympifyError\u001b[0m                              Traceback (most recent call last)",
      "\u001b[1;32m<ipython-input-14-1a19b30fe315>\u001b[0m in \u001b[0;36m<module>\u001b[1;34m\u001b[0m\n\u001b[0;32m      1\u001b[0m \u001b[0mt\u001b[0m \u001b[1;33m=\u001b[0m \u001b[0mtime\u001b[0m\u001b[1;33m.\u001b[0m\u001b[0mtime\u001b[0m\u001b[1;33m(\u001b[0m\u001b[1;33m)\u001b[0m\u001b[1;33m\u001b[0m\u001b[1;33m\u001b[0m\u001b[0m\n\u001b[1;32m----> 2\u001b[1;33m \u001b[0mdet_eqn\u001b[0m \u001b[1;33m=\u001b[0m \u001b[0mstr_eqn_to_dict_eqn\u001b[0m\u001b[1;33m(\u001b[0m\u001b[0mdet_eqn\u001b[0m\u001b[1;33m,\u001b[0m \u001b[0mlist_var\u001b[0m\u001b[1;33m,\u001b[0m \u001b[0mlist_all\u001b[0m\u001b[1;33m)\u001b[0m\u001b[1;33m\u001b[0m\u001b[1;33m\u001b[0m\u001b[0m\n\u001b[0m\u001b[0;32m      3\u001b[0m \u001b[0melapsed\u001b[0m \u001b[1;33m=\u001b[0m \u001b[0mtime\u001b[0m\u001b[1;33m.\u001b[0m\u001b[0mtime\u001b[0m\u001b[1;33m(\u001b[0m\u001b[1;33m)\u001b[0m \u001b[1;33m-\u001b[0m \u001b[0mt\u001b[0m\u001b[1;33m\u001b[0m\u001b[1;33m\u001b[0m\u001b[0m\n\u001b[0;32m      4\u001b[0m \u001b[0mprint\u001b[0m\u001b[1;33m(\u001b[0m\u001b[0melapsed\u001b[0m\u001b[1;33m)\u001b[0m\u001b[1;33m\u001b[0m\u001b[1;33m\u001b[0m\u001b[0m\n",
      "\u001b[1;32m~\\Documents\\New folder\\Lie_Symmetry_Analysis_Agorithm\\Notebooks\\utils\\algebra.py\u001b[0m in \u001b[0;36mstr_eqn_to_dict_eqn\u001b[1;34m(dict_det_eqn, list_var, list_all)\u001b[0m\n\u001b[0;32m    303\u001b[0m             term = {\"coefficient\": 1, \"constants\": None,\n\u001b[0;32m    304\u001b[0m                     \"derivatives\": None, \"variable\": None}\n\u001b[1;32m--> 305\u001b[1;33m             aux_list.append(str_to_dict(sp.sympify(str_term), term, arr_pow,\n\u001b[0m\u001b[0;32m    306\u001b[0m                   arr_deriv, np.array(list_all), np.array(list_var)))\n\u001b[0;32m    307\u001b[0m         \u001b[0mdet_eqn\u001b[0m\u001b[1;33m.\u001b[0m\u001b[0mappend\u001b[0m\u001b[1;33m(\u001b[0m\u001b[0maux_list\u001b[0m\u001b[1;33m)\u001b[0m\u001b[1;33m\u001b[0m\u001b[1;33m\u001b[0m\u001b[0m\n",
      "\u001b[1;32m~\\Documents\\New folder\\Lie_Symmetry_Analysis_Agorithm\\Notebooks\\utils\\algebra.py\u001b[0m in \u001b[0;36mstr_to_dict\u001b[1;34m(f, term, arr_pow, arr_deriv, list_all, list_var)\u001b[0m\n\u001b[0;32m    339\u001b[0m     \u001b[1;32mif\u001b[0m \u001b[0mf\u001b[0m\u001b[1;33m.\u001b[0m\u001b[0mis_Mul\u001b[0m\u001b[1;33m:\u001b[0m\u001b[1;33m\u001b[0m\u001b[1;33m\u001b[0m\u001b[0m\n\u001b[0;32m    340\u001b[0m         \u001b[1;32mfor\u001b[0m \u001b[0mi\u001b[0m \u001b[1;32min\u001b[0m \u001b[0mf\u001b[0m\u001b[1;33m.\u001b[0m\u001b[0margs\u001b[0m\u001b[1;33m:\u001b[0m\u001b[1;33m\u001b[0m\u001b[1;33m\u001b[0m\u001b[0m\n\u001b[1;32m--> 341\u001b[1;33m             \u001b[0mstr_to_dict\u001b[0m\u001b[1;33m(\u001b[0m\u001b[0mi\u001b[0m\u001b[1;33m,\u001b[0m \u001b[0mterm\u001b[0m\u001b[1;33m,\u001b[0m \u001b[0marr_pow\u001b[0m\u001b[1;33m,\u001b[0m \u001b[0marr_deriv\u001b[0m\u001b[1;33m,\u001b[0m \u001b[0mlist_all\u001b[0m\u001b[1;33m,\u001b[0m \u001b[0mlist_var\u001b[0m\u001b[1;33m)\u001b[0m\u001b[1;33m\u001b[0m\u001b[1;33m\u001b[0m\u001b[0m\n\u001b[0m\u001b[0;32m    342\u001b[0m     \u001b[1;32melse\u001b[0m\u001b[1;33m:\u001b[0m\u001b[1;33m\u001b[0m\u001b[1;33m\u001b[0m\u001b[0m\n\u001b[0;32m    343\u001b[0m         \u001b[1;32mif\u001b[0m \u001b[0mf\u001b[0m\u001b[1;33m.\u001b[0m\u001b[0margs\u001b[0m \u001b[1;33m==\u001b[0m \u001b[1;33m(\u001b[0m\u001b[1;33m)\u001b[0m\u001b[1;33m:\u001b[0m\u001b[1;33m\u001b[0m\u001b[1;33m\u001b[0m\u001b[0m\n",
      "\u001b[1;32m~\\Documents\\New folder\\Lie_Symmetry_Analysis_Agorithm\\Notebooks\\utils\\algebra.py\u001b[0m in \u001b[0;36mstr_to_dict\u001b[1;34m(f, term, arr_pow, arr_deriv, list_all, list_var)\u001b[0m\n\u001b[0;32m    378\u001b[0m                 \u001b[0msubs_t\u001b[0m \u001b[1;33m=\u001b[0m \u001b[0mre\u001b[0m\u001b[1;33m.\u001b[0m\u001b[0msplit\u001b[0m\u001b[1;33m(\u001b[0m\u001b[1;34m','\u001b[0m\u001b[1;33m,\u001b[0m\u001b[0ms\u001b[0m\u001b[1;33m)\u001b[0m\u001b[1;33m[\u001b[0m\u001b[1;33m-\u001b[0m\u001b[1;36m1\u001b[0m\u001b[1;33m]\u001b[0m\u001b[1;33m.\u001b[0m\u001b[0mstrip\u001b[0m\u001b[1;33m(\u001b[0m\u001b[1;34m')'\u001b[0m\u001b[1;33m)\u001b[0m\u001b[1;33m.\u001b[0m\u001b[0mstrip\u001b[0m\u001b[1;33m(\u001b[0m\u001b[1;34m' '\u001b[0m\u001b[1;33m)\u001b[0m\u001b[1;33m\u001b[0m\u001b[1;33m\u001b[0m\u001b[0m\n\u001b[0;32m    379\u001b[0m             \u001b[0ms\u001b[0m \u001b[1;33m=\u001b[0m \u001b[0ms\u001b[0m\u001b[1;33m.\u001b[0m\u001b[0mreplace\u001b[0m\u001b[1;33m(\u001b[0m\u001b[0msubs\u001b[0m\u001b[1;33m,\u001b[0m \u001b[0msubs_t\u001b[0m\u001b[1;33m)\u001b[0m\u001b[1;33m\u001b[0m\u001b[1;33m\u001b[0m\u001b[0m\n\u001b[1;32m--> 380\u001b[1;33m             \u001b[0mf\u001b[0m \u001b[1;33m=\u001b[0m \u001b[0msp\u001b[0m\u001b[1;33m.\u001b[0m\u001b[0msympify\u001b[0m\u001b[1;33m(\u001b[0m\u001b[0mparens\u001b[0m\u001b[1;33m(\u001b[0m\u001b[0ms\u001b[0m\u001b[1;33m)\u001b[0m\u001b[1;33m.\u001b[0m\u001b[0mstrip\u001b[0m\u001b[1;33m(\u001b[0m\u001b[1;34m'('\u001b[0m\u001b[1;33m)\u001b[0m\u001b[1;33m)\u001b[0m\u001b[1;33m\u001b[0m\u001b[1;33m\u001b[0m\u001b[0m\n\u001b[0m\u001b[0;32m    381\u001b[0m             \u001b[1;32mif\u001b[0m \u001b[0misinstance\u001b[0m\u001b[1;33m(\u001b[0m\u001b[0mf\u001b[0m\u001b[1;33m,\u001b[0m \u001b[0mtuple\u001b[0m\u001b[1;33m)\u001b[0m\u001b[1;33m:\u001b[0m\u001b[1;33m\u001b[0m\u001b[1;33m\u001b[0m\u001b[0m\n\u001b[0;32m    382\u001b[0m                 \u001b[0mf\u001b[0m \u001b[1;33m=\u001b[0m \u001b[0mf\u001b[0m\u001b[1;33m[\u001b[0m\u001b[1;36m0\u001b[0m\u001b[1;33m]\u001b[0m\u001b[1;33m\u001b[0m\u001b[1;33m\u001b[0m\u001b[0m\n",
      "\u001b[1;32m~\\Anaconda3\\lib\\site-packages\\sympy\\core\\sympify.py\u001b[0m in \u001b[0;36msympify\u001b[1;34m(a, locals, convert_xor, strict, rational, evaluate)\u001b[0m\n\u001b[0;32m    479\u001b[0m         \u001b[0mexpr\u001b[0m \u001b[1;33m=\u001b[0m \u001b[0mparse_expr\u001b[0m\u001b[1;33m(\u001b[0m\u001b[0ma\u001b[0m\u001b[1;33m,\u001b[0m \u001b[0mlocal_dict\u001b[0m\u001b[1;33m=\u001b[0m\u001b[0mlocals\u001b[0m\u001b[1;33m,\u001b[0m \u001b[0mtransformations\u001b[0m\u001b[1;33m=\u001b[0m\u001b[0mtransformations\u001b[0m\u001b[1;33m,\u001b[0m \u001b[0mevaluate\u001b[0m\u001b[1;33m=\u001b[0m\u001b[0mevaluate\u001b[0m\u001b[1;33m)\u001b[0m\u001b[1;33m\u001b[0m\u001b[1;33m\u001b[0m\u001b[0m\n\u001b[0;32m    480\u001b[0m     \u001b[1;32mexcept\u001b[0m \u001b[1;33m(\u001b[0m\u001b[0mTokenError\u001b[0m\u001b[1;33m,\u001b[0m \u001b[0mSyntaxError\u001b[0m\u001b[1;33m)\u001b[0m \u001b[1;32mas\u001b[0m \u001b[0mexc\u001b[0m\u001b[1;33m:\u001b[0m\u001b[1;33m\u001b[0m\u001b[1;33m\u001b[0m\u001b[0m\n\u001b[1;32m--> 481\u001b[1;33m         \u001b[1;32mraise\u001b[0m \u001b[0mSympifyError\u001b[0m\u001b[1;33m(\u001b[0m\u001b[1;34m'could not parse %r'\u001b[0m \u001b[1;33m%\u001b[0m \u001b[0ma\u001b[0m\u001b[1;33m,\u001b[0m \u001b[0mexc\u001b[0m\u001b[1;33m)\u001b[0m\u001b[1;33m\u001b[0m\u001b[1;33m\u001b[0m\u001b[0m\n\u001b[0m\u001b[0;32m    482\u001b[0m \u001b[1;33m\u001b[0m\u001b[0m\n\u001b[0;32m    483\u001b[0m     \u001b[1;32mreturn\u001b[0m \u001b[0mexpr\u001b[0m\u001b[1;33m\u001b[0m\u001b[1;33m\u001b[0m\u001b[0m\n",
      "\u001b[1;31mSympifyError\u001b[0m: Sympify of expression 'could not parse 'Derivative(xix(x, _xi), (_xi, 2), _xi, y(x), _xi, y(_xi, y(x)'' failed, because of exception being raised:\nTokenError: ('EOF in multi-line statement', (2, 0))"
     ]
    }
   ],
   "source": [
    "t = time.time()\n",
    "det_eqn = str_eqn_to_dict_eqn(det_eqn, list_var, list_all)\n",
    "elapsed = time.time() - t\n",
    "print(elapsed)"
   ]
  },
  {
   "cell_type": "code",
   "execution_count": null,
   "metadata": {},
   "outputs": [],
   "source": [
    "def str_eqn_to_dict_eqn_2(dict_det_eqn, list_var, list_all):\n",
    "    \"\"\"This function transforms the string version of the \n",
    "    determinant equations to dictionary format.\n",
    "\n",
    "    Parameters\n",
    "    ----------\n",
    "    dict_det_eqn : [dict]\n",
    "        dictionary containing all the determinant equations\n",
    "    list_var : [list]\n",
    "        list with all the variables\n",
    "    list_all : [list]\n",
    "        list with all the variables and constants (constants\n",
    "        go first).\n",
    "\n",
    "    Returns\n",
    "    -------\n",
    "    [dict]\n",
    "        a dictionary of lists where each element of the list is \n",
    "        another dictionary with the information of each term \n",
    "        of the determining equations of the system. \n",
    "    \"\"\"\n",
    "    for eqn in dict_det_eqn.values():\n",
    "        for term in eqn:\n",
    "            \n",
    "            "
   ]
  },
  {
   "cell_type": "code",
   "execution_count": null,
   "metadata": {},
   "outputs": [
    {
     "name": "stdout",
     "output_type": "stream",
     "text": [
      "-Derivative(u(x,t),x)^2+Derivative(u(x,t),t)*Derivative(u(x,t),x)^2+Derivative(u(x,t),t)*Derivative(u(x,t),x)+Derivative(u(x,t),t)*Derivative(u(x,t),x)+Derivative(u(x,t),t)+Derivative(u(x,t),x)^3+Derivative(u(x,t),x)^2+Derivative(u(x,t),x)^2+Derivative(u(x,t),x)*Derivative(u(x,t),t,x)+Derivative(u(x,t),x)-Derivative(u(x,t),x)-Derivative(u(x,t),x)+Derivative(u(x,t),t,x)-+Derivative(u(x,t),t)*Derivative(u(x,t),x)-Derivative(u(x,t),t)+Derivative(u(x,t),t)-Derivative(u(x,t),x)+\n",
      "0.005984783172607422\n"
     ]
    }
   ],
   "source": [
    "'-y(x)*Derivative(xix(x,y(x)),(y(x),2))'\n",
    "def single_term_to_str(term, list_all):\n",
    "    \n",
    "    \n",
    "    \n",
    "    "
   ]
  },
  {
   "cell_type": "code",
   "execution_count": 16,
   "metadata": {},
   "outputs": [
    {
     "data": {
      "text/latex": [
       "$\\displaystyle - \\left. \\frac{\\partial^{3}}{\\partial y{\\left(x \\right)}^{2}\\partial _xi_{1}} \\operatorname{xix}{\\left(_xi_{1},y{\\left(x \\right)} \\right)} \\right|_{\\substack{ _xi_{1}=x }}$"
      ],
      "text/plain": [
       "-Subs(Derivative(xix(_xi_1, y(x)), _xi_1, (y(x), 2)), _xi_1, x)"
      ]
     },
     "execution_count": 16,
     "metadata": {},
     "output_type": "execute_result"
    }
   ],
   "source": [
    "sp.sympify('-Subs(Derivative(xix(_xi_1,y(x)),_xi_1,(y(x),2)),_xi_1,x)')"
   ]
  },
  {
   "cell_type": "code",
   "execution_count": 16,
   "metadata": {},
   "outputs": [
    {
     "data": {
      "text/plain": [
       "{'Derivative(y(x),x)*Derivative(y(x),(x,2))': ['-xix(x,y(x))y(x)',\n",
       "  '+3*y(x)^2*Derivative(xix(x,y(x)),y(x))'],\n",
       " 'Derivative(y(x),(x,4))': ['-xix(x,y(x))*y(x)'],\n",
       " 'Derivative(y(x),x)*Derivative(y(x),(x,3))': ['-2*xix(x,y(x))'],\n",
       " 'Derivative(y(x),(x,2))^2': ['-xix(x,y(x))'],\n",
       " 'Derivative(y(x),x)^2': ['+y(x)*Derivative(etay(x,y(x)),(y(x),2))',\n",
       "  '-y(x)*Subs(Derivative(xix(_xi_1,y(x)),_xi_1,y(x)),_xi_1,x)',\n",
       "  '-y(x)*Subs(Derivative(xix(x,_xi),_xi,x),_xi,y(x))'],\n",
       " 'Derivative(y(x),x)^3': ['-y(x)*Derivative(xix(x,y(x)),(y(x),2))'],\n",
       " 'Derivative(y(x),x)': ['-y(x)*Subs(Derivative(xix(_xi_1,y(x)),(_xi_1,2)),_xi_1,x)',\n",
       "  '+y(x)*Subs(Derivative(etay(_xi_1,y(x)),_xi_1,y(x)),_xi_1,x)',\n",
       "  '+y(x)*Subs(Derivative(etay(x,_xi),_xi,x),_xi,y(x))'],\n",
       " 'Derivative(y(x),(x,2))': ['-etay(x,y(x))*y(x)',\n",
       "  '-y(x)^2*Derivative(etay(x,y(x)),y(x))',\n",
       "  '+2*y(x)^2*Subs(Derivative(xix(_xi_1,y(x)),_xi_1),_xi_1,x)'],\n",
       " 'lonely_terms': ['+y(x)*Subs(Derivative(etay(_xi_1,y(x)),(_xi_1,2)),_xi_1,x)']}"
      ]
     },
     "execution_count": 16,
     "metadata": {},
     "output_type": "execute_result"
    }
   ],
   "source": [
    "det_eqn"
   ]
  },
  {
   "cell_type": "code",
   "execution_count": 17,
   "metadata": {},
   "outputs": [
    {
     "ename": "TypeError",
     "evalue": "string indices must be integers",
     "output_type": "error",
     "traceback": [
      "\u001b[1;31m---------------------------------------------------------------------------\u001b[0m",
      "\u001b[1;31mTypeError\u001b[0m                                 Traceback (most recent call last)",
      "\u001b[1;32m<ipython-input-17-6ec9a4cc6d5b>\u001b[0m in \u001b[0;36m<module>\u001b[1;34m\u001b[0m\n\u001b[0;32m      1\u001b[0m \u001b[0mt\u001b[0m \u001b[1;33m=\u001b[0m \u001b[0mtime\u001b[0m\u001b[1;33m.\u001b[0m\u001b[0mtime\u001b[0m\u001b[1;33m(\u001b[0m\u001b[1;33m)\u001b[0m\u001b[1;33m\u001b[0m\u001b[1;33m\u001b[0m\u001b[0m\n\u001b[1;32m----> 2\u001b[1;33m \u001b[0mdet_eqn\u001b[0m \u001b[1;33m=\u001b[0m \u001b[0msimplify_redundant_eqn\u001b[0m\u001b[1;33m(\u001b[0m\u001b[0mdet_eqn\u001b[0m\u001b[1;33m)\u001b[0m\u001b[1;33m\u001b[0m\u001b[1;33m\u001b[0m\u001b[0m\n\u001b[0m\u001b[0;32m      3\u001b[0m \u001b[0melapsed\u001b[0m \u001b[1;33m=\u001b[0m \u001b[0mtime\u001b[0m\u001b[1;33m.\u001b[0m\u001b[0mtime\u001b[0m\u001b[1;33m(\u001b[0m\u001b[1;33m)\u001b[0m \u001b[1;33m-\u001b[0m \u001b[0mt\u001b[0m\u001b[1;33m\u001b[0m\u001b[1;33m\u001b[0m\u001b[0m\n\u001b[0;32m      4\u001b[0m \u001b[0mprint\u001b[0m\u001b[1;33m(\u001b[0m\u001b[0melapsed\u001b[0m\u001b[1;33m)\u001b[0m\u001b[1;33m\u001b[0m\u001b[1;33m\u001b[0m\u001b[0m\n",
      "\u001b[1;32m~\\Documents\\New folder\\Lie_Symmetry_Analysis_Agorithm\\Notebooks\\utils\\algebra.py\u001b[0m in \u001b[0;36msimplify_redundant_eqn\u001b[1;34m(det_eqns)\u001b[0m\n\u001b[0;32m    414\u001b[0m             \u001b[1;32mfor\u001b[0m \u001b[0mi\u001b[0m\u001b[1;33m,\u001b[0m \u001b[0mzero\u001b[0m \u001b[1;32min\u001b[0m \u001b[0mzero_terms\u001b[0m\u001b[1;33m.\u001b[0m\u001b[0mitems\u001b[0m\u001b[1;33m(\u001b[0m\u001b[1;33m)\u001b[0m\u001b[1;33m:\u001b[0m\u001b[1;33m\u001b[0m\u001b[1;33m\u001b[0m\u001b[0m\n\u001b[0;32m    415\u001b[0m                 \u001b[1;32mfor\u001b[0m \u001b[0mterm\u001b[0m \u001b[1;32min\u001b[0m \u001b[0meqn\u001b[0m\u001b[1;33m:\u001b[0m\u001b[1;33m\u001b[0m\u001b[1;33m\u001b[0m\u001b[0m\n\u001b[1;32m--> 416\u001b[1;33m                     \u001b[1;32mif\u001b[0m \u001b[0mis_zero\u001b[0m\u001b[1;33m(\u001b[0m\u001b[0mzero\u001b[0m\u001b[1;33m,\u001b[0m \u001b[0mterm\u001b[0m\u001b[1;33m)\u001b[0m \u001b[1;32mand\u001b[0m \u001b[0mterm\u001b[0m \u001b[1;32min\u001b[0m \u001b[0mdet_eqns_aux\u001b[0m\u001b[1;33m[\u001b[0m\u001b[0midx\u001b[0m\u001b[1;33m]\u001b[0m\u001b[1;33m:\u001b[0m\u001b[1;33m\u001b[0m\u001b[1;33m\u001b[0m\u001b[0m\n\u001b[0m\u001b[0;32m    417\u001b[0m                         \u001b[0mdet_eqns_aux\u001b[0m\u001b[1;33m[\u001b[0m\u001b[0midx\u001b[0m\u001b[1;33m]\u001b[0m\u001b[1;33m[\u001b[0m\u001b[0mdet_eqns_aux\u001b[0m\u001b[1;33m[\u001b[0m\u001b[0midx\u001b[0m\u001b[1;33m]\u001b[0m\u001b[1;33m.\u001b[0m\u001b[0mindex\u001b[0m\u001b[1;33m(\u001b[0m\u001b[0mterm\u001b[0m\u001b[1;33m)\u001b[0m\u001b[1;33m]\u001b[0m \u001b[1;33m=\u001b[0m \u001b[1;36m0\u001b[0m\u001b[1;33m\u001b[0m\u001b[1;33m\u001b[0m\u001b[0m\n\u001b[0;32m    418\u001b[0m                         \u001b[0mexit\u001b[0m \u001b[1;33m=\u001b[0m \u001b[1;36m0\u001b[0m\u001b[1;33m\u001b[0m\u001b[1;33m\u001b[0m\u001b[0m\n",
      "\u001b[1;32m~\\Documents\\New folder\\Lie_Symmetry_Analysis_Agorithm\\Notebooks\\utils\\algebra.py\u001b[0m in \u001b[0;36mis_zero\u001b[1;34m(zero_term, term)\u001b[0m\n\u001b[0;32m     25\u001b[0m         \u001b[0motherwise\u001b[0m\u001b[1;33m.\u001b[0m\u001b[1;33m\u001b[0m\u001b[1;33m\u001b[0m\u001b[0m\n\u001b[0;32m     26\u001b[0m     \"\"\"\n\u001b[1;32m---> 27\u001b[1;33m     \u001b[1;32mreturn\u001b[0m \u001b[0mzero_term\u001b[0m\u001b[1;33m[\u001b[0m\u001b[1;34m'variable'\u001b[0m\u001b[1;33m]\u001b[0m \u001b[1;33m==\u001b[0m \u001b[0mterm\u001b[0m\u001b[1;33m[\u001b[0m\u001b[1;34m'variable'\u001b[0m\u001b[1;33m]\u001b[0m \u001b[1;32mand\u001b[0m\u001b[0;31m\\\u001b[0m\u001b[1;33m\u001b[0m\u001b[1;33m\u001b[0m\u001b[0m\n\u001b[0m\u001b[0;32m     28\u001b[0m         \u001b[0mcompare_derivatives\u001b[0m\u001b[1;33m(\u001b[0m\u001b[0mzero_term\u001b[0m\u001b[1;33m[\u001b[0m\u001b[1;34m'derivatives'\u001b[0m\u001b[1;33m]\u001b[0m\u001b[1;33m,\u001b[0m \u001b[0mterm\u001b[0m\u001b[1;33m[\u001b[0m\u001b[1;34m'derivatives'\u001b[0m\u001b[1;33m]\u001b[0m\u001b[1;33m)\u001b[0m\u001b[1;33m\u001b[0m\u001b[1;33m\u001b[0m\u001b[0m\n\u001b[0;32m     29\u001b[0m \u001b[1;33m\u001b[0m\u001b[0m\n",
      "\u001b[1;31mTypeError\u001b[0m: string indices must be integers"
     ]
    }
   ],
   "source": [
    "t = time.time()\n",
    "det_eqn = simplify_redundant_eqn(det_eqn)\n",
    "elapsed = time.time() - t\n",
    "print(elapsed)"
   ]
  },
  {
   "cell_type": "code",
   "execution_count": 22,
   "metadata": {},
   "outputs": [
    {
     "data": {
      "text/plain": [
       "{0: [{'coefficient': 1,\n",
       "   'constants': [1, 0, 0, 0],\n",
       "   'derivatives': [0, 0, 2],\n",
       "   'variable': 'xit'}],\n",
       " 1: [{'coefficient': 1,\n",
       "   'constants': [1, 0, 0, 0],\n",
       "   'derivatives': [1, 0, 1],\n",
       "   'variable': 'xit'},\n",
       "  {'coefficient': 1,\n",
       "   'constants': [1, 0, 0, 0],\n",
       "   'derivatives': [1, 0, 1],\n",
       "   'variable': 'xit'},\n",
       "  {'coefficient': 2,\n",
       "   'constants': [0, 0, 0, 0],\n",
       "   'derivatives': [0, 0, 1],\n",
       "   'variable': 'xix'}],\n",
       " 2: [{'coefficient': 1,\n",
       "   'constants': [1, 0, 0, 0],\n",
       "   'derivatives': [2, 0, 0],\n",
       "   'variable': 'xit'},\n",
       "  {'coefficient': -1,\n",
       "   'constants': [0, 0, 0, 0],\n",
       "   'derivatives': [0, 1, 0],\n",
       "   'variable': 'xit'},\n",
       "  {'coefficient': 2,\n",
       "   'constants': [0, 0, 0, 0],\n",
       "   'derivatives': [1, 0, 0],\n",
       "   'variable': 'xix'}],\n",
       " 3: [{'coefficient': 1,\n",
       "   'constants': [1, 0, 0, 0],\n",
       "   'derivatives': [0, 0, 2],\n",
       "   'variable': 'xix'}],\n",
       " 4: [{'coefficient': 2,\n",
       "   'constants': [1, 0, 0, 0],\n",
       "   'derivatives': [0, 0, 1],\n",
       "   'variable': 'xit'}],\n",
       " 5: [{'coefficient': 2,\n",
       "   'constants': [1, 0, 0, 0],\n",
       "   'derivatives': [1, 0, 0],\n",
       "   'variable': 'xit'}],\n",
       " 6: [{'coefficient': -1,\n",
       "   'constants': [1, 0, 0, 0],\n",
       "   'derivatives': [0, 0, 2],\n",
       "   'variable': 'etau'},\n",
       "  {'coefficient': 1,\n",
       "   'constants': [1, 0, 0, 0],\n",
       "   'derivatives': [1, 0, 1],\n",
       "   'variable': 'xix'},\n",
       "  {'coefficient': 1,\n",
       "   'constants': [1, 0, 0, 0],\n",
       "   'derivatives': [1, 0, 1],\n",
       "   'variable': 'xix'}],\n",
       " 7: [{'coefficient': 1,\n",
       "   'constants': [1, 0, 0, 0],\n",
       "   'derivatives': [2, 0, 0],\n",
       "   'variable': 'xix'},\n",
       "  {'coefficient': -1,\n",
       "   'constants': [1, 0, 0, 0],\n",
       "   'derivatives': [1, 0, 1],\n",
       "   'variable': 'etau'},\n",
       "  {'coefficient': -1,\n",
       "   'constants': [1, 0, 0, 0],\n",
       "   'derivatives': [1, 0, 1],\n",
       "   'variable': 'etau'},\n",
       "  {'coefficient': -1,\n",
       "   'constants': [0, 0, 0, 0],\n",
       "   'derivatives': [0, 1, 0],\n",
       "   'variable': 'xix'}],\n",
       " 8: [{'coefficient': -1,\n",
       "   'constants': [1, 0, 0, 0],\n",
       "   'derivatives': [2, 0, 0],\n",
       "   'variable': 'etau'},\n",
       "  {'coefficient': 1,\n",
       "   'constants': [0, 0, 0, 0],\n",
       "   'derivatives': [0, 1, 0],\n",
       "   'variable': 'etau'}]}"
      ]
     },
     "execution_count": 22,
     "metadata": {},
     "output_type": "execute_result"
    }
   ],
   "source": [
    "det_eqn"
   ]
  },
  {
   "cell_type": "code",
   "execution_count": 17,
   "metadata": {},
   "outputs": [
    {
     "name": "stdout",
     "output_type": "stream",
     "text": [
      "0.016954660415649414\n"
     ]
    }
   ],
   "source": [
    "t = time.time()\n",
    "sym_det_eqn(det_eqn, list_indep, list_dep, list_cte)\n",
    "elapsed = time.time() - t\n",
    "print(elapsed)"
   ]
  },
  {
   "cell_type": "code",
   "execution_count": 18,
   "metadata": {},
   "outputs": [
    {
     "data": {
      "text/latex": [
       "$\\displaystyle \\left[\\begin{matrix}1 & - 2 \\xi^{(t)}_{t} + 2 \\xi^{(x)}_{x} = 0\\\\2 & - 2 \\eta^{(u)}_{x u} k + k \\xi^{(x)}_{x x} - \\xi^{(x)}_{t t} = 0\\\\3 & 2 k \\xi^{(t)}_{x} - 2 \\xi^{(x)}_{t} = 0\\\\4 & 2 \\eta^{(u)}_{t u} + k \\xi^{(t)}_{x x} - \\xi^{(t)}_{t t} = 0\\\\5 & \\eta^{(u)}_{t t} - \\eta^{(u)}_{x x} k = 0\\\\6 & \\xi^{(t)}_{u u} = 0\\\\7 & \\xi^{(x)}_{u u} = 0\\\\8 & \\xi^{(t)}_{u} = 0\\\\9 & \\xi^{(x)}_{u} = 0\\\\10 & \\eta^{(u)}_{u u} = 0\\end{matrix}\\right]$"
      ],
      "text/plain": [
       "Matrix([\n",
       "[ 1,                     Eq(-2*xi^(t)_t + 2*xi^(x)_x, 0)],\n",
       "[ 2, Eq(-2*eta^(u)_x_u*k + k*xi^(x)_x_x - xi^(x)_t_t, 0)],\n",
       "[ 3,                    Eq(2*k*xi^(t)_x - 2*xi^(x)_t, 0)],\n",
       "[ 4,    Eq(2*eta^(u)_t_u + k*xi^(t)_x_x - xi^(t)_t_t, 0)],\n",
       "[ 5,                  Eq(eta^(u)_t_t - eta^(u)_x_x*k, 0)],\n",
       "[ 6,                                   Eq(xi^(t)_u_u, 0)],\n",
       "[ 7,                                   Eq(xi^(x)_u_u, 0)],\n",
       "[ 8,                                     Eq(xi^(t)_u, 0)],\n",
       "[ 9,                                     Eq(xi^(x)_u, 0)],\n",
       "[10,                                  Eq(eta^(u)_u_u, 0)]])"
      ]
     },
     "execution_count": 18,
     "metadata": {},
     "output_type": "execute_result"
    }
   ],
   "source": [
    "sym_det_eqn(det_eqn, list_indep, list_dep, list_cte)"
   ]
  },
  {
   "cell_type": "code",
   "execution_count": null,
   "metadata": {},
   "outputs": [],
   "source": []
  }
 ],
 "metadata": {
  "kernelspec": {
   "display_name": "Python 3",
   "language": "python",
   "name": "python3"
  },
  "language_info": {
   "codemirror_mode": {
    "name": "ipython",
    "version": 3
   },
   "file_extension": ".py",
   "mimetype": "text/x-python",
   "name": "python",
   "nbconvert_exporter": "python",
   "pygments_lexer": "ipython3",
   "version": "3.8.8"
  }
 },
 "nbformat": 4,
 "nbformat_minor": 4
}
