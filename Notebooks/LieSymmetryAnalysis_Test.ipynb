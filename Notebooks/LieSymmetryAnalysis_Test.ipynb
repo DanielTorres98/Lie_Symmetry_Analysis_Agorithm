{
 "cells": [
  {
   "cell_type": "code",
   "execution_count": 1,
   "metadata": {},
   "outputs": [],
   "source": [
    "import sympy as sp\n",
    "import time\n",
    "from sympy import Derivative as D\n",
    "from utils.symbolic import (infinitesimals_generator, higher_infinitesimals_generator,\n",
    "                            group_operator, der_relabel, deriv_infts, subs_new_vars, Diff,\n",
    "                           sym_det_eqn)\n",
    "from utils.algebra import (str_to_dict, get_common_factors, get_det_eqns, str_eqn_to_dict_eqn, \n",
    "                            simplify_redundant_eqn)"
   ]
  },
  {
   "cell_type": "code",
   "execution_count": 2,
   "metadata": {},
   "outputs": [
    {
     "data": {
      "text/latex": [
       "$\\displaystyle - \\gamma \\frac{\\partial^{2}}{\\partial x^{2}} b{\\left(x,y,z,t \\right)} - \\gamma \\frac{\\partial^{2}}{\\partial y^{2}} b{\\left(x,y,z,t \\right)} + \\sigma \\frac{\\partial}{\\partial x} \\psi{\\left(x,y,z,t \\right)} \\frac{\\partial^{3}}{\\partial y^{3}} \\psi{\\left(x,y,z,t \\right)} + \\sigma \\frac{\\partial}{\\partial x} \\psi{\\left(x,y,z,t \\right)} \\frac{\\partial^{3}}{\\partial y\\partial x^{2}} \\psi{\\left(x,y,z,t \\right)} - \\sigma \\frac{\\partial^{3}}{\\partial x^{3}} \\psi{\\left(x,y,z,t \\right)} \\frac{\\partial}{\\partial y} \\psi{\\left(x,y,z,t \\right)} - \\sigma \\frac{\\partial}{\\partial y} \\psi{\\left(x,y,z,t \\right)} \\frac{\\partial^{3}}{\\partial x\\partial y^{2}} \\psi{\\left(x,y,z,t \\right)} + \\frac{\\partial}{\\partial t} b{\\left(x,y,z,t \\right)} + \\frac{\\partial}{\\partial x} b{\\left(x,y,z,t \\right)} \\frac{\\partial}{\\partial y} \\phi{\\left(x,y,z,t \\right)} - \\frac{\\partial}{\\partial y} b{\\left(x,y,z,t \\right)} \\frac{\\partial}{\\partial x} \\phi{\\left(x,y,z,t \\right)} + \\frac{\\partial}{\\partial x} \\psi{\\left(x,y,z,t \\right)} \\frac{\\partial}{\\partial y} w{\\left(x,y,z,t \\right)} - \\frac{\\partial}{\\partial y} \\psi{\\left(x,y,z,t \\right)} \\frac{\\partial}{\\partial x} w{\\left(x,y,z,t \\right)}$"
      ],
      "text/plain": [
       "-gamma*Derivative(b(x, y, z, t), (x, 2)) - gamma*Derivative(b(x, y, z, t), (y, 2)) + sigma*Derivative(psi(x, y, z, t), x)*Derivative(psi(x, y, z, t), (y, 3)) + sigma*Derivative(psi(x, y, z, t), x)*Derivative(psi(x, y, z, t), (x, 2), y) - sigma*Derivative(psi(x, y, z, t), (x, 3))*Derivative(psi(x, y, z, t), y) - sigma*Derivative(psi(x, y, z, t), y)*Derivative(psi(x, y, z, t), (y, 2), x) + Derivative(b(x, y, z, t), t) + Derivative(b(x, y, z, t), x)*Derivative(phi(x, y, z, t), y) - Derivative(b(x, y, z, t), y)*Derivative(phi(x, y, z, t), x) + Derivative(psi(x, y, z, t), x)*Derivative(w(x, y, z, t), y) - Derivative(psi(x, y, z, t), y)*Derivative(w(x, y, z, t), x)"
      ]
     },
     "execution_count": 2,
     "metadata": {},
     "output_type": "execute_result"
    }
   ],
   "source": [
    "x, y, z, t = sp.symbols('x y z t')\n",
    "phi = sp.Function('phi')(x, y, z, t)\n",
    "psi = sp.Function('psi')(x, y, z, t)\n",
    "b = sp.Function('b')(x, y, z, t)\n",
    "w = sp.Function('w')(x, y, z, t)\n",
    "sigma, gamma = sp.symbols('sigma gamma')\n",
    "list_indep = [x, y, z, t]\n",
    "list_dep = [phi, psi, b, w]\n",
    "list_var = list_indep + list_dep\n",
    "list_cte = [sigma, gamma]\n",
    "list_all = list_cte + list_indep + list_dep\n",
    "F =  D(b, t) + D(b, x)*D(phi, y) - D(b, y)*D(phi, x) + sigma*(D(psi, x)*(D(psi, x, x, y) + D(psi, y, y, y))-\n",
    "        D(psi, y)*(D(psi, x, x, x) + D(psi, y, y, x))) + D(psi, x)*D(w, y) - D(psi, y)*D(w, x) - gamma*(D(b,x,x) + D(b, y, y))\n",
    "F_rules_array = {D(psi, x, x, y): \n",
    "        - (sigma*D(psi, x))**(-1)*(D(b, t) + D(b, x)*D(phi, y) - D(b, y)*D(phi, x) \n",
    "        + D(psi, x)*D(w, y) - D(psi, y)*D(w, x) \n",
    "        - gamma*(D(b,x,x) + D(b, y, y)))\n",
    "        +(D(psi, x))**(-1)*D(psi, y)*(D(psi, x, x, x) + D(psi, y, y, x))\n",
    "        - D(psi, y, y, y)}\n",
    "order = 3\n",
    "F.expand()"
   ]
  },
  {
   "cell_type": "code",
   "execution_count": 3,
   "metadata": {},
   "outputs": [
    {
     "data": {
      "text/latex": [
       "$\\displaystyle x v{\\left(x,t \\right)} + \\frac{\\partial}{\\partial t} u{\\left(x,t \\right)} - \\frac{\\partial^{2}}{\\partial x^{2}} u{\\left(x,t \\right)} + \\frac{\\partial}{\\partial t} v{\\left(x,t \\right)}$"
      ],
      "text/plain": [
       "x*v(x, t) + Derivative(u(x, t), t) - Derivative(u(x, t), (x, 2)) + Derivative(v(x, t), t)"
      ]
     },
     "execution_count": 3,
     "metadata": {},
     "output_type": "execute_result"
    }
   ],
   "source": [
    "x, t = sp.symbols('x t')\n",
    "u = sp.Function('u')(x, t)\n",
    "v = sp.Function('v')(x, t)\n",
    "list_indep = [x, t]\n",
    "list_dep = [u, v]\n",
    "list_var = list_indep + list_dep\n",
    "list_cte = []\n",
    "list_all = list_cte + list_indep + list_dep\n",
    "F =  D(u,t) - D(u,x,x) +D(v,t) + x*v\n",
    "F_rules_array = {D(u,x,x):D(u,t)+D(v,t)+x*v}\n",
    "order = 2\n",
    "F.expand()"
   ]
  },
  {
   "cell_type": "code",
   "execution_count": 2,
   "metadata": {},
   "outputs": [
    {
     "data": {
      "text/latex": [
       "$\\displaystyle \\frac{\\partial}{\\partial t} u{\\left(x,t \\right)} - \\frac{\\partial^{2}}{\\partial x^{2}} u{\\left(x,t \\right)}$"
      ],
      "text/plain": [
       "Derivative(u(x, t), t) - Derivative(u(x, t), (x, 2))"
      ]
     },
     "execution_count": 2,
     "metadata": {},
     "output_type": "execute_result"
    }
   ],
   "source": [
    "x, t = sp.symbols('x t')\n",
    "u = sp.Function('u')(x, t)\n",
    "list_indep = [x, t]\n",
    "list_dep = [u]\n",
    "list_var = list_indep + list_dep\n",
    "list_cte = []\n",
    "list_all = list_cte + list_indep + list_dep\n",
    "F =  D(u,t) - D(u,x,x)\n",
    "F_rules_array = {D(u,x,x):D(u,t)}\n",
    "order = 2\n",
    "F.expand()"
   ]
  },
  {
   "cell_type": "code",
   "execution_count": 3,
   "metadata": {},
   "outputs": [
    {
     "name": "stdout",
     "output_type": "stream",
     "text": [
      "0.0009968280792236328\n"
     ]
    }
   ],
   "source": [
    "t = time.time()\n",
    "infts = infinitesimals_generator(list_indep, list_dep)\n",
    "n_indep = len(list_indep)\n",
    "n_dep = len(list_dep)\n",
    "infts_ind = infts[0:n_indep]\n",
    "infts_dep = infts[n_indep:(n_dep + n_indep )]\n",
    "elapsed = time.time() - t\n",
    "print(elapsed)"
   ]
  },
  {
   "cell_type": "code",
   "execution_count": 4,
   "metadata": {},
   "outputs": [
    {
     "name": "stdout",
     "output_type": "stream",
     "text": [
      "0.38596630096435547\n"
     ]
    }
   ],
   "source": [
    "t = time.time()\n",
    "inft_derivatives, dep_vars_derivatives = higher_infinitesimals_generator(infts_ind, infts_dep,\n",
    "                                                                            order, list_indep, list_dep)\n",
    "infts_dummy = [item for sublist in inft_derivatives for item in sublist]\n",
    "dep_vars_derivatives = [item for sublist in dep_vars_derivatives for item in sublist]\n",
    "infts = infts + infts_dummy\n",
    "elapsed = time.time() - t\n",
    "print(elapsed)"
   ]
  },
  {
   "cell_type": "code",
   "execution_count": 5,
   "metadata": {},
   "outputs": [
    {
     "name": "stdout",
     "output_type": "stream",
     "text": [
      "0.000997781753540039\n"
     ]
    }
   ],
   "source": [
    "t = time.time()\n",
    "F, deriv_names = der_relabel(dep_vars_derivatives, F)\n",
    "\n",
    "vars_and_derivatives = list_indep + list_dep + deriv_names\n",
    "elapsed = time.time() - t\n",
    "print(elapsed)"
   ]
  },
  {
   "cell_type": "code",
   "execution_count": 6,
   "metadata": {},
   "outputs": [
    {
     "name": "stdout",
     "output_type": "stream",
     "text": [
      "1.497368574142456\n"
     ]
    }
   ],
   "source": [
    "t = time.time()\n",
    "XF = group_operator(F, vars_and_derivatives, infts) # Es la que mas se tarda\n",
    "elapsed = time.time() - t\n",
    "print(elapsed)"
   ]
  },
  {
   "cell_type": "code",
   "execution_count": 7,
   "metadata": {},
   "outputs": [
    {
     "name": "stdout",
     "output_type": "stream",
     "text": [
      "0.0019948482513427734\n"
     ]
    }
   ],
   "source": [
    "t = time.time()\n",
    "XF = subs_new_vars(dep_vars_derivatives, deriv_names, XF)\n",
    "elapsed = time.time() - t\n",
    "print(elapsed)"
   ]
  },
  {
   "cell_type": "code",
   "execution_count": 8,
   "metadata": {},
   "outputs": [
    {
     "name": "stdout",
     "output_type": "stream",
     "text": [
      "0.002990245819091797\n"
     ]
    }
   ],
   "source": [
    "t = time.time()\n",
    "XF = XF.xreplace(F_rules_array)\n",
    "elapsed = time.time() - t\n",
    "print(elapsed)"
   ]
  },
  {
   "cell_type": "code",
   "execution_count": 9,
   "metadata": {},
   "outputs": [
    {
     "name": "stdout",
     "output_type": "stream",
     "text": [
      "0.019945383071899414\n"
     ]
    }
   ],
   "source": [
    "t = time.time()\n",
    "empty_det_eqn = get_common_factors(XF, list_dep, list_indep)\n",
    "elapsed = time.time() - t\n",
    "print(elapsed)"
   ]
  },
  {
   "cell_type": "code",
   "execution_count": 10,
   "metadata": {},
   "outputs": [
    {
     "name": "stdout",
     "output_type": "stream",
     "text": [
      "0.0049860477447509766\n"
     ]
    }
   ],
   "source": [
    "t = time.time()\n",
    "det_eqn = get_det_eqns(XF, empty_det_eqn)\n",
    "elapsed = time.time() - t\n",
    "print(elapsed)"
   ]
  },
  {
   "cell_type": "code",
   "execution_count": 11,
   "metadata": {},
   "outputs": [
    {
     "data": {
      "text/plain": [
       "{'Derivative(u(x,t),t)*Derivative(u(x,t),x)^2': ['+Derivative(xit(x,t,u(x,t)),(u(x,t),2))'],\n",
       " 'Derivative(u(x,t),t)*Derivative(u(x,t),x)': ['+2*Derivative(xix(x,t,u(x,t)),u(x,t))',\n",
       "  '+Subs(Derivative(xit(_xi_1,t,u(x,t)),_xi_1,u(x,t)),_xi_1,x)',\n",
       "  '+Subs(Derivative(xit(x,t,_xi),_xi,x),_xi,u(x,t))'],\n",
       " 'Derivative(u(x,t),t)': ['+Subs(Derivative(xit(_xi_1,t,u(x,t)),(_xi_1,2)),_xi_1,x)',\n",
       "  '-Subs(Derivative(xit(x,_xi_2,u(x,t)),_xi_2),_xi_2,t)',\n",
       "  '+2*Subs(Derivative(xix(_xi_1,t,u(x,t)),_xi_1),_xi_1,x)'],\n",
       " 'Derivative(u(x,t),x)^3': ['+Derivative(xix(x,t,u(x,t)),(u(x,t),2))'],\n",
       " 'Derivative(u(x,t),x)*Derivative(u(x,t),t,x)': ['+2*Derivative(xit(x,t,u(x,t)),u(x,t))'],\n",
       " 'Derivative(u(x,t),t,x)': ['+2*Subs(Derivative(xit(_xi_1,t,u(x,t)),_xi_1),_xi_1,x)'],\n",
       " 'Derivative(u(x,t),x)^2': ['-Derivative(etau(x,t,u(x,t)),(u(x,t),2))',\n",
       "  '+Subs(Derivative(xix(_xi_1,t,u(x,t)),_xi_1,u(x,t)),_xi_1,x)',\n",
       "  '+Subs(Derivative(xix(x,t,_xi),_xi,x),_xi,u(x,t))'],\n",
       " 'Derivative(u(x,t),x)': ['+Subs(Derivative(xix(_xi_1,t,u(x,t)),(_xi_1,2)),_xi_1,x)',\n",
       "  '-Subs(Derivative(xix(x,_xi_2,u(x,t)),_xi_2),_xi_2,t)',\n",
       "  '-Subs(Derivative(etau(_xi_1,t,u(x,t)),_xi_1,u(x,t)),_xi_1,x)',\n",
       "  '-Subs(Derivative(etau(x,t,_xi),_xi,x),_xi,u(x,t))'],\n",
       " 'lonely_terms': ['-Subs(Derivative(etau(_xi_1,t,u(x,t)),(_xi_1,2)),_xi_1,x)',\n",
       "  '+Subs(Derivative(etau(x,_xi_2,u(x,t)),_xi_2),_xi_2,t)']}"
      ]
     },
     "execution_count": 11,
     "metadata": {},
     "output_type": "execute_result"
    }
   ],
   "source": [
    "det_eqn"
   ]
  },
  {
   "cell_type": "code",
   "execution_count": 12,
   "metadata": {},
   "outputs": [
    {
     "name": "stdout",
     "output_type": "stream",
     "text": [
      "['+Derivative(xit(x,t,u(x,t)),(u(x,t),2))']\n",
      "['+2*Derivative(xix(x,t,u(x,t)),u(x,t))', '+Subs(Derivative(xit(_xi_1,t,u(x,t)),_xi_1,u(x,t)),_xi_1,x)', '+Subs(Derivative(xit(x,t,_xi),_xi,x),_xi,u(x,t))']\n"
     ]
    },
    {
     "ename": "SympifyError",
     "evalue": "Sympify of expression 'could not parse 'Derivative(xit(x, t, _xi), _xi, x), _xi, t, t)'' failed, because of exception being raised:\nTokenError: ('EOF in multi-line statement', (2, 0))",
     "output_type": "error",
     "traceback": [
      "\u001b[1;31m---------------------------------------------------------------------------\u001b[0m",
      "\u001b[1;31mTokenError\u001b[0m                                Traceback (most recent call last)",
      "\u001b[1;32m~\\Anaconda3\\lib\\site-packages\\sympy\\core\\sympify.py\u001b[0m in \u001b[0;36msympify\u001b[1;34m(a, locals, convert_xor, strict, rational, evaluate)\u001b[0m\n\u001b[0;32m    478\u001b[0m         \u001b[0ma\u001b[0m \u001b[1;33m=\u001b[0m \u001b[0ma\u001b[0m\u001b[1;33m.\u001b[0m\u001b[0mreplace\u001b[0m\u001b[1;33m(\u001b[0m\u001b[1;34m'\\n'\u001b[0m\u001b[1;33m,\u001b[0m \u001b[1;34m''\u001b[0m\u001b[1;33m)\u001b[0m\u001b[1;33m\u001b[0m\u001b[1;33m\u001b[0m\u001b[0m\n\u001b[1;32m--> 479\u001b[1;33m         \u001b[0mexpr\u001b[0m \u001b[1;33m=\u001b[0m \u001b[0mparse_expr\u001b[0m\u001b[1;33m(\u001b[0m\u001b[0ma\u001b[0m\u001b[1;33m,\u001b[0m \u001b[0mlocal_dict\u001b[0m\u001b[1;33m=\u001b[0m\u001b[0mlocals\u001b[0m\u001b[1;33m,\u001b[0m \u001b[0mtransformations\u001b[0m\u001b[1;33m=\u001b[0m\u001b[0mtransformations\u001b[0m\u001b[1;33m,\u001b[0m \u001b[0mevaluate\u001b[0m\u001b[1;33m=\u001b[0m\u001b[0mevaluate\u001b[0m\u001b[1;33m)\u001b[0m\u001b[1;33m\u001b[0m\u001b[1;33m\u001b[0m\u001b[0m\n\u001b[0m\u001b[0;32m    480\u001b[0m     \u001b[1;32mexcept\u001b[0m \u001b[1;33m(\u001b[0m\u001b[0mTokenError\u001b[0m\u001b[1;33m,\u001b[0m \u001b[0mSyntaxError\u001b[0m\u001b[1;33m)\u001b[0m \u001b[1;32mas\u001b[0m \u001b[0mexc\u001b[0m\u001b[1;33m:\u001b[0m\u001b[1;33m\u001b[0m\u001b[1;33m\u001b[0m\u001b[0m\n",
      "\u001b[1;32m~\\Anaconda3\\lib\\site-packages\\sympy\\parsing\\sympy_parser.py\u001b[0m in \u001b[0;36mparse_expr\u001b[1;34m(s, local_dict, transformations, global_dict, evaluate)\u001b[0m\n\u001b[0;32m   1009\u001b[0m                     takes 3 arguments'''))\n\u001b[1;32m-> 1010\u001b[1;33m     \u001b[0mcode\u001b[0m \u001b[1;33m=\u001b[0m \u001b[0mstringify_expr\u001b[0m\u001b[1;33m(\u001b[0m\u001b[0ms\u001b[0m\u001b[1;33m,\u001b[0m \u001b[0mlocal_dict\u001b[0m\u001b[1;33m,\u001b[0m \u001b[0mglobal_dict\u001b[0m\u001b[1;33m,\u001b[0m \u001b[0mtransformations\u001b[0m\u001b[1;33m)\u001b[0m\u001b[1;33m\u001b[0m\u001b[1;33m\u001b[0m\u001b[0m\n\u001b[0m\u001b[0;32m   1011\u001b[0m \u001b[1;33m\u001b[0m\u001b[0m\n",
      "\u001b[1;32m~\\Anaconda3\\lib\\site-packages\\sympy\\parsing\\sympy_parser.py\u001b[0m in \u001b[0;36mstringify_expr\u001b[1;34m(s, local_dict, global_dict, transformations)\u001b[0m\n\u001b[0;32m    894\u001b[0m     \u001b[0minput_code\u001b[0m \u001b[1;33m=\u001b[0m \u001b[0mStringIO\u001b[0m\u001b[1;33m(\u001b[0m\u001b[0ms\u001b[0m\u001b[1;33m.\u001b[0m\u001b[0mstrip\u001b[0m\u001b[1;33m(\u001b[0m\u001b[1;33m)\u001b[0m\u001b[1;33m)\u001b[0m\u001b[1;33m\u001b[0m\u001b[1;33m\u001b[0m\u001b[0m\n\u001b[1;32m--> 895\u001b[1;33m     \u001b[1;32mfor\u001b[0m \u001b[0mtoknum\u001b[0m\u001b[1;33m,\u001b[0m \u001b[0mtokval\u001b[0m\u001b[1;33m,\u001b[0m \u001b[0m_\u001b[0m\u001b[1;33m,\u001b[0m \u001b[0m_\u001b[0m\u001b[1;33m,\u001b[0m \u001b[0m_\u001b[0m \u001b[1;32min\u001b[0m \u001b[0mgenerate_tokens\u001b[0m\u001b[1;33m(\u001b[0m\u001b[0minput_code\u001b[0m\u001b[1;33m.\u001b[0m\u001b[0mreadline\u001b[0m\u001b[1;33m)\u001b[0m\u001b[1;33m:\u001b[0m\u001b[1;33m\u001b[0m\u001b[1;33m\u001b[0m\u001b[0m\n\u001b[0m\u001b[0;32m    896\u001b[0m         \u001b[0mtokens\u001b[0m\u001b[1;33m.\u001b[0m\u001b[0mappend\u001b[0m\u001b[1;33m(\u001b[0m\u001b[1;33m(\u001b[0m\u001b[0mtoknum\u001b[0m\u001b[1;33m,\u001b[0m \u001b[0mtokval\u001b[0m\u001b[1;33m)\u001b[0m\u001b[1;33m)\u001b[0m\u001b[1;33m\u001b[0m\u001b[1;33m\u001b[0m\u001b[0m\n",
      "\u001b[1;32m~\\Anaconda3\\lib\\tokenize.py\u001b[0m in \u001b[0;36m_tokenize\u001b[1;34m(readline, encoding)\u001b[0m\n\u001b[0;32m    520\u001b[0m             \u001b[1;32mif\u001b[0m \u001b[1;32mnot\u001b[0m \u001b[0mline\u001b[0m\u001b[1;33m:\u001b[0m\u001b[1;33m\u001b[0m\u001b[1;33m\u001b[0m\u001b[0m\n\u001b[1;32m--> 521\u001b[1;33m                 \u001b[1;32mraise\u001b[0m \u001b[0mTokenError\u001b[0m\u001b[1;33m(\u001b[0m\u001b[1;34m\"EOF in multi-line statement\"\u001b[0m\u001b[1;33m,\u001b[0m \u001b[1;33m(\u001b[0m\u001b[0mlnum\u001b[0m\u001b[1;33m,\u001b[0m \u001b[1;36m0\u001b[0m\u001b[1;33m)\u001b[0m\u001b[1;33m)\u001b[0m\u001b[1;33m\u001b[0m\u001b[1;33m\u001b[0m\u001b[0m\n\u001b[0m\u001b[0;32m    522\u001b[0m             \u001b[0mcontinued\u001b[0m \u001b[1;33m=\u001b[0m \u001b[1;36m0\u001b[0m\u001b[1;33m\u001b[0m\u001b[1;33m\u001b[0m\u001b[0m\n",
      "\u001b[1;31mTokenError\u001b[0m: ('EOF in multi-line statement', (2, 0))",
      "\nDuring handling of the above exception, another exception occurred:\n",
      "\u001b[1;31mSympifyError\u001b[0m                              Traceback (most recent call last)",
      "\u001b[1;32m<ipython-input-12-1a19b30fe315>\u001b[0m in \u001b[0;36m<module>\u001b[1;34m\u001b[0m\n\u001b[0;32m      1\u001b[0m \u001b[0mt\u001b[0m \u001b[1;33m=\u001b[0m \u001b[0mtime\u001b[0m\u001b[1;33m.\u001b[0m\u001b[0mtime\u001b[0m\u001b[1;33m(\u001b[0m\u001b[1;33m)\u001b[0m\u001b[1;33m\u001b[0m\u001b[1;33m\u001b[0m\u001b[0m\n\u001b[1;32m----> 2\u001b[1;33m \u001b[0mdet_eqn\u001b[0m \u001b[1;33m=\u001b[0m \u001b[0mstr_eqn_to_dict_eqn\u001b[0m\u001b[1;33m(\u001b[0m\u001b[0mdet_eqn\u001b[0m\u001b[1;33m,\u001b[0m \u001b[0mlist_var\u001b[0m\u001b[1;33m,\u001b[0m \u001b[0mlist_all\u001b[0m\u001b[1;33m)\u001b[0m\u001b[1;33m\u001b[0m\u001b[1;33m\u001b[0m\u001b[0m\n\u001b[0m\u001b[0;32m      3\u001b[0m \u001b[0melapsed\u001b[0m \u001b[1;33m=\u001b[0m \u001b[0mtime\u001b[0m\u001b[1;33m.\u001b[0m\u001b[0mtime\u001b[0m\u001b[1;33m(\u001b[0m\u001b[1;33m)\u001b[0m \u001b[1;33m-\u001b[0m \u001b[0mt\u001b[0m\u001b[1;33m\u001b[0m\u001b[1;33m\u001b[0m\u001b[0m\n\u001b[0;32m      4\u001b[0m \u001b[0mprint\u001b[0m\u001b[1;33m(\u001b[0m\u001b[0melapsed\u001b[0m\u001b[1;33m)\u001b[0m\u001b[1;33m\u001b[0m\u001b[1;33m\u001b[0m\u001b[0m\n",
      "\u001b[1;32m~\\Documents\\New folder\\Lie_Symmetry_Analysis_Agorithm\\Notebooks\\utils\\algebra.py\u001b[0m in \u001b[0;36mstr_eqn_to_dict_eqn\u001b[1;34m(dict_det_eqn, list_var, list_all)\u001b[0m\n\u001b[0;32m    197\u001b[0m             term = {\"coefficient\": 1, \"constants\": None,\n\u001b[0;32m    198\u001b[0m                     \"derivatives\": None, \"variable\": None}\n\u001b[1;32m--> 199\u001b[1;33m             aux_list.append(str_to_dict(sp.sympify(str_term), term, arr_pow,\n\u001b[0m\u001b[0;32m    200\u001b[0m                   arr_deriv, np.array(list_all), np.array(list_var)))\n\u001b[0;32m    201\u001b[0m         \u001b[0mdet_eqn\u001b[0m\u001b[1;33m.\u001b[0m\u001b[0mappend\u001b[0m\u001b[1;33m(\u001b[0m\u001b[0maux_list\u001b[0m\u001b[1;33m)\u001b[0m\u001b[1;33m\u001b[0m\u001b[1;33m\u001b[0m\u001b[0m\n",
      "\u001b[1;32m~\\Documents\\New folder\\Lie_Symmetry_Analysis_Agorithm\\Notebooks\\utils\\algebra.py\u001b[0m in \u001b[0;36mstr_to_dict\u001b[1;34m(f, term, arr_pow, arr_deriv, list_all, list_var)\u001b[0m\n\u001b[0;32m    244\u001b[0m             \u001b[0msubs_t\u001b[0m \u001b[1;33m=\u001b[0m \u001b[0mre\u001b[0m\u001b[1;33m.\u001b[0m\u001b[0msplit\u001b[0m\u001b[1;33m(\u001b[0m\u001b[1;34m',|\\.'\u001b[0m\u001b[1;33m,\u001b[0m \u001b[0ms\u001b[0m\u001b[1;33m)\u001b[0m\u001b[1;33m[\u001b[0m\u001b[1;33m-\u001b[0m\u001b[1;36m1\u001b[0m\u001b[1;33m]\u001b[0m\u001b[1;33m.\u001b[0m\u001b[0mstrip\u001b[0m\u001b[1;33m(\u001b[0m\u001b[1;34m')'\u001b[0m\u001b[1;33m)\u001b[0m\u001b[1;33m\u001b[0m\u001b[1;33m\u001b[0m\u001b[0m\n\u001b[0;32m    245\u001b[0m             \u001b[0ms\u001b[0m \u001b[1;33m=\u001b[0m \u001b[0ms\u001b[0m\u001b[1;33m.\u001b[0m\u001b[0mreplace\u001b[0m\u001b[1;33m(\u001b[0m\u001b[0msubs\u001b[0m\u001b[1;33m,\u001b[0m \u001b[0msubs_t\u001b[0m\u001b[1;33m)\u001b[0m\u001b[1;33m\u001b[0m\u001b[1;33m\u001b[0m\u001b[0m\n\u001b[1;32m--> 246\u001b[1;33m             \u001b[0mf\u001b[0m \u001b[1;33m=\u001b[0m \u001b[0msp\u001b[0m\u001b[1;33m.\u001b[0m\u001b[0msympify\u001b[0m\u001b[1;33m(\u001b[0m\u001b[0mparens\u001b[0m\u001b[1;33m(\u001b[0m\u001b[0ms\u001b[0m\u001b[1;33m)\u001b[0m\u001b[1;33m.\u001b[0m\u001b[0mstrip\u001b[0m\u001b[1;33m(\u001b[0m\u001b[1;34m'('\u001b[0m\u001b[1;33m)\u001b[0m\u001b[1;33m)\u001b[0m\u001b[1;33m\u001b[0m\u001b[1;33m\u001b[0m\u001b[0m\n\u001b[0m\u001b[0;32m    247\u001b[0m \u001b[1;33m\u001b[0m\u001b[0m\n\u001b[0;32m    248\u001b[0m         \u001b[1;32mif\u001b[0m \u001b[0mf\u001b[0m\u001b[1;33m.\u001b[0m\u001b[0mis_Derivative\u001b[0m\u001b[1;33m:\u001b[0m\u001b[1;33m\u001b[0m\u001b[1;33m\u001b[0m\u001b[0m\n",
      "\u001b[1;32m~\\Anaconda3\\lib\\site-packages\\sympy\\core\\sympify.py\u001b[0m in \u001b[0;36msympify\u001b[1;34m(a, locals, convert_xor, strict, rational, evaluate)\u001b[0m\n\u001b[0;32m    479\u001b[0m         \u001b[0mexpr\u001b[0m \u001b[1;33m=\u001b[0m \u001b[0mparse_expr\u001b[0m\u001b[1;33m(\u001b[0m\u001b[0ma\u001b[0m\u001b[1;33m,\u001b[0m \u001b[0mlocal_dict\u001b[0m\u001b[1;33m=\u001b[0m\u001b[0mlocals\u001b[0m\u001b[1;33m,\u001b[0m \u001b[0mtransformations\u001b[0m\u001b[1;33m=\u001b[0m\u001b[0mtransformations\u001b[0m\u001b[1;33m,\u001b[0m \u001b[0mevaluate\u001b[0m\u001b[1;33m=\u001b[0m\u001b[0mevaluate\u001b[0m\u001b[1;33m)\u001b[0m\u001b[1;33m\u001b[0m\u001b[1;33m\u001b[0m\u001b[0m\n\u001b[0;32m    480\u001b[0m     \u001b[1;32mexcept\u001b[0m \u001b[1;33m(\u001b[0m\u001b[0mTokenError\u001b[0m\u001b[1;33m,\u001b[0m \u001b[0mSyntaxError\u001b[0m\u001b[1;33m)\u001b[0m \u001b[1;32mas\u001b[0m \u001b[0mexc\u001b[0m\u001b[1;33m:\u001b[0m\u001b[1;33m\u001b[0m\u001b[1;33m\u001b[0m\u001b[0m\n\u001b[1;32m--> 481\u001b[1;33m         \u001b[1;32mraise\u001b[0m \u001b[0mSympifyError\u001b[0m\u001b[1;33m(\u001b[0m\u001b[1;34m'could not parse %r'\u001b[0m \u001b[1;33m%\u001b[0m \u001b[0ma\u001b[0m\u001b[1;33m,\u001b[0m \u001b[0mexc\u001b[0m\u001b[1;33m)\u001b[0m\u001b[1;33m\u001b[0m\u001b[1;33m\u001b[0m\u001b[0m\n\u001b[0m\u001b[0;32m    482\u001b[0m \u001b[1;33m\u001b[0m\u001b[0m\n\u001b[0;32m    483\u001b[0m     \u001b[1;32mreturn\u001b[0m \u001b[0mexpr\u001b[0m\u001b[1;33m\u001b[0m\u001b[1;33m\u001b[0m\u001b[0m\n",
      "\u001b[1;31mSympifyError\u001b[0m: Sympify of expression 'could not parse 'Derivative(xit(x, t, _xi), _xi, x), _xi, t, t)'' failed, because of exception being raised:\nTokenError: ('EOF in multi-line statement', (2, 0))"
     ]
    }
   ],
   "source": [
    "t = time.time()\n",
    "det_eqn = str_eqn_to_dict_eqn(det_eqn, list_var, list_all)\n",
    "elapsed = time.time() - t\n",
    "print(elapsed)"
   ]
  },
  {
   "cell_type": "code",
   "execution_count": null,
   "metadata": {},
   "outputs": [],
   "source": [
    "'Derivative(xit(x, t, _xi), _xi, x), _xi, t, t)'"
   ]
  },
  {
   "cell_type": "code",
   "execution_count": 13,
   "metadata": {},
   "outputs": [
    {
     "name": "stdout",
     "output_type": "stream",
     "text": [
      "0.0029914379119873047\n"
     ]
    }
   ],
   "source": [
    "t = time.time()\n",
    "det_eqn = simplify_redundant_eqn(det_eqn)\n",
    "elapsed = time.time() - t\n",
    "print(elapsed)"
   ]
  },
  {
   "cell_type": "code",
   "execution_count": 14,
   "metadata": {},
   "outputs": [
    {
     "name": "stdout",
     "output_type": "stream",
     "text": [
      "0.03416037559509277\n"
     ]
    }
   ],
   "source": [
    "t = time.time()\n",
    "sym_det_eqn(det_eqn, list_indep, list_dep, list_cte)\n",
    "elapsed = time.time() - t\n",
    "print(elapsed)"
   ]
  },
  {
   "cell_type": "code",
   "execution_count": 15,
   "metadata": {},
   "outputs": [
    {
     "data": {
      "text/latex": [
       "$\\displaystyle \\left[\\begin{matrix}1 & \\xi^{(t)}_{u u} = 0\\\\2 & \\xi^{(t)}_{u v} = 0\\\\3 & 2 \\xi^{(t)}_{x u} + 2 \\xi^{(x)}_{u} = 0\\\\4 & \\xi^{(t)}_{v} = 0\\\\5 & - \\xi^{(x)}_{u} + 2 \\xi^{(x)}_{v} = 0\\\\6 & \\xi^{(x)}_{u u} = 0\\\\7 & \\xi^{(x)}_{u v} = 0\\\\8 & 3 \\xi^{(x)}_{u} - \\xi^{(x)}_{v} = 0\\\\9 & \\xi^{(x)}_{v v} = 0\\\\10 & - 2 \\eta^{(u)}_{u v} + 2 \\xi^{(x)}_{x v} = 0\\\\11 & \\xi^{(x)}_{v} = 0\\\\12 & \\xi^{(t)}_{u} = 0\\\\13 & \\xi^{(t)}_{x} = 0\\\\14 & \\eta^{(v)}_{u} + \\xi^{(t)} - \\xi^{(t)}_{t} + 2 \\xi^{(x)}_{x} = 0\\\\15 & - \\eta^{(u)}_{u} + \\eta^{(u)}_{v} + \\eta^{(v)}_{v} + x \\xi^{(t)} - \\xi^{(t)}_{t} + 2 \\xi^{(x)}_{x} = 0\\\\16 & - \\eta^{(u)}_{u u} + 2 \\xi^{(x)}_{x u} = 0\\\\17 & \\eta^{(u)}_{v} = 0\\\\18 & - 2 \\eta^{(u)}_{x u} + 3 x \\xi^{(x)}_{u} v{\\left(x,t \\right)} + \\xi^{(x)} - \\xi^{(x)}_{t} = 0\\\\19 & x \\xi^{(x)} - \\xi^{(x)}_{t} = 0\\\\20 & - \\eta^{(u)} + \\eta^{(u)}_{t} - \\eta^{(u)}_{u} x v{\\left(x,t \\right)} + \\eta^{(v)} x + \\eta^{(v)}_{t} + 2 x \\xi^{(x)}_{x} v{\\left(x,t \\right)} + \\xi^{(x)} v{\\left(x,t \\right)} = 0\\end{matrix}\\right]$"
      ],
      "text/plain": [
       "Matrix([\n",
       "[ 1,                                                                                                 Eq(xi^(t)_u_u, 0)],\n",
       "[ 2,                                                                                                 Eq(xi^(t)_u_v, 0)],\n",
       "[ 3,                                                                                  Eq(2*xi^(t)_x_u + 2*xi^(x)_u, 0)],\n",
       "[ 4,                                                                                                   Eq(xi^(t)_v, 0)],\n",
       "[ 5,                                                                                     Eq(-xi^(x)_u + 2*xi^(x)_v, 0)],\n",
       "[ 6,                                                                                                 Eq(xi^(x)_u_u, 0)],\n",
       "[ 7,                                                                                                 Eq(xi^(x)_u_v, 0)],\n",
       "[ 8,                                                                                      Eq(3*xi^(x)_u - xi^(x)_v, 0)],\n",
       "[ 9,                                                                                                 Eq(xi^(x)_v_v, 0)],\n",
       "[10,                                                                              Eq(-2*eta^(u)_u_v + 2*xi^(x)_x_v, 0)],\n",
       "[11,                                                                                                   Eq(xi^(x)_v, 0)],\n",
       "[12,                                                                                                   Eq(xi^(t)_u, 0)],\n",
       "[13,                                                                                                   Eq(xi^(t)_x, 0)],\n",
       "[14,                                                                 Eq(eta^(v)_u + xi^(t) - xi^(t)_t + 2*xi^(x)_x, 0)],\n",
       "[15,                                      Eq(-eta^(u)_u + eta^(u)_v + eta^(v)_v + x*xi^(t) - xi^(t)_t + 2*xi^(x)_x, 0)],\n",
       "[16,                                                                                Eq(-eta^(u)_u_u + 2*xi^(x)_x_u, 0)],\n",
       "[17,                                                                                                  Eq(eta^(u)_v, 0)],\n",
       "[18,                                                  Eq(-2*eta^(u)_x_u + 3*x*xi^(x)_u*v(x, t) + xi^(x) - xi^(x)_t, 0)],\n",
       "[19,                                                                                        Eq(x*xi^(x) - xi^(x)_t, 0)],\n",
       "[20, Eq(-eta^(u) + eta^(u)_t - eta^(u)_u*x*v(x, t) + eta^(v)*x + eta^(v)_t + 2*x*xi^(x)_x*v(x, t) + xi^(x)*v(x, t), 0)]])"
      ]
     },
     "execution_count": 15,
     "metadata": {},
     "output_type": "execute_result"
    }
   ],
   "source": [
    "sym_det_eqn(det_eqn, list_indep, list_dep, list_cte)"
   ]
  },
  {
   "cell_type": "code",
   "execution_count": null,
   "metadata": {},
   "outputs": [],
   "source": []
  }
 ],
 "metadata": {
  "kernelspec": {
   "display_name": "Python 3",
   "language": "python",
   "name": "python3"
  },
  "language_info": {
   "codemirror_mode": {
    "name": "ipython",
    "version": 3
   },
   "file_extension": ".py",
   "mimetype": "text/x-python",
   "name": "python",
   "nbconvert_exporter": "python",
   "pygments_lexer": "ipython3",
   "version": "3.8.8"
  }
 },
 "nbformat": 4,
 "nbformat_minor": 4
}
